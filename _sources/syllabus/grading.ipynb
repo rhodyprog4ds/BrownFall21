{
 "cells": [
  {
   "cell_type": "markdown",
   "id": "27ca1455",
   "metadata": {},
   "source": [
    "# Grading\n",
    "\n",
    "This section of the syllabus describes the principles and mechanics of the grading for the course.\n",
    "This course will be graded on a basis of a set of *skills* (described in detail the next section of the syllabus). This is in contrast to more common grading on a basis of points earned through assignments."
   ]
  },
  {
   "cell_type": "markdown",
   "id": "c3bbb44e",
   "metadata": {},
   "source": [
    "## Principles of Grading\n",
    "\n",
    "Learning happens through practice and feedback. My goal as a teacher is for you to learn. The grading in this course is based on your learning of the material, rather than your completion of the activities that are assigned.\n",
    "\n",
    "\n",
    "This course is designed to encourage you to work steadily at learning the material and demonstrating your new knowledge. There are no single points of failure, where you lose points that cannot be recovered. Also, you cannot cram anything one time and then forget it. The material will build and you have to demonstrate that you retained things.\n",
    "\n",
    "- Earning a C in this class means you have a general understanding of Data Science and could participate in a basic conversation about all of the topics we cover. I expect everyone to reach this level.\n",
    "- Earning a B means that you could solve simple data science problems on your own and complete parts of more complex problems as instructed by, for example, a supervisor in an internship or entry level job. This is a very accessible goal, it does not require you to get anything on the first try or to explore topics on your own. I expect most students to reach this level.\n",
    "- Earning an A means that you could solve moderately complex problems independently and discus the quality of others' data science solutions. This class will be challenging, it requires you to explore topics a little deeper than we cover them in class, but unlike typical grading it does not require all of your assignments to be near perfect.\n",
    "<!-- Earning an A  -->\n",
    "\n",
    "\n",
    "\n",
    "Grading this way also is more amenable to the fact that there are correct and incorrect ways to do things, but there is not always a single correct answer to a realistic data science problem. Your work will be assessed on whether or not it demonstrates your learning of the targeted skills. You will also receive feedback on how to improve."
   ]
  },
  {
   "cell_type": "markdown",
   "id": "8674b78f",
   "metadata": {},
   "source": [
    "### How it works\n",
    "\n",
    "There are 15 skills that you will be graded on in this course.\n",
    "While learning these skills, you will work through a progression of learning.\n",
    "Your grade will be based on earning 45 achievements that are organized into 15 skill groups with 3 levels for each.\n",
    "\n",
    "These map onto letter grades roughly as follows:\n",
    "  - If you achieve level 1 in all of the skills, you will earn at least a C in the course.\n",
    "  - To earn a B, you must earn all of the level 1 and level 2 achievements.\n",
    "  - To earn an A, you must earn all of the achievements.\n",
    "\n",
    "You will have at least three opportunities to earn every level 2 achievement.\n",
    "You will have at least two opportunities to earn every level 3 achievement.\n",
    "You will have three *types* of opportunities to demonstrate your current skill level: participation, assignments, and a portfolio.\n",
    "\n",
    "\n",
    "Each level of achievement corresponds to a phase in your learning of the skill:\n",
    "  - To earn level 1 achievements, you will need to demonstrate basic awareness of the required concepts and know approximately what to do, but you may need specific instructions of which things to do or to look up examples to modify every step of the way. You can earn level 1 achievements in class, assignments, or portfolio submissions.\n",
    "  - To earn level 2 achievements you will need to demonstrate understanding of the concepts and the ability to apply them with instruction after earning the level 1 achievement for that skill. You can earn level 2 achievements in assignments or portfolio submissions.\n",
    "  - To earn level 3 achievements you will be required to consistently execute each skill and demonstrate deep understanding of the course material, after achieving level 2 in that skill. You can earn level 3 achievements only through your portfolio submissions.\n",
    "\n",
    "For each skill these are defined in the [Achievement Definition Table](achievement-definitions)\n",
    "\n",
    "\n",
    "#### Participation\n",
    "\n",
    "While attending synchronous class sessions, there will be understanding checks and in class exercises.\n",
    "Completing in class exercises and correctly answering questions in class can earn level 1 achievements.\n",
    "In class questions will be administered through the classroom chat platform Prismia.chat; these records will be used to update your skill progression.\n",
    "You can also earn level 1 achievements from adding annotation to a section of the class notes.\n",
    "\n",
    "#### Assignments\n",
    "\n",
    "For your learning to progress and earn level 2 achievements, you must practice with the skills outside of class time.\n",
    "\n",
    "````{margin}\n",
    "```{warning}\n",
    "If you will skip an assignment, please accept the GitHub assignment and then close the Feedback pull request with a comment. This way we can make sure that you have support you need.\n",
    "```\n",
    "````\n",
    "\n",
    "Assignments will each evaluate certain skills. After your assignment is reviewed, you will get qualitative feedback on your work, and an assessment of your demonstration of the targeted skills.\n",
    "\n",
    "\n",
    "#### Portfolio Checks\n",
    "\n",
    "To earn level 3 achievements, you will build a portfolio consisting of reflections, challenge problems, and longer analyses over the course of the semester.\n",
    "You will submit your portfolio for review 4 times.\n",
    "The first two will cover the skills taught up until 1 week before the submission deadline.\n",
    "<!-- The first portfolio check will cover skills FIXME.\n",
    "The second portfolio check will cover skills FIXME. -->\n",
    "The third and fourth portfolio checks will cover all of the skills.\n",
    "The fourth will be due during finals. This means that, if you have achieved mastery of all of the skills by the 3rd portfolio check, you do not need to submit the fourth one.\n",
    "\n",
    "Portfolio prompts will be given throughout the class, some will be strucutred questions, others may be questions that arise in class, for which there is not time to answer.\n",
    "\n",
    "#### TLDR\n",
    "\n",
    "You *could* earn a C through in class participation alone, if you make nearly zero mistakes. To earn a B, you must complete assignments and participate in class. To earn an A you must participate, complete assignments, and build a portfolio."
   ]
  },
  {
   "cell_type": "markdown",
   "id": "e5f115fd",
   "metadata": {},
   "source": [
    "(grade:calculation)=\n",
    "### Detailed mechanics\n",
    "\n",
    "On Brightspace there are 45 Grade items that you will get a 0 or a 1 grade for. These will be revealed, so that you can view them as you have an opportunity to demonstrate each one.\n",
    "The table below shows the minimum number of skills at each level to earn each letter grade."
   ]
  },
  {
   "cell_type": "code",
   "execution_count": 1,
   "id": "2a2fcfd1",
   "metadata": {
    "tags": [
     "remove-input"
    ]
   },
   "outputs": [
    {
     "data": {
      "text/html": [
       "<div>\n",
       "<style scoped>\n",
       "    .dataframe tbody tr th:only-of-type {\n",
       "        vertical-align: middle;\n",
       "    }\n",
       "\n",
       "    .dataframe tbody tr th {\n",
       "        vertical-align: top;\n",
       "    }\n",
       "\n",
       "    .dataframe thead th {\n",
       "        text-align: right;\n",
       "    }\n",
       "</style>\n",
       "<table border=\"1\" class=\"dataframe\">\n",
       "  <thead>\n",
       "    <tr style=\"text-align: right;\">\n",
       "      <th></th>\n",
       "      <th>Level 3</th>\n",
       "      <th>Level 2</th>\n",
       "      <th>Level 1</th>\n",
       "    </tr>\n",
       "    <tr>\n",
       "      <th>letter grade</th>\n",
       "      <th></th>\n",
       "      <th></th>\n",
       "      <th></th>\n",
       "    </tr>\n",
       "  </thead>\n",
       "  <tbody>\n",
       "    <tr>\n",
       "      <th>A</th>\n",
       "      <td>15</td>\n",
       "      <td>15</td>\n",
       "      <td>15</td>\n",
       "    </tr>\n",
       "    <tr>\n",
       "      <th>A-</th>\n",
       "      <td>10</td>\n",
       "      <td>15</td>\n",
       "      <td>15</td>\n",
       "    </tr>\n",
       "    <tr>\n",
       "      <th>B+</th>\n",
       "      <td>5</td>\n",
       "      <td>15</td>\n",
       "      <td>15</td>\n",
       "    </tr>\n",
       "    <tr>\n",
       "      <th>B</th>\n",
       "      <td>0</td>\n",
       "      <td>15</td>\n",
       "      <td>15</td>\n",
       "    </tr>\n",
       "    <tr>\n",
       "      <th>B-</th>\n",
       "      <td>0</td>\n",
       "      <td>10</td>\n",
       "      <td>15</td>\n",
       "    </tr>\n",
       "    <tr>\n",
       "      <th>C+</th>\n",
       "      <td>0</td>\n",
       "      <td>5</td>\n",
       "      <td>15</td>\n",
       "    </tr>\n",
       "    <tr>\n",
       "      <th>C</th>\n",
       "      <td>0</td>\n",
       "      <td>0</td>\n",
       "      <td>15</td>\n",
       "    </tr>\n",
       "    <tr>\n",
       "      <th>C-</th>\n",
       "      <td>0</td>\n",
       "      <td>0</td>\n",
       "      <td>10</td>\n",
       "    </tr>\n",
       "    <tr>\n",
       "      <th>D+</th>\n",
       "      <td>0</td>\n",
       "      <td>0</td>\n",
       "      <td>5</td>\n",
       "    </tr>\n",
       "    <tr>\n",
       "      <th>D</th>\n",
       "      <td>0</td>\n",
       "      <td>0</td>\n",
       "      <td>3</td>\n",
       "    </tr>\n",
       "  </tbody>\n",
       "</table>\n",
       "</div>"
      ],
      "text/plain": [
       "              Level 3  Level 2  Level 1\n",
       "letter grade                           \n",
       "A                  15       15       15\n",
       "A-                 10       15       15\n",
       "B+                  5       15       15\n",
       "B                   0       15       15\n",
       "B-                  0       10       15\n",
       "C+                  0        5       15\n",
       "C                   0        0       15\n",
       "C-                  0        0       10\n",
       "D+                  0        0        5\n",
       "D                   0        0        3"
      ]
     },
     "execution_count": 1,
     "metadata": {},
     "output_type": "execute_result"
    }
   ],
   "source": [
    "import pandas as pd\n",
    "import numpy as np\n",
    "N = 15\n",
    "Nmaj = 10\n",
    "Nmin = 5\n",
    "\n",
    "grades = np.asarray(['A', 'A-','B+', 'B','B-', 'C+', 'C', 'C-', 'D+', 'D' ])\n",
    "skill_levels_cum = [[N, N,N],[Nmaj,N,N], [Nmin,N, N],\n",
    "                [0,N, N],[0,Nmaj,N], [ 0,Nmin,N]\n",
    "               , [0, 0,N],[0,0,Nmaj], [ 0, 0,Nmin],\n",
    "               [0,0,3]]\n",
    "\n",
    "grade_df = pd.DataFrame(data = skill_levels_cum,\n",
    "                        columns = ['Level 3','Level 2', 'Level 1'] )\n",
    "\n",
    "\n",
    "grade_df['letter grade'] = grades\n",
    "grade_df.set_index('letter grade')"
   ]
  },
  {
   "cell_type": "markdown",
   "id": "8fc4783c",
   "metadata": {},
   "source": [
    "````{margin}\n",
    "```{note}\n",
    "In this example, you will have also achieved level 1 on all of the skills, because it is a prerequisite to level 2.\n",
    "```\n",
    "````\n",
    "For example, if you achieve level 2 on all of the skills and level 3 on 7 skills, that will be a B+.\n",
    "\n",
    "\n",
    "If you achieve level 3 on 14 of the skills, but only level 1 on one of the skills, that will be a B-, because the minimum number of level 2 achievements for a B is 15. In this scenario the total number of achievements is 14 at level 3, 14 at level 2 and 15 at level 3, because you have to earn achievements within a skill in sequence.\n",
    "\n",
    "The letter grade can be computed as follows"
   ]
  },
  {
   "cell_type": "code",
   "execution_count": 2,
   "id": "ff070584",
   "metadata": {},
   "outputs": [],
   "source": [
    "def compute_grade(num_level1,num_level2,num_level3):\n",
    "    '''\n",
    "    Computes a grade for CSC/DSP310 from numbers of achievements at each level\n",
    "\n",
    "    Parameters:\n",
    "    ------------\n",
    "    num_level1 : int\n",
    "      number of level 1 achievements earned\n",
    "    num_level2 : int\n",
    "      number of level 2 achievements earned\n",
    "    num_level3 : int\n",
    "      number of level 3 achievements earned\n",
    "\n",
    "    Returns:\n",
    "    --------\n",
    "    letter_grade : string\n",
    "      letter grade with modifier (+/-)\n",
    "    '''\n",
    "    if num_level1 == 15:\n",
    "        if num_level2 == 15:\n",
    "            if num_level3 == 15:\n",
    "                grade = 'A'\n",
    "            elif num_level3 >= 10:\n",
    "                grade = 'A-'\n",
    "            elif num_level3 >=5:\n",
    "                grade = 'B+'\n",
    "            else:\n",
    "                grade = 'B'\n",
    "        elif num_level2 >=10:\n",
    "            grade = 'B-'\n",
    "        elif num_level2 >=5:\n",
    "            grade = 'C+'\n",
    "        else:\n",
    "            grade = 'C'\n",
    "    elif num_level1 >= 10:\n",
    "        grade = 'C-'\n",
    "    elif num_level1 >= 5:\n",
    "        grade = 'D+'\n",
    "    elif num_level1 >=3:\n",
    "        grade = 'D'\n",
    "    else:\n",
    "        grade = 'F'\n",
    "\n",
    "\n",
    "    return grade"
   ]
  },
  {
   "cell_type": "markdown",
   "id": "7cc78ee1",
   "metadata": {},
   "source": [
    "For example you can run the code like this in a cell to see the output"
   ]
  },
  {
   "cell_type": "code",
   "execution_count": 3,
   "id": "3ae6bcf8",
   "metadata": {},
   "outputs": [
    {
     "data": {
      "text/plain": [
       "'A'"
      ]
     },
     "execution_count": 3,
     "metadata": {},
     "output_type": "execute_result"
    }
   ],
   "source": [
    "compute_grade(15,15,15)"
   ]
  },
  {
   "cell_type": "code",
   "execution_count": 4,
   "id": "93fddcb1",
   "metadata": {},
   "outputs": [
    {
     "data": {
      "text/plain": [
       "'C-'"
      ]
     },
     "execution_count": 4,
     "metadata": {},
     "output_type": "execute_result"
    }
   ],
   "source": [
    "compute_grade(14,14,14)"
   ]
  },
  {
   "cell_type": "markdown",
   "id": "c22586eb",
   "metadata": {},
   "source": [
    "Or use `assert` to test it formally"
   ]
  },
  {
   "cell_type": "code",
   "execution_count": 5,
   "id": "d8c4f2d5",
   "metadata": {},
   "outputs": [],
   "source": [
    "assert compute_grade(14,14,14) == 'C-'"
   ]
  },
  {
   "cell_type": "code",
   "execution_count": 6,
   "id": "893b97aa",
   "metadata": {},
   "outputs": [],
   "source": [
    "assert compute_grade(15,15,15) == 'A'"
   ]
  },
  {
   "cell_type": "code",
   "execution_count": 7,
   "id": "cce8761b",
   "metadata": {},
   "outputs": [],
   "source": [
    "assert compute_grade(15,15,11) == 'A-'"
   ]
  },
  {
   "cell_type": "markdown",
   "id": "1f0afffe",
   "metadata": {},
   "source": [
    "### Late work\n",
    "\n",
    "````{margin}\n",
    "```{note}\n",
    "You may visit office hours to discuss assignments that you did not complete on time to get feedback and check your own understanding, but they will not count toward skill demonstration.\n",
    "```\n",
    "````\n",
    "Late assignments will not be graded.\n",
    "Every skill will be assessed through more than one assignment, so missing assignments occasionally not necessarily hurt your grade. If you do not submit any assignments that cover a given skill, you may earn the level 2 achievement in that skill through a portfolio check, but you will not be able to earn the level 3 achievement in that skill.\n",
    "If you submit work that is not complete, however, it will be assessed and receive feedback. Submitting pseudocode or code with errors and comments about what you have tried could earn a level 1 achievement.  Additionally, most assignments cover multiple skills, so partially completing the assignment may earn level 2 for one, but not all.  Submitting *something* even if it is not perfect is important to keeping conversation open and getting feedback and help continuously.  \n",
    "\n",
    "\n",
    "Building your Data Science Portfolio should be an ongoing process, where you commit work to your portfolio frequently. If something comes up and you cannot finish all that you would like assessed by the deadline, open an `Extension Request` issue on your repository.\n",
    "\n",
    "In this issue, include:\n",
    "1. A new deadline proposal\n",
    "1. What additional work you plan to add\n",
    "1. Why the extension is important to your learning\n",
    "1. Why the extension will not hinder your ability to complete the next assignment on time.\n",
    "\n",
    "This request should be no more than 7 sentences.\n",
    "\n",
    "\n",
    "Portfolio due dates will be announced well in advance and prompts for it will be released weekly.  You should spend some time working on it each week, applying what you've learned so far, from the feedback on previous assignments.  \n",
    "\n",
    "\n",
    "### Grading Examples\n",
    "\n",
    "\n",
    "If you always attend and get everything correct, you will earn and A and you won't need to submit the 4th portfolio check or assignment 13.\n",
    "\n",
    "#### Getting  an A Without Perfection\n",
    "\n",
    "\n",
    "![exampleA](../img/example_A.png)\n",
    "\n",
    "In this example the student made several mistakes, but still earned an A. This is the advantage to this grading scheme.\n",
    "For the `python`, `process`, and `classification` skills, the level 1 achievements were earned on assignments, not in class.\n",
    "For the `process` and `classification` skills, the level 2 achievements were not earned on assignments, only on portfolio checks, but they were earned on the first portfolio of those skills, so the level 3 achievements were earned on the second portfolio check for that skill.\n",
    "This student's fourth portfolio only demonstrated two skills: `optimize` and `unstructured`. It included only 1 analysis, a text analysis with optimizing the parameters of the model.\n",
    "Assignments 4 and 7 were both submitted, but didn't earn any achievements, the student got feedback though, that they were able to apply in later assignments to earn the achievements.\n",
    "The student missed class week 6 and chose to not submit assignment 6 and use week 7 to catch up.\n",
    "The student had too much work in another class and chose to skip assignment 8.\n",
    "The student tried assignment 12, but didn't finish it on time, so it was not graded, but the student visited office hours to understand and be sure to earn the level 2 `unstructured` achievement on assignment 13.\n",
    "\n",
    "\n",
    "#### Getting a B with minimal work\n",
    "\n",
    "![exampleBminimal](../img/example_B_easy.png)\n",
    "\n",
    "In this example, the student earned all level 1 achievements in class and all level 2 on assignments.\n",
    "This student was content with getting a B and chose to not submit a portfolio.\n",
    "\n",
    "#### Getting a B while having trouble\n",
    "\n",
    "![exampleBstruggle](../img/example_B_struggle.png)\n",
    "\n",
    "In this example, the student struggled to understand in class and on assignments. Assignments were submitted that showed some understanding, but all had some serious mistakes, so only level 1 achievements were earned from assignments.\n",
    "The student wanted to get a B and worked hard to get the level 2 achievements on the portfolio checks.\n",
    "\n",
    "\n",
    "## Ram Tokens\n",
    "\n",
    "Ram Tokens in this course will be used as a currency for extra effort.  You can earn Ram Tokens by doing work that supports your learning or class activities, but do not directly demonstrate achievements. You can spend Ram Tokens to get extra grading.  This will be mostly applicable to Portfolio Checks.  In Checks 3 & 4, some achievements will not be eligible for grading as per the [table](portfolioskills).  However, you can exchange Ram Tokens to make more achievements eligible for assessment.  This system rewards you for putting in consistent effort, even if it takes you many tries to understand a concept.\n",
    "\n",
    "To accumulate Ram Tokens, you submit a 'Deposit' to the [Ram Token Bank: http://drsmb.co/ramtoken](http://drsmb.co/ramtoken) with a link to what you did to earn a token. To apply Ram tokens for extra grading, submit the same form, with a link to the assignment and add the Ramtoken label to the Feedback PR."
   ]
  }
 ],
 "metadata": {
  "jupytext": {
   "text_representation": {
    "extension": ".md",
    "format_name": "myst",
    "format_version": 0.12,
    "jupytext_version": "1.6.0"
   }
  },
  "kernelspec": {
   "display_name": "Python 3",
   "language": "python",
   "name": "python3"
  },
  "language_info": {
   "codemirror_mode": {
    "name": "ipython",
    "version": 3
   },
   "file_extension": ".py",
   "mimetype": "text/x-python",
   "name": "python",
   "nbconvert_exporter": "python",
   "pygments_lexer": "ipython3",
   "version": "3.7.12"
  },
  "source_map": [
   12,
   19,
   37,
   99,
   107,
   128,
   142,
   189,
   192,
   196,
   198,
   202,
   206,
   210,
   215
  ]
 },
 "nbformat": 4,
 "nbformat_minor": 5
}