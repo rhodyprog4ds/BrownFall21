{
 "cells": [
  {
   "cell_type": "markdown",
   "id": "1658809e",
   "metadata": {},
   "source": [
    "# Course Communications"
   ]
  },
  {
   "cell_type": "code",
   "execution_count": 1,
   "id": "23020eb7",
   "metadata": {
    "tags": [
     "remove-input"
    ]
   },
   "outputs": [],
   "source": [
    "import pandas as pd\n",
    "from IPython.display import display, Markdown, HTML\n",
    "pd.set_option('display.max_colwidth', 0)\n",
    "df = pd.read_csv('../_data/communication.csv')\n",
    "\n",
    "help_df = pd.read_csv('../_data/help_hours.csv')"
   ]
  },
  {
   "cell_type": "markdown",
   "id": "22509b70",
   "metadata": {},
   "source": [
    "## Help Hours"
   ]
  },
  {
   "cell_type": "code",
   "execution_count": 2,
   "id": "22fd75ba",
   "metadata": {
    "tags": [
     "remove-input"
    ]
   },
   "outputs": [
    {
     "data": {
      "text/html": [
       "<style type=\"text/css\">\n",
       "</style>\n",
       "<table id=\"T_f7729_\">\n",
       "  <thead>\n",
       "    <tr>\n",
       "      <th class=\"col_heading level0 col0\" >Day</th>\n",
       "      <th class=\"col_heading level0 col1\" >Time</th>\n",
       "      <th class=\"col_heading level0 col2\" >Location</th>\n",
       "      <th class=\"col_heading level0 col3\" >Host</th>\n",
       "    </tr>\n",
       "  </thead>\n",
       "  <tbody>\n",
       "    <tr>\n",
       "      <td id=\"T_f7729_row0_col0\" class=\"data row0 col0\" >Monday</td>\n",
       "      <td id=\"T_f7729_row0_col1\" class=\"data row0 col1\" >9:30:00 AM-10:30 AM</td>\n",
       "      <td id=\"T_f7729_row0_col2\" class=\"data row0 col2\" >inperson Tyler Hall 140</td>\n",
       "      <td id=\"T_f7729_row0_col3\" class=\"data row0 col3\" >Chamudi</td>\n",
       "    </tr>\n",
       "    <tr>\n",
       "      <td id=\"T_f7729_row1_col0\" class=\"data row1 col0\" >Monday</td>\n",
       "      <td id=\"T_f7729_row1_col1\" class=\"data row1 col1\" >12:30:00 PM-2:00 PM</td>\n",
       "      <td id=\"T_f7729_row1_col2\" class=\"data row1 col2\" >inperson Tyler Hall 139</td>\n",
       "      <td id=\"T_f7729_row1_col3\" class=\"data row1 col3\" >Chamudi</td>\n",
       "    </tr>\n",
       "    <tr>\n",
       "      <td id=\"T_f7729_row2_col0\" class=\"data row2 col0\" >Tuesday</td>\n",
       "      <td id=\"T_f7729_row2_col1\" class=\"data row2 col1\" > 2:00 PM-3:00 PM</td>\n",
       "      <td id=\"T_f7729_row2_col2\" class=\"data row2 col2\" > gather.town</td>\n",
       "      <td id=\"T_f7729_row2_col3\" class=\"data row2 col3\" > Sarah</td>\n",
       "    </tr>\n",
       "    <tr>\n",
       "      <td id=\"T_f7729_row3_col0\" class=\"data row3 col0\" >Wednesday</td>\n",
       "      <td id=\"T_f7729_row3_col1\" class=\"data row3 col1\" >4:00:00 PM-5.00 PM </td>\n",
       "      <td id=\"T_f7729_row3_col2\" class=\"data row3 col2\" >inperson Tyler Hall 139</td>\n",
       "      <td id=\"T_f7729_row3_col3\" class=\"data row3 col3\" >Chamudi</td>\n",
       "    </tr>\n",
       "    <tr>\n",
       "      <td id=\"T_f7729_row4_col0\" class=\"data row4 col0\" >Wedneday</td>\n",
       "      <td id=\"T_f7729_row4_col1\" class=\"data row4 col1\" >1:30:00 PM-3:00 PM</td>\n",
       "      <td id=\"T_f7729_row4_col2\" class=\"data row4 col2\" >inperson Tyler Hall 140</td>\n",
       "      <td id=\"T_f7729_row4_col3\" class=\"data row4 col3\" >Chamudi</td>\n",
       "    </tr>\n",
       "    <tr>\n",
       "      <td id=\"T_f7729_row5_col0\" class=\"data row5 col0\" >Wednesday</td>\n",
       "      <td id=\"T_f7729_row5_col1\" class=\"data row5 col1\" >7:00:00 PM-8:30</td>\n",
       "      <td id=\"T_f7729_row5_col2\" class=\"data row5 col2\" >gather.town</td>\n",
       "      <td id=\"T_f7729_row5_col3\" class=\"data row5 col3\" >Sarah</td>\n",
       "    </tr>\n",
       "    <tr>\n",
       "      <td id=\"T_f7729_row6_col0\" class=\"data row6 col0\" >By appointment</td>\n",
       "      <td id=\"T_f7729_row6_col1\" class=\"data row6 col1\" > scheduling link on Brightspace</td>\n",
       "      <td id=\"T_f7729_row6_col2\" class=\"data row6 col2\" > in person Tyler 134</td>\n",
       "      <td id=\"T_f7729_row6_col3\" class=\"data row6 col3\" > Sarah</td>\n",
       "    </tr>\n",
       "  </tbody>\n",
       "</table>\n"
      ],
      "text/plain": [
       "<pandas.io.formats.style.Styler at 0x7f2f9a7b4a10>"
      ]
     },
     "execution_count": 2,
     "metadata": {},
     "output_type": "execute_result"
    }
   ],
   "source": [
    "help_df.style.hide_index()"
   ]
  },
  {
   "cell_type": "markdown",
   "id": "d9f0386d",
   "metadata": {},
   "source": [
    "We have several different ways to communicate in this course. This section summarizes them\n",
    "\n",
    "\n",
    "## To reach out, By usage"
   ]
  },
  {
   "cell_type": "code",
   "execution_count": 3,
   "id": "02d4e3e3",
   "metadata": {
    "tags": [
     "remove-input"
    ]
   },
   "outputs": [
    {
     "data": {
      "text/html": [
       "<style type=\"text/css\">\n",
       "</style>\n",
       "<table id=\"T_54b6b_\">\n",
       "  <thead>\n",
       "    <tr>\n",
       "      <th class=\"col_heading level0 col0\" >usage</th>\n",
       "      <th class=\"col_heading level0 col1\" >platform</th>\n",
       "      <th class=\"col_heading level0 col2\" >area</th>\n",
       "      <th class=\"col_heading level0 col3\" >note</th>\n",
       "    </tr>\n",
       "  </thead>\n",
       "  <tbody>\n",
       "    <tr>\n",
       "      <td id=\"T_54b6b_row0_col0\" class=\"data row0 col0\" > in class</td>\n",
       "      <td id=\"T_54b6b_row0_col1\" class=\"data row0 col1\" >prismia</td>\n",
       "      <td id=\"T_54b6b_row0_col2\" class=\"data row0 col2\" > chat</td>\n",
       "      <td id=\"T_54b6b_row0_col3\" class=\"data row0 col3\" > outside of class time this is not monitored closely</td>\n",
       "    </tr>\n",
       "    <tr>\n",
       "      <td id=\"T_54b6b_row1_col0\" class=\"data row1 col0\" > any time</td>\n",
       "      <td id=\"T_54b6b_row1_col1\" class=\"data row1 col1\" >prismia</td>\n",
       "      <td id=\"T_54b6b_row1_col2\" class=\"data row1 col2\" > message board</td>\n",
       "      <td id=\"T_54b6b_row1_col3\" class=\"data row1 col3\" > for discussion with peers</td>\n",
       "    </tr>\n",
       "    <tr>\n",
       "      <td id=\"T_54b6b_row2_col0\" class=\"data row2 col0\" > any time </td>\n",
       "      <td id=\"T_54b6b_row2_col1\" class=\"data row2 col1\" >prismia</td>\n",
       "      <td id=\"T_54b6b_row2_col2\" class=\"data row2 col2\" > download transcript</td>\n",
       "      <td id=\"T_54b6b_row2_col3\" class=\"data row2 col3\" > use after class to get preliminary notes eg if you miss a class</td>\n",
       "    </tr>\n",
       "    <tr>\n",
       "      <td id=\"T_54b6b_row3_col0\" class=\"data row3 col0\" > private questions to your assignment</td>\n",
       "      <td id=\"T_54b6b_row3_col1\" class=\"data row3 col1\" >github</td>\n",
       "      <td id=\"T_54b6b_row3_col2\" class=\"data row3 col2\" > issue on assignment repo</td>\n",
       "      <td id=\"T_54b6b_row3_col3\" class=\"data row3 col3\" > eg bugs in your code\"</td>\n",
       "    </tr>\n",
       "    <tr>\n",
       "      <td id=\"T_54b6b_row4_col0\" class=\"data row4 col0\" > for general questions that can help others</td>\n",
       "      <td id=\"T_54b6b_row4_col1\" class=\"data row4 col1\" >github</td>\n",
       "      <td id=\"T_54b6b_row4_col2\" class=\"data row4 col2\" > issue on course website</td>\n",
       "      <td id=\"T_54b6b_row4_col3\" class=\"data row4 col3\" > eg what the instructions of an assignment mean or questions about the syllabus</td>\n",
       "    </tr>\n",
       "    <tr>\n",
       "      <td id=\"T_54b6b_row5_col0\" class=\"data row5 col0\" > to share resources</td>\n",
       "      <td id=\"T_54b6b_row5_col1\" class=\"data row5 col1\" >github</td>\n",
       "      <td id=\"T_54b6b_row5_col2\" class=\"data row5 col2\" > pull request on website</td>\n",
       "      <td id=\"T_54b6b_row5_col3\" class=\"data row5 col3\" > remember to request ram tokens if applicable</td>\n",
       "    </tr>\n",
       "    <tr>\n",
       "      <td id=\"T_54b6b_row6_col0\" class=\"data row6 col0\" > matters that don't fit into another category</td>\n",
       "      <td id=\"T_54b6b_row6_col1\" class=\"data row6 col1\" >e-mail</td>\n",
       "      <td id=\"T_54b6b_row6_col2\" class=\"data row6 col2\" > to brownsarahm@uri.edu</td>\n",
       "      <td id=\"T_54b6b_row6_col3\" class=\"data row6 col3\" > remember to include `[CSC310]` or `[DSP310]` (note `verbatim` no space)</td>\n",
       "    </tr>\n",
       "  </tbody>\n",
       "</table>\n"
      ],
      "text/plain": [
       "<IPython.core.display.HTML object>"
      ]
     },
     "metadata": {},
     "output_type": "display_data"
    }
   ],
   "source": [
    "df = df[['usage','platform','area','note']]\n",
    "display(HTML(df.style.hide_index()._repr_html_()))"
   ]
  },
  {
   "cell_type": "markdown",
   "id": "c056f053",
   "metadata": {},
   "source": [
    "```{note}\n",
    "e-mail is last because it's not collaborative; other platforms allow us (Proessor + TA) to collaborate on who responds to things more easily.\n",
    "```\n",
    "\n",
    "## By Platform"
   ]
  },
  {
   "cell_type": "code",
   "execution_count": 4,
   "id": "91b7984a",
   "metadata": {
    "tags": [
     "remove-input"
    ]
   },
   "outputs": [
    {
     "data": {
      "text/html": [
       "<h3> Use e-mail for </h3>"
      ],
      "text/plain": [
       "<IPython.core.display.HTML object>"
      ]
     },
     "metadata": {},
     "output_type": "display_data"
    },
    {
     "data": {
      "text/html": [
       "<style type=\"text/css\">\n",
       "</style>\n",
       "<table id=\"T_ac6a9_\">\n",
       "  <thead>\n",
       "    <tr>\n",
       "      <th class=\"col_heading level0 col0\" >usage</th>\n",
       "      <th class=\"col_heading level0 col1\" >area</th>\n",
       "      <th class=\"col_heading level0 col2\" >note</th>\n",
       "    </tr>\n",
       "  </thead>\n",
       "  <tbody>\n",
       "    <tr>\n",
       "      <td id=\"T_ac6a9_row0_col0\" class=\"data row0 col0\" > matters that don't fit into another category</td>\n",
       "      <td id=\"T_ac6a9_row0_col1\" class=\"data row0 col1\" > to brownsarahm@uri.edu</td>\n",
       "      <td id=\"T_ac6a9_row0_col2\" class=\"data row0 col2\" > remember to include `[CSC310]` or `[DSP310]` (note `verbatim` no space)</td>\n",
       "    </tr>\n",
       "  </tbody>\n",
       "</table>\n"
      ],
      "text/plain": [
       "<IPython.core.display.HTML object>"
      ]
     },
     "metadata": {},
     "output_type": "display_data"
    },
    {
     "data": {
      "text/html": [
       "<h3> Use github for </h3>"
      ],
      "text/plain": [
       "<IPython.core.display.HTML object>"
      ]
     },
     "metadata": {},
     "output_type": "display_data"
    },
    {
     "data": {
      "text/html": [
       "<style type=\"text/css\">\n",
       "</style>\n",
       "<table id=\"T_39cc0_\">\n",
       "  <thead>\n",
       "    <tr>\n",
       "      <th class=\"col_heading level0 col0\" >usage</th>\n",
       "      <th class=\"col_heading level0 col1\" >area</th>\n",
       "      <th class=\"col_heading level0 col2\" >note</th>\n",
       "    </tr>\n",
       "  </thead>\n",
       "  <tbody>\n",
       "    <tr>\n",
       "      <td id=\"T_39cc0_row0_col0\" class=\"data row0 col0\" > private questions to your assignment</td>\n",
       "      <td id=\"T_39cc0_row0_col1\" class=\"data row0 col1\" > issue on assignment repo</td>\n",
       "      <td id=\"T_39cc0_row0_col2\" class=\"data row0 col2\" > eg bugs in your code\"</td>\n",
       "    </tr>\n",
       "    <tr>\n",
       "      <td id=\"T_39cc0_row1_col0\" class=\"data row1 col0\" > for general questions that can help others</td>\n",
       "      <td id=\"T_39cc0_row1_col1\" class=\"data row1 col1\" > issue on course website</td>\n",
       "      <td id=\"T_39cc0_row1_col2\" class=\"data row1 col2\" > eg what the instructions of an assignment mean or questions about the syllabus</td>\n",
       "    </tr>\n",
       "    <tr>\n",
       "      <td id=\"T_39cc0_row2_col0\" class=\"data row2 col0\" > to share resources</td>\n",
       "      <td id=\"T_39cc0_row2_col1\" class=\"data row2 col1\" > pull request on website</td>\n",
       "      <td id=\"T_39cc0_row2_col2\" class=\"data row2 col2\" > remember to request ram tokens if applicable</td>\n",
       "    </tr>\n",
       "  </tbody>\n",
       "</table>\n"
      ],
      "text/plain": [
       "<IPython.core.display.HTML object>"
      ]
     },
     "metadata": {},
     "output_type": "display_data"
    },
    {
     "data": {
      "text/html": [
       "<h3> Use prismia for </h3>"
      ],
      "text/plain": [
       "<IPython.core.display.HTML object>"
      ]
     },
     "metadata": {},
     "output_type": "display_data"
    },
    {
     "data": {
      "text/html": [
       "<style type=\"text/css\">\n",
       "</style>\n",
       "<table id=\"T_35d82_\">\n",
       "  <thead>\n",
       "    <tr>\n",
       "      <th class=\"col_heading level0 col0\" >usage</th>\n",
       "      <th class=\"col_heading level0 col1\" >area</th>\n",
       "      <th class=\"col_heading level0 col2\" >note</th>\n",
       "    </tr>\n",
       "  </thead>\n",
       "  <tbody>\n",
       "    <tr>\n",
       "      <td id=\"T_35d82_row0_col0\" class=\"data row0 col0\" > in class</td>\n",
       "      <td id=\"T_35d82_row0_col1\" class=\"data row0 col1\" > chat</td>\n",
       "      <td id=\"T_35d82_row0_col2\" class=\"data row0 col2\" > outside of class time this is not monitored closely</td>\n",
       "    </tr>\n",
       "    <tr>\n",
       "      <td id=\"T_35d82_row1_col0\" class=\"data row1 col0\" > any time</td>\n",
       "      <td id=\"T_35d82_row1_col1\" class=\"data row1 col1\" > message board</td>\n",
       "      <td id=\"T_35d82_row1_col2\" class=\"data row1 col2\" > for discussion with peers</td>\n",
       "    </tr>\n",
       "    <tr>\n",
       "      <td id=\"T_35d82_row2_col0\" class=\"data row2 col0\" > any time </td>\n",
       "      <td id=\"T_35d82_row2_col1\" class=\"data row2 col1\" > download transcript</td>\n",
       "      <td id=\"T_35d82_row2_col2\" class=\"data row2 col2\" > use after class to get preliminary notes eg if you miss a class</td>\n",
       "    </tr>\n",
       "  </tbody>\n",
       "</table>\n"
      ],
      "text/plain": [
       "<IPython.core.display.HTML object>"
      ]
     },
     "metadata": {},
     "output_type": "display_data"
    }
   ],
   "source": [
    "for platform, data in df.groupby('platform'):\n",
    "    display(HTML('<h3> Use '+ platform + ' for </h3>'))\n",
    "    display(HTML(data.drop(columns='platform').style.hide_index()._repr_html_()))"
   ]
  },
  {
   "cell_type": "markdown",
   "id": "a42e7f2d",
   "metadata": {},
   "source": [
    "## Tips\n",
    "\n",
    "### For assignment help\n",
    "\n",
    "- **send in advance, leave time for a response** I check e-mail/github a small number of times per day, during work hours, almost exclusively. You might see me post to this site, post to BrightSpace, or comment on your assignments outside of my normal working hours, but I will not reliably see emails that arrive during those hours. This means that it is important to start assignments early.\n",
    "\n",
    "### Using issues\n",
    "\n",
    "- use issues for content directly related to assignments.  If you push your code to the repository and then open an issue, I can see your code and your question at the same time and download it to run it if I need to debug it\n",
    "- use issues for questions about this syllabus or class notes. At the top right there's a GitHub logo <i class=\"fab fa-github\"></i> that allows you to open a issue (for a question) or suggest an edit (eg if you think there's a typo or you find an additional helpful resource related to something)\n",
    "\n",
    "### For E-email\n",
    "````{margin}\n",
    "```{note}\n",
    "Whether you use CSC or DSP does not matter.  \n",
    "```\n",
    "````\n",
    "- use e-mail for general inquiries or notifications\n",
    "- Please include `[CSC310]` or `[DSP310]` in the subject line of your email along with the topic of your message. This is important, because your messages are important, but I also get a lot of e-mail. Consider these a cheat code to my inbox: I have setup a filter that will flag your e-mail if you use one of those in the subject to ensure that I see it."
   ]
  }
 ],
 "metadata": {
  "jupytext": {
   "text_representation": {
    "extension": ".md",
    "format_name": "myst",
    "format_version": 0.13,
    "jupytext_version": "1.10.3"
   }
  },
  "kernelspec": {
   "display_name": "Python 3",
   "language": "python",
   "name": "python3"
  },
  "language_info": {
   "codemirror_mode": {
    "name": "ipython",
    "version": 3
   },
   "file_extension": ".py",
   "mimetype": "text/x-python",
   "name": "python",
   "nbconvert_exporter": "python",
   "pygments_lexer": "ipython3",
   "version": "3.7.12"
  },
  "source_map": [
   12,
   20,
   29,
   34,
   38,
   46,
   51,
   59,
   66
  ]
 },
 "nbformat": 4,
 "nbformat_minor": 5
}