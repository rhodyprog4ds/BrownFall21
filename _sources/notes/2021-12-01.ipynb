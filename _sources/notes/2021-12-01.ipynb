{
 "cells": [
  {
   "cell_type": "markdown",
   "id": "88d1daa8",
   "metadata": {},
   "source": [
    "# Neural Networks\n",
    "\n",
    "We started thinking about machine learning wiht the idea that the basic idea is\n",
    "that we assume that our target variable ($y_i$) is related to the features $\\mathbf{x}_i$\n",
    "by some function (for sample $i$):\n",
    "\n",
    "$$ y_i =f(\\mathbf{x}_i)$$\n",
    "\n",
    "But we don't know that function exactly, so we assume a type of $f$ (a decision\n",
    "  tree, a boundary for SVM, a propbility distribuiton) that has some paramters\n",
    "  $\\theta$ and then use a machine\n",
    "  learning algorithm $\\mathcal{A}$ to estimate the parameters for $f$.  In the\n",
    "  decision tree the parameters are the thresholds to compare to, in the GaussianNB the parameters are the mean and variance, in SVM it's the support vecotrs that define the margin.  \n",
    "\n",
    "$$\\theta = \\mathcal{A}(X,y) $$\n",
    "\n",
    "That we can use to test on our test data:\n",
    "\n",
    "$$ \\hat{y}_i = f(x_i;\\theta) $$\n",
    "\n",
    "A neural net allows us to not assume a specific form for $f$ first, it does\n",
    "universal funciton approximation.  For one hidden layer and a binary classification problem:\n",
    "\n",
    "\n",
    "$$f(x) = W_2g(W_1^T x +b_1) + b_2 $$\n",
    "\n",
    "where the function $g$ is called the activation function. so we approximate some\n",
    "unkown, complicated function $f4 by taking a weighted sum of all of the inputs,\n",
    "and passing those through another, known function."
   ]
  },
  {
   "cell_type": "code",
   "execution_count": 1,
   "id": "df5e6831",
   "metadata": {},
   "outputs": [],
   "source": [
    "from sklearn.neural_network import MLPClassifier\n",
    "from sklearn import svm\n",
    "import pandas as pd\n",
    "import sklearn\n",
    "\n",
    "from sklearn import datasets\n",
    "import matplotlib.pyplot as plt\n",
    "from sklearn import model_selection\n",
    "import numpy as np"
   ]
  },
  {
   "cell_type": "markdown",
   "id": "475b0594",
   "metadata": {},
   "source": [
    "We're going to use the digits dataset again."
   ]
  },
  {
   "cell_type": "code",
   "execution_count": 2,
   "id": "b5084ec8",
   "metadata": {},
   "outputs": [],
   "source": [
    "digits = datasets.load_digits()\n",
    "digits_X = digits.data\n",
    "digits_y = digits.target\n",
    "X_train, X_test, y_train, y_test = model_selection.train_test_split(digits_X,digits_y)"
   ]
  },
  {
   "cell_type": "code",
   "execution_count": 3,
   "id": "1474bd69",
   "metadata": {},
   "outputs": [
    {
     "data": {
      "text/plain": [
       "array([[ 0.,  0.,  5., 13.,  9.,  1.,  0.,  0.],\n",
       "       [ 0.,  0., 13., 15., 10., 15.,  5.,  0.],\n",
       "       [ 0.,  3., 15.,  2.,  0., 11.,  8.,  0.],\n",
       "       [ 0.,  4., 12.,  0.,  0.,  8.,  8.,  0.],\n",
       "       [ 0.,  5.,  8.,  0.,  0.,  9.,  8.,  0.],\n",
       "       [ 0.,  4., 11.,  0.,  1., 12.,  7.,  0.],\n",
       "       [ 0.,  2., 14.,  5., 10., 12.,  0.,  0.],\n",
       "       [ 0.,  0.,  6., 13., 10.,  0.,  0.,  0.]])"
      ]
     },
     "execution_count": 3,
     "metadata": {},
     "output_type": "execute_result"
    }
   ],
   "source": [
    "digits.images[0]"
   ]
  },
  {
   "cell_type": "markdown",
   "id": "ab6ed866",
   "metadata": {},
   "source": [
    "Sklearn provides an estimator for the MLP. We can see one with one layer to\n",
    "start."
   ]
  },
  {
   "cell_type": "code",
   "execution_count": 4,
   "id": "ee7fdd9f",
   "metadata": {},
   "outputs": [],
   "source": [
    "mlp = MLPClassifier(\n",
    "  hidden_layer_sizes=(16),\n",
    "  max_iter=500,\n",
    "  alpha=1e-4,\n",
    "  solver=\"lbfgs\",\n",
    "  verbose=10,\n",
    "  random_state=1,\n",
    "  learning_rate_init=0.1,\n",
    ")"
   ]
  },
  {
   "cell_type": "code",
   "execution_count": 5,
   "id": "60a8fe08",
   "metadata": {},
   "outputs": [
    {
     "name": "stderr",
     "output_type": "stream",
     "text": [
      " This problem is unconstrained.\n"
     ]
    },
    {
     "name": "stdout",
     "output_type": "stream",
     "text": [
      "RUNNING THE L-BFGS-B CODE\n",
      "\n",
      "           * * *\n",
      "\n",
      "Machine precision = 2.220D-16\n",
      " N =         1210     M =           10\n",
      "\n",
      "At X0         0 variables are exactly at the bounds\n",
      "\n",
      "At iterate    0    f=  9.37458D+00    |proj g|=  7.08201D+00\n",
      "\n",
      "At iterate    1    f=  8.03520D+00    |proj g|=  6.71876D+00\n",
      "\n",
      "At iterate    2    f=  3.14870D+00    |proj g|=  1.89050D+00\n",
      "\n",
      "At iterate    3    f=  2.35397D+00    |proj g|=  3.77283D-01\n",
      "\n",
      "At iterate    4    f=  2.24725D+00    |proj g|=  2.33704D-01\n",
      "\n",
      "At iterate    5    f=  2.09922D+00    |proj g|=  3.35659D-01\n",
      "\n",
      "At iterate    6    f=  1.96575D+00    |proj g|=  2.91928D-01\n",
      "\n",
      "At iterate    7    f=  1.74660D+00    |proj g|=  1.44254D+00\n",
      "\n",
      "At iterate    8    f=  1.62445D+00    |proj g|=  5.64618D-01\n",
      "\n",
      "At iterate    9    f=  1.55895D+00    |proj g|=  3.83158D-01\n",
      "\n",
      "At iterate   10    f=  1.49086D+00    |proj g|=  6.29767D-01\n",
      "\n",
      "At iterate   11    f=  1.40736D+00    |proj g|=  2.33421D-01\n",
      "\n",
      "At iterate   12    f=  1.31985D+00    |proj g|=  2.92213D-01\n",
      "\n",
      "At iterate   13    f=  1.13461D+00    |proj g|=  5.13971D-01\n",
      "\n",
      "At iterate   14    f=  1.06422D+00    |proj g|=  8.02604D-01\n",
      "\n",
      "At iterate   15    f=  1.01710D+00    |proj g|=  2.16113D-01\n",
      "\n",
      "At iterate   16    f=  9.82203D-01    |proj g|=  2.01531D-01\n",
      "\n",
      "At iterate   17    f=  9.52721D-01    |proj g|=  2.71568D-01\n",
      "\n",
      "At iterate   18    f=  9.17593D-01    |proj g|=  1.00478D-01\n",
      "\n",
      "At iterate   19    f=  8.78231D-01    |proj g|=  5.83984D-01\n",
      "\n",
      "At iterate   20    f=  8.43458D-01    |proj g|=  3.87856D-01\n",
      "\n",
      "At iterate   21    f=  8.22408D-01    |proj g|=  1.69271D-01\n",
      "\n",
      "At iterate   22    f=  8.09666D-01    |proj g|=  1.26750D-01\n",
      "\n",
      "At iterate   23    f=  7.96615D-01    |proj g|=  1.72025D-01\n",
      "\n",
      "At iterate   24    f=  7.72673D-01    |proj g|=  8.37362D-02\n",
      "\n",
      "At iterate   25    f=  7.41558D-01    |proj g|=  3.05904D-01\n",
      "\n",
      "At iterate   26    f=  7.14924D-01    |proj g|=  4.08946D-01\n",
      "\n",
      "At iterate   27    f=  6.92880D-01    |proj g|=  2.33921D-01\n",
      "\n",
      "At iterate   28    f=  6.67569D-01    |proj g|=  1.35255D-01\n",
      "\n",
      "At iterate   29    f=  6.49168D-01    |proj g|=  1.35962D-01\n",
      "\n",
      "At iterate   30    f=  6.11909D-01    |proj g|=  2.42033D-01\n",
      "\n",
      "At iterate   31    f=  5.92061D-01    |proj g|=  9.55495D-01\n",
      "\n",
      "At iterate   32    f=  5.55832D-01    |proj g|=  2.97535D-01\n",
      "\n",
      "At iterate   33    f=  5.28368D-01    |proj g|=  2.31211D-01\n",
      "\n",
      "At iterate   34    f=  5.06498D-01    |proj g|=  2.90088D-01\n",
      "\n",
      "At iterate   35    f=  4.89458D-01    |proj g|=  7.87920D-01\n",
      "\n",
      "At iterate   36    f=  4.58393D-01    |proj g|=  3.07974D-01\n",
      "\n",
      "At iterate   37    f=  4.40297D-01    |proj g|=  2.27196D-01\n",
      "\n",
      "At iterate   38    f=  4.11086D-01    |proj g|=  2.59274D-01\n",
      "\n",
      "At iterate   39    f=  3.84161D-01    |proj g|=  3.56209D-01\n",
      "\n",
      "At iterate   40    f=  3.51520D-01    |proj g|=  2.93839D-01\n",
      "\n",
      "At iterate   41    f=  3.18869D-01    |proj g|=  2.95995D-01\n",
      "\n",
      "At iterate   42    f=  2.96776D-01    |proj g|=  4.19374D-01\n",
      "\n",
      "At iterate   43    f=  2.82120D-01    |proj g|=  1.84676D-01\n",
      "\n",
      "At iterate   44    f=  2.75578D-01    |proj g|=  8.70778D-02\n",
      "\n",
      "At iterate   45    f=  2.63884D-01    |proj g|=  1.63769D-01\n",
      "\n",
      "At iterate   46    f=  2.38618D-01    |proj g|=  2.83791D-01\n",
      "\n",
      "At iterate   47    f=  2.25242D-01    |proj g|=  1.78778D-01\n",
      "\n",
      "At iterate   48    f=  2.16555D-01    |proj g|=  9.27835D-02\n",
      "\n",
      "At iterate   49    f=  2.08167D-01    |proj g|=  5.99756D-02\n",
      "\n",
      "At iterate   50    f=  2.00707D-01    |proj g|=  7.98794D-02\n",
      "\n",
      "At iterate   51    f=  1.89306D-01    |proj g|=  1.51968D-01\n",
      "\n",
      "At iterate   52    f=  1.79987D-01    |proj g|=  1.26267D-01\n",
      "\n",
      "At iterate   53    f=  1.70897D-01    |proj g|=  9.16474D-02\n",
      "\n",
      "At iterate   54    f=  1.65283D-01    |proj g|=  7.79071D-02\n",
      "\n",
      "At iterate   55    f=  1.61018D-01    |proj g|=  5.97572D-02\n",
      "\n",
      "At iterate   56    f=  1.53757D-01    |proj g|=  1.97424D-01\n",
      "\n",
      "At iterate   57    f=  1.46295D-01    |proj g|=  9.87992D-02\n",
      "\n",
      "At iterate   58    f=  1.40733D-01    |proj g|=  3.51111D-02\n",
      "\n",
      "At iterate   59    f=  1.36794D-01    |proj g|=  1.16266D-01\n",
      "\n",
      "At iterate   60    f=  1.33341D-01    |proj g|=  1.05538D-01\n",
      "\n",
      "At iterate   61    f=  1.27723D-01    |proj g|=  1.14514D-01\n",
      "\n",
      "At iterate   62    f=  1.20196D-01    |proj g|=  9.93144D-02\n",
      "\n",
      "At iterate   63    f=  1.16243D-01    |proj g|=  1.11569D-01\n",
      "\n",
      "At iterate   64    f=  1.11463D-01    |proj g|=  6.02419D-02\n",
      "\n",
      "At iterate   65    f=  1.06407D-01    |proj g|=  9.13040D-02\n",
      "\n",
      "At iterate   66    f=  1.02542D-01    |proj g|=  9.95010D-02\n",
      "\n",
      "At iterate   67    f=  9.74119D-02    |proj g|=  9.17420D-02\n",
      "\n",
      "At iterate   68    f=  9.24380D-02    |proj g|=  4.16898D-02\n",
      "\n",
      "At iterate   69    f=  8.69074D-02    |proj g|=  6.52381D-02\n",
      "\n",
      "At iterate   70    f=  8.47959D-02    |proj g|=  2.24190D-01\n",
      "\n",
      "At iterate   71    f=  8.00578D-02    |proj g|=  6.77170D-02\n",
      "\n",
      "At iterate   72    f=  7.80069D-02    |proj g|=  6.02933D-02\n",
      "\n",
      "At iterate   73    f=  7.36964D-02    |proj g|=  6.22144D-02\n",
      "\n",
      "At iterate   74    f=  7.03166D-02    |proj g|=  4.51514D-02\n",
      "\n",
      "At iterate   75    f=  6.59835D-02    |proj g|=  8.13620D-02\n",
      "\n",
      "At iterate   76    f=  6.23347D-02    |proj g|=  3.95851D-02\n",
      "\n",
      "At iterate   77    f=  6.06751D-02    |proj g|=  5.69573D-02\n",
      "\n",
      "At iterate   78    f=  5.86847D-02    |proj g|=  3.83793D-02\n",
      "\n",
      "At iterate   79    f=  5.57476D-02    |proj g|=  2.87416D-02\n",
      "\n",
      "At iterate   80    f=  5.28259D-02    |proj g|=  3.36825D-02\n",
      "\n",
      "At iterate   81    f=  4.97845D-02    |proj g|=  9.91481D-02\n",
      "\n",
      "At iterate   82    f=  4.82805D-02    |proj g|=  5.71116D-02\n",
      "\n",
      "At iterate   83    f=  4.68950D-02    |proj g|=  3.69420D-02\n",
      "\n",
      "At iterate   84    f=  4.51649D-02    |proj g|=  2.08722D-02\n",
      "\n",
      "At iterate   85    f=  4.34811D-02    |proj g|=  3.34286D-02\n",
      "\n",
      "At iterate   86    f=  4.18601D-02    |proj g|=  2.20661D-02\n",
      "\n",
      "At iterate   87    f=  4.04715D-02    |proj g|=  4.39442D-02\n",
      "\n",
      "At iterate   88    f=  3.85644D-02    |proj g|=  3.55060D-02\n",
      "\n",
      "At iterate   89    f=  3.66999D-02    |proj g|=  2.97397D-02\n",
      "\n",
      "At iterate   90    f=  3.47293D-02    |proj g|=  5.48983D-02\n",
      "\n",
      "At iterate   91    f=  3.35846D-02    |proj g|=  4.29311D-02\n",
      "\n",
      "At iterate   92    f=  3.21181D-02    |proj g|=  2.71903D-02\n",
      "\n",
      "At iterate   93    f=  3.06272D-02    |proj g|=  1.11678D-02\n",
      "\n",
      "At iterate   94    f=  2.98195D-02    |proj g|=  1.18305D-02\n",
      "\n",
      "At iterate   95    f=  2.87832D-02    |proj g|=  2.44478D-02\n",
      "\n",
      "At iterate   96    f=  2.75487D-02    |proj g|=  6.30857D-02\n",
      "\n",
      "At iterate   97    f=  2.62503D-02    |proj g|=  4.46785D-02\n",
      "\n",
      "At iterate   98    f=  2.49776D-02    |proj g|=  3.14050D-02\n",
      "\n",
      "At iterate   99    f=  2.41331D-02    |proj g|=  2.36607D-02\n",
      "\n",
      "At iterate  100    f=  2.28451D-02    |proj g|=  2.21648D-02\n",
      "\n",
      "At iterate  101    f=  2.16219D-02    |proj g|=  4.98574D-02\n",
      "\n",
      "At iterate  102    f=  2.06182D-02    |proj g|=  2.26453D-02\n",
      "\n",
      "At iterate  103    f=  1.98699D-02    |proj g|=  1.36667D-02\n",
      "\n",
      "At iterate  104    f=  1.92428D-02    |proj g|=  1.20971D-02\n",
      "\n",
      "At iterate  105    f=  1.86905D-02    |proj g|=  1.36314D-02\n",
      "\n",
      "At iterate  106    f=  1.78699D-02    |proj g|=  1.34713D-02\n",
      "\n",
      "At iterate  107    f=  1.71275D-02    |proj g|=  3.30715D-02\n",
      "\n",
      "At iterate  108    f=  1.62741D-02    |proj g|=  9.10478D-03\n",
      "\n",
      "At iterate  109    f=  1.59231D-02    |proj g|=  7.97537D-03\n",
      "\n",
      "At iterate  110    f=  1.53078D-02    |proj g|=  1.37111D-02\n",
      "\n",
      "At iterate  111    f=  1.44544D-02    |proj g|=  2.80495D-02\n",
      "\n",
      "At iterate  112    f=  1.40592D-02    |proj g|=  2.71302D-02\n",
      "\n",
      "At iterate  113    f=  1.35516D-02    |proj g|=  1.62595D-02\n",
      "\n",
      "At iterate  114    f=  1.32277D-02    |proj g|=  1.21655D-02\n",
      "\n",
      "At iterate  115    f=  1.29983D-02    |proj g|=  1.18180D-02\n",
      "\n",
      "At iterate  116    f=  1.25623D-02    |proj g|=  1.68820D-02\n",
      "\n",
      "At iterate  117    f=  1.21093D-02    |proj g|=  9.76754D-03\n",
      "\n",
      "At iterate  118    f=  1.17811D-02    |proj g|=  7.87579D-03\n",
      "\n",
      "At iterate  119    f=  1.13980D-02    |proj g|=  1.08297D-02\n",
      "\n",
      "At iterate  120    f=  1.10997D-02    |proj g|=  7.09413D-03\n",
      "\n",
      "At iterate  121    f=  1.08112D-02    |proj g|=  7.47514D-03\n",
      "\n",
      "At iterate  122    f=  1.05005D-02    |proj g|=  9.73063D-03\n",
      "\n",
      "At iterate  123    f=  1.00886D-02    |proj g|=  9.44267D-03\n",
      "\n",
      "At iterate  124    f=  9.81307D-03    |proj g|=  1.03959D-02\n",
      "\n",
      "At iterate  125    f=  9.50853D-03    |proj g|=  6.82609D-03\n",
      "\n",
      "At iterate  126    f=  9.27197D-03    |proj g|=  6.01711D-03\n",
      "\n",
      "At iterate  127    f=  9.13950D-03    |proj g|=  1.17333D-02\n"
     ]
    },
    {
     "name": "stdout",
     "output_type": "stream",
     "text": [
      "\n",
      "At iterate  128    f=  8.59763D-03    |proj g|=  8.64061D-03\n",
      "\n",
      "At iterate  129    f=  8.37138D-03    |proj g|=  5.14322D-03\n",
      "\n",
      "At iterate  130    f=  8.22775D-03    |proj g|=  4.35299D-03\n",
      "\n",
      "At iterate  131    f=  7.99964D-03    |proj g|=  2.79566D-03\n",
      "\n",
      "At iterate  132    f=  7.75865D-03    |proj g|=  5.47290D-03\n",
      "\n",
      "At iterate  133    f=  7.58275D-03    |proj g|=  7.16025D-03\n",
      "\n",
      "At iterate  134    f=  7.38640D-03    |proj g|=  4.01677D-03\n",
      "\n",
      "At iterate  135    f=  6.95347D-03    |proj g|=  5.90212D-03\n",
      "\n",
      "At iterate  136    f=  6.71756D-03    |proj g|=  9.18717D-03\n",
      "\n",
      "At iterate  137    f=  6.47198D-03    |proj g|=  4.27299D-03\n",
      "\n",
      "At iterate  138    f=  6.44150D-03    |proj g|=  3.82915D-03\n",
      "\n",
      "At iterate  139    f=  6.43725D-03    |proj g|=  3.79730D-03\n",
      "\n",
      "At iterate  140    f=  6.43707D-03    |proj g|=  3.79544D-03\n",
      "\n",
      "At iterate  141    f=  6.43707D-03    |proj g|=  2.00335D-02\n",
      "\n",
      "           * * *\n",
      "\n",
      "Tit   = total number of iterations\n",
      "Tnf   = total number of function evaluations\n",
      "Tnint = total number of segments explored during Cauchy searches\n",
      "Skip  = number of BFGS updates skipped\n",
      "Nact  = number of active bounds at final generalized Cauchy point\n",
      "Projg = norm of the final projected gradient\n",
      "F     = final function value\n",
      "\n",
      "           * * *\n",
      "\n",
      "   N    Tit     Tnf  Tnint  Skip  Nact     Projg        F\n",
      " 1210    141    171      1     0     0   2.003D-02   6.437D-03\n",
      "  F =   6.4370726380622630E-003\n",
      "\n",
      "CONVERGENCE: REL_REDUCTION_OF_F_<=_FACTR*EPSMCH             \n"
     ]
    },
    {
     "data": {
      "text/plain": [
       "0.9155555555555556"
      ]
     },
     "execution_count": 5,
     "metadata": {},
     "output_type": "execute_result"
    }
   ],
   "source": [
    "mlp.fit(X_train,y_train)\n",
    "mlp.score(X_test,y_test)"
   ]
  },
  {
   "cell_type": "markdown",
   "id": "27fcc346",
   "metadata": {},
   "source": [
    "We can also see what happens if we increase the size of the hidden layer."
   ]
  },
  {
   "cell_type": "code",
   "execution_count": 6,
   "id": "bfc44498",
   "metadata": {},
   "outputs": [],
   "source": [
    "mlp = MLPClassifier(\n",
    "  hidden_layer_sizes=(64),\n",
    "  max_iter=500,\n",
    "  alpha=1e-4,\n",
    "  solver=\"lbfgs\",\n",
    "  verbose=10,\n",
    "  random_state=1,\n",
    "  learning_rate_init=0.1,\n",
    ")"
   ]
  },
  {
   "cell_type": "code",
   "execution_count": 7,
   "id": "0da4ccf6",
   "metadata": {},
   "outputs": [
    {
     "name": "stdout",
     "output_type": "stream",
     "text": [
      "RUNNING THE L-BFGS-B CODE\n",
      "\n",
      "           * * *\n",
      "\n",
      "Machine precision = 2.220D-16\n",
      " N =         4810     M =           10\n",
      "\n",
      "At X0         0 variables are exactly at the bounds\n",
      "\n",
      "At iterate    0    f=  1.03415D+01    |proj g|=  8.07243D+00\n",
      "\n",
      "At iterate    1    f=  9.75113D+00    |proj g|=  4.77156D+00\n",
      "\n",
      "At iterate    2    f=  8.46569D+00    |proj g|=  4.05092D+00\n",
      "\n",
      "At iterate    3    f=  6.94306D+00    |proj g|=  3.02941D+00\n",
      "\n",
      "At iterate    4    f=  4.84259D+00    |proj g|=  2.51447D+00\n",
      "\n",
      "At iterate    5    f=  3.33320D+00    |proj g|=  3.19708D+00\n",
      "\n",
      "At iterate    6    f=  2.08850D+00    |proj g|=  8.69107D-01\n",
      "\n",
      "At iterate    7    f=  1.50169D+00    |proj g|=  8.67299D-01\n",
      "\n",
      "At iterate    8    f=  1.02041D+00    |proj g|=  4.94947D-01\n",
      "\n",
      "At iterate    9    f=  7.81641D-01    |proj g|=  3.41358D-01\n",
      "\n",
      "At iterate   10    f=  5.34814D-01    |proj g|=  1.89756D-01\n",
      "\n",
      "At iterate   11    f=  3.86840D-01    |proj g|=  2.26308D-01\n",
      "\n",
      "At iterate   12    f=  2.59387D-01    |proj g|=  1.10656D-01\n",
      "\n",
      "At iterate   13    f=  2.19313D-01    |proj g|=  8.95829D-02\n",
      "\n",
      "At iterate   14    f=  1.73965D-01    |proj g|=  6.60332D-02\n",
      "\n",
      "At iterate   15    f=  1.44164D-01    |proj g|=  1.23477D-01\n",
      "\n",
      "At iterate   16    f=  1.20399D-01    |proj g|=  4.70186D-02\n",
      "\n",
      "At iterate   17    f=  1.01871D-01    |proj g|=  3.69091D-02\n",
      "\n",
      "At iterate   18    f=  7.71768D-02    |proj g|=  2.35534D-02\n",
      "\n",
      "At iterate   19    f=  6.15199D-02    |proj g|=  2.03387D-01\n",
      "\n",
      "At iterate   20    f=  4.45211D-02    |proj g|=  2.83703D-02\n",
      "\n",
      "At iterate   21    f=  4.10095D-02    |proj g|=  2.18582D-02\n",
      "\n",
      "At iterate   22    f=  3.50107D-02    |proj g|=  2.29010D-02\n",
      "\n",
      "At iterate   23    f=  2.78748D-02    |proj g|=  3.69789D-02\n",
      "\n",
      "At iterate   24    f=  2.18295D-02    |proj g|=  5.21928D-02\n",
      "\n",
      "At iterate   25    f=  1.70509D-02    |proj g|=  3.29382D-02\n",
      "\n",
      "At iterate   26    f=  1.43005D-02    |proj g|=  1.09586D-02\n",
      "\n",
      "At iterate   27    f=  1.23604D-02    |proj g|=  1.69050D-02\n",
      "\n",
      "At iterate   28    f=  1.07738D-02    |proj g|=  4.03192D-02\n",
      "\n",
      "At iterate   29    f=  8.66491D-03    |proj g|=  1.32786D-02\n",
      "\n",
      "At iterate   30    f=  7.31504D-03    |proj g|=  9.40226D-03\n",
      "\n",
      "At iterate   31    f=  6.16025D-03    |proj g|=  7.47426D-03\n",
      "\n",
      "At iterate   32    f=  4.73673D-03    |proj g|=  1.42073D-02\n",
      "\n",
      "At iterate   33    f=  3.91873D-03    |proj g|=  1.80418D-02\n",
      "\n",
      "At iterate   34    f=  3.37489D-03    |proj g|=  5.98588D-03\n",
      "\n",
      "At iterate   35    f=  2.92243D-03    |proj g|=  3.61212D-03\n",
      "\n",
      "At iterate   36    f=  2.46563D-03    |proj g|=  8.38384D-03\n",
      "\n",
      "At iterate   37    f=  1.82854D-03    |proj g|=  9.42346D-03\n",
      "\n",
      "At iterate   38    f=  1.13610D-03    |proj g|=  7.48521D-03\n",
      "\n",
      "At iterate   39    f=  5.59278D-04    |proj g|=  9.17934D-04\n",
      "\n",
      "At iterate   40    f=  4.38839D-04    |proj g|=  6.08514D-04\n",
      "\n",
      "At iterate   41    f=  3.30551D-04    |proj g|=  2.45572D-03\n",
      "\n",
      "At iterate   42    f=  2.14490D-04    |proj g|=  5.98266D-04\n",
      "\n",
      "At iterate   43    f=  1.67989D-04    |proj g|=  3.49310D-04\n"
     ]
    },
    {
     "name": "stdout",
     "output_type": "stream",
     "text": [
      "\n",
      "At iterate   44    f=  1.12443D-04    |proj g|=  2.24973D-04\n",
      "\n",
      "At iterate   45    f=  7.11248D-05    |proj g|=  2.63658D-04\n",
      "\n",
      "At iterate   46    f=  4.21810D-05    |proj g|=  1.65121D-04\n",
      "\n",
      "At iterate   47    f=  2.87693D-05    |proj g|=  6.73675D-05\n",
      "\n",
      "           * * *\n",
      "\n",
      "Tit   = total number of iterations\n",
      "Tnf   = total number of function evaluations\n",
      "Tnint = total number of segments explored during Cauchy searches\n",
      "Skip  = number of BFGS updates skipped\n",
      "Nact  = number of active bounds at final generalized Cauchy point\n",
      "Projg = norm of the final projected gradient\n",
      "F     = final function value\n",
      "\n",
      "           * * *\n",
      "\n",
      "   N    Tit     Tnf  Tnint  Skip  Nact     Projg        F\n",
      " 4810     47     48      1     0     0   6.737D-05   2.877D-05\n",
      "  F =   2.8769337392907529E-005\n",
      "\n",
      "CONVERGENCE: NORM_OF_PROJECTED_GRADIENT_<=_PGTOL            \n"
     ]
    },
    {
     "name": "stderr",
     "output_type": "stream",
     "text": [
      " This problem is unconstrained.\n"
     ]
    },
    {
     "data": {
      "text/plain": [
       "0.9622222222222222"
      ]
     },
     "execution_count": 7,
     "metadata": {},
     "output_type": "execute_result"
    }
   ],
   "source": [
    "mlp.fit(X_train,y_train)\n",
    "mlp.score(X_test,y_test)"
   ]
  },
  {
   "cell_type": "markdown",
   "id": "13eeeeda",
   "metadata": {},
   "source": [
    "We can compare it  to SVM:"
   ]
  },
  {
   "cell_type": "code",
   "execution_count": 8,
   "id": "0eeb3d5f",
   "metadata": {},
   "outputs": [
    {
     "data": {
      "text/plain": [
       "0.9822222222222222"
      ]
     },
     "execution_count": 8,
     "metadata": {},
     "output_type": "execute_result"
    }
   ],
   "source": [
    "svm_clf = svm.SVC(gamma=0.001)\n",
    "svm_clf.fit(X_train, y_train)\n",
    "svm_clf.score(X_test,y_test)"
   ]
  },
  {
   "cell_type": "markdown",
   "id": "c03864f8",
   "metadata": {},
   "source": [
    "We can also have multiple hidden layers:"
   ]
  },
  {
   "cell_type": "code",
   "execution_count": 9,
   "id": "93f147f5",
   "metadata": {},
   "outputs": [
    {
     "name": "stdout",
     "output_type": "stream",
     "text": [
      "RUNNING THE L-BFGS-B CODE\n",
      "\n",
      "           * * *\n",
      "\n",
      "Machine precision = 2.220D-16\n",
      " N =         8970     M =           10\n",
      "\n",
      "At X0         0 variables are exactly at the bounds\n",
      "\n",
      "At iterate    0    f=  7.75046D+00    |proj g|=  5.20528D+00\n",
      "\n",
      "At iterate    1    f=  6.48321D+00    |proj g|=  4.99049D+00\n",
      "\n",
      "At iterate    2    f=  4.43844D+00    |proj g|=  2.05314D+00\n",
      "\n",
      "At iterate    3    f=  3.23172D+00    |proj g|=  1.17235D+00\n",
      "\n",
      "At iterate    4    f=  2.55413D+00    |proj g|=  9.29180D-01\n",
      "\n",
      "At iterate    5    f=  1.81121D+00    |proj g|=  7.21204D-01\n",
      "\n",
      "At iterate    6    f=  1.38247D+00    |proj g|=  3.77774D-01\n",
      "\n",
      "At iterate    7    f=  1.03904D+00    |proj g|=  3.16226D-01\n",
      "\n",
      "At iterate    8    f=  6.89170D-01    |proj g|=  2.92183D-01\n",
      "\n",
      "At iterate    9    f=  5.25890D-01    |proj g|=  5.63792D-01\n",
      "\n",
      "At iterate   10    f=  4.03608D-01    |proj g|=  2.54605D-01\n",
      "\n",
      "At iterate   11    f=  3.42802D-01    |proj g|=  1.26318D-01\n",
      "\n",
      "At iterate   12    f=  2.87130D-01    |proj g|=  1.40761D-01\n",
      "\n",
      "At iterate   13    f=  2.46108D-01    |proj g|=  4.18704D-01\n",
      "\n",
      "At iterate   14    f=  2.03200D-01    |proj g|=  1.43142D-01\n",
      "\n",
      "At iterate   15    f=  1.81236D-01    |proj g|=  8.87651D-02\n",
      "\n",
      "At iterate   16    f=  1.55081D-01    |proj g|=  5.78299D-02\n"
     ]
    },
    {
     "name": "stderr",
     "output_type": "stream",
     "text": [
      " This problem is unconstrained.\n"
     ]
    },
    {
     "name": "stdout",
     "output_type": "stream",
     "text": [
      "\n",
      "At iterate   17    f=  1.22441D-01    |proj g|=  9.57411D-02\n",
      "\n",
      "At iterate   18    f=  1.04944D-01    |proj g|=  2.71386D-01\n",
      "\n",
      "At iterate   19    f=  8.43137D-02    |proj g|=  5.55722D-02\n",
      "\n",
      "At iterate   20    f=  7.95277D-02    |proj g|=  3.82254D-02\n",
      "\n",
      "At iterate   21    f=  6.95422D-02    |proj g|=  4.63722D-02\n",
      "\n",
      "At iterate   22    f=  6.20944D-02    |proj g|=  1.48033D-01\n",
      "\n",
      "At iterate   23    f=  5.19259D-02    |proj g|=  4.22366D-02\n",
      "\n",
      "At iterate   24    f=  4.65336D-02    |proj g|=  3.40162D-02\n",
      "\n",
      "At iterate   25    f=  4.05970D-02    |proj g|=  4.13584D-02\n",
      "\n",
      "At iterate   26    f=  3.31019D-02    |proj g|=  4.53925D-02\n",
      "\n",
      "At iterate   27    f=  2.97005D-02    |proj g|=  9.48980D-02\n",
      "\n",
      "At iterate   28    f=  2.29974D-02    |proj g|=  1.64551D-02\n",
      "\n",
      "At iterate   29    f=  2.11839D-02    |proj g|=  1.33953D-02\n",
      "\n",
      "At iterate   30    f=  1.74723D-02    |proj g|=  5.06712D-02\n",
      "\n",
      "At iterate   31    f=  1.48634D-02    |proj g|=  3.00559D-02\n",
      "\n",
      "At iterate   32    f=  1.30910D-02    |proj g|=  1.01203D-02\n",
      "\n",
      "At iterate   33    f=  1.17517D-02    |proj g|=  1.80982D-02\n",
      "\n",
      "At iterate   34    f=  9.66741D-03    |proj g|=  2.24711D-02\n",
      "\n",
      "At iterate   35    f=  7.95083D-03    |proj g|=  4.92004D-02\n",
      "\n",
      "At iterate   36    f=  5.66319D-03    |proj g|=  1.63046D-02\n",
      "\n",
      "At iterate   37    f=  4.71587D-03    |proj g|=  9.51459D-03\n",
      "\n",
      "At iterate   38    f=  3.84306D-03    |proj g|=  1.02330D-02\n",
      "\n",
      "At iterate   39    f=  3.16991D-03    |proj g|=  1.18938D-02\n",
      "\n",
      "At iterate   40    f=  2.36429D-03    |proj g|=  9.50928D-03\n",
      "\n",
      "At iterate   41    f=  1.83457D-03    |proj g|=  2.72875D-03\n",
      "\n",
      "At iterate   42    f=  1.47479D-03    |proj g|=  4.20878D-03\n",
      "\n",
      "At iterate   43    f=  1.05567D-03    |proj g|=  3.79761D-03\n",
      "\n",
      "At iterate   44    f=  8.61851D-04    |proj g|=  6.43437D-03\n"
     ]
    },
    {
     "name": "stdout",
     "output_type": "stream",
     "text": [
      "\n",
      "At iterate   45    f=  7.14845D-04    |proj g|=  2.69751D-03\n",
      "\n",
      "At iterate   46    f=  5.92480D-04    |proj g|=  1.58639D-03\n",
      "\n",
      "At iterate   47    f=  4.49140D-04    |proj g|=  1.45505D-03\n",
      "\n",
      "At iterate   48    f=  3.13982D-04    |proj g|=  2.07389D-03\n",
      "\n",
      "At iterate   49    f=  2.20462D-04    |proj g|=  2.42985D-03\n",
      "\n",
      "At iterate   50    f=  1.69756D-04    |proj g|=  1.19102D-03\n",
      "\n",
      "At iterate   51    f=  1.27592D-04    |proj g|=  3.07570D-04\n",
      "\n",
      "At iterate   52    f=  1.02681D-04    |proj g|=  3.83150D-04\n",
      "\n",
      "At iterate   53    f=  7.59118D-05    |proj g|=  3.81373D-04\n",
      "\n",
      "At iterate   54    f=  4.94421D-05    |proj g|=  4.59605D-04\n",
      "\n",
      "At iterate   55    f=  2.79035D-05    |proj g|=  1.02895D-04\n",
      "\n",
      "At iterate   56    f=  2.21204D-05    |proj g|=  4.29095D-05\n",
      "\n",
      "           * * *\n",
      "\n",
      "Tit   = total number of iterations\n",
      "Tnf   = total number of function evaluations\n",
      "Tnint = total number of segments explored during Cauchy searches\n",
      "Skip  = number of BFGS updates skipped\n",
      "Nact  = number of active bounds at final generalized Cauchy point\n",
      "Projg = norm of the final projected gradient\n",
      "F     = final function value\n",
      "\n",
      "           * * *\n",
      "\n",
      "   N    Tit     Tnf  Tnint  Skip  Nact     Projg        F\n",
      " 8970     56     58      1     0     0   4.291D-05   2.212D-05\n",
      "  F =   2.2120448495362764E-005\n",
      "\n",
      "CONVERGENCE: NORM_OF_PROJECTED_GRADIENT_<=_PGTOL            \n"
     ]
    },
    {
     "data": {
      "text/plain": [
       "0.9577777777777777"
      ]
     },
     "execution_count": 9,
     "metadata": {},
     "output_type": "execute_result"
    }
   ],
   "source": [
    "mlp = MLPClassifier(\n",
    "  hidden_layer_sizes=(64,64),\n",
    "  max_iter=500,\n",
    "  alpha=1e-4,\n",
    "  solver=\"lbfgs\",\n",
    "  verbose=10,\n",
    "  random_state=1,\n",
    "  learning_rate_init=0.1,\n",
    ")\n",
    "mlp.fit(X_train,y_train)\n",
    "mlp.score(X_test,y_test)"
   ]
  },
  {
   "cell_type": "markdown",
   "id": "e8fda791",
   "metadata": {},
   "source": [
    " We saw that the SVM performed a bit better, but this is a simple problem.\n",
    " We can also compare these based on much they store, the number of parameters\n",
    " is realted to the complexity."
   ]
  },
  {
   "cell_type": "code",
   "execution_count": 10,
   "id": "f840c086",
   "metadata": {},
   "outputs": [
    {
     "data": {
      "text/plain": [
       "(672, 64)"
      ]
     },
     "execution_count": 10,
     "metadata": {},
     "output_type": "execute_result"
    }
   ],
   "source": [
    "svm_clf.support_vectors_.shape"
   ]
  },
  {
   "cell_type": "code",
   "execution_count": 11,
   "id": "1fa3a4f8",
   "metadata": {},
   "outputs": [
    {
     "data": {
      "text/plain": [
       "[(64, 64), (64, 64), (64, 10)]"
      ]
     },
     "execution_count": 11,
     "metadata": {},
     "output_type": "execute_result"
    }
   ],
   "source": [
    "[c.shape for c in mlp.coefs_]"
   ]
  },
  {
   "cell_type": "code",
   "execution_count": 12,
   "id": "7dca263e",
   "metadata": {},
   "outputs": [
    {
     "data": {
      "text/plain": [
       "43008"
      ]
     },
     "execution_count": 12,
     "metadata": {},
     "output_type": "execute_result"
    }
   ],
   "source": [
    "np.prod(list(svm_clf.support_vectors_.shape))"
   ]
  },
  {
   "cell_type": "code",
   "execution_count": 13,
   "id": "13b56f24",
   "metadata": {},
   "outputs": [
    {
     "data": {
      "text/plain": [
       "8832"
      ]
     },
     "execution_count": 13,
     "metadata": {},
     "output_type": "execute_result"
    }
   ],
   "source": [
    "np.sum([np.prod(list(c.shape)) for c in mlp.coefs_])"
   ]
  },
  {
   "cell_type": "markdown",
   "id": "b835d92e",
   "metadata": {},
   "source": [
    "We see this is much smaler.\n",
    "\n",
    "## Questions after class\n",
    "\n",
    "### How can we use this in our assignment?\n",
    "\n",
    "You do not have to, but you could try an MLP in your assignment, but all that\n",
    "is required is any classifier and a text representation.\n",
    "\n",
    "### How do we know how to change the parameters?\n",
    "\n",
    "If it doesn't work well, trying more layers or bigger layers is a good idea.  \n",
    "Neural nets work like a black box, they're hard to interpret, so while there\n",
    "are good heuristics, there isn't as solid theory for how to know what do to\n",
    "with them.\n",
    "\n",
    "They work well, but because they're hard to understand, that's a risk of using them."
   ]
  }
 ],
 "metadata": {
  "jupytext": {
   "text_representation": {
    "extension": ".md",
    "format_name": "myst",
    "format_version": 0.13,
    "jupytext_version": "1.10.3"
   }
  },
  "kernelspec": {
   "display_name": "Python 3",
   "language": "python",
   "name": "python3"
  },
  "language_info": {
   "codemirror_mode": {
    "name": "ipython",
    "version": 3
   },
   "file_extension": ".py",
   "mimetype": "text/x-python",
   "name": "python",
   "nbconvert_exporter": "python",
   "pygments_lexer": "ipython3",
   "version": "3.7.12"
  },
  "source_map": [
   12,
   44,
   55,
   59,
   67,
   69,
   74,
   86,
   89,
   93,
   105,
   108,
   112,
   116,
   121,
   133,
   139,
   143,
   147,
   151,
   153
  ]
 },
 "nbformat": 4,
 "nbformat_minor": 5
}