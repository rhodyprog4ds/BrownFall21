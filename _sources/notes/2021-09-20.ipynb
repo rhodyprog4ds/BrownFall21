{
 "cells": [
  {
   "cell_type": "markdown",
   "id": "bb08f168",
   "metadata": {},
   "source": [
    "# Exploratory Data Analysis"
   ]
  },
  {
   "cell_type": "code",
   "execution_count": 1,
   "id": "305ea688",
   "metadata": {},
   "outputs": [],
   "source": [
    "import pandas as pd"
   ]
  },
  {
   "cell_type": "markdown",
   "id": "ae2ac79d",
   "metadata": {},
   "source": [
    "## Staying Organized\n",
    "\n",
    "- See the new {ref}`resource:file-structure` section.\n",
    "- Be sure to accept assignments and close the feedback PR if you will not work on them\n",
    "\n",
    "## Data Frame from lists of Lists\n",
    "\n",
    "On Friday, we collectively made a list of strings"
   ]
  },
  {
   "cell_type": "code",
   "execution_count": 2,
   "id": "b3aa7e5e",
   "metadata": {},
   "outputs": [],
   "source": [
    "# %load http://drsmb.co/310read\n",
    "\n",
    "# share a sentence or a few words about how class is going or\n",
    "# one takeaway you have from class so far.\n",
    "#  and attribute with a name affter a hyphen(-)\n",
    "# You can remain anonymous (this page & the notes will be fully public)\n",
    "# by attributing it to a celebrity or psuedonym, but include *some* sort of attribution\n",
    "sentence_list = [\n",
    "'Programming is a Practice. - Dr. Sarah Brown',\n",
    "\"So far it's going pretty good. - Matt\",\n",
    "'Pretty good pace, Github is still a little confusing is all - A',\n",
    "\"Class is going well, I'm really excited for the new skills that I will attain through this course. - Diondra\",\n",
    "'Good straight forward - Adam',\n",
    "'Good pace and engaging - Jacob',\n",
    "'I like cheese - Anon',\n",
    "'Going well, I enjoy python - Aiden',\n",
    "\"Class is going very well, I'm excited to learn more about manipulating data sets - Greg\",\n",
    "'Really enjoying the class so far, Clear instructions and outcomes - Michael',\n",
    "'So far this class is going well, very engaging lectures. - Anon',\n",
    "'Great pace and notes have been really useful - Brandon',\n",
    "'Good pace and easy to follow - Muhammad',\n",
    "'Class is going well and engaging, but also a little difficult getting into the swing of things - Isaiah',\n",
    "'Well paced, informative, and helpful - Vinnie',\n",
    "'Spectacular -Michael Jackson',\n",
    "'Very interesting! I am enjoying it a lot so far. Getting to experience pandas as well as using github/jupyter has been cool. One thing I would change though is slowing down the pace a bit. - Max'\n",
    "]"
   ]
  },
  {
   "cell_type": "markdown",
   "id": "a3b040e7",
   "metadata": {},
   "source": [
    "We can check that by using type, first on the whole thing"
   ]
  },
  {
   "cell_type": "code",
   "execution_count": 3,
   "id": "68dd84bb",
   "metadata": {},
   "outputs": [
    {
     "data": {
      "text/plain": [
       "list"
      ]
     },
     "execution_count": 3,
     "metadata": {},
     "output_type": "execute_result"
    }
   ],
   "source": [
    "type(sentence_list)"
   ]
  },
  {
   "cell_type": "markdown",
   "id": "0c460b80",
   "metadata": {},
   "source": [
    "And then we can index into the list. Lists can be indexed by integers:"
   ]
  },
  {
   "cell_type": "code",
   "execution_count": 4,
   "id": "4fc63f46",
   "metadata": {},
   "outputs": [
    {
     "data": {
      "text/plain": [
       "'Good straight forward - Adam'"
      ]
     },
     "execution_count": 4,
     "metadata": {},
     "output_type": "execute_result"
    }
   ],
   "source": [
    "sentence_list[4]"
   ]
  },
  {
   "cell_type": "markdown",
   "id": "3a327f7f",
   "metadata": {},
   "source": [
    "is one item from the list and then check its type:"
   ]
  },
  {
   "cell_type": "code",
   "execution_count": 5,
   "id": "62b24049",
   "metadata": {},
   "outputs": [
    {
     "data": {
      "text/plain": [
       "str"
      ]
     },
     "execution_count": 5,
     "metadata": {},
     "output_type": "execute_result"
    }
   ],
   "source": [
    "type(sentence_list[4])"
   ]
  },
  {
   "cell_type": "markdown",
   "id": "2d13da0d",
   "metadata": {},
   "source": [
    "First, we'll convert our list of strings, to a list of lists with a list\n",
    "comprehension.  This will {term}`iterate` over each string in that list and\n",
    "apply the string method `split`.  Since we passed the parameter `'-'`, it will\n",
    "split at that character.\n",
    "\n",
    "````{margin}\n",
    "```{admonition} Question From Class\n",
    "The split method will split at every occurence of the character passed.  \n",
    "```\n",
    "```{admonition} Try it Yourself\n",
    "Try splitting based on a different character (eg `' '`). What happens?\n",
    "```\n",
    "````"
   ]
  },
  {
   "cell_type": "code",
   "execution_count": 6,
   "id": "d70b6c75",
   "metadata": {},
   "outputs": [
    {
     "data": {
      "text/plain": [
       "[['Programming is a Practice. ', ' Dr. Sarah Brown'],\n",
       " [\"So far it's going pretty good. \", ' Matt'],\n",
       " ['Pretty good pace, Github is still a little confusing is all ', ' A'],\n",
       " [\"Class is going well, I'm really excited for the new skills that I will attain through this course. \",\n",
       "  ' Diondra'],\n",
       " ['Good straight forward ', ' Adam'],\n",
       " ['Good pace and engaging ', ' Jacob'],\n",
       " ['I like cheese ', ' Anon'],\n",
       " ['Going well, I enjoy python ', ' Aiden'],\n",
       " [\"Class is going very well, I'm excited to learn more about manipulating data sets \",\n",
       "  ' Greg'],\n",
       " ['Really enjoying the class so far, Clear instructions and outcomes ',\n",
       "  ' Michael'],\n",
       " ['So far this class is going well, very engaging lectures. ', ' Anon'],\n",
       " ['Great pace and notes have been really useful ', ' Brandon'],\n",
       " ['Good pace and easy to follow ', ' Muhammad'],\n",
       " ['Class is going well and engaging, but also a little difficult getting into the swing of things ',\n",
       "  ' Isaiah'],\n",
       " ['Well paced, informative, and helpful ', ' Vinnie'],\n",
       " ['Spectacular ', 'Michael Jackson'],\n",
       " ['Very interesting! I am enjoying it a lot so far. Getting to experience pandas as well as using github/jupyter has been cool. One thing I would change though is slowing down the pace a bit. ',\n",
       "  ' Max']]"
      ]
     },
     "execution_count": 6,
     "metadata": {},
     "output_type": "execute_result"
    }
   ],
   "source": [
    "[sent_attr.split('-') for sent_attr in sentence_list]"
   ]
  },
  {
   "cell_type": "markdown",
   "id": "4bcbe281",
   "metadata": {},
   "source": [
    "````{margin}\n",
    "```{admonition} Question From Class\n",
    "While the list comprehension {term}`iterate` over each string in that list, because\n",
    "it's a list, in order to {term}`index` into it, we have to use an integer.\n",
    "\n",
    "Iterating is taking each member in an object in turn, indexing is picking out a\n",
    "specified item. Iterating typically is done with the `for` keyword (either in\n",
    "  a loop or a comprehension), indexing is done with `[]`\n",
    "```\n",
    "````\n",
    "\n",
    "If we save it to a variable, we can analyze it better, for example indexing it"
   ]
  },
  {
   "cell_type": "code",
   "execution_count": 7,
   "id": "1de0d3af",
   "metadata": {},
   "outputs": [
    {
     "data": {
      "text/plain": [
       "['Programming is a Practice. ', ' Dr. Sarah Brown']"
      ]
     },
     "execution_count": 7,
     "metadata": {},
     "output_type": "execute_result"
    }
   ],
   "source": [
    "list_of_lists = [sent_attr.split('-') for sent_attr in sentence_list]\n",
    "list_of_lists[0]"
   ]
  },
  {
   "cell_type": "markdown",
   "id": "3210a688",
   "metadata": {},
   "source": [
    "This is a list, which we can check with:"
   ]
  },
  {
   "cell_type": "code",
   "execution_count": 8,
   "id": "6e0dbab6",
   "metadata": {},
   "outputs": [
    {
     "data": {
      "text/plain": [
       "list"
      ]
     },
     "execution_count": 8,
     "metadata": {},
     "output_type": "execute_result"
    }
   ],
   "source": [
    "type(list_of_lists[0])"
   ]
  },
  {
   "cell_type": "markdown",
   "id": "23978f56",
   "metadata": {},
   "source": [
    "If we take one item from that, it's a string"
   ]
  },
  {
   "cell_type": "code",
   "execution_count": 9,
   "id": "9bc1e284",
   "metadata": {},
   "outputs": [
    {
     "data": {
      "text/plain": [
       "' Dr. Sarah Brown'"
      ]
     },
     "execution_count": 9,
     "metadata": {},
     "output_type": "execute_result"
    }
   ],
   "source": [
    "list_of_lists[0][1]"
   ]
  },
  {
   "cell_type": "markdown",
   "id": "be2ee8a7",
   "metadata": {},
   "source": [
    "The list of lists is the same length as our original sentence_list, because it\n",
    "was made from that."
   ]
  },
  {
   "cell_type": "code",
   "execution_count": 10,
   "id": "c95dd4f2",
   "metadata": {},
   "outputs": [
    {
     "data": {
      "text/plain": [
       "17"
      ]
     },
     "execution_count": 10,
     "metadata": {},
     "output_type": "execute_result"
    }
   ],
   "source": [
    "len(sentence_list)"
   ]
  },
  {
   "cell_type": "code",
   "execution_count": 11,
   "id": "094dc12c",
   "metadata": {},
   "outputs": [
    {
     "data": {
      "text/plain": [
       "17"
      ]
     },
     "execution_count": 11,
     "metadata": {},
     "output_type": "execute_result"
    }
   ],
   "source": [
    "len(list_of_lists)"
   ]
  },
  {
   "cell_type": "markdown",
   "id": "6e19e480",
   "metadata": {},
   "source": [
    "Then we can pass our list of lists to the DataFrame constructor and set the\n",
    "column headings with the `columns` parameter, which accepts a list."
   ]
  },
  {
   "cell_type": "code",
   "execution_count": 12,
   "id": "8a39af63",
   "metadata": {},
   "outputs": [
    {
     "data": {
      "text/html": [
       "<div>\n",
       "<style scoped>\n",
       "    .dataframe tbody tr th:only-of-type {\n",
       "        vertical-align: middle;\n",
       "    }\n",
       "\n",
       "    .dataframe tbody tr th {\n",
       "        vertical-align: top;\n",
       "    }\n",
       "\n",
       "    .dataframe thead th {\n",
       "        text-align: right;\n",
       "    }\n",
       "</style>\n",
       "<table border=\"1\" class=\"dataframe\">\n",
       "  <thead>\n",
       "    <tr style=\"text-align: right;\">\n",
       "      <th></th>\n",
       "      <th>sentence</th>\n",
       "      <th>attribution</th>\n",
       "    </tr>\n",
       "  </thead>\n",
       "  <tbody>\n",
       "    <tr>\n",
       "      <th>0</th>\n",
       "      <td>Programming is a Practice.</td>\n",
       "      <td>Dr. Sarah Brown</td>\n",
       "    </tr>\n",
       "    <tr>\n",
       "      <th>1</th>\n",
       "      <td>So far it's going pretty good.</td>\n",
       "      <td>Matt</td>\n",
       "    </tr>\n",
       "    <tr>\n",
       "      <th>2</th>\n",
       "      <td>Pretty good pace, Github is still a little con...</td>\n",
       "      <td>A</td>\n",
       "    </tr>\n",
       "    <tr>\n",
       "      <th>3</th>\n",
       "      <td>Class is going well, I'm really excited for th...</td>\n",
       "      <td>Diondra</td>\n",
       "    </tr>\n",
       "    <tr>\n",
       "      <th>4</th>\n",
       "      <td>Good straight forward</td>\n",
       "      <td>Adam</td>\n",
       "    </tr>\n",
       "    <tr>\n",
       "      <th>5</th>\n",
       "      <td>Good pace and engaging</td>\n",
       "      <td>Jacob</td>\n",
       "    </tr>\n",
       "    <tr>\n",
       "      <th>6</th>\n",
       "      <td>I like cheese</td>\n",
       "      <td>Anon</td>\n",
       "    </tr>\n",
       "    <tr>\n",
       "      <th>7</th>\n",
       "      <td>Going well, I enjoy python</td>\n",
       "      <td>Aiden</td>\n",
       "    </tr>\n",
       "    <tr>\n",
       "      <th>8</th>\n",
       "      <td>Class is going very well, I'm excited to learn...</td>\n",
       "      <td>Greg</td>\n",
       "    </tr>\n",
       "    <tr>\n",
       "      <th>9</th>\n",
       "      <td>Really enjoying the class so far, Clear instru...</td>\n",
       "      <td>Michael</td>\n",
       "    </tr>\n",
       "    <tr>\n",
       "      <th>10</th>\n",
       "      <td>So far this class is going well, very engaging...</td>\n",
       "      <td>Anon</td>\n",
       "    </tr>\n",
       "    <tr>\n",
       "      <th>11</th>\n",
       "      <td>Great pace and notes have been really useful</td>\n",
       "      <td>Brandon</td>\n",
       "    </tr>\n",
       "    <tr>\n",
       "      <th>12</th>\n",
       "      <td>Good pace and easy to follow</td>\n",
       "      <td>Muhammad</td>\n",
       "    </tr>\n",
       "    <tr>\n",
       "      <th>13</th>\n",
       "      <td>Class is going well and engaging, but also a l...</td>\n",
       "      <td>Isaiah</td>\n",
       "    </tr>\n",
       "    <tr>\n",
       "      <th>14</th>\n",
       "      <td>Well paced, informative, and helpful</td>\n",
       "      <td>Vinnie</td>\n",
       "    </tr>\n",
       "    <tr>\n",
       "      <th>15</th>\n",
       "      <td>Spectacular</td>\n",
       "      <td>Michael Jackson</td>\n",
       "    </tr>\n",
       "    <tr>\n",
       "      <th>16</th>\n",
       "      <td>Very interesting! I am enjoying it a lot so fa...</td>\n",
       "      <td>Max</td>\n",
       "    </tr>\n",
       "  </tbody>\n",
       "</table>\n",
       "</div>"
      ],
      "text/plain": [
       "                                             sentence       attribution\n",
       "0                         Programming is a Practice.    Dr. Sarah Brown\n",
       "1                     So far it's going pretty good.               Matt\n",
       "2   Pretty good pace, Github is still a little con...                 A\n",
       "3   Class is going well, I'm really excited for th...           Diondra\n",
       "4                              Good straight forward               Adam\n",
       "5                             Good pace and engaging              Jacob\n",
       "6                                      I like cheese               Anon\n",
       "7                         Going well, I enjoy python              Aiden\n",
       "8   Class is going very well, I'm excited to learn...              Greg\n",
       "9   Really enjoying the class so far, Clear instru...           Michael\n",
       "10  So far this class is going well, very engaging...              Anon\n",
       "11      Great pace and notes have been really useful            Brandon\n",
       "12                      Good pace and easy to follow           Muhammad\n",
       "13  Class is going well and engaging, but also a l...            Isaiah\n",
       "14              Well paced, informative, and helpful             Vinnie\n",
       "15                                       Spectacular    Michael Jackson\n",
       "16  Very interesting! I am enjoying it a lot so fa...               Max"
      ]
     },
     "execution_count": 12,
     "metadata": {},
     "output_type": "execute_result"
    }
   ],
   "source": [
    "pd.DataFrame([sent_attr.split('-') for sent_attr in sentence_list],\n",
    "            columns=['sentence','attribution'])"
   ]
  },
  {
   "cell_type": "markdown",
   "id": "baa35cfe",
   "metadata": {},
   "source": [
    "```{hint}\n",
    " We built the list of lists here\n",
    "with a  list comprehension because it's only a few items, but for a list of\n",
    "longer lists, you might use a for loop and `append`\n",
    "```\n",
    "\n",
    "## Summarizing Data"
   ]
  },
  {
   "cell_type": "code",
   "execution_count": 13,
   "id": "9aa8c596",
   "metadata": {},
   "outputs": [],
   "source": [
    "coffee_data_url = 'https://raw.githubusercontent.com/jldbc/coffee-quality-database/master/data/robusta_data_cleaned.csv'\n",
    "coffee_df = pd.read_csv(coffee_data_url)"
   ]
  },
  {
   "cell_type": "markdown",
   "id": "4f35dbbf",
   "metadata": {},
   "source": [
    "So far, we've loaded data in a few different ways and then we've examined\n",
    "DataFrames as a data structure, looking at what different attributes they have\n",
    "and what some of the methods are, and how to get data into them."
   ]
  },
  {
   "cell_type": "code",
   "execution_count": 14,
   "id": "1087a2e3",
   "metadata": {},
   "outputs": [
    {
     "data": {
      "text/html": [
       "<div>\n",
       "<style scoped>\n",
       "    .dataframe tbody tr th:only-of-type {\n",
       "        vertical-align: middle;\n",
       "    }\n",
       "\n",
       "    .dataframe tbody tr th {\n",
       "        vertical-align: top;\n",
       "    }\n",
       "\n",
       "    .dataframe thead th {\n",
       "        text-align: right;\n",
       "    }\n",
       "</style>\n",
       "<table border=\"1\" class=\"dataframe\">\n",
       "  <thead>\n",
       "    <tr style=\"text-align: right;\">\n",
       "      <th></th>\n",
       "      <th>Unnamed: 0</th>\n",
       "      <th>Species</th>\n",
       "      <th>Owner</th>\n",
       "      <th>Country.of.Origin</th>\n",
       "      <th>Farm.Name</th>\n",
       "      <th>Lot.Number</th>\n",
       "      <th>Mill</th>\n",
       "      <th>ICO.Number</th>\n",
       "      <th>Company</th>\n",
       "      <th>Altitude</th>\n",
       "      <th>...</th>\n",
       "      <th>Color</th>\n",
       "      <th>Category.Two.Defects</th>\n",
       "      <th>Expiration</th>\n",
       "      <th>Certification.Body</th>\n",
       "      <th>Certification.Address</th>\n",
       "      <th>Certification.Contact</th>\n",
       "      <th>unit_of_measurement</th>\n",
       "      <th>altitude_low_meters</th>\n",
       "      <th>altitude_high_meters</th>\n",
       "      <th>altitude_mean_meters</th>\n",
       "    </tr>\n",
       "  </thead>\n",
       "  <tbody>\n",
       "    <tr>\n",
       "      <th>0</th>\n",
       "      <td>1</td>\n",
       "      <td>Robusta</td>\n",
       "      <td>ankole coffee producers coop</td>\n",
       "      <td>Uganda</td>\n",
       "      <td>kyangundu cooperative society</td>\n",
       "      <td>NaN</td>\n",
       "      <td>ankole coffee producers</td>\n",
       "      <td>0</td>\n",
       "      <td>ankole coffee producers coop</td>\n",
       "      <td>1488</td>\n",
       "      <td>...</td>\n",
       "      <td>Green</td>\n",
       "      <td>2</td>\n",
       "      <td>June 26th, 2015</td>\n",
       "      <td>Uganda Coffee Development Authority</td>\n",
       "      <td>e36d0270932c3b657e96b7b0278dfd85dc0fe743</td>\n",
       "      <td>03077a1c6bac60e6f514691634a7f6eb5c85aae8</td>\n",
       "      <td>m</td>\n",
       "      <td>1488.0</td>\n",
       "      <td>1488.0</td>\n",
       "      <td>1488.0</td>\n",
       "    </tr>\n",
       "    <tr>\n",
       "      <th>1</th>\n",
       "      <td>2</td>\n",
       "      <td>Robusta</td>\n",
       "      <td>nishant gurjer</td>\n",
       "      <td>India</td>\n",
       "      <td>sethuraman estate kaapi royale</td>\n",
       "      <td>25</td>\n",
       "      <td>sethuraman estate</td>\n",
       "      <td>14/1148/2017/21</td>\n",
       "      <td>kaapi royale</td>\n",
       "      <td>3170</td>\n",
       "      <td>...</td>\n",
       "      <td>NaN</td>\n",
       "      <td>2</td>\n",
       "      <td>October 31st, 2018</td>\n",
       "      <td>Specialty Coffee Association</td>\n",
       "      <td>ff7c18ad303d4b603ac3f8cff7e611ffc735e720</td>\n",
       "      <td>352d0cf7f3e9be14dad7df644ad65efc27605ae2</td>\n",
       "      <td>m</td>\n",
       "      <td>3170.0</td>\n",
       "      <td>3170.0</td>\n",
       "      <td>3170.0</td>\n",
       "    </tr>\n",
       "    <tr>\n",
       "      <th>2</th>\n",
       "      <td>3</td>\n",
       "      <td>Robusta</td>\n",
       "      <td>andrew hetzel</td>\n",
       "      <td>India</td>\n",
       "      <td>sethuraman estate</td>\n",
       "      <td>NaN</td>\n",
       "      <td>NaN</td>\n",
       "      <td>0000</td>\n",
       "      <td>sethuraman estate</td>\n",
       "      <td>1000m</td>\n",
       "      <td>...</td>\n",
       "      <td>Green</td>\n",
       "      <td>0</td>\n",
       "      <td>April 29th, 2016</td>\n",
       "      <td>Specialty Coffee Association</td>\n",
       "      <td>ff7c18ad303d4b603ac3f8cff7e611ffc735e720</td>\n",
       "      <td>352d0cf7f3e9be14dad7df644ad65efc27605ae2</td>\n",
       "      <td>m</td>\n",
       "      <td>1000.0</td>\n",
       "      <td>1000.0</td>\n",
       "      <td>1000.0</td>\n",
       "    </tr>\n",
       "    <tr>\n",
       "      <th>3</th>\n",
       "      <td>4</td>\n",
       "      <td>Robusta</td>\n",
       "      <td>ugacof</td>\n",
       "      <td>Uganda</td>\n",
       "      <td>ugacof project area</td>\n",
       "      <td>NaN</td>\n",
       "      <td>ugacof</td>\n",
       "      <td>0</td>\n",
       "      <td>ugacof ltd</td>\n",
       "      <td>1212</td>\n",
       "      <td>...</td>\n",
       "      <td>Green</td>\n",
       "      <td>7</td>\n",
       "      <td>July 14th, 2015</td>\n",
       "      <td>Uganda Coffee Development Authority</td>\n",
       "      <td>e36d0270932c3b657e96b7b0278dfd85dc0fe743</td>\n",
       "      <td>03077a1c6bac60e6f514691634a7f6eb5c85aae8</td>\n",
       "      <td>m</td>\n",
       "      <td>1212.0</td>\n",
       "      <td>1212.0</td>\n",
       "      <td>1212.0</td>\n",
       "    </tr>\n",
       "    <tr>\n",
       "      <th>4</th>\n",
       "      <td>5</td>\n",
       "      <td>Robusta</td>\n",
       "      <td>katuka development trust ltd</td>\n",
       "      <td>Uganda</td>\n",
       "      <td>katikamu capca farmers association</td>\n",
       "      <td>NaN</td>\n",
       "      <td>katuka development trust</td>\n",
       "      <td>0</td>\n",
       "      <td>katuka development trust ltd</td>\n",
       "      <td>1200-1300</td>\n",
       "      <td>...</td>\n",
       "      <td>Green</td>\n",
       "      <td>3</td>\n",
       "      <td>June 26th, 2015</td>\n",
       "      <td>Uganda Coffee Development Authority</td>\n",
       "      <td>e36d0270932c3b657e96b7b0278dfd85dc0fe743</td>\n",
       "      <td>03077a1c6bac60e6f514691634a7f6eb5c85aae8</td>\n",
       "      <td>m</td>\n",
       "      <td>1200.0</td>\n",
       "      <td>1300.0</td>\n",
       "      <td>1250.0</td>\n",
       "    </tr>\n",
       "  </tbody>\n",
       "</table>\n",
       "<p>5 rows × 44 columns</p>\n",
       "</div>"
      ],
      "text/plain": [
       "   Unnamed: 0  Species                         Owner Country.of.Origin  \\\n",
       "0           1  Robusta  ankole coffee producers coop            Uganda   \n",
       "1           2  Robusta                nishant gurjer             India   \n",
       "2           3  Robusta                 andrew hetzel             India   \n",
       "3           4  Robusta                        ugacof            Uganda   \n",
       "4           5  Robusta  katuka development trust ltd            Uganda   \n",
       "\n",
       "                            Farm.Name Lot.Number                      Mill  \\\n",
       "0       kyangundu cooperative society        NaN   ankole coffee producers   \n",
       "1      sethuraman estate kaapi royale         25         sethuraman estate   \n",
       "2                   sethuraman estate        NaN                       NaN   \n",
       "3                 ugacof project area        NaN                    ugacof   \n",
       "4  katikamu capca farmers association        NaN  katuka development trust   \n",
       "\n",
       "        ICO.Number                       Company   Altitude  ...  Color  \\\n",
       "0                0  ankole coffee producers coop       1488  ...  Green   \n",
       "1  14/1148/2017/21                  kaapi royale       3170  ...    NaN   \n",
       "2             0000             sethuraman estate      1000m  ...  Green   \n",
       "3                0                    ugacof ltd       1212  ...  Green   \n",
       "4                0  katuka development trust ltd  1200-1300  ...  Green   \n",
       "\n",
       "  Category.Two.Defects          Expiration  \\\n",
       "0                    2     June 26th, 2015   \n",
       "1                    2  October 31st, 2018   \n",
       "2                    0    April 29th, 2016   \n",
       "3                    7     July 14th, 2015   \n",
       "4                    3     June 26th, 2015   \n",
       "\n",
       "                    Certification.Body  \\\n",
       "0  Uganda Coffee Development Authority   \n",
       "1         Specialty Coffee Association   \n",
       "2         Specialty Coffee Association   \n",
       "3  Uganda Coffee Development Authority   \n",
       "4  Uganda Coffee Development Authority   \n",
       "\n",
       "                      Certification.Address  \\\n",
       "0  e36d0270932c3b657e96b7b0278dfd85dc0fe743   \n",
       "1  ff7c18ad303d4b603ac3f8cff7e611ffc735e720   \n",
       "2  ff7c18ad303d4b603ac3f8cff7e611ffc735e720   \n",
       "3  e36d0270932c3b657e96b7b0278dfd85dc0fe743   \n",
       "4  e36d0270932c3b657e96b7b0278dfd85dc0fe743   \n",
       "\n",
       "                      Certification.Contact unit_of_measurement  \\\n",
       "0  03077a1c6bac60e6f514691634a7f6eb5c85aae8                   m   \n",
       "1  352d0cf7f3e9be14dad7df644ad65efc27605ae2                   m   \n",
       "2  352d0cf7f3e9be14dad7df644ad65efc27605ae2                   m   \n",
       "3  03077a1c6bac60e6f514691634a7f6eb5c85aae8                   m   \n",
       "4  03077a1c6bac60e6f514691634a7f6eb5c85aae8                   m   \n",
       "\n",
       "  altitude_low_meters altitude_high_meters altitude_mean_meters  \n",
       "0              1488.0               1488.0               1488.0  \n",
       "1              3170.0               3170.0               3170.0  \n",
       "2              1000.0               1000.0               1000.0  \n",
       "3              1212.0               1212.0               1212.0  \n",
       "4              1200.0               1300.0               1250.0  \n",
       "\n",
       "[5 rows x 44 columns]"
      ]
     },
     "execution_count": 14,
     "metadata": {},
     "output_type": "execute_result"
    }
   ],
   "source": [
    "coffee_df.head()"
   ]
  },
  {
   "cell_type": "markdown",
   "id": "a7d677a1",
   "metadata": {},
   "source": [
    "Now, we can actually start to analyze the data itself.\n",
    "\n",
    "The [`describe`](https://pandas.pydata.org/pandas-docs/stable/reference/api/pandas.DataFrame.describe.html) method provides us with a set of summary statistics that broadly\n",
    "describe the data overall."
   ]
  },
  {
   "cell_type": "code",
   "execution_count": 15,
   "id": "830df4df",
   "metadata": {},
   "outputs": [
    {
     "data": {
      "text/html": [
       "<div>\n",
       "<style scoped>\n",
       "    .dataframe tbody tr th:only-of-type {\n",
       "        vertical-align: middle;\n",
       "    }\n",
       "\n",
       "    .dataframe tbody tr th {\n",
       "        vertical-align: top;\n",
       "    }\n",
       "\n",
       "    .dataframe thead th {\n",
       "        text-align: right;\n",
       "    }\n",
       "</style>\n",
       "<table border=\"1\" class=\"dataframe\">\n",
       "  <thead>\n",
       "    <tr style=\"text-align: right;\">\n",
       "      <th></th>\n",
       "      <th>Unnamed: 0</th>\n",
       "      <th>Number.of.Bags</th>\n",
       "      <th>Harvest.Year</th>\n",
       "      <th>Fragrance...Aroma</th>\n",
       "      <th>Flavor</th>\n",
       "      <th>Aftertaste</th>\n",
       "      <th>Salt...Acid</th>\n",
       "      <th>Bitter...Sweet</th>\n",
       "      <th>Mouthfeel</th>\n",
       "      <th>Uniform.Cup</th>\n",
       "      <th>...</th>\n",
       "      <th>Balance</th>\n",
       "      <th>Cupper.Points</th>\n",
       "      <th>Total.Cup.Points</th>\n",
       "      <th>Moisture</th>\n",
       "      <th>Category.One.Defects</th>\n",
       "      <th>Quakers</th>\n",
       "      <th>Category.Two.Defects</th>\n",
       "      <th>altitude_low_meters</th>\n",
       "      <th>altitude_high_meters</th>\n",
       "      <th>altitude_mean_meters</th>\n",
       "    </tr>\n",
       "  </thead>\n",
       "  <tbody>\n",
       "    <tr>\n",
       "      <th>count</th>\n",
       "      <td>28.000000</td>\n",
       "      <td>28.000000</td>\n",
       "      <td>28.000000</td>\n",
       "      <td>28.000000</td>\n",
       "      <td>28.000000</td>\n",
       "      <td>28.000000</td>\n",
       "      <td>28.000000</td>\n",
       "      <td>28.000000</td>\n",
       "      <td>28.000000</td>\n",
       "      <td>28.000000</td>\n",
       "      <td>...</td>\n",
       "      <td>28.000000</td>\n",
       "      <td>28.000000</td>\n",
       "      <td>28.000000</td>\n",
       "      <td>28.000000</td>\n",
       "      <td>28.000000</td>\n",
       "      <td>28.0</td>\n",
       "      <td>28.000000</td>\n",
       "      <td>25.00000</td>\n",
       "      <td>25.000000</td>\n",
       "      <td>25.000000</td>\n",
       "    </tr>\n",
       "    <tr>\n",
       "      <th>mean</th>\n",
       "      <td>14.500000</td>\n",
       "      <td>168.000000</td>\n",
       "      <td>2013.964286</td>\n",
       "      <td>7.702500</td>\n",
       "      <td>7.630714</td>\n",
       "      <td>7.559643</td>\n",
       "      <td>7.657143</td>\n",
       "      <td>7.675714</td>\n",
       "      <td>7.506786</td>\n",
       "      <td>9.904286</td>\n",
       "      <td>...</td>\n",
       "      <td>7.541786</td>\n",
       "      <td>7.761429</td>\n",
       "      <td>80.868929</td>\n",
       "      <td>0.065714</td>\n",
       "      <td>2.964286</td>\n",
       "      <td>0.0</td>\n",
       "      <td>1.892857</td>\n",
       "      <td>1367.60000</td>\n",
       "      <td>1387.600000</td>\n",
       "      <td>1377.600000</td>\n",
       "    </tr>\n",
       "    <tr>\n",
       "      <th>std</th>\n",
       "      <td>8.225975</td>\n",
       "      <td>143.226317</td>\n",
       "      <td>1.346660</td>\n",
       "      <td>0.296156</td>\n",
       "      <td>0.303656</td>\n",
       "      <td>0.342469</td>\n",
       "      <td>0.261773</td>\n",
       "      <td>0.317063</td>\n",
       "      <td>0.725152</td>\n",
       "      <td>0.238753</td>\n",
       "      <td>...</td>\n",
       "      <td>0.526076</td>\n",
       "      <td>0.330507</td>\n",
       "      <td>2.441233</td>\n",
       "      <td>0.058464</td>\n",
       "      <td>12.357280</td>\n",
       "      <td>0.0</td>\n",
       "      <td>2.601129</td>\n",
       "      <td>838.06205</td>\n",
       "      <td>831.884207</td>\n",
       "      <td>833.980216</td>\n",
       "    </tr>\n",
       "    <tr>\n",
       "      <th>min</th>\n",
       "      <td>1.000000</td>\n",
       "      <td>1.000000</td>\n",
       "      <td>2012.000000</td>\n",
       "      <td>6.750000</td>\n",
       "      <td>6.670000</td>\n",
       "      <td>6.500000</td>\n",
       "      <td>6.830000</td>\n",
       "      <td>6.670000</td>\n",
       "      <td>5.080000</td>\n",
       "      <td>9.330000</td>\n",
       "      <td>...</td>\n",
       "      <td>5.250000</td>\n",
       "      <td>6.920000</td>\n",
       "      <td>73.750000</td>\n",
       "      <td>0.000000</td>\n",
       "      <td>0.000000</td>\n",
       "      <td>0.0</td>\n",
       "      <td>0.000000</td>\n",
       "      <td>40.00000</td>\n",
       "      <td>40.000000</td>\n",
       "      <td>40.000000</td>\n",
       "    </tr>\n",
       "    <tr>\n",
       "      <th>25%</th>\n",
       "      <td>7.750000</td>\n",
       "      <td>1.000000</td>\n",
       "      <td>2013.000000</td>\n",
       "      <td>7.580000</td>\n",
       "      <td>7.560000</td>\n",
       "      <td>7.397500</td>\n",
       "      <td>7.560000</td>\n",
       "      <td>7.580000</td>\n",
       "      <td>7.500000</td>\n",
       "      <td>10.000000</td>\n",
       "      <td>...</td>\n",
       "      <td>7.500000</td>\n",
       "      <td>7.580000</td>\n",
       "      <td>80.170000</td>\n",
       "      <td>0.000000</td>\n",
       "      <td>0.000000</td>\n",
       "      <td>0.0</td>\n",
       "      <td>0.000000</td>\n",
       "      <td>795.00000</td>\n",
       "      <td>795.000000</td>\n",
       "      <td>795.000000</td>\n",
       "    </tr>\n",
       "    <tr>\n",
       "      <th>50%</th>\n",
       "      <td>14.500000</td>\n",
       "      <td>170.000000</td>\n",
       "      <td>2014.000000</td>\n",
       "      <td>7.670000</td>\n",
       "      <td>7.710000</td>\n",
       "      <td>7.670000</td>\n",
       "      <td>7.710000</td>\n",
       "      <td>7.750000</td>\n",
       "      <td>7.670000</td>\n",
       "      <td>10.000000</td>\n",
       "      <td>...</td>\n",
       "      <td>7.670000</td>\n",
       "      <td>7.830000</td>\n",
       "      <td>81.500000</td>\n",
       "      <td>0.100000</td>\n",
       "      <td>0.000000</td>\n",
       "      <td>0.0</td>\n",
       "      <td>1.000000</td>\n",
       "      <td>1095.00000</td>\n",
       "      <td>1200.000000</td>\n",
       "      <td>1100.000000</td>\n",
       "    </tr>\n",
       "    <tr>\n",
       "      <th>75%</th>\n",
       "      <td>21.250000</td>\n",
       "      <td>320.000000</td>\n",
       "      <td>2015.000000</td>\n",
       "      <td>7.920000</td>\n",
       "      <td>7.830000</td>\n",
       "      <td>7.770000</td>\n",
       "      <td>7.830000</td>\n",
       "      <td>7.830000</td>\n",
       "      <td>7.830000</td>\n",
       "      <td>10.000000</td>\n",
       "      <td>...</td>\n",
       "      <td>7.830000</td>\n",
       "      <td>7.920000</td>\n",
       "      <td>82.520000</td>\n",
       "      <td>0.120000</td>\n",
       "      <td>0.000000</td>\n",
       "      <td>0.0</td>\n",
       "      <td>2.000000</td>\n",
       "      <td>1488.00000</td>\n",
       "      <td>1488.000000</td>\n",
       "      <td>1488.000000</td>\n",
       "    </tr>\n",
       "    <tr>\n",
       "      <th>max</th>\n",
       "      <td>28.000000</td>\n",
       "      <td>320.000000</td>\n",
       "      <td>2017.000000</td>\n",
       "      <td>8.330000</td>\n",
       "      <td>8.080000</td>\n",
       "      <td>7.920000</td>\n",
       "      <td>8.000000</td>\n",
       "      <td>8.420000</td>\n",
       "      <td>8.250000</td>\n",
       "      <td>10.000000</td>\n",
       "      <td>...</td>\n",
       "      <td>8.000000</td>\n",
       "      <td>8.580000</td>\n",
       "      <td>83.750000</td>\n",
       "      <td>0.130000</td>\n",
       "      <td>63.000000</td>\n",
       "      <td>0.0</td>\n",
       "      <td>9.000000</td>\n",
       "      <td>3170.00000</td>\n",
       "      <td>3170.000000</td>\n",
       "      <td>3170.000000</td>\n",
       "    </tr>\n",
       "  </tbody>\n",
       "</table>\n",
       "<p>8 rows × 21 columns</p>\n",
       "</div>"
      ],
      "text/plain": [
       "       Unnamed: 0  Number.of.Bags  Harvest.Year  Fragrance...Aroma     Flavor  \\\n",
       "count   28.000000       28.000000     28.000000          28.000000  28.000000   \n",
       "mean    14.500000      168.000000   2013.964286           7.702500   7.630714   \n",
       "std      8.225975      143.226317      1.346660           0.296156   0.303656   \n",
       "min      1.000000        1.000000   2012.000000           6.750000   6.670000   \n",
       "25%      7.750000        1.000000   2013.000000           7.580000   7.560000   \n",
       "50%     14.500000      170.000000   2014.000000           7.670000   7.710000   \n",
       "75%     21.250000      320.000000   2015.000000           7.920000   7.830000   \n",
       "max     28.000000      320.000000   2017.000000           8.330000   8.080000   \n",
       "\n",
       "       Aftertaste  Salt...Acid  Bitter...Sweet  Mouthfeel  Uniform.Cup  ...  \\\n",
       "count   28.000000    28.000000       28.000000  28.000000    28.000000  ...   \n",
       "mean     7.559643     7.657143        7.675714   7.506786     9.904286  ...   \n",
       "std      0.342469     0.261773        0.317063   0.725152     0.238753  ...   \n",
       "min      6.500000     6.830000        6.670000   5.080000     9.330000  ...   \n",
       "25%      7.397500     7.560000        7.580000   7.500000    10.000000  ...   \n",
       "50%      7.670000     7.710000        7.750000   7.670000    10.000000  ...   \n",
       "75%      7.770000     7.830000        7.830000   7.830000    10.000000  ...   \n",
       "max      7.920000     8.000000        8.420000   8.250000    10.000000  ...   \n",
       "\n",
       "         Balance  Cupper.Points  Total.Cup.Points   Moisture  \\\n",
       "count  28.000000      28.000000         28.000000  28.000000   \n",
       "mean    7.541786       7.761429         80.868929   0.065714   \n",
       "std     0.526076       0.330507          2.441233   0.058464   \n",
       "min     5.250000       6.920000         73.750000   0.000000   \n",
       "25%     7.500000       7.580000         80.170000   0.000000   \n",
       "50%     7.670000       7.830000         81.500000   0.100000   \n",
       "75%     7.830000       7.920000         82.520000   0.120000   \n",
       "max     8.000000       8.580000         83.750000   0.130000   \n",
       "\n",
       "       Category.One.Defects  Quakers  Category.Two.Defects  \\\n",
       "count             28.000000     28.0             28.000000   \n",
       "mean               2.964286      0.0              1.892857   \n",
       "std               12.357280      0.0              2.601129   \n",
       "min                0.000000      0.0              0.000000   \n",
       "25%                0.000000      0.0              0.000000   \n",
       "50%                0.000000      0.0              1.000000   \n",
       "75%                0.000000      0.0              2.000000   \n",
       "max               63.000000      0.0              9.000000   \n",
       "\n",
       "       altitude_low_meters  altitude_high_meters  altitude_mean_meters  \n",
       "count             25.00000             25.000000             25.000000  \n",
       "mean            1367.60000           1387.600000           1377.600000  \n",
       "std              838.06205            831.884207            833.980216  \n",
       "min               40.00000             40.000000             40.000000  \n",
       "25%              795.00000            795.000000            795.000000  \n",
       "50%             1095.00000           1200.000000           1100.000000  \n",
       "75%             1488.00000           1488.000000           1488.000000  \n",
       "max             3170.00000           3170.000000           3170.000000  \n",
       "\n",
       "[8 rows x 21 columns]"
      ]
     },
     "execution_count": 15,
     "metadata": {},
     "output_type": "execute_result"
    }
   ],
   "source": [
    "coffee_df.describe()"
   ]
  },
  {
   "cell_type": "markdown",
   "id": "679990a1",
   "metadata": {},
   "source": [
    "We can also select one variable at a time"
   ]
  },
  {
   "cell_type": "code",
   "execution_count": 16,
   "id": "0eaf8903",
   "metadata": {},
   "outputs": [
    {
     "data": {
      "text/plain": [
       "count    28.000000\n",
       "mean      7.541786\n",
       "std       0.526076\n",
       "min       5.250000\n",
       "25%       7.500000\n",
       "50%       7.670000\n",
       "75%       7.830000\n",
       "max       8.000000\n",
       "Name: Balance, dtype: float64"
      ]
     },
     "execution_count": 16,
     "metadata": {},
     "output_type": "execute_result"
    }
   ],
   "source": [
    "coffee_df['Balance'].describe()"
   ]
  },
  {
   "cell_type": "markdown",
   "id": "dd77b980",
   "metadata": {},
   "source": [
    "To dig in on what the quantiles really mean, we can compute one manually.\n",
    "\n",
    "First, we sort the data, then for the 25%, we select the point in index 6 because\n",
    "becaues there are 28 values."
   ]
  },
  {
   "cell_type": "code",
   "execution_count": 17,
   "id": "577931d0",
   "metadata": {},
   "outputs": [
    {
     "data": {
      "text/plain": [
       "7.5"
      ]
     },
     "execution_count": 17,
     "metadata": {},
     "output_type": "execute_result"
    }
   ],
   "source": [
    "balance_sorted = coffee_df['Balance'].sort_values().values\n",
    "balance_sorted[6]"
   ]
  },
  {
   "cell_type": "markdown",
   "id": "cdf49587",
   "metadata": {},
   "source": [
    "````{margin}\n",
    "```{admonition} further reading\n",
    "On the [documentation page for describe](https://pandas.pydata.org/pandas-docs/stable/reference/api/pandas.DataFrame.describe.html) the \"<i class=\"fas fa-info-circle\"></i>\n",
    " See Also\" shows the links to the documentation of most of the individual functions.  This is a good way to learn about other things, or find something when you are not quite sure what it would be named.  Go to a function thats similar to what you want and then look at the related functions.\n",
    "```\n",
    "````\n",
    "\n",
    "We can also extract each of the statistics that the `describe` method calculates individually, by name.  The quantiles\n",
    "are tricky, we can't ust `.25%()` to get the 25% percentile, we have to use the\n",
    "`quantile` method and pass it a value between 0 and 1."
   ]
  },
  {
   "cell_type": "code",
   "execution_count": 18,
   "id": "5018dbfc",
   "metadata": {},
   "outputs": [
    {
     "data": {
      "text/plain": [
       "7.5600000000000005"
      ]
     },
     "execution_count": 18,
     "metadata": {},
     "output_type": "execute_result"
    }
   ],
   "source": [
    "coffee_df['Flavor'].quantile(.25)"
   ]
  },
  {
   "cell_type": "markdown",
   "id": "25bd0cf3",
   "metadata": {},
   "source": [
    "We can also pass other values"
   ]
  },
  {
   "cell_type": "code",
   "execution_count": 19,
   "id": "77510043",
   "metadata": {},
   "outputs": [
    {
     "data": {
      "text/plain": [
       "7.83"
      ]
     },
     "execution_count": 19,
     "metadata": {},
     "output_type": "execute_result"
    }
   ],
   "source": [
    "coffee_df['Flavor'].quantile(.8)"
   ]
  },
  {
   "cell_type": "markdown",
   "id": "e211995c",
   "metadata": {},
   "source": [
    "Calculate the mean of the `Aftertaste` column:"
   ]
  },
  {
   "cell_type": "code",
   "execution_count": 20,
   "id": "a4412d19",
   "metadata": {},
   "outputs": [
    {
     "data": {
      "text/plain": [
       "7.559642857142856"
      ]
     },
     "execution_count": 20,
     "metadata": {},
     "output_type": "execute_result"
    }
   ],
   "source": [
    "coffee_df['Aftertaste'].mean()"
   ]
  },
  {
   "cell_type": "markdown",
   "id": "d90384ca",
   "metadata": {},
   "source": [
    "## What about the nonnumerical variables?\n",
    "\n",
    "For example the color"
   ]
  },
  {
   "cell_type": "code",
   "execution_count": 21,
   "id": "1c621317",
   "metadata": {},
   "outputs": [
    {
     "data": {
      "text/plain": [
       "0    Green\n",
       "1      NaN\n",
       "2    Green\n",
       "3    Green\n",
       "4    Green\n",
       "Name: Color, dtype: object"
      ]
     },
     "execution_count": 21,
     "metadata": {},
     "output_type": "execute_result"
    }
   ],
   "source": [
    "coffee_df['Color'].head()"
   ]
  },
  {
   "cell_type": "markdown",
   "id": "05c02088",
   "metadata": {},
   "source": [
    "We can get the prevalence of each one with `value_counts`"
   ]
  },
  {
   "cell_type": "code",
   "execution_count": 22,
   "id": "a68c6bf3",
   "metadata": {},
   "outputs": [
    {
     "data": {
      "text/plain": [
       "Green           20\n",
       "Blue-Green       3\n",
       "Bluish-Green     2\n",
       "None             1\n",
       "Name: Color, dtype: int64"
      ]
     },
     "execution_count": 22,
     "metadata": {},
     "output_type": "execute_result"
    }
   ],
   "source": [
    "coffee_df['Color'].value_counts()"
   ]
  },
  {
   "cell_type": "markdown",
   "id": "57659e17",
   "metadata": {},
   "source": [
    "```{admonition} Try it Yourself\n",
    "Note `value_counts` does not count the `NaN` values, but `count` counts all of the\n",
    "not missing values and the shape of the DataFrame is the total number of rows.\n",
    "How can you get the number of missing Colors?\n",
    "```\n",
    "\n",
    "What country is most prevalent in this dataset?"
   ]
  },
  {
   "cell_type": "code",
   "execution_count": 23,
   "id": "ba4641cc",
   "metadata": {},
   "outputs": [
    {
     "data": {
      "text/plain": [
       "India            13\n",
       "Uganda           10\n",
       "United States     2\n",
       "Ecuador           2\n",
       "Vietnam           1\n",
       "Name: Country.of.Origin, dtype: int64"
      ]
     },
     "execution_count": 23,
     "metadata": {},
     "output_type": "execute_result"
    }
   ],
   "source": [
    "coffee_df['Country.of.Origin'].value_counts()"
   ]
  },
  {
   "cell_type": "markdown",
   "id": "b83b9efb",
   "metadata": {},
   "source": [
    "We can get the name of the most common country out of this Series using `idmax`"
   ]
  },
  {
   "cell_type": "code",
   "execution_count": 24,
   "id": "d47c2825",
   "metadata": {},
   "outputs": [
    {
     "data": {
      "text/plain": [
       "'India'"
      ]
     },
     "execution_count": 24,
     "metadata": {},
     "output_type": "execute_result"
    }
   ],
   "source": [
    "coffee_df['Country.of.Origin'].value_counts().idxmax()"
   ]
  },
  {
   "cell_type": "markdown",
   "id": "945d3766",
   "metadata": {},
   "source": [
    "````{admonition} Question From Class\n",
    "Q: Can we calculate the mode to find the most prevalent?\n",
    "A: Yes. We can also use the mode function, which works on both numerical or nonnumerical\n",
    "values.\n",
    "\n",
    "````"
   ]
  },
  {
   "cell_type": "code",
   "execution_count": 25,
   "id": "18d85c61",
   "metadata": {},
   "outputs": [
    {
     "data": {
      "text/plain": [
       "0    India\n",
       "dtype: object"
      ]
     },
     "execution_count": 25,
     "metadata": {},
     "output_type": "execute_result"
    }
   ],
   "source": [
    "coffee_df['Country.of.Origin'].mode()"
   ]
  },
  {
   "cell_type": "markdown",
   "id": "17a34340",
   "metadata": {},
   "source": [
    "## Questions After Class\n",
    "\n",
    "\n",
    "### General Questions\n",
    "\n",
    "#### How to know what functions are compatible with other functions?\n",
    "```{toggle}\n",
    "\n",
    "This is something that builds up over time, but one thing to look for is to check the types. That's why we've been using `type()` so often in class.\n",
    "Having a goal for your analysis will also help.\n",
    "```\n",
    "\n",
    "#### Best place to find all the individual functions based on the .describe() function\n",
    "```{toggle}  \n",
    "\n",
    "Each one goes by the same name, mostly, but that also the [Pandas documentation](https://pandas.pydata.org/pandas-docs/stable/reference/api/pandas.DataFrame.describe.html) is the bes way to find more information on every pandas method. On any function, see the See also section too.\n",
    "```\n",
    "\n",
    "\n",
    "#### Are there panda functions to read files other than CSV?\n",
    "```{toggle}  \n",
    "Yes! See the hint on  [assignment 2](../assignments/02-python-access) for more information on this\n",
    "\n",
    "```\n",
    "\n",
    "### Clarifying\n",
    "\n",
    "#### Is sent_attr in the DataFrame loop its own variable that we assign, or is it a base Python function?\n",
    "```{toggle}  \n",
    "That's a variable that we created, it's equivalent to a loop variable.\n",
    "```\n",
    "\n",
    "\n",
    "#### Difference between %load and how we've been importing links to datasets in previous classes?\n",
    "```{toggle}  \n",
    "the pandas functions read data in and put it specifically into a DataFrame.\n",
    "\n",
    "The load magic reads a file in and basically pastes it into the jupyter cell.\n",
    "This one doesn't actually put the data into memory in python.\n",
    "```\n",
    "\n",
    "#### When I ran [sent_attr.split('-') for sent_attr in sentence_list] in Jupyter, I got a nameerror\n",
    "```{toggle}\n",
    "I also did at first, because I hadn't yet run the cell above so `sentence_list` was not defined.\n",
    "```\n",
    "\n",
    "\n",
    "\n",
    " Why do we use the value quantile instead of using quartile since we can use mean to find mean?\n",
    "```{toggle}\n",
    "It's just the name of the method.\n",
    "```\n",
    "\n",
    "\n",
    "\n",
    "### Coure Admin and Assignment Questions\n",
    "\n",
    "#### when are the achievements we earn in class going to be inputted in brightspace?\n",
    "```{toggle}\n",
    "Assignment achievements will be posted after grading is complete. Level 1s from class will be posted most weeks on Friday or over the weekend.  Right now we're a little behind as we get everything set up.\n",
    "```\n",
    "\n",
    "\n",
    "#### Is there anything we have to do for the assignment after commiting the changes to\n",
    "the files?\n",
    "```{toggle}\n",
    "Yes, after committing, push.  Once you can see your files on the GitHub website\n",
    "interface, we can see them for grading\n",
    "```\n",
    "\n",
    "\n",
    "\n",
    "#### When we push the homework are we pushing it to the portfolio?\n",
    "```{toggle}  \n",
    "No. when you accept the assignment it will create a new repository for that\n",
    "assignment. That's why it's importtant to accept each assignment.\n",
    "```\n",
    "\n",
    "\n",
    "\n",
    "\n",
    "#### Still a little unsure about what the num_numerical specifically is, is it just the number of numerical columns?\n",
    "```{toggle}  \n",
    "Yes the number of numerical columns.\n",
    "```\n",
    "\n",
    "\n",
    "\n",
    "## More Practice\n",
    "\n",
    "1. Produce a table with the mean for each score.\n",
    "1. Which variables have the most missing data?\n",
    "1. What's the total number of bags of coffee produced?\n",
    "1. Which ratings have similar ranges? (max, min)\n",
    "1. Which rating are most consistent across coffees?\n",
    "1. What score cutoff could you apply in order to select the top 10 best for Balance?"
   ]
  },
  {
   "cell_type": "code",
   "execution_count": null,
   "id": "becaf3ba",
   "metadata": {},
   "outputs": [],
   "source": []
  }
 ],
 "metadata": {
  "jupytext": {
   "text_representation": {
    "extension": ".md",
    "format_name": "myst",
    "format_version": 0.13,
    "jupytext_version": "1.10.3"
   }
  },
  "kernelspec": {
   "display_name": "Python 3",
   "language": "python",
   "name": "python3"
  },
  "language_info": {
   "codemirror_mode": {
    "name": "ipython",
    "version": 3
   },
   "file_extension": ".py",
   "mimetype": "text/x-python",
   "name": "python",
   "nbconvert_exporter": "python",
   "pygments_lexer": "ipython3",
   "version": "3.7.12"
  },
  "source_map": [
   12,
   16,
   18,
   28,
   55,
   58,
   60,
   64,
   66,
   69,
   71,
   89,
   91,
   105,
   108,
   113,
   115,
   118,
   120,
   124,
   128,
   130,
   135,
   138,
   148,
   151,
   157,
   159,
   165,
   167,
   171,
   173,
   179,
   182,
   195,
   197,
   201,
   203,
   207,
   209,
   214,
   216,
   219,
   221,
   231,
   233,
   240,
   242,
   253,
   255,
   357
  ]
 },
 "nbformat": 4,
 "nbformat_minor": 5
}