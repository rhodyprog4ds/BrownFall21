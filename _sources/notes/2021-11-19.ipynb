{
 "cells": [
  {
   "cell_type": "markdown",
   "id": "129f5df9",
   "metadata": {},
   "source": [
    "# Learning Curves"
   ]
  },
  {
   "cell_type": "code",
   "execution_count": 1,
   "id": "8b2be624",
   "metadata": {},
   "outputs": [],
   "source": [
    "import matplotlib.pyplot as plt\n",
    "import numpy as np\n",
    "import seaborn as sns\n",
    "import pandas as pd\n",
    "from sklearn import datasets\n",
    "from sklearn import cluster\n",
    "\n",
    "from sklearn import naive_bayes\n",
    "from sklearn import svm\n",
    "from sklearn import tree\n",
    "# import the whole model selection module\n",
    "from sklearn import model_selection\n",
    "sns.set_theme(palette='colorblind')"
   ]
  },
  {
   "cell_type": "markdown",
   "id": "c142677e",
   "metadata": {},
   "source": [
    "Today, we'll load a new dataset and use the default sklearn data structure for datasets.  We get back the default data stucture when we use a `load_` function without any parameters at all."
   ]
  },
  {
   "cell_type": "code",
   "execution_count": 2,
   "id": "74a458bb",
   "metadata": {},
   "outputs": [],
   "source": [
    "digits = datasets.load_digits()"
   ]
  },
  {
   "cell_type": "markdown",
   "id": "b857fed6",
   "metadata": {},
   "source": [
    "This shows us that the type is defined by sklearn and they called it `bunch`:"
   ]
  },
  {
   "cell_type": "code",
   "execution_count": 3,
   "id": "45f64256",
   "metadata": {},
   "outputs": [
    {
     "data": {
      "text/plain": [
       "sklearn.utils.Bunch"
      ]
     },
     "execution_count": 3,
     "metadata": {},
     "output_type": "execute_result"
    }
   ],
   "source": [
    "type(digits)"
   ]
  },
  {
   "cell_type": "markdown",
   "id": "c1e84341",
   "metadata": {},
   "source": [
    "We can print it out to begin exploring it."
   ]
  },
  {
   "cell_type": "code",
   "execution_count": 4,
   "id": "7c5adfd2",
   "metadata": {},
   "outputs": [
    {
     "data": {
      "text/plain": [
       "{'data': array([[ 0.,  0.,  5., ...,  0.,  0.,  0.],\n",
       "        [ 0.,  0.,  0., ..., 10.,  0.,  0.],\n",
       "        [ 0.,  0.,  0., ..., 16.,  9.,  0.],\n",
       "        ...,\n",
       "        [ 0.,  0.,  1., ...,  6.,  0.,  0.],\n",
       "        [ 0.,  0.,  2., ..., 12.,  0.,  0.],\n",
       "        [ 0.,  0., 10., ..., 12.,  1.,  0.]]),\n",
       " 'target': array([0, 1, 2, ..., 8, 9, 8]),\n",
       " 'frame': None,\n",
       " 'feature_names': ['pixel_0_0',\n",
       "  'pixel_0_1',\n",
       "  'pixel_0_2',\n",
       "  'pixel_0_3',\n",
       "  'pixel_0_4',\n",
       "  'pixel_0_5',\n",
       "  'pixel_0_6',\n",
       "  'pixel_0_7',\n",
       "  'pixel_1_0',\n",
       "  'pixel_1_1',\n",
       "  'pixel_1_2',\n",
       "  'pixel_1_3',\n",
       "  'pixel_1_4',\n",
       "  'pixel_1_5',\n",
       "  'pixel_1_6',\n",
       "  'pixel_1_7',\n",
       "  'pixel_2_0',\n",
       "  'pixel_2_1',\n",
       "  'pixel_2_2',\n",
       "  'pixel_2_3',\n",
       "  'pixel_2_4',\n",
       "  'pixel_2_5',\n",
       "  'pixel_2_6',\n",
       "  'pixel_2_7',\n",
       "  'pixel_3_0',\n",
       "  'pixel_3_1',\n",
       "  'pixel_3_2',\n",
       "  'pixel_3_3',\n",
       "  'pixel_3_4',\n",
       "  'pixel_3_5',\n",
       "  'pixel_3_6',\n",
       "  'pixel_3_7',\n",
       "  'pixel_4_0',\n",
       "  'pixel_4_1',\n",
       "  'pixel_4_2',\n",
       "  'pixel_4_3',\n",
       "  'pixel_4_4',\n",
       "  'pixel_4_5',\n",
       "  'pixel_4_6',\n",
       "  'pixel_4_7',\n",
       "  'pixel_5_0',\n",
       "  'pixel_5_1',\n",
       "  'pixel_5_2',\n",
       "  'pixel_5_3',\n",
       "  'pixel_5_4',\n",
       "  'pixel_5_5',\n",
       "  'pixel_5_6',\n",
       "  'pixel_5_7',\n",
       "  'pixel_6_0',\n",
       "  'pixel_6_1',\n",
       "  'pixel_6_2',\n",
       "  'pixel_6_3',\n",
       "  'pixel_6_4',\n",
       "  'pixel_6_5',\n",
       "  'pixel_6_6',\n",
       "  'pixel_6_7',\n",
       "  'pixel_7_0',\n",
       "  'pixel_7_1',\n",
       "  'pixel_7_2',\n",
       "  'pixel_7_3',\n",
       "  'pixel_7_4',\n",
       "  'pixel_7_5',\n",
       "  'pixel_7_6',\n",
       "  'pixel_7_7'],\n",
       " 'target_names': array([0, 1, 2, 3, 4, 5, 6, 7, 8, 9]),\n",
       " 'images': array([[[ 0.,  0.,  5., ...,  1.,  0.,  0.],\n",
       "         [ 0.,  0., 13., ..., 15.,  5.,  0.],\n",
       "         [ 0.,  3., 15., ..., 11.,  8.,  0.],\n",
       "         ...,\n",
       "         [ 0.,  4., 11., ..., 12.,  7.,  0.],\n",
       "         [ 0.,  2., 14., ..., 12.,  0.,  0.],\n",
       "         [ 0.,  0.,  6., ...,  0.,  0.,  0.]],\n",
       " \n",
       "        [[ 0.,  0.,  0., ...,  5.,  0.,  0.],\n",
       "         [ 0.,  0.,  0., ...,  9.,  0.,  0.],\n",
       "         [ 0.,  0.,  3., ...,  6.,  0.,  0.],\n",
       "         ...,\n",
       "         [ 0.,  0.,  1., ...,  6.,  0.,  0.],\n",
       "         [ 0.,  0.,  1., ...,  6.,  0.,  0.],\n",
       "         [ 0.,  0.,  0., ..., 10.,  0.,  0.]],\n",
       " \n",
       "        [[ 0.,  0.,  0., ..., 12.,  0.,  0.],\n",
       "         [ 0.,  0.,  3., ..., 14.,  0.,  0.],\n",
       "         [ 0.,  0.,  8., ..., 16.,  0.,  0.],\n",
       "         ...,\n",
       "         [ 0.,  9., 16., ...,  0.,  0.,  0.],\n",
       "         [ 0.,  3., 13., ..., 11.,  5.,  0.],\n",
       "         [ 0.,  0.,  0., ..., 16.,  9.,  0.]],\n",
       " \n",
       "        ...,\n",
       " \n",
       "        [[ 0.,  0.,  1., ...,  1.,  0.,  0.],\n",
       "         [ 0.,  0., 13., ...,  2.,  1.,  0.],\n",
       "         [ 0.,  0., 16., ..., 16.,  5.,  0.],\n",
       "         ...,\n",
       "         [ 0.,  0., 16., ..., 15.,  0.,  0.],\n",
       "         [ 0.,  0., 15., ..., 16.,  0.,  0.],\n",
       "         [ 0.,  0.,  2., ...,  6.,  0.,  0.]],\n",
       " \n",
       "        [[ 0.,  0.,  2., ...,  0.,  0.,  0.],\n",
       "         [ 0.,  0., 14., ..., 15.,  1.,  0.],\n",
       "         [ 0.,  4., 16., ..., 16.,  7.,  0.],\n",
       "         ...,\n",
       "         [ 0.,  0.,  0., ..., 16.,  2.,  0.],\n",
       "         [ 0.,  0.,  4., ..., 16.,  2.,  0.],\n",
       "         [ 0.,  0.,  5., ..., 12.,  0.,  0.]],\n",
       " \n",
       "        [[ 0.,  0., 10., ...,  1.,  0.,  0.],\n",
       "         [ 0.,  2., 16., ...,  1.,  0.,  0.],\n",
       "         [ 0.,  0., 15., ..., 15.,  0.,  0.],\n",
       "         ...,\n",
       "         [ 0.,  4., 16., ..., 16.,  6.,  0.],\n",
       "         [ 0.,  8., 16., ..., 16.,  8.,  0.],\n",
       "         [ 0.,  1.,  8., ..., 12.,  1.,  0.]]]),\n",
       " 'DESCR': \".. _digits_dataset:\\n\\nOptical recognition of handwritten digits dataset\\n--------------------------------------------------\\n\\n**Data Set Characteristics:**\\n\\n    :Number of Instances: 1797\\n    :Number of Attributes: 64\\n    :Attribute Information: 8x8 image of integer pixels in the range 0..16.\\n    :Missing Attribute Values: None\\n    :Creator: E. Alpaydin (alpaydin '@' boun.edu.tr)\\n    :Date: July; 1998\\n\\nThis is a copy of the test set of the UCI ML hand-written digits datasets\\nhttps://archive.ics.uci.edu/ml/datasets/Optical+Recognition+of+Handwritten+Digits\\n\\nThe data set contains images of hand-written digits: 10 classes where\\neach class refers to a digit.\\n\\nPreprocessing programs made available by NIST were used to extract\\nnormalized bitmaps of handwritten digits from a preprinted form. From a\\ntotal of 43 people, 30 contributed to the training set and different 13\\nto the test set. 32x32 bitmaps are divided into nonoverlapping blocks of\\n4x4 and the number of on pixels are counted in each block. This generates\\nan input matrix of 8x8 where each element is an integer in the range\\n0..16. This reduces dimensionality and gives invariance to small\\ndistortions.\\n\\nFor info on NIST preprocessing routines, see M. D. Garris, J. L. Blue, G.\\nT. Candela, D. L. Dimmick, J. Geist, P. J. Grother, S. A. Janet, and C.\\nL. Wilson, NIST Form-Based Handprint Recognition System, NISTIR 5469,\\n1994.\\n\\n.. topic:: References\\n\\n  - C. Kaynak (1995) Methods of Combining Multiple Classifiers and Their\\n    Applications to Handwritten Digit Recognition, MSc Thesis, Institute of\\n    Graduate Studies in Science and Engineering, Bogazici University.\\n  - E. Alpaydin, C. Kaynak (1998) Cascading Classifiers, Kybernetika.\\n  - Ken Tang and Ponnuthurai N. Suganthan and Xi Yao and A. Kai Qin.\\n    Linear dimensionalityreduction using relevance weighted LDA. School of\\n    Electrical and Electronic Engineering Nanyang Technological University.\\n    2005.\\n  - Claudio Gentile. A New Approximate Maximal Margin Classification\\n    Algorithm. NIPS. 2000.\\n\"}"
      ]
     },
     "execution_count": 4,
     "metadata": {},
     "output_type": "execute_result"
    }
   ],
   "source": [
    "digits"
   ]
  },
  {
   "cell_type": "markdown",
   "id": "dba07b44",
   "metadata": {},
   "source": [
    "We note that it has key value pairs, and that the last one is called `DESCR` and is text that describes the data.  If we send that to the print function it will be formatted more readably."
   ]
  },
  {
   "cell_type": "code",
   "execution_count": 5,
   "id": "449e0f36",
   "metadata": {},
   "outputs": [
    {
     "name": "stdout",
     "output_type": "stream",
     "text": [
      ".. _digits_dataset:\n",
      "\n",
      "Optical recognition of handwritten digits dataset\n",
      "--------------------------------------------------\n",
      "\n",
      "**Data Set Characteristics:**\n",
      "\n",
      "    :Number of Instances: 1797\n",
      "    :Number of Attributes: 64\n",
      "    :Attribute Information: 8x8 image of integer pixels in the range 0..16.\n",
      "    :Missing Attribute Values: None\n",
      "    :Creator: E. Alpaydin (alpaydin '@' boun.edu.tr)\n",
      "    :Date: July; 1998\n",
      "\n",
      "This is a copy of the test set of the UCI ML hand-written digits datasets\n",
      "https://archive.ics.uci.edu/ml/datasets/Optical+Recognition+of+Handwritten+Digits\n",
      "\n",
      "The data set contains images of hand-written digits: 10 classes where\n",
      "each class refers to a digit.\n",
      "\n",
      "Preprocessing programs made available by NIST were used to extract\n",
      "normalized bitmaps of handwritten digits from a preprinted form. From a\n",
      "total of 43 people, 30 contributed to the training set and different 13\n",
      "to the test set. 32x32 bitmaps are divided into nonoverlapping blocks of\n",
      "4x4 and the number of on pixels are counted in each block. This generates\n",
      "an input matrix of 8x8 where each element is an integer in the range\n",
      "0..16. This reduces dimensionality and gives invariance to small\n",
      "distortions.\n",
      "\n",
      "For info on NIST preprocessing routines, see M. D. Garris, J. L. Blue, G.\n",
      "T. Candela, D. L. Dimmick, J. Geist, P. J. Grother, S. A. Janet, and C.\n",
      "L. Wilson, NIST Form-Based Handprint Recognition System, NISTIR 5469,\n",
      "1994.\n",
      "\n",
      ".. topic:: References\n",
      "\n",
      "  - C. Kaynak (1995) Methods of Combining Multiple Classifiers and Their\n",
      "    Applications to Handwritten Digit Recognition, MSc Thesis, Institute of\n",
      "    Graduate Studies in Science and Engineering, Bogazici University.\n",
      "  - E. Alpaydin, C. Kaynak (1998) Cascading Classifiers, Kybernetika.\n",
      "  - Ken Tang and Ponnuthurai N. Suganthan and Xi Yao and A. Kai Qin.\n",
      "    Linear dimensionalityreduction using relevance weighted LDA. School of\n",
      "    Electrical and Electronic Engineering Nanyang Technological University.\n",
      "    2005.\n",
      "  - Claudio Gentile. A New Approximate Maximal Margin Classification\n",
      "    Algorithm. NIPS. 2000.\n",
      "\n"
     ]
    }
   ],
   "source": [
    "print(digits['DESCR'])"
   ]
  },
  {
   "cell_type": "markdown",
   "id": "2ddbc34f",
   "metadata": {},
   "source": [
    "This tells us that we are going to be predicting what digit (0,1,2,3,4,5,6,7,8, or 9) is in the image.\n",
    "\n",
    "To get an idea of what the images look like, we can use `matshow` which is short for matrix show. It takes a 2D matrix and plots it as a grayscale image. To get the actual color bar, we use the matplotlib `plt.gray()`.  \n",
    "````{margin}\n",
    "```{admonition} Try it yourself\n",
    "Try using matshow without `plt.gray()`. How is it different?  What might alternatives do?  What other code in this notebook influences how plots look?\n",
    "```\n",
    "```{tip}\n",
    "Removing a line from an excerpt of code can help you see hat that line did and learn more about how each piece work.\n",
    "```\n",
    "````"
   ]
  },
  {
   "cell_type": "code",
   "execution_count": 6,
   "id": "f91aba27",
   "metadata": {},
   "outputs": [
    {
     "data": {
      "text/plain": [
       "<matplotlib.image.AxesImage at 0x7fe297eae6d0>"
      ]
     },
     "execution_count": 6,
     "metadata": {},
     "output_type": "execute_result"
    },
    {
     "data": {
      "text/plain": [
       "<Figure size 432x288 with 0 Axes>"
      ]
     },
     "metadata": {},
     "output_type": "display_data"
    },
    {
     "data": {
      "image/png": "[encoded data removed]",
      "text/plain": [
       "<Figure size 288x288 with 1 Axes>"
      ]
     },
     "metadata": {
      "filenames": {
       "image/png": "/home/runner/work/BrownFall21/BrownFall21/_build/jupyter_execute/notes/2021-11-19_11_2.png"
      }
     },
     "output_type": "display_data"
    }
   ],
   "source": [
    "plt.gray()\n",
    "plt.matshow(digits.images[0])"
   ]
  },
  {
   "cell_type": "markdown",
   "id": "6681c836",
   "metadata": {},
   "source": [
    "`bunch` objects are designed for machine learning, so they have the features as \"data\" and target explicitly identified."
   ]
  },
  {
   "cell_type": "code",
   "execution_count": 7,
   "id": "791e1ebc",
   "metadata": {},
   "outputs": [],
   "source": [
    "digits_X = digits.data\n",
    "digits_y = digits.target"
   ]
  },
  {
   "cell_type": "markdown",
   "id": "01b25b1f",
   "metadata": {},
   "source": [
    "We can further check the type and shape of these"
   ]
  },
  {
   "cell_type": "code",
   "execution_count": 8,
   "id": "2459bf83",
   "metadata": {},
   "outputs": [
    {
     "data": {
      "text/plain": [
       "numpy.ndarray"
      ]
     },
     "execution_count": 8,
     "metadata": {},
     "output_type": "execute_result"
    }
   ],
   "source": [
    "type(digits_y)"
   ]
  },
  {
   "cell_type": "markdown",
   "id": "e48e1df0",
   "metadata": {},
   "source": [
    "```{note}\n",
    "because this is the target, it's okay that this is one dimensional.\n",
    "```"
   ]
  },
  {
   "cell_type": "code",
   "execution_count": 9,
   "id": "cc156cf3",
   "metadata": {},
   "outputs": [
    {
     "data": {
      "text/plain": [
       "(1797,)"
      ]
     },
     "execution_count": 9,
     "metadata": {},
     "output_type": "execute_result"
    }
   ],
   "source": [
    "digits_y.shape"
   ]
  },
  {
   "cell_type": "code",
   "execution_count": 10,
   "id": "da70c333",
   "metadata": {},
   "outputs": [
    {
     "data": {
      "text/plain": [
       "(1797, 64)"
      ]
     },
     "execution_count": 10,
     "metadata": {},
     "output_type": "execute_result"
    }
   ],
   "source": [
    "digits_X.shape"
   ]
  },
  {
   "cell_type": "markdown",
   "id": "79927840",
   "metadata": {},
   "source": [
    "This has one row for each sample and has reshaped the 8x8 image into a 64 length vector. So we have one 'feature' for each pixel in the images.\n",
    "\n",
    "We are going to do some model comparison, so we will instantiate estimator objects for two different classifiers."
   ]
  },
  {
   "cell_type": "code",
   "execution_count": 11,
   "id": "b6d5f8ea",
   "metadata": {},
   "outputs": [],
   "source": [
    "svm_clf = svm.SVC(gamma=0.001)\n",
    "gnb_clf = naive_bayes.GaussianNB()"
   ]
  },
  {
   "cell_type": "markdown",
   "id": "a9ead0d1",
   "metadata": {},
   "source": [
    "We're going to use a [ShuffleSplit](https://scikit-learn.org/stable/modules/generated/sklearn.model_selection.ShuffleSplit.html) object to do Cross validation with 100 iterations to get smoother mean test and train\n",
    "score curves, each time with 20% data randomly selected as a validation set.\n",
    "\n",
    "```{admonition} Further Reading\n",
    "\n",
    "You can see visualization of different [cross validation](https://scikit-learn.org/stable/auto_examples/model_selection/plot_cv_indices.html#visualize-cross-validation-indices-for-many-cv-objects) types in the sklearn documentation.\n",
    "```"
   ]
  },
  {
   "cell_type": "code",
   "execution_count": 12,
   "id": "8d69446e",
   "metadata": {},
   "outputs": [],
   "source": [
    "cv = model_selection.ShuffleSplit(n_splits=100, test_size=0.2, random_state=0)"
   ]
  },
  {
   "cell_type": "markdown",
   "id": "ca23f4ea",
   "metadata": {},
   "source": [
    "```{note}\n",
    "This object has a `random_state` object, the `GridSearchCV` that we were using didn't have a way to control the random state directly, but it accepts not only integers, but also cross validation objects to the `cv` parameter. The KFold cross validation object also has that parameter, so we could repeat what we did in previous classes by creating a `KFold` object with a fixed random state.\n",
    "```\n",
    "\n",
    "<!-- ```{code-cell} ipython3\n",
    "# this is why gridsearch cv doesn't have random state\n",
    "model_selection.KFold()\n",
    "``` -->\n",
    "\n",
    "We'll also create a linearly spaced list of training percentages and we'll also divide it into more jobs to be more computationally efficient."
   ]
  },
  {
   "cell_type": "code",
   "execution_count": 13,
   "id": "2f0c6a6b",
   "metadata": {},
   "outputs": [],
   "source": [
    "train_sizes=np.linspace(0.1, 1.0, 5)\n",
    "n_jobs=4"
   ]
  },
  {
   "cell_type": "markdown",
   "id": "b2e76142",
   "metadata": {},
   "source": [
    "```{admonition} Try it yourself\n",
    "Try varying the `n_jobs` parameter and tmiing the execution using the\n",
    "[timit magic](https://ipython.readthedocs.io/en/stable/interactive/magics.html#magic-timeit)\n",
    "```\n",
    "\n",
    "Now we can create the learning curve."
   ]
  },
  {
   "cell_type": "code",
   "execution_count": 14,
   "id": "583e4dcc",
   "metadata": {},
   "outputs": [],
   "source": [
    "train_sizes_svm, train_scores_svm, test_scores_svm, fit_times_svm, score_times_svm = model_selection.learning_curve(\n",
    "    svm_clf,\n",
    "    digits_X,\n",
    "    digits_y,\n",
    "    cv=cv,\n",
    "    n_jobs=n_jobs,\n",
    "    train_sizes=train_sizes,\n",
    "    return_times=True,)"
   ]
  },
  {
   "cell_type": "markdown",
   "id": "78c32db5",
   "metadata": {},
   "source": [
    "It returns the list of the counts for each training size (we input percentages and it returns counts)"
   ]
  },
  {
   "cell_type": "code",
   "execution_count": 15,
   "id": "d154319d",
   "metadata": {},
   "outputs": [
    {
     "data": {
      "text/plain": [
       "array([ 143,  467,  790, 1113, 1437])"
      ]
     },
     "execution_count": 15,
     "metadata": {},
     "output_type": "execute_result"
    }
   ],
   "source": [
    "train_sizes_svm"
   ]
  },
  {
   "cell_type": "markdown",
   "id": "fab583aa",
   "metadata": {},
   "source": [
    "The other parameters, it returns a list for each length that's 100 long because our cross validation was 100 iterations."
   ]
  },
  {
   "cell_type": "code",
   "execution_count": 16,
   "id": "a0e336f3",
   "metadata": {},
   "outputs": [
    {
     "data": {
      "text/plain": [
       "(5, 100)"
      ]
     },
     "execution_count": 16,
     "metadata": {},
     "output_type": "execute_result"
    }
   ],
   "source": [
    "fit_times_svm.shape"
   ]
  },
  {
   "cell_type": "markdown",
   "id": "3bdb3b0b",
   "metadata": {},
   "source": [
    "We can save it in a DataFrame after averaging over the 100 trials."
   ]
  },
  {
   "cell_type": "code",
   "execution_count": 17,
   "id": "42c8d898",
   "metadata": {},
   "outputs": [],
   "source": [
    "svm_learning_df = pd.DataFrame(data = train_sizes_svm, columns = ['train_size'])\n",
    "# svm_learning_df['train_size'] = train_sizes_svm\n",
    "svm_learning_df['train_score'] = np.mean(train_scores_svm,axis=1)\n",
    "svm_learning_df['test_score'] = np.mean(test_scores_svm,axis=1)\n",
    "svm_learning_df['fit_time'] = np.mean(fit_times_svm,axis=1)\n",
    "svm_learning_df['score_times'] = np.mean(score_times_svm,axis=1)"
   ]
  },
  {
   "cell_type": "markdown",
   "id": "ddd0d4af",
   "metadata": {},
   "source": [
    "then we can look at the DataFrame"
   ]
  },
  {
   "cell_type": "code",
   "execution_count": 18,
   "id": "cda61d42",
   "metadata": {},
   "outputs": [
    {
     "data": {
      "text/html": [
       "<div>\n",
       "<style scoped>\n",
       "    .dataframe tbody tr th:only-of-type {\n",
       "        vertical-align: middle;\n",
       "    }\n",
       "\n",
       "    .dataframe tbody tr th {\n",
       "        vertical-align: top;\n",
       "    }\n",
       "\n",
       "    .dataframe thead th {\n",
       "        text-align: right;\n",
       "    }\n",
       "</style>\n",
       "<table border=\"1\" class=\"dataframe\">\n",
       "  <thead>\n",
       "    <tr style=\"text-align: right;\">\n",
       "      <th></th>\n",
       "      <th>train_size</th>\n",
       "      <th>train_score</th>\n",
       "      <th>test_score</th>\n",
       "      <th>fit_time</th>\n",
       "      <th>score_times</th>\n",
       "    </tr>\n",
       "  </thead>\n",
       "  <tbody>\n",
       "    <tr>\n",
       "      <th>0</th>\n",
       "      <td>143</td>\n",
       "      <td>0.999510</td>\n",
       "      <td>0.923611</td>\n",
       "      <td>0.003670</td>\n",
       "      <td>0.006592</td>\n",
       "    </tr>\n",
       "    <tr>\n",
       "      <th>1</th>\n",
       "      <td>467</td>\n",
       "      <td>0.999101</td>\n",
       "      <td>0.978278</td>\n",
       "      <td>0.023070</td>\n",
       "      <td>0.018093</td>\n",
       "    </tr>\n",
       "    <tr>\n",
       "      <th>2</th>\n",
       "      <td>790</td>\n",
       "      <td>0.998848</td>\n",
       "      <td>0.986278</td>\n",
       "      <td>0.043494</td>\n",
       "      <td>0.027122</td>\n",
       "    </tr>\n",
       "    <tr>\n",
       "      <th>3</th>\n",
       "      <td>1113</td>\n",
       "      <td>0.998913</td>\n",
       "      <td>0.989500</td>\n",
       "      <td>0.069415</td>\n",
       "      <td>0.032736</td>\n",
       "    </tr>\n",
       "    <tr>\n",
       "      <th>4</th>\n",
       "      <td>1437</td>\n",
       "      <td>0.998859</td>\n",
       "      <td>0.991306</td>\n",
       "      <td>0.100612</td>\n",
       "      <td>0.037551</td>\n",
       "    </tr>\n",
       "  </tbody>\n",
       "</table>\n",
       "</div>"
      ],
      "text/plain": [
       "   train_size  train_score  test_score  fit_time  score_times\n",
       "0         143     0.999510    0.923611  0.003670     0.006592\n",
       "1         467     0.999101    0.978278  0.023070     0.018093\n",
       "2         790     0.998848    0.986278  0.043494     0.027122\n",
       "3        1113     0.998913    0.989500  0.069415     0.032736\n",
       "4        1437     0.998859    0.991306  0.100612     0.037551"
      ]
     },
     "execution_count": 18,
     "metadata": {},
     "output_type": "execute_result"
    }
   ],
   "source": [
    "svm_learning_df.head()"
   ]
  },
  {
   "cell_type": "markdown",
   "id": "49446c9b",
   "metadata": {},
   "source": [
    "We can use our skills in transforming data to make it easier to exmine just a subset of the scores.\n",
    "````{margin}\n",
    "```{hint}\n",
    "This is *one* thing we can analyze, but there are others. To earn prepare on assignment 11,  manipulate your reuslts a different way.\n",
    "```\n",
    "````"
   ]
  },
  {
   "cell_type": "code",
   "execution_count": 19,
   "id": "9756092d",
   "metadata": {},
   "outputs": [
    {
     "data": {
      "text/html": [
       "<div>\n",
       "<style scoped>\n",
       "    .dataframe tbody tr th:only-of-type {\n",
       "        vertical-align: middle;\n",
       "    }\n",
       "\n",
       "    .dataframe tbody tr th {\n",
       "        vertical-align: top;\n",
       "    }\n",
       "\n",
       "    .dataframe thead th {\n",
       "        text-align: right;\n",
       "    }\n",
       "</style>\n",
       "<table border=\"1\" class=\"dataframe\">\n",
       "  <thead>\n",
       "    <tr style=\"text-align: right;\">\n",
       "      <th></th>\n",
       "      <th>train_size</th>\n",
       "      <th>variable</th>\n",
       "      <th>value</th>\n",
       "    </tr>\n",
       "  </thead>\n",
       "  <tbody>\n",
       "    <tr>\n",
       "      <th>0</th>\n",
       "      <td>143</td>\n",
       "      <td>train_score</td>\n",
       "      <td>0.999510</td>\n",
       "    </tr>\n",
       "    <tr>\n",
       "      <th>1</th>\n",
       "      <td>467</td>\n",
       "      <td>train_score</td>\n",
       "      <td>0.999101</td>\n",
       "    </tr>\n",
       "  </tbody>\n",
       "</table>\n",
       "</div>"
      ],
      "text/plain": [
       "   train_size     variable     value\n",
       "0         143  train_score  0.999510\n",
       "1         467  train_score  0.999101"
      ]
     },
     "execution_count": 19,
     "metadata": {},
     "output_type": "execute_result"
    }
   ],
   "source": [
    "svm_learning_df_scores = svm_learning_df.melt(id_vars=['train_size'],value_vars=['train_score','test_score'])\n",
    "\n",
    "svm_learning_df_scores.head(2)"
   ]
  },
  {
   "cell_type": "markdown",
   "id": "c13c6d19",
   "metadata": {},
   "source": [
    "This new DataFrame allows us to make convenient plots.\n",
    "\n",
    "````{margin}\n",
    "```{tip}\n",
    "Getting used to thinking though these sorts of manipulations can take time, but\n",
    "is valuable. Investing time to learn these things will help you both write\n",
    "shorter, more readable, easy to examine, code (which is nicer to your co-workers)\n",
    "and help you develop flexible mental representation.  The flexiblity of your\n",
    "mental model of material is the way learning scientists distinguish compentent\n",
    "practioners from experts.  \n",
    "\n",
    "```\n",
    "````"
   ]
  },
  {
   "cell_type": "code",
   "execution_count": 20,
   "id": "c0002819",
   "metadata": {},
   "outputs": [
    {
     "data": {
      "text/plain": [
       "<AxesSubplot:xlabel='train_size', ylabel='value'>"
      ]
     },
     "execution_count": 20,
     "metadata": {},
     "output_type": "execute_result"
    },
    {
     "data": {
      "image/png": "[encoded data removed]",
      "text/plain": [
       "<Figure size 432x288 with 1 Axes>"
      ]
     },
     "metadata": {
      "filenames": {
       "image/png": "/home/runner/work/BrownFall21/BrownFall21/_build/jupyter_execute/notes/2021-11-19_38_1.png"
      }
     },
     "output_type": "display_data"
    }
   ],
   "source": [
    "sns.lineplot(data = svm_learning_df_scores, x ='train_size', y='value',hue='variable')"
   ]
  },
  {
   "cell_type": "code",
   "execution_count": 21,
   "id": "b74faa7c",
   "metadata": {},
   "outputs": [],
   "source": [
    "train_sizes_gnb, train_scores_gnb, test_scores_gnb, fit_times_gnb, score_times_gnb = model_selection.learning_curve(\n",
    "    gnb_clf,\n",
    "    digits_X,\n",
    "    digits_y,\n",
    "    cv=cv,\n",
    "    n_jobs=n_jobs,\n",
    "    train_sizes=train_sizes,\n",
    "    return_times=True,)"
   ]
  },
  {
   "cell_type": "markdown",
   "id": "d38f647f",
   "metadata": {},
   "source": [
    "We can do the same for Gaussian Naive Bayes"
   ]
  },
  {
   "cell_type": "code",
   "execution_count": 22,
   "id": "df6bf5da",
   "metadata": {},
   "outputs": [],
   "source": [
    "gnb_learning_df = pd.DataFrame(data = train_sizes_gnb, columns = ['train_size'])\n",
    "# gnb_learning_df['train_size'] = train_sizes_gnb\n",
    "gnb_learning_df['train_score'] = np.mean(train_scores_gnb,axis=1)\n",
    "gnb_learning_df['test_score'] = np.mean(test_scores_gnb,axis=1)\n",
    "gnb_learning_df['fit_time'] = np.mean(fit_times_gnb,axis=1)\n",
    "gnb_learning_df['score_times_gnb'] = np.mean(score_times_gnb,axis=1)"
   ]
  },
  {
   "cell_type": "code",
   "execution_count": 23,
   "id": "18e81cdf",
   "metadata": {},
   "outputs": [
    {
     "data": {
      "text/plain": [
       "<AxesSubplot:xlabel='train_size', ylabel='value'>"
      ]
     },
     "execution_count": 23,
     "metadata": {},
     "output_type": "execute_result"
    },
    {
     "data": {
      "image/png": "[encoded data removed]",
      "text/plain": [
       "<Figure size 432x288 with 1 Axes>"
      ]
     },
     "metadata": {
      "filenames": {
       "image/png": "/home/runner/work/BrownFall21/BrownFall21/_build/jupyter_execute/notes/2021-11-19_42_1.png"
      }
     },
     "output_type": "display_data"
    }
   ],
   "source": [
    "gnb_learning_scores = gnb_learning_df.melt(id_vars=['train_size'],value_vars=['train_score','test_score'])\n",
    "sns.lineplot(data = gnb_learning_scores, x ='train_size', y='value',hue='variable')"
   ]
  },
  {
   "cell_type": "markdown",
   "id": "cc042574",
   "metadata": {},
   "source": [
    "````{margin}\n",
    "```{admonition} Question in Class\n",
    "This was a question after class, but the answer makes more sense inline here.\n",
    "```\n",
    "````\n",
    "These scores are overall not as high as the SVM (note the values on the y axis. )\n",
    "\n",
    "## Questions After Class\n",
    "\n",
    "\n",
    "### When would I use an SVM?\n",
    "\n",
    "```{toggle}\n",
    "SVMs are a very powerful model and they're good when you need relatively quick\n",
    "training (and test) time, a model that takes a small amount of memory (eg running\n",
    "  the prediction on a mobile device or smart device), with high accuracy.  \n",
    "```"
   ]
  }
 ],
 "metadata": {
  "jupytext": {
   "text_representation": {
    "extension": ".md",
    "format_name": "myst",
    "format_version": 0.13,
    "jupytext_version": "1.10.3"
   }
  },
  "kernelspec": {
   "display_name": "Python 3",
   "language": "python",
   "name": "python3"
  },
  "language_info": {
   "codemirror_mode": {
    "name": "ipython",
    "version": 3
   },
   "file_extension": ".py",
   "mimetype": "text/x-python",
   "name": "python",
   "nbconvert_exporter": "python",
   "pygments_lexer": "ipython3",
   "version": "3.7.12"
  },
  "source_map": [
   12,
   16,
   30,
   34,
   36,
   40,
   42,
   46,
   48,
   52,
   54,
   68,
   71,
   75,
   78,
   82,
   84,
   90,
   94,
   96,
   102,
   105,
   115,
   117,
   130,
   133,
   141,
   150,
   153,
   155,
   158,
   160,
   163,
   170,
   173,
   175,
   184,
   188,
   204,
   208,
   217,
   221,
   230,
   233
  ]
 },
 "nbformat": 4,
 "nbformat_minor": 5
}