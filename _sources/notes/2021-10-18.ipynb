{
 "cells": [
  {
   "cell_type": "markdown",
   "id": "090eb572",
   "metadata": {},
   "source": [
    "# Making Predictions in Classification"
   ]
  },
  {
   "cell_type": "code",
   "execution_count": 1,
   "id": "8825f1a2",
   "metadata": {},
   "outputs": [],
   "source": [
    "import pandas as pd\n",
    "import seaborn as sns\n",
    "import numpy as np\n",
    "from sklearn.model_selection import train_test_split\n",
    "from sklearn.naive_bayes import GaussianNB\n",
    "from sklearn.metrics import confusion_matrix, classification_report, roc_auc_score\n",
    "iris_df = sns.load_dataset('iris')"
   ]
  },
  {
   "cell_type": "code",
   "execution_count": 2,
   "id": "42833917",
   "metadata": {},
   "outputs": [
    {
     "data": {
      "text/html": [
       "<div>\n",
       "<style scoped>\n",
       "    .dataframe tbody tr th:only-of-type {\n",
       "        vertical-align: middle;\n",
       "    }\n",
       "\n",
       "    .dataframe tbody tr th {\n",
       "        vertical-align: top;\n",
       "    }\n",
       "\n",
       "    .dataframe thead th {\n",
       "        text-align: right;\n",
       "    }\n",
       "</style>\n",
       "<table border=\"1\" class=\"dataframe\">\n",
       "  <thead>\n",
       "    <tr style=\"text-align: right;\">\n",
       "      <th></th>\n",
       "      <th>sepal_length</th>\n",
       "      <th>sepal_width</th>\n",
       "      <th>petal_length</th>\n",
       "      <th>petal_width</th>\n",
       "      <th>species</th>\n",
       "    </tr>\n",
       "  </thead>\n",
       "  <tbody>\n",
       "    <tr>\n",
       "      <th>0</th>\n",
       "      <td>5.1</td>\n",
       "      <td>3.5</td>\n",
       "      <td>1.4</td>\n",
       "      <td>0.2</td>\n",
       "      <td>setosa</td>\n",
       "    </tr>\n",
       "  </tbody>\n",
       "</table>\n",
       "</div>"
      ],
      "text/plain": [
       "   sepal_length  sepal_width  petal_length  petal_width species\n",
       "0           5.1          3.5           1.4          0.2  setosa"
      ]
     },
     "execution_count": 2,
     "metadata": {},
     "output_type": "execute_result"
    }
   ],
   "source": [
    "iris_df.head(1)"
   ]
  },
  {
   "cell_type": "code",
   "execution_count": 3,
   "id": "13b2303c",
   "metadata": {},
   "outputs": [],
   "source": [
    "feature_vars = ['sepal_length', 'sepal_width','petal_length', 'petal_width',]\n",
    "target_var = 'species'\n",
    "\n",
    "X_train, X_test, y_train, y_test = train_test_split(iris_df[feature_vars],\n",
    "                          iris_df[target_var], train_size=.8, random_state=0)"
   ]
  },
  {
   "cell_type": "code",
   "execution_count": 4,
   "id": "94e10eb5",
   "metadata": {},
   "outputs": [
    {
     "data": {
      "text/plain": [
       "(120, 4)"
      ]
     },
     "execution_count": 4,
     "metadata": {},
     "output_type": "execute_result"
    }
   ],
   "source": [
    "X_train.shape"
   ]
  },
  {
   "cell_type": "code",
   "execution_count": 5,
   "id": "2e79b793",
   "metadata": {},
   "outputs": [
    {
     "data": {
      "text/plain": [
       "(150, 5)"
      ]
     },
     "execution_count": 5,
     "metadata": {},
     "output_type": "execute_result"
    }
   ],
   "source": [
    "iris_df.shape"
   ]
  },
  {
   "cell_type": "code",
   "execution_count": 6,
   "id": "50c03fd1",
   "metadata": {},
   "outputs": [
    {
     "data": {
      "text/plain": [
       "120.0"
      ]
     },
     "execution_count": 6,
     "metadata": {},
     "output_type": "execute_result"
    }
   ],
   "source": [
    ".8*150"
   ]
  },
  {
   "cell_type": "code",
   "execution_count": 7,
   "id": "a0b1625b",
   "metadata": {},
   "outputs": [
    {
     "data": {
      "text/plain": [
       "GaussianNB()"
      ]
     },
     "execution_count": 7,
     "metadata": {},
     "output_type": "execute_result"
    }
   ],
   "source": [
    "gnb = GaussianNB()\n",
    "gnb.fit(X_train, y_train)"
   ]
  },
  {
   "cell_type": "code",
   "execution_count": 8,
   "id": "9bf6c70f",
   "metadata": {},
   "outputs": [
    {
     "data": {
      "text/plain": [
       "array(['virginica', 'versicolor', 'setosa', 'virginica', 'setosa',\n",
       "       'virginica', 'setosa', 'versicolor', 'versicolor', 'versicolor',\n",
       "       'versicolor', 'versicolor', 'versicolor', 'versicolor',\n",
       "       'versicolor', 'setosa', 'versicolor', 'versicolor', 'setosa',\n",
       "       'setosa', 'virginica', 'versicolor', 'setosa', 'setosa',\n",
       "       'virginica', 'setosa', 'setosa', 'versicolor', 'versicolor',\n",
       "       'setosa'], dtype='<U10')"
      ]
     },
     "execution_count": 8,
     "metadata": {},
     "output_type": "execute_result"
    }
   ],
   "source": [
    "y_pred = gnb.predict(X_test)\n",
    "y_pred"
   ]
  },
  {
   "cell_type": "code",
   "execution_count": 9,
   "id": "431970f7",
   "metadata": {},
   "outputs": [
    {
     "data": {
      "text/plain": [
       "0.9666666666666667"
      ]
     },
     "execution_count": 9,
     "metadata": {},
     "output_type": "execute_result"
    }
   ],
   "source": [
    "gnb.score(X_test,y_test)"
   ]
  },
  {
   "cell_type": "code",
   "execution_count": 10,
   "id": "33a2427f",
   "metadata": {},
   "outputs": [
    {
     "data": {
      "text/plain": [
       "array([[1.63380783e-232, 2.18878438e-006, 9.99997811e-001],\n",
       "       [1.82640391e-082, 9.99998304e-001, 1.69618390e-006],\n",
       "       [1.00000000e+000, 7.10250510e-019, 3.65449801e-028],\n",
       "       [1.58508262e-305, 1.04649020e-006, 9.99998954e-001],\n",
       "       [1.00000000e+000, 8.59168655e-017, 4.22159374e-027],\n",
       "       [6.39815011e-321, 1.56450314e-010, 1.00000000e+000],\n",
       "       [1.00000000e+000, 1.09797313e-016, 5.30276557e-027],\n",
       "       [1.25122812e-146, 7.74052109e-001, 2.25947891e-001],\n",
       "       [5.34357526e-150, 9.07564955e-001, 9.24350453e-002],\n",
       "       [5.67261712e-093, 9.99882109e-001, 1.17891111e-004],\n",
       "       [2.38651144e-210, 5.29609631e-001, 4.70390369e-001],\n",
       "       [8.12047631e-132, 9.43762575e-001, 5.62374248e-002],\n",
       "       [5.25177109e-132, 9.98864361e-001, 1.13563851e-003],\n",
       "       [1.24498038e-139, 9.49838641e-001, 5.01613586e-002],\n",
       "       [4.08232760e-140, 9.88043864e-001, 1.19561365e-002],\n",
       "       [1.00000000e+000, 7.12837229e-019, 4.10162749e-029],\n",
       "       [4.19553996e-131, 9.87944980e-001, 1.20550201e-002],\n",
       "       [4.13286716e-111, 9.99942383e-001, 5.76167389e-005],\n",
       "       [1.00000000e+000, 2.24933112e-015, 3.63624519e-026],\n",
       "       [1.00000000e+000, 9.86750131e-016, 2.42355087e-025],\n",
       "       [1.85930865e-186, 1.66966805e-002, 9.83303319e-001],\n",
       "       [8.83060167e-130, 9.92757232e-001, 7.24276827e-003],\n",
       "       [1.00000000e+000, 4.26380344e-013, 4.34222344e-023],\n",
       "       [1.00000000e+000, 1.28045851e-016, 1.26708019e-027],\n",
       "       [2.43739221e-168, 1.83516225e-001, 8.16483775e-001],\n",
       "       [1.00000000e+000, 2.62431469e-018, 6.72573168e-029],\n",
       "       [1.00000000e+000, 3.20605389e-011, 1.52433420e-020],\n",
       "       [2.20964201e-110, 9.99291229e-001, 7.08771072e-004],\n",
       "       [1.39297338e-046, 9.99999972e-001, 2.81392389e-008],\n",
       "       [1.00000000e+000, 1.85943966e-013, 1.58833385e-023]])"
      ]
     },
     "execution_count": 10,
     "metadata": {},
     "output_type": "execute_result"
    }
   ],
   "source": [
    "gnb.predict_proba(X_test)"
   ]
  },
  {
   "cell_type": "code",
   "execution_count": 11,
   "id": "2d888d17",
   "metadata": {},
   "outputs": [],
   "source": [
    "y_pred_prob = np.max(gnb.predict_proba(X_test),axis=1)"
   ]
  },
  {
   "cell_type": "code",
   "execution_count": 12,
   "id": "41368b98",
   "metadata": {},
   "outputs": [
    {
     "data": {
      "text/plain": [
       "array([0.99999781, 0.9999983 , 1.        , 0.99999895, 1.        ,\n",
       "       1.        , 1.        , 0.77405211, 0.90756495, 0.99988211,\n",
       "       0.52960963, 0.94376258, 0.99886436, 0.94983864, 0.98804386,\n",
       "       1.        , 0.98794498, 0.99994238, 1.        , 1.        ,\n",
       "       0.98330332, 0.99275723, 1.        , 1.        , 0.81648378,\n",
       "       1.        , 1.        , 0.99929123, 0.99999997, 1.        ])"
      ]
     },
     "execution_count": 12,
     "metadata": {},
     "output_type": "execute_result"
    }
   ],
   "source": [
    "y_pred_prob"
   ]
  },
  {
   "cell_type": "code",
   "execution_count": null,
   "id": "426899de",
   "metadata": {},
   "outputs": [],
   "source": []
  }
 ],
 "metadata": {
  "jupytext": {
   "text_representation": {
    "extension": ".md",
    "format_name": "myst",
    "format_version": 0.13,
    "jupytext_version": "1.10.3"
   }
  },
  "kernelspec": {
   "display_name": "Python 3",
   "language": "python",
   "name": "python3"
  },
  "language_info": {
   "codemirror_mode": {
    "name": "ipython",
    "version": 3
   },
   "file_extension": ".py",
   "mimetype": "text/x-python",
   "name": "python",
   "nbconvert_exporter": "python",
   "pygments_lexer": "ipython3",
   "version": "3.7.12"
  },
  "source_map": [
   12,
   16,
   26,
   30,
   38,
   42,
   46,
   50,
   55,
   60,
   64,
   68,
   72,
   76
  ]
 },
 "nbformat": 4,
 "nbformat_minor": 5
}