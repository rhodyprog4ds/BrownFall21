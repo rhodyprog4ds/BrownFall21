{
 "cells": [
  {
   "cell_type": "markdown",
   "id": "25277ae4",
   "metadata": {},
   "source": [
    "# Jupyter Notebook Tour & Python Review\n",
    "\n",
    "\n",
    "## A jupyter notebook tour\n",
    "\n",
    "Launch a [`jupyter notebook`](https://jupyter-notebook.readthedocs.io/en/stable/notebook.html):\n",
    "- on Windows, use anaconda terminal\n",
    "- on Mac/Linux, use terminal\n",
    "\n",
    "```\n",
    "cd path/to/where/you/save/notes\n",
    "jupyter notebook\n",
    "```\n",
    "\n",
    "\n",
    "\n",
    "A Jupyter notebook has two modes. When you first open, it is in command mode. The border is blue in command mode.\n",
    "\n",
    "![screenshot of a code cell in command mode](../img/command_mode.png)\n",
    "\n",
    "When you press a key in command mode it works like a shortcut. For example `p` shows the command search menu.\n",
    "\n",
    "![screenshot of the command menu](../img/command_menu.png)\n",
    "\n",
    "\n",
    "If you press `enter` (or `return`)  or click on the highlighted cell, which is the boxes we can type in,  it changes to edit mode. The border is green in edit mode\n",
    "\n",
    "![screenshot of a code cell in edit mode](../img/code_cell.png)\n",
    "\n",
    "There are two type of cells that we will used: code and markdown. You can change that in command mode with `y` for code and `m` for markdown or on the cell type menu at the top of the notebook.\n",
    "\n",
    "![screenshot of the cell type menu](../img/cell_type_menu.png)\n",
    "\n",
    "++\n",
    "\n",
    "This is a markdown cell\n",
    "- we can make\n",
    "- itemized lists of\n",
    "- bullet points\n",
    "\n",
    "1. and we can make nubmered\n",
    "1. lists, and not have to worry\n",
    "1. about renumbering them\n",
    "1. if we add a step in the middle later"
   ]
  },
  {
   "cell_type": "markdown",
   "id": "3a9d7789",
   "metadata": {},
   "source": [
    "### Notebook Reminders\n",
    "\n",
    "Blue border is command mode, green border is edit mode\n",
    "\n",
    "use Escape to get to command mode\n",
    "\n",
    "\n",
    "Common command mode actions:\n",
    "- m: switch cell to markdown\n",
    "- y: switch cell to code\n",
    "- a: add a cell above\n",
    "- b: add a cell below\n",
    "- c: copy cell\n",
    "- v: paste the cell\n",
    "- 0 + 0: restart kernel\n",
    "- p: command menu\n",
    "\n",
    "use enter/return to get to edit mode"
   ]
  },
  {
   "cell_type": "markdown",
   "id": "3a526595",
   "metadata": {},
   "source": [
    "In code cells, we can use a python interpreter, for example as a calculator."
   ]
  },
  {
   "cell_type": "code",
   "execution_count": 1,
   "id": "da8a99a9",
   "metadata": {},
   "outputs": [
    {
     "data": {
      "text/plain": [
       "10"
      ]
     },
     "execution_count": 1,
     "metadata": {},
     "output_type": "execute_result"
    }
   ],
   "source": [
    "4+6"
   ]
  },
  {
   "cell_type": "markdown",
   "id": "a7fb7761",
   "metadata": {},
   "source": [
    "It prints out the last line of code that it ran, even though it executes all of them"
   ]
  },
  {
   "cell_type": "code",
   "execution_count": 2,
   "id": "a2519ba7",
   "metadata": {},
   "outputs": [
    {
     "data": {
      "text/plain": [
       "'sarahsarahsarah'"
      ]
     },
     "execution_count": 2,
     "metadata": {},
     "output_type": "execute_result"
    }
   ],
   "source": [
    "name = 'sarah'\n",
    "4+5\n",
    "name *3"
   ]
  },
  {
   "cell_type": "markdown",
   "id": "8ce034a2",
   "metadata": {},
   "source": [
    "```{note}\n",
    "For a little more python review, see my [2020 CSC310 notes](https://rhodyprog4ds.github.io/BrownFall20/notes/2020-09-11.html) this is just enough for this assignment.\n",
    "```\n",
    "\n",
    "## Just enough Git for Assignment 1\n",
    "\n",
    "\n",
    "\n",
    "### Assignment 1:\n",
    "\n",
    "Goals for this assignment\n",
    "- setup your portfolio\n",
    "- check that you understand the grading\n",
    "- review Python basics\n",
    "- practice with git and GitHub"
   ]
  },
  {
   "cell_type": "markdown",
   "id": "fb6f842e",
   "metadata": {},
   "source": [
    "### Why Version control\n",
    "\n",
    "We often want to keep track of the different versions in case we want to go back, but this can be painful:\n",
    "\n",
    "\n",
    "![PhD Comic with file names changing from final.doc to final_rev.2.doc to final_rev.6.COMMENTS.doc to FINAL_rev.8.comments5.CORRECTIONS.doc to FINAL_rev.18.comments7.corrections9.MORE.30.doc to FINAL_rev.22.comments49.corrections.10.#@$%WHYDIDICOMETOGRADSCHOOL????.doc](https://raw.githubusercontent.com/rhodyprog4ds/rhodyds/main/img/phd_versioning.png)"
   ]
  },
  {
   "cell_type": "markdown",
   "id": "2cd0a6b4",
   "metadata": {},
   "source": [
    "We typically organize projects in folder\n",
    "![a cartoon of a folder with files and folders in it, the files have curly brackets on them, to symbolize being code](https://raw.githubusercontent.com/rhodyprog4ds/rhodyds/main/img/project_folder.svg)"
   ]
  },
  {
   "cell_type": "markdown",
   "id": "f345a6f0",
   "metadata": {},
   "source": [
    "A {term}`repository` is a folder with a hidden directory named `.git`\n",
    "![a cartoon of a folder with files and folders in it, the files have curly brackets on them, to symbolize being code, and a grayed file to symbolize that it's hidden, named .git and a stack  in it](https://raw.githubusercontent.com/rhodyprog4ds/rhodyds/main/img/git_repository.svg)\n",
    "\n",
    "The `git` applicaiton manages that hidden directory, we don't write to it directly, which\n",
    "is why we keep it hidden.\n",
    "\n",
    "Git is a distributed system, you have a local version and a remote version.\n",
    "![a cloud labeled github.com with a repository icon in it and a laptop cartoon with a repository icon in it, connected by an arrow](https://raw.githubusercontent.com/rhodyprog4ds/rhodyds/main/img/git_distributed.svg)"
   ]
  },
  {
   "cell_type": "markdown",
   "id": "dcf58808",
   "metadata": {},
   "source": [
    "Once a repository exists on GitHub, we get a local copy by cloning it after we\n",
    "get its address from the GitHub interface, by clicking on the green code butto that is below the menu area to the right.  It's at the top right corner of the list of files in the repository.\n",
    "\n",
    "![a screen shot of the GitHub](../img/get_clone_url.png)\n",
    "\n",
    "For this part, use GitBash on windows or terminal otherwise:\n",
    "If you set up a Personal Access Token you can use the https version\n",
    "\n",
    "<!--\n",
    "```{warning}\n",
    "the `%%bash` is an ipython magic function, we''l see more of them next class. However,\n",
    "this one doesn't work on windows by default.  It [looks like there's a way](https://stackoverflow.com/questions/16281910/ipython-notebook-bash-magic-error) but I haven't tested it.\n",
    "```\n",
    "-->\n",
    "\n",
    "````{margin}\n",
    "\n",
    "```{note}\n",
    "These notes can be downloaded as an actual notebook, click the <i class=\"fab fa-github\"></i> GitHub logo\n",
    "at the top of the page and choose .ipynb.  The following is not runnabel in the notebook as is.\n",
    "```\n",
    "````\n",
    "\n",
    "After `cd/to/where/you/want/your/repo/locally`:\n",
    "\n",
    "```bash\n",
    "git clone https://github.com/rhodyprog4ds/portfolio-example\n",
    "```\n",
    "\n",
    "If you set up ssh keys you use that instead\n",
    "```\n",
    "git clone git@github.com:rhodyprog4ds/portfolio-example.git\n",
    "```\n",
    "\n",
    "Once it's cloned, then you can navigate into the new folder:\n",
    "```\n",
    "cd portfolio-example\n",
    "```\n",
    "\n",
    "Then you can change files, for example adding to the intro.\n",
    "\n",
    "Some common actions in Git, you'll want.\n",
    "\n",
    "Check on the status of your repository:\n",
    "```\n",
    "git status\n",
    "```\n",
    "\n",
    "Add files to the staging area:\n",
    "```\n",
    "git add filename\n",
    "```\n",
    "\n",
    "Add all changes to the staging area:\n",
    "```\n",
    "git add .\n",
    "```\n",
    "\n",
    "Commit your changes to the repository:\n",
    "```\n",
    "git commit -m 'a message that will help your future self know what this part is'\n",
    "```\n",
    "\n",
    "Push your changes to GitHub\n",
    "```\n",
    "git push\n",
    "```\n",
    "\n",
    "Pull  changes from GitHub\n",
    "```\n",
    "git pull\n",
    "```\n",
    "\n",
    "You can also go through these same basic steps: add, commit, push\n",
    "\n",
    "<!--\n",
    "````{margin}\n",
    "this does a little bit\n",
    "````\n",
    "\n",
    "```\n",
    "echo -e \" This portflio is an example\" >> intro.md\n",
    " -->\n",
    "\n",
    "\n",
    "\n",
    "\n",
    "\n",
    "## More on git\n",
    "\n",
    "- [GitHub Hello World](https://guides.github.com/activities/hello-world/)\n",
    "- [Software Carpentry Git Novice Lesson](https://swcarpentry.github.io/git-novice/)\n",
    "\n",
    "Also, in Spring 2022, I'm teaching a section of CSC392: Topics in Computing,\n",
    "Introduction to Computer Systems, that will cover tools of the trade (git, bash, etc)\n",
    "and how they all work in great detail.  \n",
    "\n",
    "\n",
    "## More on Python\n",
    "\n",
    "Read [Pep 8](https://www.python.org/dev/peps/pep-0008/) to see what good style in Python is."
   ]
  }
 ],
 "metadata": {
  "jupytext": {
   "text_representation": {
    "extension": ".md",
    "format_name": "myst",
    "format_version": 0.13,
    "jupytext_version": "1.10.3"
   }
  },
  "kernelspec": {
   "display_name": "Python 3",
   "language": "python",
   "name": "python3"
  },
  "language_info": {
   "codemirror_mode": {
    "name": "ipython",
    "version": 3
   },
   "file_extension": ".py",
   "mimetype": "text/x-python",
   "name": "python",
   "nbconvert_exporter": "python",
   "pygments_lexer": "ipython3",
   "version": "3.7.12"
  },
  "source_map": [
   12,
   58,
   77,
   81,
   83,
   86,
   90,
   108,
   115,
   119,
   129
  ]
 },
 "nbformat": 4,
 "nbformat_minor": 5
}