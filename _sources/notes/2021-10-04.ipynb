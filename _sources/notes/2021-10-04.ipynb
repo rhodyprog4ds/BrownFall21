{
 "cells": [
  {
   "cell_type": "markdown",
   "id": "a3c88376",
   "metadata": {},
   "source": [
    "# Building Datasets From multiple Sources"
   ]
  },
  {
   "cell_type": "markdown",
   "id": "54cfb80f",
   "metadata": {},
   "source": [
    "```\n",
    "1. remember, that\n",
    "1. with markdown\n",
    "1. you can make a numbered list\n",
    "1. using all `1.`\n",
    "```\n",
    "\n",
    "renders as:\n",
    "\n",
    "1. remember, that\n",
    "1. with markdown\n",
    "1. you can make a numbered list\n",
    "1. using all `1.`"
   ]
  },
  {
   "cell_type": "code",
   "execution_count": 1,
   "id": "65b2648e",
   "metadata": {},
   "outputs": [],
   "source": [
    "import pandas as pd"
   ]
  },
  {
   "cell_type": "code",
   "execution_count": 2,
   "id": "35f94581",
   "metadata": {},
   "outputs": [],
   "source": [
    "course_data_url = 'https://raw.githubusercontent.com/rhodyprog4ds/rhodyds/main/data/'"
   ]
  },
  {
   "cell_type": "markdown",
   "id": "44f0d46c",
   "metadata": {},
   "source": [
    "Today we're going to look at some data on NBA  (National Basketball Association) players.  \n",
    "\n",
    "## Combining Multiple Tables"
   ]
  },
  {
   "cell_type": "code",
   "execution_count": 3,
   "id": "ef17a0b8",
   "metadata": {},
   "outputs": [],
   "source": [
    "p18 = pd.read_csv(course_data_url +'2018-players.csv')\n",
    "p19 = pd.read_csv(course_data_url +'2019-players.csv')"
   ]
  },
  {
   "cell_type": "code",
   "execution_count": 4,
   "id": "eee565b6",
   "metadata": {},
   "outputs": [
    {
     "data": {
      "text/html": [
       "<div>\n",
       "<style scoped>\n",
       "    .dataframe tbody tr th:only-of-type {\n",
       "        vertical-align: middle;\n",
       "    }\n",
       "\n",
       "    .dataframe tbody tr th {\n",
       "        vertical-align: top;\n",
       "    }\n",
       "\n",
       "    .dataframe thead th {\n",
       "        text-align: right;\n",
       "    }\n",
       "</style>\n",
       "<table border=\"1\" class=\"dataframe\">\n",
       "  <thead>\n",
       "    <tr style=\"text-align: right;\">\n",
       "      <th></th>\n",
       "      <th>TEAM_ID</th>\n",
       "      <th>PLAYER_ID</th>\n",
       "      <th>SEASON</th>\n",
       "    </tr>\n",
       "  </thead>\n",
       "  <tbody>\n",
       "    <tr>\n",
       "      <th>0</th>\n",
       "      <td>1610612761</td>\n",
       "      <td>202695</td>\n",
       "      <td>2018</td>\n",
       "    </tr>\n",
       "    <tr>\n",
       "      <th>1</th>\n",
       "      <td>1610612761</td>\n",
       "      <td>1627783</td>\n",
       "      <td>2018</td>\n",
       "    </tr>\n",
       "    <tr>\n",
       "      <th>2</th>\n",
       "      <td>1610612761</td>\n",
       "      <td>201188</td>\n",
       "      <td>2018</td>\n",
       "    </tr>\n",
       "    <tr>\n",
       "      <th>3</th>\n",
       "      <td>1610612761</td>\n",
       "      <td>201980</td>\n",
       "      <td>2018</td>\n",
       "    </tr>\n",
       "    <tr>\n",
       "      <th>4</th>\n",
       "      <td>1610612761</td>\n",
       "      <td>200768</td>\n",
       "      <td>2018</td>\n",
       "    </tr>\n",
       "  </tbody>\n",
       "</table>\n",
       "</div>"
      ],
      "text/plain": [
       "      TEAM_ID  PLAYER_ID  SEASON\n",
       "0  1610612761     202695    2018\n",
       "1  1610612761    1627783    2018\n",
       "2  1610612761     201188    2018\n",
       "3  1610612761     201980    2018\n",
       "4  1610612761     200768    2018"
      ]
     },
     "execution_count": 4,
     "metadata": {},
     "output_type": "execute_result"
    }
   ],
   "source": [
    "p18.head()"
   ]
  },
  {
   "cell_type": "markdown",
   "id": "40311677",
   "metadata": {},
   "source": [
    "### Stacking with Concat\n",
    "\n",
    "We've seen one way of putting dataframes together with `concat` we used it when\n",
    "{ref}`unpacking-jsons`. In that case, we stacked them side by side, now we want\n",
    "to stack them vertically, which is the default of concat."
   ]
  },
  {
   "cell_type": "code",
   "execution_count": 5,
   "id": "a4b2015e",
   "metadata": {},
   "outputs": [
    {
     "data": {
      "text/html": [
       "<div>\n",
       "<style scoped>\n",
       "    .dataframe tbody tr th:only-of-type {\n",
       "        vertical-align: middle;\n",
       "    }\n",
       "\n",
       "    .dataframe tbody tr th {\n",
       "        vertical-align: top;\n",
       "    }\n",
       "\n",
       "    .dataframe thead th {\n",
       "        text-align: right;\n",
       "    }\n",
       "</style>\n",
       "<table border=\"1\" class=\"dataframe\">\n",
       "  <thead>\n",
       "    <tr style=\"text-align: right;\">\n",
       "      <th></th>\n",
       "      <th>TEAM_ID</th>\n",
       "      <th>PLAYER_ID</th>\n",
       "      <th>SEASON</th>\n",
       "      <th>PLAYER_NAME</th>\n",
       "    </tr>\n",
       "  </thead>\n",
       "  <tbody>\n",
       "    <tr>\n",
       "      <th>0</th>\n",
       "      <td>1610612761</td>\n",
       "      <td>202695</td>\n",
       "      <td>2018</td>\n",
       "      <td>NaN</td>\n",
       "    </tr>\n",
       "    <tr>\n",
       "      <th>1</th>\n",
       "      <td>1610612761</td>\n",
       "      <td>1627783</td>\n",
       "      <td>2018</td>\n",
       "      <td>NaN</td>\n",
       "    </tr>\n",
       "    <tr>\n",
       "      <th>2</th>\n",
       "      <td>1610612761</td>\n",
       "      <td>201188</td>\n",
       "      <td>2018</td>\n",
       "      <td>NaN</td>\n",
       "    </tr>\n",
       "    <tr>\n",
       "      <th>3</th>\n",
       "      <td>1610612761</td>\n",
       "      <td>201980</td>\n",
       "      <td>2018</td>\n",
       "      <td>NaN</td>\n",
       "    </tr>\n",
       "    <tr>\n",
       "      <th>4</th>\n",
       "      <td>1610612761</td>\n",
       "      <td>200768</td>\n",
       "      <td>2018</td>\n",
       "      <td>NaN</td>\n",
       "    </tr>\n",
       "  </tbody>\n",
       "</table>\n",
       "</div>"
      ],
      "text/plain": [
       "      TEAM_ID  PLAYER_ID  SEASON PLAYER_NAME\n",
       "0  1610612761     202695    2018         NaN\n",
       "1  1610612761    1627783    2018         NaN\n",
       "2  1610612761     201188    2018         NaN\n",
       "3  1610612761     201980    2018         NaN\n",
       "4  1610612761     200768    2018         NaN"
      ]
     },
     "execution_count": 5,
     "metadata": {},
     "output_type": "execute_result"
    }
   ],
   "source": [
    "players_df = pd.concat([p18,p19])\n",
    "players_df.head()"
   ]
  },
  {
   "cell_type": "markdown",
   "id": "058b7886",
   "metadata": {},
   "source": [
    "This has the same columns, and we can see what happened more by looking at the\n",
    "shape of each."
   ]
  },
  {
   "cell_type": "code",
   "execution_count": 6,
   "id": "cf0cc26f",
   "metadata": {},
   "outputs": [
    {
     "data": {
      "text/plain": [
       "(1374, 4)"
      ]
     },
     "execution_count": 6,
     "metadata": {},
     "output_type": "execute_result"
    }
   ],
   "source": [
    "players_df.shape"
   ]
  },
  {
   "cell_type": "code",
   "execution_count": 7,
   "id": "a1bc2078",
   "metadata": {},
   "outputs": [
    {
     "data": {
      "text/plain": [
       "((748, 3), (626, 4))"
      ]
     },
     "execution_count": 7,
     "metadata": {},
     "output_type": "execute_result"
    }
   ],
   "source": [
    "p18.shape, p19.shape"
   ]
  },
  {
   "cell_type": "markdown",
   "id": "8e0ec4c7",
   "metadata": {},
   "source": [
    "We can verify that the length of the new data frame is the sum of the original\n",
    "two DataFrames."
   ]
  },
  {
   "cell_type": "code",
   "execution_count": 8,
   "id": "ccc28c17",
   "metadata": {},
   "outputs": [],
   "source": [
    "assert len(p18) + len(p19) == len(players_df)"
   ]
  },
  {
   "cell_type": "markdown",
   "id": "18a5c4fa",
   "metadata": {},
   "source": [
    "### Combining Data with Merge\n",
    "\n",
    "What is we want to see which players changed teams from 2018 to 2019? We can do\n",
    "this with `merge`. For `merge` we have to tell it a left DataFrame and a right\n",
    "DataFrame and on what column to match them up.  \n",
    "\n",
    "The left and right DataFrames will be used different ways, but any DataFrame\n",
    "can be put in either position.  \n",
    "\n",
    "For this case, we will use 2018 data as left ,and 2019 as right and then merge\n",
    "`on='PLAYER_ID'`."
   ]
  },
  {
   "cell_type": "code",
   "execution_count": 9,
   "id": "0876b9ce",
   "metadata": {},
   "outputs": [
    {
     "data": {
      "text/html": [
       "<div>\n",
       "<style scoped>\n",
       "    .dataframe tbody tr th:only-of-type {\n",
       "        vertical-align: middle;\n",
       "    }\n",
       "\n",
       "    .dataframe tbody tr th {\n",
       "        vertical-align: top;\n",
       "    }\n",
       "\n",
       "    .dataframe thead th {\n",
       "        text-align: right;\n",
       "    }\n",
       "</style>\n",
       "<table border=\"1\" class=\"dataframe\">\n",
       "  <thead>\n",
       "    <tr style=\"text-align: right;\">\n",
       "      <th></th>\n",
       "      <th>TEAM_ID_x</th>\n",
       "      <th>PLAYER_ID</th>\n",
       "      <th>SEASON_x</th>\n",
       "      <th>PLAYER_NAME</th>\n",
       "      <th>TEAM_ID_y</th>\n",
       "      <th>SEASON_y</th>\n",
       "    </tr>\n",
       "  </thead>\n",
       "  <tbody>\n",
       "    <tr>\n",
       "      <th>0</th>\n",
       "      <td>1610612761</td>\n",
       "      <td>202695</td>\n",
       "      <td>2018</td>\n",
       "      <td>Kawhi Leonard</td>\n",
       "      <td>1610612746</td>\n",
       "      <td>2019</td>\n",
       "    </tr>\n",
       "    <tr>\n",
       "      <th>1</th>\n",
       "      <td>1610612761</td>\n",
       "      <td>1627783</td>\n",
       "      <td>2018</td>\n",
       "      <td>Pascal Siakam</td>\n",
       "      <td>1610612761</td>\n",
       "      <td>2019</td>\n",
       "    </tr>\n",
       "    <tr>\n",
       "      <th>2</th>\n",
       "      <td>1610612761</td>\n",
       "      <td>201188</td>\n",
       "      <td>2018</td>\n",
       "      <td>Marc Gasol</td>\n",
       "      <td>1610612761</td>\n",
       "      <td>2019</td>\n",
       "    </tr>\n",
       "    <tr>\n",
       "      <th>3</th>\n",
       "      <td>1610612763</td>\n",
       "      <td>201188</td>\n",
       "      <td>2018</td>\n",
       "      <td>Marc Gasol</td>\n",
       "      <td>1610612761</td>\n",
       "      <td>2019</td>\n",
       "    </tr>\n",
       "    <tr>\n",
       "      <th>4</th>\n",
       "      <td>1610612761</td>\n",
       "      <td>201980</td>\n",
       "      <td>2018</td>\n",
       "      <td>Danny Green</td>\n",
       "      <td>1610612747</td>\n",
       "      <td>2019</td>\n",
       "    </tr>\n",
       "  </tbody>\n",
       "</table>\n",
       "</div>"
      ],
      "text/plain": [
       "    TEAM_ID_x  PLAYER_ID  SEASON_x    PLAYER_NAME   TEAM_ID_y  SEASON_y\n",
       "0  1610612761     202695      2018  Kawhi Leonard  1610612746      2019\n",
       "1  1610612761    1627783      2018  Pascal Siakam  1610612761      2019\n",
       "2  1610612761     201188      2018     Marc Gasol  1610612761      2019\n",
       "3  1610612763     201188      2018     Marc Gasol  1610612761      2019\n",
       "4  1610612761     201980      2018    Danny Green  1610612747      2019"
      ]
     },
     "execution_count": 9,
     "metadata": {},
     "output_type": "execute_result"
    }
   ],
   "source": [
    "pd.merge(p18,p19,on='PLAYER_ID').head()"
   ]
  },
  {
   "cell_type": "markdown",
   "id": "fe3a333d",
   "metadata": {},
   "source": [
    "Now, we get what we expect, but the column names have `_x` and `_y` on the end\n",
    "(as a {term}`suffix`, appended to the original).  We'll add 2018 and 2019 respectively, separated with a `_`."
   ]
  },
  {
   "cell_type": "code",
   "execution_count": 10,
   "id": "b6d0799f",
   "metadata": {},
   "outputs": [
    {
     "data": {
      "text/html": [
       "<div>\n",
       "<style scoped>\n",
       "    .dataframe tbody tr th:only-of-type {\n",
       "        vertical-align: middle;\n",
       "    }\n",
       "\n",
       "    .dataframe tbody tr th {\n",
       "        vertical-align: top;\n",
       "    }\n",
       "\n",
       "    .dataframe thead th {\n",
       "        text-align: right;\n",
       "    }\n",
       "</style>\n",
       "<table border=\"1\" class=\"dataframe\">\n",
       "  <thead>\n",
       "    <tr style=\"text-align: right;\">\n",
       "      <th></th>\n",
       "      <th>TEAM_ID_2018</th>\n",
       "      <th>PLAYER_ID</th>\n",
       "      <th>SEASON_2018</th>\n",
       "      <th>PLAYER_NAME</th>\n",
       "      <th>TEAM_ID_2019</th>\n",
       "      <th>SEASON_2019</th>\n",
       "    </tr>\n",
       "  </thead>\n",
       "  <tbody>\n",
       "    <tr>\n",
       "      <th>0</th>\n",
       "      <td>1610612761</td>\n",
       "      <td>202695</td>\n",
       "      <td>2018</td>\n",
       "      <td>Kawhi Leonard</td>\n",
       "      <td>1610612746</td>\n",
       "      <td>2019</td>\n",
       "    </tr>\n",
       "    <tr>\n",
       "      <th>1</th>\n",
       "      <td>1610612761</td>\n",
       "      <td>1627783</td>\n",
       "      <td>2018</td>\n",
       "      <td>Pascal Siakam</td>\n",
       "      <td>1610612761</td>\n",
       "      <td>2019</td>\n",
       "    </tr>\n",
       "    <tr>\n",
       "      <th>2</th>\n",
       "      <td>1610612761</td>\n",
       "      <td>201188</td>\n",
       "      <td>2018</td>\n",
       "      <td>Marc Gasol</td>\n",
       "      <td>1610612761</td>\n",
       "      <td>2019</td>\n",
       "    </tr>\n",
       "    <tr>\n",
       "      <th>3</th>\n",
       "      <td>1610612763</td>\n",
       "      <td>201188</td>\n",
       "      <td>2018</td>\n",
       "      <td>Marc Gasol</td>\n",
       "      <td>1610612761</td>\n",
       "      <td>2019</td>\n",
       "    </tr>\n",
       "    <tr>\n",
       "      <th>4</th>\n",
       "      <td>1610612761</td>\n",
       "      <td>201980</td>\n",
       "      <td>2018</td>\n",
       "      <td>Danny Green</td>\n",
       "      <td>1610612747</td>\n",
       "      <td>2019</td>\n",
       "    </tr>\n",
       "  </tbody>\n",
       "</table>\n",
       "</div>"
      ],
      "text/plain": [
       "   TEAM_ID_2018  PLAYER_ID  SEASON_2018    PLAYER_NAME  TEAM_ID_2019  \\\n",
       "0    1610612761     202695         2018  Kawhi Leonard    1610612746   \n",
       "1    1610612761    1627783         2018  Pascal Siakam    1610612761   \n",
       "2    1610612761     201188         2018     Marc Gasol    1610612761   \n",
       "3    1610612763     201188         2018     Marc Gasol    1610612761   \n",
       "4    1610612761     201980         2018    Danny Green    1610612747   \n",
       "\n",
       "   SEASON_2019  \n",
       "0         2019  \n",
       "1         2019  \n",
       "2         2019  \n",
       "3         2019  \n",
       "4         2019  "
      ]
     },
     "execution_count": 10,
     "metadata": {},
     "output_type": "execute_result"
    }
   ],
   "source": [
    "year_over_year = pd.merge(p18,p19,on='PLAYER_ID',suffixes=('_2018','_2019'))\n",
    "year_over_year.head()"
   ]
  },
  {
   "cell_type": "markdown",
   "id": "49c623c8",
   "metadata": {},
   "source": [
    "Now that it's a little bit cleaner, we will examine how it works by looking at\n",
    "the shape."
   ]
  },
  {
   "cell_type": "code",
   "execution_count": 11,
   "id": "eceb625a",
   "metadata": {},
   "outputs": [
    {
     "data": {
      "text/plain": [
       "((538, 6), (748, 3), (626, 4))"
      ]
     },
     "execution_count": 11,
     "metadata": {},
     "output_type": "execute_result"
    }
   ],
   "source": [
    "year_over_year.shape, p18.shape, p19.shape"
   ]
  },
  {
   "cell_type": "markdown",
   "id": "35aff255",
   "metadata": {},
   "source": [
    "This kept only the players that played both years, with repetitions for each team they played on for each year.\n",
    "\n",
    "\n",
    "We can check the calculation with set math (python `set` type has operations\n",
    "  from math sets like intersect and set difference)"
   ]
  },
  {
   "cell_type": "code",
   "execution_count": 12,
   "id": "72d6c78b",
   "metadata": {},
   "outputs": [
    {
     "data": {
      "text/plain": [
       "538"
      ]
     },
     "execution_count": 12,
     "metadata": {},
     "output_type": "execute_result"
    }
   ],
   "source": [
    "# player IDs for each year, no repeats\n",
    "p19_u = set(p19['PLAYER_ID'])\n",
    "p18_u = set(p18['PLAYER_ID'])\n",
    "\n",
    "# player IDs that played both years\n",
    "p1819 = p18_u.intersection(p19_u)\n",
    "\n",
    "# teams per player per year\n",
    "teams_per_p18 = p18['PLAYER_ID'].value_counts()\n",
    "teams_per_p19 = p19['PLAYER_ID'].value_counts()\n",
    "\n",
    "# total number of team-player combinations\n",
    "# multiply number of teams each player played for in 18 by number of teams in 19\n",
    "# then sum.  (most of of these are 1*1)\n",
    "sum(teams_per_p19[p1819]* teams_per_p18[p1819])"
   ]
  },
  {
   "cell_type": "markdown",
   "id": "00b32e0b",
   "metadata": {},
   "source": [
    "We can also merge so that we keep all players on either team using `how='outer'`\n",
    "the default value for `how` is inner, which takes the intersection (but with duplicates, does some extra things as we saw).  With `outer` it takes the union,\n",
    "but with extra handling for the duplicates."
   ]
  },
  {
   "cell_type": "code",
   "execution_count": 13,
   "id": "80be55fd",
   "metadata": {},
   "outputs": [
    {
     "data": {
      "text/plain": [
       "(927, 6)"
      ]
     },
     "execution_count": 13,
     "metadata": {},
     "output_type": "execute_result"
    }
   ],
   "source": [
    "pd.merge(p18,p19,on='PLAYER_ID',suffixes=('_2018','_2019'),how='outer').shape"
   ]
  },
  {
   "cell_type": "markdown",
   "id": "c4d0040e",
   "metadata": {},
   "source": [
    "It's the total of the rows we had before, plus the total number of player-teams\n",
    "for players that only played in one of the two years."
   ]
  },
  {
   "cell_type": "code",
   "execution_count": 14,
   "id": "1526ce7b",
   "metadata": {},
   "outputs": [
    {
     "data": {
      "text/plain": [
       "927"
      ]
     },
     "execution_count": 14,
     "metadata": {},
     "output_type": "execute_result"
    }
   ],
   "source": [
    "#players tha tonly played in one year\n",
    "o18 = p18_u.difference(p19_u)\n",
    "o19 = p19_u.difference(p18_u)\n",
    "# teams those players played for + the above 538\n",
    "teams_per_p19[o19].sum() + teams_per_p18[o18].sum() + sum(teams_per_p19[p1819]* teams_per_p18[p1819])"
   ]
  },
  {
   "cell_type": "markdown",
   "id": "3aceb76b",
   "metadata": {},
   "source": [
    "We can save this to a variable"
   ]
  },
  {
   "cell_type": "code",
   "execution_count": 15,
   "id": "2d1ed084",
   "metadata": {},
   "outputs": [],
   "source": [
    "year_over_year_outer =  pd.merge(p18,p19,on='PLAYER_ID',suffixes=('_2018','_2019'),how='outer')"
   ]
  },
  {
   "cell_type": "markdown",
   "id": "da8f82c4",
   "metadata": {},
   "source": [
    "then look at a few rows to see that it has indeed filled in with NaN in the\n",
    "places where there wasn't a value."
   ]
  },
  {
   "cell_type": "code",
   "execution_count": 16,
   "id": "7055bf6d",
   "metadata": {},
   "outputs": [
    {
     "data": {
      "text/html": [
       "<div>\n",
       "<style scoped>\n",
       "    .dataframe tbody tr th:only-of-type {\n",
       "        vertical-align: middle;\n",
       "    }\n",
       "\n",
       "    .dataframe tbody tr th {\n",
       "        vertical-align: top;\n",
       "    }\n",
       "\n",
       "    .dataframe thead th {\n",
       "        text-align: right;\n",
       "    }\n",
       "</style>\n",
       "<table border=\"1\" class=\"dataframe\">\n",
       "  <thead>\n",
       "    <tr style=\"text-align: right;\">\n",
       "      <th></th>\n",
       "      <th>TEAM_ID_2018</th>\n",
       "      <th>PLAYER_ID</th>\n",
       "      <th>SEASON_2018</th>\n",
       "      <th>PLAYER_NAME</th>\n",
       "      <th>TEAM_ID_2019</th>\n",
       "      <th>SEASON_2019</th>\n",
       "    </tr>\n",
       "  </thead>\n",
       "  <tbody>\n",
       "    <tr>\n",
       "      <th>23</th>\n",
       "      <td>1.610613e+09</td>\n",
       "      <td>1628035</td>\n",
       "      <td>2018.0</td>\n",
       "      <td>Alfonzo McKinnie</td>\n",
       "      <td>1.610613e+09</td>\n",
       "      <td>2019.0</td>\n",
       "    </tr>\n",
       "    <tr>\n",
       "      <th>826</th>\n",
       "      <td>NaN</td>\n",
       "      <td>1629076</td>\n",
       "      <td>NaN</td>\n",
       "      <td>Tyler Cook</td>\n",
       "      <td>1.610613e+09</td>\n",
       "      <td>2019.0</td>\n",
       "    </tr>\n",
       "    <tr>\n",
       "      <th>141</th>\n",
       "      <td>1.610613e+09</td>\n",
       "      <td>1627854</td>\n",
       "      <td>2018.0</td>\n",
       "      <td>Bryn Forbes</td>\n",
       "      <td>1.610613e+09</td>\n",
       "      <td>2019.0</td>\n",
       "    </tr>\n",
       "    <tr>\n",
       "      <th>688</th>\n",
       "      <td>1.610613e+09</td>\n",
       "      <td>203080</td>\n",
       "      <td>2018.0</td>\n",
       "      <td>NaN</td>\n",
       "      <td>NaN</td>\n",
       "      <td>NaN</td>\n",
       "    </tr>\n",
       "    <tr>\n",
       "      <th>787</th>\n",
       "      <td>NaN</td>\n",
       "      <td>1629638</td>\n",
       "      <td>NaN</td>\n",
       "      <td>Nickeil Alexander-Walker</td>\n",
       "      <td>1.610613e+09</td>\n",
       "      <td>2019.0</td>\n",
       "    </tr>\n",
       "    <tr>\n",
       "      <th>594</th>\n",
       "      <td>1.610613e+09</td>\n",
       "      <td>1629150</td>\n",
       "      <td>2018.0</td>\n",
       "      <td>NaN</td>\n",
       "      <td>NaN</td>\n",
       "      <td>NaN</td>\n",
       "    </tr>\n",
       "    <tr>\n",
       "      <th>435</th>\n",
       "      <td>1.610613e+09</td>\n",
       "      <td>2199</td>\n",
       "      <td>2018.0</td>\n",
       "      <td>Tyson Chandler</td>\n",
       "      <td>1.610613e+09</td>\n",
       "      <td>2019.0</td>\n",
       "    </tr>\n",
       "    <tr>\n",
       "      <th>144</th>\n",
       "      <td>1.610613e+09</td>\n",
       "      <td>201988</td>\n",
       "      <td>2018.0</td>\n",
       "      <td>Patty Mills</td>\n",
       "      <td>1.610613e+09</td>\n",
       "      <td>2019.0</td>\n",
       "    </tr>\n",
       "    <tr>\n",
       "      <th>720</th>\n",
       "      <td>1.610613e+09</td>\n",
       "      <td>1629008</td>\n",
       "      <td>2018.0</td>\n",
       "      <td>Michael Porter Jr.</td>\n",
       "      <td>1.610613e+09</td>\n",
       "      <td>2019.0</td>\n",
       "    </tr>\n",
       "    <tr>\n",
       "      <th>831</th>\n",
       "      <td>NaN</td>\n",
       "      <td>1628997</td>\n",
       "      <td>NaN</td>\n",
       "      <td>Caleb Martin</td>\n",
       "      <td>1.610613e+09</td>\n",
       "      <td>2019.0</td>\n",
       "    </tr>\n",
       "  </tbody>\n",
       "</table>\n",
       "</div>"
      ],
      "text/plain": [
       "     TEAM_ID_2018  PLAYER_ID  SEASON_2018               PLAYER_NAME  \\\n",
       "23   1.610613e+09    1628035       2018.0          Alfonzo McKinnie   \n",
       "826           NaN    1629076          NaN                Tyler Cook   \n",
       "141  1.610613e+09    1627854       2018.0               Bryn Forbes   \n",
       "688  1.610613e+09     203080       2018.0                       NaN   \n",
       "787           NaN    1629638          NaN  Nickeil Alexander-Walker   \n",
       "594  1.610613e+09    1629150       2018.0                       NaN   \n",
       "435  1.610613e+09       2199       2018.0            Tyson Chandler   \n",
       "144  1.610613e+09     201988       2018.0               Patty Mills   \n",
       "720  1.610613e+09    1629008       2018.0        Michael Porter Jr.   \n",
       "831           NaN    1628997          NaN              Caleb Martin   \n",
       "\n",
       "     TEAM_ID_2019  SEASON_2019  \n",
       "23   1.610613e+09       2019.0  \n",
       "826  1.610613e+09       2019.0  \n",
       "141  1.610613e+09       2019.0  \n",
       "688           NaN          NaN  \n",
       "787  1.610613e+09       2019.0  \n",
       "594           NaN          NaN  \n",
       "435  1.610613e+09       2019.0  \n",
       "144  1.610613e+09       2019.0  \n",
       "720  1.610613e+09       2019.0  \n",
       "831  1.610613e+09       2019.0  "
      ]
     },
     "execution_count": 16,
     "metadata": {},
     "output_type": "execute_result"
    }
   ],
   "source": [
    "year_over_year_outer.sample(10)"
   ]
  },
  {
   "cell_type": "markdown",
   "id": "4753e79f",
   "metadata": {},
   "source": [
    "```{note}\n",
    "We can also tell that there are NaN beacuse it cast the year to float from int.\n",
    "```\n",
    "\n",
    "## Merge types, in detail\n",
    "\n",
    "We can examine how these things work more visually with smaller DataFrames:"
   ]
  },
  {
   "cell_type": "code",
   "execution_count": 17,
   "id": "5c7702b3",
   "metadata": {},
   "outputs": [],
   "source": [
    "left = pd.DataFrame(\n",
    "  {\n",
    "    \"key1\": [\"K0\", \"K0\", \"K1\", \"K2\"],\n",
    "    \"key2\": [\"K0\", \"K1\", \"K0\", \"K1\"],\n",
    "    \"A\": [\"A0\", \"A1\", \"A2\", \"A3\"],\n",
    "    \"B\": [\"B0\", \"B1\", \"B2\", \"B3\"],\n",
    "  }\n",
    ")\n",
    "\n",
    "\n",
    "right = pd.DataFrame(\n",
    "  {\n",
    "    \"key1\": [\"K0\", \"K1\", \"K1\", \"K2\"],\n",
    "    \"key2\": [\"K0\", \"K0\", \"K0\", \"K0\"],\n",
    "    \"C\": [\"C0\", \"C1\", \"C2\", \"C3\"],\n",
    "    \"D\": [\"D0\", \"D1\", \"D2\", \"D3\"],\n",
    "  }\n",
    ")\n"
   ]
  },
  {
   "cell_type": "code",
   "execution_count": 18,
   "id": "dca70d28",
   "metadata": {},
   "outputs": [
    {
     "data": {
      "text/html": [
       "<div>\n",
       "<style scoped>\n",
       "    .dataframe tbody tr th:only-of-type {\n",
       "        vertical-align: middle;\n",
       "    }\n",
       "\n",
       "    .dataframe tbody tr th {\n",
       "        vertical-align: top;\n",
       "    }\n",
       "\n",
       "    .dataframe thead th {\n",
       "        text-align: right;\n",
       "    }\n",
       "</style>\n",
       "<table border=\"1\" class=\"dataframe\">\n",
       "  <thead>\n",
       "    <tr style=\"text-align: right;\">\n",
       "      <th></th>\n",
       "      <th>key1</th>\n",
       "      <th>key2</th>\n",
       "      <th>A</th>\n",
       "      <th>B</th>\n",
       "    </tr>\n",
       "  </thead>\n",
       "  <tbody>\n",
       "    <tr>\n",
       "      <th>0</th>\n",
       "      <td>K0</td>\n",
       "      <td>K0</td>\n",
       "      <td>A0</td>\n",
       "      <td>B0</td>\n",
       "    </tr>\n",
       "    <tr>\n",
       "      <th>1</th>\n",
       "      <td>K0</td>\n",
       "      <td>K1</td>\n",
       "      <td>A1</td>\n",
       "      <td>B1</td>\n",
       "    </tr>\n",
       "    <tr>\n",
       "      <th>2</th>\n",
       "      <td>K1</td>\n",
       "      <td>K0</td>\n",
       "      <td>A2</td>\n",
       "      <td>B2</td>\n",
       "    </tr>\n",
       "    <tr>\n",
       "      <th>3</th>\n",
       "      <td>K2</td>\n",
       "      <td>K1</td>\n",
       "      <td>A3</td>\n",
       "      <td>B3</td>\n",
       "    </tr>\n",
       "  </tbody>\n",
       "</table>\n",
       "</div>"
      ],
      "text/plain": [
       "  key1 key2   A   B\n",
       "0   K0   K0  A0  B0\n",
       "1   K0   K1  A1  B1\n",
       "2   K1   K0  A2  B2\n",
       "3   K2   K1  A3  B3"
      ]
     },
     "execution_count": 18,
     "metadata": {},
     "output_type": "execute_result"
    }
   ],
   "source": [
    "left"
   ]
  },
  {
   "cell_type": "code",
   "execution_count": 19,
   "id": "dc0039b3",
   "metadata": {},
   "outputs": [
    {
     "data": {
      "text/html": [
       "<div>\n",
       "<style scoped>\n",
       "    .dataframe tbody tr th:only-of-type {\n",
       "        vertical-align: middle;\n",
       "    }\n",
       "\n",
       "    .dataframe tbody tr th {\n",
       "        vertical-align: top;\n",
       "    }\n",
       "\n",
       "    .dataframe thead th {\n",
       "        text-align: right;\n",
       "    }\n",
       "</style>\n",
       "<table border=\"1\" class=\"dataframe\">\n",
       "  <thead>\n",
       "    <tr style=\"text-align: right;\">\n",
       "      <th></th>\n",
       "      <th>key1</th>\n",
       "      <th>key2</th>\n",
       "      <th>C</th>\n",
       "      <th>D</th>\n",
       "    </tr>\n",
       "  </thead>\n",
       "  <tbody>\n",
       "    <tr>\n",
       "      <th>0</th>\n",
       "      <td>K0</td>\n",
       "      <td>K0</td>\n",
       "      <td>C0</td>\n",
       "      <td>D0</td>\n",
       "    </tr>\n",
       "    <tr>\n",
       "      <th>1</th>\n",
       "      <td>K1</td>\n",
       "      <td>K0</td>\n",
       "      <td>C1</td>\n",
       "      <td>D1</td>\n",
       "    </tr>\n",
       "    <tr>\n",
       "      <th>2</th>\n",
       "      <td>K1</td>\n",
       "      <td>K0</td>\n",
       "      <td>C2</td>\n",
       "      <td>D2</td>\n",
       "    </tr>\n",
       "    <tr>\n",
       "      <th>3</th>\n",
       "      <td>K2</td>\n",
       "      <td>K0</td>\n",
       "      <td>C3</td>\n",
       "      <td>D3</td>\n",
       "    </tr>\n",
       "  </tbody>\n",
       "</table>\n",
       "</div>"
      ],
      "text/plain": [
       "  key1 key2   C   D\n",
       "0   K0   K0  C0  D0\n",
       "1   K1   K0  C1  D1\n",
       "2   K1   K0  C2  D2\n",
       "3   K2   K0  C3  D3"
      ]
     },
     "execution_count": 19,
     "metadata": {},
     "output_type": "execute_result"
    }
   ],
   "source": [
    "right"
   ]
  },
  {
   "cell_type": "markdown",
   "id": "5afb5309",
   "metadata": {},
   "source": [
    "````{margin}\n",
    "```{note}\n",
    "inner is default, but we can state it to be more explicit\n",
    "```\n",
    "````"
   ]
  },
  {
   "cell_type": "code",
   "execution_count": 20,
   "id": "388f03a7",
   "metadata": {},
   "outputs": [
    {
     "data": {
      "text/html": [
       "<div>\n",
       "<style scoped>\n",
       "    .dataframe tbody tr th:only-of-type {\n",
       "        vertical-align: middle;\n",
       "    }\n",
       "\n",
       "    .dataframe tbody tr th {\n",
       "        vertical-align: top;\n",
       "    }\n",
       "\n",
       "    .dataframe thead th {\n",
       "        text-align: right;\n",
       "    }\n",
       "</style>\n",
       "<table border=\"1\" class=\"dataframe\">\n",
       "  <thead>\n",
       "    <tr style=\"text-align: right;\">\n",
       "      <th></th>\n",
       "      <th>key1</th>\n",
       "      <th>key2</th>\n",
       "      <th>A</th>\n",
       "      <th>B</th>\n",
       "      <th>C</th>\n",
       "      <th>D</th>\n",
       "    </tr>\n",
       "  </thead>\n",
       "  <tbody>\n",
       "    <tr>\n",
       "      <th>0</th>\n",
       "      <td>K0</td>\n",
       "      <td>K0</td>\n",
       "      <td>A0</td>\n",
       "      <td>B0</td>\n",
       "      <td>C0</td>\n",
       "      <td>D0</td>\n",
       "    </tr>\n",
       "    <tr>\n",
       "      <th>1</th>\n",
       "      <td>K1</td>\n",
       "      <td>K0</td>\n",
       "      <td>A2</td>\n",
       "      <td>B2</td>\n",
       "      <td>C1</td>\n",
       "      <td>D1</td>\n",
       "    </tr>\n",
       "    <tr>\n",
       "      <th>2</th>\n",
       "      <td>K1</td>\n",
       "      <td>K0</td>\n",
       "      <td>A2</td>\n",
       "      <td>B2</td>\n",
       "      <td>C2</td>\n",
       "      <td>D2</td>\n",
       "    </tr>\n",
       "  </tbody>\n",
       "</table>\n",
       "</div>"
      ],
      "text/plain": [
       "  key1 key2   A   B   C   D\n",
       "0   K0   K0  A0  B0  C0  D0\n",
       "1   K1   K0  A2  B2  C1  D1\n",
       "2   K1   K0  A2  B2  C2  D2"
      ]
     },
     "execution_count": 20,
     "metadata": {},
     "output_type": "execute_result"
    }
   ],
   "source": [
    "pd.merge(left, right, on=[\"key1\", \"key2\"], how='inner')\n"
   ]
  },
  {
   "cell_type": "code",
   "execution_count": 21,
   "id": "60861951",
   "metadata": {},
   "outputs": [
    {
     "data": {
      "text/html": [
       "<div>\n",
       "<style scoped>\n",
       "    .dataframe tbody tr th:only-of-type {\n",
       "        vertical-align: middle;\n",
       "    }\n",
       "\n",
       "    .dataframe tbody tr th {\n",
       "        vertical-align: top;\n",
       "    }\n",
       "\n",
       "    .dataframe thead th {\n",
       "        text-align: right;\n",
       "    }\n",
       "</style>\n",
       "<table border=\"1\" class=\"dataframe\">\n",
       "  <thead>\n",
       "    <tr style=\"text-align: right;\">\n",
       "      <th></th>\n",
       "      <th>key1</th>\n",
       "      <th>key2</th>\n",
       "      <th>A</th>\n",
       "      <th>B</th>\n",
       "      <th>C</th>\n",
       "      <th>D</th>\n",
       "    </tr>\n",
       "  </thead>\n",
       "  <tbody>\n",
       "    <tr>\n",
       "      <th>0</th>\n",
       "      <td>K0</td>\n",
       "      <td>K0</td>\n",
       "      <td>A0</td>\n",
       "      <td>B0</td>\n",
       "      <td>C0</td>\n",
       "      <td>D0</td>\n",
       "    </tr>\n",
       "    <tr>\n",
       "      <th>1</th>\n",
       "      <td>K0</td>\n",
       "      <td>K1</td>\n",
       "      <td>A1</td>\n",
       "      <td>B1</td>\n",
       "      <td>NaN</td>\n",
       "      <td>NaN</td>\n",
       "    </tr>\n",
       "    <tr>\n",
       "      <th>2</th>\n",
       "      <td>K1</td>\n",
       "      <td>K0</td>\n",
       "      <td>A2</td>\n",
       "      <td>B2</td>\n",
       "      <td>C1</td>\n",
       "      <td>D1</td>\n",
       "    </tr>\n",
       "    <tr>\n",
       "      <th>3</th>\n",
       "      <td>K1</td>\n",
       "      <td>K0</td>\n",
       "      <td>A2</td>\n",
       "      <td>B2</td>\n",
       "      <td>C2</td>\n",
       "      <td>D2</td>\n",
       "    </tr>\n",
       "    <tr>\n",
       "      <th>4</th>\n",
       "      <td>K2</td>\n",
       "      <td>K1</td>\n",
       "      <td>A3</td>\n",
       "      <td>B3</td>\n",
       "      <td>NaN</td>\n",
       "      <td>NaN</td>\n",
       "    </tr>\n",
       "    <tr>\n",
       "      <th>5</th>\n",
       "      <td>K2</td>\n",
       "      <td>K0</td>\n",
       "      <td>NaN</td>\n",
       "      <td>NaN</td>\n",
       "      <td>C3</td>\n",
       "      <td>D3</td>\n",
       "    </tr>\n",
       "  </tbody>\n",
       "</table>\n",
       "</div>"
      ],
      "text/plain": [
       "  key1 key2    A    B    C    D\n",
       "0   K0   K0   A0   B0   C0   D0\n",
       "1   K0   K1   A1   B1  NaN  NaN\n",
       "2   K1   K0   A2   B2   C1   D1\n",
       "3   K1   K0   A2   B2   C2   D2\n",
       "4   K2   K1   A3   B3  NaN  NaN\n",
       "5   K2   K0  NaN  NaN   C3   D3"
      ]
     },
     "execution_count": 21,
     "metadata": {},
     "output_type": "execute_result"
    }
   ],
   "source": [
    "pd.merge(left, right, on=[\"key1\", \"key2\"], how='outer' )"
   ]
  },
  {
   "cell_type": "markdown",
   "id": "46102747",
   "metadata": {},
   "source": [
    "## Duplicate Keys"
   ]
  },
  {
   "cell_type": "code",
   "execution_count": 22,
   "id": "b68af3b9",
   "metadata": {},
   "outputs": [],
   "source": [
    "left = pd.DataFrame({\"A\": [1, 2], \"B\": [2, 2]})\n",
    "\n",
    "right = pd.DataFrame({\"A\": [4, 5, 6], \"B\": [2, 2, 2]})\n",
    "\n",
    "result = pd.merge(left, right, on=\"B\", how=\"outer\")"
   ]
  },
  {
   "cell_type": "code",
   "execution_count": 23,
   "id": "c3ba4a14",
   "metadata": {},
   "outputs": [
    {
     "data": {
      "text/html": [
       "<div>\n",
       "<style scoped>\n",
       "    .dataframe tbody tr th:only-of-type {\n",
       "        vertical-align: middle;\n",
       "    }\n",
       "\n",
       "    .dataframe tbody tr th {\n",
       "        vertical-align: top;\n",
       "    }\n",
       "\n",
       "    .dataframe thead th {\n",
       "        text-align: right;\n",
       "    }\n",
       "</style>\n",
       "<table border=\"1\" class=\"dataframe\">\n",
       "  <thead>\n",
       "    <tr style=\"text-align: right;\">\n",
       "      <th></th>\n",
       "      <th>A</th>\n",
       "      <th>B</th>\n",
       "    </tr>\n",
       "  </thead>\n",
       "  <tbody>\n",
       "    <tr>\n",
       "      <th>0</th>\n",
       "      <td>1</td>\n",
       "      <td>2</td>\n",
       "    </tr>\n",
       "    <tr>\n",
       "      <th>1</th>\n",
       "      <td>2</td>\n",
       "      <td>2</td>\n",
       "    </tr>\n",
       "  </tbody>\n",
       "</table>\n",
       "</div>"
      ],
      "text/plain": [
       "   A  B\n",
       "0  1  2\n",
       "1  2  2"
      ]
     },
     "execution_count": 23,
     "metadata": {},
     "output_type": "execute_result"
    }
   ],
   "source": [
    "left"
   ]
  },
  {
   "cell_type": "code",
   "execution_count": 24,
   "id": "2fbabe57",
   "metadata": {},
   "outputs": [
    {
     "data": {
      "text/html": [
       "<div>\n",
       "<style scoped>\n",
       "    .dataframe tbody tr th:only-of-type {\n",
       "        vertical-align: middle;\n",
       "    }\n",
       "\n",
       "    .dataframe tbody tr th {\n",
       "        vertical-align: top;\n",
       "    }\n",
       "\n",
       "    .dataframe thead th {\n",
       "        text-align: right;\n",
       "    }\n",
       "</style>\n",
       "<table border=\"1\" class=\"dataframe\">\n",
       "  <thead>\n",
       "    <tr style=\"text-align: right;\">\n",
       "      <th></th>\n",
       "      <th>A</th>\n",
       "      <th>B</th>\n",
       "    </tr>\n",
       "  </thead>\n",
       "  <tbody>\n",
       "    <tr>\n",
       "      <th>0</th>\n",
       "      <td>4</td>\n",
       "      <td>2</td>\n",
       "    </tr>\n",
       "    <tr>\n",
       "      <th>1</th>\n",
       "      <td>5</td>\n",
       "      <td>2</td>\n",
       "    </tr>\n",
       "    <tr>\n",
       "      <th>2</th>\n",
       "      <td>6</td>\n",
       "      <td>2</td>\n",
       "    </tr>\n",
       "  </tbody>\n",
       "</table>\n",
       "</div>"
      ],
      "text/plain": [
       "   A  B\n",
       "0  4  2\n",
       "1  5  2\n",
       "2  6  2"
      ]
     },
     "execution_count": 24,
     "metadata": {},
     "output_type": "execute_result"
    }
   ],
   "source": [
    "right"
   ]
  },
  {
   "cell_type": "code",
   "execution_count": 25,
   "id": "3c74ebe5",
   "metadata": {},
   "outputs": [
    {
     "data": {
      "text/html": [
       "<div>\n",
       "<style scoped>\n",
       "    .dataframe tbody tr th:only-of-type {\n",
       "        vertical-align: middle;\n",
       "    }\n",
       "\n",
       "    .dataframe tbody tr th {\n",
       "        vertical-align: top;\n",
       "    }\n",
       "\n",
       "    .dataframe thead th {\n",
       "        text-align: right;\n",
       "    }\n",
       "</style>\n",
       "<table border=\"1\" class=\"dataframe\">\n",
       "  <thead>\n",
       "    <tr style=\"text-align: right;\">\n",
       "      <th></th>\n",
       "      <th>A_x</th>\n",
       "      <th>B</th>\n",
       "      <th>A_y</th>\n",
       "    </tr>\n",
       "  </thead>\n",
       "  <tbody>\n",
       "    <tr>\n",
       "      <th>0</th>\n",
       "      <td>1</td>\n",
       "      <td>2</td>\n",
       "      <td>4</td>\n",
       "    </tr>\n",
       "    <tr>\n",
       "      <th>1</th>\n",
       "      <td>1</td>\n",
       "      <td>2</td>\n",
       "      <td>5</td>\n",
       "    </tr>\n",
       "    <tr>\n",
       "      <th>2</th>\n",
       "      <td>1</td>\n",
       "      <td>2</td>\n",
       "      <td>6</td>\n",
       "    </tr>\n",
       "    <tr>\n",
       "      <th>3</th>\n",
       "      <td>2</td>\n",
       "      <td>2</td>\n",
       "      <td>4</td>\n",
       "    </tr>\n",
       "    <tr>\n",
       "      <th>4</th>\n",
       "      <td>2</td>\n",
       "      <td>2</td>\n",
       "      <td>5</td>\n",
       "    </tr>\n",
       "    <tr>\n",
       "      <th>5</th>\n",
       "      <td>2</td>\n",
       "      <td>2</td>\n",
       "      <td>6</td>\n",
       "    </tr>\n",
       "  </tbody>\n",
       "</table>\n",
       "</div>"
      ],
      "text/plain": [
       "   A_x  B  A_y\n",
       "0    1  2    4\n",
       "1    1  2    5\n",
       "2    1  2    6\n",
       "3    2  2    4\n",
       "4    2  2    5\n",
       "5    2  2    6"
      ]
     },
     "execution_count": 25,
     "metadata": {},
     "output_type": "execute_result"
    }
   ],
   "source": [
    "result"
   ]
  },
  {
   "cell_type": "markdown",
   "id": "8d2b956d",
   "metadata": {},
   "source": [
    "If we ask pandas to validate the merge with `validate` and a specific type of\n",
    "merge, it will throw an error if that type of merge is not possible."
   ]
  },
  {
   "cell_type": "code",
   "execution_count": 26,
   "id": "35fb7880",
   "metadata": {},
   "outputs": [
    {
     "ename": "MergeError",
     "evalue": "Merge keys are not unique in either left or right dataset; not a one-to-one merge",
     "output_type": "error",
     "traceback": [
      "\u001b[0;31m---------------------------------------------------------------------------\u001b[0m",
      "\u001b[0;31mMergeError\u001b[0m                                Traceback (most recent call last)",
      "\u001b[0;32m/tmp/ipykernel_1903/2916808787.py\u001b[0m in \u001b[0;36m<module>\u001b[0;34m\u001b[0m\n\u001b[0;32m----> 1\u001b[0;31m \u001b[0mpd\u001b[0m\u001b[0;34m.\u001b[0m\u001b[0mmerge\u001b[0m\u001b[0;34m(\u001b[0m\u001b[0mleft\u001b[0m\u001b[0;34m,\u001b[0m \u001b[0mright\u001b[0m\u001b[0;34m,\u001b[0m\u001b[0mon\u001b[0m\u001b[0;34m=\u001b[0m\u001b[0;34m'B'\u001b[0m\u001b[0;34m,\u001b[0m\u001b[0mvalidate\u001b[0m\u001b[0;34m=\u001b[0m\u001b[0;34m'one_to_one'\u001b[0m\u001b[0;34m)\u001b[0m\u001b[0;34m\u001b[0m\u001b[0;34m\u001b[0m\u001b[0m\n\u001b[0m",
      "\u001b[0;32m/opt/hostedtoolcache/Python/3.7.12/x64/lib/python3.7/site-packages/pandas/core/reshape/merge.py\u001b[0m in \u001b[0;36mmerge\u001b[0;34m(left, right, how, on, left_on, right_on, left_index, right_index, sort, suffixes, copy, indicator, validate)\u001b[0m\n\u001b[1;32m    117\u001b[0m         \u001b[0mcopy\u001b[0m\u001b[0;34m=\u001b[0m\u001b[0mcopy\u001b[0m\u001b[0;34m,\u001b[0m\u001b[0;34m\u001b[0m\u001b[0;34m\u001b[0m\u001b[0m\n\u001b[1;32m    118\u001b[0m         \u001b[0mindicator\u001b[0m\u001b[0;34m=\u001b[0m\u001b[0mindicator\u001b[0m\u001b[0;34m,\u001b[0m\u001b[0;34m\u001b[0m\u001b[0;34m\u001b[0m\u001b[0m\n\u001b[0;32m--> 119\u001b[0;31m         \u001b[0mvalidate\u001b[0m\u001b[0;34m=\u001b[0m\u001b[0mvalidate\u001b[0m\u001b[0;34m,\u001b[0m\u001b[0;34m\u001b[0m\u001b[0;34m\u001b[0m\u001b[0m\n\u001b[0m\u001b[1;32m    120\u001b[0m     )\n\u001b[1;32m    121\u001b[0m     \u001b[0;32mreturn\u001b[0m \u001b[0mop\u001b[0m\u001b[0;34m.\u001b[0m\u001b[0mget_result\u001b[0m\u001b[0;34m(\u001b[0m\u001b[0;34m)\u001b[0m\u001b[0;34m\u001b[0m\u001b[0;34m\u001b[0m\u001b[0m\n",
      "\u001b[0;32m/opt/hostedtoolcache/Python/3.7.12/x64/lib/python3.7/site-packages/pandas/core/reshape/merge.py\u001b[0m in \u001b[0;36m__init__\u001b[0;34m(self, left, right, how, on, left_on, right_on, axis, left_index, right_index, sort, suffixes, copy, indicator, validate)\u001b[0m\n\u001b[1;32m    707\u001b[0m         \u001b[0;31m# are in fact unique.\u001b[0m\u001b[0;34m\u001b[0m\u001b[0;34m\u001b[0m\u001b[0;34m\u001b[0m\u001b[0m\n\u001b[1;32m    708\u001b[0m         \u001b[0;32mif\u001b[0m \u001b[0mvalidate\u001b[0m \u001b[0;32mis\u001b[0m \u001b[0;32mnot\u001b[0m \u001b[0;32mNone\u001b[0m\u001b[0;34m:\u001b[0m\u001b[0;34m\u001b[0m\u001b[0;34m\u001b[0m\u001b[0m\n\u001b[0;32m--> 709\u001b[0;31m             \u001b[0mself\u001b[0m\u001b[0;34m.\u001b[0m\u001b[0m_validate\u001b[0m\u001b[0;34m(\u001b[0m\u001b[0mvalidate\u001b[0m\u001b[0;34m)\u001b[0m\u001b[0;34m\u001b[0m\u001b[0;34m\u001b[0m\u001b[0m\n\u001b[0m\u001b[1;32m    710\u001b[0m \u001b[0;34m\u001b[0m\u001b[0m\n\u001b[1;32m    711\u001b[0m     \u001b[0;32mdef\u001b[0m \u001b[0mget_result\u001b[0m\u001b[0;34m(\u001b[0m\u001b[0mself\u001b[0m\u001b[0;34m)\u001b[0m \u001b[0;34m->\u001b[0m \u001b[0mDataFrame\u001b[0m\u001b[0;34m:\u001b[0m\u001b[0;34m\u001b[0m\u001b[0;34m\u001b[0m\u001b[0m\n",
      "\u001b[0;32m/opt/hostedtoolcache/Python/3.7.12/x64/lib/python3.7/site-packages/pandas/core/reshape/merge.py\u001b[0m in \u001b[0;36m_validate\u001b[0;34m(self, validate)\u001b[0m\n\u001b[1;32m   1419\u001b[0m             \u001b[0;32mif\u001b[0m \u001b[0;32mnot\u001b[0m \u001b[0mleft_unique\u001b[0m \u001b[0;32mand\u001b[0m \u001b[0;32mnot\u001b[0m \u001b[0mright_unique\u001b[0m\u001b[0;34m:\u001b[0m\u001b[0;34m\u001b[0m\u001b[0;34m\u001b[0m\u001b[0m\n\u001b[1;32m   1420\u001b[0m                 raise MergeError(\n\u001b[0;32m-> 1421\u001b[0;31m                     \u001b[0;34m\"Merge keys are not unique in either left \"\u001b[0m\u001b[0;34m\u001b[0m\u001b[0;34m\u001b[0m\u001b[0m\n\u001b[0m\u001b[1;32m   1422\u001b[0m                     \u001b[0;34m\"or right dataset; not a one-to-one merge\"\u001b[0m\u001b[0;34m\u001b[0m\u001b[0;34m\u001b[0m\u001b[0m\n\u001b[1;32m   1423\u001b[0m                 )\n",
      "\u001b[0;31mMergeError\u001b[0m: Merge keys are not unique in either left or right dataset; not a one-to-one merge"
     ]
    }
   ],
   "source": [
    "pd.merge(left, right,on='B',validate='one_to_one')"
   ]
  },
  {
   "cell_type": "markdown",
   "id": "338d8265",
   "metadata": {},
   "source": [
    "```{admonition} Further Reading\n",
    "The [pandas documentation](https://pandas.pydata.org/docs/user_guide/merging.html#checking-for-duplicate-keys) is a good place to read through their\n",
    "exampels on how validate works. it's important to note the types of possible joins from the [beginning of the section](https://pandas.pydata.org/docs/user_guide/merging.html#brief-primer-on-merge-methods-relational-algebra)\n",
    "```\n",
    "\n",
    "## Questions at the End of Class\n",
    "\n",
    "\n",
    "### how to remove certain columns in merges (i.e. the year columns in the basketball dataset since they are redundant)\n",
    "````{toggle}\n",
    "They can be dropped after (or before) using `drop()`\n",
    "\n",
    "```{code-cell} ipython3\n",
    "year_over_year_clean = year_over_year.drop(columns = ['SEASON_2018','SEASON_2019'])\n",
    "year_over_year_clean.head()\n",
    "```\n",
    "\n",
    "````\n",
    "\n",
    "### Can we merge as many dataframes as we would want?\n",
    "```{toggle}\n",
    "Merge is specifically defined for two Data Frames, but the result returns a\n",
    "a DataFrame, so it could be passed to another merge.\n",
    "```\n",
    "\n",
    "\n",
    "### Is there no way to merge the left and right for the A and B data?\n",
    "```{toggle}\n",
    "All merges are possible, they just each give a different result.\n",
    "```\n",
    "\n",
    "\n",
    "### Can you use merging to check correlation between two different sets?\n",
    "```{toggle}\n",
    "You can use merging to check *overlap* between two DataFrames, for actual sets, it's probably best to represent them as `set` type objects and use set operations.\n",
    "\n",
    "However, these type of operations are not actually correlations, which we'll learn a bit about in a few weeks when we talk about regression\n",
    "```\n",
    "\n",
    "\n",
    "### Is there any way to compare the team ids in both datasets so that it outputs the players that changed teams between those times?\n",
    "\n",
    "````{toggle}\n",
    "From the `year_over_year` DataFrame we made above, we can check which players changed teams.  Since players also can change teams *within* a season, this is a tricky question, but we could, for example look only for players that have no overlapping teams from 2018 to 2019.\n",
    "\n",
    "```{code-cell} ipython3\n",
    "change_check = lambda r: not(r['TEAM_ID_2018']== r['TEAM_ID_2019'])\n",
    "year_over_year_clean['CHANGE_TEAM'] = year_over_year_clean.apply(change_check,axis=1)\n",
    "year_over_year_clean.head()\n",
    "```\n",
    "\n",
    "Then we can filter the data by the new column, then take out only the player information and dropa ny duplicates for players that played in multiple teams in one eyar or the other.\n",
    "```{code-cell} ipython3\n",
    "y_o_y_changes = year_over_year_clean[year_over_year_clean['CHANGE_TEAM']]\n",
    "y_o_y_change_players = y_o_y_changes[['PLAYER_ID','PLAYER_NAME']].drop_duplicates()\n",
    "y_o_y_change_players.head()\n",
    "```\n",
    "\n",
    "and we can check how many players that is\n",
    "```{code-cell} ipython3\n",
    "y_o_y_change_players.shape\n",
    "```\n",
    "\n",
    "````\n",
    "\n",
    "### in year_over_year, where suffixes=('_2018','_2019'), why is there an underscore?\n",
    "```{toggle}\n",
    "this is optional, but is best practice for pythonic variable naming. (and remember columns are like variables)\n",
    "```\n",
    "\n",
    "\n",
    "### If we merge two dataframes which each have a column (or columns) that are the same, but each have different data types in those columns, what happens?\n",
    "\n",
    "```{toggle}\n",
    "If they're just named the same, but not the \"on\" column, you'll get the two columsn with different suffixes default `('_x','_y')`. If it's the `on` column, the merge will be empty\n",
    "```\n",
    "\n",
    "\n",
    "### how does suffix to know to change the date?\n",
    "```{toggle}\n",
    "Suffix appends what we tell it to to the column names that occur in both datasets\n",
    "```\n",
    "\n",
    "## More Practice\n",
    "\n",
    "1. Use a merge to figure out how many players did not return for the 2019 season\n",
    "1. Also load the `conferences.csv` data. Use this to figure out how many players moved conferences from 2018 to 2019."
   ]
  }
 ],
 "metadata": {
  "jupytext": {
   "text_representation": {
    "extension": ".md",
    "format_name": "myst",
    "format_version": 0.13,
    "jupytext_version": "1.10.3"
   }
  },
  "kernelspec": {
   "display_name": "Python 3",
   "language": "python",
   "name": "python3"
  },
  "language_info": {
   "codemirror_mode": {
    "name": "ipython",
    "version": 3
   },
   "file_extension": ".py",
   "mimetype": "text/x-python",
   "name": "python",
   "nbconvert_exporter": "python",
   "pygments_lexer": "ipython3",
   "version": "3.7.12"
  },
  "source_map": [
   12,
   16,
   32,
   36,
   38,
   44,
   49,
   51,
   59,
   62,
   67,
   71,
   73,
   78,
   80,
   94,
   96,
   101,
   104,
   109,
   111,
   118,
   134,
   141,
   143,
   147,
   153,
   156,
   158,
   163,
   165,
   176,
   198,
   202,
   204,
   212,
   218,
   220,
   224,
   232,
   236,
   240,
   242,
   246,
   248
  ]
 },
 "nbformat": 4,
 "nbformat_minor": 5
}