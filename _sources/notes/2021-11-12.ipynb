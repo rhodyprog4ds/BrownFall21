{
 "cells": [
  {
   "cell_type": "markdown",
   "id": "aeda8218",
   "metadata": {},
   "source": [
    "# SVM and Parameter Optimizing"
   ]
  },
  {
   "cell_type": "code",
   "execution_count": 1,
   "id": "e8b036b5",
   "metadata": {},
   "outputs": [],
   "source": [
    "import matplotlib.pyplot as plt\n",
    "import numpy as np\n",
    "import seaborn as sns\n",
    "import pandas as pd\n",
    "from sklearn import datasets\n",
    "from sklearn import cluster\n",
    "from sklearn import svm, datasets\n",
    "from sklearn.model_selection import GridSearchCV\n",
    "from sklearn.model_selection import train_test_split\n",
    "from sklearn import tree"
   ]
  },
  {
   "cell_type": "markdown",
   "id": "e516ba03",
   "metadata": {},
   "source": [
    "## Support Vectors"
   ]
  },
  {
   "cell_type": "markdown",
   "id": "3a1ecb65",
   "metadata": {},
   "source": [
    "### Basic Idea\n",
    "Imagine we have data that is like this\n",
    "![very separable data](../img/svm01.svg)\n",
    "\n",
    "We might want to choose a decision boundary to separate it. We could choose any one of these three gray lines and get 100% training accuracy.\n",
    "\n",
    "![very separable data with 3 decision boundaries](../img/svm03.svg)\n",
    "\n",
    "We could say that the best one is the solid one because it best seaparates the data.\n",
    "\n",
    "![very separable data with a decision boundary](../img/svm02.svg)\n",
    "\n",
    "SVM does this, it finds the 'support vectors' which are the points of each class closes to the others and then finds the decison  boundary that has the maximum margin, where the margin is the space between the boundary and each class.  \n",
    "![very separable data with a decision boundary and margin highlighted](../img/svm05.svg)\n",
    "\n",
    "When SVM is looking only for straight lines, it's called linear SVM, but SVM can look for different type of boundaries.  We do this by changing the kernel function.  A popular one is called the radial basis function or `rbf` it allows smooth curvy lines.  \n",
    "````{margin}\n",
    "```{note}\n",
    "Additional parameters control how smooth or wavy that line can be.\n",
    "```\n",
    "````\n",
    "\n",
    "So that the SVM can work on data like this:\n",
    "![very separable data with a decision boundary](../img/svm07.svg)\n",
    "\n",
    "It can also allow handle data that is not perfectly separable like the following by minimizing the number of errors and maximizing the margin.\n",
    "![very separable data with a decision boundary](../img/svm08.svg)\n",
    "\n",
    "\n",
    "\n",
    "### SVM in Sklearn\n",
    "First we'll load the data and separate the featurs and target ($X$ and $y$)"
   ]
  },
  {
   "cell_type": "code",
   "execution_count": 2,
   "id": "7fb41d8c",
   "metadata": {},
   "outputs": [],
   "source": [
    "iris_df = sns.load_dataset('iris')\n",
    "iris_X = iris_df.drop(columns='species')\n",
    "iris_y = iris_df['species']"
   ]
  },
  {
   "cell_type": "markdown",
   "id": "87bd0875",
   "metadata": {},
   "source": [
    "Next, we will split the data into test and train."
   ]
  },
  {
   "cell_type": "code",
   "execution_count": 3,
   "id": "f7385af5",
   "metadata": {},
   "outputs": [],
   "source": [
    "iris_X_train, iris_X_test, iris_y_train, iris_y_test = train_test_split(iris_X,iris_y)"
   ]
  },
  {
   "cell_type": "markdown",
   "id": "6cb9cb81",
   "metadata": {},
   "source": [
    "Fitting the model is just like other models we have seen:\n",
    "\n",
    "1. instantiate the object\n",
    "1. fit the model\n",
    "1. score the model on the test dat"
   ]
  },
  {
   "cell_type": "code",
   "execution_count": 4,
   "id": "1ac67ed8",
   "metadata": {},
   "outputs": [
    {
     "data": {
      "text/plain": [
       "1.0"
      ]
     },
     "execution_count": 4,
     "metadata": {},
     "output_type": "execute_result"
    }
   ],
   "source": [
    "svm_clf = svm.SVC()\n",
    "svm_clf.fit(iris_X_train, iris_y_train)\n",
    "svm_clf.score(iris_X_test, iris_y_test)"
   ]
  },
  {
   "cell_type": "markdown",
   "id": "f1bd3876",
   "metadata": {},
   "source": [
    "We see that this fits pretty well with the default parameters."
   ]
  },
  {
   "cell_type": "markdown",
   "id": "92daa3f5",
   "metadata": {},
   "source": [
    "## Grid Search Optimization\n",
    "\n",
    "We can optimize, however to determing the different parameter settings.\n",
    "\n",
    "A simple way to do this is to fit the model for different parameters and score for each and compare."
   ]
  },
  {
   "cell_type": "markdown",
   "id": "f6aa9161",
   "metadata": {},
   "source": [
    "We'll focus on the kernel, which controls the type of line, and $C$ which controls the regularization."
   ]
  },
  {
   "cell_type": "code",
   "execution_count": 5,
   "id": "9358df5b",
   "metadata": {},
   "outputs": [],
   "source": [
    "param_grid = {'kernel':['linear','rbf'], 'C':[.5, 1, 10]}\n",
    "svm_opt = GridSearchCV(svm_clf,param_grid,)"
   ]
  },
  {
   "cell_type": "markdown",
   "id": "19da9fdb",
   "metadata": {},
   "source": [
    "The `GridSearchCV` object is constructed first and requires an estimator object and a dictionary that describes the parameter grid to search over.\n",
    "The dictionary has the parameter names as the keys and the values are the values for that parameter to test.\n",
    "\n",
    "The `fit` method on the Grid Seearch object fits all of the separate models."
   ]
  },
  {
   "cell_type": "code",
   "execution_count": 6,
   "id": "ff4ae018",
   "metadata": {},
   "outputs": [
    {
     "data": {
      "text/plain": [
       "GridSearchCV(estimator=SVC(),\n",
       "             param_grid={'C': [0.5, 1, 10], 'kernel': ['linear', 'rbf']})"
      ]
     },
     "execution_count": 6,
     "metadata": {},
     "output_type": "execute_result"
    }
   ],
   "source": [
    "svm_opt.fit(iris_X_train,iris_y_train)"
   ]
  },
  {
   "cell_type": "markdown",
   "id": "eeb89ceb",
   "metadata": {},
   "source": [
    "Then we can look at the output."
   ]
  },
  {
   "cell_type": "code",
   "execution_count": 7,
   "id": "d2f6ea60",
   "metadata": {},
   "outputs": [
    {
     "data": {
      "text/plain": [
       "{'mean_fit_time': array([0.00182166, 0.00180583, 0.00170598, 0.001788  , 0.00173359,\n",
       "        0.00172429]),\n",
       " 'std_fit_time': array([1.51683212e-04, 8.26374066e-06, 1.98656335e-05, 1.67386823e-05,\n",
       "        5.97422727e-05, 1.47260100e-05]),\n",
       " 'mean_score_time': array([0.00126958, 0.00131335, 0.00125771, 0.00128155, 0.00125089,\n",
       "        0.00126724]),\n",
       " 'std_score_time': array([1.97913272e-05, 1.32287725e-05, 1.03325232e-05, 6.17204873e-06,\n",
       "        9.12567161e-06, 1.14762332e-05]),\n",
       " 'param_C': masked_array(data=[0.5, 0.5, 1, 1, 10, 10],\n",
       "              mask=[False, False, False, False, False, False],\n",
       "        fill_value='?',\n",
       "             dtype=object),\n",
       " 'param_kernel': masked_array(data=['linear', 'rbf', 'linear', 'rbf', 'linear', 'rbf'],\n",
       "              mask=[False, False, False, False, False, False],\n",
       "        fill_value='?',\n",
       "             dtype=object),\n",
       " 'params': [{'C': 0.5, 'kernel': 'linear'},\n",
       "  {'C': 0.5, 'kernel': 'rbf'},\n",
       "  {'C': 1, 'kernel': 'linear'},\n",
       "  {'C': 1, 'kernel': 'rbf'},\n",
       "  {'C': 10, 'kernel': 'linear'},\n",
       "  {'C': 10, 'kernel': 'rbf'}],\n",
       " 'split0_test_score': array([1.        , 0.95652174, 1.        , 1.        , 1.        ,\n",
       "        1.        ]),\n",
       " 'split1_test_score': array([0.95652174, 0.95652174, 0.95652174, 0.95652174, 0.95652174,\n",
       "        0.95652174]),\n",
       " 'split2_test_score': array([1.        , 0.95454545, 1.        , 0.95454545, 0.95454545,\n",
       "        1.        ]),\n",
       " 'split3_test_score': array([0.95454545, 0.95454545, 0.95454545, 0.95454545, 0.95454545,\n",
       "        0.90909091]),\n",
       " 'split4_test_score': array([0.95454545, 0.95454545, 0.95454545, 0.95454545, 1.        ,\n",
       "        0.95454545]),\n",
       " 'mean_test_score': array([0.97312253, 0.95533597, 0.97312253, 0.96403162, 0.97312253,\n",
       "        0.96403162]),\n",
       " 'std_test_score': array([0.02195722, 0.00096818, 0.02195722, 0.01800047, 0.02195722,\n",
       "        0.03391848]),\n",
       " 'rank_test_score': array([1, 6, 1, 4, 1, 4], dtype=int32)}"
      ]
     },
     "execution_count": 7,
     "metadata": {},
     "output_type": "execute_result"
    }
   ],
   "source": [
    "svm_opt.cv_results_"
   ]
  },
  {
   "cell_type": "markdown",
   "id": "f45c6093",
   "metadata": {},
   "source": [
    "We note that this is a dictionary, so to make it more readable, we can make it a DataFrame."
   ]
  },
  {
   "cell_type": "code",
   "execution_count": 8,
   "id": "27e89c8c",
   "metadata": {},
   "outputs": [
    {
     "data": {
      "text/html": [
       "<div>\n",
       "<style scoped>\n",
       "    .dataframe tbody tr th:only-of-type {\n",
       "        vertical-align: middle;\n",
       "    }\n",
       "\n",
       "    .dataframe tbody tr th {\n",
       "        vertical-align: top;\n",
       "    }\n",
       "\n",
       "    .dataframe thead th {\n",
       "        text-align: right;\n",
       "    }\n",
       "</style>\n",
       "<table border=\"1\" class=\"dataframe\">\n",
       "  <thead>\n",
       "    <tr style=\"text-align: right;\">\n",
       "      <th></th>\n",
       "      <th>mean_fit_time</th>\n",
       "      <th>std_fit_time</th>\n",
       "      <th>mean_score_time</th>\n",
       "      <th>std_score_time</th>\n",
       "      <th>param_C</th>\n",
       "      <th>param_kernel</th>\n",
       "      <th>params</th>\n",
       "      <th>split0_test_score</th>\n",
       "      <th>split1_test_score</th>\n",
       "      <th>split2_test_score</th>\n",
       "      <th>split3_test_score</th>\n",
       "      <th>split4_test_score</th>\n",
       "      <th>mean_test_score</th>\n",
       "      <th>std_test_score</th>\n",
       "      <th>rank_test_score</th>\n",
       "    </tr>\n",
       "  </thead>\n",
       "  <tbody>\n",
       "    <tr>\n",
       "      <th>0</th>\n",
       "      <td>0.001822</td>\n",
       "      <td>0.000152</td>\n",
       "      <td>0.001270</td>\n",
       "      <td>0.000020</td>\n",
       "      <td>0.5</td>\n",
       "      <td>linear</td>\n",
       "      <td>{'C': 0.5, 'kernel': 'linear'}</td>\n",
       "      <td>1.000000</td>\n",
       "      <td>0.956522</td>\n",
       "      <td>1.000000</td>\n",
       "      <td>0.954545</td>\n",
       "      <td>0.954545</td>\n",
       "      <td>0.973123</td>\n",
       "      <td>0.021957</td>\n",
       "      <td>1</td>\n",
       "    </tr>\n",
       "    <tr>\n",
       "      <th>1</th>\n",
       "      <td>0.001806</td>\n",
       "      <td>0.000008</td>\n",
       "      <td>0.001313</td>\n",
       "      <td>0.000013</td>\n",
       "      <td>0.5</td>\n",
       "      <td>rbf</td>\n",
       "      <td>{'C': 0.5, 'kernel': 'rbf'}</td>\n",
       "      <td>0.956522</td>\n",
       "      <td>0.956522</td>\n",
       "      <td>0.954545</td>\n",
       "      <td>0.954545</td>\n",
       "      <td>0.954545</td>\n",
       "      <td>0.955336</td>\n",
       "      <td>0.000968</td>\n",
       "      <td>6</td>\n",
       "    </tr>\n",
       "    <tr>\n",
       "      <th>2</th>\n",
       "      <td>0.001706</td>\n",
       "      <td>0.000020</td>\n",
       "      <td>0.001258</td>\n",
       "      <td>0.000010</td>\n",
       "      <td>1</td>\n",
       "      <td>linear</td>\n",
       "      <td>{'C': 1, 'kernel': 'linear'}</td>\n",
       "      <td>1.000000</td>\n",
       "      <td>0.956522</td>\n",
       "      <td>1.000000</td>\n",
       "      <td>0.954545</td>\n",
       "      <td>0.954545</td>\n",
       "      <td>0.973123</td>\n",
       "      <td>0.021957</td>\n",
       "      <td>1</td>\n",
       "    </tr>\n",
       "    <tr>\n",
       "      <th>3</th>\n",
       "      <td>0.001788</td>\n",
       "      <td>0.000017</td>\n",
       "      <td>0.001282</td>\n",
       "      <td>0.000006</td>\n",
       "      <td>1</td>\n",
       "      <td>rbf</td>\n",
       "      <td>{'C': 1, 'kernel': 'rbf'}</td>\n",
       "      <td>1.000000</td>\n",
       "      <td>0.956522</td>\n",
       "      <td>0.954545</td>\n",
       "      <td>0.954545</td>\n",
       "      <td>0.954545</td>\n",
       "      <td>0.964032</td>\n",
       "      <td>0.018000</td>\n",
       "      <td>4</td>\n",
       "    </tr>\n",
       "    <tr>\n",
       "      <th>4</th>\n",
       "      <td>0.001734</td>\n",
       "      <td>0.000060</td>\n",
       "      <td>0.001251</td>\n",
       "      <td>0.000009</td>\n",
       "      <td>10</td>\n",
       "      <td>linear</td>\n",
       "      <td>{'C': 10, 'kernel': 'linear'}</td>\n",
       "      <td>1.000000</td>\n",
       "      <td>0.956522</td>\n",
       "      <td>0.954545</td>\n",
       "      <td>0.954545</td>\n",
       "      <td>1.000000</td>\n",
       "      <td>0.973123</td>\n",
       "      <td>0.021957</td>\n",
       "      <td>1</td>\n",
       "    </tr>\n",
       "    <tr>\n",
       "      <th>5</th>\n",
       "      <td>0.001724</td>\n",
       "      <td>0.000015</td>\n",
       "      <td>0.001267</td>\n",
       "      <td>0.000011</td>\n",
       "      <td>10</td>\n",
       "      <td>rbf</td>\n",
       "      <td>{'C': 10, 'kernel': 'rbf'}</td>\n",
       "      <td>1.000000</td>\n",
       "      <td>0.956522</td>\n",
       "      <td>1.000000</td>\n",
       "      <td>0.909091</td>\n",
       "      <td>0.954545</td>\n",
       "      <td>0.964032</td>\n",
       "      <td>0.033918</td>\n",
       "      <td>4</td>\n",
       "    </tr>\n",
       "  </tbody>\n",
       "</table>\n",
       "</div>"
      ],
      "text/plain": [
       "   mean_fit_time  std_fit_time  mean_score_time  std_score_time param_C  \\\n",
       "0       0.001822      0.000152         0.001270        0.000020     0.5   \n",
       "1       0.001806      0.000008         0.001313        0.000013     0.5   \n",
       "2       0.001706      0.000020         0.001258        0.000010       1   \n",
       "3       0.001788      0.000017         0.001282        0.000006       1   \n",
       "4       0.001734      0.000060         0.001251        0.000009      10   \n",
       "5       0.001724      0.000015         0.001267        0.000011      10   \n",
       "\n",
       "  param_kernel                          params  split0_test_score  \\\n",
       "0       linear  {'C': 0.5, 'kernel': 'linear'}           1.000000   \n",
       "1          rbf     {'C': 0.5, 'kernel': 'rbf'}           0.956522   \n",
       "2       linear    {'C': 1, 'kernel': 'linear'}           1.000000   \n",
       "3          rbf       {'C': 1, 'kernel': 'rbf'}           1.000000   \n",
       "4       linear   {'C': 10, 'kernel': 'linear'}           1.000000   \n",
       "5          rbf      {'C': 10, 'kernel': 'rbf'}           1.000000   \n",
       "\n",
       "   split1_test_score  split2_test_score  split3_test_score  split4_test_score  \\\n",
       "0           0.956522           1.000000           0.954545           0.954545   \n",
       "1           0.956522           0.954545           0.954545           0.954545   \n",
       "2           0.956522           1.000000           0.954545           0.954545   \n",
       "3           0.956522           0.954545           0.954545           0.954545   \n",
       "4           0.956522           0.954545           0.954545           1.000000   \n",
       "5           0.956522           1.000000           0.909091           0.954545   \n",
       "\n",
       "   mean_test_score  std_test_score  rank_test_score  \n",
       "0         0.973123        0.021957                1  \n",
       "1         0.955336        0.000968                6  \n",
       "2         0.973123        0.021957                1  \n",
       "3         0.964032        0.018000                4  \n",
       "4         0.973123        0.021957                1  \n",
       "5         0.964032        0.033918                4  "
      ]
     },
     "execution_count": 8,
     "metadata": {},
     "output_type": "execute_result"
    }
   ],
   "source": [
    "pd.DataFrame(svm_opt.cv_results_)"
   ]
  },
  {
   "cell_type": "markdown",
   "id": "496d93a9",
   "metadata": {},
   "source": [
    "It also has a `best_estimator_` attribute, which is an estimator object."
   ]
  },
  {
   "cell_type": "code",
   "execution_count": 9,
   "id": "e5c3cf7d",
   "metadata": {},
   "outputs": [
    {
     "data": {
      "text/plain": [
       "sklearn.svm._classes.SVC"
      ]
     },
     "execution_count": 9,
     "metadata": {},
     "output_type": "execute_result"
    }
   ],
   "source": [
    "type(svm_opt.best_estimator_)"
   ]
  },
  {
   "cell_type": "markdown",
   "id": "32c14630",
   "metadata": {},
   "source": [
    "This is the model that had the best cross validated score among all of the parameter settings tested."
   ]
  },
  {
   "cell_type": "code",
   "execution_count": 10,
   "id": "7abdd0f8",
   "metadata": {},
   "outputs": [
    {
     "data": {
      "text/plain": [
       "1.0"
      ]
     },
     "execution_count": 10,
     "metadata": {},
     "output_type": "execute_result"
    }
   ],
   "source": [
    "svm_opt.best_estimator_.score(iris_X_test,iris_y_test)"
   ]
  },
  {
   "cell_type": "markdown",
   "id": "f11cccc9",
   "metadata": {},
   "source": [
    "We can then use this model on the test data."
   ]
  },
  {
   "cell_type": "markdown",
   "id": "98b6638c",
   "metadata": {},
   "source": [
    "```{admonition} Try it Yourself\n",
    "Find the best criterion, max depth, and minimum number of samples per leaf\n",
    "```"
   ]
  },
  {
   "cell_type": "code",
   "execution_count": 11,
   "id": "58b7842a",
   "metadata": {},
   "outputs": [],
   "source": [
    "dt = tree.DecisionTreeClassifier()\n",
    "params_dt = {'criterion':['gini','entropy'],'max_depth':[2,3,4],\n",
    "       'min_samples_leaf':list(range(2,20,2))}"
   ]
  },
  {
   "cell_type": "markdown",
   "id": "a73eade7",
   "metadata": {},
   "source": [
    "To do this, we do just as we did above, instantiate and fit the model."
   ]
  },
  {
   "cell_type": "code",
   "execution_count": 12,
   "id": "468d6f78",
   "metadata": {},
   "outputs": [
    {
     "data": {
      "text/plain": [
       "GridSearchCV(estimator=DecisionTreeClassifier(),\n",
       "             param_grid={'criterion': ['gini', 'entropy'],\n",
       "                         'max_depth': [2, 3, 4],\n",
       "                         'min_samples_leaf': [2, 4, 6, 8, 10, 12, 14, 16, 18]})"
      ]
     },
     "execution_count": 12,
     "metadata": {},
     "output_type": "execute_result"
    }
   ],
   "source": [
    "dt_opt = GridSearchCV(dt,params_dt)\n",
    "dt_opt.fit(iris_X_train,iris_y_train)"
   ]
  },
  {
   "cell_type": "markdown",
   "id": "79562acf",
   "metadata": {},
   "source": [
    "Then we can use the `best_params_` attribute to see the best parameter settings."
   ]
  },
  {
   "cell_type": "code",
   "execution_count": 13,
   "id": "a319ac09",
   "metadata": {},
   "outputs": [
    {
     "data": {
      "text/plain": [
       "{'criterion': 'gini', 'max_depth': 2, 'min_samples_leaf': 2}"
      ]
     },
     "execution_count": 13,
     "metadata": {},
     "output_type": "execute_result"
    }
   ],
   "source": [
    "dt_opt.best_params_"
   ]
  },
  {
   "cell_type": "markdown",
   "id": "12064e11",
   "metadata": {},
   "source": [
    "## Questions after class\n",
    "\n",
    "### Can this be used on more types of machine learning than just decision trees and svm?\n",
    "```{toggle}\n",
    "Yes, this can be used on any estimator in scikit learn. It can even be used on other models that adhere to the required [API](https://scikit-learn.org/stable/developers/develop.html).  \n",
    "\n",
    "GridSearchCV repeatedly:\n",
    "- sets the parameter values from param_grid\n",
    "- runs cross_val_score on the data\n",
    "```"
   ]
  }
 ],
 "metadata": {
  "jupytext": {
   "text_representation": {
    "extension": ".md",
    "format_name": "myst",
    "format_version": 0.13,
    "jupytext_version": "1.10.3"
   }
  },
  "kernelspec": {
   "display_name": "Python 3",
   "language": "python",
   "name": "python3"
  },
  "language_info": {
   "codemirror_mode": {
    "name": "ipython",
    "version": 3
   },
   "file_extension": ".py",
   "mimetype": "text/x-python",
   "name": "python",
   "nbconvert_exporter": "python",
   "pygments_lexer": "ipython3",
   "version": "3.7.12"
  },
  "source_map": [
   12,
   16,
   27,
   31,
   65,
   69,
   73,
   75,
   83,
   87,
   91,
   99,
   103,
   106,
   113,
   115,
   119,
   121,
   125,
   127,
   131,
   133,
   137,
   139,
   143,
   149,
   153,
   157,
   160,
   164,
   166
  ]
 },
 "nbformat": 4,
 "nbformat_minor": 5
}