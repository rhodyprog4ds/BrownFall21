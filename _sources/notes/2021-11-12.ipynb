{
 "cells": [
  {
   "cell_type": "markdown",
   "id": "9ccc2bbb",
   "metadata": {},
   "source": [
    "# SVM and Parameter Optimizing"
   ]
  },
  {
   "cell_type": "code",
   "execution_count": 1,
   "id": "d0e39036",
   "metadata": {},
   "outputs": [],
   "source": [
    "import matplotlib.pyplot as plt\n",
    "import numpy as np\n",
    "import seaborn as sns\n",
    "import pandas as pd\n",
    "from sklearn import datasets\n",
    "from sklearn import cluster\n",
    "from sklearn import svm, datasets\n",
    "from sklearn.model_selection import GridSearchCV\n",
    "from sklearn.model_selection import train_test_split\n",
    "from sklearn import tree"
   ]
  },
  {
   "cell_type": "markdown",
   "id": "a8c92193",
   "metadata": {},
   "source": [
    "## Support Vectors"
   ]
  },
  {
   "cell_type": "markdown",
   "id": "cf01b014",
   "metadata": {},
   "source": [
    "### Basic Idea\n",
    "Imagine we have data that is like this\n",
    "![very separable data](../img/svm01.svg)\n",
    "\n",
    "We might want to choose a decision boundary to separate it. We could choose any one of these three gray lines and get 100% training accuracy.\n",
    "\n",
    "![very separable data with 3 decision boundaries](../img/svm03.svg)\n",
    "\n",
    "We could say that the best one is the solid one because it best seaparates the data.\n",
    "\n",
    "![very separable data with a decision boundary](../img/svm02.svg)\n",
    "\n",
    "SVM does this, it finds the 'support vectors' which are the points of each class closes to the others and then finds the decison  boundary that has the maximum margin, where the margin is the space between the boundary and each class.  \n",
    "![very separable data with a decision boundary and margin highlighted](../img/svm05.svg)\n",
    "\n",
    "When SVM is looking only for straight lines, it's called linear SVM, but SVM can look for different type of boundaries.  We do this by changing the kernel function.  A popular one is called the radial basis function or `rbf` it allows smooth curvy lines.  \n",
    "````{margin}\n",
    "```{note}\n",
    "Additional parameters control how smooth or wavy that line can be.\n",
    "```\n",
    "````\n",
    "\n",
    "So that the SVM can work on data like this:\n",
    "![very separable data with a decision boundary](../img/svm07.svg)\n",
    "\n",
    "It can also allow handle data that is not perfectly separable like the following by minimizing the number of errors and maximizing the margin.\n",
    "![very separable data with a decision boundary](../img/svm08.svg)\n",
    "\n",
    "\n",
    "\n",
    "### SVM in Sklearn\n",
    "First we'll load the data and separate the featurs and target ($X$ and $y$)"
   ]
  },
  {
   "cell_type": "code",
   "execution_count": 2,
   "id": "c8e44461",
   "metadata": {},
   "outputs": [],
   "source": [
    "iris_df = sns.load_dataset('iris')\n",
    "iris_X = iris_df.drop(columns='species')\n",
    "iris_y = iris_df['species']"
   ]
  },
  {
   "cell_type": "markdown",
   "id": "b8f7288b",
   "metadata": {},
   "source": [
    "Next, we will split the data into test and train."
   ]
  },
  {
   "cell_type": "code",
   "execution_count": 3,
   "id": "6d0d0745",
   "metadata": {},
   "outputs": [],
   "source": [
    "iris_X_train, iris_X_test, iris_y_train, iris_y_test = train_test_split(iris_X,iris_y)"
   ]
  },
  {
   "cell_type": "markdown",
   "id": "91ff3e1f",
   "metadata": {},
   "source": [
    "Fitting the model is just like other models we have seen:\n",
    "\n",
    "1. instantiate the object\n",
    "1. fit the model\n",
    "1. score the model on the test dat"
   ]
  },
  {
   "cell_type": "code",
   "execution_count": 4,
   "id": "52a7ab59",
   "metadata": {},
   "outputs": [
    {
     "data": {
      "text/plain": [
       "0.9736842105263158"
      ]
     },
     "execution_count": 4,
     "metadata": {},
     "output_type": "execute_result"
    }
   ],
   "source": [
    "svm_clf = svm.SVC()\n",
    "svm_clf.fit(iris_X_train, iris_y_train)\n",
    "svm_clf.score(iris_X_test, iris_y_test)"
   ]
  },
  {
   "cell_type": "markdown",
   "id": "cc07d9f0",
   "metadata": {},
   "source": [
    "We see that this fits pretty well with the default parameters."
   ]
  },
  {
   "cell_type": "markdown",
   "id": "11e154d9",
   "metadata": {},
   "source": [
    "## Grid Search Optimization\n",
    "\n",
    "We can optimize, however to determing the different parameter settings.\n",
    "\n",
    "A simple way to do this is to fit the model for different parameters and score for each and compare."
   ]
  },
  {
   "cell_type": "markdown",
   "id": "b13ecd9c",
   "metadata": {},
   "source": [
    "We'll focus on the kernel, which controls the type of line, and $C$ which controls the regularization."
   ]
  },
  {
   "cell_type": "code",
   "execution_count": 5,
   "id": "4430f163",
   "metadata": {},
   "outputs": [],
   "source": [
    "param_grid = {'kernel':['linear','rbf'], 'C':[.5, 1, 10]}\n",
    "svm_opt = GridSearchCV(svm_clf,param_grid,)"
   ]
  },
  {
   "cell_type": "markdown",
   "id": "29503d63",
   "metadata": {},
   "source": [
    "The `GridSearchCV` object is constructed first and requires an estimator object and a dictionary that describes the parameter grid to search over.\n",
    "The dictionary has the parameter names as the keys and the values are the values for that parameter to test.\n",
    "\n",
    "The `fit` method on the Grid Seearch object fits all of the separate models."
   ]
  },
  {
   "cell_type": "code",
   "execution_count": 6,
   "id": "770bda58",
   "metadata": {},
   "outputs": [
    {
     "data": {
      "text/plain": [
       "GridSearchCV(estimator=SVC(),\n",
       "             param_grid={'C': [0.5, 1, 10], 'kernel': ['linear', 'rbf']})"
      ]
     },
     "execution_count": 6,
     "metadata": {},
     "output_type": "execute_result"
    }
   ],
   "source": [
    "svm_opt.fit(iris_X_train,iris_y_train)"
   ]
  },
  {
   "cell_type": "markdown",
   "id": "3d236f99",
   "metadata": {},
   "source": [
    "Then we can look at the output."
   ]
  },
  {
   "cell_type": "code",
   "execution_count": 7,
   "id": "b478e00e",
   "metadata": {},
   "outputs": [
    {
     "data": {
      "text/plain": [
       "{'mean_fit_time': array([0.00216699, 0.00224891, 0.00213437, 0.00240412, 0.00225282,\n",
       "        0.00241189]),\n",
       " 'std_fit_time': array([1.55645010e-04, 7.33416163e-05, 1.02361779e-04, 1.68600651e-04,\n",
       "        1.54536663e-04, 2.48827565e-04]),\n",
       " 'mean_score_time': array([0.001826  , 0.00190191, 0.00184693, 0.00193439, 0.00177636,\n",
       "        0.00183339]),\n",
       " 'std_score_time': array([3.76856446e-05, 8.98043258e-05, 9.42432907e-05, 1.15456112e-04,\n",
       "        1.29645315e-04, 7.75820651e-05]),\n",
       " 'param_C': masked_array(data=[0.5, 0.5, 1, 1, 10, 10],\n",
       "              mask=[False, False, False, False, False, False],\n",
       "        fill_value='?',\n",
       "             dtype=object),\n",
       " 'param_kernel': masked_array(data=['linear', 'rbf', 'linear', 'rbf', 'linear', 'rbf'],\n",
       "              mask=[False, False, False, False, False, False],\n",
       "        fill_value='?',\n",
       "             dtype=object),\n",
       " 'params': [{'C': 0.5, 'kernel': 'linear'},\n",
       "  {'C': 0.5, 'kernel': 'rbf'},\n",
       "  {'C': 1, 'kernel': 'linear'},\n",
       "  {'C': 1, 'kernel': 'rbf'},\n",
       "  {'C': 10, 'kernel': 'linear'},\n",
       "  {'C': 10, 'kernel': 'rbf'}],\n",
       " 'split0_test_score': array([0.95652174, 0.91304348, 0.95652174, 0.91304348, 1.        ,\n",
       "        1.        ]),\n",
       " 'split1_test_score': array([1.        , 0.91304348, 1.        , 0.95652174, 1.        ,\n",
       "        1.        ]),\n",
       " 'split2_test_score': array([1.        , 0.90909091, 0.95454545, 0.90909091, 0.95454545,\n",
       "        0.95454545]),\n",
       " 'split3_test_score': array([1.        , 0.90909091, 1.        , 0.90909091, 0.95454545,\n",
       "        0.95454545]),\n",
       " 'split4_test_score': array([1.        , 1.        , 0.95454545, 1.        , 0.95454545,\n",
       "        0.95454545]),\n",
       " 'mean_test_score': array([0.99130435, 0.92885375, 0.97312253, 0.93754941, 0.97272727,\n",
       "        0.97272727]),\n",
       " 'std_test_score': array([0.0173913 , 0.03561701, 0.02195722, 0.03600094, 0.02226809,\n",
       "        0.02226809]),\n",
       " 'rank_test_score': array([1, 6, 2, 5, 3, 3], dtype=int32)}"
      ]
     },
     "execution_count": 7,
     "metadata": {},
     "output_type": "execute_result"
    }
   ],
   "source": [
    "svm_opt.cv_results_"
   ]
  },
  {
   "cell_type": "markdown",
   "id": "ad5364d0",
   "metadata": {},
   "source": [
    "We note that this is a dictionary, so to make it more readable, we can make it a DataFrame."
   ]
  },
  {
   "cell_type": "code",
   "execution_count": 8,
   "id": "c3aa96b5",
   "metadata": {},
   "outputs": [
    {
     "data": {
      "text/html": [
       "<div>\n",
       "<style scoped>\n",
       "    .dataframe tbody tr th:only-of-type {\n",
       "        vertical-align: middle;\n",
       "    }\n",
       "\n",
       "    .dataframe tbody tr th {\n",
       "        vertical-align: top;\n",
       "    }\n",
       "\n",
       "    .dataframe thead th {\n",
       "        text-align: right;\n",
       "    }\n",
       "</style>\n",
       "<table border=\"1\" class=\"dataframe\">\n",
       "  <thead>\n",
       "    <tr style=\"text-align: right;\">\n",
       "      <th></th>\n",
       "      <th>mean_fit_time</th>\n",
       "      <th>std_fit_time</th>\n",
       "      <th>mean_score_time</th>\n",
       "      <th>std_score_time</th>\n",
       "      <th>param_C</th>\n",
       "      <th>param_kernel</th>\n",
       "      <th>params</th>\n",
       "      <th>split0_test_score</th>\n",
       "      <th>split1_test_score</th>\n",
       "      <th>split2_test_score</th>\n",
       "      <th>split3_test_score</th>\n",
       "      <th>split4_test_score</th>\n",
       "      <th>mean_test_score</th>\n",
       "      <th>std_test_score</th>\n",
       "      <th>rank_test_score</th>\n",
       "    </tr>\n",
       "  </thead>\n",
       "  <tbody>\n",
       "    <tr>\n",
       "      <th>0</th>\n",
       "      <td>0.002167</td>\n",
       "      <td>0.000156</td>\n",
       "      <td>0.001826</td>\n",
       "      <td>0.000038</td>\n",
       "      <td>0.5</td>\n",
       "      <td>linear</td>\n",
       "      <td>{'C': 0.5, 'kernel': 'linear'}</td>\n",
       "      <td>0.956522</td>\n",
       "      <td>1.000000</td>\n",
       "      <td>1.000000</td>\n",
       "      <td>1.000000</td>\n",
       "      <td>1.000000</td>\n",
       "      <td>0.991304</td>\n",
       "      <td>0.017391</td>\n",
       "      <td>1</td>\n",
       "    </tr>\n",
       "    <tr>\n",
       "      <th>1</th>\n",
       "      <td>0.002249</td>\n",
       "      <td>0.000073</td>\n",
       "      <td>0.001902</td>\n",
       "      <td>0.000090</td>\n",
       "      <td>0.5</td>\n",
       "      <td>rbf</td>\n",
       "      <td>{'C': 0.5, 'kernel': 'rbf'}</td>\n",
       "      <td>0.913043</td>\n",
       "      <td>0.913043</td>\n",
       "      <td>0.909091</td>\n",
       "      <td>0.909091</td>\n",
       "      <td>1.000000</td>\n",
       "      <td>0.928854</td>\n",
       "      <td>0.035617</td>\n",
       "      <td>6</td>\n",
       "    </tr>\n",
       "    <tr>\n",
       "      <th>2</th>\n",
       "      <td>0.002134</td>\n",
       "      <td>0.000102</td>\n",
       "      <td>0.001847</td>\n",
       "      <td>0.000094</td>\n",
       "      <td>1</td>\n",
       "      <td>linear</td>\n",
       "      <td>{'C': 1, 'kernel': 'linear'}</td>\n",
       "      <td>0.956522</td>\n",
       "      <td>1.000000</td>\n",
       "      <td>0.954545</td>\n",
       "      <td>1.000000</td>\n",
       "      <td>0.954545</td>\n",
       "      <td>0.973123</td>\n",
       "      <td>0.021957</td>\n",
       "      <td>2</td>\n",
       "    </tr>\n",
       "    <tr>\n",
       "      <th>3</th>\n",
       "      <td>0.002404</td>\n",
       "      <td>0.000169</td>\n",
       "      <td>0.001934</td>\n",
       "      <td>0.000115</td>\n",
       "      <td>1</td>\n",
       "      <td>rbf</td>\n",
       "      <td>{'C': 1, 'kernel': 'rbf'}</td>\n",
       "      <td>0.913043</td>\n",
       "      <td>0.956522</td>\n",
       "      <td>0.909091</td>\n",
       "      <td>0.909091</td>\n",
       "      <td>1.000000</td>\n",
       "      <td>0.937549</td>\n",
       "      <td>0.036001</td>\n",
       "      <td>5</td>\n",
       "    </tr>\n",
       "    <tr>\n",
       "      <th>4</th>\n",
       "      <td>0.002253</td>\n",
       "      <td>0.000155</td>\n",
       "      <td>0.001776</td>\n",
       "      <td>0.000130</td>\n",
       "      <td>10</td>\n",
       "      <td>linear</td>\n",
       "      <td>{'C': 10, 'kernel': 'linear'}</td>\n",
       "      <td>1.000000</td>\n",
       "      <td>1.000000</td>\n",
       "      <td>0.954545</td>\n",
       "      <td>0.954545</td>\n",
       "      <td>0.954545</td>\n",
       "      <td>0.972727</td>\n",
       "      <td>0.022268</td>\n",
       "      <td>3</td>\n",
       "    </tr>\n",
       "    <tr>\n",
       "      <th>5</th>\n",
       "      <td>0.002412</td>\n",
       "      <td>0.000249</td>\n",
       "      <td>0.001833</td>\n",
       "      <td>0.000078</td>\n",
       "      <td>10</td>\n",
       "      <td>rbf</td>\n",
       "      <td>{'C': 10, 'kernel': 'rbf'}</td>\n",
       "      <td>1.000000</td>\n",
       "      <td>1.000000</td>\n",
       "      <td>0.954545</td>\n",
       "      <td>0.954545</td>\n",
       "      <td>0.954545</td>\n",
       "      <td>0.972727</td>\n",
       "      <td>0.022268</td>\n",
       "      <td>3</td>\n",
       "    </tr>\n",
       "  </tbody>\n",
       "</table>\n",
       "</div>"
      ],
      "text/plain": [
       "   mean_fit_time  std_fit_time  mean_score_time  std_score_time param_C  \\\n",
       "0       0.002167      0.000156         0.001826        0.000038     0.5   \n",
       "1       0.002249      0.000073         0.001902        0.000090     0.5   \n",
       "2       0.002134      0.000102         0.001847        0.000094       1   \n",
       "3       0.002404      0.000169         0.001934        0.000115       1   \n",
       "4       0.002253      0.000155         0.001776        0.000130      10   \n",
       "5       0.002412      0.000249         0.001833        0.000078      10   \n",
       "\n",
       "  param_kernel                          params  split0_test_score  \\\n",
       "0       linear  {'C': 0.5, 'kernel': 'linear'}           0.956522   \n",
       "1          rbf     {'C': 0.5, 'kernel': 'rbf'}           0.913043   \n",
       "2       linear    {'C': 1, 'kernel': 'linear'}           0.956522   \n",
       "3          rbf       {'C': 1, 'kernel': 'rbf'}           0.913043   \n",
       "4       linear   {'C': 10, 'kernel': 'linear'}           1.000000   \n",
       "5          rbf      {'C': 10, 'kernel': 'rbf'}           1.000000   \n",
       "\n",
       "   split1_test_score  split2_test_score  split3_test_score  split4_test_score  \\\n",
       "0           1.000000           1.000000           1.000000           1.000000   \n",
       "1           0.913043           0.909091           0.909091           1.000000   \n",
       "2           1.000000           0.954545           1.000000           0.954545   \n",
       "3           0.956522           0.909091           0.909091           1.000000   \n",
       "4           1.000000           0.954545           0.954545           0.954545   \n",
       "5           1.000000           0.954545           0.954545           0.954545   \n",
       "\n",
       "   mean_test_score  std_test_score  rank_test_score  \n",
       "0         0.991304        0.017391                1  \n",
       "1         0.928854        0.035617                6  \n",
       "2         0.973123        0.021957                2  \n",
       "3         0.937549        0.036001                5  \n",
       "4         0.972727        0.022268                3  \n",
       "5         0.972727        0.022268                3  "
      ]
     },
     "execution_count": 8,
     "metadata": {},
     "output_type": "execute_result"
    }
   ],
   "source": [
    "pd.DataFrame(svm_opt.cv_results_)"
   ]
  },
  {
   "cell_type": "markdown",
   "id": "cdd05f3f",
   "metadata": {},
   "source": [
    "It also has a `best_estimator_` attribute, which is an estimator object."
   ]
  },
  {
   "cell_type": "code",
   "execution_count": 9,
   "id": "121c1da9",
   "metadata": {},
   "outputs": [
    {
     "data": {
      "text/plain": [
       "sklearn.svm._classes.SVC"
      ]
     },
     "execution_count": 9,
     "metadata": {},
     "output_type": "execute_result"
    }
   ],
   "source": [
    "type(svm_opt.best_estimator_)"
   ]
  },
  {
   "cell_type": "markdown",
   "id": "538fc4e2",
   "metadata": {},
   "source": [
    "This is the model that had the best cross validated score among all of the parameter settings tested."
   ]
  },
  {
   "cell_type": "code",
   "execution_count": 10,
   "id": "31c51120",
   "metadata": {},
   "outputs": [
    {
     "data": {
      "text/plain": [
       "0.9736842105263158"
      ]
     },
     "execution_count": 10,
     "metadata": {},
     "output_type": "execute_result"
    }
   ],
   "source": [
    "svm_opt.best_estimator_.score(iris_X_test,iris_y_test)"
   ]
  },
  {
   "cell_type": "markdown",
   "id": "62610673",
   "metadata": {},
   "source": [
    "We can then use this model on the test data."
   ]
  },
  {
   "cell_type": "markdown",
   "id": "2cddd7ad",
   "metadata": {},
   "source": [
    "```{admonition} Try it Yourself\n",
    "Find the best criterion, max depth, and minimum number of samples per leaf\n",
    "```"
   ]
  },
  {
   "cell_type": "code",
   "execution_count": 11,
   "id": "f57032f1",
   "metadata": {},
   "outputs": [],
   "source": [
    "dt = tree.DecisionTreeClassifier()\n",
    "params_dt = {'criterion':['gini','entropy'],'max_depth':[2,3,4],\n",
    "       'min_samples_leaf':list(range(2,20,2))}"
   ]
  },
  {
   "cell_type": "markdown",
   "id": "f6518191",
   "metadata": {},
   "source": [
    "To do this, we do just as we did above, instantiate and fit the model."
   ]
  },
  {
   "cell_type": "code",
   "execution_count": 12,
   "id": "eae6bdd6",
   "metadata": {},
   "outputs": [
    {
     "data": {
      "text/plain": [
       "GridSearchCV(estimator=DecisionTreeClassifier(),\n",
       "             param_grid={'criterion': ['gini', 'entropy'],\n",
       "                         'max_depth': [2, 3, 4],\n",
       "                         'min_samples_leaf': [2, 4, 6, 8, 10, 12, 14, 16, 18]})"
      ]
     },
     "execution_count": 12,
     "metadata": {},
     "output_type": "execute_result"
    }
   ],
   "source": [
    "dt_opt = GridSearchCV(dt,params_dt)\n",
    "dt_opt.fit(iris_X_train,iris_y_train)"
   ]
  },
  {
   "cell_type": "markdown",
   "id": "09d367e7",
   "metadata": {},
   "source": [
    "Then we can use the `best_params_` attribute to see the best parameter settings."
   ]
  },
  {
   "cell_type": "code",
   "execution_count": 13,
   "id": "31c3195d",
   "metadata": {},
   "outputs": [
    {
     "data": {
      "text/plain": [
       "{'criterion': 'gini', 'max_depth': 3, 'min_samples_leaf': 2}"
      ]
     },
     "execution_count": 13,
     "metadata": {},
     "output_type": "execute_result"
    }
   ],
   "source": [
    "dt_opt.best_params_"
   ]
  },
  {
   "cell_type": "markdown",
   "id": "f18a9225",
   "metadata": {},
   "source": [
    "## Questions after class\n",
    "\n",
    "### Can this be used on more types of machine learning than just decision trees and svm?\n",
    "```{toggle}\n",
    "Yes, this can be used on any estimator in scikit learn. It can even be used on other models that adhere to the required [API](https://scikit-learn.org/stable/developers/develop.html).  \n",
    "\n",
    "GridSearchCV repeatedly:\n",
    "- sets the parameter values from param_grid\n",
    "- runs cross_val_score on the data\n",
    "```"
   ]
  }
 ],
 "metadata": {
  "jupytext": {
   "text_representation": {
    "extension": ".md",
    "format_name": "myst",
    "format_version": 0.13,
    "jupytext_version": "1.10.3"
   }
  },
  "kernelspec": {
   "display_name": "Python 3",
   "language": "python",
   "name": "python3"
  },
  "language_info": {
   "codemirror_mode": {
    "name": "ipython",
    "version": 3
   },
   "file_extension": ".py",
   "mimetype": "text/x-python",
   "name": "python",
   "nbconvert_exporter": "python",
   "pygments_lexer": "ipython3",
   "version": "3.7.12"
  },
  "source_map": [
   12,
   16,
   27,
   31,
   65,
   69,
   73,
   75,
   83,
   87,
   91,
   99,
   103,
   106,
   113,
   115,
   119,
   121,
   125,
   127,
   131,
   133,
   137,
   139,
   143,
   149,
   153,
   157,
   160,
   164,
   166
  ]
 },
 "nbformat": 4,
 "nbformat_minor": 5
}