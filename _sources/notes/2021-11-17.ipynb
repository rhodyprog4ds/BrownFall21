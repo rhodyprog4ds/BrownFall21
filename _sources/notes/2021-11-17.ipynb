{
 "cells": [
  {
   "cell_type": "markdown",
   "id": "96256bcd",
   "metadata": {},
   "source": [
    "# Model Selection\n",
    "\n",
    "We'll pick up from where we left off on Monday.\n",
    "\n",
    "````{margin}\n",
    "```{admonition} Further Reading\n",
    "\n",
    "If you struggled to understand this code excerpt to fill in the comments, some generic strategies to understand code may help, beyond applying what we have covered in class.\n",
    "\n",
    "The Programmer's brain\n",
    "is an overview of how brains work, as applied to programming, written for working\n",
    "developers. This means that it assumes you know most CS concepts and at least two programming languages. If you don't there may be some parts that do not make sense to you, but the general ideas should still make sense.\n",
    "The author is a professor who researchers how people learn\n",
    "programming and how to effectively teach it.\n",
    "\n",
    "```\n",
    "````"
   ]
  },
  {
   "cell_type": "code",
   "execution_count": 1,
   "id": "fd7c60c8",
   "metadata": {},
   "outputs": [],
   "source": [
    "import matplotlib.pyplot as plt\n",
    "import numpy as np\n",
    "import seaborn as sns\n",
    "import pandas as pd\n",
    "from sklearn import datasets\n",
    "from sklearn import cluster\n",
    "from sklearn import svm\n",
    "from sklearn import tree\n",
    "# import the whole model selection module\n",
    "from sklearn import model_selection\n",
    "sns.set_theme(palette='colorblind')\n",
    "\n",
    "# load and split the data\n",
    "iris_X, iris_y = datasets.load_iris(return_X_y=True)\n",
    "iris_X_train, iris_X_test, iris_y_train, iris_y_test = model_selection.train_test_split(\n",
    "  iris_X,iris_y, test_size =.2)\n",
    "\n",
    "\n",
    "# create dt, set param grid & create optimizer\n",
    "dt = tree.DecisionTreeClassifier()\n",
    "\n",
    "params_dt = {'criterion':['gini','entropy'],\n",
    "       'max_depth':[2,3,4,5,6],\n",
    "    'min_samples_leaf':list(range(2,20,2))}\n",
    "\n",
    "dt_opt = model_selection.GridSearchCV(dt,params_dt,cv=10)\n",
    "\n",
    "\n",
    "# fit the model and optimize\n",
    "dt_opt.fit(iris_X_train,iris_y_train)\n",
    "\n",
    "# store the resutl sin a dataframe\n",
    "dt_df = pd.DataFrame(dt_opt.cv_results_)\n",
    "\n",
    "\n",
    "# create svm, its parameter grid and optimizer\n",
    "svm_clf = svm.SVC()\n",
    "param_grid = {'kernel':['linear','rbf'], 'C':[.5, .75,1,2,5,7, 10]}\n",
    "svm_opt = model_selection.GridSearchCV(svm_clf,param_grid,cv=10)\n",
    "\n",
    "# fit the model and put the CV results in a dataframe\n",
    "svm_opt.fit(iris_X_train,iris_y_train)\n",
    "sv_df = pd.DataFrame(svm_opt.cv_results_)"
   ]
  },
  {
   "cell_type": "markdown",
   "id": "6596a8d7",
   "metadata": {},
   "source": [
    "We can compare how the best models fit during validation:"
   ]
  },
  {
   "cell_type": "code",
   "execution_count": 2,
   "id": "f593f520",
   "metadata": {},
   "outputs": [
    {
     "data": {
      "text/plain": [
       "(0.975, 0.9499999999999998)"
      ]
     },
     "execution_count": 2,
     "metadata": {},
     "output_type": "execute_result"
    }
   ],
   "source": [
    "svm_opt.best_score_, dt_opt.best_score_"
   ]
  },
  {
   "cell_type": "markdown",
   "id": "28f6c448",
   "metadata": {},
   "source": [
    "We see that the SVM does a little bit better.\n",
    "\n",
    "We can also apply the best estimator from each model class (that is the best parameter settings for each SVM and Decision Tree) to the test data to get our final score."
   ]
  },
  {
   "cell_type": "code",
   "execution_count": 3,
   "id": "3633e632",
   "metadata": {},
   "outputs": [
    {
     "data": {
      "text/plain": [
       "1.0"
      ]
     },
     "execution_count": 3,
     "metadata": {},
     "output_type": "execute_result"
    }
   ],
   "source": [
    "svm_opt.best_estimator_.score(iris_X_test,iris_y_test)"
   ]
  },
  {
   "cell_type": "code",
   "execution_count": 4,
   "id": "50e0a3b5",
   "metadata": {},
   "outputs": [
    {
     "data": {
      "text/plain": [
       "1.0"
      ]
     },
     "execution_count": 4,
     "metadata": {},
     "output_type": "execute_result"
    }
   ],
   "source": [
    "dt_opt.best_estimator_.score(iris_X_test,iris_y_test)"
   ]
  },
  {
   "cell_type": "markdown",
   "id": "bc611a1d",
   "metadata": {},
   "source": [
    "We can also examine the results to think through this choice more clearly."
   ]
  },
  {
   "cell_type": "code",
   "execution_count": 5,
   "id": "80e19ef7",
   "metadata": {},
   "outputs": [
    {
     "data": {
      "text/html": [
       "<div>\n",
       "<style scoped>\n",
       "    .dataframe tbody tr th:only-of-type {\n",
       "        vertical-align: middle;\n",
       "    }\n",
       "\n",
       "    .dataframe tbody tr th {\n",
       "        vertical-align: top;\n",
       "    }\n",
       "\n",
       "    .dataframe thead th {\n",
       "        text-align: right;\n",
       "    }\n",
       "</style>\n",
       "<table border=\"1\" class=\"dataframe\">\n",
       "  <thead>\n",
       "    <tr style=\"text-align: right;\">\n",
       "      <th></th>\n",
       "      <th>mean_fit_time</th>\n",
       "      <th>std_fit_time</th>\n",
       "      <th>mean_score_time</th>\n",
       "      <th>std_score_time</th>\n",
       "      <th>param_C</th>\n",
       "      <th>param_kernel</th>\n",
       "      <th>params</th>\n",
       "      <th>split0_test_score</th>\n",
       "      <th>split1_test_score</th>\n",
       "      <th>split2_test_score</th>\n",
       "      <th>split3_test_score</th>\n",
       "      <th>split4_test_score</th>\n",
       "      <th>split5_test_score</th>\n",
       "      <th>split6_test_score</th>\n",
       "      <th>split7_test_score</th>\n",
       "      <th>split8_test_score</th>\n",
       "      <th>split9_test_score</th>\n",
       "      <th>mean_test_score</th>\n",
       "      <th>std_test_score</th>\n",
       "      <th>rank_test_score</th>\n",
       "    </tr>\n",
       "  </thead>\n",
       "  <tbody>\n",
       "    <tr>\n",
       "      <th>0</th>\n",
       "      <td>0.000585</td>\n",
       "      <td>0.000032</td>\n",
       "      <td>0.000269</td>\n",
       "      <td>0.000016</td>\n",
       "      <td>0.5</td>\n",
       "      <td>linear</td>\n",
       "      <td>{'C': 0.5, 'kernel': 'linear'}</td>\n",
       "      <td>0.916667</td>\n",
       "      <td>1.0</td>\n",
       "      <td>0.916667</td>\n",
       "      <td>0.916667</td>\n",
       "      <td>0.916667</td>\n",
       "      <td>1.0</td>\n",
       "      <td>1.0</td>\n",
       "      <td>0.916667</td>\n",
       "      <td>1.0</td>\n",
       "      <td>1.000000</td>\n",
       "      <td>0.958333</td>\n",
       "      <td>0.041667</td>\n",
       "      <td>4</td>\n",
       "    </tr>\n",
       "    <tr>\n",
       "      <th>1</th>\n",
       "      <td>0.000688</td>\n",
       "      <td>0.000018</td>\n",
       "      <td>0.000287</td>\n",
       "      <td>0.000007</td>\n",
       "      <td>0.5</td>\n",
       "      <td>rbf</td>\n",
       "      <td>{'C': 0.5, 'kernel': 'rbf'}</td>\n",
       "      <td>0.833333</td>\n",
       "      <td>1.0</td>\n",
       "      <td>0.916667</td>\n",
       "      <td>1.000000</td>\n",
       "      <td>0.916667</td>\n",
       "      <td>1.0</td>\n",
       "      <td>1.0</td>\n",
       "      <td>0.916667</td>\n",
       "      <td>1.0</td>\n",
       "      <td>0.916667</td>\n",
       "      <td>0.950000</td>\n",
       "      <td>0.055277</td>\n",
       "      <td>9</td>\n",
       "    </tr>\n",
       "  </tbody>\n",
       "</table>\n",
       "</div>"
      ],
      "text/plain": [
       "   mean_fit_time  std_fit_time  mean_score_time  std_score_time param_C  \\\n",
       "0       0.000585      0.000032         0.000269        0.000016     0.5   \n",
       "1       0.000688      0.000018         0.000287        0.000007     0.5   \n",
       "\n",
       "  param_kernel                          params  split0_test_score  \\\n",
       "0       linear  {'C': 0.5, 'kernel': 'linear'}           0.916667   \n",
       "1          rbf     {'C': 0.5, 'kernel': 'rbf'}           0.833333   \n",
       "\n",
       "   split1_test_score  split2_test_score  split3_test_score  split4_test_score  \\\n",
       "0                1.0           0.916667           0.916667           0.916667   \n",
       "1                1.0           0.916667           1.000000           0.916667   \n",
       "\n",
       "   split5_test_score  split6_test_score  split7_test_score  split8_test_score  \\\n",
       "0                1.0                1.0           0.916667                1.0   \n",
       "1                1.0                1.0           0.916667                1.0   \n",
       "\n",
       "   split9_test_score  mean_test_score  std_test_score  rank_test_score  \n",
       "0           1.000000         0.958333        0.041667                4  \n",
       "1           0.916667         0.950000        0.055277                9  "
      ]
     },
     "execution_count": 5,
     "metadata": {},
     "output_type": "execute_result"
    }
   ],
   "source": [
    "sv_df.head(2)"
   ]
  },
  {
   "cell_type": "markdown",
   "id": "1d15bf68",
   "metadata": {},
   "source": [
    "We can  use EDA to understand how the score varied across all of the parameter settings we tried."
   ]
  },
  {
   "cell_type": "code",
   "execution_count": 6,
   "id": "ae704b34",
   "metadata": {},
   "outputs": [
    {
     "data": {
      "text/plain": [
       "count    14.000000\n",
       "mean      0.955952\n",
       "std       0.009489\n",
       "min       0.941667\n",
       "25%       0.950000\n",
       "50%       0.958333\n",
       "75%       0.958333\n",
       "max       0.975000\n",
       "Name: mean_test_score, dtype: float64"
      ]
     },
     "execution_count": 6,
     "metadata": {},
     "output_type": "execute_result"
    }
   ],
   "source": [
    "sv_df['mean_test_score'].describe()"
   ]
  },
  {
   "cell_type": "code",
   "execution_count": 7,
   "id": "656fa66b",
   "metadata": {},
   "outputs": [
    {
     "data": {
      "text/plain": [
       "count    90.000000\n",
       "mean      0.911759\n",
       "std       0.011442\n",
       "min       0.883333\n",
       "25%       0.908333\n",
       "50%       0.908333\n",
       "75%       0.908333\n",
       "max       0.950000\n",
       "Name: mean_test_score, dtype: float64"
      ]
     },
     "execution_count": 7,
     "metadata": {},
     "output_type": "execute_result"
    }
   ],
   "source": [
    "dt_df['mean_test_score'].describe()"
   ]
  },
  {
   "cell_type": "markdown",
   "id": "02651abe",
   "metadata": {},
   "source": [
    "From this we see that in both cases the standard deviation (std) is really\n",
    "low. This tells us that the parameter changes didn't impact the performance\n",
    "much.  Combined with the overall high accuracy this tells us that the data\n",
    "is probably really easy to classify.  If the performance had been uniformly\n",
    "bad, it might have instead told us that we did not try a wide enough range\n",
    "of parameters.\n",
    "\n",
    "To confirm how many parameter settings we have used we can check a couple different ways. First, above in the count of the describe.\n",
    "\n",
    "We can also calculate directly from the parameter grids before we even do the fit."
   ]
  },
  {
   "cell_type": "code",
   "execution_count": 8,
   "id": "afc4c473",
   "metadata": {},
   "outputs": [],
   "source": [
    "n_combinations = 1\n",
    "for param, vals in param_grid.items():\n",
    "    n_combinations *= len(vals)"
   ]
  },
  {
   "cell_type": "markdown",
   "id": "bedaba19",
   "metadata": {},
   "source": [
    "## When do differences matter?\n",
    "\n",
    "We can check calculate a confidence interval to determine more precisely when the performance of two models is meaningfully different.  \n",
    "\n",
    "\n",
    "This function calculates the 95% confidence interval.  The range within which we are 95% confident the quantity we have estimated is truly within in.  When we have more samples in the test set used to calculate the score, we are more confident in the estimate, so the interval is narrower."
   ]
  },
  {
   "cell_type": "code",
   "execution_count": 9,
   "id": "b796fcfd",
   "metadata": {},
   "outputs": [],
   "source": [
    "def classification_confint(acc, n):\n",
    "    '''\n",
    "    Compute the 95% confidence interval for a classification problem.\n",
    "    acc -- classification accuracy\n",
    "    n  -- number of observations used to compute the accuracy\n",
    "    Returns a tuple (lb,ub)\n",
    "    '''\n",
    "    interval = 1.96*np.sqrt(acc*(1-acc)/n)\n",
    "    lb = max(0, acc - interval)\n",
    "    ub = min(1.0, acc + interval)\n",
    "    return (lb,ub)"
   ]
  },
  {
   "cell_type": "code",
   "execution_count": 10,
   "id": "2ffe44ca",
   "metadata": {},
   "outputs": [
    {
     "data": {
      "text/plain": [
       "(0.975, 0.9499999999999998)"
      ]
     },
     "execution_count": 10,
     "metadata": {},
     "output_type": "execute_result"
    }
   ],
   "source": [
    "svm_opt.best_score_, dt_opt.best_score_"
   ]
  },
  {
   "cell_type": "markdown",
   "id": "f7e5e26d",
   "metadata": {},
   "source": [
    "We can calculate the number of observations used to compute the accuracy using the size of the training data and the fact that we set it to 10-fold cross validation. That means that 10% (100/10) of the data was used for each fold and each validation set."
   ]
  },
  {
   "cell_type": "code",
   "execution_count": 11,
   "id": "f84119b1",
   "metadata": {},
   "outputs": [
    {
     "data": {
      "text/plain": [
       "12.0"
      ]
     },
     "execution_count": 11,
     "metadata": {},
     "output_type": "execute_result"
    }
   ],
   "source": [
    "len(iris_X_train)*.1"
   ]
  },
  {
   "cell_type": "code",
   "execution_count": 12,
   "id": "795460e1",
   "metadata": {},
   "outputs": [
    {
     "data": {
      "text/plain": [
       "(0.7602869057331314, 1.0)"
      ]
     },
     "execution_count": 12,
     "metadata": {},
     "output_type": "execute_result"
    }
   ],
   "source": [
    "split0_score = dt_df['split0_test_score'][dt_opt.best_index_]\n",
    "classification_confint(split0_score ,len(iris_X_train)*.1)"
   ]
  },
  {
   "cell_type": "markdown",
   "id": "5e2560d9",
   "metadata": {},
   "source": [
    "```{admonition} Correction\n",
    "since the best score is cross validated it actually uses the whole training data (by averaging 10 scores together).\n",
    "```"
   ]
  },
  {
   "cell_type": "code",
   "execution_count": 13,
   "id": "71e3b8e0",
   "metadata": {},
   "outputs": [
    {
     "data": {
      "text/plain": [
       "(0.9110047011380429, 0.9889952988619568)"
      ]
     },
     "execution_count": 13,
     "metadata": {},
     "output_type": "execute_result"
    }
   ],
   "source": [
    "classification_confint( dt_opt.best_score_,len(iris_X_train))"
   ]
  },
  {
   "cell_type": "code",
   "execution_count": 14,
   "id": "0634c972",
   "metadata": {},
   "outputs": [
    {
     "data": {
      "text/plain": [
       "30"
      ]
     },
     "execution_count": 14,
     "metadata": {},
     "output_type": "execute_result"
    }
   ],
   "source": [
    "len(iris_y_test)"
   ]
  },
  {
   "cell_type": "code",
   "execution_count": 15,
   "id": "968f51d7",
   "metadata": {},
   "outputs": [
    {
     "data": {
      "text/plain": [
       "(1.0, 1.0)"
      ]
     },
     "execution_count": 15,
     "metadata": {},
     "output_type": "execute_result"
    }
   ],
   "source": [
    "classification_confint(dt_opt.best_estimator_.score(iris_X_test,iris_y_test),len(iris_y_test))"
   ]
  },
  {
   "cell_type": "markdown",
   "id": "01c46568",
   "metadata": {},
   "source": [
    "If we take the exact value we can see how more samples narrows the interval."
   ]
  },
  {
   "cell_type": "code",
   "execution_count": 16,
   "id": "d7585e84",
   "metadata": {},
   "outputs": [
    {
     "data": {
      "text/plain": [
       "(0.8266860375572443, 1.0)"
      ]
     },
     "execution_count": 16,
     "metadata": {},
     "output_type": "execute_result"
    }
   ],
   "source": [
    "classification_confint(.95,12)"
   ]
  },
  {
   "cell_type": "code",
   "execution_count": 17,
   "id": "075205dd",
   "metadata": {},
   "outputs": [
    {
     "data": {
      "text/plain": [
       "(0.8720094022760863, 1.0)"
      ]
     },
     "execution_count": 17,
     "metadata": {},
     "output_type": "execute_result"
    }
   ],
   "source": [
    "classification_confint(.95,30)"
   ]
  },
  {
   "cell_type": "markdown",
   "id": "1846938d",
   "metadata": {},
   "source": [
    "We can further explore this by plotting directly from the calculation out of the function"
   ]
  },
  {
   "cell_type": "code",
   "execution_count": 18,
   "id": "ddf0fed6",
   "metadata": {},
   "outputs": [
    {
     "ename": "SyntaxError",
     "evalue": "invalid syntax (2188489612.py, line 1)",
     "output_type": "error",
     "traceback": [
      "\u001b[0;36m  File \u001b[0;32m\"/tmp/ipykernel_2844/2188489612.py\"\u001b[0;36m, line \u001b[0;32m1\u001b[0m\n\u001b[0;31m    n_list = list(range(5,200)])\u001b[0m\n\u001b[0m                              ^\u001b[0m\n\u001b[0;31mSyntaxError\u001b[0m\u001b[0;31m:\u001b[0m invalid syntax\n"
     ]
    }
   ],
   "source": [
    "n_list = list(range(5,200)])\n",
    "intervals = [1.96*np.sqrt(acc*(1-acc)/n) for n in n_list]\n",
    "plt.plot(n_list, intervals)"
   ]
  },
  {
   "cell_type": "markdown",
   "id": "92e5de19",
   "metadata": {},
   "source": [
    "## Questions After Class\n",
    "\n",
    "### When would I choose to use an svm?\n",
    "```{toggle}\n",
    "SVMs are often very accurate, and while in some cases a decision tree may be considered more interpretable, an SVM is not necessarily too hard to interpret.\n",
    "\n",
    "If accuracy is important, the SVM is often a really good choice.\n",
    "```\n",
    "\n",
    "### How can we tell how many parameter settings we tried?\n",
    "```{toggle}\n",
    "\n",
    "We can calculate it in advance from the parameter grid or the length of the output DataFrame/lists in the dictionary.  \n",
    "```"
   ]
  }
 ],
 "metadata": {
  "jupytext": {
   "text_representation": {
    "extension": ".md",
    "format_name": "myst",
    "format_version": 0.13,
    "jupytext_version": "1.10.3"
   }
  },
  "kernelspec": {
   "display_name": "Python 3",
   "language": "python",
   "name": "python3"
  },
  "language_info": {
   "codemirror_mode": {
    "name": "ipython",
    "version": 3
   },
   "file_extension": ".py",
   "mimetype": "text/x-python",
   "name": "python",
   "nbconvert_exporter": "python",
   "pygments_lexer": "ipython3",
   "version": "3.7.12"
  },
  "source_map": [
   12,
   32,
   76,
   80,
   82,
   86,
   90,
   92,
   95,
   97,
   101,
   105,
   107,
   119,
   123,
   133,
   147,
   149,
   153,
   157,
   160,
   168,
   172,
   176,
   178,
   181,
   185,
   187,
   190,
   194
  ]
 },
 "nbformat": 4,
 "nbformat_minor": 5
}