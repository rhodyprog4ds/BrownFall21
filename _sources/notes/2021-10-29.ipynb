{
 "cells": [
  {
   "cell_type": "markdown",
   "id": "681c4095",
   "metadata": {},
   "source": [
    "# Interpretting Regression"
   ]
  },
  {
   "cell_type": "code",
   "execution_count": 1,
   "id": "de544087",
   "metadata": {},
   "outputs": [],
   "source": [
    "import matplotlib.pyplot as plt\n",
    "import seaborn as sns\n",
    "import numpy as np\n",
    "import pandas as pd\n",
    "import itertools as itr\n",
    "from sklearn import datasets, linear_model\n",
    "from sklearn.metrics import mean_squared_error, r2_score\n",
    "from sklearn.model_selection import cross_val_score\n",
    "from sklearn.model_selection import train_test_split\n",
    "from sklearn.preprocessing import PolynomialFeatures\n",
    "sns.set_theme(font_scale=2,palette='colorblind')"
   ]
  },
  {
   "cell_type": "markdown",
   "id": "37149c6b",
   "metadata": {},
   "source": [
    "we'll return to the same data we used on Monday, first."
   ]
  },
  {
   "cell_type": "code",
   "execution_count": 2,
   "id": "9f1be910",
   "metadata": {},
   "outputs": [],
   "source": [
    "tips = sns.load_dataset(\"tips\").dropna()"
   ]
  },
  {
   "cell_type": "code",
   "execution_count": 3,
   "id": "5b803929",
   "metadata": {},
   "outputs": [
    {
     "data": {
      "text/plain": [
       "(244, 7)"
      ]
     },
     "execution_count": 3,
     "metadata": {},
     "output_type": "execute_result"
    }
   ],
   "source": [
    "tips.shape"
   ]
  },
  {
   "cell_type": "code",
   "execution_count": 4,
   "id": "8ca70bbe",
   "metadata": {},
   "outputs": [
    {
     "data": {
      "text/html": [
       "<div>\n",
       "<style scoped>\n",
       "    .dataframe tbody tr th:only-of-type {\n",
       "        vertical-align: middle;\n",
       "    }\n",
       "\n",
       "    .dataframe tbody tr th {\n",
       "        vertical-align: top;\n",
       "    }\n",
       "\n",
       "    .dataframe thead th {\n",
       "        text-align: right;\n",
       "    }\n",
       "</style>\n",
       "<table border=\"1\" class=\"dataframe\">\n",
       "  <thead>\n",
       "    <tr style=\"text-align: right;\">\n",
       "      <th></th>\n",
       "      <th>total_bill</th>\n",
       "      <th>tip</th>\n",
       "      <th>sex</th>\n",
       "      <th>smoker</th>\n",
       "      <th>day</th>\n",
       "      <th>time</th>\n",
       "      <th>size</th>\n",
       "    </tr>\n",
       "  </thead>\n",
       "  <tbody>\n",
       "    <tr>\n",
       "      <th>0</th>\n",
       "      <td>16.99</td>\n",
       "      <td>1.01</td>\n",
       "      <td>Female</td>\n",
       "      <td>No</td>\n",
       "      <td>Sun</td>\n",
       "      <td>Dinner</td>\n",
       "      <td>2</td>\n",
       "    </tr>\n",
       "    <tr>\n",
       "      <th>1</th>\n",
       "      <td>10.34</td>\n",
       "      <td>1.66</td>\n",
       "      <td>Male</td>\n",
       "      <td>No</td>\n",
       "      <td>Sun</td>\n",
       "      <td>Dinner</td>\n",
       "      <td>3</td>\n",
       "    </tr>\n",
       "    <tr>\n",
       "      <th>2</th>\n",
       "      <td>21.01</td>\n",
       "      <td>3.50</td>\n",
       "      <td>Male</td>\n",
       "      <td>No</td>\n",
       "      <td>Sun</td>\n",
       "      <td>Dinner</td>\n",
       "      <td>3</td>\n",
       "    </tr>\n",
       "    <tr>\n",
       "      <th>3</th>\n",
       "      <td>23.68</td>\n",
       "      <td>3.31</td>\n",
       "      <td>Male</td>\n",
       "      <td>No</td>\n",
       "      <td>Sun</td>\n",
       "      <td>Dinner</td>\n",
       "      <td>2</td>\n",
       "    </tr>\n",
       "    <tr>\n",
       "      <th>4</th>\n",
       "      <td>24.59</td>\n",
       "      <td>3.61</td>\n",
       "      <td>Female</td>\n",
       "      <td>No</td>\n",
       "      <td>Sun</td>\n",
       "      <td>Dinner</td>\n",
       "      <td>4</td>\n",
       "    </tr>\n",
       "  </tbody>\n",
       "</table>\n",
       "</div>"
      ],
      "text/plain": [
       "   total_bill   tip     sex smoker  day    time  size\n",
       "0       16.99  1.01  Female     No  Sun  Dinner     2\n",
       "1       10.34  1.66    Male     No  Sun  Dinner     3\n",
       "2       21.01  3.50    Male     No  Sun  Dinner     3\n",
       "3       23.68  3.31    Male     No  Sun  Dinner     2\n",
       "4       24.59  3.61  Female     No  Sun  Dinner     4"
      ]
     },
     "execution_count": 4,
     "metadata": {},
     "output_type": "execute_result"
    }
   ],
   "source": [
    "tips.head()"
   ]
  },
  {
   "cell_type": "markdown",
   "id": "240698d8",
   "metadata": {},
   "source": [
    "Again, we'll prepare the data."
   ]
  },
  {
   "cell_type": "code",
   "execution_count": 5,
   "id": "25ed3816",
   "metadata": {},
   "outputs": [],
   "source": [
    "# sklearn requires 2D object of features even for 1 feature\n",
    "tips_X = tips['total_bill'].values\n",
    "tips_X = tips_X[:,np.newaxis] # add an axis\n",
    "tips_y = tips['tip']\n",
    "\n",
    "tips_X_train,tips_X_test, tips_y_train, tips_y_test = train_test_split(\n",
    "                     tips_X,\n",
    "                     tips_y,\n",
    "                     train_size=.8,\n",
    "                     random_state=0)"
   ]
  },
  {
   "cell_type": "markdown",
   "id": "6f59e22c",
   "metadata": {},
   "source": [
    "Next, we'll fit the model"
   ]
  },
  {
   "cell_type": "code",
   "execution_count": 6,
   "id": "a7b2f0ab",
   "metadata": {},
   "outputs": [
    {
     "data": {
      "text/plain": [
       "0.5906895098589039"
      ]
     },
     "execution_count": 6,
     "metadata": {},
     "output_type": "execute_result"
    }
   ],
   "source": [
    "regr_tips = linear_model.LinearRegression()\n",
    "regr_tips.fit(tips_X_train,tips_y_train)\n",
    "regr_tips.score(tips_X_test,tips_y_test)"
   ]
  },
  {
   "cell_type": "markdown",
   "id": "509ea44e",
   "metadata": {},
   "source": [
    "This doesn't perform all that well, but let's investigate it further.\n",
    "We'll start by looking at the residuals"
   ]
  },
  {
   "cell_type": "code",
   "execution_count": 7,
   "id": "f60fb5b5",
   "metadata": {},
   "outputs": [],
   "source": [
    "tips_y_pred = regr_tips.predict(tips_X_test)"
   ]
  },
  {
   "cell_type": "markdown",
   "id": "84e0ebc4",
   "metadata": {},
   "source": [
    "## Examining Residuals\n",
    "\n",
    "The error, the difference between the predictions and the truth is called the\n",
    "residual."
   ]
  },
  {
   "cell_type": "code",
   "execution_count": 8,
   "id": "31cf046a",
   "metadata": {},
   "outputs": [
    {
     "data": {
      "text/plain": [
       "64     0.092195\n",
       "63    -0.960007\n",
       "55    -0.593783\n",
       "111    0.730731\n",
       "225    0.104349\n",
       "92     0.585451\n",
       "76    -0.315843\n",
       "181   -2.361866\n",
       "188   -0.713567\n",
       "180    0.704514\n",
       "73    -1.523002\n",
       "107   -0.819782\n",
       "150   -0.108729\n",
       "198    0.287638\n",
       "224    0.748317\n",
       "44    -1.627113\n",
       "145    0.337270\n",
       "110   -0.615508\n",
       "243   -0.152549\n",
       "189   -0.734142\n",
       "210    1.939957\n",
       "104   -1.025283\n",
       "138    0.578198\n",
       "8      0.525219\n",
       "199    0.337033\n",
       "203    0.116940\n",
       "220    0.006281\n",
       "125   -0.285225\n",
       "5     -1.232034\n",
       "22     0.325922\n",
       "74     0.255195\n",
       "124   -0.282726\n",
       "12     0.952023\n",
       "168    0.444221\n",
       "45    -0.200007\n",
       "158   -0.284589\n",
       "37    -0.401728\n",
       "136    0.029040\n",
       "212   -3.290531\n",
       "223   -0.423739\n",
       "222   -0.060454\n",
       "118    0.432432\n",
       "231   -0.451826\n",
       "155   -1.220382\n",
       "209    0.034393\n",
       "18    -0.827854\n",
       "108   -0.964850\n",
       "15    -0.801360\n",
       "71    -0.318168\n",
       "Name: tip, dtype: float64"
      ]
     },
     "execution_count": 8,
     "metadata": {},
     "output_type": "execute_result"
    }
   ],
   "source": [
    "tips_y_pred - tips_y_test"
   ]
  },
  {
   "cell_type": "markdown",
   "id": "fef770e3",
   "metadata": {},
   "source": [
    "To examine these, we can plot them on the data:"
   ]
  },
  {
   "cell_type": "code",
   "execution_count": 9,
   "id": "a3f21859",
   "metadata": {},
   "outputs": [
    {
     "data": {
      "image/png": "[encoded data removed]",
      "text/plain": [
       "<Figure size 432x288 with 1 Axes>"
      ]
     },
     "metadata": {
      "filenames": {
       "image/png": "/home/runner/work/BrownFall21/BrownFall21/_build/jupyter_execute/notes/2021-10-29_15_0.png"
      },
      "needs_background": "light"
     },
     "output_type": "display_data"
    }
   ],
   "source": [
    "plt.scatter(tips_X_test,tips_y_test, color='black')\n",
    "plt.scatter(tips_X_test,tips_y_pred, color='blue')\n",
    "\n",
    "[plt.plot([x,x],[yp,yt], color='red', linewidth=3)\n",
    "         for x, yp, yt in zip(tips_X_test, tips_y_pred,tips_y_test)];"
   ]
  },
  {
   "cell_type": "markdown",
   "id": "ef5ad878",
   "metadata": {},
   "source": [
    "We can plot them as a scatter plot as well."
   ]
  },
  {
   "cell_type": "code",
   "execution_count": 10,
   "id": "97b11215",
   "metadata": {},
   "outputs": [
    {
     "data": {
      "text/plain": [
       "<matplotlib.collections.PathCollection at 0x7f9decef8fd0>"
      ]
     },
     "execution_count": 10,
     "metadata": {},
     "output_type": "execute_result"
    },
    {
     "data": {
      "image/png": "[encoded data removed]",
      "text/plain": [
       "<Figure size 432x288 with 1 Axes>"
      ]
     },
     "metadata": {
      "filenames": {
       "image/png": "/home/runner/work/BrownFall21/BrownFall21/_build/jupyter_execute/notes/2021-10-29_17_1.png"
      },
      "needs_background": "light"
     },
     "output_type": "display_data"
    }
   ],
   "source": [
    "tips_residuals = tips_y_pred - tips_y_test\n",
    "plt.scatter(tips_X_test,tips_residuals, color='red')"
   ]
  },
  {
   "cell_type": "markdown",
   "id": "b081a414",
   "metadata": {},
   "source": [
    "One thing we notice is that the residuals are smaller for some values of the\n",
    "`total_bill`  and larger for others. This suggests that there is more\n",
    "information left.\n",
    "A good fit, would have residuals that are evenly distributed, not correlated\n",
    "with the feature(s) in this case, the total bill.\n",
    "\n",
    "\n",
    "## Polynomial regression\n",
    "\n",
    "Polynomial regression is still a linear problem.  Linear regression solves for\n",
    "the $\\beta_i$ for a $d$ dimensional problem.\n",
    "\n",
    "$$ y = \\beta_0 + \\beta_1 x_1 + \\ldots + \\beta_d x_d = \\sum_i^d \\beta_i x_i$$\n",
    "\n",
    "Quadratic regression solves for\n",
    "\n",
    "$$ y = \\beta_0 + \\sum_i^d \\beta_i x_i$ + \\sum_j^d \\sum_i^d \\beta_{d+i} x_i x_j + \\sum_i^d x_i^2$ $$\n",
    "\n",
    "This is still a linear problem, we can create a new $X$ matrix that has the\n",
    "polynomial values of each feature  and solve for more $\\beta$ values.\n",
    "\n",
    "We use a transformer object, which works similarly to the estimators, but does\n",
    "not use targets.\n",
    "First, we instantiate."
   ]
  },
  {
   "cell_type": "code",
   "execution_count": 11,
   "id": "7123a4c1",
   "metadata": {},
   "outputs": [],
   "source": [
    "poly = PolynomialFeatures(include_bias=False)"
   ]
  },
  {
   "cell_type": "markdown",
   "id": "e7a77e27",
   "metadata": {},
   "source": [
    "Then we apply it"
   ]
  },
  {
   "cell_type": "code",
   "execution_count": 12,
   "id": "6c1fc1e4",
   "metadata": {},
   "outputs": [],
   "source": [
    "tips_X2_train = poly.fit_transform(tips_X_train)\n",
    "tips_X2_test = poly.fit_transform(tips_X_test)"
   ]
  },
  {
   "cell_type": "markdown",
   "id": "86865d85",
   "metadata": {},
   "source": [
    "We can see wht it did by looking at the shape."
   ]
  },
  {
   "cell_type": "code",
   "execution_count": 13,
   "id": "b0c82981",
   "metadata": {},
   "outputs": [
    {
     "data": {
      "text/plain": [
       "((195, 1), (195, 2))"
      ]
     },
     "execution_count": 13,
     "metadata": {},
     "output_type": "execute_result"
    }
   ],
   "source": [
    "tips_X_train.shape, tips_X2_train.shape"
   ]
  },
  {
   "cell_type": "code",
   "execution_count": 14,
   "id": "0fd6c6ba",
   "metadata": {},
   "outputs": [
    {
     "data": {
      "text/plain": [
       "array([ 722.5344, 1067.9824,  320.0521,  419.8401, 2320.3489])"
      ]
     },
     "execution_count": 14,
     "metadata": {},
     "output_type": "execute_result"
    }
   ],
   "source": [
    "tips_X2_train[:5,1]"
   ]
  },
  {
   "cell_type": "code",
   "execution_count": 15,
   "id": "7c6d22ca",
   "metadata": {},
   "outputs": [
    {
     "data": {
      "text/plain": [
       "array([[26.88],\n",
       "       [32.68],\n",
       "       [17.89],\n",
       "       [20.49],\n",
       "       [48.17]])"
      ]
     },
     "execution_count": 15,
     "metadata": {},
     "output_type": "execute_result"
    }
   ],
   "source": [
    "tips_X_train[:5]"
   ]
  },
  {
   "cell_type": "code",
   "execution_count": 16,
   "id": "e42fcb71",
   "metadata": {},
   "outputs": [
    {
     "data": {
      "text/plain": [
       "array([26.88, 32.68, 17.89, 20.49, 48.17])"
      ]
     },
     "execution_count": 16,
     "metadata": {},
     "output_type": "execute_result"
    }
   ],
   "source": [
    "tips_X2_train[:5,0]"
   ]
  },
  {
   "cell_type": "markdown",
   "id": "e81cd06f",
   "metadata": {},
   "source": [
    "Now, we can fit a linear model on this data, which learns a weight for the data\n",
    "and it's squared value."
   ]
  },
  {
   "cell_type": "code",
   "execution_count": 17,
   "id": "40cf4c2f",
   "metadata": {},
   "outputs": [],
   "source": [
    "regr2_tips = linear_model.LinearRegression()\n",
    "regr2_tips.fit(tips_X2_train,tips_y_train)\n",
    "tips2_y_pred = regr2_tips.predict(tips_X2_test)"
   ]
  },
  {
   "cell_type": "markdown",
   "id": "2749cf64",
   "metadata": {},
   "source": [
    "Then we can plot it."
   ]
  },
  {
   "cell_type": "code",
   "execution_count": 18,
   "id": "1c644c5b",
   "metadata": {},
   "outputs": [
    {
     "data": {
      "text/plain": [
       "<matplotlib.collections.PathCollection at 0x7f9deae69d00>"
      ]
     },
     "execution_count": 18,
     "metadata": {},
     "output_type": "execute_result"
    },
    {
     "data": {
      "image/png": "[encoded data removed]",
      "text/plain": [
       "<Figure size 432x288 with 1 Axes>"
      ]
     },
     "metadata": {
      "filenames": {
       "image/png": "/home/runner/work/BrownFall21/BrownFall21/_build/jupyter_execute/notes/2021-10-29_30_1.png"
      },
      "needs_background": "light"
     },
     "output_type": "display_data"
    }
   ],
   "source": [
    "plt.scatter(tips_X_test,tips_y_test, color='black')\n",
    "plt.scatter(tips_X_test,tips_y_pred, color='blue')\n",
    "plt.scatter(tips_X_test,tips2_y_pred, color='green')"
   ]
  },
  {
   "cell_type": "markdown",
   "id": "9f24cc03",
   "metadata": {},
   "source": [
    "We can see that this its somewhat better, the residuals are more uniformly\n",
    "distributed, but it doesn't look very nonlinear.  \n",
    "We will examine this further in the next step, but first we will drop the linear column to see the quadratic more clearly."
   ]
  },
  {
   "cell_type": "code",
   "execution_count": 19,
   "id": "44865b65",
   "metadata": {},
   "outputs": [],
   "source": [
    "poly = PolynomialFeatures()\n",
    "\n",
    "tips_Xq_train = poly.fit_transform(tips_X_train)[:,::2]\n",
    "tips_Xq_test = poly.fit_transform(tips_X_test)[:,::2]\n",
    "\n",
    "regr_qu_tips = linear_model.LinearRegression(fit_intercept=False)\n",
    "regr_qu_tips.fit(tips_Xq_train,tips_y_train)\n",
    "tips2_q_pred = regr_qu_tips.predict(tips_Xq_test)"
   ]
  },
  {
   "cell_type": "code",
   "execution_count": 20,
   "id": "02cac0c8",
   "metadata": {},
   "outputs": [
    {
     "data": {
      "text/plain": [
       "<matplotlib.collections.PathCollection at 0x7f9deae4b850>"
      ]
     },
     "execution_count": 20,
     "metadata": {},
     "output_type": "execute_result"
    },
    {
     "data": {
      "image/png": "[encoded data removed]",
      "text/plain": [
       "<Figure size 432x288 with 1 Axes>"
      ]
     },
     "metadata": {
      "filenames": {
       "image/png": "/home/runner/work/BrownFall21/BrownFall21/_build/jupyter_execute/notes/2021-10-29_33_1.png"
      },
      "needs_background": "light"
     },
     "output_type": "display_data"
    }
   ],
   "source": [
    "plt.scatter(tips_X_test,tips_y_test, color='black')\n",
    "plt.scatter(tips_X_test,tips2_q_pred, color='green')"
   ]
  },
  {
   "cell_type": "markdown",
   "id": "4ab28436",
   "metadata": {},
   "source": [
    "```{admonition} Try it Yourself\n",
    "How would you make it cubic? what about 4th dimension?\n",
    "```\n",
    "\n",
    "## Examining Coefficients\n",
    "\n",
    "\n",
    "Now we can compare the coefficients.\n",
    "We saw above that the quadratic didn't help much, so let's look at those."
   ]
  },
  {
   "cell_type": "code",
   "execution_count": 21,
   "id": "4a6cf958",
   "metadata": {},
   "outputs": [
    {
     "data": {
      "text/plain": [
       "array([ 9.70620903e-02, -4.18198822e-06])"
      ]
     },
     "execution_count": 21,
     "metadata": {},
     "output_type": "execute_result"
    }
   ],
   "source": [
    "regr2_tips.coef_"
   ]
  },
  {
   "cell_type": "markdown",
   "id": "0ea5acc3",
   "metadata": {},
   "source": [
    "The second parameter is very very small, so that explains why it didn't change\n",
    "the fit much. We can use the features to figure out how important each\n",
    "feature is to the prediction. Large numbers strongly influence the prediction\n",
    "smaller ones influence it less."
   ]
  },
  {
   "cell_type": "code",
   "execution_count": 22,
   "id": "d20a75d9",
   "metadata": {},
   "outputs": [
    {
     "data": {
      "text/plain": [
       "array([0.0968534])"
      ]
     },
     "execution_count": 22,
     "metadata": {},
     "output_type": "execute_result"
    }
   ],
   "source": [
    "regr_tips.coef_"
   ]
  },
  {
   "cell_type": "markdown",
   "id": "e719486c",
   "metadata": {},
   "source": [
    "<!-- ## Multiple variables\n",
    "\n",
    "\n",
    "```{admonition} Thinking Ahead\n",
    "If this is not fully clear, it's okay.\n",
    "Using multiple variables or nonlinear regression is an extension you can use for\n",
    "your portfolio to earn level 3.  \n",
    "\n",
    "```\n",
    "We can also transform the other features to numerical features and then use that larger feature vector.\n",
    "\n",
    "This binarizes the varialbes.\n",
    "```{code-cell} ipython3\n",
    "bin_cols = ['total_bill','sex','smoker','time']\n",
    "tips_bin = tips[bin_cols].replace({'Female':1,'Male':0,\n",
    "                                   'No':0,'Yes':1,\n",
    "                                  'Dinner':1,'Lunch':0})\n",
    "tips_bin.shape\n",
    "```\n",
    "This gets dummies for the other variables and concats this\n",
    "\n",
    "```{code-cell} ipython3\n",
    "\n",
    "tips_onehot = pd.concat([tips['total_bill'],\n",
    "                         pd.get_dummies(tips['day']),\n",
    "                        pd.get_dummies(tips['time'])],axis=1)\n",
    "\n",
    "tips_onehot.head()\n",
    "```\n",
    "\n",
    "```{code-cell} ipython3\n",
    "tips_onehot\n",
    "```\n",
    "\n",
    "```{code-cell} ipython3\n",
    "col_names = (list(tips_onehot.columns) +\n",
    "[a+'_'+b + '_' +c +'_'+d for a,b,c,d in itr.combinations(tips_onehot.columns,4)])\n",
    "```\n",
    "\n",
    "```{code-cell} ipython3\n",
    "col_names[11:90]\n",
    "```\n",
    "\n",
    "```{code-cell} ipython3\n",
    "sns.lmplot(data=tips,x='total_bill',y='tip',\n",
    "          col='sex',row='smoker',hue='time')\n",
    "```\n",
    "\n",
    "```{code-cell} ipython3\n",
    "interaction = PolynomialFeatures(interaction_only=True,\n",
    "                                include_bias=False)\n",
    "tips_interaction = interaction.fit_transform(tips_onehot,)\n",
    "tips_all_X_train,tips_all_X_test, tips_all_y_train, tips_all_y_test = train_test_split(\n",
    "                     tips_interaction,\n",
    "                     tips_y,\n",
    "                     train_size=.8,\n",
    "                     random_state=0)\n",
    "```\n",
    "\n",
    "```{code-cell} ipython3\n",
    "tips_all_X_train.shape\n",
    "```\n",
    "\n",
    "```{code-cell} ipython3\n",
    "tips_all_X_train\n",
    "```\n",
    "\n",
    "```{code-cell} ipython3\n",
    "regr_all_tips = linear_model.LinearRegression()\n",
    "regr_all_tips.fit(tips_all_X_train,tips_all_y_train)\n",
    "tips_all_y_pred = regr_all_tips.predict(tips_all_X_test,)\n",
    "regr_all_tips.score(tips_all_X_test,tips_all_y_test)\n",
    "```\n",
    "\n",
    "```{code-cell} ipython3\n",
    "plt.scatter(tips_X_test,tips_y_test, color='black')\n",
    "plt.scatter(tips_X_test,tips_y_pred, color='blue')\n",
    "plt.scatter(tips_X_test,tips_all_y_pred, color='green')\n",
    "```\n",
    "\n",
    "```{code-cell} ipython3\n",
    "regr_all_tips.coef_\n",
    "``` -->\n",
    "\n",
    "## Sparse Regression\n",
    "\n",
    "An extreme is for some coefficients to be zero.\n",
    "The LASSO model, constrains some of the coefficients to be 0, so it learns\n",
    "simultanesouly how to combine the features to predict the target and which\n",
    "subset of the features to use.\n",
    "\n",
    "```{admonition} Further Reading\n",
    "For the mathermatical formulation see the sklearn [User Guide Section on LASSO](https://scikit-learn.org/stable/modules/linear_model.html#lasso)\n",
    "and the code in [LASSO docs](https://scikit-learn.org/stable/modules/generated/sklearn.linear_model.Lasso.html)\n",
    "```\n",
    "\n",
    "```{admonition} Thinking Ahead\n",
    "LASSO is not required for assignment 8, but is one way you could earn level 3.\n",
    "Here is a preview, but you can investigate it further on your own.\n",
    "```"
   ]
  },
  {
   "cell_type": "code",
   "execution_count": 23,
   "id": "1373e689",
   "metadata": {},
   "outputs": [
    {
     "ename": "NameError",
     "evalue": "name 'tips_all_X_train' is not defined",
     "output_type": "error",
     "traceback": [
      "\u001b[0;31m---------------------------------------------------------------------------\u001b[0m",
      "\u001b[0;31mNameError\u001b[0m                                 Traceback (most recent call last)",
      "Input \u001b[0;32mIn [23]\u001b[0m, in \u001b[0;36m<cell line: 2>\u001b[0;34m()\u001b[0m\n\u001b[1;32m      1\u001b[0m tips_lasso \u001b[38;5;241m=\u001b[39m linear_model\u001b[38;5;241m.\u001b[39mLasso(alpha\u001b[38;5;241m=\u001b[39m\u001b[38;5;241m.0025\u001b[39m)\n\u001b[0;32m----> 2\u001b[0m tips_lasso\u001b[38;5;241m.\u001b[39mfit(\u001b[43mtips_all_X_train\u001b[49m,tips_all_y_train)\n\u001b[1;32m      3\u001b[0m tips_lasso_y_pred \u001b[38;5;241m=\u001b[39m tips_lasso\u001b[38;5;241m.\u001b[39mpredict(tips_all_X_test,)\n\u001b[1;32m      4\u001b[0m tips_lasso\u001b[38;5;241m.\u001b[39mscore(tips_all_X_test,tips_all_y_test)\n",
      "\u001b[0;31mNameError\u001b[0m: name 'tips_all_X_train' is not defined"
     ]
    }
   ],
   "source": [
    "tips_lasso = linear_model.Lasso(alpha=.0025)\n",
    "tips_lasso.fit(tips_all_X_train,tips_all_y_train)\n",
    "tips_lasso_y_pred = tips_lasso.predict(tips_all_X_test,)\n",
    "tips_lasso.score(tips_all_X_test,tips_all_y_test)"
   ]
  },
  {
   "cell_type": "code",
   "execution_count": 24,
   "id": "ba20fa58",
   "metadata": {},
   "outputs": [
    {
     "ename": "NameError",
     "evalue": "name 'tips_lasso_y_pred' is not defined",
     "output_type": "error",
     "traceback": [
      "\u001b[0;31m---------------------------------------------------------------------------\u001b[0m",
      "\u001b[0;31mNameError\u001b[0m                                 Traceback (most recent call last)",
      "Input \u001b[0;32mIn [24]\u001b[0m, in \u001b[0;36m<cell line: 3>\u001b[0;34m()\u001b[0m\n\u001b[1;32m      1\u001b[0m plt\u001b[38;5;241m.\u001b[39mscatter(tips_X_test,tips_y_test, color\u001b[38;5;241m=\u001b[39m\u001b[38;5;124m'\u001b[39m\u001b[38;5;124mblack\u001b[39m\u001b[38;5;124m'\u001b[39m)\n\u001b[1;32m      2\u001b[0m plt\u001b[38;5;241m.\u001b[39mscatter(tips_X_test,tips_y_pred, color\u001b[38;5;241m=\u001b[39m\u001b[38;5;124m'\u001b[39m\u001b[38;5;124mblue\u001b[39m\u001b[38;5;124m'\u001b[39m)\n\u001b[0;32m----> 3\u001b[0m plt\u001b[38;5;241m.\u001b[39mscatter(tips_X_test,\u001b[43mtips_lasso_y_pred\u001b[49m, color\u001b[38;5;241m=\u001b[39m\u001b[38;5;124m'\u001b[39m\u001b[38;5;124mgreen\u001b[39m\u001b[38;5;124m'\u001b[39m)\n",
      "\u001b[0;31mNameError\u001b[0m: name 'tips_lasso_y_pred' is not defined"
     ]
    },
    {
     "data": {
      "image/png": "[encoded data removed]",
      "text/plain": [
       "<Figure size 432x288 with 1 Axes>"
      ]
     },
     "metadata": {
      "filenames": {
       "image/png": "/home/runner/work/BrownFall21/BrownFall21/_build/jupyter_execute/notes/2021-10-29_40_1.png"
      },
      "needs_background": "light"
     },
     "output_type": "display_data"
    }
   ],
   "source": [
    "plt.scatter(tips_X_test,tips_y_test, color='black')\n",
    "plt.scatter(tips_X_test,tips_y_pred, color='blue')\n",
    "plt.scatter(tips_X_test,tips_lasso_y_pred, color='green')"
   ]
  },
  {
   "cell_type": "code",
   "execution_count": 25,
   "id": "02bee2a1",
   "metadata": {},
   "outputs": [
    {
     "ename": "AttributeError",
     "evalue": "'Lasso' object has no attribute 'coef_'",
     "output_type": "error",
     "traceback": [
      "\u001b[0;31m---------------------------------------------------------------------------\u001b[0m",
      "\u001b[0;31mAttributeError\u001b[0m                            Traceback (most recent call last)",
      "Input \u001b[0;32mIn [25]\u001b[0m, in \u001b[0;36m<cell line: 1>\u001b[0;34m()\u001b[0m\n\u001b[0;32m----> 1\u001b[0m \u001b[38;5;28msum\u001b[39m(\u001b[43mtips_lasso\u001b[49m\u001b[38;5;241;43m.\u001b[39;49m\u001b[43mcoef_\u001b[49m \u001b[38;5;241m==\u001b[39m\u001b[38;5;241m0\u001b[39m)\u001b[38;5;241m/\u001b[39m\u001b[38;5;28mlen\u001b[39m(tips_lasso\u001b[38;5;241m.\u001b[39mcoef_)\n",
      "\u001b[0;31mAttributeError\u001b[0m: 'Lasso' object has no attribute 'coef_'"
     ]
    }
   ],
   "source": [
    "sum(tips_lasso.coef_ ==0)/len(tips_lasso.coef_)"
   ]
  },
  {
   "cell_type": "code",
   "execution_count": 26,
   "id": "83f8b019",
   "metadata": {},
   "outputs": [
    {
     "ename": "NameError",
     "evalue": "name 'tips_onehot' is not defined",
     "output_type": "error",
     "traceback": [
      "\u001b[0;31m---------------------------------------------------------------------------\u001b[0m",
      "\u001b[0;31mNameError\u001b[0m                                 Traceback (most recent call last)",
      "Input \u001b[0;32mIn [26]\u001b[0m, in \u001b[0;36m<cell line: 1>\u001b[0;34m()\u001b[0m\n\u001b[0;32m----> 1\u001b[0m \u001b[43mtips_onehot\u001b[49m\u001b[38;5;241m.\u001b[39mshape, tips_interacion\u001b[38;5;241m.\u001b[39mshape\n",
      "\u001b[0;31mNameError\u001b[0m: name 'tips_onehot' is not defined"
     ]
    }
   ],
   "source": [
    "tips_onehot.shape, tips_interacion.shape"
   ]
  },
  {
   "cell_type": "markdown",
   "id": "1d79fdcd",
   "metadata": {},
   "source": [
    "The transform changed our data from 10 columns to 55."
   ]
  },
  {
   "cell_type": "code",
   "execution_count": 27,
   "id": "c406a665",
   "metadata": {},
   "outputs": [
    {
     "ename": "NameError",
     "evalue": "name 'tips_interacion' is not defined",
     "output_type": "error",
     "traceback": [
      "\u001b[0;31m---------------------------------------------------------------------------\u001b[0m",
      "\u001b[0;31mNameError\u001b[0m                                 Traceback (most recent call last)",
      "Input \u001b[0;32mIn [27]\u001b[0m, in \u001b[0;36m<cell line: 1>\u001b[0;34m()\u001b[0m\n\u001b[0;32m----> 1\u001b[0m \u001b[43mtips_interacion\u001b[49m\u001b[38;5;241m.\u001b[39mhead\n",
      "\u001b[0;31mNameError\u001b[0m: name 'tips_interacion' is not defined"
     ]
    }
   ],
   "source": [
    "tips_interacion.head"
   ]
  },
  {
   "cell_type": "markdown",
   "id": "5f0648e3",
   "metadata": {},
   "source": [
    "<!-- work through dummies\n",
    "\n",
    "+++\n",
    "\n",
    "show lasso\n",
    "\n",
    "```{code-cell} ipython3\n",
    "\n",
    "``` -->\n",
    "\n",
    "## Questions After Class\n",
    "\n",
    "\n",
    "### When do we do regression?\n",
    "```{toggle}\n",
    "we do regresion, when we want to predict a continuous value\n",
    "```\n",
    "\n",
    "\n",
    "### What should I look for in datasets to know whether a linear model or non-linear model is best?\n",
    "```{toggle}\n",
    "If you know a reason to choose one from domain knowledge, always use that. From\n",
    "data alone, a reasonable thing to do is to fit a linear model and then examine\n",
    "the residuals and use a more complex model if that makes sense.\n",
    "```\n",
    "\n",
    "### How can we tell if a dataset is going to be useful through tweaking or is just not worth it?\n",
    "```{toggle}\n",
    "This is a **very** good question, but does not have a simple answer. In some\n",
    "cases, a moderate fit quality is enough, because there's low risk of making\n",
    "errors.  In other cases, a really high quality fit is required because of the\n",
    "risk.\n",
    "```"
   ]
  }
 ],
 "metadata": {
  "jupytext": {
   "text_representation": {
    "extension": ".md",
    "format_name": "myst",
    "format_version": 0.13,
    "jupytext_version": "1.10.3"
   }
  },
  "kernelspec": {
   "display_name": "Python 3",
   "language": "python",
   "name": "python3"
  },
  "language_info": {
   "codemirror_mode": {
    "name": "ipython",
    "version": 3
   },
   "file_extension": ".py",
   "mimetype": "text/x-python",
   "name": "python",
   "nbconvert_exporter": "python",
   "pygments_lexer": "ipython3",
   "version": "3.8.13"
  },
  "source_map": [
   12,
   15,
   27,
   30,
   34,
   38,
   40,
   44,
   56,
   60,
   64,
   70,
   72,
   78,
   80,
   83,
   89,
   92,
   96,
   123,
   125,
   128,
   131,
   135,
   139,
   143,
   147,
   149,
   154,
   158,
   161,
   165,
   171,
   183,
   186,
   198,
   200,
   206,
   208,
   311,
   318,
   324,
   328,
   330,
   334,
   336
  ]
 },
 "nbformat": 4,
 "nbformat_minor": 5
}