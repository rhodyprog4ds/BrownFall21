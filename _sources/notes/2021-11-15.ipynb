{
 "cells": [
  {
   "cell_type": "markdown",
   "id": "663e185c",
   "metadata": {},
   "source": [
    "# Model Comparison"
   ]
  },
  {
   "cell_type": "markdown",
   "id": "191c9582",
   "metadata": {},
   "source": [
    "To compare models, we will first optimize the parameters of two diffrent models and look at how the different parameters settings impact the model comparison.  Later, we'll see how to compare across models of different classes."
   ]
  },
  {
   "cell_type": "code",
   "execution_count": 1,
   "id": "d6eb5685",
   "metadata": {},
   "outputs": [],
   "source": [
    "import matplotlib.pyplot as plt\n",
    "import numpy as np\n",
    "import seaborn as sns\n",
    "import pandas as pd\n",
    "from sklearn import datasets\n",
    "from sklearn import cluster\n",
    "from sklearn import svm\n",
    "from sklearn import tree\n",
    "# import the whole model selection module\n",
    "from sklearn import model_selection\n",
    "sns.set_theme(palette='colorblind')"
   ]
  },
  {
   "cell_type": "markdown",
   "id": "bb96afe7",
   "metadata": {},
   "source": [
    "We'll use the iris data again."
   ]
  },
  {
   "cell_type": "code",
   "execution_count": 2,
   "id": "01e13cbd",
   "metadata": {},
   "outputs": [],
   "source": [
    "iris_X, iris_y = datasets.load_iris(return_X_y=True)"
   ]
  },
  {
   "cell_type": "markdown",
   "id": "057c673f",
   "metadata": {},
   "source": [
    "Remember, we need to split the data into training and test.  The cross validation step will hep us optimize the parameters, but we don't want *data leakage* where the model has seen the test data multiple times. So, we split the data here for train and test annd the cross validation splits the training data into train and \"test\" again, but this test is better termed validation."
   ]
  },
  {
   "cell_type": "code",
   "execution_count": 3,
   "id": "f7521e87",
   "metadata": {},
   "outputs": [],
   "source": [
    "iris_X_train, iris_X_test, iris_y_train, iris_y_test = model_selection.train_test_split(\n",
    "    iris_X,iris_y, test_size =.2)"
   ]
  },
  {
   "cell_type": "markdown",
   "id": "6aca46a6",
   "metadata": {},
   "source": [
    "Then we can make the object, the parameter grid dictionary and the Grid Search object.  We split these into separate cells, so that we can use the built in help to see more detail."
   ]
  },
  {
   "cell_type": "code",
   "execution_count": 4,
   "id": "5626eb12",
   "metadata": {},
   "outputs": [],
   "source": [
    "dt = tree.DecisionTreeClassifier()"
   ]
  },
  {
   "cell_type": "code",
   "execution_count": 5,
   "id": "58a0c295",
   "metadata": {},
   "outputs": [],
   "source": [
    "params_dt = {'criterion':['gini','entropy'],\n",
    "             'max_depth':[2,3,4],\n",
    "       'min_samples_leaf':list(range(2,20,2))}"
   ]
  },
  {
   "cell_type": "code",
   "execution_count": 6,
   "id": "e573548c",
   "metadata": {},
   "outputs": [],
   "source": [
    "dt_opt = model_selection.GridSearchCV(dt,params_dt)"
   ]
  },
  {
   "cell_type": "markdown",
   "id": "a51ce537",
   "metadata": {},
   "source": [
    "Then we fit the Grid search using the training data, and remember this actually resets the parameters and then cross validates multiple times."
   ]
  },
  {
   "cell_type": "code",
   "execution_count": 7,
   "id": "b8d3c5d7",
   "metadata": {},
   "outputs": [
    {
     "data": {
      "text/plain": [
       "GridSearchCV(estimator=DecisionTreeClassifier(),\n",
       "             param_grid={'criterion': ['gini', 'entropy'],\n",
       "                         'max_depth': [2, 3, 4],\n",
       "                         'min_samples_leaf': [2, 4, 6, 8, 10, 12, 14, 16, 18]})"
      ]
     },
     "execution_count": 7,
     "metadata": {},
     "output_type": "execute_result"
    }
   ],
   "source": [
    "dt_opt.fit(iris_X_train,iris_y_train)"
   ]
  },
  {
   "cell_type": "markdown",
   "id": "658ee302",
   "metadata": {},
   "source": [
    "adn look at the results"
   ]
  },
  {
   "cell_type": "code",
   "execution_count": 8,
   "id": "53436ec0",
   "metadata": {},
   "outputs": [
    {
     "data": {
      "text/plain": [
       "{'mean_fit_time': array([0.00070491, 0.00055637, 0.0005547 , 0.00054431, 0.00054116,\n",
       "        0.00054226, 0.00057697, 0.0006361 , 0.00072012, 0.00073566,\n",
       "        0.0007617 , 0.00068793, 0.00058937, 0.00064864, 0.00057983,\n",
       "        0.00067248, 0.00062609, 0.00056896, 0.00056877, 0.00057802,\n",
       "        0.00056057, 0.00051465, 0.00057449, 0.00055933, 0.00054607,\n",
       "        0.00106611, 0.00056052, 0.00055485, 0.00056186, 0.00054636,\n",
       "        0.00055099, 0.00061669, 0.00055652, 0.00052233, 0.000564  ,\n",
       "        0.00052629, 0.00058007, 0.00082369, 0.00056129, 0.00057411,\n",
       "        0.00061111, 0.00055656, 0.00053182, 0.00055542, 0.00051908,\n",
       "        0.00062346, 0.00060239, 0.00059371, 0.00060534, 0.00059514,\n",
       "        0.00057645, 0.00058246, 0.00060158, 0.00058007]),\n",
       " 'std_fit_time': array([2.27026603e-04, 3.30254400e-05, 6.33297553e-05, 4.31923404e-05,\n",
       "        5.02705786e-05, 3.21239641e-05, 8.30393805e-05, 6.09201226e-05,\n",
       "        1.33013689e-04, 9.89778414e-05, 1.14484858e-04, 2.37082553e-05,\n",
       "        4.29492393e-05, 1.46160087e-04, 6.04009837e-05, 9.97133198e-05,\n",
       "        8.41554769e-05, 6.62859564e-05, 5.32421518e-05, 5.01807621e-05,\n",
       "        7.34982881e-05, 2.21637481e-05, 6.84386086e-05, 5.79922992e-05,\n",
       "        3.50735043e-05, 1.02517847e-03, 6.14263619e-05, 2.92369234e-05,\n",
       "        5.04897376e-05, 4.27086409e-05, 4.57790990e-05, 1.22367285e-04,\n",
       "        3.20810427e-05, 2.10556949e-05, 1.17745047e-04, 2.07221820e-05,\n",
       "        6.40502538e-05, 5.10316161e-04, 3.01225245e-05, 4.29905127e-05,\n",
       "        1.07829467e-04, 3.16738342e-05, 1.08490671e-05, 6.31768027e-05,\n",
       "        1.63801719e-05, 4.54603653e-05, 1.49491301e-05, 2.64824557e-05,\n",
       "        2.20188303e-05, 6.66142363e-05, 2.34540877e-05, 5.23475125e-05,\n",
       "        8.81838615e-05, 5.64803499e-05]),\n",
       " 'mean_score_time': array([0.00038805, 0.00032992, 0.00032153, 0.0003016 , 0.00030022,\n",
       "        0.00031524, 0.00032573, 0.00036936, 0.00040722, 0.00040164,\n",
       "        0.00038881, 0.00047112, 0.00035796, 0.00034213, 0.00032425,\n",
       "        0.00032134, 0.00031409, 0.00029321, 0.00030823, 0.00031857,\n",
       "        0.00030808, 0.00029306, 0.00030179, 0.00031314, 0.00034881,\n",
       "        0.00030875, 0.00031071, 0.00032082, 0.00034008, 0.00030403,\n",
       "        0.00029922, 0.00031824, 0.00032697, 0.0002933 , 0.00029602,\n",
       "        0.00029445, 0.00030236, 0.00033412, 0.00030618, 0.00030065,\n",
       "        0.00032582, 0.0003315 , 0.00029917, 0.0003387 , 0.00029736,\n",
       "        0.00033054, 0.00036197, 0.00031924, 0.00030041, 0.00032749,\n",
       "        0.00031457, 0.00032115, 0.00032401, 0.00030451]),\n",
       " 'std_score_time': array([7.49287958e-05, 3.16072905e-05, 3.13817543e-05, 2.60616700e-05,\n",
       "        1.72805944e-05, 4.32802685e-05, 3.31494092e-05, 3.69646921e-05,\n",
       "        6.50238760e-05, 8.00286473e-05, 8.21409826e-05, 9.25216466e-05,\n",
       "        5.83940788e-05, 5.40157799e-05, 2.23910463e-05, 1.54272850e-05,\n",
       "        1.40562665e-05, 2.97173242e-06, 1.84625289e-05, 5.20310846e-05,\n",
       "        2.92516959e-05, 1.10069882e-05, 2.26246042e-05, 5.53951806e-05,\n",
       "        6.35933461e-05, 1.88733569e-05, 4.18241915e-05, 1.69787511e-05,\n",
       "        5.58418049e-05, 2.22015709e-05, 1.11288113e-05, 2.69425232e-05,\n",
       "        5.85412729e-05, 9.53483562e-06, 2.29589045e-05, 9.48654314e-06,\n",
       "        1.57229054e-05, 2.73334605e-05, 2.54022213e-05, 9.73261903e-06,\n",
       "        2.60710907e-05, 6.12140062e-05, 1.09997558e-05, 7.51064087e-05,\n",
       "        1.74077567e-05, 1.61939403e-05, 6.80240254e-05, 1.24343918e-05,\n",
       "        8.86327281e-06, 2.14971603e-05, 1.25033213e-05, 1.21186079e-05,\n",
       "        1.56646631e-05, 1.51228813e-05]),\n",
       " 'param_criterion': masked_array(data=['gini', 'gini', 'gini', 'gini', 'gini', 'gini', 'gini',\n",
       "                    'gini', 'gini', 'gini', 'gini', 'gini', 'gini', 'gini',\n",
       "                    'gini', 'gini', 'gini', 'gini', 'gini', 'gini', 'gini',\n",
       "                    'gini', 'gini', 'gini', 'gini', 'gini', 'gini',\n",
       "                    'entropy', 'entropy', 'entropy', 'entropy', 'entropy',\n",
       "                    'entropy', 'entropy', 'entropy', 'entropy', 'entropy',\n",
       "                    'entropy', 'entropy', 'entropy', 'entropy', 'entropy',\n",
       "                    'entropy', 'entropy', 'entropy', 'entropy', 'entropy',\n",
       "                    'entropy', 'entropy', 'entropy', 'entropy', 'entropy',\n",
       "                    'entropy', 'entropy'],\n",
       "              mask=[False, False, False, False, False, False, False, False,\n",
       "                    False, False, False, False, False, False, False, False,\n",
       "                    False, False, False, False, False, False, False, False,\n",
       "                    False, False, False, False, False, False, False, False,\n",
       "                    False, False, False, False, False, False, False, False,\n",
       "                    False, False, False, False, False, False, False, False,\n",
       "                    False, False, False, False, False, False],\n",
       "        fill_value='?',\n",
       "             dtype=object),\n",
       " 'param_max_depth': masked_array(data=[2, 2, 2, 2, 2, 2, 2, 2, 2, 3, 3, 3, 3, 3, 3, 3, 3, 3,\n",
       "                    4, 4, 4, 4, 4, 4, 4, 4, 4, 2, 2, 2, 2, 2, 2, 2, 2, 2,\n",
       "                    3, 3, 3, 3, 3, 3, 3, 3, 3, 4, 4, 4, 4, 4, 4, 4, 4, 4],\n",
       "              mask=[False, False, False, False, False, False, False, False,\n",
       "                    False, False, False, False, False, False, False, False,\n",
       "                    False, False, False, False, False, False, False, False,\n",
       "                    False, False, False, False, False, False, False, False,\n",
       "                    False, False, False, False, False, False, False, False,\n",
       "                    False, False, False, False, False, False, False, False,\n",
       "                    False, False, False, False, False, False],\n",
       "        fill_value='?',\n",
       "             dtype=object),\n",
       " 'param_min_samples_leaf': masked_array(data=[2, 4, 6, 8, 10, 12, 14, 16, 18, 2, 4, 6, 8, 10, 12, 14,\n",
       "                    16, 18, 2, 4, 6, 8, 10, 12, 14, 16, 18, 2, 4, 6, 8, 10,\n",
       "                    12, 14, 16, 18, 2, 4, 6, 8, 10, 12, 14, 16, 18, 2, 4,\n",
       "                    6, 8, 10, 12, 14, 16, 18],\n",
       "              mask=[False, False, False, False, False, False, False, False,\n",
       "                    False, False, False, False, False, False, False, False,\n",
       "                    False, False, False, False, False, False, False, False,\n",
       "                    False, False, False, False, False, False, False, False,\n",
       "                    False, False, False, False, False, False, False, False,\n",
       "                    False, False, False, False, False, False, False, False,\n",
       "                    False, False, False, False, False, False],\n",
       "        fill_value='?',\n",
       "             dtype=object),\n",
       " 'params': [{'criterion': 'gini', 'max_depth': 2, 'min_samples_leaf': 2},\n",
       "  {'criterion': 'gini', 'max_depth': 2, 'min_samples_leaf': 4},\n",
       "  {'criterion': 'gini', 'max_depth': 2, 'min_samples_leaf': 6},\n",
       "  {'criterion': 'gini', 'max_depth': 2, 'min_samples_leaf': 8},\n",
       "  {'criterion': 'gini', 'max_depth': 2, 'min_samples_leaf': 10},\n",
       "  {'criterion': 'gini', 'max_depth': 2, 'min_samples_leaf': 12},\n",
       "  {'criterion': 'gini', 'max_depth': 2, 'min_samples_leaf': 14},\n",
       "  {'criterion': 'gini', 'max_depth': 2, 'min_samples_leaf': 16},\n",
       "  {'criterion': 'gini', 'max_depth': 2, 'min_samples_leaf': 18},\n",
       "  {'criterion': 'gini', 'max_depth': 3, 'min_samples_leaf': 2},\n",
       "  {'criterion': 'gini', 'max_depth': 3, 'min_samples_leaf': 4},\n",
       "  {'criterion': 'gini', 'max_depth': 3, 'min_samples_leaf': 6},\n",
       "  {'criterion': 'gini', 'max_depth': 3, 'min_samples_leaf': 8},\n",
       "  {'criterion': 'gini', 'max_depth': 3, 'min_samples_leaf': 10},\n",
       "  {'criterion': 'gini', 'max_depth': 3, 'min_samples_leaf': 12},\n",
       "  {'criterion': 'gini', 'max_depth': 3, 'min_samples_leaf': 14},\n",
       "  {'criterion': 'gini', 'max_depth': 3, 'min_samples_leaf': 16},\n",
       "  {'criterion': 'gini', 'max_depth': 3, 'min_samples_leaf': 18},\n",
       "  {'criterion': 'gini', 'max_depth': 4, 'min_samples_leaf': 2},\n",
       "  {'criterion': 'gini', 'max_depth': 4, 'min_samples_leaf': 4},\n",
       "  {'criterion': 'gini', 'max_depth': 4, 'min_samples_leaf': 6},\n",
       "  {'criterion': 'gini', 'max_depth': 4, 'min_samples_leaf': 8},\n",
       "  {'criterion': 'gini', 'max_depth': 4, 'min_samples_leaf': 10},\n",
       "  {'criterion': 'gini', 'max_depth': 4, 'min_samples_leaf': 12},\n",
       "  {'criterion': 'gini', 'max_depth': 4, 'min_samples_leaf': 14},\n",
       "  {'criterion': 'gini', 'max_depth': 4, 'min_samples_leaf': 16},\n",
       "  {'criterion': 'gini', 'max_depth': 4, 'min_samples_leaf': 18},\n",
       "  {'criterion': 'entropy', 'max_depth': 2, 'min_samples_leaf': 2},\n",
       "  {'criterion': 'entropy', 'max_depth': 2, 'min_samples_leaf': 4},\n",
       "  {'criterion': 'entropy', 'max_depth': 2, 'min_samples_leaf': 6},\n",
       "  {'criterion': 'entropy', 'max_depth': 2, 'min_samples_leaf': 8},\n",
       "  {'criterion': 'entropy', 'max_depth': 2, 'min_samples_leaf': 10},\n",
       "  {'criterion': 'entropy', 'max_depth': 2, 'min_samples_leaf': 12},\n",
       "  {'criterion': 'entropy', 'max_depth': 2, 'min_samples_leaf': 14},\n",
       "  {'criterion': 'entropy', 'max_depth': 2, 'min_samples_leaf': 16},\n",
       "  {'criterion': 'entropy', 'max_depth': 2, 'min_samples_leaf': 18},\n",
       "  {'criterion': 'entropy', 'max_depth': 3, 'min_samples_leaf': 2},\n",
       "  {'criterion': 'entropy', 'max_depth': 3, 'min_samples_leaf': 4},\n",
       "  {'criterion': 'entropy', 'max_depth': 3, 'min_samples_leaf': 6},\n",
       "  {'criterion': 'entropy', 'max_depth': 3, 'min_samples_leaf': 8},\n",
       "  {'criterion': 'entropy', 'max_depth': 3, 'min_samples_leaf': 10},\n",
       "  {'criterion': 'entropy', 'max_depth': 3, 'min_samples_leaf': 12},\n",
       "  {'criterion': 'entropy', 'max_depth': 3, 'min_samples_leaf': 14},\n",
       "  {'criterion': 'entropy', 'max_depth': 3, 'min_samples_leaf': 16},\n",
       "  {'criterion': 'entropy', 'max_depth': 3, 'min_samples_leaf': 18},\n",
       "  {'criterion': 'entropy', 'max_depth': 4, 'min_samples_leaf': 2},\n",
       "  {'criterion': 'entropy', 'max_depth': 4, 'min_samples_leaf': 4},\n",
       "  {'criterion': 'entropy', 'max_depth': 4, 'min_samples_leaf': 6},\n",
       "  {'criterion': 'entropy', 'max_depth': 4, 'min_samples_leaf': 8},\n",
       "  {'criterion': 'entropy', 'max_depth': 4, 'min_samples_leaf': 10},\n",
       "  {'criterion': 'entropy', 'max_depth': 4, 'min_samples_leaf': 12},\n",
       "  {'criterion': 'entropy', 'max_depth': 4, 'min_samples_leaf': 14},\n",
       "  {'criterion': 'entropy', 'max_depth': 4, 'min_samples_leaf': 16},\n",
       "  {'criterion': 'entropy', 'max_depth': 4, 'min_samples_leaf': 18}],\n",
       " 'split0_test_score': array([0.875     , 0.875     , 0.875     , 0.875     , 0.875     ,\n",
       "        0.875     , 0.875     , 0.875     , 0.875     , 0.91666667,\n",
       "        0.91666667, 0.875     , 0.875     , 0.875     , 0.875     ,\n",
       "        0.875     , 0.875     , 0.875     , 0.91666667, 0.91666667,\n",
       "        0.875     , 0.875     , 0.875     , 0.875     , 0.875     ,\n",
       "        0.875     , 0.875     , 0.875     , 0.875     , 0.875     ,\n",
       "        0.875     , 0.875     , 0.875     , 0.875     , 0.875     ,\n",
       "        0.875     , 0.91666667, 0.91666667, 0.875     , 0.875     ,\n",
       "        0.875     , 0.875     , 0.875     , 0.875     , 0.875     ,\n",
       "        0.875     , 0.91666667, 0.875     , 0.875     , 0.875     ,\n",
       "        0.875     , 0.875     , 0.875     , 0.875     ]),\n",
       " 'split1_test_score': array([0.875     , 0.875     , 0.875     , 0.875     , 0.875     ,\n",
       "        0.875     , 0.875     , 0.875     , 0.875     , 0.91666667,\n",
       "        0.91666667, 0.875     , 0.875     , 0.875     , 0.875     ,\n",
       "        0.875     , 0.875     , 0.875     , 0.875     , 0.91666667,\n",
       "        0.875     , 0.875     , 0.875     , 0.875     , 0.875     ,\n",
       "        0.875     , 0.875     , 0.875     , 0.875     , 0.875     ,\n",
       "        0.875     , 0.875     , 0.875     , 0.875     , 0.875     ,\n",
       "        0.875     , 0.91666667, 0.91666667, 0.875     , 0.875     ,\n",
       "        0.875     , 0.875     , 0.875     , 0.875     , 0.875     ,\n",
       "        0.875     , 0.91666667, 0.875     , 0.875     , 0.875     ,\n",
       "        0.875     , 0.875     , 0.875     , 0.875     ]),\n",
       " 'split2_test_score': array([0.95833333, 0.95833333, 0.95833333, 0.95833333, 0.95833333,\n",
       "        0.95833333, 0.95833333, 0.95833333, 0.95833333, 0.95833333,\n",
       "        0.95833333, 0.95833333, 0.95833333, 0.95833333, 0.95833333,\n",
       "        0.95833333, 0.95833333, 0.95833333, 0.95833333, 0.95833333,\n",
       "        0.95833333, 0.95833333, 0.95833333, 0.95833333, 0.95833333,\n",
       "        0.95833333, 0.95833333, 0.95833333, 0.95833333, 0.95833333,\n",
       "        0.95833333, 0.95833333, 0.95833333, 0.95833333, 0.95833333,\n",
       "        0.95833333, 0.95833333, 0.95833333, 0.95833333, 0.95833333,\n",
       "        0.95833333, 0.95833333, 0.95833333, 0.95833333, 0.95833333,\n",
       "        0.95833333, 0.95833333, 0.95833333, 0.95833333, 0.95833333,\n",
       "        0.95833333, 0.95833333, 0.95833333, 0.95833333]),\n",
       " 'split3_test_score': array([0.95833333, 0.95833333, 0.95833333, 0.95833333, 0.95833333,\n",
       "        0.95833333, 0.95833333, 0.95833333, 0.95833333, 0.95833333,\n",
       "        0.95833333, 0.95833333, 0.95833333, 0.95833333, 0.95833333,\n",
       "        0.95833333, 0.95833333, 0.95833333, 0.95833333, 0.95833333,\n",
       "        0.95833333, 0.95833333, 0.95833333, 0.95833333, 0.95833333,\n",
       "        0.95833333, 0.95833333, 0.95833333, 0.95833333, 0.95833333,\n",
       "        0.95833333, 0.95833333, 0.95833333, 0.95833333, 0.95833333,\n",
       "        0.95833333, 0.95833333, 0.95833333, 0.95833333, 0.95833333,\n",
       "        0.95833333, 0.95833333, 0.95833333, 0.95833333, 0.95833333,\n",
       "        0.95833333, 0.95833333, 0.95833333, 0.95833333, 0.95833333,\n",
       "        0.95833333, 0.95833333, 0.95833333, 0.95833333]),\n",
       " 'split4_test_score': array([0.95833333, 0.95833333, 0.95833333, 0.95833333, 0.95833333,\n",
       "        0.95833333, 0.95833333, 0.95833333, 0.95833333, 0.95833333,\n",
       "        0.95833333, 0.95833333, 0.95833333, 0.95833333, 0.95833333,\n",
       "        0.95833333, 0.95833333, 0.95833333, 0.95833333, 0.95833333,\n",
       "        0.95833333, 0.95833333, 0.95833333, 0.95833333, 0.95833333,\n",
       "        0.95833333, 0.95833333, 0.95833333, 0.95833333, 0.95833333,\n",
       "        0.95833333, 0.95833333, 0.95833333, 0.95833333, 0.95833333,\n",
       "        0.95833333, 0.95833333, 0.95833333, 0.95833333, 0.95833333,\n",
       "        0.95833333, 0.95833333, 0.95833333, 0.95833333, 0.95833333,\n",
       "        0.95833333, 0.95833333, 0.95833333, 0.95833333, 0.95833333,\n",
       "        0.95833333, 0.95833333, 0.95833333, 0.95833333]),\n",
       " 'mean_test_score': array([0.925     , 0.925     , 0.925     , 0.925     , 0.925     ,\n",
       "        0.925     , 0.925     , 0.925     , 0.925     , 0.94166667,\n",
       "        0.94166667, 0.925     , 0.925     , 0.925     , 0.925     ,\n",
       "        0.925     , 0.925     , 0.925     , 0.93333333, 0.94166667,\n",
       "        0.925     , 0.925     , 0.925     , 0.925     , 0.925     ,\n",
       "        0.925     , 0.925     , 0.925     , 0.925     , 0.925     ,\n",
       "        0.925     , 0.925     , 0.925     , 0.925     , 0.925     ,\n",
       "        0.925     , 0.94166667, 0.94166667, 0.925     , 0.925     ,\n",
       "        0.925     , 0.925     , 0.925     , 0.925     , 0.925     ,\n",
       "        0.925     , 0.94166667, 0.925     , 0.925     , 0.925     ,\n",
       "        0.925     , 0.925     , 0.925     , 0.925     ]),\n",
       " 'std_test_score': array([0.04082483, 0.04082483, 0.04082483, 0.04082483, 0.04082483,\n",
       "        0.04082483, 0.04082483, 0.04082483, 0.04082483, 0.02041241,\n",
       "        0.02041241, 0.04082483, 0.04082483, 0.04082483, 0.04082483,\n",
       "        0.04082483, 0.04082483, 0.04082483, 0.03333333, 0.02041241,\n",
       "        0.04082483, 0.04082483, 0.04082483, 0.04082483, 0.04082483,\n",
       "        0.04082483, 0.04082483, 0.04082483, 0.04082483, 0.04082483,\n",
       "        0.04082483, 0.04082483, 0.04082483, 0.04082483, 0.04082483,\n",
       "        0.04082483, 0.02041241, 0.02041241, 0.04082483, 0.04082483,\n",
       "        0.04082483, 0.04082483, 0.04082483, 0.04082483, 0.04082483,\n",
       "        0.04082483, 0.02041241, 0.04082483, 0.04082483, 0.04082483,\n",
       "        0.04082483, 0.04082483, 0.04082483, 0.04082483]),\n",
       " 'rank_test_score': array([8, 8, 8, 8, 8, 8, 8, 8, 8, 1, 1, 8, 8, 8, 8, 8, 8, 8, 7, 1, 8, 8,\n",
       "        8, 8, 8, 8, 8, 8, 8, 8, 8, 8, 8, 8, 8, 8, 1, 1, 8, 8, 8, 8, 8, 8,\n",
       "        8, 8, 1, 8, 8, 8, 8, 8, 8, 8], dtype=int32)}"
      ]
     },
     "execution_count": 8,
     "metadata": {},
     "output_type": "execute_result"
    }
   ],
   "source": [
    "dt_opt.cv_results_"
   ]
  },
  {
   "cell_type": "markdown",
   "id": "e10c66a6",
   "metadata": {},
   "source": [
    "We can reformat it into a dataframe for further analysis."
   ]
  },
  {
   "cell_type": "code",
   "execution_count": 9,
   "id": "052d854a",
   "metadata": {},
   "outputs": [
    {
     "data": {
      "text/html": [
       "<div>\n",
       "<style scoped>\n",
       "    .dataframe tbody tr th:only-of-type {\n",
       "        vertical-align: middle;\n",
       "    }\n",
       "\n",
       "    .dataframe tbody tr th {\n",
       "        vertical-align: top;\n",
       "    }\n",
       "\n",
       "    .dataframe thead th {\n",
       "        text-align: right;\n",
       "    }\n",
       "</style>\n",
       "<table border=\"1\" class=\"dataframe\">\n",
       "  <thead>\n",
       "    <tr style=\"text-align: right;\">\n",
       "      <th></th>\n",
       "      <th>mean_fit_time</th>\n",
       "      <th>std_fit_time</th>\n",
       "      <th>mean_score_time</th>\n",
       "      <th>std_score_time</th>\n",
       "      <th>param_criterion</th>\n",
       "      <th>param_max_depth</th>\n",
       "      <th>param_min_samples_leaf</th>\n",
       "      <th>params</th>\n",
       "      <th>split0_test_score</th>\n",
       "      <th>split1_test_score</th>\n",
       "      <th>split2_test_score</th>\n",
       "      <th>split3_test_score</th>\n",
       "      <th>split4_test_score</th>\n",
       "      <th>mean_test_score</th>\n",
       "      <th>std_test_score</th>\n",
       "      <th>rank_test_score</th>\n",
       "    </tr>\n",
       "  </thead>\n",
       "  <tbody>\n",
       "    <tr>\n",
       "      <th>0</th>\n",
       "      <td>0.000705</td>\n",
       "      <td>0.000227</td>\n",
       "      <td>0.000388</td>\n",
       "      <td>0.000075</td>\n",
       "      <td>gini</td>\n",
       "      <td>2</td>\n",
       "      <td>2</td>\n",
       "      <td>{'criterion': 'gini', 'max_depth': 2, 'min_sam...</td>\n",
       "      <td>0.875</td>\n",
       "      <td>0.875</td>\n",
       "      <td>0.958333</td>\n",
       "      <td>0.958333</td>\n",
       "      <td>0.958333</td>\n",
       "      <td>0.925</td>\n",
       "      <td>0.040825</td>\n",
       "      <td>8</td>\n",
       "    </tr>\n",
       "    <tr>\n",
       "      <th>1</th>\n",
       "      <td>0.000556</td>\n",
       "      <td>0.000033</td>\n",
       "      <td>0.000330</td>\n",
       "      <td>0.000032</td>\n",
       "      <td>gini</td>\n",
       "      <td>2</td>\n",
       "      <td>4</td>\n",
       "      <td>{'criterion': 'gini', 'max_depth': 2, 'min_sam...</td>\n",
       "      <td>0.875</td>\n",
       "      <td>0.875</td>\n",
       "      <td>0.958333</td>\n",
       "      <td>0.958333</td>\n",
       "      <td>0.958333</td>\n",
       "      <td>0.925</td>\n",
       "      <td>0.040825</td>\n",
       "      <td>8</td>\n",
       "    </tr>\n",
       "  </tbody>\n",
       "</table>\n",
       "</div>"
      ],
      "text/plain": [
       "   mean_fit_time  std_fit_time  mean_score_time  std_score_time  \\\n",
       "0       0.000705      0.000227         0.000388        0.000075   \n",
       "1       0.000556      0.000033         0.000330        0.000032   \n",
       "\n",
       "  param_criterion param_max_depth param_min_samples_leaf  \\\n",
       "0            gini               2                      2   \n",
       "1            gini               2                      4   \n",
       "\n",
       "                                              params  split0_test_score  \\\n",
       "0  {'criterion': 'gini', 'max_depth': 2, 'min_sam...              0.875   \n",
       "1  {'criterion': 'gini', 'max_depth': 2, 'min_sam...              0.875   \n",
       "\n",
       "   split1_test_score  split2_test_score  split3_test_score  split4_test_score  \\\n",
       "0              0.875           0.958333           0.958333           0.958333   \n",
       "1              0.875           0.958333           0.958333           0.958333   \n",
       "\n",
       "   mean_test_score  std_test_score  rank_test_score  \n",
       "0            0.925        0.040825                8  \n",
       "1            0.925        0.040825                8  "
      ]
     },
     "execution_count": 9,
     "metadata": {},
     "output_type": "execute_result"
    }
   ],
   "source": [
    "dt_df = pd.DataFrame(dt_opt.cv_results_)\n",
    "dt_df.head(2)"
   ]
  },
  {
   "cell_type": "markdown",
   "id": "8eedc27c",
   "metadata": {},
   "source": [
    "```{admonition} Correction\n",
    "The parameters in this function were in the wrong \n",
    "order in this function in class\n",
    "```\n",
    "I changed the markers and the color of the error bars for readability."
   ]
  },
  {
   "cell_type": "code",
   "execution_count": 10,
   "id": "46760a15",
   "metadata": {},
   "outputs": [
    {
     "data": {
      "image/png": "[encoded data removed]",
      "text/plain": [
       "<Figure size 432x288 with 1 Axes>"
      ]
     },
     "metadata": {
      "filenames": {
       "image/png": "/home/runner/work/BrownFall21/BrownFall21/_build/jupyter_execute/notes/2021-11-15_18_0.png"
      }
     },
     "output_type": "display_data"
    }
   ],
   "source": [
    "plt.errorbar(x=dt_df['mean_fit_time'],y=dt_df['mean_score_time'],\n",
    "     xerr=dt_df['std_fit_time'],yerr=dt_df['std_score_time'],\n",
    "             marker='s',ecolor='r')\n",
    "plt.xlabel('fit time')\n",
    "plt.ylabel('score time')\n",
    "# save the limits so we can reuse them\n",
    "xmin, xmax, ymin, ymax = plt.axis()"
   ]
  },
  {
   "cell_type": "markdown",
   "id": "c42f590d",
   "metadata": {},
   "source": [
    "The \"points\" are at the mean fit and score times. The lines are the \"standard deviation\" or how much we expect that number to vary, since means are an estimate. \n",
    "Because the data shows an upward trend, this plot tells us that mostly, the models that are slower to fit are also slower to apply. This makes sense for decision trees, deeper trees take longer to learn and longer to traverse when predicting. \n",
    "Because the error bars mostly overlap the other points, this tells us that mostly the variation in time is not a reliable difference. If we re-ran the GridSearch, we could get them in different orders. \n",
    "\n",
    "To interpret the error bar plot, let's look at a line plot of just the means, with the same limits so that it's easier to compare to the plot above."
   ]
  },
  {
   "cell_type": "code",
   "execution_count": 11,
   "id": "eccb2809",
   "metadata": {},
   "outputs": [
    {
     "data": {
      "text/plain": [
       "(-6.158380106778841e-05, 0.0021938088376888825)"
      ]
     },
     "execution_count": 11,
     "metadata": {},
     "output_type": "execute_result"
    },
    {
     "data": {
      "image/png": "[encoded data removed]",
      "text/plain": [
       "<Figure size 432x288 with 1 Axes>"
      ]
     },
     "metadata": {
      "filenames": {
       "image/png": "/home/runner/work/BrownFall21/BrownFall21/_build/jupyter_execute/notes/2021-11-15_20_1.png"
      }
     },
     "output_type": "display_data"
    }
   ],
   "source": [
    "plt.plot(dt_df['mean_fit_time'],\n",
    "            dt_df['mean_score_time'], marker='s')\n",
    "plt.xlabel('fit time')\n",
    "plt.ylabel('score time')\n",
    "# match the axis limits to above\n",
    "plt.ylim(ymin, ymax)\n",
    "plt.xlim(xmin,xmax)"
   ]
  },
  {
   "cell_type": "markdown",
   "id": "f41a70b5",
   "metadata": {},
   "source": [
    "this plot shows the mean times, without the error bars."
   ]
  },
  {
   "cell_type": "code",
   "execution_count": 12,
   "id": "9a934df4",
   "metadata": {},
   "outputs": [
    {
     "data": {
      "text/plain": [
       "<AxesSubplot:>"
      ]
     },
     "execution_count": 12,
     "metadata": {},
     "output_type": "execute_result"
    },
    {
     "data": {
      "image/png": "[encoded data removed]",
      "text/plain": [
       "<Figure size 432x288 with 1 Axes>"
      ]
     },
     "metadata": {
      "filenames": {
       "image/png": "/home/runner/work/BrownFall21/BrownFall21/_build/jupyter_execute/notes/2021-11-15_22_1.png"
      }
     },
     "output_type": "display_data"
    }
   ],
   "source": [
    "dt_df['mean_test_score'].plot(kind='bar')"
   ]
  },
  {
   "cell_type": "code",
   "execution_count": 13,
   "id": "592463bc",
   "metadata": {},
   "outputs": [
    {
     "data": {
      "text/plain": [
       "0     0.925000\n",
       "1     0.925000\n",
       "2     0.925000\n",
       "3     0.925000\n",
       "4     0.925000\n",
       "5     0.925000\n",
       "6     0.925000\n",
       "7     0.925000\n",
       "8     0.925000\n",
       "9     0.941667\n",
       "10    0.941667\n",
       "11    0.925000\n",
       "12    0.925000\n",
       "13    0.925000\n",
       "14    0.925000\n",
       "15    0.925000\n",
       "16    0.925000\n",
       "17    0.925000\n",
       "18    0.933333\n",
       "19    0.941667\n",
       "20    0.925000\n",
       "21    0.925000\n",
       "22    0.925000\n",
       "23    0.925000\n",
       "24    0.925000\n",
       "25    0.925000\n",
       "26    0.925000\n",
       "27    0.925000\n",
       "28    0.925000\n",
       "29    0.925000\n",
       "30    0.925000\n",
       "31    0.925000\n",
       "32    0.925000\n",
       "33    0.925000\n",
       "34    0.925000\n",
       "35    0.925000\n",
       "36    0.941667\n",
       "37    0.941667\n",
       "38    0.925000\n",
       "39    0.925000\n",
       "40    0.925000\n",
       "41    0.925000\n",
       "42    0.925000\n",
       "43    0.925000\n",
       "44    0.925000\n",
       "45    0.925000\n",
       "46    0.941667\n",
       "47    0.925000\n",
       "48    0.925000\n",
       "49    0.925000\n",
       "50    0.925000\n",
       "51    0.925000\n",
       "52    0.925000\n",
       "53    0.925000\n",
       "Name: mean_test_score, dtype: float64"
      ]
     },
     "execution_count": 13,
     "metadata": {},
     "output_type": "execute_result"
    }
   ],
   "source": [
    "dt_df['mean_test_score']"
   ]
  },
  {
   "cell_type": "markdown",
   "id": "6143ef6f",
   "metadata": {},
   "source": [
    "Now let's compare with a different model, we'll use the parameter optimized version for that model."
   ]
  },
  {
   "cell_type": "code",
   "execution_count": 14,
   "id": "8667449d",
   "metadata": {},
   "outputs": [
    {
     "ename": "NameError",
     "evalue": "name 'GridSearchCV' is not defined",
     "output_type": "error",
     "traceback": [
      "\u001b[0;31m---------------------------------------------------------------------------\u001b[0m",
      "\u001b[0;31mNameError\u001b[0m                                 Traceback (most recent call last)",
      "\u001b[0;32m/tmp/ipykernel_2277/492760704.py\u001b[0m in \u001b[0;36m<module>\u001b[0;34m\u001b[0m\n\u001b[1;32m      1\u001b[0m \u001b[0msvm_clf\u001b[0m \u001b[0;34m=\u001b[0m \u001b[0msvm\u001b[0m\u001b[0;34m.\u001b[0m\u001b[0mSVC\u001b[0m\u001b[0;34m(\u001b[0m\u001b[0;34m)\u001b[0m\u001b[0;34m\u001b[0m\u001b[0;34m\u001b[0m\u001b[0m\n\u001b[1;32m      2\u001b[0m \u001b[0mparam_grid\u001b[0m \u001b[0;34m=\u001b[0m \u001b[0;34m{\u001b[0m\u001b[0;34m'kernel'\u001b[0m\u001b[0;34m:\u001b[0m\u001b[0;34m[\u001b[0m\u001b[0;34m'linear'\u001b[0m\u001b[0;34m,\u001b[0m\u001b[0;34m'rbf'\u001b[0m\u001b[0;34m]\u001b[0m\u001b[0;34m,\u001b[0m \u001b[0;34m'C'\u001b[0m\u001b[0;34m:\u001b[0m\u001b[0;34m[\u001b[0m\u001b[0;36m.5\u001b[0m\u001b[0;34m,\u001b[0m \u001b[0;36m1\u001b[0m\u001b[0;34m,\u001b[0m \u001b[0;36m10\u001b[0m\u001b[0;34m]\u001b[0m\u001b[0;34m}\u001b[0m\u001b[0;34m\u001b[0m\u001b[0;34m\u001b[0m\u001b[0m\n\u001b[0;32m----> 3\u001b[0;31m \u001b[0msvm_opt\u001b[0m \u001b[0;34m=\u001b[0m \u001b[0mGridSearchCV\u001b[0m\u001b[0;34m(\u001b[0m\u001b[0msvm_clf\u001b[0m\u001b[0;34m,\u001b[0m\u001b[0mparam_grid\u001b[0m\u001b[0;34m,\u001b[0m\u001b[0;34m)\u001b[0m\u001b[0;34m\u001b[0m\u001b[0;34m\u001b[0m\u001b[0m\n\u001b[0m",
      "\u001b[0;31mNameError\u001b[0m: name 'GridSearchCV' is not defined"
     ]
    }
   ],
   "source": [
    "svm_clf = svm.SVC()\n",
    "param_grid = {'kernel':['linear','rbf'], 'C':[.5, 1, 10]}\n",
    "svm_opt = GridSearchCV(svm_clf,param_grid,)"
   ]
  },
  {
   "cell_type": "markdown",
   "id": "6c2dec71",
   "metadata": {},
   "source": [
    "The error above is because we didn't import `GridSearchCV` directly today, we imported the whole `model_selection` module, so we have to use that in order to access the class."
   ]
  },
  {
   "cell_type": "code",
   "execution_count": 15,
   "id": "2c712dd0",
   "metadata": {},
   "outputs": [],
   "source": [
    "svm_clf = svm.SVC()\n",
    "param_grid = {'kernel':['linear','rbf'], 'C':[.5, .75,1,2,5,7, 10]}\n",
    "svm_opt = model_selection.GridSearchCV(svm_clf,param_grid,cv=10)"
   ]
  },
  {
   "cell_type": "code",
   "execution_count": 16,
   "id": "82595fb1",
   "metadata": {},
   "outputs": [
    {
     "data": {
      "text/plain": [
       "module"
      ]
     },
     "execution_count": 16,
     "metadata": {},
     "output_type": "execute_result"
    }
   ],
   "source": [
    "type(model_selection)"
   ]
  },
  {
   "cell_type": "code",
   "execution_count": 17,
   "id": "3cca78cb",
   "metadata": {},
   "outputs": [
    {
     "data": {
      "text/plain": [
       "{'scoring': None,\n",
       " 'estimator': DecisionTreeClassifier(),\n",
       " 'n_jobs': None,\n",
       " 'refit': True,\n",
       " 'cv': None,\n",
       " 'verbose': 0,\n",
       " 'pre_dispatch': '2*n_jobs',\n",
       " 'error_score': nan,\n",
       " 'return_train_score': False,\n",
       " 'param_grid': {'criterion': ['gini', 'entropy'],\n",
       "  'max_depth': [2, 3, 4],\n",
       "  'min_samples_leaf': [2, 4, 6, 8, 10, 12, 14, 16, 18]},\n",
       " 'multimetric_': False,\n",
       " 'best_index_': 9,\n",
       " 'best_score_': 0.9416666666666667,\n",
       " 'best_params_': {'criterion': 'gini', 'max_depth': 3, 'min_samples_leaf': 2},\n",
       " 'best_estimator_': DecisionTreeClassifier(max_depth=3, min_samples_leaf=2),\n",
       " 'refit_time_': 0.0004570484161376953,\n",
       " 'scorer_': <function sklearn.metrics._scorer._passthrough_scorer(estimator, *args, **kwargs)>,\n",
       " 'cv_results_': {'mean_fit_time': array([0.00070491, 0.00055637, 0.0005547 , 0.00054431, 0.00054116,\n",
       "         0.00054226, 0.00057697, 0.0006361 , 0.00072012, 0.00073566,\n",
       "         0.0007617 , 0.00068793, 0.00058937, 0.00064864, 0.00057983,\n",
       "         0.00067248, 0.00062609, 0.00056896, 0.00056877, 0.00057802,\n",
       "         0.00056057, 0.00051465, 0.00057449, 0.00055933, 0.00054607,\n",
       "         0.00106611, 0.00056052, 0.00055485, 0.00056186, 0.00054636,\n",
       "         0.00055099, 0.00061669, 0.00055652, 0.00052233, 0.000564  ,\n",
       "         0.00052629, 0.00058007, 0.00082369, 0.00056129, 0.00057411,\n",
       "         0.00061111, 0.00055656, 0.00053182, 0.00055542, 0.00051908,\n",
       "         0.00062346, 0.00060239, 0.00059371, 0.00060534, 0.00059514,\n",
       "         0.00057645, 0.00058246, 0.00060158, 0.00058007]),\n",
       "  'std_fit_time': array([2.27026603e-04, 3.30254400e-05, 6.33297553e-05, 4.31923404e-05,\n",
       "         5.02705786e-05, 3.21239641e-05, 8.30393805e-05, 6.09201226e-05,\n",
       "         1.33013689e-04, 9.89778414e-05, 1.14484858e-04, 2.37082553e-05,\n",
       "         4.29492393e-05, 1.46160087e-04, 6.04009837e-05, 9.97133198e-05,\n",
       "         8.41554769e-05, 6.62859564e-05, 5.32421518e-05, 5.01807621e-05,\n",
       "         7.34982881e-05, 2.21637481e-05, 6.84386086e-05, 5.79922992e-05,\n",
       "         3.50735043e-05, 1.02517847e-03, 6.14263619e-05, 2.92369234e-05,\n",
       "         5.04897376e-05, 4.27086409e-05, 4.57790990e-05, 1.22367285e-04,\n",
       "         3.20810427e-05, 2.10556949e-05, 1.17745047e-04, 2.07221820e-05,\n",
       "         6.40502538e-05, 5.10316161e-04, 3.01225245e-05, 4.29905127e-05,\n",
       "         1.07829467e-04, 3.16738342e-05, 1.08490671e-05, 6.31768027e-05,\n",
       "         1.63801719e-05, 4.54603653e-05, 1.49491301e-05, 2.64824557e-05,\n",
       "         2.20188303e-05, 6.66142363e-05, 2.34540877e-05, 5.23475125e-05,\n",
       "         8.81838615e-05, 5.64803499e-05]),\n",
       "  'mean_score_time': array([0.00038805, 0.00032992, 0.00032153, 0.0003016 , 0.00030022,\n",
       "         0.00031524, 0.00032573, 0.00036936, 0.00040722, 0.00040164,\n",
       "         0.00038881, 0.00047112, 0.00035796, 0.00034213, 0.00032425,\n",
       "         0.00032134, 0.00031409, 0.00029321, 0.00030823, 0.00031857,\n",
       "         0.00030808, 0.00029306, 0.00030179, 0.00031314, 0.00034881,\n",
       "         0.00030875, 0.00031071, 0.00032082, 0.00034008, 0.00030403,\n",
       "         0.00029922, 0.00031824, 0.00032697, 0.0002933 , 0.00029602,\n",
       "         0.00029445, 0.00030236, 0.00033412, 0.00030618, 0.00030065,\n",
       "         0.00032582, 0.0003315 , 0.00029917, 0.0003387 , 0.00029736,\n",
       "         0.00033054, 0.00036197, 0.00031924, 0.00030041, 0.00032749,\n",
       "         0.00031457, 0.00032115, 0.00032401, 0.00030451]),\n",
       "  'std_score_time': array([7.49287958e-05, 3.16072905e-05, 3.13817543e-05, 2.60616700e-05,\n",
       "         1.72805944e-05, 4.32802685e-05, 3.31494092e-05, 3.69646921e-05,\n",
       "         6.50238760e-05, 8.00286473e-05, 8.21409826e-05, 9.25216466e-05,\n",
       "         5.83940788e-05, 5.40157799e-05, 2.23910463e-05, 1.54272850e-05,\n",
       "         1.40562665e-05, 2.97173242e-06, 1.84625289e-05, 5.20310846e-05,\n",
       "         2.92516959e-05, 1.10069882e-05, 2.26246042e-05, 5.53951806e-05,\n",
       "         6.35933461e-05, 1.88733569e-05, 4.18241915e-05, 1.69787511e-05,\n",
       "         5.58418049e-05, 2.22015709e-05, 1.11288113e-05, 2.69425232e-05,\n",
       "         5.85412729e-05, 9.53483562e-06, 2.29589045e-05, 9.48654314e-06,\n",
       "         1.57229054e-05, 2.73334605e-05, 2.54022213e-05, 9.73261903e-06,\n",
       "         2.60710907e-05, 6.12140062e-05, 1.09997558e-05, 7.51064087e-05,\n",
       "         1.74077567e-05, 1.61939403e-05, 6.80240254e-05, 1.24343918e-05,\n",
       "         8.86327281e-06, 2.14971603e-05, 1.25033213e-05, 1.21186079e-05,\n",
       "         1.56646631e-05, 1.51228813e-05]),\n",
       "  'param_criterion': masked_array(data=['gini', 'gini', 'gini', 'gini', 'gini', 'gini', 'gini',\n",
       "                     'gini', 'gini', 'gini', 'gini', 'gini', 'gini', 'gini',\n",
       "                     'gini', 'gini', 'gini', 'gini', 'gini', 'gini', 'gini',\n",
       "                     'gini', 'gini', 'gini', 'gini', 'gini', 'gini',\n",
       "                     'entropy', 'entropy', 'entropy', 'entropy', 'entropy',\n",
       "                     'entropy', 'entropy', 'entropy', 'entropy', 'entropy',\n",
       "                     'entropy', 'entropy', 'entropy', 'entropy', 'entropy',\n",
       "                     'entropy', 'entropy', 'entropy', 'entropy', 'entropy',\n",
       "                     'entropy', 'entropy', 'entropy', 'entropy', 'entropy',\n",
       "                     'entropy', 'entropy'],\n",
       "               mask=[False, False, False, False, False, False, False, False,\n",
       "                     False, False, False, False, False, False, False, False,\n",
       "                     False, False, False, False, False, False, False, False,\n",
       "                     False, False, False, False, False, False, False, False,\n",
       "                     False, False, False, False, False, False, False, False,\n",
       "                     False, False, False, False, False, False, False, False,\n",
       "                     False, False, False, False, False, False],\n",
       "         fill_value='?',\n",
       "              dtype=object),\n",
       "  'param_max_depth': masked_array(data=[2, 2, 2, 2, 2, 2, 2, 2, 2, 3, 3, 3, 3, 3, 3, 3, 3, 3,\n",
       "                     4, 4, 4, 4, 4, 4, 4, 4, 4, 2, 2, 2, 2, 2, 2, 2, 2, 2,\n",
       "                     3, 3, 3, 3, 3, 3, 3, 3, 3, 4, 4, 4, 4, 4, 4, 4, 4, 4],\n",
       "               mask=[False, False, False, False, False, False, False, False,\n",
       "                     False, False, False, False, False, False, False, False,\n",
       "                     False, False, False, False, False, False, False, False,\n",
       "                     False, False, False, False, False, False, False, False,\n",
       "                     False, False, False, False, False, False, False, False,\n",
       "                     False, False, False, False, False, False, False, False,\n",
       "                     False, False, False, False, False, False],\n",
       "         fill_value='?',\n",
       "              dtype=object),\n",
       "  'param_min_samples_leaf': masked_array(data=[2, 4, 6, 8, 10, 12, 14, 16, 18, 2, 4, 6, 8, 10, 12, 14,\n",
       "                     16, 18, 2, 4, 6, 8, 10, 12, 14, 16, 18, 2, 4, 6, 8, 10,\n",
       "                     12, 14, 16, 18, 2, 4, 6, 8, 10, 12, 14, 16, 18, 2, 4,\n",
       "                     6, 8, 10, 12, 14, 16, 18],\n",
       "               mask=[False, False, False, False, False, False, False, False,\n",
       "                     False, False, False, False, False, False, False, False,\n",
       "                     False, False, False, False, False, False, False, False,\n",
       "                     False, False, False, False, False, False, False, False,\n",
       "                     False, False, False, False, False, False, False, False,\n",
       "                     False, False, False, False, False, False, False, False,\n",
       "                     False, False, False, False, False, False],\n",
       "         fill_value='?',\n",
       "              dtype=object),\n",
       "  'params': [{'criterion': 'gini', 'max_depth': 2, 'min_samples_leaf': 2},\n",
       "   {'criterion': 'gini', 'max_depth': 2, 'min_samples_leaf': 4},\n",
       "   {'criterion': 'gini', 'max_depth': 2, 'min_samples_leaf': 6},\n",
       "   {'criterion': 'gini', 'max_depth': 2, 'min_samples_leaf': 8},\n",
       "   {'criterion': 'gini', 'max_depth': 2, 'min_samples_leaf': 10},\n",
       "   {'criterion': 'gini', 'max_depth': 2, 'min_samples_leaf': 12},\n",
       "   {'criterion': 'gini', 'max_depth': 2, 'min_samples_leaf': 14},\n",
       "   {'criterion': 'gini', 'max_depth': 2, 'min_samples_leaf': 16},\n",
       "   {'criterion': 'gini', 'max_depth': 2, 'min_samples_leaf': 18},\n",
       "   {'criterion': 'gini', 'max_depth': 3, 'min_samples_leaf': 2},\n",
       "   {'criterion': 'gini', 'max_depth': 3, 'min_samples_leaf': 4},\n",
       "   {'criterion': 'gini', 'max_depth': 3, 'min_samples_leaf': 6},\n",
       "   {'criterion': 'gini', 'max_depth': 3, 'min_samples_leaf': 8},\n",
       "   {'criterion': 'gini', 'max_depth': 3, 'min_samples_leaf': 10},\n",
       "   {'criterion': 'gini', 'max_depth': 3, 'min_samples_leaf': 12},\n",
       "   {'criterion': 'gini', 'max_depth': 3, 'min_samples_leaf': 14},\n",
       "   {'criterion': 'gini', 'max_depth': 3, 'min_samples_leaf': 16},\n",
       "   {'criterion': 'gini', 'max_depth': 3, 'min_samples_leaf': 18},\n",
       "   {'criterion': 'gini', 'max_depth': 4, 'min_samples_leaf': 2},\n",
       "   {'criterion': 'gini', 'max_depth': 4, 'min_samples_leaf': 4},\n",
       "   {'criterion': 'gini', 'max_depth': 4, 'min_samples_leaf': 6},\n",
       "   {'criterion': 'gini', 'max_depth': 4, 'min_samples_leaf': 8},\n",
       "   {'criterion': 'gini', 'max_depth': 4, 'min_samples_leaf': 10},\n",
       "   {'criterion': 'gini', 'max_depth': 4, 'min_samples_leaf': 12},\n",
       "   {'criterion': 'gini', 'max_depth': 4, 'min_samples_leaf': 14},\n",
       "   {'criterion': 'gini', 'max_depth': 4, 'min_samples_leaf': 16},\n",
       "   {'criterion': 'gini', 'max_depth': 4, 'min_samples_leaf': 18},\n",
       "   {'criterion': 'entropy', 'max_depth': 2, 'min_samples_leaf': 2},\n",
       "   {'criterion': 'entropy', 'max_depth': 2, 'min_samples_leaf': 4},\n",
       "   {'criterion': 'entropy', 'max_depth': 2, 'min_samples_leaf': 6},\n",
       "   {'criterion': 'entropy', 'max_depth': 2, 'min_samples_leaf': 8},\n",
       "   {'criterion': 'entropy', 'max_depth': 2, 'min_samples_leaf': 10},\n",
       "   {'criterion': 'entropy', 'max_depth': 2, 'min_samples_leaf': 12},\n",
       "   {'criterion': 'entropy', 'max_depth': 2, 'min_samples_leaf': 14},\n",
       "   {'criterion': 'entropy', 'max_depth': 2, 'min_samples_leaf': 16},\n",
       "   {'criterion': 'entropy', 'max_depth': 2, 'min_samples_leaf': 18},\n",
       "   {'criterion': 'entropy', 'max_depth': 3, 'min_samples_leaf': 2},\n",
       "   {'criterion': 'entropy', 'max_depth': 3, 'min_samples_leaf': 4},\n",
       "   {'criterion': 'entropy', 'max_depth': 3, 'min_samples_leaf': 6},\n",
       "   {'criterion': 'entropy', 'max_depth': 3, 'min_samples_leaf': 8},\n",
       "   {'criterion': 'entropy', 'max_depth': 3, 'min_samples_leaf': 10},\n",
       "   {'criterion': 'entropy', 'max_depth': 3, 'min_samples_leaf': 12},\n",
       "   {'criterion': 'entropy', 'max_depth': 3, 'min_samples_leaf': 14},\n",
       "   {'criterion': 'entropy', 'max_depth': 3, 'min_samples_leaf': 16},\n",
       "   {'criterion': 'entropy', 'max_depth': 3, 'min_samples_leaf': 18},\n",
       "   {'criterion': 'entropy', 'max_depth': 4, 'min_samples_leaf': 2},\n",
       "   {'criterion': 'entropy', 'max_depth': 4, 'min_samples_leaf': 4},\n",
       "   {'criterion': 'entropy', 'max_depth': 4, 'min_samples_leaf': 6},\n",
       "   {'criterion': 'entropy', 'max_depth': 4, 'min_samples_leaf': 8},\n",
       "   {'criterion': 'entropy', 'max_depth': 4, 'min_samples_leaf': 10},\n",
       "   {'criterion': 'entropy', 'max_depth': 4, 'min_samples_leaf': 12},\n",
       "   {'criterion': 'entropy', 'max_depth': 4, 'min_samples_leaf': 14},\n",
       "   {'criterion': 'entropy', 'max_depth': 4, 'min_samples_leaf': 16},\n",
       "   {'criterion': 'entropy', 'max_depth': 4, 'min_samples_leaf': 18}],\n",
       "  'split0_test_score': array([0.875     , 0.875     , 0.875     , 0.875     , 0.875     ,\n",
       "         0.875     , 0.875     , 0.875     , 0.875     , 0.91666667,\n",
       "         0.91666667, 0.875     , 0.875     , 0.875     , 0.875     ,\n",
       "         0.875     , 0.875     , 0.875     , 0.91666667, 0.91666667,\n",
       "         0.875     , 0.875     , 0.875     , 0.875     , 0.875     ,\n",
       "         0.875     , 0.875     , 0.875     , 0.875     , 0.875     ,\n",
       "         0.875     , 0.875     , 0.875     , 0.875     , 0.875     ,\n",
       "         0.875     , 0.91666667, 0.91666667, 0.875     , 0.875     ,\n",
       "         0.875     , 0.875     , 0.875     , 0.875     , 0.875     ,\n",
       "         0.875     , 0.91666667, 0.875     , 0.875     , 0.875     ,\n",
       "         0.875     , 0.875     , 0.875     , 0.875     ]),\n",
       "  'split1_test_score': array([0.875     , 0.875     , 0.875     , 0.875     , 0.875     ,\n",
       "         0.875     , 0.875     , 0.875     , 0.875     , 0.91666667,\n",
       "         0.91666667, 0.875     , 0.875     , 0.875     , 0.875     ,\n",
       "         0.875     , 0.875     , 0.875     , 0.875     , 0.91666667,\n",
       "         0.875     , 0.875     , 0.875     , 0.875     , 0.875     ,\n",
       "         0.875     , 0.875     , 0.875     , 0.875     , 0.875     ,\n",
       "         0.875     , 0.875     , 0.875     , 0.875     , 0.875     ,\n",
       "         0.875     , 0.91666667, 0.91666667, 0.875     , 0.875     ,\n",
       "         0.875     , 0.875     , 0.875     , 0.875     , 0.875     ,\n",
       "         0.875     , 0.91666667, 0.875     , 0.875     , 0.875     ,\n",
       "         0.875     , 0.875     , 0.875     , 0.875     ]),\n",
       "  'split2_test_score': array([0.95833333, 0.95833333, 0.95833333, 0.95833333, 0.95833333,\n",
       "         0.95833333, 0.95833333, 0.95833333, 0.95833333, 0.95833333,\n",
       "         0.95833333, 0.95833333, 0.95833333, 0.95833333, 0.95833333,\n",
       "         0.95833333, 0.95833333, 0.95833333, 0.95833333, 0.95833333,\n",
       "         0.95833333, 0.95833333, 0.95833333, 0.95833333, 0.95833333,\n",
       "         0.95833333, 0.95833333, 0.95833333, 0.95833333, 0.95833333,\n",
       "         0.95833333, 0.95833333, 0.95833333, 0.95833333, 0.95833333,\n",
       "         0.95833333, 0.95833333, 0.95833333, 0.95833333, 0.95833333,\n",
       "         0.95833333, 0.95833333, 0.95833333, 0.95833333, 0.95833333,\n",
       "         0.95833333, 0.95833333, 0.95833333, 0.95833333, 0.95833333,\n",
       "         0.95833333, 0.95833333, 0.95833333, 0.95833333]),\n",
       "  'split3_test_score': array([0.95833333, 0.95833333, 0.95833333, 0.95833333, 0.95833333,\n",
       "         0.95833333, 0.95833333, 0.95833333, 0.95833333, 0.95833333,\n",
       "         0.95833333, 0.95833333, 0.95833333, 0.95833333, 0.95833333,\n",
       "         0.95833333, 0.95833333, 0.95833333, 0.95833333, 0.95833333,\n",
       "         0.95833333, 0.95833333, 0.95833333, 0.95833333, 0.95833333,\n",
       "         0.95833333, 0.95833333, 0.95833333, 0.95833333, 0.95833333,\n",
       "         0.95833333, 0.95833333, 0.95833333, 0.95833333, 0.95833333,\n",
       "         0.95833333, 0.95833333, 0.95833333, 0.95833333, 0.95833333,\n",
       "         0.95833333, 0.95833333, 0.95833333, 0.95833333, 0.95833333,\n",
       "         0.95833333, 0.95833333, 0.95833333, 0.95833333, 0.95833333,\n",
       "         0.95833333, 0.95833333, 0.95833333, 0.95833333]),\n",
       "  'split4_test_score': array([0.95833333, 0.95833333, 0.95833333, 0.95833333, 0.95833333,\n",
       "         0.95833333, 0.95833333, 0.95833333, 0.95833333, 0.95833333,\n",
       "         0.95833333, 0.95833333, 0.95833333, 0.95833333, 0.95833333,\n",
       "         0.95833333, 0.95833333, 0.95833333, 0.95833333, 0.95833333,\n",
       "         0.95833333, 0.95833333, 0.95833333, 0.95833333, 0.95833333,\n",
       "         0.95833333, 0.95833333, 0.95833333, 0.95833333, 0.95833333,\n",
       "         0.95833333, 0.95833333, 0.95833333, 0.95833333, 0.95833333,\n",
       "         0.95833333, 0.95833333, 0.95833333, 0.95833333, 0.95833333,\n",
       "         0.95833333, 0.95833333, 0.95833333, 0.95833333, 0.95833333,\n",
       "         0.95833333, 0.95833333, 0.95833333, 0.95833333, 0.95833333,\n",
       "         0.95833333, 0.95833333, 0.95833333, 0.95833333]),\n",
       "  'mean_test_score': array([0.925     , 0.925     , 0.925     , 0.925     , 0.925     ,\n",
       "         0.925     , 0.925     , 0.925     , 0.925     , 0.94166667,\n",
       "         0.94166667, 0.925     , 0.925     , 0.925     , 0.925     ,\n",
       "         0.925     , 0.925     , 0.925     , 0.93333333, 0.94166667,\n",
       "         0.925     , 0.925     , 0.925     , 0.925     , 0.925     ,\n",
       "         0.925     , 0.925     , 0.925     , 0.925     , 0.925     ,\n",
       "         0.925     , 0.925     , 0.925     , 0.925     , 0.925     ,\n",
       "         0.925     , 0.94166667, 0.94166667, 0.925     , 0.925     ,\n",
       "         0.925     , 0.925     , 0.925     , 0.925     , 0.925     ,\n",
       "         0.925     , 0.94166667, 0.925     , 0.925     , 0.925     ,\n",
       "         0.925     , 0.925     , 0.925     , 0.925     ]),\n",
       "  'std_test_score': array([0.04082483, 0.04082483, 0.04082483, 0.04082483, 0.04082483,\n",
       "         0.04082483, 0.04082483, 0.04082483, 0.04082483, 0.02041241,\n",
       "         0.02041241, 0.04082483, 0.04082483, 0.04082483, 0.04082483,\n",
       "         0.04082483, 0.04082483, 0.04082483, 0.03333333, 0.02041241,\n",
       "         0.04082483, 0.04082483, 0.04082483, 0.04082483, 0.04082483,\n",
       "         0.04082483, 0.04082483, 0.04082483, 0.04082483, 0.04082483,\n",
       "         0.04082483, 0.04082483, 0.04082483, 0.04082483, 0.04082483,\n",
       "         0.04082483, 0.02041241, 0.02041241, 0.04082483, 0.04082483,\n",
       "         0.04082483, 0.04082483, 0.04082483, 0.04082483, 0.04082483,\n",
       "         0.04082483, 0.02041241, 0.04082483, 0.04082483, 0.04082483,\n",
       "         0.04082483, 0.04082483, 0.04082483, 0.04082483]),\n",
       "  'rank_test_score': array([8, 8, 8, 8, 8, 8, 8, 8, 8, 1, 1, 8, 8, 8, 8, 8, 8, 8, 7, 1, 8, 8,\n",
       "         8, 8, 8, 8, 8, 8, 8, 8, 8, 8, 8, 8, 8, 8, 1, 1, 8, 8, 8, 8, 8, 8,\n",
       "         8, 8, 1, 8, 8, 8, 8, 8, 8, 8], dtype=int32)},\n",
       " 'n_splits_': 5}"
      ]
     },
     "execution_count": 17,
     "metadata": {},
     "output_type": "execute_result"
    }
   ],
   "source": [
    "dt_opt.__dict__"
   ]
  },
  {
   "cell_type": "markdown",
   "id": "1ffa2942",
   "metadata": {},
   "source": [
    "This doesn't have attributes yet, even though they are the same type, because we have not fit it tot data yet."
   ]
  },
  {
   "cell_type": "code",
   "execution_count": 18,
   "id": "ac35e788",
   "metadata": {},
   "outputs": [
    {
     "data": {
      "text/plain": [
       "(sklearn.model_selection._search.GridSearchCV,\n",
       " sklearn.model_selection._search.GridSearchCV)"
      ]
     },
     "execution_count": 18,
     "metadata": {},
     "output_type": "execute_result"
    }
   ],
   "source": [
    "type(svm_opt), type(dt_opt)"
   ]
  },
  {
   "cell_type": "markdown",
   "id": "8a3fd486",
   "metadata": {},
   "source": [
    "Now we can fit the model to the training data of this second model."
   ]
  },
  {
   "cell_type": "code",
   "execution_count": 19,
   "id": "955eecee",
   "metadata": {},
   "outputs": [],
   "source": [
    "# fit the model and  put the CV results in a dataframe\n",
    "svm_opt.fit(iris_X_train,iris_y_train)\n",
    "sv_df = pd.DataFrame(svm_opt.cv_results_)"
   ]
  },
  {
   "cell_type": "code",
   "execution_count": 20,
   "id": "3af7eaf8",
   "metadata": {},
   "outputs": [
    {
     "data": {
      "text/html": [
       "<div>\n",
       "<style scoped>\n",
       "    .dataframe tbody tr th:only-of-type {\n",
       "        vertical-align: middle;\n",
       "    }\n",
       "\n",
       "    .dataframe tbody tr th {\n",
       "        vertical-align: top;\n",
       "    }\n",
       "\n",
       "    .dataframe thead th {\n",
       "        text-align: right;\n",
       "    }\n",
       "</style>\n",
       "<table border=\"1\" class=\"dataframe\">\n",
       "  <thead>\n",
       "    <tr style=\"text-align: right;\">\n",
       "      <th></th>\n",
       "      <th>mean_fit_time</th>\n",
       "      <th>std_fit_time</th>\n",
       "      <th>mean_score_time</th>\n",
       "      <th>std_score_time</th>\n",
       "      <th>param_C</th>\n",
       "      <th>param_kernel</th>\n",
       "      <th>params</th>\n",
       "      <th>split0_test_score</th>\n",
       "      <th>split1_test_score</th>\n",
       "      <th>split2_test_score</th>\n",
       "      <th>split3_test_score</th>\n",
       "      <th>split4_test_score</th>\n",
       "      <th>split5_test_score</th>\n",
       "      <th>split6_test_score</th>\n",
       "      <th>split7_test_score</th>\n",
       "      <th>split8_test_score</th>\n",
       "      <th>split9_test_score</th>\n",
       "      <th>mean_test_score</th>\n",
       "      <th>std_test_score</th>\n",
       "      <th>rank_test_score</th>\n",
       "    </tr>\n",
       "  </thead>\n",
       "  <tbody>\n",
       "    <tr>\n",
       "      <th>0</th>\n",
       "      <td>0.000986</td>\n",
       "      <td>0.000219</td>\n",
       "      <td>0.000451</td>\n",
       "      <td>0.000028</td>\n",
       "      <td>0.5</td>\n",
       "      <td>linear</td>\n",
       "      <td>{'C': 0.5, 'kernel': 'linear'}</td>\n",
       "      <td>1.000000</td>\n",
       "      <td>1.000000</td>\n",
       "      <td>1.000000</td>\n",
       "      <td>0.916667</td>\n",
       "      <td>0.916667</td>\n",
       "      <td>1.0</td>\n",
       "      <td>1.0</td>\n",
       "      <td>0.916667</td>\n",
       "      <td>1.0</td>\n",
       "      <td>1.0</td>\n",
       "      <td>0.975000</td>\n",
       "      <td>0.038188</td>\n",
       "      <td>1</td>\n",
       "    </tr>\n",
       "    <tr>\n",
       "      <th>1</th>\n",
       "      <td>0.001021</td>\n",
       "      <td>0.000043</td>\n",
       "      <td>0.000482</td>\n",
       "      <td>0.000021</td>\n",
       "      <td>0.5</td>\n",
       "      <td>rbf</td>\n",
       "      <td>{'C': 0.5, 'kernel': 'rbf'}</td>\n",
       "      <td>0.916667</td>\n",
       "      <td>0.916667</td>\n",
       "      <td>0.916667</td>\n",
       "      <td>1.000000</td>\n",
       "      <td>0.916667</td>\n",
       "      <td>1.0</td>\n",
       "      <td>1.0</td>\n",
       "      <td>1.000000</td>\n",
       "      <td>1.0</td>\n",
       "      <td>1.0</td>\n",
       "      <td>0.966667</td>\n",
       "      <td>0.040825</td>\n",
       "      <td>9</td>\n",
       "    </tr>\n",
       "  </tbody>\n",
       "</table>\n",
       "</div>"
      ],
      "text/plain": [
       "   mean_fit_time  std_fit_time  mean_score_time  std_score_time param_C  \\\n",
       "0       0.000986      0.000219         0.000451        0.000028     0.5   \n",
       "1       0.001021      0.000043         0.000482        0.000021     0.5   \n",
       "\n",
       "  param_kernel                          params  split0_test_score  \\\n",
       "0       linear  {'C': 0.5, 'kernel': 'linear'}           1.000000   \n",
       "1          rbf     {'C': 0.5, 'kernel': 'rbf'}           0.916667   \n",
       "\n",
       "   split1_test_score  split2_test_score  split3_test_score  split4_test_score  \\\n",
       "0           1.000000           1.000000           0.916667           0.916667   \n",
       "1           0.916667           0.916667           1.000000           0.916667   \n",
       "\n",
       "   split5_test_score  split6_test_score  split7_test_score  split8_test_score  \\\n",
       "0                1.0                1.0           0.916667                1.0   \n",
       "1                1.0                1.0           1.000000                1.0   \n",
       "\n",
       "   split9_test_score  mean_test_score  std_test_score  rank_test_score  \n",
       "0                1.0         0.975000        0.038188                1  \n",
       "1                1.0         0.966667        0.040825                9  "
      ]
     },
     "execution_count": 20,
     "metadata": {},
     "output_type": "execute_result"
    }
   ],
   "source": [
    "sv_df.head(2)"
   ]
  },
  {
   "cell_type": "code",
   "execution_count": 21,
   "id": "74f65aae",
   "metadata": {},
   "outputs": [
    {
     "data": {
      "text/plain": [
       "<ErrorbarContainer object of 3 artists>"
      ]
     },
     "execution_count": 21,
     "metadata": {},
     "output_type": "execute_result"
    },
    {
     "data": {
      "image/png": "[encoded data removed]",
      "text/plain": [
       "<Figure size 432x288 with 1 Axes>"
      ]
     },
     "metadata": {
      "filenames": {
       "image/png": "/home/runner/work/BrownFall21/BrownFall21/_build/jupyter_execute/notes/2021-11-15_35_1.png"
      }
     },
     "output_type": "display_data"
    }
   ],
   "source": [
    "plt.errorbar(x=sv_df['mean_fit_time'],xerr=sv_df['std_fit_time'],\n",
    "            y=sv_df['mean_score_time'],yerr=sv_df['std_score_time'])"
   ]
  },
  {
   "cell_type": "code",
   "execution_count": 22,
   "id": "c1504cd0",
   "metadata": {},
   "outputs": [
    {
     "data": {
      "text/plain": [
       "Index(['mean_fit_time', 'std_fit_time', 'mean_score_time', 'std_score_time',\n",
       "       'param_C', 'param_kernel', 'params', 'split0_test_score',\n",
       "       'split1_test_score', 'split2_test_score', 'split3_test_score',\n",
       "       'split4_test_score', 'split5_test_score', 'split6_test_score',\n",
       "       'split7_test_score', 'split8_test_score', 'split9_test_score',\n",
       "       'mean_test_score', 'std_test_score', 'rank_test_score'],\n",
       "      dtype='object')"
      ]
     },
     "execution_count": 22,
     "metadata": {},
     "output_type": "execute_result"
    }
   ],
   "source": [
    "sv_df.columns"
   ]
  },
  {
   "cell_type": "markdown",
   "id": "7f26faa7",
   "metadata": {},
   "source": [
    "We can see if the models that take longer to fit or score perform better."
   ]
  },
  {
   "cell_type": "code",
   "execution_count": 23,
   "id": "a6014d49",
   "metadata": {},
   "outputs": [
    {
     "data": {
      "text/plain": [
       "<seaborn.axisgrid.FacetGrid at 0x7f489a3c2d50>"
      ]
     },
     "execution_count": 23,
     "metadata": {},
     "output_type": "execute_result"
    },
    {
     "data": {
      "image/png": "[encoded data removed]",
      "text/plain": [
       "<Figure size 451.3x360 with 1 Axes>"
      ]
     },
     "metadata": {
      "filenames": {
       "image/png": "/home/runner/work/BrownFall21/BrownFall21/_build/jupyter_execute/notes/2021-11-15_38_1.png"
      }
     },
     "output_type": "display_data"
    }
   ],
   "source": [
    "svm_time = sv_df.melt(id_vars=['param_C', 'param_kernel', 'params',],\n",
    "                      value_vars=['mean_fit_time', 'std_fit_time', 'mean_score_time', 'std_score_time'])\n",
    "sns.lmplot(data=sv_df, x='mean_fit_time',y='mean_test_score',\n",
    "          hue='param_kernel',fit_reg=False)"
   ]
  },
  {
   "cell_type": "markdown",
   "id": "21118e63",
   "metadata": {},
   "source": [
    "This looks like mostly no."
   ]
  },
  {
   "cell_type": "code",
   "execution_count": 24,
   "id": "9d2921f0",
   "metadata": {},
   "outputs": [
    {
     "data": {
      "text/plain": [
       "<seaborn.axisgrid.FacetGrid at 0x7f489a7d7ed0>"
      ]
     },
     "execution_count": 24,
     "metadata": {},
     "output_type": "execute_result"
    },
    {
     "data": {
      "image/png": "[encoded data removed]",
      "text/plain": [
       "<Figure size 451.3x360 with 1 Axes>"
      ]
     },
     "metadata": {
      "filenames": {
       "image/png": "/home/runner/work/BrownFall21/BrownFall21/_build/jupyter_execute/notes/2021-11-15_40_1.png"
      }
     },
     "output_type": "display_data"
    }
   ],
   "source": [
    "sns.lmplot(data=sv_df, x='mean_score_time',y='mean_test_score',\n",
    "          hue='param_kernel',fit_reg=False)"
   ]
  },
  {
   "cell_type": "markdown",
   "id": "41a46ca7",
   "metadata": {},
   "source": [
    "Again, for score time, the slower models don't appear to be better.  Remember though the time differences weren't that different. \n",
    "\n",
    "```{admonition} Try it yourself\n",
    "Try this same analysis for the decision tree, does it matter there?\n",
    "```"
   ]
  },
  {
   "cell_type": "code",
   "execution_count": 25,
   "id": "130265f2",
   "metadata": {},
   "outputs": [
    {
     "data": {
      "text/html": [
       "<div>\n",
       "<style scoped>\n",
       "    .dataframe tbody tr th:only-of-type {\n",
       "        vertical-align: middle;\n",
       "    }\n",
       "\n",
       "    .dataframe tbody tr th {\n",
       "        vertical-align: top;\n",
       "    }\n",
       "\n",
       "    .dataframe thead th {\n",
       "        text-align: right;\n",
       "    }\n",
       "</style>\n",
       "<table border=\"1\" class=\"dataframe\">\n",
       "  <thead>\n",
       "    <tr style=\"text-align: right;\">\n",
       "      <th></th>\n",
       "      <th>param_C</th>\n",
       "      <th>param_kernel</th>\n",
       "      <th>params</th>\n",
       "      <th>variable</th>\n",
       "      <th>score</th>\n",
       "    </tr>\n",
       "  </thead>\n",
       "  <tbody>\n",
       "    <tr>\n",
       "      <th>0</th>\n",
       "      <td>0.5</td>\n",
       "      <td>linear</td>\n",
       "      <td>{'C': 0.5, 'kernel': 'linear'}</td>\n",
       "      <td>split0_test_score</td>\n",
       "      <td>1.000000</td>\n",
       "    </tr>\n",
       "    <tr>\n",
       "      <th>1</th>\n",
       "      <td>0.5</td>\n",
       "      <td>rbf</td>\n",
       "      <td>{'C': 0.5, 'kernel': 'rbf'}</td>\n",
       "      <td>split0_test_score</td>\n",
       "      <td>0.916667</td>\n",
       "    </tr>\n",
       "    <tr>\n",
       "      <th>2</th>\n",
       "      <td>0.75</td>\n",
       "      <td>linear</td>\n",
       "      <td>{'C': 0.75, 'kernel': 'linear'}</td>\n",
       "      <td>split0_test_score</td>\n",
       "      <td>1.000000</td>\n",
       "    </tr>\n",
       "    <tr>\n",
       "      <th>3</th>\n",
       "      <td>0.75</td>\n",
       "      <td>rbf</td>\n",
       "      <td>{'C': 0.75, 'kernel': 'rbf'}</td>\n",
       "      <td>split0_test_score</td>\n",
       "      <td>0.916667</td>\n",
       "    </tr>\n",
       "    <tr>\n",
       "      <th>4</th>\n",
       "      <td>1</td>\n",
       "      <td>linear</td>\n",
       "      <td>{'C': 1, 'kernel': 'linear'}</td>\n",
       "      <td>split0_test_score</td>\n",
       "      <td>1.000000</td>\n",
       "    </tr>\n",
       "  </tbody>\n",
       "</table>\n",
       "</div>"
      ],
      "text/plain": [
       "  param_C param_kernel                           params           variable  \\\n",
       "0     0.5       linear   {'C': 0.5, 'kernel': 'linear'}  split0_test_score   \n",
       "1     0.5          rbf      {'C': 0.5, 'kernel': 'rbf'}  split0_test_score   \n",
       "2    0.75       linear  {'C': 0.75, 'kernel': 'linear'}  split0_test_score   \n",
       "3    0.75          rbf     {'C': 0.75, 'kernel': 'rbf'}  split0_test_score   \n",
       "4       1       linear     {'C': 1, 'kernel': 'linear'}  split0_test_score   \n",
       "\n",
       "      score  \n",
       "0  1.000000  \n",
       "1  0.916667  \n",
       "2  1.000000  \n",
       "3  0.916667  \n",
       "4  1.000000  "
      ]
     },
     "execution_count": 25,
     "metadata": {},
     "output_type": "execute_result"
    }
   ],
   "source": [
    "sv_df_scores = sv_df.melt(id_vars=['param_C', 'param_kernel', 'params',],\n",
    "                    value_vars=['split0_test_score',\n",
    "       'split1_test_score', 'split2_test_score', 'split3_test_score',\n",
    "       'split4_test_score'], value_name='score')\n",
    "sv_df_scores.head()"
   ]
  },
  {
   "cell_type": "code",
   "execution_count": 26,
   "id": "d8aa4be8",
   "metadata": {},
   "outputs": [
    {
     "data": {
      "text/plain": [
       "<seaborn.axisgrid.FacetGrid at 0x7f489a35c090>"
      ]
     },
     "execution_count": 26,
     "metadata": {},
     "output_type": "execute_result"
    },
    {
     "data": {
      "image/png": "[encoded data removed]",
      "text/plain": [
       "<Figure size 720x360 with 2 Axes>"
      ]
     },
     "metadata": {
      "filenames": {
       "image/png": "/home/runner/work/BrownFall21/BrownFall21/_build/jupyter_execute/notes/2021-11-15_43_1.png"
      }
     },
     "output_type": "display_data"
    }
   ],
   "source": [
    "sns.catplot(data=sv_df_scores,x='param_C',y='score',\n",
    "            col='param_kernel')"
   ]
  },
  {
   "cell_type": "markdown",
   "id": "1d7b386b",
   "metadata": {},
   "source": [
    "```{admonition} Try it yourself\n",
    "Try interpretting the plot above, what does it say? what can you conclude from it. \n",
    "```"
   ]
  },
  {
   "cell_type": "code",
   "execution_count": 27,
   "id": "24606eaf",
   "metadata": {},
   "outputs": [
    {
     "data": {
      "text/plain": [
       "<AxesSubplot:>"
      ]
     },
     "execution_count": 27,
     "metadata": {},
     "output_type": "execute_result"
    },
    {
     "data": {
      "image/png": "[encoded data removed]",
      "text/plain": [
       "<Figure size 432x288 with 1 Axes>"
      ]
     },
     "metadata": {
      "filenames": {
       "image/png": "/home/runner/work/BrownFall21/BrownFall21/_build/jupyter_execute/notes/2021-11-15_45_1.png"
      }
     },
     "output_type": "display_data"
    }
   ],
   "source": [
    "dt_df['mean_test_score'].plot(kind='bar')"
   ]
  },
  {
   "cell_type": "code",
   "execution_count": 28,
   "id": "f2c38cc9",
   "metadata": {},
   "outputs": [
    {
     "data": {
      "text/plain": [
       "<AxesSubplot:>"
      ]
     },
     "execution_count": 28,
     "metadata": {},
     "output_type": "execute_result"
    },
    {
     "data": {
      "image/png": "[encoded data removed]",
      "text/plain": [
       "<Figure size 432x288 with 1 Axes>"
      ]
     },
     "metadata": {
      "filenames": {
       "image/png": "/home/runner/work/BrownFall21/BrownFall21/_build/jupyter_execute/notes/2021-11-15_46_1.png"
      }
     },
     "output_type": "display_data"
    }
   ],
   "source": [
    "sv_df['mean_test_score'].plot(kind='bar')"
   ]
  },
  {
   "cell_type": "markdown",
   "id": "274232e1",
   "metadata": {},
   "source": [
    "From these last two plots we see that the SVM performance is more sensitive to its parameters, where for the parameters tested, the decision tree is not impacted. \n",
    "\n",
    "What can we say based on this?  We'll pick up from here on Wednesday."
   ]
  }
 ],
 "metadata": {
  "jupytext": {
   "text_representation": {
    "extension": ".md",
    "format_name": "myst",
    "format_version": 0.13,
    "jupytext_version": "1.10.3"
   }
  },
  "kernelspec": {
   "display_name": "Python 3",
   "language": "python",
   "name": "python3"
  },
  "language_info": {
   "codemirror_mode": {
    "name": "ipython",
    "version": 3
   },
   "file_extension": ".py",
   "mimetype": "text/x-python",
   "name": "python",
   "nbconvert_exporter": "python",
   "pygments_lexer": "ipython3",
   "version": "3.7.12"
  },
  "source_map": [
   12,
   16,
   20,
   32,
   36,
   38,
   42,
   45,
   49,
   53,
   59,
   61,
   65,
   67,
   71,
   73,
   77,
   80,
   88,
   96,
   104,
   112,
   116,
   120,
   122,
   126,
   130,
   134,
   140,
   144,
   146,
   150,
   152,
   156,
   162,
   166,
   171,
   173,
   177,
   182,
   186,
   189,
   197,
   206,
   209,
   215,
   219,
   221
  ]
 },
 "nbformat": 4,
 "nbformat_minor": 5
}