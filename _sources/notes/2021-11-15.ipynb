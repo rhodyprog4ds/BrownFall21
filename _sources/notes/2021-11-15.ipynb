{
 "cells": [
  {
   "cell_type": "markdown",
   "id": "837eef82",
   "metadata": {},
   "source": [
    "# Model Comparison"
   ]
  },
  {
   "cell_type": "markdown",
   "id": "8364adca",
   "metadata": {},
   "source": [
    "To compare models, we will first optimize the parameters of two diffrent models and look at how the different parameters settings impact the model comparison.  Later, we'll see how to compare across models of different classes."
   ]
  },
  {
   "cell_type": "code",
   "execution_count": 1,
   "id": "184d3287",
   "metadata": {},
   "outputs": [],
   "source": [
    "import matplotlib.pyplot as plt\n",
    "import numpy as np\n",
    "import seaborn as sns\n",
    "import pandas as pd\n",
    "from sklearn import datasets\n",
    "from sklearn import cluster\n",
    "from sklearn import svm\n",
    "from sklearn import tree\n",
    "# import the whole model selection module\n",
    "from sklearn import model_selection\n",
    "sns.set_theme(palette='colorblind')"
   ]
  },
  {
   "cell_type": "markdown",
   "id": "c129a7ec",
   "metadata": {},
   "source": [
    "We'll use the iris data again."
   ]
  },
  {
   "cell_type": "code",
   "execution_count": 2,
   "id": "43608e50",
   "metadata": {},
   "outputs": [],
   "source": [
    "iris_X, iris_y = datasets.load_iris(return_X_y=True)"
   ]
  },
  {
   "cell_type": "markdown",
   "id": "0a84fbfb",
   "metadata": {},
   "source": [
    "Remember, we need to split the data into training and test.  The cross validation step will hep us optimize the parameters, but we don't want *data leakage* where the model has seen the test data multiple times. So, we split the data here for train and test annd the cross validation splits the training data into train and \"test\" again, but this test is better termed validation."
   ]
  },
  {
   "cell_type": "code",
   "execution_count": 3,
   "id": "9381a485",
   "metadata": {},
   "outputs": [],
   "source": [
    "iris_X_train, iris_X_test, iris_y_train, iris_y_test = model_selection.train_test_split(\n",
    "    iris_X,iris_y, test_size =.2)"
   ]
  },
  {
   "cell_type": "markdown",
   "id": "70044f5b",
   "metadata": {},
   "source": [
    "Then we can make the object, the parameter grid dictionary and the Grid Search object.  We split these into separate cells, so that we can use the built in help to see more detail."
   ]
  },
  {
   "cell_type": "code",
   "execution_count": 4,
   "id": "9f4b95bb",
   "metadata": {},
   "outputs": [],
   "source": [
    "dt = tree.DecisionTreeClassifier()"
   ]
  },
  {
   "cell_type": "code",
   "execution_count": 5,
   "id": "9bfeeac7",
   "metadata": {},
   "outputs": [],
   "source": [
    "params_dt = {'criterion':['gini','entropy'],\n",
    "             'max_depth':[2,3,4],\n",
    "       'min_samples_leaf':list(range(2,20,2))}"
   ]
  },
  {
   "cell_type": "code",
   "execution_count": 6,
   "id": "c2caea0e",
   "metadata": {},
   "outputs": [],
   "source": [
    "dt_opt = model_selection.GridSearchCV(dt,params_dt)"
   ]
  },
  {
   "cell_type": "markdown",
   "id": "ec66d9f2",
   "metadata": {},
   "source": [
    "Then we fit the Grid search using the training data, and remember this actually resets the parameters and then cross validates multiple times."
   ]
  },
  {
   "cell_type": "code",
   "execution_count": 7,
   "id": "80c93bd8",
   "metadata": {},
   "outputs": [
    {
     "data": {
      "text/plain": [
       "GridSearchCV(estimator=DecisionTreeClassifier(),\n",
       "             param_grid={'criterion': ['gini', 'entropy'],\n",
       "                         'max_depth': [2, 3, 4],\n",
       "                         'min_samples_leaf': [2, 4, 6, 8, 10, 12, 14, 16, 18]})"
      ]
     },
     "execution_count": 7,
     "metadata": {},
     "output_type": "execute_result"
    }
   ],
   "source": [
    "dt_opt.fit(iris_X_train,iris_y_train)"
   ]
  },
  {
   "cell_type": "markdown",
   "id": "dba18ac0",
   "metadata": {},
   "source": [
    "adn look at the results"
   ]
  },
  {
   "cell_type": "code",
   "execution_count": 8,
   "id": "c89a179a",
   "metadata": {},
   "outputs": [
    {
     "data": {
      "text/plain": [
       "{'mean_fit_time': array([0.00044856, 0.00041223, 0.00041251, 0.00040708, 0.00039172,\n",
       "        0.00040069, 0.00039802, 0.00039625, 0.0003973 , 0.00042429,\n",
       "        0.00040908, 0.00039973, 0.00041971, 0.00041633, 0.00042367,\n",
       "        0.00040836, 0.00041084, 0.00039873, 0.00042415, 0.00042353,\n",
       "        0.00041637, 0.00042458, 0.00042138, 0.00040793, 0.0004024 ,\n",
       "        0.00039277, 0.00040212, 0.00041332, 0.00040441, 0.00041127,\n",
       "        0.00040874, 0.00041695, 0.00040383, 0.00041952, 0.00039492,\n",
       "        0.00040021, 0.00043707, 0.00042753, 0.00042248, 0.00042691,\n",
       "        0.00041318, 0.00043116, 0.00040874, 0.00041323, 0.00039697,\n",
       "        0.000457  , 0.00042539, 0.00044599, 0.00041399, 0.00043521,\n",
       "        0.00042253, 0.00042048, 0.00039983, 0.00040193]),\n",
       " 'std_fit_time': array([5.69237726e-05, 1.99543675e-05, 1.17744989e-05, 1.16397113e-05,\n",
       "        1.01746368e-05, 1.52204449e-05, 1.73024225e-05, 1.16459606e-05,\n",
       "        1.27936396e-05, 2.15130198e-05, 1.43348068e-05, 2.11898192e-05,\n",
       "        7.24353155e-06, 1.75993612e-05, 1.56406949e-05, 1.39138435e-05,\n",
       "        1.70654416e-05, 1.44321838e-05, 1.80140975e-05, 2.12685409e-05,\n",
       "        2.49794412e-05, 1.06125999e-05, 1.98209455e-05, 1.43194127e-05,\n",
       "        1.82799740e-05, 1.80365507e-05, 2.07002255e-05, 1.51785589e-05,\n",
       "        1.24356717e-05, 1.74238151e-05, 1.60946492e-05, 1.68630547e-05,\n",
       "        2.09956767e-05, 3.61876994e-05, 1.67210141e-05, 1.18497632e-05,\n",
       "        1.68306631e-05, 2.03461448e-05, 1.98028124e-05, 1.44542234e-05,\n",
       "        1.60376152e-05, 2.21421941e-05, 1.52741295e-05, 1.81826956e-05,\n",
       "        1.83777272e-05, 2.70490685e-05, 1.60130693e-05, 1.14803931e-05,\n",
       "        2.47296963e-05, 1.35932885e-05, 2.11354540e-05, 1.13669418e-05,\n",
       "        1.12578011e-05, 1.50286183e-05]),\n",
       " 'mean_score_time': array([0.00023527, 0.00021572, 0.00021844, 0.00021539, 0.00021544,\n",
       "        0.00021105, 0.00021405, 0.00021162, 0.00021296, 0.0002192 ,\n",
       "        0.00021577, 0.00021315, 0.00021358, 0.00021653, 0.00021749,\n",
       "        0.00022039, 0.00022225, 0.00021625, 0.00021372, 0.00021439,\n",
       "        0.00021148, 0.00021749, 0.00021553, 0.00021877, 0.00021195,\n",
       "        0.00021362, 0.00020828, 0.00021615, 0.00021062, 0.00021534,\n",
       "        0.000213  , 0.00021439, 0.0002151 , 0.00022922, 0.00021596,\n",
       "        0.00021315, 0.00021486, 0.00021687, 0.00021243, 0.00021725,\n",
       "        0.00021038, 0.00021634, 0.00021615, 0.00021391, 0.00020828,\n",
       "        0.00021749, 0.00021372, 0.00021348, 0.00021038, 0.00021272,\n",
       "        0.00021839, 0.00021863, 0.00021529, 0.00021062]),\n",
       " 'std_score_time': array([3.38837680e-05, 8.65351063e-06, 6.65251924e-06, 2.36311182e-06,\n",
       "        8.75564437e-06, 4.31636409e-06, 1.97412887e-06, 5.58042100e-06,\n",
       "        7.53100854e-06, 3.53181537e-06, 1.25789245e-05, 7.79887544e-06,\n",
       "        9.07169378e-06, 5.50617888e-06, 7.10375348e-06, 1.02310188e-05,\n",
       "        1.18428535e-05, 9.63871795e-06, 5.35375808e-06, 5.67095518e-06,\n",
       "        3.91761702e-06, 5.12106236e-06, 6.66378862e-06, 1.39131899e-05,\n",
       "        2.82905521e-06, 7.48953174e-06, 3.55107646e-06, 8.11127898e-06,\n",
       "        5.43594360e-06, 2.81858763e-06, 3.62396240e-06, 4.21778572e-06,\n",
       "        6.88596444e-06, 4.13947388e-05, 6.64396910e-06, 7.45911110e-06,\n",
       "        7.27766611e-06, 7.09446522e-06, 5.97665495e-06, 7.24792480e-06,\n",
       "        4.56520220e-06, 4.85016293e-06, 9.90238210e-06, 6.83625521e-06,\n",
       "        5.50452686e-06, 6.49514524e-06, 6.34498093e-06, 5.43803459e-06,\n",
       "        7.36647822e-06, 3.95631190e-06, 9.30138073e-06, 7.86998025e-06,\n",
       "        1.13001352e-05, 6.71917532e-06]),\n",
       " 'param_criterion': masked_array(data=['gini', 'gini', 'gini', 'gini', 'gini', 'gini', 'gini',\n",
       "                    'gini', 'gini', 'gini', 'gini', 'gini', 'gini', 'gini',\n",
       "                    'gini', 'gini', 'gini', 'gini', 'gini', 'gini', 'gini',\n",
       "                    'gini', 'gini', 'gini', 'gini', 'gini', 'gini',\n",
       "                    'entropy', 'entropy', 'entropy', 'entropy', 'entropy',\n",
       "                    'entropy', 'entropy', 'entropy', 'entropy', 'entropy',\n",
       "                    'entropy', 'entropy', 'entropy', 'entropy', 'entropy',\n",
       "                    'entropy', 'entropy', 'entropy', 'entropy', 'entropy',\n",
       "                    'entropy', 'entropy', 'entropy', 'entropy', 'entropy',\n",
       "                    'entropy', 'entropy'],\n",
       "              mask=[False, False, False, False, False, False, False, False,\n",
       "                    False, False, False, False, False, False, False, False,\n",
       "                    False, False, False, False, False, False, False, False,\n",
       "                    False, False, False, False, False, False, False, False,\n",
       "                    False, False, False, False, False, False, False, False,\n",
       "                    False, False, False, False, False, False, False, False,\n",
       "                    False, False, False, False, False, False],\n",
       "        fill_value='?',\n",
       "             dtype=object),\n",
       " 'param_max_depth': masked_array(data=[2, 2, 2, 2, 2, 2, 2, 2, 2, 3, 3, 3, 3, 3, 3, 3, 3, 3,\n",
       "                    4, 4, 4, 4, 4, 4, 4, 4, 4, 2, 2, 2, 2, 2, 2, 2, 2, 2,\n",
       "                    3, 3, 3, 3, 3, 3, 3, 3, 3, 4, 4, 4, 4, 4, 4, 4, 4, 4],\n",
       "              mask=[False, False, False, False, False, False, False, False,\n",
       "                    False, False, False, False, False, False, False, False,\n",
       "                    False, False, False, False, False, False, False, False,\n",
       "                    False, False, False, False, False, False, False, False,\n",
       "                    False, False, False, False, False, False, False, False,\n",
       "                    False, False, False, False, False, False, False, False,\n",
       "                    False, False, False, False, False, False],\n",
       "        fill_value='?',\n",
       "             dtype=object),\n",
       " 'param_min_samples_leaf': masked_array(data=[2, 4, 6, 8, 10, 12, 14, 16, 18, 2, 4, 6, 8, 10, 12, 14,\n",
       "                    16, 18, 2, 4, 6, 8, 10, 12, 14, 16, 18, 2, 4, 6, 8, 10,\n",
       "                    12, 14, 16, 18, 2, 4, 6, 8, 10, 12, 14, 16, 18, 2, 4,\n",
       "                    6, 8, 10, 12, 14, 16, 18],\n",
       "              mask=[False, False, False, False, False, False, False, False,\n",
       "                    False, False, False, False, False, False, False, False,\n",
       "                    False, False, False, False, False, False, False, False,\n",
       "                    False, False, False, False, False, False, False, False,\n",
       "                    False, False, False, False, False, False, False, False,\n",
       "                    False, False, False, False, False, False, False, False,\n",
       "                    False, False, False, False, False, False],\n",
       "        fill_value='?',\n",
       "             dtype=object),\n",
       " 'params': [{'criterion': 'gini', 'max_depth': 2, 'min_samples_leaf': 2},\n",
       "  {'criterion': 'gini', 'max_depth': 2, 'min_samples_leaf': 4},\n",
       "  {'criterion': 'gini', 'max_depth': 2, 'min_samples_leaf': 6},\n",
       "  {'criterion': 'gini', 'max_depth': 2, 'min_samples_leaf': 8},\n",
       "  {'criterion': 'gini', 'max_depth': 2, 'min_samples_leaf': 10},\n",
       "  {'criterion': 'gini', 'max_depth': 2, 'min_samples_leaf': 12},\n",
       "  {'criterion': 'gini', 'max_depth': 2, 'min_samples_leaf': 14},\n",
       "  {'criterion': 'gini', 'max_depth': 2, 'min_samples_leaf': 16},\n",
       "  {'criterion': 'gini', 'max_depth': 2, 'min_samples_leaf': 18},\n",
       "  {'criterion': 'gini', 'max_depth': 3, 'min_samples_leaf': 2},\n",
       "  {'criterion': 'gini', 'max_depth': 3, 'min_samples_leaf': 4},\n",
       "  {'criterion': 'gini', 'max_depth': 3, 'min_samples_leaf': 6},\n",
       "  {'criterion': 'gini', 'max_depth': 3, 'min_samples_leaf': 8},\n",
       "  {'criterion': 'gini', 'max_depth': 3, 'min_samples_leaf': 10},\n",
       "  {'criterion': 'gini', 'max_depth': 3, 'min_samples_leaf': 12},\n",
       "  {'criterion': 'gini', 'max_depth': 3, 'min_samples_leaf': 14},\n",
       "  {'criterion': 'gini', 'max_depth': 3, 'min_samples_leaf': 16},\n",
       "  {'criterion': 'gini', 'max_depth': 3, 'min_samples_leaf': 18},\n",
       "  {'criterion': 'gini', 'max_depth': 4, 'min_samples_leaf': 2},\n",
       "  {'criterion': 'gini', 'max_depth': 4, 'min_samples_leaf': 4},\n",
       "  {'criterion': 'gini', 'max_depth': 4, 'min_samples_leaf': 6},\n",
       "  {'criterion': 'gini', 'max_depth': 4, 'min_samples_leaf': 8},\n",
       "  {'criterion': 'gini', 'max_depth': 4, 'min_samples_leaf': 10},\n",
       "  {'criterion': 'gini', 'max_depth': 4, 'min_samples_leaf': 12},\n",
       "  {'criterion': 'gini', 'max_depth': 4, 'min_samples_leaf': 14},\n",
       "  {'criterion': 'gini', 'max_depth': 4, 'min_samples_leaf': 16},\n",
       "  {'criterion': 'gini', 'max_depth': 4, 'min_samples_leaf': 18},\n",
       "  {'criterion': 'entropy', 'max_depth': 2, 'min_samples_leaf': 2},\n",
       "  {'criterion': 'entropy', 'max_depth': 2, 'min_samples_leaf': 4},\n",
       "  {'criterion': 'entropy', 'max_depth': 2, 'min_samples_leaf': 6},\n",
       "  {'criterion': 'entropy', 'max_depth': 2, 'min_samples_leaf': 8},\n",
       "  {'criterion': 'entropy', 'max_depth': 2, 'min_samples_leaf': 10},\n",
       "  {'criterion': 'entropy', 'max_depth': 2, 'min_samples_leaf': 12},\n",
       "  {'criterion': 'entropy', 'max_depth': 2, 'min_samples_leaf': 14},\n",
       "  {'criterion': 'entropy', 'max_depth': 2, 'min_samples_leaf': 16},\n",
       "  {'criterion': 'entropy', 'max_depth': 2, 'min_samples_leaf': 18},\n",
       "  {'criterion': 'entropy', 'max_depth': 3, 'min_samples_leaf': 2},\n",
       "  {'criterion': 'entropy', 'max_depth': 3, 'min_samples_leaf': 4},\n",
       "  {'criterion': 'entropy', 'max_depth': 3, 'min_samples_leaf': 6},\n",
       "  {'criterion': 'entropy', 'max_depth': 3, 'min_samples_leaf': 8},\n",
       "  {'criterion': 'entropy', 'max_depth': 3, 'min_samples_leaf': 10},\n",
       "  {'criterion': 'entropy', 'max_depth': 3, 'min_samples_leaf': 12},\n",
       "  {'criterion': 'entropy', 'max_depth': 3, 'min_samples_leaf': 14},\n",
       "  {'criterion': 'entropy', 'max_depth': 3, 'min_samples_leaf': 16},\n",
       "  {'criterion': 'entropy', 'max_depth': 3, 'min_samples_leaf': 18},\n",
       "  {'criterion': 'entropy', 'max_depth': 4, 'min_samples_leaf': 2},\n",
       "  {'criterion': 'entropy', 'max_depth': 4, 'min_samples_leaf': 4},\n",
       "  {'criterion': 'entropy', 'max_depth': 4, 'min_samples_leaf': 6},\n",
       "  {'criterion': 'entropy', 'max_depth': 4, 'min_samples_leaf': 8},\n",
       "  {'criterion': 'entropy', 'max_depth': 4, 'min_samples_leaf': 10},\n",
       "  {'criterion': 'entropy', 'max_depth': 4, 'min_samples_leaf': 12},\n",
       "  {'criterion': 'entropy', 'max_depth': 4, 'min_samples_leaf': 14},\n",
       "  {'criterion': 'entropy', 'max_depth': 4, 'min_samples_leaf': 16},\n",
       "  {'criterion': 'entropy', 'max_depth': 4, 'min_samples_leaf': 18}],\n",
       " 'split0_test_score': array([0.875     , 0.875     , 0.875     , 0.875     , 0.875     ,\n",
       "        0.875     , 0.875     , 0.875     , 0.875     , 0.91666667,\n",
       "        0.875     , 0.875     , 0.875     , 0.875     , 0.875     ,\n",
       "        0.875     , 0.875     , 0.875     , 0.91666667, 0.875     ,\n",
       "        0.875     , 0.875     , 0.875     , 0.875     , 0.875     ,\n",
       "        0.875     , 0.875     , 0.875     , 0.875     , 0.875     ,\n",
       "        0.875     , 0.875     , 0.875     , 0.875     , 0.875     ,\n",
       "        0.875     , 0.91666667, 0.875     , 0.875     , 0.875     ,\n",
       "        0.875     , 0.875     , 0.875     , 0.875     , 0.875     ,\n",
       "        0.91666667, 0.875     , 0.875     , 0.875     , 0.875     ,\n",
       "        0.875     , 0.875     , 0.875     , 0.875     ]),\n",
       " 'split1_test_score': array([0.95833333, 0.95833333, 0.95833333, 0.95833333, 0.95833333,\n",
       "        0.95833333, 0.95833333, 0.95833333, 0.95833333, 0.95833333,\n",
       "        0.95833333, 0.95833333, 0.95833333, 0.95833333, 0.95833333,\n",
       "        0.95833333, 0.95833333, 0.95833333, 1.        , 0.95833333,\n",
       "        0.95833333, 0.95833333, 0.95833333, 0.95833333, 0.95833333,\n",
       "        0.95833333, 0.95833333, 0.91666667, 0.91666667, 0.91666667,\n",
       "        0.91666667, 0.91666667, 0.91666667, 0.91666667, 0.91666667,\n",
       "        0.91666667, 0.91666667, 0.91666667, 0.91666667, 0.91666667,\n",
       "        0.91666667, 0.91666667, 0.91666667, 0.91666667, 0.91666667,\n",
       "        1.        , 0.95833333, 0.91666667, 0.91666667, 0.91666667,\n",
       "        0.91666667, 0.91666667, 0.91666667, 0.91666667]),\n",
       " 'split2_test_score': array([1., 1., 1., 1., 1., 1., 1., 1., 1., 1., 1., 1., 1., 1., 1., 1., 1.,\n",
       "        1., 1., 1., 1., 1., 1., 1., 1., 1., 1., 1., 1., 1., 1., 1., 1., 1.,\n",
       "        1., 1., 1., 1., 1., 1., 1., 1., 1., 1., 1., 1., 1., 1., 1., 1., 1.,\n",
       "        1., 1., 1.]),\n",
       " 'split3_test_score': array([0.91666667, 0.91666667, 0.91666667, 0.91666667, 0.91666667,\n",
       "        0.91666667, 0.91666667, 0.91666667, 0.91666667, 0.91666667,\n",
       "        0.91666667, 0.91666667, 0.91666667, 0.91666667, 0.91666667,\n",
       "        0.91666667, 0.91666667, 0.91666667, 0.91666667, 0.91666667,\n",
       "        0.91666667, 0.91666667, 0.91666667, 0.91666667, 0.91666667,\n",
       "        0.91666667, 0.91666667, 0.91666667, 0.91666667, 0.91666667,\n",
       "        0.91666667, 0.91666667, 0.91666667, 0.91666667, 0.91666667,\n",
       "        0.91666667, 0.91666667, 0.91666667, 0.91666667, 0.91666667,\n",
       "        0.91666667, 0.91666667, 0.91666667, 0.91666667, 0.91666667,\n",
       "        0.91666667, 0.91666667, 0.91666667, 0.91666667, 0.91666667,\n",
       "        0.91666667, 0.91666667, 0.91666667, 0.91666667]),\n",
       " 'split4_test_score': array([0.95833333, 0.95833333, 0.95833333, 0.95833333, 0.95833333,\n",
       "        0.95833333, 0.95833333, 0.95833333, 0.95833333, 0.91666667,\n",
       "        0.91666667, 0.95833333, 0.95833333, 0.95833333, 0.95833333,\n",
       "        0.95833333, 0.95833333, 0.95833333, 0.95833333, 0.91666667,\n",
       "        0.95833333, 0.95833333, 0.95833333, 0.95833333, 0.95833333,\n",
       "        0.95833333, 0.95833333, 0.95833333, 0.95833333, 0.95833333,\n",
       "        0.95833333, 0.95833333, 0.95833333, 0.95833333, 0.95833333,\n",
       "        0.95833333, 0.91666667, 0.91666667, 0.95833333, 0.95833333,\n",
       "        0.95833333, 0.95833333, 0.95833333, 0.95833333, 0.95833333,\n",
       "        0.95833333, 0.91666667, 0.95833333, 0.95833333, 0.95833333,\n",
       "        0.95833333, 0.95833333, 0.95833333, 0.95833333]),\n",
       " 'mean_test_score': array([0.94166667, 0.94166667, 0.94166667, 0.94166667, 0.94166667,\n",
       "        0.94166667, 0.94166667, 0.94166667, 0.94166667, 0.94166667,\n",
       "        0.93333333, 0.94166667, 0.94166667, 0.94166667, 0.94166667,\n",
       "        0.94166667, 0.94166667, 0.94166667, 0.95833333, 0.93333333,\n",
       "        0.94166667, 0.94166667, 0.94166667, 0.94166667, 0.94166667,\n",
       "        0.94166667, 0.94166667, 0.93333333, 0.93333333, 0.93333333,\n",
       "        0.93333333, 0.93333333, 0.93333333, 0.93333333, 0.93333333,\n",
       "        0.93333333, 0.93333333, 0.925     , 0.93333333, 0.93333333,\n",
       "        0.93333333, 0.93333333, 0.93333333, 0.93333333, 0.93333333,\n",
       "        0.95833333, 0.93333333, 0.93333333, 0.93333333, 0.93333333,\n",
       "        0.93333333, 0.93333333, 0.93333333, 0.93333333]),\n",
       " 'std_test_score': array([0.04249183, 0.04249183, 0.04249183, 0.04249183, 0.04249183,\n",
       "        0.04249183, 0.04249183, 0.04249183, 0.04249183, 0.03333333,\n",
       "        0.04249183, 0.04249183, 0.04249183, 0.04249183, 0.04249183,\n",
       "        0.04249183, 0.04249183, 0.04249183, 0.0372678 , 0.04249183,\n",
       "        0.04249183, 0.04249183, 0.04249183, 0.04249183, 0.04249183,\n",
       "        0.04249183, 0.04249183, 0.04249183, 0.04249183, 0.04249183,\n",
       "        0.04249183, 0.04249183, 0.04249183, 0.04249183, 0.04249183,\n",
       "        0.04249183, 0.03333333, 0.04082483, 0.04249183, 0.04249183,\n",
       "        0.04249183, 0.04249183, 0.04249183, 0.04249183, 0.04249183,\n",
       "        0.0372678 , 0.04249183, 0.04249183, 0.04249183, 0.04249183,\n",
       "        0.04249183, 0.04249183, 0.04249183, 0.04249183]),\n",
       " 'rank_test_score': array([ 3,  3,  3,  3,  3,  3,  3,  3,  3,  3, 27,  3,  3,  3,  3,  3,  3,\n",
       "         3,  1, 27,  3,  3,  3,  3,  3,  3,  3, 30, 30, 30, 30, 30, 30, 30,\n",
       "        30, 30, 30, 54, 30, 30, 30, 30, 30, 30, 30,  1, 27, 30, 30, 30, 30,\n",
       "        30, 30, 30], dtype=int32)}"
      ]
     },
     "execution_count": 8,
     "metadata": {},
     "output_type": "execute_result"
    }
   ],
   "source": [
    "dt_opt.cv_results_"
   ]
  },
  {
   "cell_type": "markdown",
   "id": "e741db68",
   "metadata": {},
   "source": [
    "We can reformat it into a dataframe for further analysis."
   ]
  },
  {
   "cell_type": "code",
   "execution_count": 9,
   "id": "e40351c2",
   "metadata": {},
   "outputs": [
    {
     "data": {
      "text/html": [
       "<div>\n",
       "<style scoped>\n",
       "    .dataframe tbody tr th:only-of-type {\n",
       "        vertical-align: middle;\n",
       "    }\n",
       "\n",
       "    .dataframe tbody tr th {\n",
       "        vertical-align: top;\n",
       "    }\n",
       "\n",
       "    .dataframe thead th {\n",
       "        text-align: right;\n",
       "    }\n",
       "</style>\n",
       "<table border=\"1\" class=\"dataframe\">\n",
       "  <thead>\n",
       "    <tr style=\"text-align: right;\">\n",
       "      <th></th>\n",
       "      <th>mean_fit_time</th>\n",
       "      <th>std_fit_time</th>\n",
       "      <th>mean_score_time</th>\n",
       "      <th>std_score_time</th>\n",
       "      <th>param_criterion</th>\n",
       "      <th>param_max_depth</th>\n",
       "      <th>param_min_samples_leaf</th>\n",
       "      <th>params</th>\n",
       "      <th>split0_test_score</th>\n",
       "      <th>split1_test_score</th>\n",
       "      <th>split2_test_score</th>\n",
       "      <th>split3_test_score</th>\n",
       "      <th>split4_test_score</th>\n",
       "      <th>mean_test_score</th>\n",
       "      <th>std_test_score</th>\n",
       "      <th>rank_test_score</th>\n",
       "    </tr>\n",
       "  </thead>\n",
       "  <tbody>\n",
       "    <tr>\n",
       "      <th>0</th>\n",
       "      <td>0.000449</td>\n",
       "      <td>0.000057</td>\n",
       "      <td>0.000235</td>\n",
       "      <td>0.000034</td>\n",
       "      <td>gini</td>\n",
       "      <td>2</td>\n",
       "      <td>2</td>\n",
       "      <td>{'criterion': 'gini', 'max_depth': 2, 'min_sam...</td>\n",
       "      <td>0.875</td>\n",
       "      <td>0.958333</td>\n",
       "      <td>1.0</td>\n",
       "      <td>0.916667</td>\n",
       "      <td>0.958333</td>\n",
       "      <td>0.941667</td>\n",
       "      <td>0.042492</td>\n",
       "      <td>3</td>\n",
       "    </tr>\n",
       "    <tr>\n",
       "      <th>1</th>\n",
       "      <td>0.000412</td>\n",
       "      <td>0.000020</td>\n",
       "      <td>0.000216</td>\n",
       "      <td>0.000009</td>\n",
       "      <td>gini</td>\n",
       "      <td>2</td>\n",
       "      <td>4</td>\n",
       "      <td>{'criterion': 'gini', 'max_depth': 2, 'min_sam...</td>\n",
       "      <td>0.875</td>\n",
       "      <td>0.958333</td>\n",
       "      <td>1.0</td>\n",
       "      <td>0.916667</td>\n",
       "      <td>0.958333</td>\n",
       "      <td>0.941667</td>\n",
       "      <td>0.042492</td>\n",
       "      <td>3</td>\n",
       "    </tr>\n",
       "  </tbody>\n",
       "</table>\n",
       "</div>"
      ],
      "text/plain": [
       "   mean_fit_time  std_fit_time  mean_score_time  std_score_time  \\\n",
       "0       0.000449      0.000057         0.000235        0.000034   \n",
       "1       0.000412      0.000020         0.000216        0.000009   \n",
       "\n",
       "  param_criterion param_max_depth param_min_samples_leaf  \\\n",
       "0            gini               2                      2   \n",
       "1            gini               2                      4   \n",
       "\n",
       "                                              params  split0_test_score  \\\n",
       "0  {'criterion': 'gini', 'max_depth': 2, 'min_sam...              0.875   \n",
       "1  {'criterion': 'gini', 'max_depth': 2, 'min_sam...              0.875   \n",
       "\n",
       "   split1_test_score  split2_test_score  split3_test_score  split4_test_score  \\\n",
       "0           0.958333                1.0           0.916667           0.958333   \n",
       "1           0.958333                1.0           0.916667           0.958333   \n",
       "\n",
       "   mean_test_score  std_test_score  rank_test_score  \n",
       "0         0.941667        0.042492                3  \n",
       "1         0.941667        0.042492                3  "
      ]
     },
     "execution_count": 9,
     "metadata": {},
     "output_type": "execute_result"
    }
   ],
   "source": [
    "dt_df = pd.DataFrame(dt_opt.cv_results_)\n",
    "dt_df.head(2)"
   ]
  },
  {
   "cell_type": "markdown",
   "id": "ce2c00d9",
   "metadata": {},
   "source": [
    "```{admonition} Correction\n",
    "The parameters in this function were in the wrong \n",
    "order in this function in class\n",
    "```\n",
    "I changed the markers and the color of the error bars for readability."
   ]
  },
  {
   "cell_type": "code",
   "execution_count": 10,
   "id": "8e4fd4b0",
   "metadata": {},
   "outputs": [
    {
     "data": {
      "image/png": "[encoded data removed]",
      "text/plain": [
       "<Figure size 432x288 with 1 Axes>"
      ]
     },
     "metadata": {
      "filenames": {
       "image/png": "/home/runner/work/BrownFall21/BrownFall21/_build/jupyter_execute/notes/2021-11-15_18_0.png"
      }
     },
     "output_type": "display_data"
    }
   ],
   "source": [
    "plt.errorbar(x=dt_df['mean_fit_time'],y=dt_df['mean_score_time'],\n",
    "     xerr=dt_df['std_fit_time'],yerr=dt_df['std_score_time'],\n",
    "             marker='s',ecolor='r')\n",
    "plt.xlabel('fit time')\n",
    "plt.ylabel('score time')\n",
    "# save the limits so we can reuse them\n",
    "xmin, xmax, ymin, ymax = plt.axis()"
   ]
  },
  {
   "cell_type": "markdown",
   "id": "ec62ce90",
   "metadata": {},
   "source": [
    "The \"points\" are at the mean fit and score times. The lines are the \"standard deviation\" or how much we expect that number to vary, since means are an estimate. \n",
    "Because the data shows an upward trend, this plot tells us that mostly, the models that are slower to fit are also slower to apply. This makes sense for decision trees, deeper trees take longer to learn and longer to traverse when predicting. \n",
    "Because the error bars mostly overlap the other points, this tells us that mostly the variation in time is not a reliable difference. If we re-ran the GridSearch, we could get them in different orders. \n",
    "\n",
    "To interpret the error bar plot, let's look at a line plot of just the means, with the same limits so that it's easier to compare to the plot above."
   ]
  },
  {
   "cell_type": "code",
   "execution_count": 11,
   "id": "a569ef81",
   "metadata": {},
   "outputs": [
    {
     "data": {
      "text/plain": [
       "(0.00036819670300676125, 0.0005120220008986322)"
      ]
     },
     "execution_count": 11,
     "metadata": {},
     "output_type": "execute_result"
    },
    {
     "data": {
      "image/png": "[encoded data removed]",
      "text/plain": [
       "<Figure size 432x288 with 1 Axes>"
      ]
     },
     "metadata": {
      "filenames": {
       "image/png": "/home/runner/work/BrownFall21/BrownFall21/_build/jupyter_execute/notes/2021-11-15_20_1.png"
      }
     },
     "output_type": "display_data"
    }
   ],
   "source": [
    "plt.plot(dt_df['mean_fit_time'],\n",
    "            dt_df['mean_score_time'], marker='s')\n",
    "plt.xlabel('fit time')\n",
    "plt.ylabel('score time')\n",
    "# match the axis limits to above\n",
    "plt.ylim(ymin, ymax)\n",
    "plt.xlim(xmin,xmax)"
   ]
  },
  {
   "cell_type": "markdown",
   "id": "868e3f94",
   "metadata": {},
   "source": [
    "this plot shows the mean times, without the error bars."
   ]
  },
  {
   "cell_type": "code",
   "execution_count": 12,
   "id": "f25d7c75",
   "metadata": {},
   "outputs": [
    {
     "data": {
      "text/plain": [
       "<AxesSubplot:>"
      ]
     },
     "execution_count": 12,
     "metadata": {},
     "output_type": "execute_result"
    },
    {
     "data": {
      "image/png": "[encoded data removed]",
      "text/plain": [
       "<Figure size 432x288 with 1 Axes>"
      ]
     },
     "metadata": {
      "filenames": {
       "image/png": "/home/runner/work/BrownFall21/BrownFall21/_build/jupyter_execute/notes/2021-11-15_22_1.png"
      }
     },
     "output_type": "display_data"
    }
   ],
   "source": [
    "dt_df['mean_test_score'].plot(kind='bar')"
   ]
  },
  {
   "cell_type": "code",
   "execution_count": 13,
   "id": "688a82c8",
   "metadata": {},
   "outputs": [
    {
     "data": {
      "text/plain": [
       "0     0.941667\n",
       "1     0.941667\n",
       "2     0.941667\n",
       "3     0.941667\n",
       "4     0.941667\n",
       "5     0.941667\n",
       "6     0.941667\n",
       "7     0.941667\n",
       "8     0.941667\n",
       "9     0.941667\n",
       "10    0.933333\n",
       "11    0.941667\n",
       "12    0.941667\n",
       "13    0.941667\n",
       "14    0.941667\n",
       "15    0.941667\n",
       "16    0.941667\n",
       "17    0.941667\n",
       "18    0.958333\n",
       "19    0.933333\n",
       "20    0.941667\n",
       "21    0.941667\n",
       "22    0.941667\n",
       "23    0.941667\n",
       "24    0.941667\n",
       "25    0.941667\n",
       "26    0.941667\n",
       "27    0.933333\n",
       "28    0.933333\n",
       "29    0.933333\n",
       "30    0.933333\n",
       "31    0.933333\n",
       "32    0.933333\n",
       "33    0.933333\n",
       "34    0.933333\n",
       "35    0.933333\n",
       "36    0.933333\n",
       "37    0.925000\n",
       "38    0.933333\n",
       "39    0.933333\n",
       "40    0.933333\n",
       "41    0.933333\n",
       "42    0.933333\n",
       "43    0.933333\n",
       "44    0.933333\n",
       "45    0.958333\n",
       "46    0.933333\n",
       "47    0.933333\n",
       "48    0.933333\n",
       "49    0.933333\n",
       "50    0.933333\n",
       "51    0.933333\n",
       "52    0.933333\n",
       "53    0.933333\n",
       "Name: mean_test_score, dtype: float64"
      ]
     },
     "execution_count": 13,
     "metadata": {},
     "output_type": "execute_result"
    }
   ],
   "source": [
    "dt_df['mean_test_score']"
   ]
  },
  {
   "cell_type": "markdown",
   "id": "47b79431",
   "metadata": {},
   "source": [
    "Now let's compare with a different model, we'll use the parameter optimized version for that model."
   ]
  },
  {
   "cell_type": "code",
   "execution_count": 14,
   "id": "15a5a33c",
   "metadata": {},
   "outputs": [
    {
     "ename": "NameError",
     "evalue": "name 'GridSearchCV' is not defined",
     "output_type": "error",
     "traceback": [
      "\u001b[0;31m---------------------------------------------------------------------------\u001b[0m",
      "\u001b[0;31mNameError\u001b[0m                                 Traceback (most recent call last)",
      "\u001b[0;32m/tmp/ipykernel_2821/492760704.py\u001b[0m in \u001b[0;36m<module>\u001b[0;34m\u001b[0m\n\u001b[1;32m      1\u001b[0m \u001b[0msvm_clf\u001b[0m \u001b[0;34m=\u001b[0m \u001b[0msvm\u001b[0m\u001b[0;34m.\u001b[0m\u001b[0mSVC\u001b[0m\u001b[0;34m(\u001b[0m\u001b[0;34m)\u001b[0m\u001b[0;34m\u001b[0m\u001b[0;34m\u001b[0m\u001b[0m\n\u001b[1;32m      2\u001b[0m \u001b[0mparam_grid\u001b[0m \u001b[0;34m=\u001b[0m \u001b[0;34m{\u001b[0m\u001b[0;34m'kernel'\u001b[0m\u001b[0;34m:\u001b[0m\u001b[0;34m[\u001b[0m\u001b[0;34m'linear'\u001b[0m\u001b[0;34m,\u001b[0m\u001b[0;34m'rbf'\u001b[0m\u001b[0;34m]\u001b[0m\u001b[0;34m,\u001b[0m \u001b[0;34m'C'\u001b[0m\u001b[0;34m:\u001b[0m\u001b[0;34m[\u001b[0m\u001b[0;36m.5\u001b[0m\u001b[0;34m,\u001b[0m \u001b[0;36m1\u001b[0m\u001b[0;34m,\u001b[0m \u001b[0;36m10\u001b[0m\u001b[0;34m]\u001b[0m\u001b[0;34m}\u001b[0m\u001b[0;34m\u001b[0m\u001b[0;34m\u001b[0m\u001b[0m\n\u001b[0;32m----> 3\u001b[0;31m \u001b[0msvm_opt\u001b[0m \u001b[0;34m=\u001b[0m \u001b[0mGridSearchCV\u001b[0m\u001b[0;34m(\u001b[0m\u001b[0msvm_clf\u001b[0m\u001b[0;34m,\u001b[0m\u001b[0mparam_grid\u001b[0m\u001b[0;34m,\u001b[0m\u001b[0;34m)\u001b[0m\u001b[0;34m\u001b[0m\u001b[0;34m\u001b[0m\u001b[0m\n\u001b[0m",
      "\u001b[0;31mNameError\u001b[0m: name 'GridSearchCV' is not defined"
     ]
    }
   ],
   "source": [
    "svm_clf = svm.SVC()\n",
    "param_grid = {'kernel':['linear','rbf'], 'C':[.5, 1, 10]}\n",
    "svm_opt = GridSearchCV(svm_clf,param_grid,)"
   ]
  },
  {
   "cell_type": "markdown",
   "id": "884302ce",
   "metadata": {},
   "source": [
    "The error above is because we didn't import `GridSearchCV` directly today, we imported the whole `model_selection` module, so we have to use that in order to access the class."
   ]
  },
  {
   "cell_type": "code",
   "execution_count": 15,
   "id": "a1543df1",
   "metadata": {},
   "outputs": [],
   "source": [
    "svm_clf = svm.SVC()\n",
    "param_grid = {'kernel':['linear','rbf'], 'C':[.5, .75,1,2,5,7, 10]}\n",
    "svm_opt = model_selection.GridSearchCV(svm_clf,param_grid,cv=10)"
   ]
  },
  {
   "cell_type": "code",
   "execution_count": 16,
   "id": "267a44a4",
   "metadata": {},
   "outputs": [
    {
     "data": {
      "text/plain": [
       "module"
      ]
     },
     "execution_count": 16,
     "metadata": {},
     "output_type": "execute_result"
    }
   ],
   "source": [
    "type(model_selection)"
   ]
  },
  {
   "cell_type": "code",
   "execution_count": 17,
   "id": "65eec594",
   "metadata": {},
   "outputs": [
    {
     "data": {
      "text/plain": [
       "{'scoring': None,\n",
       " 'estimator': DecisionTreeClassifier(),\n",
       " 'n_jobs': None,\n",
       " 'refit': True,\n",
       " 'cv': None,\n",
       " 'verbose': 0,\n",
       " 'pre_dispatch': '2*n_jobs',\n",
       " 'error_score': nan,\n",
       " 'return_train_score': False,\n",
       " 'param_grid': {'criterion': ['gini', 'entropy'],\n",
       "  'max_depth': [2, 3, 4],\n",
       "  'min_samples_leaf': [2, 4, 6, 8, 10, 12, 14, 16, 18]},\n",
       " 'multimetric_': False,\n",
       " 'best_index_': 18,\n",
       " 'best_score_': 0.9583333333333333,\n",
       " 'best_params_': {'criterion': 'gini', 'max_depth': 4, 'min_samples_leaf': 2},\n",
       " 'best_estimator_': DecisionTreeClassifier(max_depth=4, min_samples_leaf=2),\n",
       " 'refit_time_': 0.0003383159637451172,\n",
       " 'scorer_': <function sklearn.metrics._scorer._passthrough_scorer(estimator, *args, **kwargs)>,\n",
       " 'cv_results_': {'mean_fit_time': array([0.00044856, 0.00041223, 0.00041251, 0.00040708, 0.00039172,\n",
       "         0.00040069, 0.00039802, 0.00039625, 0.0003973 , 0.00042429,\n",
       "         0.00040908, 0.00039973, 0.00041971, 0.00041633, 0.00042367,\n",
       "         0.00040836, 0.00041084, 0.00039873, 0.00042415, 0.00042353,\n",
       "         0.00041637, 0.00042458, 0.00042138, 0.00040793, 0.0004024 ,\n",
       "         0.00039277, 0.00040212, 0.00041332, 0.00040441, 0.00041127,\n",
       "         0.00040874, 0.00041695, 0.00040383, 0.00041952, 0.00039492,\n",
       "         0.00040021, 0.00043707, 0.00042753, 0.00042248, 0.00042691,\n",
       "         0.00041318, 0.00043116, 0.00040874, 0.00041323, 0.00039697,\n",
       "         0.000457  , 0.00042539, 0.00044599, 0.00041399, 0.00043521,\n",
       "         0.00042253, 0.00042048, 0.00039983, 0.00040193]),\n",
       "  'std_fit_time': array([5.69237726e-05, 1.99543675e-05, 1.17744989e-05, 1.16397113e-05,\n",
       "         1.01746368e-05, 1.52204449e-05, 1.73024225e-05, 1.16459606e-05,\n",
       "         1.27936396e-05, 2.15130198e-05, 1.43348068e-05, 2.11898192e-05,\n",
       "         7.24353155e-06, 1.75993612e-05, 1.56406949e-05, 1.39138435e-05,\n",
       "         1.70654416e-05, 1.44321838e-05, 1.80140975e-05, 2.12685409e-05,\n",
       "         2.49794412e-05, 1.06125999e-05, 1.98209455e-05, 1.43194127e-05,\n",
       "         1.82799740e-05, 1.80365507e-05, 2.07002255e-05, 1.51785589e-05,\n",
       "         1.24356717e-05, 1.74238151e-05, 1.60946492e-05, 1.68630547e-05,\n",
       "         2.09956767e-05, 3.61876994e-05, 1.67210141e-05, 1.18497632e-05,\n",
       "         1.68306631e-05, 2.03461448e-05, 1.98028124e-05, 1.44542234e-05,\n",
       "         1.60376152e-05, 2.21421941e-05, 1.52741295e-05, 1.81826956e-05,\n",
       "         1.83777272e-05, 2.70490685e-05, 1.60130693e-05, 1.14803931e-05,\n",
       "         2.47296963e-05, 1.35932885e-05, 2.11354540e-05, 1.13669418e-05,\n",
       "         1.12578011e-05, 1.50286183e-05]),\n",
       "  'mean_score_time': array([0.00023527, 0.00021572, 0.00021844, 0.00021539, 0.00021544,\n",
       "         0.00021105, 0.00021405, 0.00021162, 0.00021296, 0.0002192 ,\n",
       "         0.00021577, 0.00021315, 0.00021358, 0.00021653, 0.00021749,\n",
       "         0.00022039, 0.00022225, 0.00021625, 0.00021372, 0.00021439,\n",
       "         0.00021148, 0.00021749, 0.00021553, 0.00021877, 0.00021195,\n",
       "         0.00021362, 0.00020828, 0.00021615, 0.00021062, 0.00021534,\n",
       "         0.000213  , 0.00021439, 0.0002151 , 0.00022922, 0.00021596,\n",
       "         0.00021315, 0.00021486, 0.00021687, 0.00021243, 0.00021725,\n",
       "         0.00021038, 0.00021634, 0.00021615, 0.00021391, 0.00020828,\n",
       "         0.00021749, 0.00021372, 0.00021348, 0.00021038, 0.00021272,\n",
       "         0.00021839, 0.00021863, 0.00021529, 0.00021062]),\n",
       "  'std_score_time': array([3.38837680e-05, 8.65351063e-06, 6.65251924e-06, 2.36311182e-06,\n",
       "         8.75564437e-06, 4.31636409e-06, 1.97412887e-06, 5.58042100e-06,\n",
       "         7.53100854e-06, 3.53181537e-06, 1.25789245e-05, 7.79887544e-06,\n",
       "         9.07169378e-06, 5.50617888e-06, 7.10375348e-06, 1.02310188e-05,\n",
       "         1.18428535e-05, 9.63871795e-06, 5.35375808e-06, 5.67095518e-06,\n",
       "         3.91761702e-06, 5.12106236e-06, 6.66378862e-06, 1.39131899e-05,\n",
       "         2.82905521e-06, 7.48953174e-06, 3.55107646e-06, 8.11127898e-06,\n",
       "         5.43594360e-06, 2.81858763e-06, 3.62396240e-06, 4.21778572e-06,\n",
       "         6.88596444e-06, 4.13947388e-05, 6.64396910e-06, 7.45911110e-06,\n",
       "         7.27766611e-06, 7.09446522e-06, 5.97665495e-06, 7.24792480e-06,\n",
       "         4.56520220e-06, 4.85016293e-06, 9.90238210e-06, 6.83625521e-06,\n",
       "         5.50452686e-06, 6.49514524e-06, 6.34498093e-06, 5.43803459e-06,\n",
       "         7.36647822e-06, 3.95631190e-06, 9.30138073e-06, 7.86998025e-06,\n",
       "         1.13001352e-05, 6.71917532e-06]),\n",
       "  'param_criterion': masked_array(data=['gini', 'gini', 'gini', 'gini', 'gini', 'gini', 'gini',\n",
       "                     'gini', 'gini', 'gini', 'gini', 'gini', 'gini', 'gini',\n",
       "                     'gini', 'gini', 'gini', 'gini', 'gini', 'gini', 'gini',\n",
       "                     'gini', 'gini', 'gini', 'gini', 'gini', 'gini',\n",
       "                     'entropy', 'entropy', 'entropy', 'entropy', 'entropy',\n",
       "                     'entropy', 'entropy', 'entropy', 'entropy', 'entropy',\n",
       "                     'entropy', 'entropy', 'entropy', 'entropy', 'entropy',\n",
       "                     'entropy', 'entropy', 'entropy', 'entropy', 'entropy',\n",
       "                     'entropy', 'entropy', 'entropy', 'entropy', 'entropy',\n",
       "                     'entropy', 'entropy'],\n",
       "               mask=[False, False, False, False, False, False, False, False,\n",
       "                     False, False, False, False, False, False, False, False,\n",
       "                     False, False, False, False, False, False, False, False,\n",
       "                     False, False, False, False, False, False, False, False,\n",
       "                     False, False, False, False, False, False, False, False,\n",
       "                     False, False, False, False, False, False, False, False,\n",
       "                     False, False, False, False, False, False],\n",
       "         fill_value='?',\n",
       "              dtype=object),\n",
       "  'param_max_depth': masked_array(data=[2, 2, 2, 2, 2, 2, 2, 2, 2, 3, 3, 3, 3, 3, 3, 3, 3, 3,\n",
       "                     4, 4, 4, 4, 4, 4, 4, 4, 4, 2, 2, 2, 2, 2, 2, 2, 2, 2,\n",
       "                     3, 3, 3, 3, 3, 3, 3, 3, 3, 4, 4, 4, 4, 4, 4, 4, 4, 4],\n",
       "               mask=[False, False, False, False, False, False, False, False,\n",
       "                     False, False, False, False, False, False, False, False,\n",
       "                     False, False, False, False, False, False, False, False,\n",
       "                     False, False, False, False, False, False, False, False,\n",
       "                     False, False, False, False, False, False, False, False,\n",
       "                     False, False, False, False, False, False, False, False,\n",
       "                     False, False, False, False, False, False],\n",
       "         fill_value='?',\n",
       "              dtype=object),\n",
       "  'param_min_samples_leaf': masked_array(data=[2, 4, 6, 8, 10, 12, 14, 16, 18, 2, 4, 6, 8, 10, 12, 14,\n",
       "                     16, 18, 2, 4, 6, 8, 10, 12, 14, 16, 18, 2, 4, 6, 8, 10,\n",
       "                     12, 14, 16, 18, 2, 4, 6, 8, 10, 12, 14, 16, 18, 2, 4,\n",
       "                     6, 8, 10, 12, 14, 16, 18],\n",
       "               mask=[False, False, False, False, False, False, False, False,\n",
       "                     False, False, False, False, False, False, False, False,\n",
       "                     False, False, False, False, False, False, False, False,\n",
       "                     False, False, False, False, False, False, False, False,\n",
       "                     False, False, False, False, False, False, False, False,\n",
       "                     False, False, False, False, False, False, False, False,\n",
       "                     False, False, False, False, False, False],\n",
       "         fill_value='?',\n",
       "              dtype=object),\n",
       "  'params': [{'criterion': 'gini', 'max_depth': 2, 'min_samples_leaf': 2},\n",
       "   {'criterion': 'gini', 'max_depth': 2, 'min_samples_leaf': 4},\n",
       "   {'criterion': 'gini', 'max_depth': 2, 'min_samples_leaf': 6},\n",
       "   {'criterion': 'gini', 'max_depth': 2, 'min_samples_leaf': 8},\n",
       "   {'criterion': 'gini', 'max_depth': 2, 'min_samples_leaf': 10},\n",
       "   {'criterion': 'gini', 'max_depth': 2, 'min_samples_leaf': 12},\n",
       "   {'criterion': 'gini', 'max_depth': 2, 'min_samples_leaf': 14},\n",
       "   {'criterion': 'gini', 'max_depth': 2, 'min_samples_leaf': 16},\n",
       "   {'criterion': 'gini', 'max_depth': 2, 'min_samples_leaf': 18},\n",
       "   {'criterion': 'gini', 'max_depth': 3, 'min_samples_leaf': 2},\n",
       "   {'criterion': 'gini', 'max_depth': 3, 'min_samples_leaf': 4},\n",
       "   {'criterion': 'gini', 'max_depth': 3, 'min_samples_leaf': 6},\n",
       "   {'criterion': 'gini', 'max_depth': 3, 'min_samples_leaf': 8},\n",
       "   {'criterion': 'gini', 'max_depth': 3, 'min_samples_leaf': 10},\n",
       "   {'criterion': 'gini', 'max_depth': 3, 'min_samples_leaf': 12},\n",
       "   {'criterion': 'gini', 'max_depth': 3, 'min_samples_leaf': 14},\n",
       "   {'criterion': 'gini', 'max_depth': 3, 'min_samples_leaf': 16},\n",
       "   {'criterion': 'gini', 'max_depth': 3, 'min_samples_leaf': 18},\n",
       "   {'criterion': 'gini', 'max_depth': 4, 'min_samples_leaf': 2},\n",
       "   {'criterion': 'gini', 'max_depth': 4, 'min_samples_leaf': 4},\n",
       "   {'criterion': 'gini', 'max_depth': 4, 'min_samples_leaf': 6},\n",
       "   {'criterion': 'gini', 'max_depth': 4, 'min_samples_leaf': 8},\n",
       "   {'criterion': 'gini', 'max_depth': 4, 'min_samples_leaf': 10},\n",
       "   {'criterion': 'gini', 'max_depth': 4, 'min_samples_leaf': 12},\n",
       "   {'criterion': 'gini', 'max_depth': 4, 'min_samples_leaf': 14},\n",
       "   {'criterion': 'gini', 'max_depth': 4, 'min_samples_leaf': 16},\n",
       "   {'criterion': 'gini', 'max_depth': 4, 'min_samples_leaf': 18},\n",
       "   {'criterion': 'entropy', 'max_depth': 2, 'min_samples_leaf': 2},\n",
       "   {'criterion': 'entropy', 'max_depth': 2, 'min_samples_leaf': 4},\n",
       "   {'criterion': 'entropy', 'max_depth': 2, 'min_samples_leaf': 6},\n",
       "   {'criterion': 'entropy', 'max_depth': 2, 'min_samples_leaf': 8},\n",
       "   {'criterion': 'entropy', 'max_depth': 2, 'min_samples_leaf': 10},\n",
       "   {'criterion': 'entropy', 'max_depth': 2, 'min_samples_leaf': 12},\n",
       "   {'criterion': 'entropy', 'max_depth': 2, 'min_samples_leaf': 14},\n",
       "   {'criterion': 'entropy', 'max_depth': 2, 'min_samples_leaf': 16},\n",
       "   {'criterion': 'entropy', 'max_depth': 2, 'min_samples_leaf': 18},\n",
       "   {'criterion': 'entropy', 'max_depth': 3, 'min_samples_leaf': 2},\n",
       "   {'criterion': 'entropy', 'max_depth': 3, 'min_samples_leaf': 4},\n",
       "   {'criterion': 'entropy', 'max_depth': 3, 'min_samples_leaf': 6},\n",
       "   {'criterion': 'entropy', 'max_depth': 3, 'min_samples_leaf': 8},\n",
       "   {'criterion': 'entropy', 'max_depth': 3, 'min_samples_leaf': 10},\n",
       "   {'criterion': 'entropy', 'max_depth': 3, 'min_samples_leaf': 12},\n",
       "   {'criterion': 'entropy', 'max_depth': 3, 'min_samples_leaf': 14},\n",
       "   {'criterion': 'entropy', 'max_depth': 3, 'min_samples_leaf': 16},\n",
       "   {'criterion': 'entropy', 'max_depth': 3, 'min_samples_leaf': 18},\n",
       "   {'criterion': 'entropy', 'max_depth': 4, 'min_samples_leaf': 2},\n",
       "   {'criterion': 'entropy', 'max_depth': 4, 'min_samples_leaf': 4},\n",
       "   {'criterion': 'entropy', 'max_depth': 4, 'min_samples_leaf': 6},\n",
       "   {'criterion': 'entropy', 'max_depth': 4, 'min_samples_leaf': 8},\n",
       "   {'criterion': 'entropy', 'max_depth': 4, 'min_samples_leaf': 10},\n",
       "   {'criterion': 'entropy', 'max_depth': 4, 'min_samples_leaf': 12},\n",
       "   {'criterion': 'entropy', 'max_depth': 4, 'min_samples_leaf': 14},\n",
       "   {'criterion': 'entropy', 'max_depth': 4, 'min_samples_leaf': 16},\n",
       "   {'criterion': 'entropy', 'max_depth': 4, 'min_samples_leaf': 18}],\n",
       "  'split0_test_score': array([0.875     , 0.875     , 0.875     , 0.875     , 0.875     ,\n",
       "         0.875     , 0.875     , 0.875     , 0.875     , 0.91666667,\n",
       "         0.875     , 0.875     , 0.875     , 0.875     , 0.875     ,\n",
       "         0.875     , 0.875     , 0.875     , 0.91666667, 0.875     ,\n",
       "         0.875     , 0.875     , 0.875     , 0.875     , 0.875     ,\n",
       "         0.875     , 0.875     , 0.875     , 0.875     , 0.875     ,\n",
       "         0.875     , 0.875     , 0.875     , 0.875     , 0.875     ,\n",
       "         0.875     , 0.91666667, 0.875     , 0.875     , 0.875     ,\n",
       "         0.875     , 0.875     , 0.875     , 0.875     , 0.875     ,\n",
       "         0.91666667, 0.875     , 0.875     , 0.875     , 0.875     ,\n",
       "         0.875     , 0.875     , 0.875     , 0.875     ]),\n",
       "  'split1_test_score': array([0.95833333, 0.95833333, 0.95833333, 0.95833333, 0.95833333,\n",
       "         0.95833333, 0.95833333, 0.95833333, 0.95833333, 0.95833333,\n",
       "         0.95833333, 0.95833333, 0.95833333, 0.95833333, 0.95833333,\n",
       "         0.95833333, 0.95833333, 0.95833333, 1.        , 0.95833333,\n",
       "         0.95833333, 0.95833333, 0.95833333, 0.95833333, 0.95833333,\n",
       "         0.95833333, 0.95833333, 0.91666667, 0.91666667, 0.91666667,\n",
       "         0.91666667, 0.91666667, 0.91666667, 0.91666667, 0.91666667,\n",
       "         0.91666667, 0.91666667, 0.91666667, 0.91666667, 0.91666667,\n",
       "         0.91666667, 0.91666667, 0.91666667, 0.91666667, 0.91666667,\n",
       "         1.        , 0.95833333, 0.91666667, 0.91666667, 0.91666667,\n",
       "         0.91666667, 0.91666667, 0.91666667, 0.91666667]),\n",
       "  'split2_test_score': array([1., 1., 1., 1., 1., 1., 1., 1., 1., 1., 1., 1., 1., 1., 1., 1., 1.,\n",
       "         1., 1., 1., 1., 1., 1., 1., 1., 1., 1., 1., 1., 1., 1., 1., 1., 1.,\n",
       "         1., 1., 1., 1., 1., 1., 1., 1., 1., 1., 1., 1., 1., 1., 1., 1., 1.,\n",
       "         1., 1., 1.]),\n",
       "  'split3_test_score': array([0.91666667, 0.91666667, 0.91666667, 0.91666667, 0.91666667,\n",
       "         0.91666667, 0.91666667, 0.91666667, 0.91666667, 0.91666667,\n",
       "         0.91666667, 0.91666667, 0.91666667, 0.91666667, 0.91666667,\n",
       "         0.91666667, 0.91666667, 0.91666667, 0.91666667, 0.91666667,\n",
       "         0.91666667, 0.91666667, 0.91666667, 0.91666667, 0.91666667,\n",
       "         0.91666667, 0.91666667, 0.91666667, 0.91666667, 0.91666667,\n",
       "         0.91666667, 0.91666667, 0.91666667, 0.91666667, 0.91666667,\n",
       "         0.91666667, 0.91666667, 0.91666667, 0.91666667, 0.91666667,\n",
       "         0.91666667, 0.91666667, 0.91666667, 0.91666667, 0.91666667,\n",
       "         0.91666667, 0.91666667, 0.91666667, 0.91666667, 0.91666667,\n",
       "         0.91666667, 0.91666667, 0.91666667, 0.91666667]),\n",
       "  'split4_test_score': array([0.95833333, 0.95833333, 0.95833333, 0.95833333, 0.95833333,\n",
       "         0.95833333, 0.95833333, 0.95833333, 0.95833333, 0.91666667,\n",
       "         0.91666667, 0.95833333, 0.95833333, 0.95833333, 0.95833333,\n",
       "         0.95833333, 0.95833333, 0.95833333, 0.95833333, 0.91666667,\n",
       "         0.95833333, 0.95833333, 0.95833333, 0.95833333, 0.95833333,\n",
       "         0.95833333, 0.95833333, 0.95833333, 0.95833333, 0.95833333,\n",
       "         0.95833333, 0.95833333, 0.95833333, 0.95833333, 0.95833333,\n",
       "         0.95833333, 0.91666667, 0.91666667, 0.95833333, 0.95833333,\n",
       "         0.95833333, 0.95833333, 0.95833333, 0.95833333, 0.95833333,\n",
       "         0.95833333, 0.91666667, 0.95833333, 0.95833333, 0.95833333,\n",
       "         0.95833333, 0.95833333, 0.95833333, 0.95833333]),\n",
       "  'mean_test_score': array([0.94166667, 0.94166667, 0.94166667, 0.94166667, 0.94166667,\n",
       "         0.94166667, 0.94166667, 0.94166667, 0.94166667, 0.94166667,\n",
       "         0.93333333, 0.94166667, 0.94166667, 0.94166667, 0.94166667,\n",
       "         0.94166667, 0.94166667, 0.94166667, 0.95833333, 0.93333333,\n",
       "         0.94166667, 0.94166667, 0.94166667, 0.94166667, 0.94166667,\n",
       "         0.94166667, 0.94166667, 0.93333333, 0.93333333, 0.93333333,\n",
       "         0.93333333, 0.93333333, 0.93333333, 0.93333333, 0.93333333,\n",
       "         0.93333333, 0.93333333, 0.925     , 0.93333333, 0.93333333,\n",
       "         0.93333333, 0.93333333, 0.93333333, 0.93333333, 0.93333333,\n",
       "         0.95833333, 0.93333333, 0.93333333, 0.93333333, 0.93333333,\n",
       "         0.93333333, 0.93333333, 0.93333333, 0.93333333]),\n",
       "  'std_test_score': array([0.04249183, 0.04249183, 0.04249183, 0.04249183, 0.04249183,\n",
       "         0.04249183, 0.04249183, 0.04249183, 0.04249183, 0.03333333,\n",
       "         0.04249183, 0.04249183, 0.04249183, 0.04249183, 0.04249183,\n",
       "         0.04249183, 0.04249183, 0.04249183, 0.0372678 , 0.04249183,\n",
       "         0.04249183, 0.04249183, 0.04249183, 0.04249183, 0.04249183,\n",
       "         0.04249183, 0.04249183, 0.04249183, 0.04249183, 0.04249183,\n",
       "         0.04249183, 0.04249183, 0.04249183, 0.04249183, 0.04249183,\n",
       "         0.04249183, 0.03333333, 0.04082483, 0.04249183, 0.04249183,\n",
       "         0.04249183, 0.04249183, 0.04249183, 0.04249183, 0.04249183,\n",
       "         0.0372678 , 0.04249183, 0.04249183, 0.04249183, 0.04249183,\n",
       "         0.04249183, 0.04249183, 0.04249183, 0.04249183]),\n",
       "  'rank_test_score': array([ 3,  3,  3,  3,  3,  3,  3,  3,  3,  3, 27,  3,  3,  3,  3,  3,  3,\n",
       "          3,  1, 27,  3,  3,  3,  3,  3,  3,  3, 30, 30, 30, 30, 30, 30, 30,\n",
       "         30, 30, 30, 54, 30, 30, 30, 30, 30, 30, 30,  1, 27, 30, 30, 30, 30,\n",
       "         30, 30, 30], dtype=int32)},\n",
       " 'n_splits_': 5}"
      ]
     },
     "execution_count": 17,
     "metadata": {},
     "output_type": "execute_result"
    }
   ],
   "source": [
    "dt_opt.__dict__"
   ]
  },
  {
   "cell_type": "markdown",
   "id": "e4829cd8",
   "metadata": {},
   "source": [
    "This doesn't have attributes yet, even though they are the same type, because we have not fit it tot data yet."
   ]
  },
  {
   "cell_type": "code",
   "execution_count": 18,
   "id": "cdb74dd2",
   "metadata": {},
   "outputs": [
    {
     "data": {
      "text/plain": [
       "(sklearn.model_selection._search.GridSearchCV,\n",
       " sklearn.model_selection._search.GridSearchCV)"
      ]
     },
     "execution_count": 18,
     "metadata": {},
     "output_type": "execute_result"
    }
   ],
   "source": [
    "type(svm_opt), type(dt_opt)"
   ]
  },
  {
   "cell_type": "markdown",
   "id": "23511114",
   "metadata": {},
   "source": [
    "Now we can fit the model to the training data of this second model."
   ]
  },
  {
   "cell_type": "code",
   "execution_count": 19,
   "id": "f79323c1",
   "metadata": {},
   "outputs": [],
   "source": [
    "# fit the model and  put the CV results in a dataframe\n",
    "svm_opt.fit(iris_X_train,iris_y_train)\n",
    "sv_df = pd.DataFrame(svm_opt.cv_results_)"
   ]
  },
  {
   "cell_type": "code",
   "execution_count": 20,
   "id": "891d6f62",
   "metadata": {},
   "outputs": [
    {
     "data": {
      "text/html": [
       "<div>\n",
       "<style scoped>\n",
       "    .dataframe tbody tr th:only-of-type {\n",
       "        vertical-align: middle;\n",
       "    }\n",
       "\n",
       "    .dataframe tbody tr th {\n",
       "        vertical-align: top;\n",
       "    }\n",
       "\n",
       "    .dataframe thead th {\n",
       "        text-align: right;\n",
       "    }\n",
       "</style>\n",
       "<table border=\"1\" class=\"dataframe\">\n",
       "  <thead>\n",
       "    <tr style=\"text-align: right;\">\n",
       "      <th></th>\n",
       "      <th>mean_fit_time</th>\n",
       "      <th>std_fit_time</th>\n",
       "      <th>mean_score_time</th>\n",
       "      <th>std_score_time</th>\n",
       "      <th>param_C</th>\n",
       "      <th>param_kernel</th>\n",
       "      <th>params</th>\n",
       "      <th>split0_test_score</th>\n",
       "      <th>split1_test_score</th>\n",
       "      <th>split2_test_score</th>\n",
       "      <th>split3_test_score</th>\n",
       "      <th>split4_test_score</th>\n",
       "      <th>split5_test_score</th>\n",
       "      <th>split6_test_score</th>\n",
       "      <th>split7_test_score</th>\n",
       "      <th>split8_test_score</th>\n",
       "      <th>split9_test_score</th>\n",
       "      <th>mean_test_score</th>\n",
       "      <th>std_test_score</th>\n",
       "      <th>rank_test_score</th>\n",
       "    </tr>\n",
       "  </thead>\n",
       "  <tbody>\n",
       "    <tr>\n",
       "      <th>0</th>\n",
       "      <td>0.000602</td>\n",
       "      <td>0.000085</td>\n",
       "      <td>0.000267</td>\n",
       "      <td>0.000019</td>\n",
       "      <td>0.5</td>\n",
       "      <td>linear</td>\n",
       "      <td>{'C': 0.5, 'kernel': 'linear'}</td>\n",
       "      <td>0.916667</td>\n",
       "      <td>1.0</td>\n",
       "      <td>1.0</td>\n",
       "      <td>1.0</td>\n",
       "      <td>1.0</td>\n",
       "      <td>1.0</td>\n",
       "      <td>0.916667</td>\n",
       "      <td>0.916667</td>\n",
       "      <td>1.0</td>\n",
       "      <td>0.916667</td>\n",
       "      <td>0.966667</td>\n",
       "      <td>0.040825</td>\n",
       "      <td>1</td>\n",
       "    </tr>\n",
       "    <tr>\n",
       "      <th>1</th>\n",
       "      <td>0.000678</td>\n",
       "      <td>0.000022</td>\n",
       "      <td>0.000293</td>\n",
       "      <td>0.000012</td>\n",
       "      <td>0.5</td>\n",
       "      <td>rbf</td>\n",
       "      <td>{'C': 0.5, 'kernel': 'rbf'}</td>\n",
       "      <td>0.916667</td>\n",
       "      <td>1.0</td>\n",
       "      <td>1.0</td>\n",
       "      <td>1.0</td>\n",
       "      <td>1.0</td>\n",
       "      <td>1.0</td>\n",
       "      <td>0.916667</td>\n",
       "      <td>1.000000</td>\n",
       "      <td>1.0</td>\n",
       "      <td>0.833333</td>\n",
       "      <td>0.966667</td>\n",
       "      <td>0.055277</td>\n",
       "      <td>1</td>\n",
       "    </tr>\n",
       "  </tbody>\n",
       "</table>\n",
       "</div>"
      ],
      "text/plain": [
       "   mean_fit_time  std_fit_time  mean_score_time  std_score_time param_C  \\\n",
       "0       0.000602      0.000085         0.000267        0.000019     0.5   \n",
       "1       0.000678      0.000022         0.000293        0.000012     0.5   \n",
       "\n",
       "  param_kernel                          params  split0_test_score  \\\n",
       "0       linear  {'C': 0.5, 'kernel': 'linear'}           0.916667   \n",
       "1          rbf     {'C': 0.5, 'kernel': 'rbf'}           0.916667   \n",
       "\n",
       "   split1_test_score  split2_test_score  split3_test_score  split4_test_score  \\\n",
       "0                1.0                1.0                1.0                1.0   \n",
       "1                1.0                1.0                1.0                1.0   \n",
       "\n",
       "   split5_test_score  split6_test_score  split7_test_score  split8_test_score  \\\n",
       "0                1.0           0.916667           0.916667                1.0   \n",
       "1                1.0           0.916667           1.000000                1.0   \n",
       "\n",
       "   split9_test_score  mean_test_score  std_test_score  rank_test_score  \n",
       "0           0.916667         0.966667        0.040825                1  \n",
       "1           0.833333         0.966667        0.055277                1  "
      ]
     },
     "execution_count": 20,
     "metadata": {},
     "output_type": "execute_result"
    }
   ],
   "source": [
    "sv_df.head(2)"
   ]
  },
  {
   "cell_type": "code",
   "execution_count": 21,
   "id": "9d096d55",
   "metadata": {},
   "outputs": [
    {
     "data": {
      "text/plain": [
       "<ErrorbarContainer object of 3 artists>"
      ]
     },
     "execution_count": 21,
     "metadata": {},
     "output_type": "execute_result"
    },
    {
     "data": {
      "image/png": "[encoded data removed]",
      "text/plain": [
       "<Figure size 432x288 with 1 Axes>"
      ]
     },
     "metadata": {
      "filenames": {
       "image/png": "/home/runner/work/BrownFall21/BrownFall21/_build/jupyter_execute/notes/2021-11-15_35_1.png"
      }
     },
     "output_type": "display_data"
    }
   ],
   "source": [
    "plt.errorbar(x=sv_df['mean_fit_time'],xerr=sv_df['std_fit_time'],\n",
    "            y=sv_df['mean_score_time'],yerr=sv_df['std_score_time'])"
   ]
  },
  {
   "cell_type": "code",
   "execution_count": 22,
   "id": "ec1c44cc",
   "metadata": {},
   "outputs": [
    {
     "data": {
      "text/plain": [
       "Index(['mean_fit_time', 'std_fit_time', 'mean_score_time', 'std_score_time',\n",
       "       'param_C', 'param_kernel', 'params', 'split0_test_score',\n",
       "       'split1_test_score', 'split2_test_score', 'split3_test_score',\n",
       "       'split4_test_score', 'split5_test_score', 'split6_test_score',\n",
       "       'split7_test_score', 'split8_test_score', 'split9_test_score',\n",
       "       'mean_test_score', 'std_test_score', 'rank_test_score'],\n",
       "      dtype='object')"
      ]
     },
     "execution_count": 22,
     "metadata": {},
     "output_type": "execute_result"
    }
   ],
   "source": [
    "sv_df.columns"
   ]
  },
  {
   "cell_type": "markdown",
   "id": "cc4b3232",
   "metadata": {},
   "source": [
    "We can see if the models that take longer to fit or score perform better."
   ]
  },
  {
   "cell_type": "code",
   "execution_count": 23,
   "id": "13914dac",
   "metadata": {},
   "outputs": [
    {
     "data": {
      "text/plain": [
       "<seaborn.axisgrid.FacetGrid at 0x7f3b80f75b10>"
      ]
     },
     "execution_count": 23,
     "metadata": {},
     "output_type": "execute_result"
    },
    {
     "data": {
      "image/png": "[encoded data removed]",
      "text/plain": [
       "<Figure size 451.3x360 with 1 Axes>"
      ]
     },
     "metadata": {
      "filenames": {
       "image/png": "/home/runner/work/BrownFall21/BrownFall21/_build/jupyter_execute/notes/2021-11-15_38_1.png"
      }
     },
     "output_type": "display_data"
    }
   ],
   "source": [
    "svm_time = sv_df.melt(id_vars=['param_C', 'param_kernel', 'params',],\n",
    "                      value_vars=['mean_fit_time', 'std_fit_time', 'mean_score_time', 'std_score_time'])\n",
    "sns.lmplot(data=sv_df, x='mean_fit_time',y='mean_test_score',\n",
    "          hue='param_kernel',fit_reg=False)"
   ]
  },
  {
   "cell_type": "markdown",
   "id": "37580514",
   "metadata": {},
   "source": [
    "This looks like mostly no."
   ]
  },
  {
   "cell_type": "code",
   "execution_count": 24,
   "id": "82f21ac0",
   "metadata": {},
   "outputs": [
    {
     "data": {
      "text/plain": [
       "<seaborn.axisgrid.FacetGrid at 0x7f3b83157f50>"
      ]
     },
     "execution_count": 24,
     "metadata": {},
     "output_type": "execute_result"
    },
    {
     "data": {
      "image/png": "[encoded data removed]",
      "text/plain": [
       "<Figure size 451.3x360 with 1 Axes>"
      ]
     },
     "metadata": {
      "filenames": {
       "image/png": "/home/runner/work/BrownFall21/BrownFall21/_build/jupyter_execute/notes/2021-11-15_40_1.png"
      }
     },
     "output_type": "display_data"
    }
   ],
   "source": [
    "sns.lmplot(data=sv_df, x='mean_score_time',y='mean_test_score',\n",
    "          hue='param_kernel',fit_reg=False)"
   ]
  },
  {
   "cell_type": "markdown",
   "id": "001e7485",
   "metadata": {},
   "source": [
    "Again, for score time, the slower models don't appear to be better.  Remember though the time differences weren't that different. \n",
    "\n",
    "```{admonition} Try it yourself\n",
    "Try this same analysis for the decision tree, does it matter there?\n",
    "```"
   ]
  },
  {
   "cell_type": "code",
   "execution_count": 25,
   "id": "8d5289b0",
   "metadata": {},
   "outputs": [
    {
     "data": {
      "text/html": [
       "<div>\n",
       "<style scoped>\n",
       "    .dataframe tbody tr th:only-of-type {\n",
       "        vertical-align: middle;\n",
       "    }\n",
       "\n",
       "    .dataframe tbody tr th {\n",
       "        vertical-align: top;\n",
       "    }\n",
       "\n",
       "    .dataframe thead th {\n",
       "        text-align: right;\n",
       "    }\n",
       "</style>\n",
       "<table border=\"1\" class=\"dataframe\">\n",
       "  <thead>\n",
       "    <tr style=\"text-align: right;\">\n",
       "      <th></th>\n",
       "      <th>param_C</th>\n",
       "      <th>param_kernel</th>\n",
       "      <th>params</th>\n",
       "      <th>variable</th>\n",
       "      <th>score</th>\n",
       "    </tr>\n",
       "  </thead>\n",
       "  <tbody>\n",
       "    <tr>\n",
       "      <th>0</th>\n",
       "      <td>0.5</td>\n",
       "      <td>linear</td>\n",
       "      <td>{'C': 0.5, 'kernel': 'linear'}</td>\n",
       "      <td>split0_test_score</td>\n",
       "      <td>0.916667</td>\n",
       "    </tr>\n",
       "    <tr>\n",
       "      <th>1</th>\n",
       "      <td>0.5</td>\n",
       "      <td>rbf</td>\n",
       "      <td>{'C': 0.5, 'kernel': 'rbf'}</td>\n",
       "      <td>split0_test_score</td>\n",
       "      <td>0.916667</td>\n",
       "    </tr>\n",
       "    <tr>\n",
       "      <th>2</th>\n",
       "      <td>0.75</td>\n",
       "      <td>linear</td>\n",
       "      <td>{'C': 0.75, 'kernel': 'linear'}</td>\n",
       "      <td>split0_test_score</td>\n",
       "      <td>0.833333</td>\n",
       "    </tr>\n",
       "    <tr>\n",
       "      <th>3</th>\n",
       "      <td>0.75</td>\n",
       "      <td>rbf</td>\n",
       "      <td>{'C': 0.75, 'kernel': 'rbf'}</td>\n",
       "      <td>split0_test_score</td>\n",
       "      <td>0.916667</td>\n",
       "    </tr>\n",
       "    <tr>\n",
       "      <th>4</th>\n",
       "      <td>1</td>\n",
       "      <td>linear</td>\n",
       "      <td>{'C': 1, 'kernel': 'linear'}</td>\n",
       "      <td>split0_test_score</td>\n",
       "      <td>0.916667</td>\n",
       "    </tr>\n",
       "  </tbody>\n",
       "</table>\n",
       "</div>"
      ],
      "text/plain": [
       "  param_C param_kernel                           params           variable  \\\n",
       "0     0.5       linear   {'C': 0.5, 'kernel': 'linear'}  split0_test_score   \n",
       "1     0.5          rbf      {'C': 0.5, 'kernel': 'rbf'}  split0_test_score   \n",
       "2    0.75       linear  {'C': 0.75, 'kernel': 'linear'}  split0_test_score   \n",
       "3    0.75          rbf     {'C': 0.75, 'kernel': 'rbf'}  split0_test_score   \n",
       "4       1       linear     {'C': 1, 'kernel': 'linear'}  split0_test_score   \n",
       "\n",
       "      score  \n",
       "0  0.916667  \n",
       "1  0.916667  \n",
       "2  0.833333  \n",
       "3  0.916667  \n",
       "4  0.916667  "
      ]
     },
     "execution_count": 25,
     "metadata": {},
     "output_type": "execute_result"
    }
   ],
   "source": [
    "sv_df_scores = sv_df.melt(id_vars=['param_C', 'param_kernel', 'params',],\n",
    "                    value_vars=['split0_test_score',\n",
    "       'split1_test_score', 'split2_test_score', 'split3_test_score',\n",
    "       'split4_test_score'], value_name='score')\n",
    "sv_df_scores.head()"
   ]
  },
  {
   "cell_type": "code",
   "execution_count": 26,
   "id": "e674ec6e",
   "metadata": {},
   "outputs": [
    {
     "data": {
      "text/plain": [
       "<seaborn.axisgrid.FacetGrid at 0x7f3b830bf310>"
      ]
     },
     "execution_count": 26,
     "metadata": {},
     "output_type": "execute_result"
    },
    {
     "data": {
      "image/png": "[encoded data removed]",
      "text/plain": [
       "<Figure size 720x360 with 2 Axes>"
      ]
     },
     "metadata": {
      "filenames": {
       "image/png": "/home/runner/work/BrownFall21/BrownFall21/_build/jupyter_execute/notes/2021-11-15_43_1.png"
      }
     },
     "output_type": "display_data"
    }
   ],
   "source": [
    "sns.catplot(data=sv_df_scores,x='param_C',y='score',\n",
    "            col='param_kernel')"
   ]
  },
  {
   "cell_type": "markdown",
   "id": "67aef5ca",
   "metadata": {},
   "source": [
    "```{admonition} Try it yourself\n",
    "Try interpretting the plot above, what does it say? what can you conclude from it. \n",
    "```"
   ]
  },
  {
   "cell_type": "code",
   "execution_count": 27,
   "id": "e603f041",
   "metadata": {},
   "outputs": [
    {
     "data": {
      "text/plain": [
       "<AxesSubplot:>"
      ]
     },
     "execution_count": 27,
     "metadata": {},
     "output_type": "execute_result"
    },
    {
     "data": {
      "image/png": "[encoded data removed]",
      "text/plain": [
       "<Figure size 432x288 with 1 Axes>"
      ]
     },
     "metadata": {
      "filenames": {
       "image/png": "/home/runner/work/BrownFall21/BrownFall21/_build/jupyter_execute/notes/2021-11-15_45_1.png"
      }
     },
     "output_type": "display_data"
    }
   ],
   "source": [
    "dt_df['mean_test_score'].plot(kind='bar')"
   ]
  },
  {
   "cell_type": "code",
   "execution_count": 28,
   "id": "37d59382",
   "metadata": {},
   "outputs": [
    {
     "data": {
      "text/plain": [
       "<AxesSubplot:>"
      ]
     },
     "execution_count": 28,
     "metadata": {},
     "output_type": "execute_result"
    },
    {
     "data": {
      "image/png": "[encoded data removed]",
      "text/plain": [
       "<Figure size 432x288 with 1 Axes>"
      ]
     },
     "metadata": {
      "filenames": {
       "image/png": "/home/runner/work/BrownFall21/BrownFall21/_build/jupyter_execute/notes/2021-11-15_46_1.png"
      }
     },
     "output_type": "display_data"
    }
   ],
   "source": [
    "sv_df['mean_test_score'].plot(kind='bar')"
   ]
  },
  {
   "cell_type": "markdown",
   "id": "141ea968",
   "metadata": {},
   "source": [
    "From these last two plots we see that the SVM performance is more sensitive to its parameters, where for the parameters tested, the decision tree is not impacted. \n",
    "\n",
    "What can we say based on this?  We'll pick up from here on Wednesday."
   ]
  }
 ],
 "metadata": {
  "jupytext": {
   "text_representation": {
    "extension": ".md",
    "format_name": "myst",
    "format_version": 0.13,
    "jupytext_version": "1.10.3"
   }
  },
  "kernelspec": {
   "display_name": "Python 3",
   "language": "python",
   "name": "python3"
  },
  "language_info": {
   "codemirror_mode": {
    "name": "ipython",
    "version": 3
   },
   "file_extension": ".py",
   "mimetype": "text/x-python",
   "name": "python",
   "nbconvert_exporter": "python",
   "pygments_lexer": "ipython3",
   "version": "3.7.12"
  },
  "source_map": [
   12,
   16,
   20,
   32,
   36,
   38,
   42,
   45,
   49,
   53,
   59,
   61,
   65,
   67,
   71,
   73,
   77,
   80,
   88,
   96,
   104,
   112,
   116,
   120,
   122,
   126,
   130,
   134,
   140,
   144,
   146,
   150,
   152,
   156,
   162,
   166,
   171,
   173,
   177,
   182,
   186,
   189,
   197,
   206,
   209,
   215,
   219,
   221
  ]
 },
 "nbformat": 4,
 "nbformat_minor": 5
}