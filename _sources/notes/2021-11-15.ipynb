{
 "cells": [
  {
   "cell_type": "markdown",
   "id": "7a7ad72e",
   "metadata": {},
   "source": [
    "# Model Comparison"
   ]
  },
  {
   "cell_type": "markdown",
   "id": "bbfecf36",
   "metadata": {},
   "source": [
    "To compare models, we will first optimize the parameters of two diffrent models and look at how the different parameters settings impact the model comparison.  Later, we'll see how to compare across models of different classes."
   ]
  },
  {
   "cell_type": "code",
   "execution_count": 1,
   "id": "3023b8e7",
   "metadata": {},
   "outputs": [],
   "source": [
    "import matplotlib.pyplot as plt\n",
    "import numpy as np\n",
    "import seaborn as sns\n",
    "import pandas as pd\n",
    "from sklearn import datasets\n",
    "from sklearn import cluster\n",
    "from sklearn import svm\n",
    "from sklearn import tree\n",
    "# import the whole model selection module\n",
    "from sklearn import model_selection\n",
    "sns.set_theme(palette='colorblind')"
   ]
  },
  {
   "cell_type": "markdown",
   "id": "2c30bd86",
   "metadata": {},
   "source": [
    "We'll use the iris data again."
   ]
  },
  {
   "cell_type": "code",
   "execution_count": 2,
   "id": "eba2748f",
   "metadata": {},
   "outputs": [],
   "source": [
    "iris_X, iris_y = datasets.load_iris(return_X_y=True)"
   ]
  },
  {
   "cell_type": "markdown",
   "id": "0f6a4299",
   "metadata": {},
   "source": [
    "Remember, we need to split the data into training and test.  The cross validation step will hep us optimize the parameters, but we don't want *data leakage* where the model has seen the test data multiple times. So, we split the data here for train and test annd the cross validation splits the training data into train and \"test\" again, but this test is better termed validation."
   ]
  },
  {
   "cell_type": "code",
   "execution_count": 3,
   "id": "e3510627",
   "metadata": {},
   "outputs": [],
   "source": [
    "iris_X_train, iris_X_test, iris_y_train, iris_y_test = model_selection.train_test_split(\n",
    "    iris_X,iris_y, test_size =.2)"
   ]
  },
  {
   "cell_type": "markdown",
   "id": "cf9c2991",
   "metadata": {},
   "source": [
    "Then we can make the object, the parameter grid dictionary and the Grid Search object.  We split these into separate cells, so that we can use the built in help to see more detail."
   ]
  },
  {
   "cell_type": "code",
   "execution_count": 4,
   "id": "75087705",
   "metadata": {},
   "outputs": [],
   "source": [
    "dt = tree.DecisionTreeClassifier()"
   ]
  },
  {
   "cell_type": "code",
   "execution_count": 5,
   "id": "3b37095f",
   "metadata": {},
   "outputs": [],
   "source": [
    "params_dt = {'criterion':['gini','entropy'],\n",
    "             'max_depth':[2,3,4],\n",
    "       'min_samples_leaf':list(range(2,20,2))}"
   ]
  },
  {
   "cell_type": "code",
   "execution_count": 6,
   "id": "238ed7c1",
   "metadata": {},
   "outputs": [],
   "source": [
    "dt_opt = model_selection.GridSearchCV(dt,params_dt)"
   ]
  },
  {
   "cell_type": "markdown",
   "id": "f16d4d63",
   "metadata": {},
   "source": [
    "Then we fit the Grid search using the training data, and remember this actually resets the parameters and then cross validates multiple times."
   ]
  },
  {
   "cell_type": "code",
   "execution_count": 7,
   "id": "0066ba67",
   "metadata": {},
   "outputs": [
    {
     "data": {
      "text/plain": [
       "GridSearchCV(estimator=DecisionTreeClassifier(),\n",
       "             param_grid={'criterion': ['gini', 'entropy'],\n",
       "                         'max_depth': [2, 3, 4],\n",
       "                         'min_samples_leaf': [2, 4, 6, 8, 10, 12, 14, 16, 18]})"
      ]
     },
     "execution_count": 7,
     "metadata": {},
     "output_type": "execute_result"
    }
   ],
   "source": [
    "dt_opt.fit(iris_X_train,iris_y_train)"
   ]
  },
  {
   "cell_type": "markdown",
   "id": "f0456b97",
   "metadata": {},
   "source": [
    "adn look at the results"
   ]
  },
  {
   "cell_type": "code",
   "execution_count": 8,
   "id": "2a8577fb",
   "metadata": {},
   "outputs": [
    {
     "data": {
      "text/plain": [
       "{'mean_fit_time': array([0.00075893, 0.00057068, 0.00053968, 0.00056691, 0.00059838,\n",
       "        0.00057826, 0.00058856, 0.0005857 , 0.00058904, 0.0005723 ,\n",
       "        0.00058651, 0.00058193, 0.00056205, 0.00054145, 0.00055895,\n",
       "        0.00053906, 0.00056529, 0.00062432, 0.00054398, 0.00055046,\n",
       "        0.0005918 , 0.00057321, 0.00058074, 0.00059371, 0.0005322 ,\n",
       "        0.00051455, 0.00058703, 0.00054226, 0.00056477, 0.00056715,\n",
       "        0.00056109, 0.00058317, 0.00054193, 0.00064092, 0.00053782,\n",
       "        0.00053506, 0.00057478, 0.00053554, 0.00058203, 0.00059428,\n",
       "        0.00057039, 0.0005125 , 0.00066357, 0.00065327, 0.00053806,\n",
       "        0.00061402, 0.00060563, 0.0006053 , 0.0006382 , 0.00057898,\n",
       "        0.00062532, 0.00058379, 0.00060091, 0.00059552]),\n",
       " 'std_fit_time': array([1.53918898e-04, 5.01800824e-05, 5.64393936e-05, 1.59832231e-05,\n",
       "        4.78221315e-05, 4.52600106e-05, 6.17820887e-05, 2.73978531e-05,\n",
       "        1.25158773e-04, 5.97683756e-05, 6.37301380e-05, 7.78195320e-05,\n",
       "        6.18659415e-05, 3.52085399e-05, 7.35315676e-05, 2.46276121e-05,\n",
       "        8.16955795e-05, 1.17331458e-04, 2.59346816e-05, 5.01843415e-05,\n",
       "        5.25333901e-05, 3.96255408e-05, 5.29068824e-05, 7.01799009e-05,\n",
       "        2.87922000e-05, 2.86266756e-05, 9.16209315e-05, 3.13313583e-05,\n",
       "        8.45299816e-05, 2.56232430e-05, 3.03822737e-05, 4.61653731e-05,\n",
       "        5.58288553e-05, 1.00000426e-04, 3.53498139e-05, 2.07981916e-05,\n",
       "        5.20157875e-05, 1.59675670e-05, 7.34427371e-05, 7.68925016e-05,\n",
       "        5.86412003e-05, 1.29332795e-05, 1.30534501e-04, 9.69455796e-05,\n",
       "        3.13559501e-05, 8.78554316e-05, 3.62604483e-05, 2.68232663e-05,\n",
       "        5.90335957e-05, 1.42203042e-05, 6.56816833e-05, 1.16738462e-05,\n",
       "        4.67272680e-05, 4.65573311e-05]),\n",
       " 'mean_score_time': array([0.00039535, 0.00036378, 0.0002893 , 0.00030837, 0.00033298,\n",
       "        0.00032573, 0.00030007, 0.0003077 , 0.00028849, 0.00033278,\n",
       "        0.00032182, 0.00033927, 0.00032787, 0.00029879, 0.00034642,\n",
       "        0.00031691, 0.0003087 , 0.00029492, 0.00030241, 0.00028548,\n",
       "        0.00037303, 0.00030942, 0.00032487, 0.00029774, 0.00030947,\n",
       "        0.0003233 , 0.00033941, 0.000316  , 0.00028629, 0.00032535,\n",
       "        0.00029669, 0.0002964 , 0.00030894, 0.00030661, 0.0002954 ,\n",
       "        0.00030465, 0.00033255, 0.00031271, 0.00030603, 0.00029168,\n",
       "        0.00029774, 0.00031862, 0.00043435, 0.0003222 , 0.00034471,\n",
       "        0.00041327, 0.0003212 , 0.00033908, 0.00033879, 0.00034013,\n",
       "        0.00033169, 0.00032115, 0.00031586, 0.00031319]),\n",
       " 'std_score_time': array([7.38268664e-05, 4.42008756e-05, 2.01113385e-05, 6.22546658e-05,\n",
       "        2.71439736e-05, 3.37883459e-05, 2.19472558e-05, 3.93942533e-05,\n",
       "        2.02905277e-05, 4.99511447e-05, 3.83595860e-05, 4.97153906e-05,\n",
       "        4.25124863e-05, 2.90183522e-05, 9.16273340e-05, 2.70755344e-05,\n",
       "        3.59711616e-05, 2.84076512e-05, 1.95570678e-05, 2.87120121e-05,\n",
       "        6.52771783e-05, 4.90944091e-05, 5.28499512e-05, 1.68623805e-05,\n",
       "        3.62484068e-05, 5.58093029e-05, 6.43591689e-05, 4.23855934e-05,\n",
       "        1.81068826e-05, 6.83054208e-05, 2.14113159e-05, 3.47428802e-05,\n",
       "        2.24976198e-05, 3.13253343e-05, 2.35322882e-05, 3.85585280e-05,\n",
       "        5.72771348e-05, 4.21672359e-05, 4.35061582e-05, 2.21195913e-05,\n",
       "        1.71372382e-05, 4.73637815e-05, 1.42726323e-04, 4.94113748e-05,\n",
       "        7.48929494e-05, 1.96196189e-04, 1.03479157e-05, 3.65524219e-05,\n",
       "        4.96460536e-06, 2.29579141e-05, 9.82029891e-06, 1.93809523e-05,\n",
       "        1.23862066e-05, 3.29880344e-06]),\n",
       " 'param_criterion': masked_array(data=['gini', 'gini', 'gini', 'gini', 'gini', 'gini', 'gini',\n",
       "                    'gini', 'gini', 'gini', 'gini', 'gini', 'gini', 'gini',\n",
       "                    'gini', 'gini', 'gini', 'gini', 'gini', 'gini', 'gini',\n",
       "                    'gini', 'gini', 'gini', 'gini', 'gini', 'gini',\n",
       "                    'entropy', 'entropy', 'entropy', 'entropy', 'entropy',\n",
       "                    'entropy', 'entropy', 'entropy', 'entropy', 'entropy',\n",
       "                    'entropy', 'entropy', 'entropy', 'entropy', 'entropy',\n",
       "                    'entropy', 'entropy', 'entropy', 'entropy', 'entropy',\n",
       "                    'entropy', 'entropy', 'entropy', 'entropy', 'entropy',\n",
       "                    'entropy', 'entropy'],\n",
       "              mask=[False, False, False, False, False, False, False, False,\n",
       "                    False, False, False, False, False, False, False, False,\n",
       "                    False, False, False, False, False, False, False, False,\n",
       "                    False, False, False, False, False, False, False, False,\n",
       "                    False, False, False, False, False, False, False, False,\n",
       "                    False, False, False, False, False, False, False, False,\n",
       "                    False, False, False, False, False, False],\n",
       "        fill_value='?',\n",
       "             dtype=object),\n",
       " 'param_max_depth': masked_array(data=[2, 2, 2, 2, 2, 2, 2, 2, 2, 3, 3, 3, 3, 3, 3, 3, 3, 3,\n",
       "                    4, 4, 4, 4, 4, 4, 4, 4, 4, 2, 2, 2, 2, 2, 2, 2, 2, 2,\n",
       "                    3, 3, 3, 3, 3, 3, 3, 3, 3, 4, 4, 4, 4, 4, 4, 4, 4, 4],\n",
       "              mask=[False, False, False, False, False, False, False, False,\n",
       "                    False, False, False, False, False, False, False, False,\n",
       "                    False, False, False, False, False, False, False, False,\n",
       "                    False, False, False, False, False, False, False, False,\n",
       "                    False, False, False, False, False, False, False, False,\n",
       "                    False, False, False, False, False, False, False, False,\n",
       "                    False, False, False, False, False, False],\n",
       "        fill_value='?',\n",
       "             dtype=object),\n",
       " 'param_min_samples_leaf': masked_array(data=[2, 4, 6, 8, 10, 12, 14, 16, 18, 2, 4, 6, 8, 10, 12, 14,\n",
       "                    16, 18, 2, 4, 6, 8, 10, 12, 14, 16, 18, 2, 4, 6, 8, 10,\n",
       "                    12, 14, 16, 18, 2, 4, 6, 8, 10, 12, 14, 16, 18, 2, 4,\n",
       "                    6, 8, 10, 12, 14, 16, 18],\n",
       "              mask=[False, False, False, False, False, False, False, False,\n",
       "                    False, False, False, False, False, False, False, False,\n",
       "                    False, False, False, False, False, False, False, False,\n",
       "                    False, False, False, False, False, False, False, False,\n",
       "                    False, False, False, False, False, False, False, False,\n",
       "                    False, False, False, False, False, False, False, False,\n",
       "                    False, False, False, False, False, False],\n",
       "        fill_value='?',\n",
       "             dtype=object),\n",
       " 'params': [{'criterion': 'gini', 'max_depth': 2, 'min_samples_leaf': 2},\n",
       "  {'criterion': 'gini', 'max_depth': 2, 'min_samples_leaf': 4},\n",
       "  {'criterion': 'gini', 'max_depth': 2, 'min_samples_leaf': 6},\n",
       "  {'criterion': 'gini', 'max_depth': 2, 'min_samples_leaf': 8},\n",
       "  {'criterion': 'gini', 'max_depth': 2, 'min_samples_leaf': 10},\n",
       "  {'criterion': 'gini', 'max_depth': 2, 'min_samples_leaf': 12},\n",
       "  {'criterion': 'gini', 'max_depth': 2, 'min_samples_leaf': 14},\n",
       "  {'criterion': 'gini', 'max_depth': 2, 'min_samples_leaf': 16},\n",
       "  {'criterion': 'gini', 'max_depth': 2, 'min_samples_leaf': 18},\n",
       "  {'criterion': 'gini', 'max_depth': 3, 'min_samples_leaf': 2},\n",
       "  {'criterion': 'gini', 'max_depth': 3, 'min_samples_leaf': 4},\n",
       "  {'criterion': 'gini', 'max_depth': 3, 'min_samples_leaf': 6},\n",
       "  {'criterion': 'gini', 'max_depth': 3, 'min_samples_leaf': 8},\n",
       "  {'criterion': 'gini', 'max_depth': 3, 'min_samples_leaf': 10},\n",
       "  {'criterion': 'gini', 'max_depth': 3, 'min_samples_leaf': 12},\n",
       "  {'criterion': 'gini', 'max_depth': 3, 'min_samples_leaf': 14},\n",
       "  {'criterion': 'gini', 'max_depth': 3, 'min_samples_leaf': 16},\n",
       "  {'criterion': 'gini', 'max_depth': 3, 'min_samples_leaf': 18},\n",
       "  {'criterion': 'gini', 'max_depth': 4, 'min_samples_leaf': 2},\n",
       "  {'criterion': 'gini', 'max_depth': 4, 'min_samples_leaf': 4},\n",
       "  {'criterion': 'gini', 'max_depth': 4, 'min_samples_leaf': 6},\n",
       "  {'criterion': 'gini', 'max_depth': 4, 'min_samples_leaf': 8},\n",
       "  {'criterion': 'gini', 'max_depth': 4, 'min_samples_leaf': 10},\n",
       "  {'criterion': 'gini', 'max_depth': 4, 'min_samples_leaf': 12},\n",
       "  {'criterion': 'gini', 'max_depth': 4, 'min_samples_leaf': 14},\n",
       "  {'criterion': 'gini', 'max_depth': 4, 'min_samples_leaf': 16},\n",
       "  {'criterion': 'gini', 'max_depth': 4, 'min_samples_leaf': 18},\n",
       "  {'criterion': 'entropy', 'max_depth': 2, 'min_samples_leaf': 2},\n",
       "  {'criterion': 'entropy', 'max_depth': 2, 'min_samples_leaf': 4},\n",
       "  {'criterion': 'entropy', 'max_depth': 2, 'min_samples_leaf': 6},\n",
       "  {'criterion': 'entropy', 'max_depth': 2, 'min_samples_leaf': 8},\n",
       "  {'criterion': 'entropy', 'max_depth': 2, 'min_samples_leaf': 10},\n",
       "  {'criterion': 'entropy', 'max_depth': 2, 'min_samples_leaf': 12},\n",
       "  {'criterion': 'entropy', 'max_depth': 2, 'min_samples_leaf': 14},\n",
       "  {'criterion': 'entropy', 'max_depth': 2, 'min_samples_leaf': 16},\n",
       "  {'criterion': 'entropy', 'max_depth': 2, 'min_samples_leaf': 18},\n",
       "  {'criterion': 'entropy', 'max_depth': 3, 'min_samples_leaf': 2},\n",
       "  {'criterion': 'entropy', 'max_depth': 3, 'min_samples_leaf': 4},\n",
       "  {'criterion': 'entropy', 'max_depth': 3, 'min_samples_leaf': 6},\n",
       "  {'criterion': 'entropy', 'max_depth': 3, 'min_samples_leaf': 8},\n",
       "  {'criterion': 'entropy', 'max_depth': 3, 'min_samples_leaf': 10},\n",
       "  {'criterion': 'entropy', 'max_depth': 3, 'min_samples_leaf': 12},\n",
       "  {'criterion': 'entropy', 'max_depth': 3, 'min_samples_leaf': 14},\n",
       "  {'criterion': 'entropy', 'max_depth': 3, 'min_samples_leaf': 16},\n",
       "  {'criterion': 'entropy', 'max_depth': 3, 'min_samples_leaf': 18},\n",
       "  {'criterion': 'entropy', 'max_depth': 4, 'min_samples_leaf': 2},\n",
       "  {'criterion': 'entropy', 'max_depth': 4, 'min_samples_leaf': 4},\n",
       "  {'criterion': 'entropy', 'max_depth': 4, 'min_samples_leaf': 6},\n",
       "  {'criterion': 'entropy', 'max_depth': 4, 'min_samples_leaf': 8},\n",
       "  {'criterion': 'entropy', 'max_depth': 4, 'min_samples_leaf': 10},\n",
       "  {'criterion': 'entropy', 'max_depth': 4, 'min_samples_leaf': 12},\n",
       "  {'criterion': 'entropy', 'max_depth': 4, 'min_samples_leaf': 14},\n",
       "  {'criterion': 'entropy', 'max_depth': 4, 'min_samples_leaf': 16},\n",
       "  {'criterion': 'entropy', 'max_depth': 4, 'min_samples_leaf': 18}],\n",
       " 'split0_test_score': array([0.95833333, 0.95833333, 0.95833333, 0.95833333, 0.95833333,\n",
       "        0.95833333, 0.95833333, 0.95833333, 0.95833333, 0.95833333,\n",
       "        0.95833333, 0.95833333, 0.95833333, 0.95833333, 0.95833333,\n",
       "        0.95833333, 0.95833333, 0.95833333, 0.95833333, 0.95833333,\n",
       "        0.95833333, 0.95833333, 0.95833333, 0.95833333, 0.95833333,\n",
       "        0.95833333, 0.95833333, 0.95833333, 0.95833333, 0.95833333,\n",
       "        0.95833333, 0.95833333, 0.95833333, 0.95833333, 0.95833333,\n",
       "        0.95833333, 0.95833333, 0.95833333, 0.95833333, 0.95833333,\n",
       "        0.95833333, 0.95833333, 0.95833333, 0.95833333, 0.95833333,\n",
       "        0.95833333, 0.95833333, 0.95833333, 0.95833333, 0.95833333,\n",
       "        0.95833333, 0.95833333, 0.95833333, 0.95833333]),\n",
       " 'split1_test_score': array([0.91666667, 0.91666667, 0.91666667, 0.91666667, 0.91666667,\n",
       "        0.91666667, 0.91666667, 0.91666667, 0.91666667, 0.875     ,\n",
       "        0.91666667, 0.91666667, 0.91666667, 0.91666667, 0.91666667,\n",
       "        0.91666667, 0.91666667, 0.91666667, 0.875     , 0.91666667,\n",
       "        0.91666667, 0.91666667, 0.91666667, 0.91666667, 0.91666667,\n",
       "        0.91666667, 0.91666667, 0.91666667, 0.91666667, 0.91666667,\n",
       "        0.91666667, 0.91666667, 0.91666667, 0.91666667, 0.91666667,\n",
       "        0.91666667, 0.875     , 0.91666667, 0.91666667, 0.91666667,\n",
       "        0.91666667, 0.91666667, 0.91666667, 0.91666667, 0.91666667,\n",
       "        0.875     , 0.91666667, 0.91666667, 0.91666667, 0.91666667,\n",
       "        0.91666667, 0.91666667, 0.91666667, 0.91666667]),\n",
       " 'split2_test_score': array([0.95833333, 0.95833333, 0.95833333, 0.95833333, 0.95833333,\n",
       "        0.95833333, 0.95833333, 0.95833333, 0.95833333, 0.95833333,\n",
       "        0.95833333, 0.95833333, 0.95833333, 0.95833333, 0.95833333,\n",
       "        0.95833333, 0.95833333, 0.95833333, 0.95833333, 0.95833333,\n",
       "        0.95833333, 0.95833333, 0.95833333, 0.95833333, 0.95833333,\n",
       "        0.95833333, 0.95833333, 0.95833333, 0.95833333, 0.95833333,\n",
       "        0.95833333, 0.95833333, 0.95833333, 0.95833333, 0.95833333,\n",
       "        0.95833333, 0.95833333, 0.95833333, 0.95833333, 0.95833333,\n",
       "        0.95833333, 0.95833333, 0.95833333, 0.95833333, 0.95833333,\n",
       "        0.95833333, 0.95833333, 0.95833333, 0.95833333, 0.95833333,\n",
       "        0.95833333, 0.95833333, 0.95833333, 0.95833333]),\n",
       " 'split3_test_score': array([1., 1., 1., 1., 1., 1., 1., 1., 1., 1., 1., 1., 1., 1., 1., 1., 1.,\n",
       "        1., 1., 1., 1., 1., 1., 1., 1., 1., 1., 1., 1., 1., 1., 1., 1., 1.,\n",
       "        1., 1., 1., 1., 1., 1., 1., 1., 1., 1., 1., 1., 1., 1., 1., 1., 1.,\n",
       "        1., 1., 1.]),\n",
       " 'split4_test_score': array([0.95833333, 0.95833333, 0.95833333, 0.95833333, 0.95833333,\n",
       "        0.95833333, 0.95833333, 0.95833333, 0.95833333, 0.95833333,\n",
       "        0.95833333, 0.95833333, 0.95833333, 0.95833333, 0.95833333,\n",
       "        0.95833333, 0.95833333, 0.95833333, 0.95833333, 0.95833333,\n",
       "        0.95833333, 0.95833333, 0.95833333, 0.95833333, 0.95833333,\n",
       "        0.95833333, 0.95833333, 0.95833333, 0.95833333, 0.95833333,\n",
       "        0.95833333, 0.95833333, 0.95833333, 0.95833333, 0.95833333,\n",
       "        0.95833333, 0.95833333, 0.95833333, 0.95833333, 0.95833333,\n",
       "        0.95833333, 0.95833333, 0.95833333, 0.95833333, 0.95833333,\n",
       "        0.95833333, 0.95833333, 0.95833333, 0.95833333, 0.95833333,\n",
       "        0.95833333, 0.95833333, 0.95833333, 0.95833333]),\n",
       " 'mean_test_score': array([0.95833333, 0.95833333, 0.95833333, 0.95833333, 0.95833333,\n",
       "        0.95833333, 0.95833333, 0.95833333, 0.95833333, 0.95      ,\n",
       "        0.95833333, 0.95833333, 0.95833333, 0.95833333, 0.95833333,\n",
       "        0.95833333, 0.95833333, 0.95833333, 0.95      , 0.95833333,\n",
       "        0.95833333, 0.95833333, 0.95833333, 0.95833333, 0.95833333,\n",
       "        0.95833333, 0.95833333, 0.95833333, 0.95833333, 0.95833333,\n",
       "        0.95833333, 0.95833333, 0.95833333, 0.95833333, 0.95833333,\n",
       "        0.95833333, 0.95      , 0.95833333, 0.95833333, 0.95833333,\n",
       "        0.95833333, 0.95833333, 0.95833333, 0.95833333, 0.95833333,\n",
       "        0.95      , 0.95833333, 0.95833333, 0.95833333, 0.95833333,\n",
       "        0.95833333, 0.95833333, 0.95833333, 0.95833333]),\n",
       " 'std_test_score': array([0.02635231, 0.02635231, 0.02635231, 0.02635231, 0.02635231,\n",
       "        0.02635231, 0.02635231, 0.02635231, 0.02635231, 0.04082483,\n",
       "        0.02635231, 0.02635231, 0.02635231, 0.02635231, 0.02635231,\n",
       "        0.02635231, 0.02635231, 0.02635231, 0.04082483, 0.02635231,\n",
       "        0.02635231, 0.02635231, 0.02635231, 0.02635231, 0.02635231,\n",
       "        0.02635231, 0.02635231, 0.02635231, 0.02635231, 0.02635231,\n",
       "        0.02635231, 0.02635231, 0.02635231, 0.02635231, 0.02635231,\n",
       "        0.02635231, 0.04082483, 0.02635231, 0.02635231, 0.02635231,\n",
       "        0.02635231, 0.02635231, 0.02635231, 0.02635231, 0.02635231,\n",
       "        0.04082483, 0.02635231, 0.02635231, 0.02635231, 0.02635231,\n",
       "        0.02635231, 0.02635231, 0.02635231, 0.02635231]),\n",
       " 'rank_test_score': array([ 1,  1,  1,  1,  1,  1,  1,  1,  1, 51,  1,  1,  1,  1,  1,  1,  1,\n",
       "         1, 51,  1,  1,  1,  1,  1,  1,  1,  1,  1,  1,  1,  1,  1,  1,  1,\n",
       "         1,  1, 51,  1,  1,  1,  1,  1,  1,  1,  1, 51,  1,  1,  1,  1,  1,\n",
       "         1,  1,  1], dtype=int32)}"
      ]
     },
     "execution_count": 8,
     "metadata": {},
     "output_type": "execute_result"
    }
   ],
   "source": [
    "dt_opt.cv_results_"
   ]
  },
  {
   "cell_type": "markdown",
   "id": "8bd80bdf",
   "metadata": {},
   "source": [
    "We can reformat it into a dataframe for further analysis."
   ]
  },
  {
   "cell_type": "code",
   "execution_count": 9,
   "id": "26fdc928",
   "metadata": {},
   "outputs": [
    {
     "data": {
      "text/html": [
       "<div>\n",
       "<style scoped>\n",
       "    .dataframe tbody tr th:only-of-type {\n",
       "        vertical-align: middle;\n",
       "    }\n",
       "\n",
       "    .dataframe tbody tr th {\n",
       "        vertical-align: top;\n",
       "    }\n",
       "\n",
       "    .dataframe thead th {\n",
       "        text-align: right;\n",
       "    }\n",
       "</style>\n",
       "<table border=\"1\" class=\"dataframe\">\n",
       "  <thead>\n",
       "    <tr style=\"text-align: right;\">\n",
       "      <th></th>\n",
       "      <th>mean_fit_time</th>\n",
       "      <th>std_fit_time</th>\n",
       "      <th>mean_score_time</th>\n",
       "      <th>std_score_time</th>\n",
       "      <th>param_criterion</th>\n",
       "      <th>param_max_depth</th>\n",
       "      <th>param_min_samples_leaf</th>\n",
       "      <th>params</th>\n",
       "      <th>split0_test_score</th>\n",
       "      <th>split1_test_score</th>\n",
       "      <th>split2_test_score</th>\n",
       "      <th>split3_test_score</th>\n",
       "      <th>split4_test_score</th>\n",
       "      <th>mean_test_score</th>\n",
       "      <th>std_test_score</th>\n",
       "      <th>rank_test_score</th>\n",
       "    </tr>\n",
       "  </thead>\n",
       "  <tbody>\n",
       "    <tr>\n",
       "      <th>0</th>\n",
       "      <td>0.000759</td>\n",
       "      <td>0.000154</td>\n",
       "      <td>0.000395</td>\n",
       "      <td>0.000074</td>\n",
       "      <td>gini</td>\n",
       "      <td>2</td>\n",
       "      <td>2</td>\n",
       "      <td>{'criterion': 'gini', 'max_depth': 2, 'min_sam...</td>\n",
       "      <td>0.958333</td>\n",
       "      <td>0.916667</td>\n",
       "      <td>0.958333</td>\n",
       "      <td>1.0</td>\n",
       "      <td>0.958333</td>\n",
       "      <td>0.958333</td>\n",
       "      <td>0.026352</td>\n",
       "      <td>1</td>\n",
       "    </tr>\n",
       "    <tr>\n",
       "      <th>1</th>\n",
       "      <td>0.000571</td>\n",
       "      <td>0.000050</td>\n",
       "      <td>0.000364</td>\n",
       "      <td>0.000044</td>\n",
       "      <td>gini</td>\n",
       "      <td>2</td>\n",
       "      <td>4</td>\n",
       "      <td>{'criterion': 'gini', 'max_depth': 2, 'min_sam...</td>\n",
       "      <td>0.958333</td>\n",
       "      <td>0.916667</td>\n",
       "      <td>0.958333</td>\n",
       "      <td>1.0</td>\n",
       "      <td>0.958333</td>\n",
       "      <td>0.958333</td>\n",
       "      <td>0.026352</td>\n",
       "      <td>1</td>\n",
       "    </tr>\n",
       "  </tbody>\n",
       "</table>\n",
       "</div>"
      ],
      "text/plain": [
       "   mean_fit_time  std_fit_time  mean_score_time  std_score_time  \\\n",
       "0       0.000759      0.000154         0.000395        0.000074   \n",
       "1       0.000571      0.000050         0.000364        0.000044   \n",
       "\n",
       "  param_criterion param_max_depth param_min_samples_leaf  \\\n",
       "0            gini               2                      2   \n",
       "1            gini               2                      4   \n",
       "\n",
       "                                              params  split0_test_score  \\\n",
       "0  {'criterion': 'gini', 'max_depth': 2, 'min_sam...           0.958333   \n",
       "1  {'criterion': 'gini', 'max_depth': 2, 'min_sam...           0.958333   \n",
       "\n",
       "   split1_test_score  split2_test_score  split3_test_score  split4_test_score  \\\n",
       "0           0.916667           0.958333                1.0           0.958333   \n",
       "1           0.916667           0.958333                1.0           0.958333   \n",
       "\n",
       "   mean_test_score  std_test_score  rank_test_score  \n",
       "0         0.958333        0.026352                1  \n",
       "1         0.958333        0.026352                1  "
      ]
     },
     "execution_count": 9,
     "metadata": {},
     "output_type": "execute_result"
    }
   ],
   "source": [
    "dt_df = pd.DataFrame(dt_opt.cv_results_)\n",
    "dt_df.head(2)"
   ]
  },
  {
   "cell_type": "markdown",
   "id": "3eacdb6d",
   "metadata": {},
   "source": [
    "```{admonition} Correction\n",
    "The parameters in this function were in the wrong \n",
    "order in this function in class\n",
    "```\n",
    "I changed the markers and the color of the error bars for readability."
   ]
  },
  {
   "cell_type": "code",
   "execution_count": 10,
   "id": "2439cf1d",
   "metadata": {},
   "outputs": [
    {
     "data": {
      "image/png": "[encoded data removed]",
      "text/plain": [
       "<Figure size 432x288 with 1 Axes>"
      ]
     },
     "metadata": {
      "filenames": {
       "image/png": "/home/runner/work/BrownFall21/BrownFall21/_build/jupyter_execute/notes/2021-11-15_18_0.png"
      }
     },
     "output_type": "display_data"
    }
   ],
   "source": [
    "plt.errorbar(x=dt_df['mean_fit_time'],y=dt_df['mean_score_time'],\n",
    "     xerr=dt_df['std_fit_time'],yerr=dt_df['std_score_time'],\n",
    "             marker='s',ecolor='r')\n",
    "plt.xlabel('fit time')\n",
    "plt.ylabel('score time')\n",
    "# save the limits so we can reuse them\n",
    "xmin, xmax, ymin, ymax = plt.axis()"
   ]
  },
  {
   "cell_type": "markdown",
   "id": "2da7d310",
   "metadata": {},
   "source": [
    "The \"points\" are at the mean fit and score times. The lines are the \"standard deviation\" or how much we expect that number to vary, since means are an estimate. \n",
    "Because the data shows an upward trend, this plot tells us that mostly, the models that are slower to fit are also slower to apply. This makes sense for decision trees, deeper trees take longer to learn and longer to traverse when predicting. \n",
    "Because the error bars mostly overlap the other points, this tells us that mostly the variation in time is not a reliable difference. If we re-ran the GridSearch, we could get them in different orders. \n",
    "\n",
    "To interpret the error bar plot, let's look at a line plot of just the means, with the same limits so that it's easier to compare to the plot above."
   ]
  },
  {
   "cell_type": "code",
   "execution_count": 11,
   "id": "6280573d",
   "metadata": {},
   "outputs": [
    {
     "data": {
      "text/plain": [
       "(0.0004414294313295512, 0.0009353016570052401)"
      ]
     },
     "execution_count": 11,
     "metadata": {},
     "output_type": "execute_result"
    },
    {
     "data": {
      "image/png": "[encoded data removed]",
      "text/plain": [
       "<Figure size 432x288 with 1 Axes>"
      ]
     },
     "metadata": {
      "filenames": {
       "image/png": "/home/runner/work/BrownFall21/BrownFall21/_build/jupyter_execute/notes/2021-11-15_20_1.png"
      }
     },
     "output_type": "display_data"
    }
   ],
   "source": [
    "plt.plot(dt_df['mean_fit_time'],\n",
    "            dt_df['mean_score_time'], marker='s')\n",
    "plt.xlabel('fit time')\n",
    "plt.ylabel('score time')\n",
    "# match the axis limits to above\n",
    "plt.ylim(ymin, ymax)\n",
    "plt.xlim(xmin,xmax)"
   ]
  },
  {
   "cell_type": "markdown",
   "id": "c78f0e08",
   "metadata": {},
   "source": [
    "this plot shows the mean times, without the error bars."
   ]
  },
  {
   "cell_type": "code",
   "execution_count": 12,
   "id": "2176e72a",
   "metadata": {},
   "outputs": [
    {
     "data": {
      "text/plain": [
       "<AxesSubplot:>"
      ]
     },
     "execution_count": 12,
     "metadata": {},
     "output_type": "execute_result"
    },
    {
     "data": {
      "image/png": "[encoded data removed]",
      "text/plain": [
       "<Figure size 432x288 with 1 Axes>"
      ]
     },
     "metadata": {
      "filenames": {
       "image/png": "/home/runner/work/BrownFall21/BrownFall21/_build/jupyter_execute/notes/2021-11-15_22_1.png"
      }
     },
     "output_type": "display_data"
    }
   ],
   "source": [
    "dt_df['mean_test_score'].plot(kind='bar')"
   ]
  },
  {
   "cell_type": "code",
   "execution_count": 13,
   "id": "cf4d1f8c",
   "metadata": {},
   "outputs": [
    {
     "data": {
      "text/plain": [
       "0     0.958333\n",
       "1     0.958333\n",
       "2     0.958333\n",
       "3     0.958333\n",
       "4     0.958333\n",
       "5     0.958333\n",
       "6     0.958333\n",
       "7     0.958333\n",
       "8     0.958333\n",
       "9     0.950000\n",
       "10    0.958333\n",
       "11    0.958333\n",
       "12    0.958333\n",
       "13    0.958333\n",
       "14    0.958333\n",
       "15    0.958333\n",
       "16    0.958333\n",
       "17    0.958333\n",
       "18    0.950000\n",
       "19    0.958333\n",
       "20    0.958333\n",
       "21    0.958333\n",
       "22    0.958333\n",
       "23    0.958333\n",
       "24    0.958333\n",
       "25    0.958333\n",
       "26    0.958333\n",
       "27    0.958333\n",
       "28    0.958333\n",
       "29    0.958333\n",
       "30    0.958333\n",
       "31    0.958333\n",
       "32    0.958333\n",
       "33    0.958333\n",
       "34    0.958333\n",
       "35    0.958333\n",
       "36    0.950000\n",
       "37    0.958333\n",
       "38    0.958333\n",
       "39    0.958333\n",
       "40    0.958333\n",
       "41    0.958333\n",
       "42    0.958333\n",
       "43    0.958333\n",
       "44    0.958333\n",
       "45    0.950000\n",
       "46    0.958333\n",
       "47    0.958333\n",
       "48    0.958333\n",
       "49    0.958333\n",
       "50    0.958333\n",
       "51    0.958333\n",
       "52    0.958333\n",
       "53    0.958333\n",
       "Name: mean_test_score, dtype: float64"
      ]
     },
     "execution_count": 13,
     "metadata": {},
     "output_type": "execute_result"
    }
   ],
   "source": [
    "dt_df['mean_test_score']"
   ]
  },
  {
   "cell_type": "markdown",
   "id": "128a0f39",
   "metadata": {},
   "source": [
    "Now let's compare with a different model, we'll use the parameter optimized version for that model."
   ]
  },
  {
   "cell_type": "code",
   "execution_count": 14,
   "id": "bb0abab9",
   "metadata": {},
   "outputs": [
    {
     "ename": "NameError",
     "evalue": "name 'GridSearchCV' is not defined",
     "output_type": "error",
     "traceback": [
      "\u001b[0;31m---------------------------------------------------------------------------\u001b[0m",
      "\u001b[0;31mNameError\u001b[0m                                 Traceback (most recent call last)",
      "\u001b[0;32m/tmp/ipykernel_2303/492760704.py\u001b[0m in \u001b[0;36m<module>\u001b[0;34m\u001b[0m\n\u001b[1;32m      1\u001b[0m \u001b[0msvm_clf\u001b[0m \u001b[0;34m=\u001b[0m \u001b[0msvm\u001b[0m\u001b[0;34m.\u001b[0m\u001b[0mSVC\u001b[0m\u001b[0;34m(\u001b[0m\u001b[0;34m)\u001b[0m\u001b[0;34m\u001b[0m\u001b[0;34m\u001b[0m\u001b[0m\n\u001b[1;32m      2\u001b[0m \u001b[0mparam_grid\u001b[0m \u001b[0;34m=\u001b[0m \u001b[0;34m{\u001b[0m\u001b[0;34m'kernel'\u001b[0m\u001b[0;34m:\u001b[0m\u001b[0;34m[\u001b[0m\u001b[0;34m'linear'\u001b[0m\u001b[0;34m,\u001b[0m\u001b[0;34m'rbf'\u001b[0m\u001b[0;34m]\u001b[0m\u001b[0;34m,\u001b[0m \u001b[0;34m'C'\u001b[0m\u001b[0;34m:\u001b[0m\u001b[0;34m[\u001b[0m\u001b[0;36m.5\u001b[0m\u001b[0;34m,\u001b[0m \u001b[0;36m1\u001b[0m\u001b[0;34m,\u001b[0m \u001b[0;36m10\u001b[0m\u001b[0;34m]\u001b[0m\u001b[0;34m}\u001b[0m\u001b[0;34m\u001b[0m\u001b[0;34m\u001b[0m\u001b[0m\n\u001b[0;32m----> 3\u001b[0;31m \u001b[0msvm_opt\u001b[0m \u001b[0;34m=\u001b[0m \u001b[0mGridSearchCV\u001b[0m\u001b[0;34m(\u001b[0m\u001b[0msvm_clf\u001b[0m\u001b[0;34m,\u001b[0m\u001b[0mparam_grid\u001b[0m\u001b[0;34m,\u001b[0m\u001b[0;34m)\u001b[0m\u001b[0;34m\u001b[0m\u001b[0;34m\u001b[0m\u001b[0m\n\u001b[0m",
      "\u001b[0;31mNameError\u001b[0m: name 'GridSearchCV' is not defined"
     ]
    }
   ],
   "source": [
    "svm_clf = svm.SVC()\n",
    "param_grid = {'kernel':['linear','rbf'], 'C':[.5, 1, 10]}\n",
    "svm_opt = GridSearchCV(svm_clf,param_grid,)"
   ]
  },
  {
   "cell_type": "markdown",
   "id": "475a1a29",
   "metadata": {},
   "source": [
    "The error above is because we didn't import `GridSearchCV` directly today, we imported the whole `model_selection` module, so we have to use that in order to access the class."
   ]
  },
  {
   "cell_type": "code",
   "execution_count": 15,
   "id": "dc5e18a3",
   "metadata": {},
   "outputs": [],
   "source": [
    "svm_clf = svm.SVC()\n",
    "param_grid = {'kernel':['linear','rbf'], 'C':[.5, .75,1,2,5,7, 10]}\n",
    "svm_opt = model_selection.GridSearchCV(svm_clf,param_grid,cv=10)"
   ]
  },
  {
   "cell_type": "code",
   "execution_count": 16,
   "id": "20beef41",
   "metadata": {},
   "outputs": [
    {
     "data": {
      "text/plain": [
       "module"
      ]
     },
     "execution_count": 16,
     "metadata": {},
     "output_type": "execute_result"
    }
   ],
   "source": [
    "type(model_selection)"
   ]
  },
  {
   "cell_type": "code",
   "execution_count": 17,
   "id": "532d1241",
   "metadata": {},
   "outputs": [
    {
     "data": {
      "text/plain": [
       "{'scoring': None,\n",
       " 'estimator': DecisionTreeClassifier(),\n",
       " 'n_jobs': None,\n",
       " 'refit': True,\n",
       " 'cv': None,\n",
       " 'verbose': 0,\n",
       " 'pre_dispatch': '2*n_jobs',\n",
       " 'error_score': nan,\n",
       " 'return_train_score': False,\n",
       " 'param_grid': {'criterion': ['gini', 'entropy'],\n",
       "  'max_depth': [2, 3, 4],\n",
       "  'min_samples_leaf': [2, 4, 6, 8, 10, 12, 14, 16, 18]},\n",
       " 'multimetric_': False,\n",
       " 'best_index_': 0,\n",
       " 'best_score_': 0.9583333333333334,\n",
       " 'best_params_': {'criterion': 'gini', 'max_depth': 2, 'min_samples_leaf': 2},\n",
       " 'best_estimator_': DecisionTreeClassifier(max_depth=2, min_samples_leaf=2),\n",
       " 'refit_time_': 0.000457763671875,\n",
       " 'scorer_': <function sklearn.metrics._scorer._passthrough_scorer(estimator, *args, **kwargs)>,\n",
       " 'cv_results_': {'mean_fit_time': array([0.00075893, 0.00057068, 0.00053968, 0.00056691, 0.00059838,\n",
       "         0.00057826, 0.00058856, 0.0005857 , 0.00058904, 0.0005723 ,\n",
       "         0.00058651, 0.00058193, 0.00056205, 0.00054145, 0.00055895,\n",
       "         0.00053906, 0.00056529, 0.00062432, 0.00054398, 0.00055046,\n",
       "         0.0005918 , 0.00057321, 0.00058074, 0.00059371, 0.0005322 ,\n",
       "         0.00051455, 0.00058703, 0.00054226, 0.00056477, 0.00056715,\n",
       "         0.00056109, 0.00058317, 0.00054193, 0.00064092, 0.00053782,\n",
       "         0.00053506, 0.00057478, 0.00053554, 0.00058203, 0.00059428,\n",
       "         0.00057039, 0.0005125 , 0.00066357, 0.00065327, 0.00053806,\n",
       "         0.00061402, 0.00060563, 0.0006053 , 0.0006382 , 0.00057898,\n",
       "         0.00062532, 0.00058379, 0.00060091, 0.00059552]),\n",
       "  'std_fit_time': array([1.53918898e-04, 5.01800824e-05, 5.64393936e-05, 1.59832231e-05,\n",
       "         4.78221315e-05, 4.52600106e-05, 6.17820887e-05, 2.73978531e-05,\n",
       "         1.25158773e-04, 5.97683756e-05, 6.37301380e-05, 7.78195320e-05,\n",
       "         6.18659415e-05, 3.52085399e-05, 7.35315676e-05, 2.46276121e-05,\n",
       "         8.16955795e-05, 1.17331458e-04, 2.59346816e-05, 5.01843415e-05,\n",
       "         5.25333901e-05, 3.96255408e-05, 5.29068824e-05, 7.01799009e-05,\n",
       "         2.87922000e-05, 2.86266756e-05, 9.16209315e-05, 3.13313583e-05,\n",
       "         8.45299816e-05, 2.56232430e-05, 3.03822737e-05, 4.61653731e-05,\n",
       "         5.58288553e-05, 1.00000426e-04, 3.53498139e-05, 2.07981916e-05,\n",
       "         5.20157875e-05, 1.59675670e-05, 7.34427371e-05, 7.68925016e-05,\n",
       "         5.86412003e-05, 1.29332795e-05, 1.30534501e-04, 9.69455796e-05,\n",
       "         3.13559501e-05, 8.78554316e-05, 3.62604483e-05, 2.68232663e-05,\n",
       "         5.90335957e-05, 1.42203042e-05, 6.56816833e-05, 1.16738462e-05,\n",
       "         4.67272680e-05, 4.65573311e-05]),\n",
       "  'mean_score_time': array([0.00039535, 0.00036378, 0.0002893 , 0.00030837, 0.00033298,\n",
       "         0.00032573, 0.00030007, 0.0003077 , 0.00028849, 0.00033278,\n",
       "         0.00032182, 0.00033927, 0.00032787, 0.00029879, 0.00034642,\n",
       "         0.00031691, 0.0003087 , 0.00029492, 0.00030241, 0.00028548,\n",
       "         0.00037303, 0.00030942, 0.00032487, 0.00029774, 0.00030947,\n",
       "         0.0003233 , 0.00033941, 0.000316  , 0.00028629, 0.00032535,\n",
       "         0.00029669, 0.0002964 , 0.00030894, 0.00030661, 0.0002954 ,\n",
       "         0.00030465, 0.00033255, 0.00031271, 0.00030603, 0.00029168,\n",
       "         0.00029774, 0.00031862, 0.00043435, 0.0003222 , 0.00034471,\n",
       "         0.00041327, 0.0003212 , 0.00033908, 0.00033879, 0.00034013,\n",
       "         0.00033169, 0.00032115, 0.00031586, 0.00031319]),\n",
       "  'std_score_time': array([7.38268664e-05, 4.42008756e-05, 2.01113385e-05, 6.22546658e-05,\n",
       "         2.71439736e-05, 3.37883459e-05, 2.19472558e-05, 3.93942533e-05,\n",
       "         2.02905277e-05, 4.99511447e-05, 3.83595860e-05, 4.97153906e-05,\n",
       "         4.25124863e-05, 2.90183522e-05, 9.16273340e-05, 2.70755344e-05,\n",
       "         3.59711616e-05, 2.84076512e-05, 1.95570678e-05, 2.87120121e-05,\n",
       "         6.52771783e-05, 4.90944091e-05, 5.28499512e-05, 1.68623805e-05,\n",
       "         3.62484068e-05, 5.58093029e-05, 6.43591689e-05, 4.23855934e-05,\n",
       "         1.81068826e-05, 6.83054208e-05, 2.14113159e-05, 3.47428802e-05,\n",
       "         2.24976198e-05, 3.13253343e-05, 2.35322882e-05, 3.85585280e-05,\n",
       "         5.72771348e-05, 4.21672359e-05, 4.35061582e-05, 2.21195913e-05,\n",
       "         1.71372382e-05, 4.73637815e-05, 1.42726323e-04, 4.94113748e-05,\n",
       "         7.48929494e-05, 1.96196189e-04, 1.03479157e-05, 3.65524219e-05,\n",
       "         4.96460536e-06, 2.29579141e-05, 9.82029891e-06, 1.93809523e-05,\n",
       "         1.23862066e-05, 3.29880344e-06]),\n",
       "  'param_criterion': masked_array(data=['gini', 'gini', 'gini', 'gini', 'gini', 'gini', 'gini',\n",
       "                     'gini', 'gini', 'gini', 'gini', 'gini', 'gini', 'gini',\n",
       "                     'gini', 'gini', 'gini', 'gini', 'gini', 'gini', 'gini',\n",
       "                     'gini', 'gini', 'gini', 'gini', 'gini', 'gini',\n",
       "                     'entropy', 'entropy', 'entropy', 'entropy', 'entropy',\n",
       "                     'entropy', 'entropy', 'entropy', 'entropy', 'entropy',\n",
       "                     'entropy', 'entropy', 'entropy', 'entropy', 'entropy',\n",
       "                     'entropy', 'entropy', 'entropy', 'entropy', 'entropy',\n",
       "                     'entropy', 'entropy', 'entropy', 'entropy', 'entropy',\n",
       "                     'entropy', 'entropy'],\n",
       "               mask=[False, False, False, False, False, False, False, False,\n",
       "                     False, False, False, False, False, False, False, False,\n",
       "                     False, False, False, False, False, False, False, False,\n",
       "                     False, False, False, False, False, False, False, False,\n",
       "                     False, False, False, False, False, False, False, False,\n",
       "                     False, False, False, False, False, False, False, False,\n",
       "                     False, False, False, False, False, False],\n",
       "         fill_value='?',\n",
       "              dtype=object),\n",
       "  'param_max_depth': masked_array(data=[2, 2, 2, 2, 2, 2, 2, 2, 2, 3, 3, 3, 3, 3, 3, 3, 3, 3,\n",
       "                     4, 4, 4, 4, 4, 4, 4, 4, 4, 2, 2, 2, 2, 2, 2, 2, 2, 2,\n",
       "                     3, 3, 3, 3, 3, 3, 3, 3, 3, 4, 4, 4, 4, 4, 4, 4, 4, 4],\n",
       "               mask=[False, False, False, False, False, False, False, False,\n",
       "                     False, False, False, False, False, False, False, False,\n",
       "                     False, False, False, False, False, False, False, False,\n",
       "                     False, False, False, False, False, False, False, False,\n",
       "                     False, False, False, False, False, False, False, False,\n",
       "                     False, False, False, False, False, False, False, False,\n",
       "                     False, False, False, False, False, False],\n",
       "         fill_value='?',\n",
       "              dtype=object),\n",
       "  'param_min_samples_leaf': masked_array(data=[2, 4, 6, 8, 10, 12, 14, 16, 18, 2, 4, 6, 8, 10, 12, 14,\n",
       "                     16, 18, 2, 4, 6, 8, 10, 12, 14, 16, 18, 2, 4, 6, 8, 10,\n",
       "                     12, 14, 16, 18, 2, 4, 6, 8, 10, 12, 14, 16, 18, 2, 4,\n",
       "                     6, 8, 10, 12, 14, 16, 18],\n",
       "               mask=[False, False, False, False, False, False, False, False,\n",
       "                     False, False, False, False, False, False, False, False,\n",
       "                     False, False, False, False, False, False, False, False,\n",
       "                     False, False, False, False, False, False, False, False,\n",
       "                     False, False, False, False, False, False, False, False,\n",
       "                     False, False, False, False, False, False, False, False,\n",
       "                     False, False, False, False, False, False],\n",
       "         fill_value='?',\n",
       "              dtype=object),\n",
       "  'params': [{'criterion': 'gini', 'max_depth': 2, 'min_samples_leaf': 2},\n",
       "   {'criterion': 'gini', 'max_depth': 2, 'min_samples_leaf': 4},\n",
       "   {'criterion': 'gini', 'max_depth': 2, 'min_samples_leaf': 6},\n",
       "   {'criterion': 'gini', 'max_depth': 2, 'min_samples_leaf': 8},\n",
       "   {'criterion': 'gini', 'max_depth': 2, 'min_samples_leaf': 10},\n",
       "   {'criterion': 'gini', 'max_depth': 2, 'min_samples_leaf': 12},\n",
       "   {'criterion': 'gini', 'max_depth': 2, 'min_samples_leaf': 14},\n",
       "   {'criterion': 'gini', 'max_depth': 2, 'min_samples_leaf': 16},\n",
       "   {'criterion': 'gini', 'max_depth': 2, 'min_samples_leaf': 18},\n",
       "   {'criterion': 'gini', 'max_depth': 3, 'min_samples_leaf': 2},\n",
       "   {'criterion': 'gini', 'max_depth': 3, 'min_samples_leaf': 4},\n",
       "   {'criterion': 'gini', 'max_depth': 3, 'min_samples_leaf': 6},\n",
       "   {'criterion': 'gini', 'max_depth': 3, 'min_samples_leaf': 8},\n",
       "   {'criterion': 'gini', 'max_depth': 3, 'min_samples_leaf': 10},\n",
       "   {'criterion': 'gini', 'max_depth': 3, 'min_samples_leaf': 12},\n",
       "   {'criterion': 'gini', 'max_depth': 3, 'min_samples_leaf': 14},\n",
       "   {'criterion': 'gini', 'max_depth': 3, 'min_samples_leaf': 16},\n",
       "   {'criterion': 'gini', 'max_depth': 3, 'min_samples_leaf': 18},\n",
       "   {'criterion': 'gini', 'max_depth': 4, 'min_samples_leaf': 2},\n",
       "   {'criterion': 'gini', 'max_depth': 4, 'min_samples_leaf': 4},\n",
       "   {'criterion': 'gini', 'max_depth': 4, 'min_samples_leaf': 6},\n",
       "   {'criterion': 'gini', 'max_depth': 4, 'min_samples_leaf': 8},\n",
       "   {'criterion': 'gini', 'max_depth': 4, 'min_samples_leaf': 10},\n",
       "   {'criterion': 'gini', 'max_depth': 4, 'min_samples_leaf': 12},\n",
       "   {'criterion': 'gini', 'max_depth': 4, 'min_samples_leaf': 14},\n",
       "   {'criterion': 'gini', 'max_depth': 4, 'min_samples_leaf': 16},\n",
       "   {'criterion': 'gini', 'max_depth': 4, 'min_samples_leaf': 18},\n",
       "   {'criterion': 'entropy', 'max_depth': 2, 'min_samples_leaf': 2},\n",
       "   {'criterion': 'entropy', 'max_depth': 2, 'min_samples_leaf': 4},\n",
       "   {'criterion': 'entropy', 'max_depth': 2, 'min_samples_leaf': 6},\n",
       "   {'criterion': 'entropy', 'max_depth': 2, 'min_samples_leaf': 8},\n",
       "   {'criterion': 'entropy', 'max_depth': 2, 'min_samples_leaf': 10},\n",
       "   {'criterion': 'entropy', 'max_depth': 2, 'min_samples_leaf': 12},\n",
       "   {'criterion': 'entropy', 'max_depth': 2, 'min_samples_leaf': 14},\n",
       "   {'criterion': 'entropy', 'max_depth': 2, 'min_samples_leaf': 16},\n",
       "   {'criterion': 'entropy', 'max_depth': 2, 'min_samples_leaf': 18},\n",
       "   {'criterion': 'entropy', 'max_depth': 3, 'min_samples_leaf': 2},\n",
       "   {'criterion': 'entropy', 'max_depth': 3, 'min_samples_leaf': 4},\n",
       "   {'criterion': 'entropy', 'max_depth': 3, 'min_samples_leaf': 6},\n",
       "   {'criterion': 'entropy', 'max_depth': 3, 'min_samples_leaf': 8},\n",
       "   {'criterion': 'entropy', 'max_depth': 3, 'min_samples_leaf': 10},\n",
       "   {'criterion': 'entropy', 'max_depth': 3, 'min_samples_leaf': 12},\n",
       "   {'criterion': 'entropy', 'max_depth': 3, 'min_samples_leaf': 14},\n",
       "   {'criterion': 'entropy', 'max_depth': 3, 'min_samples_leaf': 16},\n",
       "   {'criterion': 'entropy', 'max_depth': 3, 'min_samples_leaf': 18},\n",
       "   {'criterion': 'entropy', 'max_depth': 4, 'min_samples_leaf': 2},\n",
       "   {'criterion': 'entropy', 'max_depth': 4, 'min_samples_leaf': 4},\n",
       "   {'criterion': 'entropy', 'max_depth': 4, 'min_samples_leaf': 6},\n",
       "   {'criterion': 'entropy', 'max_depth': 4, 'min_samples_leaf': 8},\n",
       "   {'criterion': 'entropy', 'max_depth': 4, 'min_samples_leaf': 10},\n",
       "   {'criterion': 'entropy', 'max_depth': 4, 'min_samples_leaf': 12},\n",
       "   {'criterion': 'entropy', 'max_depth': 4, 'min_samples_leaf': 14},\n",
       "   {'criterion': 'entropy', 'max_depth': 4, 'min_samples_leaf': 16},\n",
       "   {'criterion': 'entropy', 'max_depth': 4, 'min_samples_leaf': 18}],\n",
       "  'split0_test_score': array([0.95833333, 0.95833333, 0.95833333, 0.95833333, 0.95833333,\n",
       "         0.95833333, 0.95833333, 0.95833333, 0.95833333, 0.95833333,\n",
       "         0.95833333, 0.95833333, 0.95833333, 0.95833333, 0.95833333,\n",
       "         0.95833333, 0.95833333, 0.95833333, 0.95833333, 0.95833333,\n",
       "         0.95833333, 0.95833333, 0.95833333, 0.95833333, 0.95833333,\n",
       "         0.95833333, 0.95833333, 0.95833333, 0.95833333, 0.95833333,\n",
       "         0.95833333, 0.95833333, 0.95833333, 0.95833333, 0.95833333,\n",
       "         0.95833333, 0.95833333, 0.95833333, 0.95833333, 0.95833333,\n",
       "         0.95833333, 0.95833333, 0.95833333, 0.95833333, 0.95833333,\n",
       "         0.95833333, 0.95833333, 0.95833333, 0.95833333, 0.95833333,\n",
       "         0.95833333, 0.95833333, 0.95833333, 0.95833333]),\n",
       "  'split1_test_score': array([0.91666667, 0.91666667, 0.91666667, 0.91666667, 0.91666667,\n",
       "         0.91666667, 0.91666667, 0.91666667, 0.91666667, 0.875     ,\n",
       "         0.91666667, 0.91666667, 0.91666667, 0.91666667, 0.91666667,\n",
       "         0.91666667, 0.91666667, 0.91666667, 0.875     , 0.91666667,\n",
       "         0.91666667, 0.91666667, 0.91666667, 0.91666667, 0.91666667,\n",
       "         0.91666667, 0.91666667, 0.91666667, 0.91666667, 0.91666667,\n",
       "         0.91666667, 0.91666667, 0.91666667, 0.91666667, 0.91666667,\n",
       "         0.91666667, 0.875     , 0.91666667, 0.91666667, 0.91666667,\n",
       "         0.91666667, 0.91666667, 0.91666667, 0.91666667, 0.91666667,\n",
       "         0.875     , 0.91666667, 0.91666667, 0.91666667, 0.91666667,\n",
       "         0.91666667, 0.91666667, 0.91666667, 0.91666667]),\n",
       "  'split2_test_score': array([0.95833333, 0.95833333, 0.95833333, 0.95833333, 0.95833333,\n",
       "         0.95833333, 0.95833333, 0.95833333, 0.95833333, 0.95833333,\n",
       "         0.95833333, 0.95833333, 0.95833333, 0.95833333, 0.95833333,\n",
       "         0.95833333, 0.95833333, 0.95833333, 0.95833333, 0.95833333,\n",
       "         0.95833333, 0.95833333, 0.95833333, 0.95833333, 0.95833333,\n",
       "         0.95833333, 0.95833333, 0.95833333, 0.95833333, 0.95833333,\n",
       "         0.95833333, 0.95833333, 0.95833333, 0.95833333, 0.95833333,\n",
       "         0.95833333, 0.95833333, 0.95833333, 0.95833333, 0.95833333,\n",
       "         0.95833333, 0.95833333, 0.95833333, 0.95833333, 0.95833333,\n",
       "         0.95833333, 0.95833333, 0.95833333, 0.95833333, 0.95833333,\n",
       "         0.95833333, 0.95833333, 0.95833333, 0.95833333]),\n",
       "  'split3_test_score': array([1., 1., 1., 1., 1., 1., 1., 1., 1., 1., 1., 1., 1., 1., 1., 1., 1.,\n",
       "         1., 1., 1., 1., 1., 1., 1., 1., 1., 1., 1., 1., 1., 1., 1., 1., 1.,\n",
       "         1., 1., 1., 1., 1., 1., 1., 1., 1., 1., 1., 1., 1., 1., 1., 1., 1.,\n",
       "         1., 1., 1.]),\n",
       "  'split4_test_score': array([0.95833333, 0.95833333, 0.95833333, 0.95833333, 0.95833333,\n",
       "         0.95833333, 0.95833333, 0.95833333, 0.95833333, 0.95833333,\n",
       "         0.95833333, 0.95833333, 0.95833333, 0.95833333, 0.95833333,\n",
       "         0.95833333, 0.95833333, 0.95833333, 0.95833333, 0.95833333,\n",
       "         0.95833333, 0.95833333, 0.95833333, 0.95833333, 0.95833333,\n",
       "         0.95833333, 0.95833333, 0.95833333, 0.95833333, 0.95833333,\n",
       "         0.95833333, 0.95833333, 0.95833333, 0.95833333, 0.95833333,\n",
       "         0.95833333, 0.95833333, 0.95833333, 0.95833333, 0.95833333,\n",
       "         0.95833333, 0.95833333, 0.95833333, 0.95833333, 0.95833333,\n",
       "         0.95833333, 0.95833333, 0.95833333, 0.95833333, 0.95833333,\n",
       "         0.95833333, 0.95833333, 0.95833333, 0.95833333]),\n",
       "  'mean_test_score': array([0.95833333, 0.95833333, 0.95833333, 0.95833333, 0.95833333,\n",
       "         0.95833333, 0.95833333, 0.95833333, 0.95833333, 0.95      ,\n",
       "         0.95833333, 0.95833333, 0.95833333, 0.95833333, 0.95833333,\n",
       "         0.95833333, 0.95833333, 0.95833333, 0.95      , 0.95833333,\n",
       "         0.95833333, 0.95833333, 0.95833333, 0.95833333, 0.95833333,\n",
       "         0.95833333, 0.95833333, 0.95833333, 0.95833333, 0.95833333,\n",
       "         0.95833333, 0.95833333, 0.95833333, 0.95833333, 0.95833333,\n",
       "         0.95833333, 0.95      , 0.95833333, 0.95833333, 0.95833333,\n",
       "         0.95833333, 0.95833333, 0.95833333, 0.95833333, 0.95833333,\n",
       "         0.95      , 0.95833333, 0.95833333, 0.95833333, 0.95833333,\n",
       "         0.95833333, 0.95833333, 0.95833333, 0.95833333]),\n",
       "  'std_test_score': array([0.02635231, 0.02635231, 0.02635231, 0.02635231, 0.02635231,\n",
       "         0.02635231, 0.02635231, 0.02635231, 0.02635231, 0.04082483,\n",
       "         0.02635231, 0.02635231, 0.02635231, 0.02635231, 0.02635231,\n",
       "         0.02635231, 0.02635231, 0.02635231, 0.04082483, 0.02635231,\n",
       "         0.02635231, 0.02635231, 0.02635231, 0.02635231, 0.02635231,\n",
       "         0.02635231, 0.02635231, 0.02635231, 0.02635231, 0.02635231,\n",
       "         0.02635231, 0.02635231, 0.02635231, 0.02635231, 0.02635231,\n",
       "         0.02635231, 0.04082483, 0.02635231, 0.02635231, 0.02635231,\n",
       "         0.02635231, 0.02635231, 0.02635231, 0.02635231, 0.02635231,\n",
       "         0.04082483, 0.02635231, 0.02635231, 0.02635231, 0.02635231,\n",
       "         0.02635231, 0.02635231, 0.02635231, 0.02635231]),\n",
       "  'rank_test_score': array([ 1,  1,  1,  1,  1,  1,  1,  1,  1, 51,  1,  1,  1,  1,  1,  1,  1,\n",
       "          1, 51,  1,  1,  1,  1,  1,  1,  1,  1,  1,  1,  1,  1,  1,  1,  1,\n",
       "          1,  1, 51,  1,  1,  1,  1,  1,  1,  1,  1, 51,  1,  1,  1,  1,  1,\n",
       "          1,  1,  1], dtype=int32)},\n",
       " 'n_splits_': 5}"
      ]
     },
     "execution_count": 17,
     "metadata": {},
     "output_type": "execute_result"
    }
   ],
   "source": [
    "dt_opt.__dict__"
   ]
  },
  {
   "cell_type": "markdown",
   "id": "7379d4eb",
   "metadata": {},
   "source": [
    "This doesn't have attributes yet, even though they are the same type, because we have not fit it tot data yet."
   ]
  },
  {
   "cell_type": "code",
   "execution_count": 18,
   "id": "b1678841",
   "metadata": {},
   "outputs": [
    {
     "data": {
      "text/plain": [
       "(sklearn.model_selection._search.GridSearchCV,\n",
       " sklearn.model_selection._search.GridSearchCV)"
      ]
     },
     "execution_count": 18,
     "metadata": {},
     "output_type": "execute_result"
    }
   ],
   "source": [
    "type(svm_opt), type(dt_opt)"
   ]
  },
  {
   "cell_type": "markdown",
   "id": "739bc359",
   "metadata": {},
   "source": [
    "Now we can fit the model to the training data of this second model."
   ]
  },
  {
   "cell_type": "code",
   "execution_count": 19,
   "id": "9c5e4925",
   "metadata": {},
   "outputs": [],
   "source": [
    "# fit the model and  put the CV results in a dataframe\n",
    "svm_opt.fit(iris_X_train,iris_y_train)\n",
    "sv_df = pd.DataFrame(svm_opt.cv_results_)"
   ]
  },
  {
   "cell_type": "code",
   "execution_count": 20,
   "id": "890ccc60",
   "metadata": {},
   "outputs": [
    {
     "data": {
      "text/html": [
       "<div>\n",
       "<style scoped>\n",
       "    .dataframe tbody tr th:only-of-type {\n",
       "        vertical-align: middle;\n",
       "    }\n",
       "\n",
       "    .dataframe tbody tr th {\n",
       "        vertical-align: top;\n",
       "    }\n",
       "\n",
       "    .dataframe thead th {\n",
       "        text-align: right;\n",
       "    }\n",
       "</style>\n",
       "<table border=\"1\" class=\"dataframe\">\n",
       "  <thead>\n",
       "    <tr style=\"text-align: right;\">\n",
       "      <th></th>\n",
       "      <th>mean_fit_time</th>\n",
       "      <th>std_fit_time</th>\n",
       "      <th>mean_score_time</th>\n",
       "      <th>std_score_time</th>\n",
       "      <th>param_C</th>\n",
       "      <th>param_kernel</th>\n",
       "      <th>params</th>\n",
       "      <th>split0_test_score</th>\n",
       "      <th>split1_test_score</th>\n",
       "      <th>split2_test_score</th>\n",
       "      <th>split3_test_score</th>\n",
       "      <th>split4_test_score</th>\n",
       "      <th>split5_test_score</th>\n",
       "      <th>split6_test_score</th>\n",
       "      <th>split7_test_score</th>\n",
       "      <th>split8_test_score</th>\n",
       "      <th>split9_test_score</th>\n",
       "      <th>mean_test_score</th>\n",
       "      <th>std_test_score</th>\n",
       "      <th>rank_test_score</th>\n",
       "    </tr>\n",
       "  </thead>\n",
       "  <tbody>\n",
       "    <tr>\n",
       "      <th>0</th>\n",
       "      <td>0.000874</td>\n",
       "      <td>0.000117</td>\n",
       "      <td>0.000419</td>\n",
       "      <td>0.000017</td>\n",
       "      <td>0.5</td>\n",
       "      <td>linear</td>\n",
       "      <td>{'C': 0.5, 'kernel': 'linear'}</td>\n",
       "      <td>1.0</td>\n",
       "      <td>1.000000</td>\n",
       "      <td>1.000000</td>\n",
       "      <td>0.833333</td>\n",
       "      <td>1.0</td>\n",
       "      <td>0.916667</td>\n",
       "      <td>1.0</td>\n",
       "      <td>1.0</td>\n",
       "      <td>1.0</td>\n",
       "      <td>1.0</td>\n",
       "      <td>0.975000</td>\n",
       "      <td>0.053359</td>\n",
       "      <td>4</td>\n",
       "    </tr>\n",
       "    <tr>\n",
       "      <th>1</th>\n",
       "      <td>0.001042</td>\n",
       "      <td>0.000209</td>\n",
       "      <td>0.000464</td>\n",
       "      <td>0.000028</td>\n",
       "      <td>0.5</td>\n",
       "      <td>rbf</td>\n",
       "      <td>{'C': 0.5, 'kernel': 'rbf'}</td>\n",
       "      <td>1.0</td>\n",
       "      <td>0.833333</td>\n",
       "      <td>0.916667</td>\n",
       "      <td>0.916667</td>\n",
       "      <td>1.0</td>\n",
       "      <td>1.000000</td>\n",
       "      <td>1.0</td>\n",
       "      <td>1.0</td>\n",
       "      <td>1.0</td>\n",
       "      <td>1.0</td>\n",
       "      <td>0.966667</td>\n",
       "      <td>0.055277</td>\n",
       "      <td>8</td>\n",
       "    </tr>\n",
       "  </tbody>\n",
       "</table>\n",
       "</div>"
      ],
      "text/plain": [
       "   mean_fit_time  std_fit_time  mean_score_time  std_score_time param_C  \\\n",
       "0       0.000874      0.000117         0.000419        0.000017     0.5   \n",
       "1       0.001042      0.000209         0.000464        0.000028     0.5   \n",
       "\n",
       "  param_kernel                          params  split0_test_score  \\\n",
       "0       linear  {'C': 0.5, 'kernel': 'linear'}                1.0   \n",
       "1          rbf     {'C': 0.5, 'kernel': 'rbf'}                1.0   \n",
       "\n",
       "   split1_test_score  split2_test_score  split3_test_score  split4_test_score  \\\n",
       "0           1.000000           1.000000           0.833333                1.0   \n",
       "1           0.833333           0.916667           0.916667                1.0   \n",
       "\n",
       "   split5_test_score  split6_test_score  split7_test_score  split8_test_score  \\\n",
       "0           0.916667                1.0                1.0                1.0   \n",
       "1           1.000000                1.0                1.0                1.0   \n",
       "\n",
       "   split9_test_score  mean_test_score  std_test_score  rank_test_score  \n",
       "0                1.0         0.975000        0.053359                4  \n",
       "1                1.0         0.966667        0.055277                8  "
      ]
     },
     "execution_count": 20,
     "metadata": {},
     "output_type": "execute_result"
    }
   ],
   "source": [
    "sv_df.head(2)"
   ]
  },
  {
   "cell_type": "code",
   "execution_count": 21,
   "id": "8441c18b",
   "metadata": {},
   "outputs": [
    {
     "data": {
      "text/plain": [
       "<ErrorbarContainer object of 3 artists>"
      ]
     },
     "execution_count": 21,
     "metadata": {},
     "output_type": "execute_result"
    },
    {
     "data": {
      "image/png": "[encoded data removed]",
      "text/plain": [
       "<Figure size 432x288 with 1 Axes>"
      ]
     },
     "metadata": {
      "filenames": {
       "image/png": "/home/runner/work/BrownFall21/BrownFall21/_build/jupyter_execute/notes/2021-11-15_35_1.png"
      }
     },
     "output_type": "display_data"
    }
   ],
   "source": [
    "plt.errorbar(x=sv_df['mean_fit_time'],xerr=sv_df['std_fit_time'],\n",
    "            y=sv_df['mean_score_time'],yerr=sv_df['std_score_time'])"
   ]
  },
  {
   "cell_type": "code",
   "execution_count": 22,
   "id": "3c2bd40c",
   "metadata": {},
   "outputs": [
    {
     "data": {
      "text/plain": [
       "Index(['mean_fit_time', 'std_fit_time', 'mean_score_time', 'std_score_time',\n",
       "       'param_C', 'param_kernel', 'params', 'split0_test_score',\n",
       "       'split1_test_score', 'split2_test_score', 'split3_test_score',\n",
       "       'split4_test_score', 'split5_test_score', 'split6_test_score',\n",
       "       'split7_test_score', 'split8_test_score', 'split9_test_score',\n",
       "       'mean_test_score', 'std_test_score', 'rank_test_score'],\n",
       "      dtype='object')"
      ]
     },
     "execution_count": 22,
     "metadata": {},
     "output_type": "execute_result"
    }
   ],
   "source": [
    "sv_df.columns"
   ]
  },
  {
   "cell_type": "markdown",
   "id": "ba60c1af",
   "metadata": {},
   "source": [
    "We can see if the models that take longer to fit or score perform better."
   ]
  },
  {
   "cell_type": "code",
   "execution_count": 23,
   "id": "ccb9c5b2",
   "metadata": {},
   "outputs": [
    {
     "data": {
      "text/plain": [
       "<seaborn.axisgrid.FacetGrid at 0x7fe104f9b710>"
      ]
     },
     "execution_count": 23,
     "metadata": {},
     "output_type": "execute_result"
    },
    {
     "data": {
      "image/png": "[encoded data removed]",
      "text/plain": [
       "<Figure size 451.3x360 with 1 Axes>"
      ]
     },
     "metadata": {
      "filenames": {
       "image/png": "/home/runner/work/BrownFall21/BrownFall21/_build/jupyter_execute/notes/2021-11-15_38_1.png"
      }
     },
     "output_type": "display_data"
    }
   ],
   "source": [
    "svm_time = sv_df.melt(id_vars=['param_C', 'param_kernel', 'params',],\n",
    "                      value_vars=['mean_fit_time', 'std_fit_time', 'mean_score_time', 'std_score_time'])\n",
    "sns.lmplot(data=sv_df, x='mean_fit_time',y='mean_test_score',\n",
    "          hue='param_kernel',fit_reg=False)"
   ]
  },
  {
   "cell_type": "markdown",
   "id": "6d0cb83a",
   "metadata": {},
   "source": [
    "This looks like mostly no."
   ]
  },
  {
   "cell_type": "code",
   "execution_count": 24,
   "id": "2fc07656",
   "metadata": {},
   "outputs": [
    {
     "data": {
      "text/plain": [
       "<seaborn.axisgrid.FacetGrid at 0x7fe105182150>"
      ]
     },
     "execution_count": 24,
     "metadata": {},
     "output_type": "execute_result"
    },
    {
     "data": {
      "image/png": "[encoded data removed]",
      "text/plain": [
       "<Figure size 451.3x360 with 1 Axes>"
      ]
     },
     "metadata": {
      "filenames": {
       "image/png": "/home/runner/work/BrownFall21/BrownFall21/_build/jupyter_execute/notes/2021-11-15_40_1.png"
      }
     },
     "output_type": "display_data"
    }
   ],
   "source": [
    "sns.lmplot(data=sv_df, x='mean_score_time',y='mean_test_score',\n",
    "          hue='param_kernel',fit_reg=False)"
   ]
  },
  {
   "cell_type": "markdown",
   "id": "f4a736f6",
   "metadata": {},
   "source": [
    "Again, for score time, the slower models don't appear to be better.  Remember though the time differences weren't that different. \n",
    "\n",
    "```{admonition} Try it yourself\n",
    "Try this same analysis for the decision tree, does it matter there?\n",
    "```"
   ]
  },
  {
   "cell_type": "code",
   "execution_count": 25,
   "id": "c2188a2a",
   "metadata": {},
   "outputs": [
    {
     "data": {
      "text/html": [
       "<div>\n",
       "<style scoped>\n",
       "    .dataframe tbody tr th:only-of-type {\n",
       "        vertical-align: middle;\n",
       "    }\n",
       "\n",
       "    .dataframe tbody tr th {\n",
       "        vertical-align: top;\n",
       "    }\n",
       "\n",
       "    .dataframe thead th {\n",
       "        text-align: right;\n",
       "    }\n",
       "</style>\n",
       "<table border=\"1\" class=\"dataframe\">\n",
       "  <thead>\n",
       "    <tr style=\"text-align: right;\">\n",
       "      <th></th>\n",
       "      <th>param_C</th>\n",
       "      <th>param_kernel</th>\n",
       "      <th>params</th>\n",
       "      <th>variable</th>\n",
       "      <th>score</th>\n",
       "    </tr>\n",
       "  </thead>\n",
       "  <tbody>\n",
       "    <tr>\n",
       "      <th>0</th>\n",
       "      <td>0.5</td>\n",
       "      <td>linear</td>\n",
       "      <td>{'C': 0.5, 'kernel': 'linear'}</td>\n",
       "      <td>split0_test_score</td>\n",
       "      <td>1.0</td>\n",
       "    </tr>\n",
       "    <tr>\n",
       "      <th>1</th>\n",
       "      <td>0.5</td>\n",
       "      <td>rbf</td>\n",
       "      <td>{'C': 0.5, 'kernel': 'rbf'}</td>\n",
       "      <td>split0_test_score</td>\n",
       "      <td>1.0</td>\n",
       "    </tr>\n",
       "    <tr>\n",
       "      <th>2</th>\n",
       "      <td>0.75</td>\n",
       "      <td>linear</td>\n",
       "      <td>{'C': 0.75, 'kernel': 'linear'}</td>\n",
       "      <td>split0_test_score</td>\n",
       "      <td>1.0</td>\n",
       "    </tr>\n",
       "    <tr>\n",
       "      <th>3</th>\n",
       "      <td>0.75</td>\n",
       "      <td>rbf</td>\n",
       "      <td>{'C': 0.75, 'kernel': 'rbf'}</td>\n",
       "      <td>split0_test_score</td>\n",
       "      <td>1.0</td>\n",
       "    </tr>\n",
       "    <tr>\n",
       "      <th>4</th>\n",
       "      <td>1</td>\n",
       "      <td>linear</td>\n",
       "      <td>{'C': 1, 'kernel': 'linear'}</td>\n",
       "      <td>split0_test_score</td>\n",
       "      <td>1.0</td>\n",
       "    </tr>\n",
       "  </tbody>\n",
       "</table>\n",
       "</div>"
      ],
      "text/plain": [
       "  param_C param_kernel                           params           variable  \\\n",
       "0     0.5       linear   {'C': 0.5, 'kernel': 'linear'}  split0_test_score   \n",
       "1     0.5          rbf      {'C': 0.5, 'kernel': 'rbf'}  split0_test_score   \n",
       "2    0.75       linear  {'C': 0.75, 'kernel': 'linear'}  split0_test_score   \n",
       "3    0.75          rbf     {'C': 0.75, 'kernel': 'rbf'}  split0_test_score   \n",
       "4       1       linear     {'C': 1, 'kernel': 'linear'}  split0_test_score   \n",
       "\n",
       "   score  \n",
       "0    1.0  \n",
       "1    1.0  \n",
       "2    1.0  \n",
       "3    1.0  \n",
       "4    1.0  "
      ]
     },
     "execution_count": 25,
     "metadata": {},
     "output_type": "execute_result"
    }
   ],
   "source": [
    "sv_df_scores = sv_df.melt(id_vars=['param_C', 'param_kernel', 'params',],\n",
    "                    value_vars=['split0_test_score',\n",
    "       'split1_test_score', 'split2_test_score', 'split3_test_score',\n",
    "       'split4_test_score'], value_name='score')\n",
    "sv_df_scores.head()"
   ]
  },
  {
   "cell_type": "code",
   "execution_count": 26,
   "id": "24b5f84b",
   "metadata": {},
   "outputs": [
    {
     "data": {
      "text/plain": [
       "<seaborn.axisgrid.FacetGrid at 0x7fe1074e4390>"
      ]
     },
     "execution_count": 26,
     "metadata": {},
     "output_type": "execute_result"
    },
    {
     "data": {
      "image/png": "[encoded data removed]",
      "text/plain": [
       "<Figure size 720x360 with 2 Axes>"
      ]
     },
     "metadata": {
      "filenames": {
       "image/png": "/home/runner/work/BrownFall21/BrownFall21/_build/jupyter_execute/notes/2021-11-15_43_1.png"
      }
     },
     "output_type": "display_data"
    }
   ],
   "source": [
    "sns.catplot(data=sv_df_scores,x='param_C',y='score',\n",
    "            col='param_kernel')"
   ]
  },
  {
   "cell_type": "markdown",
   "id": "978185fa",
   "metadata": {},
   "source": [
    "```{admonition} Try it yourself\n",
    "Try interpretting the plot above, what does it say? what can you conclude from it. \n",
    "```"
   ]
  },
  {
   "cell_type": "code",
   "execution_count": 27,
   "id": "29fd3b2e",
   "metadata": {},
   "outputs": [
    {
     "data": {
      "text/plain": [
       "<AxesSubplot:>"
      ]
     },
     "execution_count": 27,
     "metadata": {},
     "output_type": "execute_result"
    },
    {
     "data": {
      "image/png": "[encoded data removed]",
      "text/plain": [
       "<Figure size 432x288 with 1 Axes>"
      ]
     },
     "metadata": {
      "filenames": {
       "image/png": "/home/runner/work/BrownFall21/BrownFall21/_build/jupyter_execute/notes/2021-11-15_45_1.png"
      }
     },
     "output_type": "display_data"
    }
   ],
   "source": [
    "dt_df['mean_test_score'].plot(kind='bar')"
   ]
  },
  {
   "cell_type": "code",
   "execution_count": 28,
   "id": "15564004",
   "metadata": {},
   "outputs": [
    {
     "data": {
      "text/plain": [
       "<AxesSubplot:>"
      ]
     },
     "execution_count": 28,
     "metadata": {},
     "output_type": "execute_result"
    },
    {
     "data": {
      "image/png": "[encoded data removed]",
      "text/plain": [
       "<Figure size 432x288 with 1 Axes>"
      ]
     },
     "metadata": {
      "filenames": {
       "image/png": "/home/runner/work/BrownFall21/BrownFall21/_build/jupyter_execute/notes/2021-11-15_46_1.png"
      }
     },
     "output_type": "display_data"
    }
   ],
   "source": [
    "sv_df['mean_test_score'].plot(kind='bar')"
   ]
  },
  {
   "cell_type": "markdown",
   "id": "ead89543",
   "metadata": {},
   "source": [
    "From these last two plots we see that the SVM performance is more sensitive to its parameters, where for the parameters tested, the decision tree is not impacted. \n",
    "\n",
    "What can we say based on this?  We'll pick up from here on Wednesday."
   ]
  }
 ],
 "metadata": {
  "jupytext": {
   "text_representation": {
    "extension": ".md",
    "format_name": "myst",
    "format_version": 0.13,
    "jupytext_version": "1.10.3"
   }
  },
  "kernelspec": {
   "display_name": "Python 3",
   "language": "python",
   "name": "python3"
  },
  "language_info": {
   "codemirror_mode": {
    "name": "ipython",
    "version": 3
   },
   "file_extension": ".py",
   "mimetype": "text/x-python",
   "name": "python",
   "nbconvert_exporter": "python",
   "pygments_lexer": "ipython3",
   "version": "3.7.12"
  },
  "source_map": [
   12,
   16,
   20,
   32,
   36,
   38,
   42,
   45,
   49,
   53,
   59,
   61,
   65,
   67,
   71,
   73,
   77,
   80,
   88,
   96,
   104,
   112,
   116,
   120,
   122,
   126,
   130,
   134,
   140,
   144,
   146,
   150,
   152,
   156,
   162,
   166,
   171,
   173,
   177,
   182,
   186,
   189,
   197,
   206,
   209,
   215,
   219,
   221
  ]
 },
 "nbformat": 4,
 "nbformat_minor": 5
}