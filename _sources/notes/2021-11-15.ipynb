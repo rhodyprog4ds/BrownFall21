{
 "cells": [
  {
   "cell_type": "markdown",
   "id": "f5e3ce8b",
   "metadata": {},
   "source": [
    "# Model Comparison"
   ]
  },
  {
   "cell_type": "markdown",
   "id": "8b55ec7a",
   "metadata": {},
   "source": [
    "To compare models, we will first optimize the parameters of two diffrent models and look at how the different parameters settings impact the model comparison.  Later, we'll see how to compare across models of different classes."
   ]
  },
  {
   "cell_type": "code",
   "execution_count": 1,
   "id": "20eb1032",
   "metadata": {},
   "outputs": [],
   "source": [
    "import matplotlib.pyplot as plt\n",
    "import numpy as np\n",
    "import seaborn as sns\n",
    "import pandas as pd\n",
    "from sklearn import datasets\n",
    "from sklearn import cluster\n",
    "from sklearn import svm\n",
    "from sklearn import tree\n",
    "# import the whole model selection module\n",
    "from sklearn import model_selection\n",
    "sns.set_theme(palette='colorblind')"
   ]
  },
  {
   "cell_type": "markdown",
   "id": "45ea7b19",
   "metadata": {},
   "source": [
    "We'll use the iris data again."
   ]
  },
  {
   "cell_type": "code",
   "execution_count": 2,
   "id": "23d0ff51",
   "metadata": {},
   "outputs": [],
   "source": [
    "iris_X, iris_y = datasets.load_iris(return_X_y=True)"
   ]
  },
  {
   "cell_type": "markdown",
   "id": "4552a4cd",
   "metadata": {},
   "source": [
    "Remember, we need to split the data into training and test.  The cross validation step will hep us optimize the parameters, but we don't want *data leakage* where the model has seen the test data multiple times. So, we split the data here for train and test annd the cross validation splits the training data into train and \"test\" again, but this test is better termed validation."
   ]
  },
  {
   "cell_type": "code",
   "execution_count": 3,
   "id": "cf34c9e1",
   "metadata": {},
   "outputs": [],
   "source": [
    "iris_X_train, iris_X_test, iris_y_train, iris_y_test = model_selection.train_test_split(\n",
    "    iris_X,iris_y, test_size =.2)"
   ]
  },
  {
   "cell_type": "markdown",
   "id": "af41ffa7",
   "metadata": {},
   "source": [
    "Then we can make the object, the parameter grid dictionary and the Grid Search object.  We split these into separate cells, so that we can use the built in help to see more detail."
   ]
  },
  {
   "cell_type": "code",
   "execution_count": 4,
   "id": "7be6d925",
   "metadata": {},
   "outputs": [],
   "source": [
    "dt = tree.DecisionTreeClassifier()"
   ]
  },
  {
   "cell_type": "code",
   "execution_count": 5,
   "id": "cd60e25c",
   "metadata": {},
   "outputs": [],
   "source": [
    "params_dt = {'criterion':['gini','entropy'],\n",
    "             'max_depth':[2,3,4],\n",
    "       'min_samples_leaf':list(range(2,20,2))}"
   ]
  },
  {
   "cell_type": "code",
   "execution_count": 6,
   "id": "93d845ab",
   "metadata": {},
   "outputs": [],
   "source": [
    "dt_opt = model_selection.GridSearchCV(dt,params_dt)"
   ]
  },
  {
   "cell_type": "markdown",
   "id": "a920d3f1",
   "metadata": {},
   "source": [
    "Then we fit the Grid search using the training data, and remember this actually resets the parameters and then cross validates multiple times."
   ]
  },
  {
   "cell_type": "code",
   "execution_count": 7,
   "id": "c18e6430",
   "metadata": {},
   "outputs": [
    {
     "data": {
      "text/plain": [
       "GridSearchCV(estimator=DecisionTreeClassifier(),\n",
       "             param_grid={'criterion': ['gini', 'entropy'],\n",
       "                         'max_depth': [2, 3, 4],\n",
       "                         'min_samples_leaf': [2, 4, 6, 8, 10, 12, 14, 16, 18]})"
      ]
     },
     "execution_count": 7,
     "metadata": {},
     "output_type": "execute_result"
    }
   ],
   "source": [
    "dt_opt.fit(iris_X_train,iris_y_train)"
   ]
  },
  {
   "cell_type": "markdown",
   "id": "e3eea128",
   "metadata": {},
   "source": [
    "adn look at the results"
   ]
  },
  {
   "cell_type": "code",
   "execution_count": 8,
   "id": "4e3140ed",
   "metadata": {},
   "outputs": [
    {
     "data": {
      "text/plain": [
       "{'mean_fit_time': array([0.00045114, 0.00036221, 0.00036759, 0.00039697, 0.00036335,\n",
       "        0.00039229, 0.00036225, 0.00038815, 0.0004065 , 0.00041246,\n",
       "        0.00046477, 0.00039434, 0.00041013, 0.00038705, 0.00043502,\n",
       "        0.00038061, 0.00042062, 0.0003767 , 0.00042558, 0.00039201,\n",
       "        0.00042224, 0.00038424, 0.00041618, 0.00042272, 0.00038204,\n",
       "        0.0004076 , 0.00036016, 0.00039692, 0.00036702, 0.00040584,\n",
       "        0.00036492, 0.00036697, 0.00039883, 0.00036545, 0.00040026,\n",
       "        0.00037689, 0.00041523, 0.00037775, 0.00041008, 0.00037446,\n",
       "        0.0003787 , 0.00041313, 0.00037923, 0.00040164, 0.00036616,\n",
       "        0.00043325, 0.00042148, 0.00041318, 0.00037842, 0.00037355,\n",
       "        0.00042195, 0.00037632, 0.00040026, 0.00036893]),\n",
       " 'std_fit_time': array([8.82440467e-05, 2.43327156e-06, 1.29374981e-05, 4.66820899e-05,\n",
       "        7.99609139e-06, 5.04000410e-05, 8.66821232e-06, 5.89257680e-05,\n",
       "        5.47131940e-05, 3.91555610e-05, 3.22578135e-05, 5.40532305e-05,\n",
       "        6.19237632e-05, 2.20990231e-05, 5.80231866e-05, 1.31805588e-05,\n",
       "        6.10566474e-05, 2.08781722e-05, 4.30998545e-05, 2.73421104e-05,\n",
       "        5.22921030e-05, 2.25159052e-05, 5.33594629e-05, 4.94208993e-05,\n",
       "        2.32536229e-05, 4.79209719e-05, 3.85206517e-06, 5.62080384e-05,\n",
       "        1.82573220e-06, 4.99242812e-05, 1.64905705e-06, 6.89915975e-06,\n",
       "        5.32433903e-05, 8.64036299e-06, 5.66797538e-05, 2.14769489e-05,\n",
       "        6.54700370e-05, 3.01427472e-06, 5.77026160e-05, 4.66131188e-06,\n",
       "        1.00097195e-05, 5.54289919e-05, 8.70485790e-06, 5.46041219e-05,\n",
       "        5.14763326e-06, 6.79251812e-05, 4.75838091e-05, 6.97596629e-05,\n",
       "        5.80763386e-06, 4.42560373e-06, 6.03701830e-05, 1.02009723e-05,\n",
       "        5.61369999e-05, 7.52526994e-06]),\n",
       " 'mean_score_time': array([0.00022826, 0.00019193, 0.00019026, 0.00020332, 0.00018682,\n",
       "        0.00020285, 0.00019035, 0.00021257, 0.00021138, 0.00021133,\n",
       "        0.00023203, 0.00021148, 0.00019956, 0.00020604, 0.00020843,\n",
       "        0.00019054, 0.00020957, 0.00019746, 0.00022655, 0.00020056,\n",
       "        0.00022273, 0.00019894, 0.00022683, 0.00020418, 0.00019622,\n",
       "        0.00020857, 0.00019317, 0.0002027 , 0.00019183, 0.00020366,\n",
       "        0.00019207, 0.0001884 , 0.0002028 , 0.0001904 , 0.00020862,\n",
       "        0.0002099 , 0.00021319, 0.00019183, 0.00020452, 0.00019197,\n",
       "        0.00018897, 0.00020714, 0.00018945, 0.00020494, 0.00018716,\n",
       "        0.0002171 , 0.00020084, 0.00020437, 0.0001895 , 0.00019231,\n",
       "        0.00021777, 0.00018802, 0.00020761, 0.0001873 ]),\n",
       " 'std_score_time': array([4.29157681e-05, 9.07119249e-06, 3.48776313e-06, 3.06845360e-05,\n",
       "        1.88697423e-06, 2.89520664e-05, 3.61453889e-06, 3.35818641e-05,\n",
       "        2.85977495e-05, 3.13484077e-05, 2.60391512e-05, 4.43737906e-05,\n",
       "        1.39567556e-05, 2.29583103e-05, 2.93993988e-05, 4.08913928e-06,\n",
       "        3.13721165e-05, 2.01242229e-05, 3.83794377e-05, 1.14236092e-05,\n",
       "        3.10282889e-05, 1.42370832e-05, 2.89438977e-05, 2.25108555e-05,\n",
       "        7.03880131e-06, 2.87945690e-05, 7.89795506e-06, 2.98986404e-05,\n",
       "        8.29011261e-06, 2.88056218e-05, 8.16854202e-06, 1.20064529e-06,\n",
       "        2.97355285e-05, 4.03089604e-06, 4.00370038e-05, 4.44407627e-05,\n",
       "        2.98274506e-05, 7.08163384e-06, 3.04479849e-05, 8.59551058e-06,\n",
       "        1.57861188e-06, 2.94631348e-05, 2.44817689e-06, 2.93932883e-05,\n",
       "        8.92080638e-07, 3.54824523e-05, 2.28760608e-05, 2.90586771e-05,\n",
       "        8.17605410e-07, 8.17271625e-06, 3.56416558e-05, 8.34124359e-07,\n",
       "        3.27630505e-05, 9.72560790e-07]),\n",
       " 'param_criterion': masked_array(data=['gini', 'gini', 'gini', 'gini', 'gini', 'gini', 'gini',\n",
       "                    'gini', 'gini', 'gini', 'gini', 'gini', 'gini', 'gini',\n",
       "                    'gini', 'gini', 'gini', 'gini', 'gini', 'gini', 'gini',\n",
       "                    'gini', 'gini', 'gini', 'gini', 'gini', 'gini',\n",
       "                    'entropy', 'entropy', 'entropy', 'entropy', 'entropy',\n",
       "                    'entropy', 'entropy', 'entropy', 'entropy', 'entropy',\n",
       "                    'entropy', 'entropy', 'entropy', 'entropy', 'entropy',\n",
       "                    'entropy', 'entropy', 'entropy', 'entropy', 'entropy',\n",
       "                    'entropy', 'entropy', 'entropy', 'entropy', 'entropy',\n",
       "                    'entropy', 'entropy'],\n",
       "              mask=[False, False, False, False, False, False, False, False,\n",
       "                    False, False, False, False, False, False, False, False,\n",
       "                    False, False, False, False, False, False, False, False,\n",
       "                    False, False, False, False, False, False, False, False,\n",
       "                    False, False, False, False, False, False, False, False,\n",
       "                    False, False, False, False, False, False, False, False,\n",
       "                    False, False, False, False, False, False],\n",
       "        fill_value='?',\n",
       "             dtype=object),\n",
       " 'param_max_depth': masked_array(data=[2, 2, 2, 2, 2, 2, 2, 2, 2, 3, 3, 3, 3, 3, 3, 3, 3, 3,\n",
       "                    4, 4, 4, 4, 4, 4, 4, 4, 4, 2, 2, 2, 2, 2, 2, 2, 2, 2,\n",
       "                    3, 3, 3, 3, 3, 3, 3, 3, 3, 4, 4, 4, 4, 4, 4, 4, 4, 4],\n",
       "              mask=[False, False, False, False, False, False, False, False,\n",
       "                    False, False, False, False, False, False, False, False,\n",
       "                    False, False, False, False, False, False, False, False,\n",
       "                    False, False, False, False, False, False, False, False,\n",
       "                    False, False, False, False, False, False, False, False,\n",
       "                    False, False, False, False, False, False, False, False,\n",
       "                    False, False, False, False, False, False],\n",
       "        fill_value='?',\n",
       "             dtype=object),\n",
       " 'param_min_samples_leaf': masked_array(data=[2, 4, 6, 8, 10, 12, 14, 16, 18, 2, 4, 6, 8, 10, 12, 14,\n",
       "                    16, 18, 2, 4, 6, 8, 10, 12, 14, 16, 18, 2, 4, 6, 8, 10,\n",
       "                    12, 14, 16, 18, 2, 4, 6, 8, 10, 12, 14, 16, 18, 2, 4,\n",
       "                    6, 8, 10, 12, 14, 16, 18],\n",
       "              mask=[False, False, False, False, False, False, False, False,\n",
       "                    False, False, False, False, False, False, False, False,\n",
       "                    False, False, False, False, False, False, False, False,\n",
       "                    False, False, False, False, False, False, False, False,\n",
       "                    False, False, False, False, False, False, False, False,\n",
       "                    False, False, False, False, False, False, False, False,\n",
       "                    False, False, False, False, False, False],\n",
       "        fill_value='?',\n",
       "             dtype=object),\n",
       " 'params': [{'criterion': 'gini', 'max_depth': 2, 'min_samples_leaf': 2},\n",
       "  {'criterion': 'gini', 'max_depth': 2, 'min_samples_leaf': 4},\n",
       "  {'criterion': 'gini', 'max_depth': 2, 'min_samples_leaf': 6},\n",
       "  {'criterion': 'gini', 'max_depth': 2, 'min_samples_leaf': 8},\n",
       "  {'criterion': 'gini', 'max_depth': 2, 'min_samples_leaf': 10},\n",
       "  {'criterion': 'gini', 'max_depth': 2, 'min_samples_leaf': 12},\n",
       "  {'criterion': 'gini', 'max_depth': 2, 'min_samples_leaf': 14},\n",
       "  {'criterion': 'gini', 'max_depth': 2, 'min_samples_leaf': 16},\n",
       "  {'criterion': 'gini', 'max_depth': 2, 'min_samples_leaf': 18},\n",
       "  {'criterion': 'gini', 'max_depth': 3, 'min_samples_leaf': 2},\n",
       "  {'criterion': 'gini', 'max_depth': 3, 'min_samples_leaf': 4},\n",
       "  {'criterion': 'gini', 'max_depth': 3, 'min_samples_leaf': 6},\n",
       "  {'criterion': 'gini', 'max_depth': 3, 'min_samples_leaf': 8},\n",
       "  {'criterion': 'gini', 'max_depth': 3, 'min_samples_leaf': 10},\n",
       "  {'criterion': 'gini', 'max_depth': 3, 'min_samples_leaf': 12},\n",
       "  {'criterion': 'gini', 'max_depth': 3, 'min_samples_leaf': 14},\n",
       "  {'criterion': 'gini', 'max_depth': 3, 'min_samples_leaf': 16},\n",
       "  {'criterion': 'gini', 'max_depth': 3, 'min_samples_leaf': 18},\n",
       "  {'criterion': 'gini', 'max_depth': 4, 'min_samples_leaf': 2},\n",
       "  {'criterion': 'gini', 'max_depth': 4, 'min_samples_leaf': 4},\n",
       "  {'criterion': 'gini', 'max_depth': 4, 'min_samples_leaf': 6},\n",
       "  {'criterion': 'gini', 'max_depth': 4, 'min_samples_leaf': 8},\n",
       "  {'criterion': 'gini', 'max_depth': 4, 'min_samples_leaf': 10},\n",
       "  {'criterion': 'gini', 'max_depth': 4, 'min_samples_leaf': 12},\n",
       "  {'criterion': 'gini', 'max_depth': 4, 'min_samples_leaf': 14},\n",
       "  {'criterion': 'gini', 'max_depth': 4, 'min_samples_leaf': 16},\n",
       "  {'criterion': 'gini', 'max_depth': 4, 'min_samples_leaf': 18},\n",
       "  {'criterion': 'entropy', 'max_depth': 2, 'min_samples_leaf': 2},\n",
       "  {'criterion': 'entropy', 'max_depth': 2, 'min_samples_leaf': 4},\n",
       "  {'criterion': 'entropy', 'max_depth': 2, 'min_samples_leaf': 6},\n",
       "  {'criterion': 'entropy', 'max_depth': 2, 'min_samples_leaf': 8},\n",
       "  {'criterion': 'entropy', 'max_depth': 2, 'min_samples_leaf': 10},\n",
       "  {'criterion': 'entropy', 'max_depth': 2, 'min_samples_leaf': 12},\n",
       "  {'criterion': 'entropy', 'max_depth': 2, 'min_samples_leaf': 14},\n",
       "  {'criterion': 'entropy', 'max_depth': 2, 'min_samples_leaf': 16},\n",
       "  {'criterion': 'entropy', 'max_depth': 2, 'min_samples_leaf': 18},\n",
       "  {'criterion': 'entropy', 'max_depth': 3, 'min_samples_leaf': 2},\n",
       "  {'criterion': 'entropy', 'max_depth': 3, 'min_samples_leaf': 4},\n",
       "  {'criterion': 'entropy', 'max_depth': 3, 'min_samples_leaf': 6},\n",
       "  {'criterion': 'entropy', 'max_depth': 3, 'min_samples_leaf': 8},\n",
       "  {'criterion': 'entropy', 'max_depth': 3, 'min_samples_leaf': 10},\n",
       "  {'criterion': 'entropy', 'max_depth': 3, 'min_samples_leaf': 12},\n",
       "  {'criterion': 'entropy', 'max_depth': 3, 'min_samples_leaf': 14},\n",
       "  {'criterion': 'entropy', 'max_depth': 3, 'min_samples_leaf': 16},\n",
       "  {'criterion': 'entropy', 'max_depth': 3, 'min_samples_leaf': 18},\n",
       "  {'criterion': 'entropy', 'max_depth': 4, 'min_samples_leaf': 2},\n",
       "  {'criterion': 'entropy', 'max_depth': 4, 'min_samples_leaf': 4},\n",
       "  {'criterion': 'entropy', 'max_depth': 4, 'min_samples_leaf': 6},\n",
       "  {'criterion': 'entropy', 'max_depth': 4, 'min_samples_leaf': 8},\n",
       "  {'criterion': 'entropy', 'max_depth': 4, 'min_samples_leaf': 10},\n",
       "  {'criterion': 'entropy', 'max_depth': 4, 'min_samples_leaf': 12},\n",
       "  {'criterion': 'entropy', 'max_depth': 4, 'min_samples_leaf': 14},\n",
       "  {'criterion': 'entropy', 'max_depth': 4, 'min_samples_leaf': 16},\n",
       "  {'criterion': 'entropy', 'max_depth': 4, 'min_samples_leaf': 18}],\n",
       " 'split0_test_score': array([0.91666667, 0.91666667, 0.91666667, 0.91666667, 0.91666667,\n",
       "        0.91666667, 0.91666667, 0.91666667, 0.91666667, 0.91666667,\n",
       "        0.91666667, 0.91666667, 0.91666667, 0.91666667, 0.91666667,\n",
       "        0.91666667, 0.91666667, 0.91666667, 0.91666667, 0.91666667,\n",
       "        0.91666667, 0.91666667, 0.91666667, 0.91666667, 0.91666667,\n",
       "        0.91666667, 0.91666667, 0.91666667, 0.91666667, 0.91666667,\n",
       "        0.91666667, 0.91666667, 0.91666667, 0.91666667, 0.91666667,\n",
       "        0.91666667, 0.91666667, 0.91666667, 0.91666667, 0.91666667,\n",
       "        0.91666667, 0.91666667, 0.91666667, 0.91666667, 0.91666667,\n",
       "        0.91666667, 0.91666667, 0.91666667, 0.91666667, 0.91666667,\n",
       "        0.91666667, 0.91666667, 0.91666667, 0.91666667]),\n",
       " 'split1_test_score': array([1., 1., 1., 1., 1., 1., 1., 1., 1., 1., 1., 1., 1., 1., 1., 1., 1.,\n",
       "        1., 1., 1., 1., 1., 1., 1., 1., 1., 1., 1., 1., 1., 1., 1., 1., 1.,\n",
       "        1., 1., 1., 1., 1., 1., 1., 1., 1., 1., 1., 1., 1., 1., 1., 1., 1.,\n",
       "        1., 1., 1.]),\n",
       " 'split2_test_score': array([0.91666667, 0.91666667, 0.91666667, 0.91666667, 0.91666667,\n",
       "        0.91666667, 0.91666667, 0.91666667, 0.91666667, 0.91666667,\n",
       "        0.91666667, 0.91666667, 0.91666667, 0.91666667, 0.91666667,\n",
       "        0.91666667, 0.91666667, 0.91666667, 0.91666667, 0.91666667,\n",
       "        0.91666667, 0.91666667, 0.91666667, 0.91666667, 0.91666667,\n",
       "        0.91666667, 0.91666667, 0.91666667, 0.91666667, 0.91666667,\n",
       "        0.91666667, 0.91666667, 0.91666667, 0.91666667, 0.91666667,\n",
       "        0.91666667, 0.91666667, 0.91666667, 0.91666667, 0.91666667,\n",
       "        0.91666667, 0.91666667, 0.91666667, 0.91666667, 0.91666667,\n",
       "        0.91666667, 0.91666667, 0.91666667, 0.91666667, 0.91666667,\n",
       "        0.91666667, 0.91666667, 0.91666667, 0.91666667]),\n",
       " 'split3_test_score': array([0.875     , 0.875     , 0.875     , 0.875     , 0.875     ,\n",
       "        0.875     , 0.875     , 0.875     , 0.875     , 0.91666667,\n",
       "        0.91666667, 0.875     , 0.875     , 0.875     , 0.875     ,\n",
       "        0.875     , 0.875     , 0.875     , 0.875     , 0.91666667,\n",
       "        0.875     , 0.875     , 0.875     , 0.875     , 0.875     ,\n",
       "        0.875     , 0.875     , 0.875     , 0.875     , 0.875     ,\n",
       "        0.875     , 0.875     , 0.875     , 0.875     , 0.875     ,\n",
       "        0.875     , 0.91666667, 0.91666667, 0.875     , 0.875     ,\n",
       "        0.875     , 0.875     , 0.875     , 0.875     , 0.875     ,\n",
       "        0.875     , 0.91666667, 0.875     , 0.875     , 0.875     ,\n",
       "        0.875     , 0.875     , 0.875     , 0.875     ]),\n",
       " 'split4_test_score': array([1., 1., 1., 1., 1., 1., 1., 1., 1., 1., 1., 1., 1., 1., 1., 1., 1.,\n",
       "        1., 1., 1., 1., 1., 1., 1., 1., 1., 1., 1., 1., 1., 1., 1., 1., 1.,\n",
       "        1., 1., 1., 1., 1., 1., 1., 1., 1., 1., 1., 1., 1., 1., 1., 1., 1.,\n",
       "        1., 1., 1.]),\n",
       " 'mean_test_score': array([0.94166667, 0.94166667, 0.94166667, 0.94166667, 0.94166667,\n",
       "        0.94166667, 0.94166667, 0.94166667, 0.94166667, 0.95      ,\n",
       "        0.95      , 0.94166667, 0.94166667, 0.94166667, 0.94166667,\n",
       "        0.94166667, 0.94166667, 0.94166667, 0.94166667, 0.95      ,\n",
       "        0.94166667, 0.94166667, 0.94166667, 0.94166667, 0.94166667,\n",
       "        0.94166667, 0.94166667, 0.94166667, 0.94166667, 0.94166667,\n",
       "        0.94166667, 0.94166667, 0.94166667, 0.94166667, 0.94166667,\n",
       "        0.94166667, 0.95      , 0.95      , 0.94166667, 0.94166667,\n",
       "        0.94166667, 0.94166667, 0.94166667, 0.94166667, 0.94166667,\n",
       "        0.94166667, 0.95      , 0.94166667, 0.94166667, 0.94166667,\n",
       "        0.94166667, 0.94166667, 0.94166667, 0.94166667]),\n",
       " 'std_test_score': array([0.05      , 0.05      , 0.05      , 0.05      , 0.05      ,\n",
       "        0.05      , 0.05      , 0.05      , 0.05      , 0.04082483,\n",
       "        0.04082483, 0.05      , 0.05      , 0.05      , 0.05      ,\n",
       "        0.05      , 0.05      , 0.05      , 0.05      , 0.04082483,\n",
       "        0.05      , 0.05      , 0.05      , 0.05      , 0.05      ,\n",
       "        0.05      , 0.05      , 0.05      , 0.05      , 0.05      ,\n",
       "        0.05      , 0.05      , 0.05      , 0.05      , 0.05      ,\n",
       "        0.05      , 0.04082483, 0.04082483, 0.05      , 0.05      ,\n",
       "        0.05      , 0.05      , 0.05      , 0.05      , 0.05      ,\n",
       "        0.05      , 0.04082483, 0.05      , 0.05      , 0.05      ,\n",
       "        0.05      , 0.05      , 0.05      , 0.05      ]),\n",
       " 'rank_test_score': array([7, 7, 7, 7, 7, 7, 7, 7, 7, 1, 1, 7, 7, 7, 7, 7, 7, 7, 7, 1, 7, 7,\n",
       "        7, 7, 7, 7, 7, 7, 7, 7, 7, 7, 7, 7, 7, 7, 1, 1, 7, 7, 7, 7, 7, 7,\n",
       "        7, 7, 1, 7, 7, 7, 7, 7, 7, 7], dtype=int32)}"
      ]
     },
     "execution_count": 8,
     "metadata": {},
     "output_type": "execute_result"
    }
   ],
   "source": [
    "dt_opt.cv_results_"
   ]
  },
  {
   "cell_type": "markdown",
   "id": "b0e67d8c",
   "metadata": {},
   "source": [
    "We can reformat it into a dataframe for further analysis."
   ]
  },
  {
   "cell_type": "code",
   "execution_count": 9,
   "id": "abf846c3",
   "metadata": {},
   "outputs": [
    {
     "data": {
      "text/html": [
       "<div>\n",
       "<style scoped>\n",
       "    .dataframe tbody tr th:only-of-type {\n",
       "        vertical-align: middle;\n",
       "    }\n",
       "\n",
       "    .dataframe tbody tr th {\n",
       "        vertical-align: top;\n",
       "    }\n",
       "\n",
       "    .dataframe thead th {\n",
       "        text-align: right;\n",
       "    }\n",
       "</style>\n",
       "<table border=\"1\" class=\"dataframe\">\n",
       "  <thead>\n",
       "    <tr style=\"text-align: right;\">\n",
       "      <th></th>\n",
       "      <th>mean_fit_time</th>\n",
       "      <th>std_fit_time</th>\n",
       "      <th>mean_score_time</th>\n",
       "      <th>std_score_time</th>\n",
       "      <th>param_criterion</th>\n",
       "      <th>param_max_depth</th>\n",
       "      <th>param_min_samples_leaf</th>\n",
       "      <th>params</th>\n",
       "      <th>split0_test_score</th>\n",
       "      <th>split1_test_score</th>\n",
       "      <th>split2_test_score</th>\n",
       "      <th>split3_test_score</th>\n",
       "      <th>split4_test_score</th>\n",
       "      <th>mean_test_score</th>\n",
       "      <th>std_test_score</th>\n",
       "      <th>rank_test_score</th>\n",
       "    </tr>\n",
       "  </thead>\n",
       "  <tbody>\n",
       "    <tr>\n",
       "      <th>0</th>\n",
       "      <td>0.000451</td>\n",
       "      <td>0.000088</td>\n",
       "      <td>0.000228</td>\n",
       "      <td>0.000043</td>\n",
       "      <td>gini</td>\n",
       "      <td>2</td>\n",
       "      <td>2</td>\n",
       "      <td>{'criterion': 'gini', 'max_depth': 2, 'min_sam...</td>\n",
       "      <td>0.916667</td>\n",
       "      <td>1.0</td>\n",
       "      <td>0.916667</td>\n",
       "      <td>0.875</td>\n",
       "      <td>1.0</td>\n",
       "      <td>0.941667</td>\n",
       "      <td>0.05</td>\n",
       "      <td>7</td>\n",
       "    </tr>\n",
       "    <tr>\n",
       "      <th>1</th>\n",
       "      <td>0.000362</td>\n",
       "      <td>0.000002</td>\n",
       "      <td>0.000192</td>\n",
       "      <td>0.000009</td>\n",
       "      <td>gini</td>\n",
       "      <td>2</td>\n",
       "      <td>4</td>\n",
       "      <td>{'criterion': 'gini', 'max_depth': 2, 'min_sam...</td>\n",
       "      <td>0.916667</td>\n",
       "      <td>1.0</td>\n",
       "      <td>0.916667</td>\n",
       "      <td>0.875</td>\n",
       "      <td>1.0</td>\n",
       "      <td>0.941667</td>\n",
       "      <td>0.05</td>\n",
       "      <td>7</td>\n",
       "    </tr>\n",
       "  </tbody>\n",
       "</table>\n",
       "</div>"
      ],
      "text/plain": [
       "   mean_fit_time  std_fit_time  mean_score_time  std_score_time  \\\n",
       "0       0.000451      0.000088         0.000228        0.000043   \n",
       "1       0.000362      0.000002         0.000192        0.000009   \n",
       "\n",
       "  param_criterion param_max_depth param_min_samples_leaf  \\\n",
       "0            gini               2                      2   \n",
       "1            gini               2                      4   \n",
       "\n",
       "                                              params  split0_test_score  \\\n",
       "0  {'criterion': 'gini', 'max_depth': 2, 'min_sam...           0.916667   \n",
       "1  {'criterion': 'gini', 'max_depth': 2, 'min_sam...           0.916667   \n",
       "\n",
       "   split1_test_score  split2_test_score  split3_test_score  split4_test_score  \\\n",
       "0                1.0           0.916667              0.875                1.0   \n",
       "1                1.0           0.916667              0.875                1.0   \n",
       "\n",
       "   mean_test_score  std_test_score  rank_test_score  \n",
       "0         0.941667            0.05                7  \n",
       "1         0.941667            0.05                7  "
      ]
     },
     "execution_count": 9,
     "metadata": {},
     "output_type": "execute_result"
    }
   ],
   "source": [
    "dt_df = pd.DataFrame(dt_opt.cv_results_)\n",
    "dt_df.head(2)"
   ]
  },
  {
   "cell_type": "markdown",
   "id": "9993dd6d",
   "metadata": {},
   "source": [
    "```{admonition} Correction\n",
    "The parameters in this function were in the wrong \n",
    "order in this function in class\n",
    "```\n",
    "I changed the markers and the color of the error bars for readability."
   ]
  },
  {
   "cell_type": "code",
   "execution_count": 10,
   "id": "66002e7d",
   "metadata": {},
   "outputs": [
    {
     "data": {
      "image/png": "[encoded data removed]",
      "text/plain": [
       "<Figure size 432x288 with 1 Axes>"
      ]
     },
     "metadata": {
      "filenames": {
       "image/png": "/home/runner/work/BrownFall21/BrownFall21/_build/jupyter_execute/notes/2021-11-15_18_0.png"
      }
     },
     "output_type": "display_data"
    }
   ],
   "source": [
    "plt.errorbar(x=dt_df['mean_fit_time'],y=dt_df['mean_score_time'],\n",
    "     xerr=dt_df['std_fit_time'],yerr=dt_df['std_score_time'],\n",
    "             marker='s',ecolor='r')\n",
    "plt.xlabel('fit time')\n",
    "plt.ylabel('score time')\n",
    "# save the limits so we can reuse them\n",
    "xmin, xmax, ymin, ymax = plt.axis()"
   ]
  },
  {
   "cell_type": "markdown",
   "id": "d7824506",
   "metadata": {},
   "source": [
    "The \"points\" are at the mean fit and score times. The lines are the \"standard deviation\" or how much we expect that number to vary, since means are an estimate. \n",
    "Because the data shows an upward trend, this plot tells us that mostly, the models that are slower to fit are also slower to apply. This makes sense for decision trees, deeper trees take longer to learn and longer to traverse when predicting. \n",
    "Because the error bars mostly overlap the other points, this tells us that mostly the variation in time is not a reliable difference. If we re-ran the GridSearch, we could get them in different orders. \n",
    "\n",
    "To interpret the error bar plot, let's look at a line plot of just the means, with the same limits so that it's easier to compare to the plot above."
   ]
  },
  {
   "cell_type": "code",
   "execution_count": 11,
   "id": "c2aab76a",
   "metadata": {},
   "outputs": [
    {
     "data": {
      "text/plain": [
       "(0.0003187116786052794, 0.0005498876822653766)"
      ]
     },
     "execution_count": 11,
     "metadata": {},
     "output_type": "execute_result"
    },
    {
     "data": {
      "image/png": "[encoded data removed]",
      "text/plain": [
       "<Figure size 432x288 with 1 Axes>"
      ]
     },
     "metadata": {
      "filenames": {
       "image/png": "/home/runner/work/BrownFall21/BrownFall21/_build/jupyter_execute/notes/2021-11-15_20_1.png"
      }
     },
     "output_type": "display_data"
    }
   ],
   "source": [
    "plt.plot(dt_df['mean_fit_time'],\n",
    "            dt_df['mean_score_time'], marker='s')\n",
    "plt.xlabel('fit time')\n",
    "plt.ylabel('score time')\n",
    "# match the axis limits to above\n",
    "plt.ylim(ymin, ymax)\n",
    "plt.xlim(xmin,xmax)"
   ]
  },
  {
   "cell_type": "markdown",
   "id": "e6a32aa2",
   "metadata": {},
   "source": [
    "this plot shows the mean times, without the error bars."
   ]
  },
  {
   "cell_type": "code",
   "execution_count": 12,
   "id": "74ef421d",
   "metadata": {},
   "outputs": [
    {
     "data": {
      "text/plain": [
       "<AxesSubplot:>"
      ]
     },
     "execution_count": 12,
     "metadata": {},
     "output_type": "execute_result"
    },
    {
     "data": {
      "image/png": "[encoded data removed]",
      "text/plain": [
       "<Figure size 432x288 with 1 Axes>"
      ]
     },
     "metadata": {
      "filenames": {
       "image/png": "/home/runner/work/BrownFall21/BrownFall21/_build/jupyter_execute/notes/2021-11-15_22_1.png"
      }
     },
     "output_type": "display_data"
    }
   ],
   "source": [
    "dt_df['mean_test_score'].plot(kind='bar')"
   ]
  },
  {
   "cell_type": "code",
   "execution_count": 13,
   "id": "d56ffe6f",
   "metadata": {},
   "outputs": [
    {
     "data": {
      "text/plain": [
       "0     0.941667\n",
       "1     0.941667\n",
       "2     0.941667\n",
       "3     0.941667\n",
       "4     0.941667\n",
       "5     0.941667\n",
       "6     0.941667\n",
       "7     0.941667\n",
       "8     0.941667\n",
       "9     0.950000\n",
       "10    0.950000\n",
       "11    0.941667\n",
       "12    0.941667\n",
       "13    0.941667\n",
       "14    0.941667\n",
       "15    0.941667\n",
       "16    0.941667\n",
       "17    0.941667\n",
       "18    0.941667\n",
       "19    0.950000\n",
       "20    0.941667\n",
       "21    0.941667\n",
       "22    0.941667\n",
       "23    0.941667\n",
       "24    0.941667\n",
       "25    0.941667\n",
       "26    0.941667\n",
       "27    0.941667\n",
       "28    0.941667\n",
       "29    0.941667\n",
       "30    0.941667\n",
       "31    0.941667\n",
       "32    0.941667\n",
       "33    0.941667\n",
       "34    0.941667\n",
       "35    0.941667\n",
       "36    0.950000\n",
       "37    0.950000\n",
       "38    0.941667\n",
       "39    0.941667\n",
       "40    0.941667\n",
       "41    0.941667\n",
       "42    0.941667\n",
       "43    0.941667\n",
       "44    0.941667\n",
       "45    0.941667\n",
       "46    0.950000\n",
       "47    0.941667\n",
       "48    0.941667\n",
       "49    0.941667\n",
       "50    0.941667\n",
       "51    0.941667\n",
       "52    0.941667\n",
       "53    0.941667\n",
       "Name: mean_test_score, dtype: float64"
      ]
     },
     "execution_count": 13,
     "metadata": {},
     "output_type": "execute_result"
    }
   ],
   "source": [
    "dt_df['mean_test_score']"
   ]
  },
  {
   "cell_type": "markdown",
   "id": "c4875fe9",
   "metadata": {},
   "source": [
    "Now let's compare with a different model, we'll use the parameter optimized version for that model."
   ]
  },
  {
   "cell_type": "code",
   "execution_count": 14,
   "id": "48773bc1",
   "metadata": {},
   "outputs": [
    {
     "ename": "NameError",
     "evalue": "name 'GridSearchCV' is not defined",
     "output_type": "error",
     "traceback": [
      "\u001b[0;31m---------------------------------------------------------------------------\u001b[0m",
      "\u001b[0;31mNameError\u001b[0m                                 Traceback (most recent call last)",
      "\u001b[0;32m/tmp/ipykernel_2333/492760704.py\u001b[0m in \u001b[0;36m<module>\u001b[0;34m\u001b[0m\n\u001b[1;32m      1\u001b[0m \u001b[0msvm_clf\u001b[0m \u001b[0;34m=\u001b[0m \u001b[0msvm\u001b[0m\u001b[0;34m.\u001b[0m\u001b[0mSVC\u001b[0m\u001b[0;34m(\u001b[0m\u001b[0;34m)\u001b[0m\u001b[0;34m\u001b[0m\u001b[0;34m\u001b[0m\u001b[0m\n\u001b[1;32m      2\u001b[0m \u001b[0mparam_grid\u001b[0m \u001b[0;34m=\u001b[0m \u001b[0;34m{\u001b[0m\u001b[0;34m'kernel'\u001b[0m\u001b[0;34m:\u001b[0m\u001b[0;34m[\u001b[0m\u001b[0;34m'linear'\u001b[0m\u001b[0;34m,\u001b[0m\u001b[0;34m'rbf'\u001b[0m\u001b[0;34m]\u001b[0m\u001b[0;34m,\u001b[0m \u001b[0;34m'C'\u001b[0m\u001b[0;34m:\u001b[0m\u001b[0;34m[\u001b[0m\u001b[0;36m.5\u001b[0m\u001b[0;34m,\u001b[0m \u001b[0;36m1\u001b[0m\u001b[0;34m,\u001b[0m \u001b[0;36m10\u001b[0m\u001b[0;34m]\u001b[0m\u001b[0;34m}\u001b[0m\u001b[0;34m\u001b[0m\u001b[0;34m\u001b[0m\u001b[0m\n\u001b[0;32m----> 3\u001b[0;31m \u001b[0msvm_opt\u001b[0m \u001b[0;34m=\u001b[0m \u001b[0mGridSearchCV\u001b[0m\u001b[0;34m(\u001b[0m\u001b[0msvm_clf\u001b[0m\u001b[0;34m,\u001b[0m\u001b[0mparam_grid\u001b[0m\u001b[0;34m,\u001b[0m\u001b[0;34m)\u001b[0m\u001b[0;34m\u001b[0m\u001b[0;34m\u001b[0m\u001b[0m\n\u001b[0m",
      "\u001b[0;31mNameError\u001b[0m: name 'GridSearchCV' is not defined"
     ]
    }
   ],
   "source": [
    "svm_clf = svm.SVC()\n",
    "param_grid = {'kernel':['linear','rbf'], 'C':[.5, 1, 10]}\n",
    "svm_opt = GridSearchCV(svm_clf,param_grid,)"
   ]
  },
  {
   "cell_type": "markdown",
   "id": "11cb2e00",
   "metadata": {},
   "source": [
    "The error above is because we didn't import `GridSearchCV` directly today, we imported the whole `model_selection` module, so we have to use that in order to access the class."
   ]
  },
  {
   "cell_type": "code",
   "execution_count": 15,
   "id": "47441e4f",
   "metadata": {},
   "outputs": [],
   "source": [
    "svm_clf = svm.SVC()\n",
    "param_grid = {'kernel':['linear','rbf'], 'C':[.5, .75,1,2,5,7, 10]}\n",
    "svm_opt = model_selection.GridSearchCV(svm_clf,param_grid,cv=10)"
   ]
  },
  {
   "cell_type": "code",
   "execution_count": 16,
   "id": "bc4b4bbd",
   "metadata": {},
   "outputs": [
    {
     "data": {
      "text/plain": [
       "module"
      ]
     },
     "execution_count": 16,
     "metadata": {},
     "output_type": "execute_result"
    }
   ],
   "source": [
    "type(model_selection)"
   ]
  },
  {
   "cell_type": "code",
   "execution_count": 17,
   "id": "8b823b5a",
   "metadata": {},
   "outputs": [
    {
     "data": {
      "text/plain": [
       "{'scoring': None,\n",
       " 'estimator': DecisionTreeClassifier(),\n",
       " 'n_jobs': None,\n",
       " 'refit': True,\n",
       " 'cv': None,\n",
       " 'verbose': 0,\n",
       " 'pre_dispatch': '2*n_jobs',\n",
       " 'error_score': nan,\n",
       " 'return_train_score': False,\n",
       " 'param_grid': {'criterion': ['gini', 'entropy'],\n",
       "  'max_depth': [2, 3, 4],\n",
       "  'min_samples_leaf': [2, 4, 6, 8, 10, 12, 14, 16, 18]},\n",
       " 'multimetric_': False,\n",
       " 'best_index_': 9,\n",
       " 'best_score_': 0.95,\n",
       " 'best_params_': {'criterion': 'gini', 'max_depth': 3, 'min_samples_leaf': 2},\n",
       " 'best_estimator_': DecisionTreeClassifier(max_depth=3, min_samples_leaf=2),\n",
       " 'refit_time_': 0.0002827644348144531,\n",
       " 'scorer_': <function sklearn.metrics._scorer._passthrough_scorer(estimator, *args, **kwargs)>,\n",
       " 'cv_results_': {'mean_fit_time': array([0.00045114, 0.00036221, 0.00036759, 0.00039697, 0.00036335,\n",
       "         0.00039229, 0.00036225, 0.00038815, 0.0004065 , 0.00041246,\n",
       "         0.00046477, 0.00039434, 0.00041013, 0.00038705, 0.00043502,\n",
       "         0.00038061, 0.00042062, 0.0003767 , 0.00042558, 0.00039201,\n",
       "         0.00042224, 0.00038424, 0.00041618, 0.00042272, 0.00038204,\n",
       "         0.0004076 , 0.00036016, 0.00039692, 0.00036702, 0.00040584,\n",
       "         0.00036492, 0.00036697, 0.00039883, 0.00036545, 0.00040026,\n",
       "         0.00037689, 0.00041523, 0.00037775, 0.00041008, 0.00037446,\n",
       "         0.0003787 , 0.00041313, 0.00037923, 0.00040164, 0.00036616,\n",
       "         0.00043325, 0.00042148, 0.00041318, 0.00037842, 0.00037355,\n",
       "         0.00042195, 0.00037632, 0.00040026, 0.00036893]),\n",
       "  'std_fit_time': array([8.82440467e-05, 2.43327156e-06, 1.29374981e-05, 4.66820899e-05,\n",
       "         7.99609139e-06, 5.04000410e-05, 8.66821232e-06, 5.89257680e-05,\n",
       "         5.47131940e-05, 3.91555610e-05, 3.22578135e-05, 5.40532305e-05,\n",
       "         6.19237632e-05, 2.20990231e-05, 5.80231866e-05, 1.31805588e-05,\n",
       "         6.10566474e-05, 2.08781722e-05, 4.30998545e-05, 2.73421104e-05,\n",
       "         5.22921030e-05, 2.25159052e-05, 5.33594629e-05, 4.94208993e-05,\n",
       "         2.32536229e-05, 4.79209719e-05, 3.85206517e-06, 5.62080384e-05,\n",
       "         1.82573220e-06, 4.99242812e-05, 1.64905705e-06, 6.89915975e-06,\n",
       "         5.32433903e-05, 8.64036299e-06, 5.66797538e-05, 2.14769489e-05,\n",
       "         6.54700370e-05, 3.01427472e-06, 5.77026160e-05, 4.66131188e-06,\n",
       "         1.00097195e-05, 5.54289919e-05, 8.70485790e-06, 5.46041219e-05,\n",
       "         5.14763326e-06, 6.79251812e-05, 4.75838091e-05, 6.97596629e-05,\n",
       "         5.80763386e-06, 4.42560373e-06, 6.03701830e-05, 1.02009723e-05,\n",
       "         5.61369999e-05, 7.52526994e-06]),\n",
       "  'mean_score_time': array([0.00022826, 0.00019193, 0.00019026, 0.00020332, 0.00018682,\n",
       "         0.00020285, 0.00019035, 0.00021257, 0.00021138, 0.00021133,\n",
       "         0.00023203, 0.00021148, 0.00019956, 0.00020604, 0.00020843,\n",
       "         0.00019054, 0.00020957, 0.00019746, 0.00022655, 0.00020056,\n",
       "         0.00022273, 0.00019894, 0.00022683, 0.00020418, 0.00019622,\n",
       "         0.00020857, 0.00019317, 0.0002027 , 0.00019183, 0.00020366,\n",
       "         0.00019207, 0.0001884 , 0.0002028 , 0.0001904 , 0.00020862,\n",
       "         0.0002099 , 0.00021319, 0.00019183, 0.00020452, 0.00019197,\n",
       "         0.00018897, 0.00020714, 0.00018945, 0.00020494, 0.00018716,\n",
       "         0.0002171 , 0.00020084, 0.00020437, 0.0001895 , 0.00019231,\n",
       "         0.00021777, 0.00018802, 0.00020761, 0.0001873 ]),\n",
       "  'std_score_time': array([4.29157681e-05, 9.07119249e-06, 3.48776313e-06, 3.06845360e-05,\n",
       "         1.88697423e-06, 2.89520664e-05, 3.61453889e-06, 3.35818641e-05,\n",
       "         2.85977495e-05, 3.13484077e-05, 2.60391512e-05, 4.43737906e-05,\n",
       "         1.39567556e-05, 2.29583103e-05, 2.93993988e-05, 4.08913928e-06,\n",
       "         3.13721165e-05, 2.01242229e-05, 3.83794377e-05, 1.14236092e-05,\n",
       "         3.10282889e-05, 1.42370832e-05, 2.89438977e-05, 2.25108555e-05,\n",
       "         7.03880131e-06, 2.87945690e-05, 7.89795506e-06, 2.98986404e-05,\n",
       "         8.29011261e-06, 2.88056218e-05, 8.16854202e-06, 1.20064529e-06,\n",
       "         2.97355285e-05, 4.03089604e-06, 4.00370038e-05, 4.44407627e-05,\n",
       "         2.98274506e-05, 7.08163384e-06, 3.04479849e-05, 8.59551058e-06,\n",
       "         1.57861188e-06, 2.94631348e-05, 2.44817689e-06, 2.93932883e-05,\n",
       "         8.92080638e-07, 3.54824523e-05, 2.28760608e-05, 2.90586771e-05,\n",
       "         8.17605410e-07, 8.17271625e-06, 3.56416558e-05, 8.34124359e-07,\n",
       "         3.27630505e-05, 9.72560790e-07]),\n",
       "  'param_criterion': masked_array(data=['gini', 'gini', 'gini', 'gini', 'gini', 'gini', 'gini',\n",
       "                     'gini', 'gini', 'gini', 'gini', 'gini', 'gini', 'gini',\n",
       "                     'gini', 'gini', 'gini', 'gini', 'gini', 'gini', 'gini',\n",
       "                     'gini', 'gini', 'gini', 'gini', 'gini', 'gini',\n",
       "                     'entropy', 'entropy', 'entropy', 'entropy', 'entropy',\n",
       "                     'entropy', 'entropy', 'entropy', 'entropy', 'entropy',\n",
       "                     'entropy', 'entropy', 'entropy', 'entropy', 'entropy',\n",
       "                     'entropy', 'entropy', 'entropy', 'entropy', 'entropy',\n",
       "                     'entropy', 'entropy', 'entropy', 'entropy', 'entropy',\n",
       "                     'entropy', 'entropy'],\n",
       "               mask=[False, False, False, False, False, False, False, False,\n",
       "                     False, False, False, False, False, False, False, False,\n",
       "                     False, False, False, False, False, False, False, False,\n",
       "                     False, False, False, False, False, False, False, False,\n",
       "                     False, False, False, False, False, False, False, False,\n",
       "                     False, False, False, False, False, False, False, False,\n",
       "                     False, False, False, False, False, False],\n",
       "         fill_value='?',\n",
       "              dtype=object),\n",
       "  'param_max_depth': masked_array(data=[2, 2, 2, 2, 2, 2, 2, 2, 2, 3, 3, 3, 3, 3, 3, 3, 3, 3,\n",
       "                     4, 4, 4, 4, 4, 4, 4, 4, 4, 2, 2, 2, 2, 2, 2, 2, 2, 2,\n",
       "                     3, 3, 3, 3, 3, 3, 3, 3, 3, 4, 4, 4, 4, 4, 4, 4, 4, 4],\n",
       "               mask=[False, False, False, False, False, False, False, False,\n",
       "                     False, False, False, False, False, False, False, False,\n",
       "                     False, False, False, False, False, False, False, False,\n",
       "                     False, False, False, False, False, False, False, False,\n",
       "                     False, False, False, False, False, False, False, False,\n",
       "                     False, False, False, False, False, False, False, False,\n",
       "                     False, False, False, False, False, False],\n",
       "         fill_value='?',\n",
       "              dtype=object),\n",
       "  'param_min_samples_leaf': masked_array(data=[2, 4, 6, 8, 10, 12, 14, 16, 18, 2, 4, 6, 8, 10, 12, 14,\n",
       "                     16, 18, 2, 4, 6, 8, 10, 12, 14, 16, 18, 2, 4, 6, 8, 10,\n",
       "                     12, 14, 16, 18, 2, 4, 6, 8, 10, 12, 14, 16, 18, 2, 4,\n",
       "                     6, 8, 10, 12, 14, 16, 18],\n",
       "               mask=[False, False, False, False, False, False, False, False,\n",
       "                     False, False, False, False, False, False, False, False,\n",
       "                     False, False, False, False, False, False, False, False,\n",
       "                     False, False, False, False, False, False, False, False,\n",
       "                     False, False, False, False, False, False, False, False,\n",
       "                     False, False, False, False, False, False, False, False,\n",
       "                     False, False, False, False, False, False],\n",
       "         fill_value='?',\n",
       "              dtype=object),\n",
       "  'params': [{'criterion': 'gini', 'max_depth': 2, 'min_samples_leaf': 2},\n",
       "   {'criterion': 'gini', 'max_depth': 2, 'min_samples_leaf': 4},\n",
       "   {'criterion': 'gini', 'max_depth': 2, 'min_samples_leaf': 6},\n",
       "   {'criterion': 'gini', 'max_depth': 2, 'min_samples_leaf': 8},\n",
       "   {'criterion': 'gini', 'max_depth': 2, 'min_samples_leaf': 10},\n",
       "   {'criterion': 'gini', 'max_depth': 2, 'min_samples_leaf': 12},\n",
       "   {'criterion': 'gini', 'max_depth': 2, 'min_samples_leaf': 14},\n",
       "   {'criterion': 'gini', 'max_depth': 2, 'min_samples_leaf': 16},\n",
       "   {'criterion': 'gini', 'max_depth': 2, 'min_samples_leaf': 18},\n",
       "   {'criterion': 'gini', 'max_depth': 3, 'min_samples_leaf': 2},\n",
       "   {'criterion': 'gini', 'max_depth': 3, 'min_samples_leaf': 4},\n",
       "   {'criterion': 'gini', 'max_depth': 3, 'min_samples_leaf': 6},\n",
       "   {'criterion': 'gini', 'max_depth': 3, 'min_samples_leaf': 8},\n",
       "   {'criterion': 'gini', 'max_depth': 3, 'min_samples_leaf': 10},\n",
       "   {'criterion': 'gini', 'max_depth': 3, 'min_samples_leaf': 12},\n",
       "   {'criterion': 'gini', 'max_depth': 3, 'min_samples_leaf': 14},\n",
       "   {'criterion': 'gini', 'max_depth': 3, 'min_samples_leaf': 16},\n",
       "   {'criterion': 'gini', 'max_depth': 3, 'min_samples_leaf': 18},\n",
       "   {'criterion': 'gini', 'max_depth': 4, 'min_samples_leaf': 2},\n",
       "   {'criterion': 'gini', 'max_depth': 4, 'min_samples_leaf': 4},\n",
       "   {'criterion': 'gini', 'max_depth': 4, 'min_samples_leaf': 6},\n",
       "   {'criterion': 'gini', 'max_depth': 4, 'min_samples_leaf': 8},\n",
       "   {'criterion': 'gini', 'max_depth': 4, 'min_samples_leaf': 10},\n",
       "   {'criterion': 'gini', 'max_depth': 4, 'min_samples_leaf': 12},\n",
       "   {'criterion': 'gini', 'max_depth': 4, 'min_samples_leaf': 14},\n",
       "   {'criterion': 'gini', 'max_depth': 4, 'min_samples_leaf': 16},\n",
       "   {'criterion': 'gini', 'max_depth': 4, 'min_samples_leaf': 18},\n",
       "   {'criterion': 'entropy', 'max_depth': 2, 'min_samples_leaf': 2},\n",
       "   {'criterion': 'entropy', 'max_depth': 2, 'min_samples_leaf': 4},\n",
       "   {'criterion': 'entropy', 'max_depth': 2, 'min_samples_leaf': 6},\n",
       "   {'criterion': 'entropy', 'max_depth': 2, 'min_samples_leaf': 8},\n",
       "   {'criterion': 'entropy', 'max_depth': 2, 'min_samples_leaf': 10},\n",
       "   {'criterion': 'entropy', 'max_depth': 2, 'min_samples_leaf': 12},\n",
       "   {'criterion': 'entropy', 'max_depth': 2, 'min_samples_leaf': 14},\n",
       "   {'criterion': 'entropy', 'max_depth': 2, 'min_samples_leaf': 16},\n",
       "   {'criterion': 'entropy', 'max_depth': 2, 'min_samples_leaf': 18},\n",
       "   {'criterion': 'entropy', 'max_depth': 3, 'min_samples_leaf': 2},\n",
       "   {'criterion': 'entropy', 'max_depth': 3, 'min_samples_leaf': 4},\n",
       "   {'criterion': 'entropy', 'max_depth': 3, 'min_samples_leaf': 6},\n",
       "   {'criterion': 'entropy', 'max_depth': 3, 'min_samples_leaf': 8},\n",
       "   {'criterion': 'entropy', 'max_depth': 3, 'min_samples_leaf': 10},\n",
       "   {'criterion': 'entropy', 'max_depth': 3, 'min_samples_leaf': 12},\n",
       "   {'criterion': 'entropy', 'max_depth': 3, 'min_samples_leaf': 14},\n",
       "   {'criterion': 'entropy', 'max_depth': 3, 'min_samples_leaf': 16},\n",
       "   {'criterion': 'entropy', 'max_depth': 3, 'min_samples_leaf': 18},\n",
       "   {'criterion': 'entropy', 'max_depth': 4, 'min_samples_leaf': 2},\n",
       "   {'criterion': 'entropy', 'max_depth': 4, 'min_samples_leaf': 4},\n",
       "   {'criterion': 'entropy', 'max_depth': 4, 'min_samples_leaf': 6},\n",
       "   {'criterion': 'entropy', 'max_depth': 4, 'min_samples_leaf': 8},\n",
       "   {'criterion': 'entropy', 'max_depth': 4, 'min_samples_leaf': 10},\n",
       "   {'criterion': 'entropy', 'max_depth': 4, 'min_samples_leaf': 12},\n",
       "   {'criterion': 'entropy', 'max_depth': 4, 'min_samples_leaf': 14},\n",
       "   {'criterion': 'entropy', 'max_depth': 4, 'min_samples_leaf': 16},\n",
       "   {'criterion': 'entropy', 'max_depth': 4, 'min_samples_leaf': 18}],\n",
       "  'split0_test_score': array([0.91666667, 0.91666667, 0.91666667, 0.91666667, 0.91666667,\n",
       "         0.91666667, 0.91666667, 0.91666667, 0.91666667, 0.91666667,\n",
       "         0.91666667, 0.91666667, 0.91666667, 0.91666667, 0.91666667,\n",
       "         0.91666667, 0.91666667, 0.91666667, 0.91666667, 0.91666667,\n",
       "         0.91666667, 0.91666667, 0.91666667, 0.91666667, 0.91666667,\n",
       "         0.91666667, 0.91666667, 0.91666667, 0.91666667, 0.91666667,\n",
       "         0.91666667, 0.91666667, 0.91666667, 0.91666667, 0.91666667,\n",
       "         0.91666667, 0.91666667, 0.91666667, 0.91666667, 0.91666667,\n",
       "         0.91666667, 0.91666667, 0.91666667, 0.91666667, 0.91666667,\n",
       "         0.91666667, 0.91666667, 0.91666667, 0.91666667, 0.91666667,\n",
       "         0.91666667, 0.91666667, 0.91666667, 0.91666667]),\n",
       "  'split1_test_score': array([1., 1., 1., 1., 1., 1., 1., 1., 1., 1., 1., 1., 1., 1., 1., 1., 1.,\n",
       "         1., 1., 1., 1., 1., 1., 1., 1., 1., 1., 1., 1., 1., 1., 1., 1., 1.,\n",
       "         1., 1., 1., 1., 1., 1., 1., 1., 1., 1., 1., 1., 1., 1., 1., 1., 1.,\n",
       "         1., 1., 1.]),\n",
       "  'split2_test_score': array([0.91666667, 0.91666667, 0.91666667, 0.91666667, 0.91666667,\n",
       "         0.91666667, 0.91666667, 0.91666667, 0.91666667, 0.91666667,\n",
       "         0.91666667, 0.91666667, 0.91666667, 0.91666667, 0.91666667,\n",
       "         0.91666667, 0.91666667, 0.91666667, 0.91666667, 0.91666667,\n",
       "         0.91666667, 0.91666667, 0.91666667, 0.91666667, 0.91666667,\n",
       "         0.91666667, 0.91666667, 0.91666667, 0.91666667, 0.91666667,\n",
       "         0.91666667, 0.91666667, 0.91666667, 0.91666667, 0.91666667,\n",
       "         0.91666667, 0.91666667, 0.91666667, 0.91666667, 0.91666667,\n",
       "         0.91666667, 0.91666667, 0.91666667, 0.91666667, 0.91666667,\n",
       "         0.91666667, 0.91666667, 0.91666667, 0.91666667, 0.91666667,\n",
       "         0.91666667, 0.91666667, 0.91666667, 0.91666667]),\n",
       "  'split3_test_score': array([0.875     , 0.875     , 0.875     , 0.875     , 0.875     ,\n",
       "         0.875     , 0.875     , 0.875     , 0.875     , 0.91666667,\n",
       "         0.91666667, 0.875     , 0.875     , 0.875     , 0.875     ,\n",
       "         0.875     , 0.875     , 0.875     , 0.875     , 0.91666667,\n",
       "         0.875     , 0.875     , 0.875     , 0.875     , 0.875     ,\n",
       "         0.875     , 0.875     , 0.875     , 0.875     , 0.875     ,\n",
       "         0.875     , 0.875     , 0.875     , 0.875     , 0.875     ,\n",
       "         0.875     , 0.91666667, 0.91666667, 0.875     , 0.875     ,\n",
       "         0.875     , 0.875     , 0.875     , 0.875     , 0.875     ,\n",
       "         0.875     , 0.91666667, 0.875     , 0.875     , 0.875     ,\n",
       "         0.875     , 0.875     , 0.875     , 0.875     ]),\n",
       "  'split4_test_score': array([1., 1., 1., 1., 1., 1., 1., 1., 1., 1., 1., 1., 1., 1., 1., 1., 1.,\n",
       "         1., 1., 1., 1., 1., 1., 1., 1., 1., 1., 1., 1., 1., 1., 1., 1., 1.,\n",
       "         1., 1., 1., 1., 1., 1., 1., 1., 1., 1., 1., 1., 1., 1., 1., 1., 1.,\n",
       "         1., 1., 1.]),\n",
       "  'mean_test_score': array([0.94166667, 0.94166667, 0.94166667, 0.94166667, 0.94166667,\n",
       "         0.94166667, 0.94166667, 0.94166667, 0.94166667, 0.95      ,\n",
       "         0.95      , 0.94166667, 0.94166667, 0.94166667, 0.94166667,\n",
       "         0.94166667, 0.94166667, 0.94166667, 0.94166667, 0.95      ,\n",
       "         0.94166667, 0.94166667, 0.94166667, 0.94166667, 0.94166667,\n",
       "         0.94166667, 0.94166667, 0.94166667, 0.94166667, 0.94166667,\n",
       "         0.94166667, 0.94166667, 0.94166667, 0.94166667, 0.94166667,\n",
       "         0.94166667, 0.95      , 0.95      , 0.94166667, 0.94166667,\n",
       "         0.94166667, 0.94166667, 0.94166667, 0.94166667, 0.94166667,\n",
       "         0.94166667, 0.95      , 0.94166667, 0.94166667, 0.94166667,\n",
       "         0.94166667, 0.94166667, 0.94166667, 0.94166667]),\n",
       "  'std_test_score': array([0.05      , 0.05      , 0.05      , 0.05      , 0.05      ,\n",
       "         0.05      , 0.05      , 0.05      , 0.05      , 0.04082483,\n",
       "         0.04082483, 0.05      , 0.05      , 0.05      , 0.05      ,\n",
       "         0.05      , 0.05      , 0.05      , 0.05      , 0.04082483,\n",
       "         0.05      , 0.05      , 0.05      , 0.05      , 0.05      ,\n",
       "         0.05      , 0.05      , 0.05      , 0.05      , 0.05      ,\n",
       "         0.05      , 0.05      , 0.05      , 0.05      , 0.05      ,\n",
       "         0.05      , 0.04082483, 0.04082483, 0.05      , 0.05      ,\n",
       "         0.05      , 0.05      , 0.05      , 0.05      , 0.05      ,\n",
       "         0.05      , 0.04082483, 0.05      , 0.05      , 0.05      ,\n",
       "         0.05      , 0.05      , 0.05      , 0.05      ]),\n",
       "  'rank_test_score': array([7, 7, 7, 7, 7, 7, 7, 7, 7, 1, 1, 7, 7, 7, 7, 7, 7, 7, 7, 1, 7, 7,\n",
       "         7, 7, 7, 7, 7, 7, 7, 7, 7, 7, 7, 7, 7, 7, 1, 1, 7, 7, 7, 7, 7, 7,\n",
       "         7, 7, 1, 7, 7, 7, 7, 7, 7, 7], dtype=int32)},\n",
       " 'n_splits_': 5}"
      ]
     },
     "execution_count": 17,
     "metadata": {},
     "output_type": "execute_result"
    }
   ],
   "source": [
    "dt_opt.__dict__"
   ]
  },
  {
   "cell_type": "markdown",
   "id": "d1297659",
   "metadata": {},
   "source": [
    "This doesn't have attributes yet, even though they are the same type, because we have not fit it tot data yet."
   ]
  },
  {
   "cell_type": "code",
   "execution_count": 18,
   "id": "3bf8809b",
   "metadata": {},
   "outputs": [
    {
     "data": {
      "text/plain": [
       "(sklearn.model_selection._search.GridSearchCV,\n",
       " sklearn.model_selection._search.GridSearchCV)"
      ]
     },
     "execution_count": 18,
     "metadata": {},
     "output_type": "execute_result"
    }
   ],
   "source": [
    "type(svm_opt), type(dt_opt)"
   ]
  },
  {
   "cell_type": "markdown",
   "id": "950f7c76",
   "metadata": {},
   "source": [
    "Now we can fit the model to the training data of this second model."
   ]
  },
  {
   "cell_type": "code",
   "execution_count": 19,
   "id": "f6332770",
   "metadata": {},
   "outputs": [],
   "source": [
    "# fit the model and  put the CV results in a dataframe\n",
    "svm_opt.fit(iris_X_train,iris_y_train)\n",
    "sv_df = pd.DataFrame(svm_opt.cv_results_)"
   ]
  },
  {
   "cell_type": "code",
   "execution_count": 20,
   "id": "d742bb43",
   "metadata": {},
   "outputs": [
    {
     "data": {
      "text/html": [
       "<div>\n",
       "<style scoped>\n",
       "    .dataframe tbody tr th:only-of-type {\n",
       "        vertical-align: middle;\n",
       "    }\n",
       "\n",
       "    .dataframe tbody tr th {\n",
       "        vertical-align: top;\n",
       "    }\n",
       "\n",
       "    .dataframe thead th {\n",
       "        text-align: right;\n",
       "    }\n",
       "</style>\n",
       "<table border=\"1\" class=\"dataframe\">\n",
       "  <thead>\n",
       "    <tr style=\"text-align: right;\">\n",
       "      <th></th>\n",
       "      <th>mean_fit_time</th>\n",
       "      <th>std_fit_time</th>\n",
       "      <th>mean_score_time</th>\n",
       "      <th>std_score_time</th>\n",
       "      <th>param_C</th>\n",
       "      <th>param_kernel</th>\n",
       "      <th>params</th>\n",
       "      <th>split0_test_score</th>\n",
       "      <th>split1_test_score</th>\n",
       "      <th>split2_test_score</th>\n",
       "      <th>split3_test_score</th>\n",
       "      <th>split4_test_score</th>\n",
       "      <th>split5_test_score</th>\n",
       "      <th>split6_test_score</th>\n",
       "      <th>split7_test_score</th>\n",
       "      <th>split8_test_score</th>\n",
       "      <th>split9_test_score</th>\n",
       "      <th>mean_test_score</th>\n",
       "      <th>std_test_score</th>\n",
       "      <th>rank_test_score</th>\n",
       "    </tr>\n",
       "  </thead>\n",
       "  <tbody>\n",
       "    <tr>\n",
       "      <th>0</th>\n",
       "      <td>0.000627</td>\n",
       "      <td>0.000279</td>\n",
       "      <td>0.000261</td>\n",
       "      <td>0.000047</td>\n",
       "      <td>0.5</td>\n",
       "      <td>linear</td>\n",
       "      <td>{'C': 0.5, 'kernel': 'linear'}</td>\n",
       "      <td>1.0</td>\n",
       "      <td>1.0</td>\n",
       "      <td>1.0</td>\n",
       "      <td>1.000000</td>\n",
       "      <td>0.916667</td>\n",
       "      <td>0.916667</td>\n",
       "      <td>0.750000</td>\n",
       "      <td>1.0</td>\n",
       "      <td>1.0</td>\n",
       "      <td>1.0</td>\n",
       "      <td>0.958333</td>\n",
       "      <td>0.076830</td>\n",
       "      <td>4</td>\n",
       "    </tr>\n",
       "    <tr>\n",
       "      <th>1</th>\n",
       "      <td>0.000637</td>\n",
       "      <td>0.000072</td>\n",
       "      <td>0.000281</td>\n",
       "      <td>0.000041</td>\n",
       "      <td>0.5</td>\n",
       "      <td>rbf</td>\n",
       "      <td>{'C': 0.5, 'kernel': 'rbf'}</td>\n",
       "      <td>1.0</td>\n",
       "      <td>1.0</td>\n",
       "      <td>1.0</td>\n",
       "      <td>0.916667</td>\n",
       "      <td>0.916667</td>\n",
       "      <td>0.916667</td>\n",
       "      <td>0.833333</td>\n",
       "      <td>1.0</td>\n",
       "      <td>1.0</td>\n",
       "      <td>1.0</td>\n",
       "      <td>0.958333</td>\n",
       "      <td>0.055902</td>\n",
       "      <td>2</td>\n",
       "    </tr>\n",
       "  </tbody>\n",
       "</table>\n",
       "</div>"
      ],
      "text/plain": [
       "   mean_fit_time  std_fit_time  mean_score_time  std_score_time param_C  \\\n",
       "0       0.000627      0.000279         0.000261        0.000047     0.5   \n",
       "1       0.000637      0.000072         0.000281        0.000041     0.5   \n",
       "\n",
       "  param_kernel                          params  split0_test_score  \\\n",
       "0       linear  {'C': 0.5, 'kernel': 'linear'}                1.0   \n",
       "1          rbf     {'C': 0.5, 'kernel': 'rbf'}                1.0   \n",
       "\n",
       "   split1_test_score  split2_test_score  split3_test_score  split4_test_score  \\\n",
       "0                1.0                1.0           1.000000           0.916667   \n",
       "1                1.0                1.0           0.916667           0.916667   \n",
       "\n",
       "   split5_test_score  split6_test_score  split7_test_score  split8_test_score  \\\n",
       "0           0.916667           0.750000                1.0                1.0   \n",
       "1           0.916667           0.833333                1.0                1.0   \n",
       "\n",
       "   split9_test_score  mean_test_score  std_test_score  rank_test_score  \n",
       "0                1.0         0.958333        0.076830                4  \n",
       "1                1.0         0.958333        0.055902                2  "
      ]
     },
     "execution_count": 20,
     "metadata": {},
     "output_type": "execute_result"
    }
   ],
   "source": [
    "sv_df.head(2)"
   ]
  },
  {
   "cell_type": "code",
   "execution_count": 21,
   "id": "605d0bb0",
   "metadata": {},
   "outputs": [
    {
     "data": {
      "text/plain": [
       "<ErrorbarContainer object of 3 artists>"
      ]
     },
     "execution_count": 21,
     "metadata": {},
     "output_type": "execute_result"
    },
    {
     "data": {
      "image/png": "[encoded data removed]",
      "text/plain": [
       "<Figure size 432x288 with 1 Axes>"
      ]
     },
     "metadata": {
      "filenames": {
       "image/png": "/home/runner/work/BrownFall21/BrownFall21/_build/jupyter_execute/notes/2021-11-15_35_1.png"
      }
     },
     "output_type": "display_data"
    }
   ],
   "source": [
    "plt.errorbar(x=sv_df['mean_fit_time'],xerr=sv_df['std_fit_time'],\n",
    "            y=sv_df['mean_score_time'],yerr=sv_df['std_score_time'])"
   ]
  },
  {
   "cell_type": "code",
   "execution_count": 22,
   "id": "08e7df56",
   "metadata": {},
   "outputs": [
    {
     "data": {
      "text/plain": [
       "Index(['mean_fit_time', 'std_fit_time', 'mean_score_time', 'std_score_time',\n",
       "       'param_C', 'param_kernel', 'params', 'split0_test_score',\n",
       "       'split1_test_score', 'split2_test_score', 'split3_test_score',\n",
       "       'split4_test_score', 'split5_test_score', 'split6_test_score',\n",
       "       'split7_test_score', 'split8_test_score', 'split9_test_score',\n",
       "       'mean_test_score', 'std_test_score', 'rank_test_score'],\n",
       "      dtype='object')"
      ]
     },
     "execution_count": 22,
     "metadata": {},
     "output_type": "execute_result"
    }
   ],
   "source": [
    "sv_df.columns"
   ]
  },
  {
   "cell_type": "markdown",
   "id": "136add7c",
   "metadata": {},
   "source": [
    "We can see if the models that take longer to fit or score perform better."
   ]
  },
  {
   "cell_type": "code",
   "execution_count": 23,
   "id": "7f5a2fd1",
   "metadata": {},
   "outputs": [
    {
     "data": {
      "text/plain": [
       "<seaborn.axisgrid.FacetGrid at 0x7fc485e5a290>"
      ]
     },
     "execution_count": 23,
     "metadata": {},
     "output_type": "execute_result"
    },
    {
     "data": {
      "image/png": "[encoded data removed]",
      "text/plain": [
       "<Figure size 451.3x360 with 1 Axes>"
      ]
     },
     "metadata": {
      "filenames": {
       "image/png": "/home/runner/work/BrownFall21/BrownFall21/_build/jupyter_execute/notes/2021-11-15_38_1.png"
      }
     },
     "output_type": "display_data"
    }
   ],
   "source": [
    "svm_time = sv_df.melt(id_vars=['param_C', 'param_kernel', 'params',],\n",
    "                      value_vars=['mean_fit_time', 'std_fit_time', 'mean_score_time', 'std_score_time'])\n",
    "sns.lmplot(data=sv_df, x='mean_fit_time',y='mean_test_score',\n",
    "          hue='param_kernel',fit_reg=False)"
   ]
  },
  {
   "cell_type": "markdown",
   "id": "de4e4df2",
   "metadata": {},
   "source": [
    "This looks like mostly no."
   ]
  },
  {
   "cell_type": "code",
   "execution_count": 24,
   "id": "e0011412",
   "metadata": {},
   "outputs": [
    {
     "data": {
      "text/plain": [
       "<seaborn.axisgrid.FacetGrid at 0x7fc486268dd0>"
      ]
     },
     "execution_count": 24,
     "metadata": {},
     "output_type": "execute_result"
    },
    {
     "data": {
      "image/png": "[encoded data removed]",
      "text/plain": [
       "<Figure size 451.3x360 with 1 Axes>"
      ]
     },
     "metadata": {
      "filenames": {
       "image/png": "/home/runner/work/BrownFall21/BrownFall21/_build/jupyter_execute/notes/2021-11-15_40_1.png"
      }
     },
     "output_type": "display_data"
    }
   ],
   "source": [
    "sns.lmplot(data=sv_df, x='mean_score_time',y='mean_test_score',\n",
    "          hue='param_kernel',fit_reg=False)"
   ]
  },
  {
   "cell_type": "markdown",
   "id": "9477eb77",
   "metadata": {},
   "source": [
    "Again, for score time, the slower models don't appear to be better.  Remember though the time differences weren't that different. \n",
    "\n",
    "```{admonition} Try it yourself\n",
    "Try this same analysis for the decision tree, does it matter there?\n",
    "```"
   ]
  },
  {
   "cell_type": "code",
   "execution_count": 25,
   "id": "90dd3141",
   "metadata": {},
   "outputs": [
    {
     "data": {
      "text/html": [
       "<div>\n",
       "<style scoped>\n",
       "    .dataframe tbody tr th:only-of-type {\n",
       "        vertical-align: middle;\n",
       "    }\n",
       "\n",
       "    .dataframe tbody tr th {\n",
       "        vertical-align: top;\n",
       "    }\n",
       "\n",
       "    .dataframe thead th {\n",
       "        text-align: right;\n",
       "    }\n",
       "</style>\n",
       "<table border=\"1\" class=\"dataframe\">\n",
       "  <thead>\n",
       "    <tr style=\"text-align: right;\">\n",
       "      <th></th>\n",
       "      <th>param_C</th>\n",
       "      <th>param_kernel</th>\n",
       "      <th>params</th>\n",
       "      <th>variable</th>\n",
       "      <th>score</th>\n",
       "    </tr>\n",
       "  </thead>\n",
       "  <tbody>\n",
       "    <tr>\n",
       "      <th>0</th>\n",
       "      <td>0.5</td>\n",
       "      <td>linear</td>\n",
       "      <td>{'C': 0.5, 'kernel': 'linear'}</td>\n",
       "      <td>split0_test_score</td>\n",
       "      <td>1.0</td>\n",
       "    </tr>\n",
       "    <tr>\n",
       "      <th>1</th>\n",
       "      <td>0.5</td>\n",
       "      <td>rbf</td>\n",
       "      <td>{'C': 0.5, 'kernel': 'rbf'}</td>\n",
       "      <td>split0_test_score</td>\n",
       "      <td>1.0</td>\n",
       "    </tr>\n",
       "    <tr>\n",
       "      <th>2</th>\n",
       "      <td>0.75</td>\n",
       "      <td>linear</td>\n",
       "      <td>{'C': 0.75, 'kernel': 'linear'}</td>\n",
       "      <td>split0_test_score</td>\n",
       "      <td>1.0</td>\n",
       "    </tr>\n",
       "    <tr>\n",
       "      <th>3</th>\n",
       "      <td>0.75</td>\n",
       "      <td>rbf</td>\n",
       "      <td>{'C': 0.75, 'kernel': 'rbf'}</td>\n",
       "      <td>split0_test_score</td>\n",
       "      <td>1.0</td>\n",
       "    </tr>\n",
       "    <tr>\n",
       "      <th>4</th>\n",
       "      <td>1</td>\n",
       "      <td>linear</td>\n",
       "      <td>{'C': 1, 'kernel': 'linear'}</td>\n",
       "      <td>split0_test_score</td>\n",
       "      <td>1.0</td>\n",
       "    </tr>\n",
       "  </tbody>\n",
       "</table>\n",
       "</div>"
      ],
      "text/plain": [
       "  param_C param_kernel                           params           variable  \\\n",
       "0     0.5       linear   {'C': 0.5, 'kernel': 'linear'}  split0_test_score   \n",
       "1     0.5          rbf      {'C': 0.5, 'kernel': 'rbf'}  split0_test_score   \n",
       "2    0.75       linear  {'C': 0.75, 'kernel': 'linear'}  split0_test_score   \n",
       "3    0.75          rbf     {'C': 0.75, 'kernel': 'rbf'}  split0_test_score   \n",
       "4       1       linear     {'C': 1, 'kernel': 'linear'}  split0_test_score   \n",
       "\n",
       "   score  \n",
       "0    1.0  \n",
       "1    1.0  \n",
       "2    1.0  \n",
       "3    1.0  \n",
       "4    1.0  "
      ]
     },
     "execution_count": 25,
     "metadata": {},
     "output_type": "execute_result"
    }
   ],
   "source": [
    "sv_df_scores = sv_df.melt(id_vars=['param_C', 'param_kernel', 'params',],\n",
    "                    value_vars=['split0_test_score',\n",
    "       'split1_test_score', 'split2_test_score', 'split3_test_score',\n",
    "       'split4_test_score'], value_name='score')\n",
    "sv_df_scores.head()"
   ]
  },
  {
   "cell_type": "code",
   "execution_count": 26,
   "id": "f1f00851",
   "metadata": {},
   "outputs": [
    {
     "data": {
      "text/plain": [
       "<seaborn.axisgrid.FacetGrid at 0x7fc4883bcf90>"
      ]
     },
     "execution_count": 26,
     "metadata": {},
     "output_type": "execute_result"
    },
    {
     "data": {
      "image/png": "[encoded data removed]",
      "text/plain": [
       "<Figure size 720x360 with 2 Axes>"
      ]
     },
     "metadata": {
      "filenames": {
       "image/png": "/home/runner/work/BrownFall21/BrownFall21/_build/jupyter_execute/notes/2021-11-15_43_1.png"
      }
     },
     "output_type": "display_data"
    }
   ],
   "source": [
    "sns.catplot(data=sv_df_scores,x='param_C',y='score',\n",
    "            col='param_kernel')"
   ]
  },
  {
   "cell_type": "markdown",
   "id": "326c8983",
   "metadata": {},
   "source": [
    "```{admonition} Try it yourself\n",
    "Try interpretting the plot above, what does it say? what can you conclude from it. \n",
    "```"
   ]
  },
  {
   "cell_type": "code",
   "execution_count": 27,
   "id": "3a54fc9a",
   "metadata": {},
   "outputs": [
    {
     "data": {
      "text/plain": [
       "<AxesSubplot:>"
      ]
     },
     "execution_count": 27,
     "metadata": {},
     "output_type": "execute_result"
    },
    {
     "data": {
      "image/png": "[encoded data removed]",
      "text/plain": [
       "<Figure size 432x288 with 1 Axes>"
      ]
     },
     "metadata": {
      "filenames": {
       "image/png": "/home/runner/work/BrownFall21/BrownFall21/_build/jupyter_execute/notes/2021-11-15_45_1.png"
      }
     },
     "output_type": "display_data"
    }
   ],
   "source": [
    "dt_df['mean_test_score'].plot(kind='bar')"
   ]
  },
  {
   "cell_type": "code",
   "execution_count": 28,
   "id": "62065835",
   "metadata": {},
   "outputs": [
    {
     "data": {
      "text/plain": [
       "<AxesSubplot:>"
      ]
     },
     "execution_count": 28,
     "metadata": {},
     "output_type": "execute_result"
    },
    {
     "data": {
      "image/png": "[encoded data removed]",
      "text/plain": [
       "<Figure size 432x288 with 1 Axes>"
      ]
     },
     "metadata": {
      "filenames": {
       "image/png": "/home/runner/work/BrownFall21/BrownFall21/_build/jupyter_execute/notes/2021-11-15_46_1.png"
      }
     },
     "output_type": "display_data"
    }
   ],
   "source": [
    "sv_df['mean_test_score'].plot(kind='bar')"
   ]
  },
  {
   "cell_type": "markdown",
   "id": "a0211481",
   "metadata": {},
   "source": [
    "From these last two plots we see that the SVM performance is more sensitive to its parameters, where for the parameters tested, the decision tree is not impacted. \n",
    "\n",
    "What can we say based on this?  We'll pick up from here on Wednesday."
   ]
  }
 ],
 "metadata": {
  "jupytext": {
   "text_representation": {
    "extension": ".md",
    "format_name": "myst",
    "format_version": 0.13,
    "jupytext_version": "1.10.3"
   }
  },
  "kernelspec": {
   "display_name": "Python 3",
   "language": "python",
   "name": "python3"
  },
  "language_info": {
   "codemirror_mode": {
    "name": "ipython",
    "version": 3
   },
   "file_extension": ".py",
   "mimetype": "text/x-python",
   "name": "python",
   "nbconvert_exporter": "python",
   "pygments_lexer": "ipython3",
   "version": "3.7.12"
  },
  "source_map": [
   12,
   16,
   20,
   32,
   36,
   38,
   42,
   45,
   49,
   53,
   59,
   61,
   65,
   67,
   71,
   73,
   77,
   80,
   88,
   96,
   104,
   112,
   116,
   120,
   122,
   126,
   130,
   134,
   140,
   144,
   146,
   150,
   152,
   156,
   162,
   166,
   171,
   173,
   177,
   182,
   186,
   189,
   197,
   206,
   209,
   215,
   219,
   221
  ]
 },
 "nbformat": 4,
 "nbformat_minor": 5
}