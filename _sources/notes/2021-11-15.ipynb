{
 "cells": [
  {
   "cell_type": "markdown",
   "id": "54b9d0c9",
   "metadata": {},
   "source": [
    "# Model Comparison"
   ]
  },
  {
   "cell_type": "markdown",
   "id": "4607d7e6",
   "metadata": {},
   "source": [
    "To compare models, we will first optimize the parameters of two diffrent models and look at how the different parameters settings impact the model comparison.  Later, we'll see how to compare across models of different classes."
   ]
  },
  {
   "cell_type": "code",
   "execution_count": 1,
   "id": "30ab57d0",
   "metadata": {},
   "outputs": [],
   "source": [
    "import matplotlib.pyplot as plt\n",
    "import numpy as np\n",
    "import seaborn as sns\n",
    "import pandas as pd\n",
    "from sklearn import datasets\n",
    "from sklearn import cluster\n",
    "from sklearn import svm\n",
    "from sklearn import tree\n",
    "# import the whole model selection module\n",
    "from sklearn import model_selection\n",
    "sns.set_theme(palette='colorblind')"
   ]
  },
  {
   "cell_type": "markdown",
   "id": "04439dbb",
   "metadata": {},
   "source": [
    "We'll use the iris data again."
   ]
  },
  {
   "cell_type": "code",
   "execution_count": 2,
   "id": "a0ed3593",
   "metadata": {},
   "outputs": [],
   "source": [
    "iris_X, iris_y = datasets.load_iris(return_X_y=True)"
   ]
  },
  {
   "cell_type": "markdown",
   "id": "7942f2e2",
   "metadata": {},
   "source": [
    "Remember, we need to split the data into training and test.  The cross validation step will hep us optimize the parameters, but we don't want *data leakage* where the model has seen the test data multiple times. So, we split the data here for train and test annd the cross validation splits the training data into train and \"test\" again, but this test is better termed validation."
   ]
  },
  {
   "cell_type": "code",
   "execution_count": 3,
   "id": "7804c208",
   "metadata": {},
   "outputs": [],
   "source": [
    "iris_X_train, iris_X_test, iris_y_train, iris_y_test = model_selection.train_test_split(\n",
    "    iris_X,iris_y, test_size =.2)"
   ]
  },
  {
   "cell_type": "markdown",
   "id": "7cbde0ac",
   "metadata": {},
   "source": [
    "Then we can make the object, the parameter grid dictionary and the Grid Search object.  We split these into separate cells, so that we can use the built in help to see more detail."
   ]
  },
  {
   "cell_type": "code",
   "execution_count": 4,
   "id": "80f099a0",
   "metadata": {},
   "outputs": [],
   "source": [
    "dt = tree.DecisionTreeClassifier()"
   ]
  },
  {
   "cell_type": "code",
   "execution_count": 5,
   "id": "0002669b",
   "metadata": {},
   "outputs": [],
   "source": [
    "params_dt = {'criterion':['gini','entropy'],\n",
    "             'max_depth':[2,3,4],\n",
    "       'min_samples_leaf':list(range(2,20,2))}"
   ]
  },
  {
   "cell_type": "code",
   "execution_count": 6,
   "id": "c0b8218b",
   "metadata": {},
   "outputs": [],
   "source": [
    "dt_opt = model_selection.GridSearchCV(dt,params_dt)"
   ]
  },
  {
   "cell_type": "markdown",
   "id": "f50b0daf",
   "metadata": {},
   "source": [
    "Then we fit the Grid search using the training data, and remember this actually resets the parameters and then cross validates multiple times."
   ]
  },
  {
   "cell_type": "code",
   "execution_count": 7,
   "id": "fbfc8769",
   "metadata": {},
   "outputs": [
    {
     "data": {
      "text/plain": [
       "GridSearchCV(estimator=DecisionTreeClassifier(),\n",
       "             param_grid={'criterion': ['gini', 'entropy'],\n",
       "                         'max_depth': [2, 3, 4],\n",
       "                         'min_samples_leaf': [2, 4, 6, 8, 10, 12, 14, 16, 18]})"
      ]
     },
     "execution_count": 7,
     "metadata": {},
     "output_type": "execute_result"
    }
   ],
   "source": [
    "dt_opt.fit(iris_X_train,iris_y_train)"
   ]
  },
  {
   "cell_type": "markdown",
   "id": "29f4a7f8",
   "metadata": {},
   "source": [
    "adn look at the results"
   ]
  },
  {
   "cell_type": "code",
   "execution_count": 8,
   "id": "4a5af2ef",
   "metadata": {},
   "outputs": [
    {
     "data": {
      "text/plain": [
       "{'mean_fit_time': array([0.00064902, 0.00062847, 0.00062461, 0.00057406, 0.00049996,\n",
       "        0.00055218, 0.0005187 , 0.00057683, 0.0005527 , 0.00058465,\n",
       "        0.00056386, 0.00059395, 0.00069261, 0.00058694, 0.00059581,\n",
       "        0.00103569, 0.00056438, 0.0005702 , 0.00071144, 0.00052471,\n",
       "        0.00057163, 0.00063939, 0.00059128, 0.00055642, 0.0005415 ,\n",
       "        0.00050473, 0.00047936, 0.00052338, 0.00053916, 0.00050941,\n",
       "        0.00054021, 0.00051336, 0.00064139, 0.00061378, 0.00051198,\n",
       "        0.00054197, 0.00068784, 0.00056868, 0.00052562, 0.00079951,\n",
       "        0.00055542, 0.00053544, 0.00067859, 0.0005302 , 0.00055671,\n",
       "        0.00058055, 0.00052924, 0.00052633, 0.00057311, 0.0005064 ,\n",
       "        0.00054579, 0.00050216, 0.00051079, 0.00052609]),\n",
       " 'std_fit_time': array([1.32267992e-04, 1.42404286e-04, 1.11196381e-04, 9.11384637e-05,\n",
       "        2.29189586e-05, 3.97114039e-05, 4.40398807e-05, 1.06359124e-04,\n",
       "        5.01233657e-05, 1.50739863e-04, 3.65787251e-05, 8.82328376e-05,\n",
       "        3.53578756e-04, 9.70861298e-05, 7.06214988e-05, 9.79893480e-04,\n",
       "        1.23934867e-04, 7.47474148e-05, 2.58237061e-04, 3.39795912e-05,\n",
       "        8.16662952e-05, 1.85865008e-04, 3.62587552e-05, 3.54843106e-05,\n",
       "        8.05403792e-05, 3.94390742e-05, 5.01270399e-05, 8.46867894e-05,\n",
       "        5.24437638e-05, 7.28501380e-05, 1.10942229e-04, 2.33018761e-05,\n",
       "        9.84943365e-05, 1.00305006e-04, 5.15532643e-05, 4.26832919e-05,\n",
       "        2.61537813e-04, 1.67820899e-04, 3.75905585e-05, 3.68642545e-04,\n",
       "        8.15891369e-05, 3.08227923e-05, 2.27943244e-04, 2.17583047e-05,\n",
       "        4.35509241e-05, 6.73615822e-05, 2.62405182e-05, 2.60872201e-05,\n",
       "        4.53435283e-05, 4.32207578e-05, 6.90534295e-05, 1.92002613e-05,\n",
       "        3.72814088e-05, 6.35675262e-05]),\n",
       " 'mean_score_time': array([0.00033655, 0.00032349, 0.00037527, 0.00030675, 0.00029416,\n",
       "        0.00032654, 0.00054212, 0.00033283, 0.00033484, 0.00028925,\n",
       "        0.00030289, 0.00030656, 0.00032768, 0.00031114, 0.0002986 ,\n",
       "        0.00034442, 0.00031133, 0.00030513, 0.00032802, 0.0003057 ,\n",
       "        0.00031238, 0.00032029, 0.00032272, 0.00034471, 0.00026546,\n",
       "        0.00028987, 0.00030055, 0.00026894, 0.00029469, 0.00027971,\n",
       "        0.00030522, 0.000284  , 0.00033622, 0.00035076, 0.00030155,\n",
       "        0.0003232 , 0.00027838, 0.00035586, 0.00030804, 0.00042887,\n",
       "        0.00028949, 0.0003551 , 0.00036077, 0.00029168, 0.00031943,\n",
       "        0.00028777, 0.00030155, 0.0003015 , 0.00031891, 0.0002943 ,\n",
       "        0.00027866, 0.0002789 , 0.00050187, 0.00027075]),\n",
       " 'std_score_time': array([3.28563294e-05, 6.16125276e-05, 3.95346605e-05, 2.75332068e-05,\n",
       "        2.63727593e-05, 5.28256379e-05, 4.53004872e-04, 6.23499913e-05,\n",
       "        4.42130140e-05, 2.42547522e-05, 2.55433436e-05, 3.21871793e-05,\n",
       "        4.81118059e-05, 3.76647028e-05, 2.97294106e-05, 7.86472896e-05,\n",
       "        4.17594480e-05, 3.11456804e-05, 9.43059740e-05, 4.93616059e-05,\n",
       "        2.13420721e-05, 3.10122365e-05, 5.26073931e-05, 5.33361918e-05,\n",
       "        3.40062129e-06, 5.84496944e-05, 6.10321014e-05, 1.89364998e-05,\n",
       "        6.01745067e-05, 1.74664351e-05, 4.14276277e-05, 2.24966091e-05,\n",
       "        4.13685847e-05, 6.57166377e-05, 4.16626899e-05, 5.20927082e-05,\n",
       "        3.04637374e-05, 1.48265428e-04, 4.96568152e-05, 1.01413455e-04,\n",
       "        2.57930559e-05, 5.35604247e-05, 3.73587231e-05, 2.71179937e-05,\n",
       "        2.69884777e-05, 1.59601607e-05, 3.65362451e-05, 5.28004522e-05,\n",
       "        7.18960071e-05, 2.31237016e-05, 3.05192172e-05, 2.22711030e-05,\n",
       "        4.15101823e-04, 1.21771925e-05]),\n",
       " 'param_criterion': masked_array(data=['gini', 'gini', 'gini', 'gini', 'gini', 'gini', 'gini',\n",
       "                    'gini', 'gini', 'gini', 'gini', 'gini', 'gini', 'gini',\n",
       "                    'gini', 'gini', 'gini', 'gini', 'gini', 'gini', 'gini',\n",
       "                    'gini', 'gini', 'gini', 'gini', 'gini', 'gini',\n",
       "                    'entropy', 'entropy', 'entropy', 'entropy', 'entropy',\n",
       "                    'entropy', 'entropy', 'entropy', 'entropy', 'entropy',\n",
       "                    'entropy', 'entropy', 'entropy', 'entropy', 'entropy',\n",
       "                    'entropy', 'entropy', 'entropy', 'entropy', 'entropy',\n",
       "                    'entropy', 'entropy', 'entropy', 'entropy', 'entropy',\n",
       "                    'entropy', 'entropy'],\n",
       "              mask=[False, False, False, False, False, False, False, False,\n",
       "                    False, False, False, False, False, False, False, False,\n",
       "                    False, False, False, False, False, False, False, False,\n",
       "                    False, False, False, False, False, False, False, False,\n",
       "                    False, False, False, False, False, False, False, False,\n",
       "                    False, False, False, False, False, False, False, False,\n",
       "                    False, False, False, False, False, False],\n",
       "        fill_value='?',\n",
       "             dtype=object),\n",
       " 'param_max_depth': masked_array(data=[2, 2, 2, 2, 2, 2, 2, 2, 2, 3, 3, 3, 3, 3, 3, 3, 3, 3,\n",
       "                    4, 4, 4, 4, 4, 4, 4, 4, 4, 2, 2, 2, 2, 2, 2, 2, 2, 2,\n",
       "                    3, 3, 3, 3, 3, 3, 3, 3, 3, 4, 4, 4, 4, 4, 4, 4, 4, 4],\n",
       "              mask=[False, False, False, False, False, False, False, False,\n",
       "                    False, False, False, False, False, False, False, False,\n",
       "                    False, False, False, False, False, False, False, False,\n",
       "                    False, False, False, False, False, False, False, False,\n",
       "                    False, False, False, False, False, False, False, False,\n",
       "                    False, False, False, False, False, False, False, False,\n",
       "                    False, False, False, False, False, False],\n",
       "        fill_value='?',\n",
       "             dtype=object),\n",
       " 'param_min_samples_leaf': masked_array(data=[2, 4, 6, 8, 10, 12, 14, 16, 18, 2, 4, 6, 8, 10, 12, 14,\n",
       "                    16, 18, 2, 4, 6, 8, 10, 12, 14, 16, 18, 2, 4, 6, 8, 10,\n",
       "                    12, 14, 16, 18, 2, 4, 6, 8, 10, 12, 14, 16, 18, 2, 4,\n",
       "                    6, 8, 10, 12, 14, 16, 18],\n",
       "              mask=[False, False, False, False, False, False, False, False,\n",
       "                    False, False, False, False, False, False, False, False,\n",
       "                    False, False, False, False, False, False, False, False,\n",
       "                    False, False, False, False, False, False, False, False,\n",
       "                    False, False, False, False, False, False, False, False,\n",
       "                    False, False, False, False, False, False, False, False,\n",
       "                    False, False, False, False, False, False],\n",
       "        fill_value='?',\n",
       "             dtype=object),\n",
       " 'params': [{'criterion': 'gini', 'max_depth': 2, 'min_samples_leaf': 2},\n",
       "  {'criterion': 'gini', 'max_depth': 2, 'min_samples_leaf': 4},\n",
       "  {'criterion': 'gini', 'max_depth': 2, 'min_samples_leaf': 6},\n",
       "  {'criterion': 'gini', 'max_depth': 2, 'min_samples_leaf': 8},\n",
       "  {'criterion': 'gini', 'max_depth': 2, 'min_samples_leaf': 10},\n",
       "  {'criterion': 'gini', 'max_depth': 2, 'min_samples_leaf': 12},\n",
       "  {'criterion': 'gini', 'max_depth': 2, 'min_samples_leaf': 14},\n",
       "  {'criterion': 'gini', 'max_depth': 2, 'min_samples_leaf': 16},\n",
       "  {'criterion': 'gini', 'max_depth': 2, 'min_samples_leaf': 18},\n",
       "  {'criterion': 'gini', 'max_depth': 3, 'min_samples_leaf': 2},\n",
       "  {'criterion': 'gini', 'max_depth': 3, 'min_samples_leaf': 4},\n",
       "  {'criterion': 'gini', 'max_depth': 3, 'min_samples_leaf': 6},\n",
       "  {'criterion': 'gini', 'max_depth': 3, 'min_samples_leaf': 8},\n",
       "  {'criterion': 'gini', 'max_depth': 3, 'min_samples_leaf': 10},\n",
       "  {'criterion': 'gini', 'max_depth': 3, 'min_samples_leaf': 12},\n",
       "  {'criterion': 'gini', 'max_depth': 3, 'min_samples_leaf': 14},\n",
       "  {'criterion': 'gini', 'max_depth': 3, 'min_samples_leaf': 16},\n",
       "  {'criterion': 'gini', 'max_depth': 3, 'min_samples_leaf': 18},\n",
       "  {'criterion': 'gini', 'max_depth': 4, 'min_samples_leaf': 2},\n",
       "  {'criterion': 'gini', 'max_depth': 4, 'min_samples_leaf': 4},\n",
       "  {'criterion': 'gini', 'max_depth': 4, 'min_samples_leaf': 6},\n",
       "  {'criterion': 'gini', 'max_depth': 4, 'min_samples_leaf': 8},\n",
       "  {'criterion': 'gini', 'max_depth': 4, 'min_samples_leaf': 10},\n",
       "  {'criterion': 'gini', 'max_depth': 4, 'min_samples_leaf': 12},\n",
       "  {'criterion': 'gini', 'max_depth': 4, 'min_samples_leaf': 14},\n",
       "  {'criterion': 'gini', 'max_depth': 4, 'min_samples_leaf': 16},\n",
       "  {'criterion': 'gini', 'max_depth': 4, 'min_samples_leaf': 18},\n",
       "  {'criterion': 'entropy', 'max_depth': 2, 'min_samples_leaf': 2},\n",
       "  {'criterion': 'entropy', 'max_depth': 2, 'min_samples_leaf': 4},\n",
       "  {'criterion': 'entropy', 'max_depth': 2, 'min_samples_leaf': 6},\n",
       "  {'criterion': 'entropy', 'max_depth': 2, 'min_samples_leaf': 8},\n",
       "  {'criterion': 'entropy', 'max_depth': 2, 'min_samples_leaf': 10},\n",
       "  {'criterion': 'entropy', 'max_depth': 2, 'min_samples_leaf': 12},\n",
       "  {'criterion': 'entropy', 'max_depth': 2, 'min_samples_leaf': 14},\n",
       "  {'criterion': 'entropy', 'max_depth': 2, 'min_samples_leaf': 16},\n",
       "  {'criterion': 'entropy', 'max_depth': 2, 'min_samples_leaf': 18},\n",
       "  {'criterion': 'entropy', 'max_depth': 3, 'min_samples_leaf': 2},\n",
       "  {'criterion': 'entropy', 'max_depth': 3, 'min_samples_leaf': 4},\n",
       "  {'criterion': 'entropy', 'max_depth': 3, 'min_samples_leaf': 6},\n",
       "  {'criterion': 'entropy', 'max_depth': 3, 'min_samples_leaf': 8},\n",
       "  {'criterion': 'entropy', 'max_depth': 3, 'min_samples_leaf': 10},\n",
       "  {'criterion': 'entropy', 'max_depth': 3, 'min_samples_leaf': 12},\n",
       "  {'criterion': 'entropy', 'max_depth': 3, 'min_samples_leaf': 14},\n",
       "  {'criterion': 'entropy', 'max_depth': 3, 'min_samples_leaf': 16},\n",
       "  {'criterion': 'entropy', 'max_depth': 3, 'min_samples_leaf': 18},\n",
       "  {'criterion': 'entropy', 'max_depth': 4, 'min_samples_leaf': 2},\n",
       "  {'criterion': 'entropy', 'max_depth': 4, 'min_samples_leaf': 4},\n",
       "  {'criterion': 'entropy', 'max_depth': 4, 'min_samples_leaf': 6},\n",
       "  {'criterion': 'entropy', 'max_depth': 4, 'min_samples_leaf': 8},\n",
       "  {'criterion': 'entropy', 'max_depth': 4, 'min_samples_leaf': 10},\n",
       "  {'criterion': 'entropy', 'max_depth': 4, 'min_samples_leaf': 12},\n",
       "  {'criterion': 'entropy', 'max_depth': 4, 'min_samples_leaf': 14},\n",
       "  {'criterion': 'entropy', 'max_depth': 4, 'min_samples_leaf': 16},\n",
       "  {'criterion': 'entropy', 'max_depth': 4, 'min_samples_leaf': 18}],\n",
       " 'split0_test_score': array([0.875, 0.875, 0.875, 0.875, 0.875, 0.875, 0.875, 0.875, 0.875,\n",
       "        0.875, 0.875, 0.875, 0.875, 0.875, 0.875, 0.875, 0.875, 0.875,\n",
       "        0.875, 0.875, 0.875, 0.875, 0.875, 0.875, 0.875, 0.875, 0.875,\n",
       "        0.875, 0.875, 0.875, 0.875, 0.875, 0.875, 0.875, 0.875, 0.875,\n",
       "        0.875, 0.875, 0.875, 0.875, 0.875, 0.875, 0.875, 0.875, 0.875,\n",
       "        0.875, 0.875, 0.875, 0.875, 0.875, 0.875, 0.875, 0.875, 0.875]),\n",
       " 'split1_test_score': array([0.95833333, 0.95833333, 0.95833333, 0.95833333, 0.95833333,\n",
       "        0.95833333, 0.95833333, 0.95833333, 0.95833333, 1.        ,\n",
       "        0.95833333, 0.95833333, 0.95833333, 0.95833333, 0.95833333,\n",
       "        0.95833333, 0.95833333, 0.95833333, 1.        , 0.95833333,\n",
       "        0.95833333, 0.95833333, 0.95833333, 0.95833333, 0.95833333,\n",
       "        0.95833333, 0.95833333, 0.95833333, 0.95833333, 0.95833333,\n",
       "        0.95833333, 0.95833333, 0.95833333, 0.95833333, 0.95833333,\n",
       "        0.95833333, 1.        , 0.95833333, 0.95833333, 0.95833333,\n",
       "        0.95833333, 0.95833333, 0.95833333, 0.95833333, 0.95833333,\n",
       "        1.        , 0.95833333, 0.95833333, 0.95833333, 0.95833333,\n",
       "        0.95833333, 0.95833333, 0.95833333, 0.95833333]),\n",
       " 'split2_test_score': array([1.        , 1.        , 0.95833333, 0.95833333, 1.        ,\n",
       "        1.        , 0.95833333, 0.95833333, 0.95833333, 0.95833333,\n",
       "        0.95833333, 0.95833333, 0.95833333, 0.95833333, 1.        ,\n",
       "        1.        , 0.95833333, 0.95833333, 0.95833333, 0.95833333,\n",
       "        1.        , 0.95833333, 1.        , 1.        , 1.        ,\n",
       "        1.        , 0.95833333, 1.        , 1.        , 0.95833333,\n",
       "        0.95833333, 0.95833333, 0.95833333, 1.        , 1.        ,\n",
       "        1.        , 0.95833333, 0.95833333, 0.95833333, 1.        ,\n",
       "        0.95833333, 1.        , 1.        , 1.        , 1.        ,\n",
       "        0.95833333, 0.95833333, 0.95833333, 0.95833333, 1.        ,\n",
       "        0.95833333, 0.95833333, 1.        , 0.95833333]),\n",
       " 'split3_test_score': array([0.91666667, 0.91666667, 0.91666667, 0.91666667, 0.91666667,\n",
       "        0.91666667, 0.91666667, 0.91666667, 0.91666667, 0.91666667,\n",
       "        0.91666667, 0.91666667, 0.91666667, 0.91666667, 0.91666667,\n",
       "        0.91666667, 0.91666667, 0.91666667, 0.875     , 0.91666667,\n",
       "        0.91666667, 0.91666667, 0.91666667, 0.91666667, 0.91666667,\n",
       "        0.91666667, 0.91666667, 0.91666667, 0.91666667, 0.91666667,\n",
       "        0.91666667, 0.91666667, 0.91666667, 0.91666667, 0.91666667,\n",
       "        0.91666667, 0.91666667, 0.91666667, 0.91666667, 0.91666667,\n",
       "        0.91666667, 0.91666667, 0.91666667, 0.91666667, 0.91666667,\n",
       "        0.875     , 0.91666667, 0.91666667, 0.91666667, 0.91666667,\n",
       "        0.91666667, 0.91666667, 0.91666667, 0.91666667]),\n",
       " 'split4_test_score': array([0.95833333, 0.95833333, 0.95833333, 0.95833333, 0.95833333,\n",
       "        0.95833333, 0.95833333, 0.95833333, 0.95833333, 0.95833333,\n",
       "        0.95833333, 0.95833333, 0.95833333, 0.95833333, 0.95833333,\n",
       "        0.95833333, 0.95833333, 0.95833333, 0.95833333, 0.95833333,\n",
       "        0.95833333, 0.95833333, 0.95833333, 0.95833333, 0.95833333,\n",
       "        0.95833333, 0.95833333, 0.95833333, 0.95833333, 0.95833333,\n",
       "        0.95833333, 0.95833333, 0.95833333, 0.95833333, 0.95833333,\n",
       "        0.95833333, 0.95833333, 0.95833333, 0.95833333, 0.95833333,\n",
       "        0.95833333, 0.95833333, 0.95833333, 0.95833333, 0.95833333,\n",
       "        0.95833333, 0.95833333, 0.91666667, 0.95833333, 0.95833333,\n",
       "        0.95833333, 0.95833333, 0.95833333, 0.95833333]),\n",
       " 'mean_test_score': array([0.94166667, 0.94166667, 0.93333333, 0.93333333, 0.94166667,\n",
       "        0.94166667, 0.93333333, 0.93333333, 0.93333333, 0.94166667,\n",
       "        0.93333333, 0.93333333, 0.93333333, 0.93333333, 0.94166667,\n",
       "        0.94166667, 0.93333333, 0.93333333, 0.93333333, 0.93333333,\n",
       "        0.94166667, 0.93333333, 0.94166667, 0.94166667, 0.94166667,\n",
       "        0.94166667, 0.93333333, 0.94166667, 0.94166667, 0.93333333,\n",
       "        0.93333333, 0.93333333, 0.93333333, 0.94166667, 0.94166667,\n",
       "        0.94166667, 0.94166667, 0.93333333, 0.93333333, 0.94166667,\n",
       "        0.93333333, 0.94166667, 0.94166667, 0.94166667, 0.94166667,\n",
       "        0.93333333, 0.93333333, 0.925     , 0.93333333, 0.94166667,\n",
       "        0.93333333, 0.93333333, 0.94166667, 0.93333333]),\n",
       " 'std_test_score': array([0.04249183, 0.04249183, 0.03333333, 0.03333333, 0.04249183,\n",
       "        0.04249183, 0.03333333, 0.03333333, 0.03333333, 0.04249183,\n",
       "        0.03333333, 0.03333333, 0.03333333, 0.03333333, 0.04249183,\n",
       "        0.04249183, 0.03333333, 0.03333333, 0.05      , 0.03333333,\n",
       "        0.04249183, 0.03333333, 0.04249183, 0.04249183, 0.04249183,\n",
       "        0.04249183, 0.03333333, 0.04249183, 0.04249183, 0.03333333,\n",
       "        0.03333333, 0.03333333, 0.03333333, 0.04249183, 0.04249183,\n",
       "        0.04249183, 0.04249183, 0.03333333, 0.03333333, 0.04249183,\n",
       "        0.03333333, 0.04249183, 0.04249183, 0.04249183, 0.04249183,\n",
       "        0.05      , 0.03333333, 0.03118048, 0.03333333, 0.04249183,\n",
       "        0.03333333, 0.03333333, 0.04249183, 0.03333333]),\n",
       " 'rank_test_score': array([ 1,  1, 26, 26,  1,  1, 26, 26, 26,  1, 26, 26, 26, 26,  1,  1, 26,\n",
       "        26, 26, 26,  1, 26,  1,  1,  1,  1, 26,  1,  1, 26, 26, 26, 26,  1,\n",
       "         1,  1,  1, 26, 26,  1, 26,  1,  1,  1,  1, 26, 26, 54, 26,  1, 26,\n",
       "        26,  1, 26], dtype=int32)}"
      ]
     },
     "execution_count": 8,
     "metadata": {},
     "output_type": "execute_result"
    }
   ],
   "source": [
    "dt_opt.cv_results_"
   ]
  },
  {
   "cell_type": "markdown",
   "id": "7f9ddcc8",
   "metadata": {},
   "source": [
    "We can reformat it into a dataframe for further analysis."
   ]
  },
  {
   "cell_type": "code",
   "execution_count": 9,
   "id": "2955c6c0",
   "metadata": {},
   "outputs": [
    {
     "data": {
      "text/html": [
       "<div>\n",
       "<style scoped>\n",
       "    .dataframe tbody tr th:only-of-type {\n",
       "        vertical-align: middle;\n",
       "    }\n",
       "\n",
       "    .dataframe tbody tr th {\n",
       "        vertical-align: top;\n",
       "    }\n",
       "\n",
       "    .dataframe thead th {\n",
       "        text-align: right;\n",
       "    }\n",
       "</style>\n",
       "<table border=\"1\" class=\"dataframe\">\n",
       "  <thead>\n",
       "    <tr style=\"text-align: right;\">\n",
       "      <th></th>\n",
       "      <th>mean_fit_time</th>\n",
       "      <th>std_fit_time</th>\n",
       "      <th>mean_score_time</th>\n",
       "      <th>std_score_time</th>\n",
       "      <th>param_criterion</th>\n",
       "      <th>param_max_depth</th>\n",
       "      <th>param_min_samples_leaf</th>\n",
       "      <th>params</th>\n",
       "      <th>split0_test_score</th>\n",
       "      <th>split1_test_score</th>\n",
       "      <th>split2_test_score</th>\n",
       "      <th>split3_test_score</th>\n",
       "      <th>split4_test_score</th>\n",
       "      <th>mean_test_score</th>\n",
       "      <th>std_test_score</th>\n",
       "      <th>rank_test_score</th>\n",
       "    </tr>\n",
       "  </thead>\n",
       "  <tbody>\n",
       "    <tr>\n",
       "      <th>0</th>\n",
       "      <td>0.000649</td>\n",
       "      <td>0.000132</td>\n",
       "      <td>0.000337</td>\n",
       "      <td>0.000033</td>\n",
       "      <td>gini</td>\n",
       "      <td>2</td>\n",
       "      <td>2</td>\n",
       "      <td>{'criterion': 'gini', 'max_depth': 2, 'min_sam...</td>\n",
       "      <td>0.875</td>\n",
       "      <td>0.958333</td>\n",
       "      <td>1.0</td>\n",
       "      <td>0.916667</td>\n",
       "      <td>0.958333</td>\n",
       "      <td>0.941667</td>\n",
       "      <td>0.042492</td>\n",
       "      <td>1</td>\n",
       "    </tr>\n",
       "    <tr>\n",
       "      <th>1</th>\n",
       "      <td>0.000628</td>\n",
       "      <td>0.000142</td>\n",
       "      <td>0.000323</td>\n",
       "      <td>0.000062</td>\n",
       "      <td>gini</td>\n",
       "      <td>2</td>\n",
       "      <td>4</td>\n",
       "      <td>{'criterion': 'gini', 'max_depth': 2, 'min_sam...</td>\n",
       "      <td>0.875</td>\n",
       "      <td>0.958333</td>\n",
       "      <td>1.0</td>\n",
       "      <td>0.916667</td>\n",
       "      <td>0.958333</td>\n",
       "      <td>0.941667</td>\n",
       "      <td>0.042492</td>\n",
       "      <td>1</td>\n",
       "    </tr>\n",
       "  </tbody>\n",
       "</table>\n",
       "</div>"
      ],
      "text/plain": [
       "   mean_fit_time  std_fit_time  mean_score_time  std_score_time  \\\n",
       "0       0.000649      0.000132         0.000337        0.000033   \n",
       "1       0.000628      0.000142         0.000323        0.000062   \n",
       "\n",
       "  param_criterion param_max_depth param_min_samples_leaf  \\\n",
       "0            gini               2                      2   \n",
       "1            gini               2                      4   \n",
       "\n",
       "                                              params  split0_test_score  \\\n",
       "0  {'criterion': 'gini', 'max_depth': 2, 'min_sam...              0.875   \n",
       "1  {'criterion': 'gini', 'max_depth': 2, 'min_sam...              0.875   \n",
       "\n",
       "   split1_test_score  split2_test_score  split3_test_score  split4_test_score  \\\n",
       "0           0.958333                1.0           0.916667           0.958333   \n",
       "1           0.958333                1.0           0.916667           0.958333   \n",
       "\n",
       "   mean_test_score  std_test_score  rank_test_score  \n",
       "0         0.941667        0.042492                1  \n",
       "1         0.941667        0.042492                1  "
      ]
     },
     "execution_count": 9,
     "metadata": {},
     "output_type": "execute_result"
    }
   ],
   "source": [
    "dt_df = pd.DataFrame(dt_opt.cv_results_)\n",
    "dt_df.head(2)"
   ]
  },
  {
   "cell_type": "markdown",
   "id": "7f710fce",
   "metadata": {},
   "source": [
    "```{admonition} Correction\n",
    "The parameters in this function were in the wrong \n",
    "order in this function in class\n",
    "```\n",
    "I changed the markers and the color of the error bars for readability."
   ]
  },
  {
   "cell_type": "code",
   "execution_count": 10,
   "id": "805ab47b",
   "metadata": {},
   "outputs": [
    {
     "data": {
      "image/png": "[encoded data removed]",
      "text/plain": [
       "<Figure size 432x288 with 1 Axes>"
      ]
     },
     "metadata": {
      "filenames": {
       "image/png": "/home/runner/work/BrownFall21/BrownFall21/_build/jupyter_execute/notes/2021-11-15_18_0.png"
      }
     },
     "output_type": "display_data"
    }
   ],
   "source": [
    "plt.errorbar(x=dt_df['mean_fit_time'],y=dt_df['mean_score_time'],\n",
    "     xerr=dt_df['std_fit_time'],yerr=dt_df['std_score_time'],\n",
    "             marker='s',ecolor='r')\n",
    "plt.xlabel('fit time')\n",
    "plt.ylabel('score time')\n",
    "# save the limits so we can reuse them\n",
    "xmin, xmax, ymin, ymax = plt.axis()"
   ]
  },
  {
   "cell_type": "markdown",
   "id": "a7d76bf3",
   "metadata": {},
   "source": [
    "The \"points\" are at the mean fit and score times. The lines are the \"standard deviation\" or how much we expect that number to vary, since means are an estimate. \n",
    "Because the data shows an upward trend, this plot tells us that mostly, the models that are slower to fit are also slower to apply. This makes sense for decision trees, deeper trees take longer to learn and longer to traverse when predicting. \n",
    "Because the error bars mostly overlap the other points, this tells us that mostly the variation in time is not a reliable difference. If we re-ran the GridSearch, we could get them in different orders. \n",
    "\n",
    "To interpret the error bar plot, let's look at a line plot of just the means, with the same limits so that it's easier to compare to the plot above."
   ]
  },
  {
   "cell_type": "code",
   "execution_count": 11,
   "id": "a88b8910",
   "metadata": {},
   "outputs": [
    {
     "data": {
      "text/plain": [
       "(-4.2192520569827796e-05, 0.0021135731358042026)"
      ]
     },
     "execution_count": 11,
     "metadata": {},
     "output_type": "execute_result"
    },
    {
     "data": {
      "image/png": "[encoded data removed]",
      "text/plain": [
       "<Figure size 432x288 with 1 Axes>"
      ]
     },
     "metadata": {
      "filenames": {
       "image/png": "/home/runner/work/BrownFall21/BrownFall21/_build/jupyter_execute/notes/2021-11-15_20_1.png"
      }
     },
     "output_type": "display_data"
    }
   ],
   "source": [
    "plt.plot(dt_df['mean_fit_time'],\n",
    "            dt_df['mean_score_time'], marker='s')\n",
    "plt.xlabel('fit time')\n",
    "plt.ylabel('score time')\n",
    "# match the axis limits to above\n",
    "plt.ylim(ymin, ymax)\n",
    "plt.xlim(xmin,xmax)"
   ]
  },
  {
   "cell_type": "markdown",
   "id": "46f82f3c",
   "metadata": {},
   "source": [
    "this plot shows the mean times, without the error bars."
   ]
  },
  {
   "cell_type": "code",
   "execution_count": 12,
   "id": "82c2dc93",
   "metadata": {},
   "outputs": [
    {
     "data": {
      "text/plain": [
       "<AxesSubplot:>"
      ]
     },
     "execution_count": 12,
     "metadata": {},
     "output_type": "execute_result"
    },
    {
     "data": {
      "image/png": "[encoded data removed]",
      "text/plain": [
       "<Figure size 432x288 with 1 Axes>"
      ]
     },
     "metadata": {
      "filenames": {
       "image/png": "/home/runner/work/BrownFall21/BrownFall21/_build/jupyter_execute/notes/2021-11-15_22_1.png"
      }
     },
     "output_type": "display_data"
    }
   ],
   "source": [
    "dt_df['mean_test_score'].plot(kind='bar')"
   ]
  },
  {
   "cell_type": "code",
   "execution_count": 13,
   "id": "65d30dbf",
   "metadata": {},
   "outputs": [
    {
     "data": {
      "text/plain": [
       "0     0.941667\n",
       "1     0.941667\n",
       "2     0.933333\n",
       "3     0.933333\n",
       "4     0.941667\n",
       "5     0.941667\n",
       "6     0.933333\n",
       "7     0.933333\n",
       "8     0.933333\n",
       "9     0.941667\n",
       "10    0.933333\n",
       "11    0.933333\n",
       "12    0.933333\n",
       "13    0.933333\n",
       "14    0.941667\n",
       "15    0.941667\n",
       "16    0.933333\n",
       "17    0.933333\n",
       "18    0.933333\n",
       "19    0.933333\n",
       "20    0.941667\n",
       "21    0.933333\n",
       "22    0.941667\n",
       "23    0.941667\n",
       "24    0.941667\n",
       "25    0.941667\n",
       "26    0.933333\n",
       "27    0.941667\n",
       "28    0.941667\n",
       "29    0.933333\n",
       "30    0.933333\n",
       "31    0.933333\n",
       "32    0.933333\n",
       "33    0.941667\n",
       "34    0.941667\n",
       "35    0.941667\n",
       "36    0.941667\n",
       "37    0.933333\n",
       "38    0.933333\n",
       "39    0.941667\n",
       "40    0.933333\n",
       "41    0.941667\n",
       "42    0.941667\n",
       "43    0.941667\n",
       "44    0.941667\n",
       "45    0.933333\n",
       "46    0.933333\n",
       "47    0.925000\n",
       "48    0.933333\n",
       "49    0.941667\n",
       "50    0.933333\n",
       "51    0.933333\n",
       "52    0.941667\n",
       "53    0.933333\n",
       "Name: mean_test_score, dtype: float64"
      ]
     },
     "execution_count": 13,
     "metadata": {},
     "output_type": "execute_result"
    }
   ],
   "source": [
    "dt_df['mean_test_score']"
   ]
  },
  {
   "cell_type": "markdown",
   "id": "458acc58",
   "metadata": {},
   "source": [
    "Now let's compare with a different model, we'll use the parameter optimized version for that model."
   ]
  },
  {
   "cell_type": "code",
   "execution_count": 14,
   "id": "a07fa2f6",
   "metadata": {},
   "outputs": [
    {
     "ename": "NameError",
     "evalue": "name 'GridSearchCV' is not defined",
     "output_type": "error",
     "traceback": [
      "\u001b[0;31m---------------------------------------------------------------------------\u001b[0m",
      "\u001b[0;31mNameError\u001b[0m                                 Traceback (most recent call last)",
      "\u001b[0;32m/tmp/ipykernel_2277/492760704.py\u001b[0m in \u001b[0;36m<module>\u001b[0;34m\u001b[0m\n\u001b[1;32m      1\u001b[0m \u001b[0msvm_clf\u001b[0m \u001b[0;34m=\u001b[0m \u001b[0msvm\u001b[0m\u001b[0;34m.\u001b[0m\u001b[0mSVC\u001b[0m\u001b[0;34m(\u001b[0m\u001b[0;34m)\u001b[0m\u001b[0;34m\u001b[0m\u001b[0;34m\u001b[0m\u001b[0m\n\u001b[1;32m      2\u001b[0m \u001b[0mparam_grid\u001b[0m \u001b[0;34m=\u001b[0m \u001b[0;34m{\u001b[0m\u001b[0;34m'kernel'\u001b[0m\u001b[0;34m:\u001b[0m\u001b[0;34m[\u001b[0m\u001b[0;34m'linear'\u001b[0m\u001b[0;34m,\u001b[0m\u001b[0;34m'rbf'\u001b[0m\u001b[0;34m]\u001b[0m\u001b[0;34m,\u001b[0m \u001b[0;34m'C'\u001b[0m\u001b[0;34m:\u001b[0m\u001b[0;34m[\u001b[0m\u001b[0;36m.5\u001b[0m\u001b[0;34m,\u001b[0m \u001b[0;36m1\u001b[0m\u001b[0;34m,\u001b[0m \u001b[0;36m10\u001b[0m\u001b[0;34m]\u001b[0m\u001b[0;34m}\u001b[0m\u001b[0;34m\u001b[0m\u001b[0;34m\u001b[0m\u001b[0m\n\u001b[0;32m----> 3\u001b[0;31m \u001b[0msvm_opt\u001b[0m \u001b[0;34m=\u001b[0m \u001b[0mGridSearchCV\u001b[0m\u001b[0;34m(\u001b[0m\u001b[0msvm_clf\u001b[0m\u001b[0;34m,\u001b[0m\u001b[0mparam_grid\u001b[0m\u001b[0;34m,\u001b[0m\u001b[0;34m)\u001b[0m\u001b[0;34m\u001b[0m\u001b[0;34m\u001b[0m\u001b[0m\n\u001b[0m",
      "\u001b[0;31mNameError\u001b[0m: name 'GridSearchCV' is not defined"
     ]
    }
   ],
   "source": [
    "svm_clf = svm.SVC()\n",
    "param_grid = {'kernel':['linear','rbf'], 'C':[.5, 1, 10]}\n",
    "svm_opt = GridSearchCV(svm_clf,param_grid,)"
   ]
  },
  {
   "cell_type": "markdown",
   "id": "2b296953",
   "metadata": {},
   "source": [
    "The error above is because we didn't import `GridSearchCV` directly today, we imported the whole `model_selection` module, so we have to use that in order to access the class."
   ]
  },
  {
   "cell_type": "code",
   "execution_count": 15,
   "id": "68f53749",
   "metadata": {},
   "outputs": [],
   "source": [
    "svm_clf = svm.SVC()\n",
    "param_grid = {'kernel':['linear','rbf'], 'C':[.5, .75,1,2,5,7, 10]}\n",
    "svm_opt = model_selection.GridSearchCV(svm_clf,param_grid,cv=10)"
   ]
  },
  {
   "cell_type": "code",
   "execution_count": 16,
   "id": "a7338e75",
   "metadata": {},
   "outputs": [
    {
     "data": {
      "text/plain": [
       "module"
      ]
     },
     "execution_count": 16,
     "metadata": {},
     "output_type": "execute_result"
    }
   ],
   "source": [
    "type(model_selection)"
   ]
  },
  {
   "cell_type": "code",
   "execution_count": 17,
   "id": "2ffbcebf",
   "metadata": {},
   "outputs": [
    {
     "data": {
      "text/plain": [
       "{'scoring': None,\n",
       " 'estimator': DecisionTreeClassifier(),\n",
       " 'n_jobs': None,\n",
       " 'refit': True,\n",
       " 'cv': None,\n",
       " 'verbose': 0,\n",
       " 'pre_dispatch': '2*n_jobs',\n",
       " 'error_score': nan,\n",
       " 'return_train_score': False,\n",
       " 'param_grid': {'criterion': ['gini', 'entropy'],\n",
       "  'max_depth': [2, 3, 4],\n",
       "  'min_samples_leaf': [2, 4, 6, 8, 10, 12, 14, 16, 18]},\n",
       " 'multimetric_': False,\n",
       " 'best_index_': 0,\n",
       " 'best_score_': 0.9416666666666667,\n",
       " 'best_params_': {'criterion': 'gini', 'max_depth': 2, 'min_samples_leaf': 2},\n",
       " 'best_estimator_': DecisionTreeClassifier(max_depth=2, min_samples_leaf=2),\n",
       " 'refit_time_': 0.00043582916259765625,\n",
       " 'scorer_': <function sklearn.metrics._scorer._passthrough_scorer(estimator, *args, **kwargs)>,\n",
       " 'cv_results_': {'mean_fit_time': array([0.00064902, 0.00062847, 0.00062461, 0.00057406, 0.00049996,\n",
       "         0.00055218, 0.0005187 , 0.00057683, 0.0005527 , 0.00058465,\n",
       "         0.00056386, 0.00059395, 0.00069261, 0.00058694, 0.00059581,\n",
       "         0.00103569, 0.00056438, 0.0005702 , 0.00071144, 0.00052471,\n",
       "         0.00057163, 0.00063939, 0.00059128, 0.00055642, 0.0005415 ,\n",
       "         0.00050473, 0.00047936, 0.00052338, 0.00053916, 0.00050941,\n",
       "         0.00054021, 0.00051336, 0.00064139, 0.00061378, 0.00051198,\n",
       "         0.00054197, 0.00068784, 0.00056868, 0.00052562, 0.00079951,\n",
       "         0.00055542, 0.00053544, 0.00067859, 0.0005302 , 0.00055671,\n",
       "         0.00058055, 0.00052924, 0.00052633, 0.00057311, 0.0005064 ,\n",
       "         0.00054579, 0.00050216, 0.00051079, 0.00052609]),\n",
       "  'std_fit_time': array([1.32267992e-04, 1.42404286e-04, 1.11196381e-04, 9.11384637e-05,\n",
       "         2.29189586e-05, 3.97114039e-05, 4.40398807e-05, 1.06359124e-04,\n",
       "         5.01233657e-05, 1.50739863e-04, 3.65787251e-05, 8.82328376e-05,\n",
       "         3.53578756e-04, 9.70861298e-05, 7.06214988e-05, 9.79893480e-04,\n",
       "         1.23934867e-04, 7.47474148e-05, 2.58237061e-04, 3.39795912e-05,\n",
       "         8.16662952e-05, 1.85865008e-04, 3.62587552e-05, 3.54843106e-05,\n",
       "         8.05403792e-05, 3.94390742e-05, 5.01270399e-05, 8.46867894e-05,\n",
       "         5.24437638e-05, 7.28501380e-05, 1.10942229e-04, 2.33018761e-05,\n",
       "         9.84943365e-05, 1.00305006e-04, 5.15532643e-05, 4.26832919e-05,\n",
       "         2.61537813e-04, 1.67820899e-04, 3.75905585e-05, 3.68642545e-04,\n",
       "         8.15891369e-05, 3.08227923e-05, 2.27943244e-04, 2.17583047e-05,\n",
       "         4.35509241e-05, 6.73615822e-05, 2.62405182e-05, 2.60872201e-05,\n",
       "         4.53435283e-05, 4.32207578e-05, 6.90534295e-05, 1.92002613e-05,\n",
       "         3.72814088e-05, 6.35675262e-05]),\n",
       "  'mean_score_time': array([0.00033655, 0.00032349, 0.00037527, 0.00030675, 0.00029416,\n",
       "         0.00032654, 0.00054212, 0.00033283, 0.00033484, 0.00028925,\n",
       "         0.00030289, 0.00030656, 0.00032768, 0.00031114, 0.0002986 ,\n",
       "         0.00034442, 0.00031133, 0.00030513, 0.00032802, 0.0003057 ,\n",
       "         0.00031238, 0.00032029, 0.00032272, 0.00034471, 0.00026546,\n",
       "         0.00028987, 0.00030055, 0.00026894, 0.00029469, 0.00027971,\n",
       "         0.00030522, 0.000284  , 0.00033622, 0.00035076, 0.00030155,\n",
       "         0.0003232 , 0.00027838, 0.00035586, 0.00030804, 0.00042887,\n",
       "         0.00028949, 0.0003551 , 0.00036077, 0.00029168, 0.00031943,\n",
       "         0.00028777, 0.00030155, 0.0003015 , 0.00031891, 0.0002943 ,\n",
       "         0.00027866, 0.0002789 , 0.00050187, 0.00027075]),\n",
       "  'std_score_time': array([3.28563294e-05, 6.16125276e-05, 3.95346605e-05, 2.75332068e-05,\n",
       "         2.63727593e-05, 5.28256379e-05, 4.53004872e-04, 6.23499913e-05,\n",
       "         4.42130140e-05, 2.42547522e-05, 2.55433436e-05, 3.21871793e-05,\n",
       "         4.81118059e-05, 3.76647028e-05, 2.97294106e-05, 7.86472896e-05,\n",
       "         4.17594480e-05, 3.11456804e-05, 9.43059740e-05, 4.93616059e-05,\n",
       "         2.13420721e-05, 3.10122365e-05, 5.26073931e-05, 5.33361918e-05,\n",
       "         3.40062129e-06, 5.84496944e-05, 6.10321014e-05, 1.89364998e-05,\n",
       "         6.01745067e-05, 1.74664351e-05, 4.14276277e-05, 2.24966091e-05,\n",
       "         4.13685847e-05, 6.57166377e-05, 4.16626899e-05, 5.20927082e-05,\n",
       "         3.04637374e-05, 1.48265428e-04, 4.96568152e-05, 1.01413455e-04,\n",
       "         2.57930559e-05, 5.35604247e-05, 3.73587231e-05, 2.71179937e-05,\n",
       "         2.69884777e-05, 1.59601607e-05, 3.65362451e-05, 5.28004522e-05,\n",
       "         7.18960071e-05, 2.31237016e-05, 3.05192172e-05, 2.22711030e-05,\n",
       "         4.15101823e-04, 1.21771925e-05]),\n",
       "  'param_criterion': masked_array(data=['gini', 'gini', 'gini', 'gini', 'gini', 'gini', 'gini',\n",
       "                     'gini', 'gini', 'gini', 'gini', 'gini', 'gini', 'gini',\n",
       "                     'gini', 'gini', 'gini', 'gini', 'gini', 'gini', 'gini',\n",
       "                     'gini', 'gini', 'gini', 'gini', 'gini', 'gini',\n",
       "                     'entropy', 'entropy', 'entropy', 'entropy', 'entropy',\n",
       "                     'entropy', 'entropy', 'entropy', 'entropy', 'entropy',\n",
       "                     'entropy', 'entropy', 'entropy', 'entropy', 'entropy',\n",
       "                     'entropy', 'entropy', 'entropy', 'entropy', 'entropy',\n",
       "                     'entropy', 'entropy', 'entropy', 'entropy', 'entropy',\n",
       "                     'entropy', 'entropy'],\n",
       "               mask=[False, False, False, False, False, False, False, False,\n",
       "                     False, False, False, False, False, False, False, False,\n",
       "                     False, False, False, False, False, False, False, False,\n",
       "                     False, False, False, False, False, False, False, False,\n",
       "                     False, False, False, False, False, False, False, False,\n",
       "                     False, False, False, False, False, False, False, False,\n",
       "                     False, False, False, False, False, False],\n",
       "         fill_value='?',\n",
       "              dtype=object),\n",
       "  'param_max_depth': masked_array(data=[2, 2, 2, 2, 2, 2, 2, 2, 2, 3, 3, 3, 3, 3, 3, 3, 3, 3,\n",
       "                     4, 4, 4, 4, 4, 4, 4, 4, 4, 2, 2, 2, 2, 2, 2, 2, 2, 2,\n",
       "                     3, 3, 3, 3, 3, 3, 3, 3, 3, 4, 4, 4, 4, 4, 4, 4, 4, 4],\n",
       "               mask=[False, False, False, False, False, False, False, False,\n",
       "                     False, False, False, False, False, False, False, False,\n",
       "                     False, False, False, False, False, False, False, False,\n",
       "                     False, False, False, False, False, False, False, False,\n",
       "                     False, False, False, False, False, False, False, False,\n",
       "                     False, False, False, False, False, False, False, False,\n",
       "                     False, False, False, False, False, False],\n",
       "         fill_value='?',\n",
       "              dtype=object),\n",
       "  'param_min_samples_leaf': masked_array(data=[2, 4, 6, 8, 10, 12, 14, 16, 18, 2, 4, 6, 8, 10, 12, 14,\n",
       "                     16, 18, 2, 4, 6, 8, 10, 12, 14, 16, 18, 2, 4, 6, 8, 10,\n",
       "                     12, 14, 16, 18, 2, 4, 6, 8, 10, 12, 14, 16, 18, 2, 4,\n",
       "                     6, 8, 10, 12, 14, 16, 18],\n",
       "               mask=[False, False, False, False, False, False, False, False,\n",
       "                     False, False, False, False, False, False, False, False,\n",
       "                     False, False, False, False, False, False, False, False,\n",
       "                     False, False, False, False, False, False, False, False,\n",
       "                     False, False, False, False, False, False, False, False,\n",
       "                     False, False, False, False, False, False, False, False,\n",
       "                     False, False, False, False, False, False],\n",
       "         fill_value='?',\n",
       "              dtype=object),\n",
       "  'params': [{'criterion': 'gini', 'max_depth': 2, 'min_samples_leaf': 2},\n",
       "   {'criterion': 'gini', 'max_depth': 2, 'min_samples_leaf': 4},\n",
       "   {'criterion': 'gini', 'max_depth': 2, 'min_samples_leaf': 6},\n",
       "   {'criterion': 'gini', 'max_depth': 2, 'min_samples_leaf': 8},\n",
       "   {'criterion': 'gini', 'max_depth': 2, 'min_samples_leaf': 10},\n",
       "   {'criterion': 'gini', 'max_depth': 2, 'min_samples_leaf': 12},\n",
       "   {'criterion': 'gini', 'max_depth': 2, 'min_samples_leaf': 14},\n",
       "   {'criterion': 'gini', 'max_depth': 2, 'min_samples_leaf': 16},\n",
       "   {'criterion': 'gini', 'max_depth': 2, 'min_samples_leaf': 18},\n",
       "   {'criterion': 'gini', 'max_depth': 3, 'min_samples_leaf': 2},\n",
       "   {'criterion': 'gini', 'max_depth': 3, 'min_samples_leaf': 4},\n",
       "   {'criterion': 'gini', 'max_depth': 3, 'min_samples_leaf': 6},\n",
       "   {'criterion': 'gini', 'max_depth': 3, 'min_samples_leaf': 8},\n",
       "   {'criterion': 'gini', 'max_depth': 3, 'min_samples_leaf': 10},\n",
       "   {'criterion': 'gini', 'max_depth': 3, 'min_samples_leaf': 12},\n",
       "   {'criterion': 'gini', 'max_depth': 3, 'min_samples_leaf': 14},\n",
       "   {'criterion': 'gini', 'max_depth': 3, 'min_samples_leaf': 16},\n",
       "   {'criterion': 'gini', 'max_depth': 3, 'min_samples_leaf': 18},\n",
       "   {'criterion': 'gini', 'max_depth': 4, 'min_samples_leaf': 2},\n",
       "   {'criterion': 'gini', 'max_depth': 4, 'min_samples_leaf': 4},\n",
       "   {'criterion': 'gini', 'max_depth': 4, 'min_samples_leaf': 6},\n",
       "   {'criterion': 'gini', 'max_depth': 4, 'min_samples_leaf': 8},\n",
       "   {'criterion': 'gini', 'max_depth': 4, 'min_samples_leaf': 10},\n",
       "   {'criterion': 'gini', 'max_depth': 4, 'min_samples_leaf': 12},\n",
       "   {'criterion': 'gini', 'max_depth': 4, 'min_samples_leaf': 14},\n",
       "   {'criterion': 'gini', 'max_depth': 4, 'min_samples_leaf': 16},\n",
       "   {'criterion': 'gini', 'max_depth': 4, 'min_samples_leaf': 18},\n",
       "   {'criterion': 'entropy', 'max_depth': 2, 'min_samples_leaf': 2},\n",
       "   {'criterion': 'entropy', 'max_depth': 2, 'min_samples_leaf': 4},\n",
       "   {'criterion': 'entropy', 'max_depth': 2, 'min_samples_leaf': 6},\n",
       "   {'criterion': 'entropy', 'max_depth': 2, 'min_samples_leaf': 8},\n",
       "   {'criterion': 'entropy', 'max_depth': 2, 'min_samples_leaf': 10},\n",
       "   {'criterion': 'entropy', 'max_depth': 2, 'min_samples_leaf': 12},\n",
       "   {'criterion': 'entropy', 'max_depth': 2, 'min_samples_leaf': 14},\n",
       "   {'criterion': 'entropy', 'max_depth': 2, 'min_samples_leaf': 16},\n",
       "   {'criterion': 'entropy', 'max_depth': 2, 'min_samples_leaf': 18},\n",
       "   {'criterion': 'entropy', 'max_depth': 3, 'min_samples_leaf': 2},\n",
       "   {'criterion': 'entropy', 'max_depth': 3, 'min_samples_leaf': 4},\n",
       "   {'criterion': 'entropy', 'max_depth': 3, 'min_samples_leaf': 6},\n",
       "   {'criterion': 'entropy', 'max_depth': 3, 'min_samples_leaf': 8},\n",
       "   {'criterion': 'entropy', 'max_depth': 3, 'min_samples_leaf': 10},\n",
       "   {'criterion': 'entropy', 'max_depth': 3, 'min_samples_leaf': 12},\n",
       "   {'criterion': 'entropy', 'max_depth': 3, 'min_samples_leaf': 14},\n",
       "   {'criterion': 'entropy', 'max_depth': 3, 'min_samples_leaf': 16},\n",
       "   {'criterion': 'entropy', 'max_depth': 3, 'min_samples_leaf': 18},\n",
       "   {'criterion': 'entropy', 'max_depth': 4, 'min_samples_leaf': 2},\n",
       "   {'criterion': 'entropy', 'max_depth': 4, 'min_samples_leaf': 4},\n",
       "   {'criterion': 'entropy', 'max_depth': 4, 'min_samples_leaf': 6},\n",
       "   {'criterion': 'entropy', 'max_depth': 4, 'min_samples_leaf': 8},\n",
       "   {'criterion': 'entropy', 'max_depth': 4, 'min_samples_leaf': 10},\n",
       "   {'criterion': 'entropy', 'max_depth': 4, 'min_samples_leaf': 12},\n",
       "   {'criterion': 'entropy', 'max_depth': 4, 'min_samples_leaf': 14},\n",
       "   {'criterion': 'entropy', 'max_depth': 4, 'min_samples_leaf': 16},\n",
       "   {'criterion': 'entropy', 'max_depth': 4, 'min_samples_leaf': 18}],\n",
       "  'split0_test_score': array([0.875, 0.875, 0.875, 0.875, 0.875, 0.875, 0.875, 0.875, 0.875,\n",
       "         0.875, 0.875, 0.875, 0.875, 0.875, 0.875, 0.875, 0.875, 0.875,\n",
       "         0.875, 0.875, 0.875, 0.875, 0.875, 0.875, 0.875, 0.875, 0.875,\n",
       "         0.875, 0.875, 0.875, 0.875, 0.875, 0.875, 0.875, 0.875, 0.875,\n",
       "         0.875, 0.875, 0.875, 0.875, 0.875, 0.875, 0.875, 0.875, 0.875,\n",
       "         0.875, 0.875, 0.875, 0.875, 0.875, 0.875, 0.875, 0.875, 0.875]),\n",
       "  'split1_test_score': array([0.95833333, 0.95833333, 0.95833333, 0.95833333, 0.95833333,\n",
       "         0.95833333, 0.95833333, 0.95833333, 0.95833333, 1.        ,\n",
       "         0.95833333, 0.95833333, 0.95833333, 0.95833333, 0.95833333,\n",
       "         0.95833333, 0.95833333, 0.95833333, 1.        , 0.95833333,\n",
       "         0.95833333, 0.95833333, 0.95833333, 0.95833333, 0.95833333,\n",
       "         0.95833333, 0.95833333, 0.95833333, 0.95833333, 0.95833333,\n",
       "         0.95833333, 0.95833333, 0.95833333, 0.95833333, 0.95833333,\n",
       "         0.95833333, 1.        , 0.95833333, 0.95833333, 0.95833333,\n",
       "         0.95833333, 0.95833333, 0.95833333, 0.95833333, 0.95833333,\n",
       "         1.        , 0.95833333, 0.95833333, 0.95833333, 0.95833333,\n",
       "         0.95833333, 0.95833333, 0.95833333, 0.95833333]),\n",
       "  'split2_test_score': array([1.        , 1.        , 0.95833333, 0.95833333, 1.        ,\n",
       "         1.        , 0.95833333, 0.95833333, 0.95833333, 0.95833333,\n",
       "         0.95833333, 0.95833333, 0.95833333, 0.95833333, 1.        ,\n",
       "         1.        , 0.95833333, 0.95833333, 0.95833333, 0.95833333,\n",
       "         1.        , 0.95833333, 1.        , 1.        , 1.        ,\n",
       "         1.        , 0.95833333, 1.        , 1.        , 0.95833333,\n",
       "         0.95833333, 0.95833333, 0.95833333, 1.        , 1.        ,\n",
       "         1.        , 0.95833333, 0.95833333, 0.95833333, 1.        ,\n",
       "         0.95833333, 1.        , 1.        , 1.        , 1.        ,\n",
       "         0.95833333, 0.95833333, 0.95833333, 0.95833333, 1.        ,\n",
       "         0.95833333, 0.95833333, 1.        , 0.95833333]),\n",
       "  'split3_test_score': array([0.91666667, 0.91666667, 0.91666667, 0.91666667, 0.91666667,\n",
       "         0.91666667, 0.91666667, 0.91666667, 0.91666667, 0.91666667,\n",
       "         0.91666667, 0.91666667, 0.91666667, 0.91666667, 0.91666667,\n",
       "         0.91666667, 0.91666667, 0.91666667, 0.875     , 0.91666667,\n",
       "         0.91666667, 0.91666667, 0.91666667, 0.91666667, 0.91666667,\n",
       "         0.91666667, 0.91666667, 0.91666667, 0.91666667, 0.91666667,\n",
       "         0.91666667, 0.91666667, 0.91666667, 0.91666667, 0.91666667,\n",
       "         0.91666667, 0.91666667, 0.91666667, 0.91666667, 0.91666667,\n",
       "         0.91666667, 0.91666667, 0.91666667, 0.91666667, 0.91666667,\n",
       "         0.875     , 0.91666667, 0.91666667, 0.91666667, 0.91666667,\n",
       "         0.91666667, 0.91666667, 0.91666667, 0.91666667]),\n",
       "  'split4_test_score': array([0.95833333, 0.95833333, 0.95833333, 0.95833333, 0.95833333,\n",
       "         0.95833333, 0.95833333, 0.95833333, 0.95833333, 0.95833333,\n",
       "         0.95833333, 0.95833333, 0.95833333, 0.95833333, 0.95833333,\n",
       "         0.95833333, 0.95833333, 0.95833333, 0.95833333, 0.95833333,\n",
       "         0.95833333, 0.95833333, 0.95833333, 0.95833333, 0.95833333,\n",
       "         0.95833333, 0.95833333, 0.95833333, 0.95833333, 0.95833333,\n",
       "         0.95833333, 0.95833333, 0.95833333, 0.95833333, 0.95833333,\n",
       "         0.95833333, 0.95833333, 0.95833333, 0.95833333, 0.95833333,\n",
       "         0.95833333, 0.95833333, 0.95833333, 0.95833333, 0.95833333,\n",
       "         0.95833333, 0.95833333, 0.91666667, 0.95833333, 0.95833333,\n",
       "         0.95833333, 0.95833333, 0.95833333, 0.95833333]),\n",
       "  'mean_test_score': array([0.94166667, 0.94166667, 0.93333333, 0.93333333, 0.94166667,\n",
       "         0.94166667, 0.93333333, 0.93333333, 0.93333333, 0.94166667,\n",
       "         0.93333333, 0.93333333, 0.93333333, 0.93333333, 0.94166667,\n",
       "         0.94166667, 0.93333333, 0.93333333, 0.93333333, 0.93333333,\n",
       "         0.94166667, 0.93333333, 0.94166667, 0.94166667, 0.94166667,\n",
       "         0.94166667, 0.93333333, 0.94166667, 0.94166667, 0.93333333,\n",
       "         0.93333333, 0.93333333, 0.93333333, 0.94166667, 0.94166667,\n",
       "         0.94166667, 0.94166667, 0.93333333, 0.93333333, 0.94166667,\n",
       "         0.93333333, 0.94166667, 0.94166667, 0.94166667, 0.94166667,\n",
       "         0.93333333, 0.93333333, 0.925     , 0.93333333, 0.94166667,\n",
       "         0.93333333, 0.93333333, 0.94166667, 0.93333333]),\n",
       "  'std_test_score': array([0.04249183, 0.04249183, 0.03333333, 0.03333333, 0.04249183,\n",
       "         0.04249183, 0.03333333, 0.03333333, 0.03333333, 0.04249183,\n",
       "         0.03333333, 0.03333333, 0.03333333, 0.03333333, 0.04249183,\n",
       "         0.04249183, 0.03333333, 0.03333333, 0.05      , 0.03333333,\n",
       "         0.04249183, 0.03333333, 0.04249183, 0.04249183, 0.04249183,\n",
       "         0.04249183, 0.03333333, 0.04249183, 0.04249183, 0.03333333,\n",
       "         0.03333333, 0.03333333, 0.03333333, 0.04249183, 0.04249183,\n",
       "         0.04249183, 0.04249183, 0.03333333, 0.03333333, 0.04249183,\n",
       "         0.03333333, 0.04249183, 0.04249183, 0.04249183, 0.04249183,\n",
       "         0.05      , 0.03333333, 0.03118048, 0.03333333, 0.04249183,\n",
       "         0.03333333, 0.03333333, 0.04249183, 0.03333333]),\n",
       "  'rank_test_score': array([ 1,  1, 26, 26,  1,  1, 26, 26, 26,  1, 26, 26, 26, 26,  1,  1, 26,\n",
       "         26, 26, 26,  1, 26,  1,  1,  1,  1, 26,  1,  1, 26, 26, 26, 26,  1,\n",
       "          1,  1,  1, 26, 26,  1, 26,  1,  1,  1,  1, 26, 26, 54, 26,  1, 26,\n",
       "         26,  1, 26], dtype=int32)},\n",
       " 'n_splits_': 5}"
      ]
     },
     "execution_count": 17,
     "metadata": {},
     "output_type": "execute_result"
    }
   ],
   "source": [
    "dt_opt.__dict__"
   ]
  },
  {
   "cell_type": "markdown",
   "id": "bab66328",
   "metadata": {},
   "source": [
    "This doesn't have attributes yet, even though they are the same type, because we have not fit it tot data yet."
   ]
  },
  {
   "cell_type": "code",
   "execution_count": 18,
   "id": "9469d246",
   "metadata": {},
   "outputs": [
    {
     "data": {
      "text/plain": [
       "(sklearn.model_selection._search.GridSearchCV,\n",
       " sklearn.model_selection._search.GridSearchCV)"
      ]
     },
     "execution_count": 18,
     "metadata": {},
     "output_type": "execute_result"
    }
   ],
   "source": [
    "type(svm_opt), type(dt_opt)"
   ]
  },
  {
   "cell_type": "markdown",
   "id": "1b38d42e",
   "metadata": {},
   "source": [
    "Now we can fit the model to the training data of this second model."
   ]
  },
  {
   "cell_type": "code",
   "execution_count": 19,
   "id": "5f77001f",
   "metadata": {},
   "outputs": [],
   "source": [
    "# fit the model and  put the CV results in a dataframe\n",
    "svm_opt.fit(iris_X_train,iris_y_train)\n",
    "sv_df = pd.DataFrame(svm_opt.cv_results_)"
   ]
  },
  {
   "cell_type": "code",
   "execution_count": 20,
   "id": "b2023f32",
   "metadata": {},
   "outputs": [
    {
     "data": {
      "text/html": [
       "<div>\n",
       "<style scoped>\n",
       "    .dataframe tbody tr th:only-of-type {\n",
       "        vertical-align: middle;\n",
       "    }\n",
       "\n",
       "    .dataframe tbody tr th {\n",
       "        vertical-align: top;\n",
       "    }\n",
       "\n",
       "    .dataframe thead th {\n",
       "        text-align: right;\n",
       "    }\n",
       "</style>\n",
       "<table border=\"1\" class=\"dataframe\">\n",
       "  <thead>\n",
       "    <tr style=\"text-align: right;\">\n",
       "      <th></th>\n",
       "      <th>mean_fit_time</th>\n",
       "      <th>std_fit_time</th>\n",
       "      <th>mean_score_time</th>\n",
       "      <th>std_score_time</th>\n",
       "      <th>param_C</th>\n",
       "      <th>param_kernel</th>\n",
       "      <th>params</th>\n",
       "      <th>split0_test_score</th>\n",
       "      <th>split1_test_score</th>\n",
       "      <th>split2_test_score</th>\n",
       "      <th>split3_test_score</th>\n",
       "      <th>split4_test_score</th>\n",
       "      <th>split5_test_score</th>\n",
       "      <th>split6_test_score</th>\n",
       "      <th>split7_test_score</th>\n",
       "      <th>split8_test_score</th>\n",
       "      <th>split9_test_score</th>\n",
       "      <th>mean_test_score</th>\n",
       "      <th>std_test_score</th>\n",
       "      <th>rank_test_score</th>\n",
       "    </tr>\n",
       "  </thead>\n",
       "  <tbody>\n",
       "    <tr>\n",
       "      <th>0</th>\n",
       "      <td>0.000920</td>\n",
       "      <td>0.000198</td>\n",
       "      <td>0.000446</td>\n",
       "      <td>0.000055</td>\n",
       "      <td>0.5</td>\n",
       "      <td>linear</td>\n",
       "      <td>{'C': 0.5, 'kernel': 'linear'}</td>\n",
       "      <td>1.000000</td>\n",
       "      <td>0.916667</td>\n",
       "      <td>1.000000</td>\n",
       "      <td>1.0</td>\n",
       "      <td>1.0</td>\n",
       "      <td>0.916667</td>\n",
       "      <td>0.916667</td>\n",
       "      <td>1.0</td>\n",
       "      <td>1.0</td>\n",
       "      <td>1.000000</td>\n",
       "      <td>0.975000</td>\n",
       "      <td>0.038188</td>\n",
       "      <td>1</td>\n",
       "    </tr>\n",
       "    <tr>\n",
       "      <th>1</th>\n",
       "      <td>0.000976</td>\n",
       "      <td>0.000045</td>\n",
       "      <td>0.000474</td>\n",
       "      <td>0.000026</td>\n",
       "      <td>0.5</td>\n",
       "      <td>rbf</td>\n",
       "      <td>{'C': 0.5, 'kernel': 'rbf'}</td>\n",
       "      <td>0.833333</td>\n",
       "      <td>1.000000</td>\n",
       "      <td>0.916667</td>\n",
       "      <td>1.0</td>\n",
       "      <td>1.0</td>\n",
       "      <td>0.916667</td>\n",
       "      <td>1.000000</td>\n",
       "      <td>1.0</td>\n",
       "      <td>1.0</td>\n",
       "      <td>0.916667</td>\n",
       "      <td>0.958333</td>\n",
       "      <td>0.055902</td>\n",
       "      <td>10</td>\n",
       "    </tr>\n",
       "  </tbody>\n",
       "</table>\n",
       "</div>"
      ],
      "text/plain": [
       "   mean_fit_time  std_fit_time  mean_score_time  std_score_time param_C  \\\n",
       "0       0.000920      0.000198         0.000446        0.000055     0.5   \n",
       "1       0.000976      0.000045         0.000474        0.000026     0.5   \n",
       "\n",
       "  param_kernel                          params  split0_test_score  \\\n",
       "0       linear  {'C': 0.5, 'kernel': 'linear'}           1.000000   \n",
       "1          rbf     {'C': 0.5, 'kernel': 'rbf'}           0.833333   \n",
       "\n",
       "   split1_test_score  split2_test_score  split3_test_score  split4_test_score  \\\n",
       "0           0.916667           1.000000                1.0                1.0   \n",
       "1           1.000000           0.916667                1.0                1.0   \n",
       "\n",
       "   split5_test_score  split6_test_score  split7_test_score  split8_test_score  \\\n",
       "0           0.916667           0.916667                1.0                1.0   \n",
       "1           0.916667           1.000000                1.0                1.0   \n",
       "\n",
       "   split9_test_score  mean_test_score  std_test_score  rank_test_score  \n",
       "0           1.000000         0.975000        0.038188                1  \n",
       "1           0.916667         0.958333        0.055902               10  "
      ]
     },
     "execution_count": 20,
     "metadata": {},
     "output_type": "execute_result"
    }
   ],
   "source": [
    "sv_df.head(2)"
   ]
  },
  {
   "cell_type": "code",
   "execution_count": 21,
   "id": "18b84ad0",
   "metadata": {},
   "outputs": [
    {
     "data": {
      "text/plain": [
       "<ErrorbarContainer object of 3 artists>"
      ]
     },
     "execution_count": 21,
     "metadata": {},
     "output_type": "execute_result"
    },
    {
     "data": {
      "image/png": "[encoded data removed]",
      "text/plain": [
       "<Figure size 432x288 with 1 Axes>"
      ]
     },
     "metadata": {
      "filenames": {
       "image/png": "/home/runner/work/BrownFall21/BrownFall21/_build/jupyter_execute/notes/2021-11-15_35_1.png"
      }
     },
     "output_type": "display_data"
    }
   ],
   "source": [
    "plt.errorbar(x=sv_df['mean_fit_time'],xerr=sv_df['std_fit_time'],\n",
    "            y=sv_df['mean_score_time'],yerr=sv_df['std_score_time'])"
   ]
  },
  {
   "cell_type": "code",
   "execution_count": 22,
   "id": "9a447f19",
   "metadata": {},
   "outputs": [
    {
     "data": {
      "text/plain": [
       "Index(['mean_fit_time', 'std_fit_time', 'mean_score_time', 'std_score_time',\n",
       "       'param_C', 'param_kernel', 'params', 'split0_test_score',\n",
       "       'split1_test_score', 'split2_test_score', 'split3_test_score',\n",
       "       'split4_test_score', 'split5_test_score', 'split6_test_score',\n",
       "       'split7_test_score', 'split8_test_score', 'split9_test_score',\n",
       "       'mean_test_score', 'std_test_score', 'rank_test_score'],\n",
       "      dtype='object')"
      ]
     },
     "execution_count": 22,
     "metadata": {},
     "output_type": "execute_result"
    }
   ],
   "source": [
    "sv_df.columns"
   ]
  },
  {
   "cell_type": "markdown",
   "id": "ddf12c76",
   "metadata": {},
   "source": [
    "We can see if the models that take longer to fit or score perform better."
   ]
  },
  {
   "cell_type": "code",
   "execution_count": 23,
   "id": "09be55d5",
   "metadata": {},
   "outputs": [
    {
     "data": {
      "text/plain": [
       "<seaborn.axisgrid.FacetGrid at 0x7f6d54de92d0>"
      ]
     },
     "execution_count": 23,
     "metadata": {},
     "output_type": "execute_result"
    },
    {
     "data": {
      "image/png": "[encoded data removed]",
      "text/plain": [
       "<Figure size 451.3x360 with 1 Axes>"
      ]
     },
     "metadata": {
      "filenames": {
       "image/png": "/home/runner/work/BrownFall21/BrownFall21/_build/jupyter_execute/notes/2021-11-15_38_1.png"
      }
     },
     "output_type": "display_data"
    }
   ],
   "source": [
    "svm_time = sv_df.melt(id_vars=['param_C', 'param_kernel', 'params',],\n",
    "                      value_vars=['mean_fit_time', 'std_fit_time', 'mean_score_time', 'std_score_time'])\n",
    "sns.lmplot(data=sv_df, x='mean_fit_time',y='mean_test_score',\n",
    "          hue='param_kernel',fit_reg=False)"
   ]
  },
  {
   "cell_type": "markdown",
   "id": "1c170afc",
   "metadata": {},
   "source": [
    "This looks like mostly no."
   ]
  },
  {
   "cell_type": "code",
   "execution_count": 24,
   "id": "75ececc5",
   "metadata": {},
   "outputs": [
    {
     "data": {
      "text/plain": [
       "<seaborn.axisgrid.FacetGrid at 0x7f6d551ffd10>"
      ]
     },
     "execution_count": 24,
     "metadata": {},
     "output_type": "execute_result"
    },
    {
     "data": {
      "image/png": "[encoded data removed]",
      "text/plain": [
       "<Figure size 451.3x360 with 1 Axes>"
      ]
     },
     "metadata": {
      "filenames": {
       "image/png": "/home/runner/work/BrownFall21/BrownFall21/_build/jupyter_execute/notes/2021-11-15_40_1.png"
      }
     },
     "output_type": "display_data"
    }
   ],
   "source": [
    "sns.lmplot(data=sv_df, x='mean_score_time',y='mean_test_score',\n",
    "          hue='param_kernel',fit_reg=False)"
   ]
  },
  {
   "cell_type": "markdown",
   "id": "f8ca738a",
   "metadata": {},
   "source": [
    "Again, for score time, the slower models don't appear to be better.  Remember though the time differences weren't that different. \n",
    "\n",
    "```{admonition} Try it yourself\n",
    "Try this same analysis for the decision tree, does it matter there?\n",
    "```"
   ]
  },
  {
   "cell_type": "code",
   "execution_count": 25,
   "id": "40fbf40c",
   "metadata": {},
   "outputs": [
    {
     "data": {
      "text/html": [
       "<div>\n",
       "<style scoped>\n",
       "    .dataframe tbody tr th:only-of-type {\n",
       "        vertical-align: middle;\n",
       "    }\n",
       "\n",
       "    .dataframe tbody tr th {\n",
       "        vertical-align: top;\n",
       "    }\n",
       "\n",
       "    .dataframe thead th {\n",
       "        text-align: right;\n",
       "    }\n",
       "</style>\n",
       "<table border=\"1\" class=\"dataframe\">\n",
       "  <thead>\n",
       "    <tr style=\"text-align: right;\">\n",
       "      <th></th>\n",
       "      <th>param_C</th>\n",
       "      <th>param_kernel</th>\n",
       "      <th>params</th>\n",
       "      <th>variable</th>\n",
       "      <th>score</th>\n",
       "    </tr>\n",
       "  </thead>\n",
       "  <tbody>\n",
       "    <tr>\n",
       "      <th>0</th>\n",
       "      <td>0.5</td>\n",
       "      <td>linear</td>\n",
       "      <td>{'C': 0.5, 'kernel': 'linear'}</td>\n",
       "      <td>split0_test_score</td>\n",
       "      <td>1.000000</td>\n",
       "    </tr>\n",
       "    <tr>\n",
       "      <th>1</th>\n",
       "      <td>0.5</td>\n",
       "      <td>rbf</td>\n",
       "      <td>{'C': 0.5, 'kernel': 'rbf'}</td>\n",
       "      <td>split0_test_score</td>\n",
       "      <td>0.833333</td>\n",
       "    </tr>\n",
       "    <tr>\n",
       "      <th>2</th>\n",
       "      <td>0.75</td>\n",
       "      <td>linear</td>\n",
       "      <td>{'C': 0.75, 'kernel': 'linear'}</td>\n",
       "      <td>split0_test_score</td>\n",
       "      <td>1.000000</td>\n",
       "    </tr>\n",
       "    <tr>\n",
       "      <th>3</th>\n",
       "      <td>0.75</td>\n",
       "      <td>rbf</td>\n",
       "      <td>{'C': 0.75, 'kernel': 'rbf'}</td>\n",
       "      <td>split0_test_score</td>\n",
       "      <td>0.833333</td>\n",
       "    </tr>\n",
       "    <tr>\n",
       "      <th>4</th>\n",
       "      <td>1</td>\n",
       "      <td>linear</td>\n",
       "      <td>{'C': 1, 'kernel': 'linear'}</td>\n",
       "      <td>split0_test_score</td>\n",
       "      <td>1.000000</td>\n",
       "    </tr>\n",
       "  </tbody>\n",
       "</table>\n",
       "</div>"
      ],
      "text/plain": [
       "  param_C param_kernel                           params           variable  \\\n",
       "0     0.5       linear   {'C': 0.5, 'kernel': 'linear'}  split0_test_score   \n",
       "1     0.5          rbf      {'C': 0.5, 'kernel': 'rbf'}  split0_test_score   \n",
       "2    0.75       linear  {'C': 0.75, 'kernel': 'linear'}  split0_test_score   \n",
       "3    0.75          rbf     {'C': 0.75, 'kernel': 'rbf'}  split0_test_score   \n",
       "4       1       linear     {'C': 1, 'kernel': 'linear'}  split0_test_score   \n",
       "\n",
       "      score  \n",
       "0  1.000000  \n",
       "1  0.833333  \n",
       "2  1.000000  \n",
       "3  0.833333  \n",
       "4  1.000000  "
      ]
     },
     "execution_count": 25,
     "metadata": {},
     "output_type": "execute_result"
    }
   ],
   "source": [
    "sv_df_scores = sv_df.melt(id_vars=['param_C', 'param_kernel', 'params',],\n",
    "                    value_vars=['split0_test_score',\n",
    "       'split1_test_score', 'split2_test_score', 'split3_test_score',\n",
    "       'split4_test_score'], value_name='score')\n",
    "sv_df_scores.head()"
   ]
  },
  {
   "cell_type": "code",
   "execution_count": 26,
   "id": "d705710c",
   "metadata": {},
   "outputs": [
    {
     "data": {
      "text/plain": [
       "<seaborn.axisgrid.FacetGrid at 0x7f6d57354490>"
      ]
     },
     "execution_count": 26,
     "metadata": {},
     "output_type": "execute_result"
    },
    {
     "data": {
      "image/png": "[encoded data removed]",
      "text/plain": [
       "<Figure size 720x360 with 2 Axes>"
      ]
     },
     "metadata": {
      "filenames": {
       "image/png": "/home/runner/work/BrownFall21/BrownFall21/_build/jupyter_execute/notes/2021-11-15_43_1.png"
      }
     },
     "output_type": "display_data"
    }
   ],
   "source": [
    "sns.catplot(data=sv_df_scores,x='param_C',y='score',\n",
    "            col='param_kernel')"
   ]
  },
  {
   "cell_type": "markdown",
   "id": "e889a222",
   "metadata": {},
   "source": [
    "```{admonition} Try it yourself\n",
    "Try interpretting the plot above, what does it say? what can you conclude from it. \n",
    "```"
   ]
  },
  {
   "cell_type": "code",
   "execution_count": 27,
   "id": "4a8ac93a",
   "metadata": {},
   "outputs": [
    {
     "data": {
      "text/plain": [
       "<AxesSubplot:>"
      ]
     },
     "execution_count": 27,
     "metadata": {},
     "output_type": "execute_result"
    },
    {
     "data": {
      "image/png": "[encoded data removed]",
      "text/plain": [
       "<Figure size 432x288 with 1 Axes>"
      ]
     },
     "metadata": {
      "filenames": {
       "image/png": "/home/runner/work/BrownFall21/BrownFall21/_build/jupyter_execute/notes/2021-11-15_45_1.png"
      }
     },
     "output_type": "display_data"
    }
   ],
   "source": [
    "dt_df['mean_test_score'].plot(kind='bar')"
   ]
  },
  {
   "cell_type": "code",
   "execution_count": 28,
   "id": "09fd0830",
   "metadata": {},
   "outputs": [
    {
     "data": {
      "text/plain": [
       "<AxesSubplot:>"
      ]
     },
     "execution_count": 28,
     "metadata": {},
     "output_type": "execute_result"
    },
    {
     "data": {
      "image/png": "[encoded data removed]",
      "text/plain": [
       "<Figure size 432x288 with 1 Axes>"
      ]
     },
     "metadata": {
      "filenames": {
       "image/png": "/home/runner/work/BrownFall21/BrownFall21/_build/jupyter_execute/notes/2021-11-15_46_1.png"
      }
     },
     "output_type": "display_data"
    }
   ],
   "source": [
    "sv_df['mean_test_score'].plot(kind='bar')"
   ]
  },
  {
   "cell_type": "markdown",
   "id": "41a42821",
   "metadata": {},
   "source": [
    "From these last two plots we see that the SVM performance is more sensitive to its parameters, where for the parameters tested, the decision tree is not impacted. \n",
    "\n",
    "What can we say based on this?  We'll pick up from here on Wednesday."
   ]
  }
 ],
 "metadata": {
  "jupytext": {
   "text_representation": {
    "extension": ".md",
    "format_name": "myst",
    "format_version": 0.13,
    "jupytext_version": "1.10.3"
   }
  },
  "kernelspec": {
   "display_name": "Python 3",
   "language": "python",
   "name": "python3"
  },
  "language_info": {
   "codemirror_mode": {
    "name": "ipython",
    "version": 3
   },
   "file_extension": ".py",
   "mimetype": "text/x-python",
   "name": "python",
   "nbconvert_exporter": "python",
   "pygments_lexer": "ipython3",
   "version": "3.7.12"
  },
  "source_map": [
   12,
   16,
   20,
   32,
   36,
   38,
   42,
   45,
   49,
   53,
   59,
   61,
   65,
   67,
   71,
   73,
   77,
   80,
   88,
   96,
   104,
   112,
   116,
   120,
   122,
   126,
   130,
   134,
   140,
   144,
   146,
   150,
   152,
   156,
   162,
   166,
   171,
   173,
   177,
   182,
   186,
   189,
   197,
   206,
   209,
   215,
   219,
   221
  ]
 },
 "nbformat": 4,
 "nbformat_minor": 5
}