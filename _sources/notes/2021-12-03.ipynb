{
 "cells": [
  {
   "cell_type": "markdown",
   "id": "b308b474",
   "metadata": {},
   "source": [
    "# Predicting with Neural Networks"
   ]
  },
  {
   "cell_type": "code",
   "execution_count": 1,
   "id": "e614d3f1",
   "metadata": {},
   "outputs": [],
   "source": [
    "from scipy.special import expit\n",
    "from sklearn.datasets import make_classification\n",
    "from sklearn.neural_network import MLPClassifier\n",
    "\n",
    "from sklearn import svm\n",
    "import pandas as pd\n",
    "import numpy as np\n",
    "import sklearn\n",
    "\n",
    "from sklearn import datasets\n",
    "import matplotlib.pyplot as plt\n",
    "from sklearn import model_selection\n",
    "# from skearn.model_selection import train_test_split\n",
    "\n",
    "from sys import getsizeof"
   ]
  },
  {
   "cell_type": "code",
   "execution_count": 2,
   "id": "54db898d",
   "metadata": {},
   "outputs": [
    {
     "data": {
      "text/plain": [
       "<matplotlib.collections.PathCollection at 0x7facd05cefd0>"
      ]
     },
     "execution_count": 2,
     "metadata": {},
     "output_type": "execute_result"
    },
    {
     "data": {
      "image/png": "[encoded data removed]",
      "text/plain": [
       "<Figure size 432x288 with 1 Axes>"
      ]
     },
     "metadata": {
      "filenames": {
       "image/png": "/home/runner/work/BrownFall21/BrownFall21/_build/jupyter_execute/notes/2021-12-03_2_1.png"
      },
      "needs_background": "light"
     },
     "output_type": "display_data"
    }
   ],
   "source": [
    "X, y = make_classification(n_samples=100, random_state=1,n_features=2,n_redundant=0)\n",
    "X_train, X_test, y_train, y_test = model_selection.train_test_split(X, y, stratify=y,\n",
    "                          random_state=1)\n",
    "plt.scatter(X[:,0],X[:,1],c=y)"
   ]
  },
  {
   "cell_type": "code",
   "execution_count": 3,
   "id": "2c37fa2c",
   "metadata": {},
   "outputs": [
    {
     "name": "stdout",
     "output_type": "stream",
     "text": [
      "RUNNING THE L-BFGS-B CODE\n",
      "\n",
      "           * * *\n",
      "\n",
      "Machine precision = 2.220D-16\n",
      " N =            5     M =           10\n",
      "\n",
      "At X0         0 variables are exactly at the bounds\n",
      "\n",
      "At iterate    0    f=  6.32788D-01    |proj g|=  2.91544D-01\n",
      "\n",
      "At iterate    1    f=  3.35088D-01    |proj g|=  2.35449D-01\n",
      "\n",
      "At iterate    2    f=  1.05920D-01    |proj g|=  4.94459D-02\n",
      "\n",
      "At iterate    3    f=  9.85237D-02    |proj g|=  4.04533D-02\n",
      "\n",
      "At iterate    4    f=  8.44635D-02    |proj g|=  3.47573D-02\n",
      "\n",
      "At iterate    5    f=  5.57031D-02    |proj g|=  1.73370D-02\n",
      "\n",
      "At iterate    6    f=  5.34230D-02    |proj g|=  1.04731D-02\n",
      "\n",
      "At iterate    7    f=  5.15416D-02    |proj g|=  6.85965D-03\n",
      "\n",
      "At iterate    8    f=  5.01827D-02    |proj g|=  1.12827D-02\n",
      "\n",
      "At iterate    9    f=  4.85440D-02    |proj g|=  7.09723D-03\n",
      "\n",
      "At iterate   10    f=  4.79637D-02    |proj g|=  3.63648D-03\n",
      "\n",
      "At iterate   11    f=  4.79104D-02    |proj g|=  9.42768D-04\n",
      "\n",
      "At iterate   12    f=  4.79058D-02    |proj g|=  5.77602D-04\n",
      "\n",
      "At iterate   13    f=  4.79045D-02    |proj g|=  1.12079D-04\n",
      "\n",
      "At iterate   14    f=  4.79044D-02    |proj g|=  1.39328D-05\n",
      "\n",
      "           * * *\n",
      "\n",
      "Tit   = total number of iterations\n",
      "Tnf   = total number of function evaluations\n",
      "Tnint = total number of segments explored during Cauchy searches\n",
      "Skip  = number of BFGS updates skipped\n",
      "Nact  = number of active bounds at final generalized Cauchy point\n",
      "Projg = norm of the final projected gradient\n",
      "F     = final function value\n",
      "\n",
      "           * * *\n",
      "\n",
      "   N    Tit     Tnf  Tnint  Skip  Nact     Projg        F\n",
      "    5     14     18      1     0     0   1.393D-05   4.790D-02\n",
      "  F =   4.7904356244154220E-002\n",
      "\n",
      "CONVERGENCE: NORM_OF_PROJECTED_GRADIENT_<=_PGTOL            \n"
     ]
    },
    {
     "name": "stderr",
     "output_type": "stream",
     "text": [
      " This problem is unconstrained.\n"
     ]
    },
    {
     "data": {
      "text/plain": [
       "1.0"
      ]
     },
     "execution_count": 3,
     "metadata": {},
     "output_type": "execute_result"
    }
   ],
   "source": [
    "clf = MLPClassifier(\n",
    "  hidden_layer_sizes=(1),\n",
    "  max_iter=100,\n",
    "  alpha=1e-4,\n",
    "  solver=\"lbfgs\",\n",
    "  verbose=10,\n",
    "  random_state=1,\n",
    "  learning_rate_init=0.1,\n",
    "  activation= 'identity'\n",
    ")\n",
    "clf.fit(X_train, y_train)\n",
    "\n",
    "clf.score(X_test, y_test)"
   ]
  },
  {
   "cell_type": "code",
   "execution_count": 4,
   "id": "e80af85d",
   "metadata": {},
   "outputs": [
    {
     "data": {
      "text/plain": [
       "'logistic'"
      ]
     },
     "execution_count": 4,
     "metadata": {},
     "output_type": "execute_result"
    }
   ],
   "source": [
    "clf.out_activation_"
   ]
  },
  {
   "cell_type": "code",
   "execution_count": 5,
   "id": "f83fce24",
   "metadata": {},
   "outputs": [
    {
     "data": {
      "text/plain": [
       "list"
      ]
     },
     "execution_count": 5,
     "metadata": {},
     "output_type": "execute_result"
    }
   ],
   "source": [
    "type([[-1,2]])"
   ]
  },
  {
   "cell_type": "code",
   "execution_count": 6,
   "id": "f69afa61",
   "metadata": {},
   "outputs": [],
   "source": [
    "pt = np.array([[-1,2]])"
   ]
  },
  {
   "cell_type": "code",
   "execution_count": 7,
   "id": "8802324d",
   "metadata": {},
   "outputs": [
    {
     "data": {
      "text/plain": [
       "numpy.ndarray"
      ]
     },
     "execution_count": 7,
     "metadata": {},
     "output_type": "execute_result"
    }
   ],
   "source": [
    "type(pt)"
   ]
  },
  {
   "cell_type": "code",
   "execution_count": 8,
   "id": "885ac5bc",
   "metadata": {},
   "outputs": [
    {
     "data": {
      "text/plain": [
       "[array([[-4.28708146],\n",
       "        [ 0.12348133]]),\n",
       " array([[-3.06595372]])]"
      ]
     },
     "execution_count": 8,
     "metadata": {},
     "output_type": "execute_result"
    }
   ],
   "source": [
    "clf.coefs_"
   ]
  },
  {
   "cell_type": "code",
   "execution_count": 9,
   "id": "695d2ded",
   "metadata": {},
   "outputs": [
    {
     "data": {
      "text/plain": [
       "[array([-2.31857838]), array([-1.41144772])]"
      ]
     },
     "execution_count": 9,
     "metadata": {},
     "output_type": "execute_result"
    }
   ],
   "source": [
    "clf.intercepts_"
   ]
  },
  {
   "cell_type": "code",
   "execution_count": 10,
   "id": "af37a18f",
   "metadata": {},
   "outputs": [
    {
     "data": {
      "text/plain": [
       "array([[-8.20396314]])"
      ]
     },
     "execution_count": 10,
     "metadata": {},
     "output_type": "execute_result"
    }
   ],
   "source": [
    "(np.sum(pt.T*clf.coefs_[0],axis=0) + clf.intercepts_[0])*clf.coefs_[1] + clf.intercepts_[1]"
   ]
  },
  {
   "cell_type": "code",
   "execution_count": 11,
   "id": "88113d92",
   "metadata": {},
   "outputs": [
    {
     "data": {
      "text/plain": [
       "array([[0.00027349]])"
      ]
     },
     "execution_count": 11,
     "metadata": {},
     "output_type": "execute_result"
    }
   ],
   "source": [
    "expit((np.sum(pt.T*clf.coefs_[0],axis=0) + clf.intercepts_[0])*clf.coefs_[1] + clf.intercepts_[1])"
   ]
  },
  {
   "cell_type": "code",
   "execution_count": 12,
   "id": "15bcfd9c",
   "metadata": {},
   "outputs": [
    {
     "data": {
      "text/plain": [
       "array([[9.99726508e-01, 2.73492415e-04]])"
      ]
     },
     "execution_count": 12,
     "metadata": {},
     "output_type": "execute_result"
    }
   ],
   "source": [
    "clf.predict_proba([[-1,2]])"
   ]
  },
  {
   "cell_type": "code",
   "execution_count": 13,
   "id": "45e1ce25",
   "metadata": {},
   "outputs": [
    {
     "data": {
      "text/plain": [
       "array([0])"
      ]
     },
     "execution_count": 13,
     "metadata": {},
     "output_type": "execute_result"
    }
   ],
   "source": [
    "clf.predict([[-1,2]])"
   ]
  },
  {
   "cell_type": "code",
   "execution_count": 14,
   "id": "486a5e7a",
   "metadata": {},
   "outputs": [
    {
     "ename": "SyntaxError",
     "evalue": "invalid syntax (3241236577.py, line 10)",
     "output_type": "error",
     "traceback": [
      "\u001b[0;36m  File \u001b[0;32m\"/tmp/ipykernel_2444/3241236577.py\"\u001b[0;36m, line \u001b[0;32m10\u001b[0m\n\u001b[0;31m    )\u001b[0m\n\u001b[0m    ^\u001b[0m\n\u001b[0;31mSyntaxError\u001b[0m\u001b[0;31m:\u001b[0m invalid syntax\n"
     ]
    }
   ],
   "source": [
    "clf = MLPClassifier(\n",
    "  hidden_layer_sizes=(1),\n",
    "  max_iter=100,\n",
    "  alpha=1e-4,\n",
    "  solver=\"lbfgs\",\n",
    "  verbose=10,\n",
    "  random_state=1,\n",
    "  learning_rate_init=0.1,\n",
    "  activation= \n",
    ")\n",
    "clf.fit(X_train, y_train)\n",
    "\n",
    "clf.score(X_test, y_test)"
   ]
  }
 ],
 "metadata": {
  "jupytext": {
   "text_representation": {
    "extension": ".md",
    "format_name": "myst",
    "format_version": 0.13,
    "jupytext_version": "1.10.3"
   }
  },
  "kernelspec": {
   "display_name": "Python 3",
   "language": "python",
   "name": "python3"
  },
  "language_info": {
   "codemirror_mode": {
    "name": "ipython",
    "version": 3
   },
   "file_extension": ".py",
   "mimetype": "text/x-python",
   "name": "python",
   "nbconvert_exporter": "python",
   "pygments_lexer": "ipython3",
   "version": "3.7.12"
  },
  "source_map": [
   12,
   16,
   34,
   41,
   57,
   61,
   65,
   69,
   73,
   77,
   81,
   85,
   89,
   93,
   97
  ]
 },
 "nbformat": 4,
 "nbformat_minor": 5
}