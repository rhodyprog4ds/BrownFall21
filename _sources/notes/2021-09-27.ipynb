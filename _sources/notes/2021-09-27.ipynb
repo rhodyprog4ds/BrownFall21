{
 "cells": [
  {
   "cell_type": "markdown",
   "id": "040aed21",
   "metadata": {},
   "source": [
    "# Reshaping Data\n",
    "\n",
    "Today, we'll begin reshaping data.  We'll  cover:\n",
    "- filtering\n",
    "- applying a function to all rows\n",
    "- what is tidy data\n",
    "- reshaping data into tidy data\n",
    "\n",
    "First some setup:"
   ]
  },
  {
   "cell_type": "code",
   "execution_count": 1,
   "id": "e5f8700a",
   "metadata": {},
   "outputs": [],
   "source": [
    "import pandas as pd\n",
    "import seaborn as sns\n",
    "\n",
    "sns.set_theme(font_scale=2)\n",
    "arabica_data_url = 'https://raw.githubusercontent.com/jldbc/coffee-quality-database/master/data/arabica_data_cleaned.csv'"
   ]
  },
  {
   "cell_type": "markdown",
   "id": "2051d619",
   "metadata": {},
   "source": [
    "## Cleaning Data\n",
    "This week, we'll be cleaning data.\n",
    "\n",
    "Cleaning data is labor intensive and requires making subjective choices.  \n",
    "We'll focus on, and assess you on, manipulating data correctly, making reasonable\n",
    "choices, and documenting the choices you make carefully.\n",
    "\n",
    "\n",
    "We'll focus on the programming tools that get used in cleaning data in class\n",
    "\n",
    "this week:\n",
    "- reshaping data\n",
    "- handling missing or incorrect values\n",
    "- changing the representation of information\n",
    "\n",
    "## Tidy Data\n",
    "\n",
    "Read in the three csv files described below and store them in a list of DataFrames."
   ]
  },
  {
   "cell_type": "code",
   "execution_count": 2,
   "id": "af0f2959",
   "metadata": {},
   "outputs": [],
   "source": [
    "url_base = 'https://raw.githubusercontent.com/rhodyprog4ds/rhodyds/main/data/'\n",
    "\n",
    "datasets = ['study_a.csv','study_b.csv','study_c.csv']"
   ]
  },
  {
   "cell_type": "code",
   "execution_count": 3,
   "id": "d804bc40",
   "metadata": {},
   "outputs": [],
   "source": [
    "df_list = [pd.read_csv(url_base + file,na_values= '') for file in datasets]"
   ]
  },
  {
   "cell_type": "code",
   "execution_count": 4,
   "id": "b052424d",
   "metadata": {},
   "outputs": [
    {
     "data": {
      "text/html": [
       "<div>\n",
       "<style scoped>\n",
       "    .dataframe tbody tr th:only-of-type {\n",
       "        vertical-align: middle;\n",
       "    }\n",
       "\n",
       "    .dataframe tbody tr th {\n",
       "        vertical-align: top;\n",
       "    }\n",
       "\n",
       "    .dataframe thead th {\n",
       "        text-align: right;\n",
       "    }\n",
       "</style>\n",
       "<table border=\"1\" class=\"dataframe\">\n",
       "  <thead>\n",
       "    <tr style=\"text-align: right;\">\n",
       "      <th></th>\n",
       "      <th>name</th>\n",
       "      <th>treatmenta</th>\n",
       "      <th>treatmentb</th>\n",
       "    </tr>\n",
       "  </thead>\n",
       "  <tbody>\n",
       "    <tr>\n",
       "      <th>0</th>\n",
       "      <td>John Smith</td>\n",
       "      <td>-</td>\n",
       "      <td>2</td>\n",
       "    </tr>\n",
       "    <tr>\n",
       "      <th>1</th>\n",
       "      <td>Jane Doe</td>\n",
       "      <td>16</td>\n",
       "      <td>11</td>\n",
       "    </tr>\n",
       "    <tr>\n",
       "      <th>2</th>\n",
       "      <td>Mary Johnson</td>\n",
       "      <td>3</td>\n",
       "      <td>1</td>\n",
       "    </tr>\n",
       "  </tbody>\n",
       "</table>\n",
       "</div>"
      ],
      "text/plain": [
       "           name treatmenta  treatmentb\n",
       "0    John Smith          -           2\n",
       "1      Jane Doe         16          11\n",
       "2  Mary Johnson          3           1"
      ]
     },
     "execution_count": 4,
     "metadata": {},
     "output_type": "execute_result"
    }
   ],
   "source": [
    "df_list[0]"
   ]
  },
  {
   "cell_type": "code",
   "execution_count": 5,
   "id": "3bf8ddaa",
   "metadata": {},
   "outputs": [
    {
     "data": {
      "text/html": [
       "<div>\n",
       "<style scoped>\n",
       "    .dataframe tbody tr th:only-of-type {\n",
       "        vertical-align: middle;\n",
       "    }\n",
       "\n",
       "    .dataframe tbody tr th {\n",
       "        vertical-align: top;\n",
       "    }\n",
       "\n",
       "    .dataframe thead th {\n",
       "        text-align: right;\n",
       "    }\n",
       "</style>\n",
       "<table border=\"1\" class=\"dataframe\">\n",
       "  <thead>\n",
       "    <tr style=\"text-align: right;\">\n",
       "      <th></th>\n",
       "      <th>intervention</th>\n",
       "      <th>John Smith</th>\n",
       "      <th>Jane Doe</th>\n",
       "      <th>Mary Johnson</th>\n",
       "    </tr>\n",
       "  </thead>\n",
       "  <tbody>\n",
       "    <tr>\n",
       "      <th>0</th>\n",
       "      <td>treatmenta</td>\n",
       "      <td>-</td>\n",
       "      <td>16</td>\n",
       "      <td>3</td>\n",
       "    </tr>\n",
       "    <tr>\n",
       "      <th>1</th>\n",
       "      <td>treatmentb</td>\n",
       "      <td>2</td>\n",
       "      <td>11</td>\n",
       "      <td>1</td>\n",
       "    </tr>\n",
       "  </tbody>\n",
       "</table>\n",
       "</div>"
      ],
      "text/plain": [
       "  intervention John Smith  Jane Doe  Mary Johnson\n",
       "0   treatmenta          -        16             3\n",
       "1   treatmentb          2        11             1"
      ]
     },
     "execution_count": 5,
     "metadata": {},
     "output_type": "execute_result"
    }
   ],
   "source": [
    "df_list[1]"
   ]
  },
  {
   "cell_type": "code",
   "execution_count": 6,
   "id": "a71d44ec",
   "metadata": {},
   "outputs": [
    {
     "data": {
      "text/html": [
       "<div>\n",
       "<style scoped>\n",
       "    .dataframe tbody tr th:only-of-type {\n",
       "        vertical-align: middle;\n",
       "    }\n",
       "\n",
       "    .dataframe tbody tr th {\n",
       "        vertical-align: top;\n",
       "    }\n",
       "\n",
       "    .dataframe thead th {\n",
       "        text-align: right;\n",
       "    }\n",
       "</style>\n",
       "<table border=\"1\" class=\"dataframe\">\n",
       "  <thead>\n",
       "    <tr style=\"text-align: right;\">\n",
       "      <th></th>\n",
       "      <th>person</th>\n",
       "      <th>treatment</th>\n",
       "      <th>result</th>\n",
       "    </tr>\n",
       "  </thead>\n",
       "  <tbody>\n",
       "    <tr>\n",
       "      <th>0</th>\n",
       "      <td>John Smith</td>\n",
       "      <td>a</td>\n",
       "      <td>-</td>\n",
       "    </tr>\n",
       "    <tr>\n",
       "      <th>1</th>\n",
       "      <td>Jane Doe</td>\n",
       "      <td>a</td>\n",
       "      <td>16</td>\n",
       "    </tr>\n",
       "    <tr>\n",
       "      <th>2</th>\n",
       "      <td>Mary Johnson</td>\n",
       "      <td>a</td>\n",
       "      <td>3</td>\n",
       "    </tr>\n",
       "    <tr>\n",
       "      <th>3</th>\n",
       "      <td>John Smith</td>\n",
       "      <td>b</td>\n",
       "      <td>2</td>\n",
       "    </tr>\n",
       "    <tr>\n",
       "      <th>4</th>\n",
       "      <td>Jane Doe</td>\n",
       "      <td>b</td>\n",
       "      <td>11</td>\n",
       "    </tr>\n",
       "    <tr>\n",
       "      <th>5</th>\n",
       "      <td>Mary Johnson</td>\n",
       "      <td>b</td>\n",
       "      <td>1</td>\n",
       "    </tr>\n",
       "  </tbody>\n",
       "</table>\n",
       "</div>"
      ],
      "text/plain": [
       "         person treatment result\n",
       "0    John Smith         a      -\n",
       "1      Jane Doe         a     16\n",
       "2  Mary Johnson         a      3\n",
       "3    John Smith         b      2\n",
       "4      Jane Doe         b     11\n",
       "5  Mary Johnson         b      1"
      ]
     },
     "execution_count": 6,
     "metadata": {},
     "output_type": "execute_result"
    }
   ],
   "source": [
    "df_list[2]"
   ]
  },
  {
   "cell_type": "markdown",
   "id": "3b3314f2",
   "metadata": {},
   "source": [
    "These three all show the same data, but let's say we have two goals:\n",
    "- find the average  effect per person across treatments\n",
    "- find the average effect per treatment across people\n",
    "\n",
    "This works differently for these three versions."
   ]
  },
  {
   "cell_type": "code",
   "execution_count": 7,
   "id": "42117297",
   "metadata": {},
   "outputs": [
    {
     "name": "stderr",
     "output_type": "stream",
     "text": [
      "/opt/hostedtoolcache/Python/3.7.12/x64/lib/python3.7/site-packages/ipykernel_launcher.py:1: FutureWarning: Dropping of nuisance columns in DataFrame reductions (with 'numeric_only=None') is deprecated; in a future version this will raise TypeError.  Select only valid columns before calling the reduction.\n",
      "  \"\"\"Entry point for launching an IPython kernel.\n"
     ]
    },
    {
     "data": {
      "text/plain": [
       "treatmenta   -54.333333\n",
       "treatmentb     4.666667\n",
       "dtype: float64"
      ]
     },
     "execution_count": 7,
     "metadata": {},
     "output_type": "execute_result"
    }
   ],
   "source": [
    "df_list[0].mean()"
   ]
  },
  {
   "cell_type": "markdown",
   "id": "feca6646",
   "metadata": {},
   "source": [
    "we get the average per treatment, but to get the average per person, we have to go across rows, which we can do here, but doesn't work as well with plotting"
   ]
  },
  {
   "cell_type": "code",
   "execution_count": 8,
   "id": "35a8833f",
   "metadata": {},
   "outputs": [
    {
     "name": "stderr",
     "output_type": "stream",
     "text": [
      "/opt/hostedtoolcache/Python/3.7.12/x64/lib/python3.7/site-packages/ipykernel_launcher.py:1: FutureWarning: Dropping of nuisance columns in DataFrame reductions (with 'numeric_only=None') is deprecated; in a future version this will raise TypeError.  Select only valid columns before calling the reduction.\n",
      "  \"\"\"Entry point for launching an IPython kernel.\n"
     ]
    },
    {
     "data": {
      "text/plain": [
       "0     2.0\n",
       "1    11.0\n",
       "2     1.0\n",
       "dtype: float64"
      ]
     },
     "execution_count": 8,
     "metadata": {},
     "output_type": "execute_result"
    }
   ],
   "source": [
    "df_list[0].mean(axis=1)"
   ]
  },
  {
   "cell_type": "markdown",
   "id": "755c972d",
   "metadata": {},
   "source": [
    "and this is not well labeled.\n",
    "\n",
    "Let's try the next one."
   ]
  },
  {
   "cell_type": "code",
   "execution_count": 9,
   "id": "b6fc7dec",
   "metadata": {},
   "outputs": [
    {
     "name": "stderr",
     "output_type": "stream",
     "text": [
      "/opt/hostedtoolcache/Python/3.7.12/x64/lib/python3.7/site-packages/ipykernel_launcher.py:1: FutureWarning: Dropping of nuisance columns in DataFrame reductions (with 'numeric_only=None') is deprecated; in a future version this will raise TypeError.  Select only valid columns before calling the reduction.\n",
      "  \"\"\"Entry point for launching an IPython kernel.\n"
     ]
    },
    {
     "data": {
      "text/plain": [
       "John Smith      -1.0\n",
       "Jane Doe        13.5\n",
       "Mary Johnson     2.0\n",
       "dtype: float64"
      ]
     },
     "execution_count": 9,
     "metadata": {},
     "output_type": "execute_result"
    }
   ],
   "source": [
    "df_list[1].mean()"
   ]
  },
  {
   "cell_type": "markdown",
   "id": "7baa8e0d",
   "metadata": {},
   "source": [
    "Now we get the average per person, but what about per treatment? again we have to go across rows instead."
   ]
  },
  {
   "cell_type": "code",
   "execution_count": 10,
   "id": "2113f194",
   "metadata": {},
   "outputs": [
    {
     "name": "stderr",
     "output_type": "stream",
     "text": [
      "/opt/hostedtoolcache/Python/3.7.12/x64/lib/python3.7/site-packages/ipykernel_launcher.py:1: FutureWarning: Dropping of nuisance columns in DataFrame reductions (with 'numeric_only=None') is deprecated; in a future version this will raise TypeError.  Select only valid columns before calling the reduction.\n",
      "  \"\"\"Entry point for launching an IPython kernel.\n"
     ]
    },
    {
     "data": {
      "text/plain": [
       "0    9.5\n",
       "1    6.0\n",
       "dtype: float64"
      ]
     },
     "execution_count": 10,
     "metadata": {},
     "output_type": "execute_result"
    }
   ],
   "source": [
    "df_list[1].mean(axis=1)"
   ]
  },
  {
   "cell_type": "markdown",
   "id": "70ba9bd9",
   "metadata": {},
   "source": [
    "For the third one, however, we can use groupby"
   ]
  },
  {
   "cell_type": "code",
   "execution_count": 11,
   "id": "183cc1a1",
   "metadata": {},
   "outputs": [
    {
     "name": "stderr",
     "output_type": "stream",
     "text": [
      "/opt/hostedtoolcache/Python/3.7.12/x64/lib/python3.7/site-packages/IPython/core/interactiveshell.py:3444: FutureWarning: Dropping invalid columns in DataFrameGroupBy.mean is deprecated. In a future version, a TypeError will be raised. Before calling .mean, select only columns which should be valid for the function.\n",
      "  exec(code_obj, self.user_global_ns, self.user_ns)\n"
     ]
    },
    {
     "data": {
      "text/html": [
       "<div>\n",
       "<style scoped>\n",
       "    .dataframe tbody tr th:only-of-type {\n",
       "        vertical-align: middle;\n",
       "    }\n",
       "\n",
       "    .dataframe tbody tr th {\n",
       "        vertical-align: top;\n",
       "    }\n",
       "\n",
       "    .dataframe thead th {\n",
       "        text-align: right;\n",
       "    }\n",
       "</style>\n",
       "<table border=\"1\" class=\"dataframe\">\n",
       "  <thead>\n",
       "    <tr style=\"text-align: right;\">\n",
       "      <th></th>\n",
       "      <th>result</th>\n",
       "    </tr>\n",
       "    <tr>\n",
       "      <th>person</th>\n",
       "      <th></th>\n",
       "    </tr>\n",
       "  </thead>\n",
       "  <tbody>\n",
       "    <tr>\n",
       "      <th>Jane Doe</th>\n",
       "      <td>805.5</td>\n",
       "    </tr>\n",
       "    <tr>\n",
       "      <th>John Smith</th>\n",
       "      <td>-1.0</td>\n",
       "    </tr>\n",
       "    <tr>\n",
       "      <th>Mary Johnson</th>\n",
       "      <td>15.5</td>\n",
       "    </tr>\n",
       "  </tbody>\n",
       "</table>\n",
       "</div>"
      ],
      "text/plain": [
       "              result\n",
       "person              \n",
       "Jane Doe       805.5\n",
       "John Smith      -1.0\n",
       "Mary Johnson    15.5"
      ]
     },
     "execution_count": 11,
     "metadata": {},
     "output_type": "execute_result"
    }
   ],
   "source": [
    "df_list[2].groupby('person').mean()"
   ]
  },
  {
   "cell_type": "code",
   "execution_count": 12,
   "id": "5e33b851",
   "metadata": {},
   "outputs": [
    {
     "name": "stderr",
     "output_type": "stream",
     "text": [
      "/opt/hostedtoolcache/Python/3.7.12/x64/lib/python3.7/site-packages/IPython/core/interactiveshell.py:3444: FutureWarning: Dropping invalid columns in DataFrameGroupBy.mean is deprecated. In a future version, a TypeError will be raised. Before calling .mean, select only columns which should be valid for the function.\n",
      "  exec(code_obj, self.user_global_ns, self.user_ns)\n"
     ]
    },
    {
     "data": {
      "text/html": [
       "<div>\n",
       "<style scoped>\n",
       "    .dataframe tbody tr th:only-of-type {\n",
       "        vertical-align: middle;\n",
       "    }\n",
       "\n",
       "    .dataframe tbody tr th {\n",
       "        vertical-align: top;\n",
       "    }\n",
       "\n",
       "    .dataframe thead th {\n",
       "        text-align: right;\n",
       "    }\n",
       "</style>\n",
       "<table border=\"1\" class=\"dataframe\">\n",
       "  <thead>\n",
       "    <tr style=\"text-align: right;\">\n",
       "      <th></th>\n",
       "      <th>result</th>\n",
       "    </tr>\n",
       "    <tr>\n",
       "      <th>treatment</th>\n",
       "      <th></th>\n",
       "    </tr>\n",
       "  </thead>\n",
       "  <tbody>\n",
       "    <tr>\n",
       "      <th>a</th>\n",
       "      <td>-54.333333</td>\n",
       "    </tr>\n",
       "    <tr>\n",
       "      <th>b</th>\n",
       "      <td>703.666667</td>\n",
       "    </tr>\n",
       "  </tbody>\n",
       "</table>\n",
       "</div>"
      ],
      "text/plain": [
       "               result\n",
       "treatment            \n",
       "a          -54.333333\n",
       "b          703.666667"
      ]
     },
     "execution_count": 12,
     "metadata": {},
     "output_type": "execute_result"
    }
   ],
   "source": [
    "df_list[2].groupby('treatment').mean()"
   ]
  },
  {
   "cell_type": "markdown",
   "id": "561e08b8",
   "metadata": {},
   "source": [
    "The original [Tidy Data](https://www.jstatsoft.org/article/view/v059i10) paper is worth reading to build a deeper understanding of these ideas.  \n",
    "\n",
    "## Tidying Data\n",
    "\n",
    "\n",
    "Let's reshape the first one to match the tidy one. First, we\n",
    "will save it to a DataFrame, this makes things easier to read\n",
    "and enables us to use the built in help in jupyter, because it can't check types too many levels into a data structure."
   ]
  },
  {
   "cell_type": "code",
   "execution_count": 13,
   "id": "606a31d6",
   "metadata": {},
   "outputs": [],
   "source": [
    "treat_df = df_list[0]"
   ]
  },
  {
   "cell_type": "markdown",
   "id": "4d29b3dc",
   "metadata": {},
   "source": [
    "Let's look at it again, so we can see"
   ]
  },
  {
   "cell_type": "code",
   "execution_count": 14,
   "id": "c89a6453",
   "metadata": {},
   "outputs": [
    {
     "data": {
      "text/html": [
       "<div>\n",
       "<style scoped>\n",
       "    .dataframe tbody tr th:only-of-type {\n",
       "        vertical-align: middle;\n",
       "    }\n",
       "\n",
       "    .dataframe tbody tr th {\n",
       "        vertical-align: top;\n",
       "    }\n",
       "\n",
       "    .dataframe thead th {\n",
       "        text-align: right;\n",
       "    }\n",
       "</style>\n",
       "<table border=\"1\" class=\"dataframe\">\n",
       "  <thead>\n",
       "    <tr style=\"text-align: right;\">\n",
       "      <th></th>\n",
       "      <th>name</th>\n",
       "      <th>treatmenta</th>\n",
       "      <th>treatmentb</th>\n",
       "    </tr>\n",
       "  </thead>\n",
       "  <tbody>\n",
       "    <tr>\n",
       "      <th>0</th>\n",
       "      <td>John Smith</td>\n",
       "      <td>-</td>\n",
       "      <td>2</td>\n",
       "    </tr>\n",
       "    <tr>\n",
       "      <th>1</th>\n",
       "      <td>Jane Doe</td>\n",
       "      <td>16</td>\n",
       "      <td>11</td>\n",
       "    </tr>\n",
       "    <tr>\n",
       "      <th>2</th>\n",
       "      <td>Mary Johnson</td>\n",
       "      <td>3</td>\n",
       "      <td>1</td>\n",
       "    </tr>\n",
       "  </tbody>\n",
       "</table>\n",
       "</div>"
      ],
      "text/plain": [
       "           name treatmenta  treatmentb\n",
       "0    John Smith          -           2\n",
       "1      Jane Doe         16          11\n",
       "2  Mary Johnson          3           1"
      ]
     },
     "execution_count": 14,
     "metadata": {},
     "output_type": "execute_result"
    }
   ],
   "source": [
    "treat_df.head()"
   ]
  },
  {
   "cell_type": "markdown",
   "id": "a0f4b558",
   "metadata": {},
   "source": [
    "```{admonition} Correction\n",
    "I fixed the three data files so the spaces can be removed. You will need to\n",
    "```"
   ]
  },
  {
   "cell_type": "code",
   "execution_count": 15,
   "id": "25fdb89b",
   "metadata": {},
   "outputs": [
    {
     "data": {
      "text/html": [
       "<div>\n",
       "<style scoped>\n",
       "    .dataframe tbody tr th:only-of-type {\n",
       "        vertical-align: middle;\n",
       "    }\n",
       "\n",
       "    .dataframe tbody tr th {\n",
       "        vertical-align: top;\n",
       "    }\n",
       "\n",
       "    .dataframe thead th {\n",
       "        text-align: right;\n",
       "    }\n",
       "</style>\n",
       "<table border=\"1\" class=\"dataframe\">\n",
       "  <thead>\n",
       "    <tr style=\"text-align: right;\">\n",
       "      <th></th>\n",
       "      <th>name</th>\n",
       "      <th>treatment</th>\n",
       "      <th>result</th>\n",
       "    </tr>\n",
       "  </thead>\n",
       "  <tbody>\n",
       "    <tr>\n",
       "      <th>0</th>\n",
       "      <td>John Smith</td>\n",
       "      <td>treatmenta</td>\n",
       "      <td>-</td>\n",
       "    </tr>\n",
       "    <tr>\n",
       "      <th>1</th>\n",
       "      <td>Jane Doe</td>\n",
       "      <td>treatmenta</td>\n",
       "      <td>16</td>\n",
       "    </tr>\n",
       "    <tr>\n",
       "      <th>2</th>\n",
       "      <td>Mary Johnson</td>\n",
       "      <td>treatmenta</td>\n",
       "      <td>3</td>\n",
       "    </tr>\n",
       "    <tr>\n",
       "      <th>3</th>\n",
       "      <td>John Smith</td>\n",
       "      <td>treatmentb</td>\n",
       "      <td>2</td>\n",
       "    </tr>\n",
       "    <tr>\n",
       "      <th>4</th>\n",
       "      <td>Jane Doe</td>\n",
       "      <td>treatmentb</td>\n",
       "      <td>11</td>\n",
       "    </tr>\n",
       "    <tr>\n",
       "      <th>5</th>\n",
       "      <td>Mary Johnson</td>\n",
       "      <td>treatmentb</td>\n",
       "      <td>1</td>\n",
       "    </tr>\n",
       "  </tbody>\n",
       "</table>\n",
       "</div>"
      ],
      "text/plain": [
       "           name   treatment result\n",
       "0    John Smith  treatmenta      -\n",
       "1      Jane Doe  treatmenta     16\n",
       "2  Mary Johnson  treatmenta      3\n",
       "3    John Smith  treatmentb      2\n",
       "4      Jane Doe  treatmentb     11\n",
       "5  Mary Johnson  treatmentb      1"
      ]
     },
     "execution_count": 15,
     "metadata": {},
     "output_type": "execute_result"
    }
   ],
   "source": [
    "treat_df.melt(value_vars = ['treatmenta','treatmentb'],\n",
    "             id_vars = ['name'],\n",
    "             value_name = 'result', var_name = 'treatment' )"
   ]
  },
  {
   "cell_type": "code",
   "execution_count": 16,
   "id": "992f9ec8",
   "metadata": {},
   "outputs": [],
   "source": [
    "tidy_treat_df = treat_df.melt(value_vars = ['treatmenta','treatmentb'],\n",
    "             id_vars = ['name'],\n",
    "             value_name = 'result', var_name = 'treatment' )"
   ]
  },
  {
   "cell_type": "code",
   "execution_count": 17,
   "id": "a05c7b67",
   "metadata": {},
   "outputs": [
    {
     "name": "stderr",
     "output_type": "stream",
     "text": [
      "/opt/hostedtoolcache/Python/3.7.12/x64/lib/python3.7/site-packages/IPython/core/interactiveshell.py:3444: FutureWarning: Dropping invalid columns in DataFrameGroupBy.mean is deprecated. In a future version, a TypeError will be raised. Before calling .mean, select only columns which should be valid for the function.\n",
      "  exec(code_obj, self.user_global_ns, self.user_ns)\n"
     ]
    },
    {
     "data": {
      "text/html": [
       "<div>\n",
       "<style scoped>\n",
       "    .dataframe tbody tr th:only-of-type {\n",
       "        vertical-align: middle;\n",
       "    }\n",
       "\n",
       "    .dataframe tbody tr th {\n",
       "        vertical-align: top;\n",
       "    }\n",
       "\n",
       "    .dataframe thead th {\n",
       "        text-align: right;\n",
       "    }\n",
       "</style>\n",
       "<table border=\"1\" class=\"dataframe\">\n",
       "  <thead>\n",
       "    <tr style=\"text-align: right;\">\n",
       "      <th></th>\n",
       "    </tr>\n",
       "    <tr>\n",
       "      <th>name</th>\n",
       "    </tr>\n",
       "  </thead>\n",
       "  <tbody>\n",
       "    <tr>\n",
       "      <th>Jane Doe</th>\n",
       "    </tr>\n",
       "    <tr>\n",
       "      <th>John Smith</th>\n",
       "    </tr>\n",
       "    <tr>\n",
       "      <th>Mary Johnson</th>\n",
       "    </tr>\n",
       "  </tbody>\n",
       "</table>\n",
       "</div>"
      ],
      "text/plain": [
       "Empty DataFrame\n",
       "Columns: []\n",
       "Index: [Jane Doe, John Smith, Mary Johnson]"
      ]
     },
     "execution_count": 17,
     "metadata": {},
     "output_type": "execute_result"
    }
   ],
   "source": [
    "tidy_treat_df.groupby('name').mean()"
   ]
  },
  {
   "cell_type": "markdown",
   "id": "5b5768a2",
   "metadata": {},
   "source": [
    "## Filtering Data by a column\n",
    "\n",
    "Let's go back to the coffee dataset"
   ]
  },
  {
   "cell_type": "code",
   "execution_count": 18,
   "id": "27ab2c11",
   "metadata": {},
   "outputs": [
    {
     "data": {
      "text/html": [
       "<div>\n",
       "<style scoped>\n",
       "    .dataframe tbody tr th:only-of-type {\n",
       "        vertical-align: middle;\n",
       "    }\n",
       "\n",
       "    .dataframe tbody tr th {\n",
       "        vertical-align: top;\n",
       "    }\n",
       "\n",
       "    .dataframe thead th {\n",
       "        text-align: right;\n",
       "    }\n",
       "</style>\n",
       "<table border=\"1\" class=\"dataframe\">\n",
       "  <thead>\n",
       "    <tr style=\"text-align: right;\">\n",
       "      <th></th>\n",
       "      <th>Species</th>\n",
       "      <th>Owner</th>\n",
       "      <th>Country.of.Origin</th>\n",
       "      <th>Farm.Name</th>\n",
       "      <th>Lot.Number</th>\n",
       "      <th>Mill</th>\n",
       "      <th>ICO.Number</th>\n",
       "      <th>Company</th>\n",
       "      <th>Altitude</th>\n",
       "      <th>Region</th>\n",
       "      <th>...</th>\n",
       "      <th>Color</th>\n",
       "      <th>Category.Two.Defects</th>\n",
       "      <th>Expiration</th>\n",
       "      <th>Certification.Body</th>\n",
       "      <th>Certification.Address</th>\n",
       "      <th>Certification.Contact</th>\n",
       "      <th>unit_of_measurement</th>\n",
       "      <th>altitude_low_meters</th>\n",
       "      <th>altitude_high_meters</th>\n",
       "      <th>altitude_mean_meters</th>\n",
       "    </tr>\n",
       "  </thead>\n",
       "  <tbody>\n",
       "    <tr>\n",
       "      <th>1</th>\n",
       "      <td>Arabica</td>\n",
       "      <td>metad plc</td>\n",
       "      <td>Ethiopia</td>\n",
       "      <td>metad plc</td>\n",
       "      <td>NaN</td>\n",
       "      <td>metad plc</td>\n",
       "      <td>2014/2015</td>\n",
       "      <td>metad agricultural developmet plc</td>\n",
       "      <td>1950-2200</td>\n",
       "      <td>guji-hambela</td>\n",
       "      <td>...</td>\n",
       "      <td>Green</td>\n",
       "      <td>0</td>\n",
       "      <td>April 3rd, 2016</td>\n",
       "      <td>METAD Agricultural Development plc</td>\n",
       "      <td>309fcf77415a3661ae83e027f7e5f05dad786e44</td>\n",
       "      <td>19fef5a731de2db57d16da10287413f5f99bc2dd</td>\n",
       "      <td>m</td>\n",
       "      <td>1950.0</td>\n",
       "      <td>2200.0</td>\n",
       "      <td>2075.0</td>\n",
       "    </tr>\n",
       "    <tr>\n",
       "      <th>2</th>\n",
       "      <td>Arabica</td>\n",
       "      <td>metad plc</td>\n",
       "      <td>Ethiopia</td>\n",
       "      <td>metad plc</td>\n",
       "      <td>NaN</td>\n",
       "      <td>metad plc</td>\n",
       "      <td>2014/2015</td>\n",
       "      <td>metad agricultural developmet plc</td>\n",
       "      <td>1950-2200</td>\n",
       "      <td>guji-hambela</td>\n",
       "      <td>...</td>\n",
       "      <td>Green</td>\n",
       "      <td>1</td>\n",
       "      <td>April 3rd, 2016</td>\n",
       "      <td>METAD Agricultural Development plc</td>\n",
       "      <td>309fcf77415a3661ae83e027f7e5f05dad786e44</td>\n",
       "      <td>19fef5a731de2db57d16da10287413f5f99bc2dd</td>\n",
       "      <td>m</td>\n",
       "      <td>1950.0</td>\n",
       "      <td>2200.0</td>\n",
       "      <td>2075.0</td>\n",
       "    </tr>\n",
       "    <tr>\n",
       "      <th>3</th>\n",
       "      <td>Arabica</td>\n",
       "      <td>grounds for health admin</td>\n",
       "      <td>Guatemala</td>\n",
       "      <td>san marcos barrancas \"san cristobal cuch</td>\n",
       "      <td>NaN</td>\n",
       "      <td>NaN</td>\n",
       "      <td>NaN</td>\n",
       "      <td>NaN</td>\n",
       "      <td>1600 - 1800 m</td>\n",
       "      <td>NaN</td>\n",
       "      <td>...</td>\n",
       "      <td>NaN</td>\n",
       "      <td>0</td>\n",
       "      <td>May 31st, 2011</td>\n",
       "      <td>Specialty Coffee Association</td>\n",
       "      <td>36d0d00a3724338ba7937c52a378d085f2172daa</td>\n",
       "      <td>0878a7d4b9d35ddbf0fe2ce69a2062cceb45a660</td>\n",
       "      <td>m</td>\n",
       "      <td>1600.0</td>\n",
       "      <td>1800.0</td>\n",
       "      <td>1700.0</td>\n",
       "    </tr>\n",
       "    <tr>\n",
       "      <th>4</th>\n",
       "      <td>Arabica</td>\n",
       "      <td>yidnekachew dabessa</td>\n",
       "      <td>Ethiopia</td>\n",
       "      <td>yidnekachew dabessa coffee plantation</td>\n",
       "      <td>NaN</td>\n",
       "      <td>wolensu</td>\n",
       "      <td>NaN</td>\n",
       "      <td>yidnekachew debessa coffee plantation</td>\n",
       "      <td>1800-2200</td>\n",
       "      <td>oromia</td>\n",
       "      <td>...</td>\n",
       "      <td>Green</td>\n",
       "      <td>2</td>\n",
       "      <td>March 25th, 2016</td>\n",
       "      <td>METAD Agricultural Development plc</td>\n",
       "      <td>309fcf77415a3661ae83e027f7e5f05dad786e44</td>\n",
       "      <td>19fef5a731de2db57d16da10287413f5f99bc2dd</td>\n",
       "      <td>m</td>\n",
       "      <td>1800.0</td>\n",
       "      <td>2200.0</td>\n",
       "      <td>2000.0</td>\n",
       "    </tr>\n",
       "    <tr>\n",
       "      <th>5</th>\n",
       "      <td>Arabica</td>\n",
       "      <td>metad plc</td>\n",
       "      <td>Ethiopia</td>\n",
       "      <td>metad plc</td>\n",
       "      <td>NaN</td>\n",
       "      <td>metad plc</td>\n",
       "      <td>2014/2015</td>\n",
       "      <td>metad agricultural developmet plc</td>\n",
       "      <td>1950-2200</td>\n",
       "      <td>guji-hambela</td>\n",
       "      <td>...</td>\n",
       "      <td>Green</td>\n",
       "      <td>2</td>\n",
       "      <td>April 3rd, 2016</td>\n",
       "      <td>METAD Agricultural Development plc</td>\n",
       "      <td>309fcf77415a3661ae83e027f7e5f05dad786e44</td>\n",
       "      <td>19fef5a731de2db57d16da10287413f5f99bc2dd</td>\n",
       "      <td>m</td>\n",
       "      <td>1950.0</td>\n",
       "      <td>2200.0</td>\n",
       "      <td>2075.0</td>\n",
       "    </tr>\n",
       "  </tbody>\n",
       "</table>\n",
       "<p>5 rows × 43 columns</p>\n",
       "</div>"
      ],
      "text/plain": [
       "   Species                     Owner Country.of.Origin  \\\n",
       "1  Arabica                 metad plc          Ethiopia   \n",
       "2  Arabica                 metad plc          Ethiopia   \n",
       "3  Arabica  grounds for health admin         Guatemala   \n",
       "4  Arabica       yidnekachew dabessa          Ethiopia   \n",
       "5  Arabica                 metad plc          Ethiopia   \n",
       "\n",
       "                                  Farm.Name Lot.Number       Mill ICO.Number  \\\n",
       "1                                 metad plc        NaN  metad plc  2014/2015   \n",
       "2                                 metad plc        NaN  metad plc  2014/2015   \n",
       "3  san marcos barrancas \"san cristobal cuch        NaN        NaN        NaN   \n",
       "4     yidnekachew dabessa coffee plantation        NaN    wolensu        NaN   \n",
       "5                                 metad plc        NaN  metad plc  2014/2015   \n",
       "\n",
       "                                 Company       Altitude        Region  ...  \\\n",
       "1      metad agricultural developmet plc      1950-2200  guji-hambela  ...   \n",
       "2      metad agricultural developmet plc      1950-2200  guji-hambela  ...   \n",
       "3                                    NaN  1600 - 1800 m           NaN  ...   \n",
       "4  yidnekachew debessa coffee plantation      1800-2200        oromia  ...   \n",
       "5      metad agricultural developmet plc      1950-2200  guji-hambela  ...   \n",
       "\n",
       "   Color  Category.Two.Defects        Expiration  \\\n",
       "1  Green                     0   April 3rd, 2016   \n",
       "2  Green                     1   April 3rd, 2016   \n",
       "3    NaN                     0    May 31st, 2011   \n",
       "4  Green                     2  March 25th, 2016   \n",
       "5  Green                     2   April 3rd, 2016   \n",
       "\n",
       "                   Certification.Body  \\\n",
       "1  METAD Agricultural Development plc   \n",
       "2  METAD Agricultural Development plc   \n",
       "3        Specialty Coffee Association   \n",
       "4  METAD Agricultural Development plc   \n",
       "5  METAD Agricultural Development plc   \n",
       "\n",
       "                      Certification.Address  \\\n",
       "1  309fcf77415a3661ae83e027f7e5f05dad786e44   \n",
       "2  309fcf77415a3661ae83e027f7e5f05dad786e44   \n",
       "3  36d0d00a3724338ba7937c52a378d085f2172daa   \n",
       "4  309fcf77415a3661ae83e027f7e5f05dad786e44   \n",
       "5  309fcf77415a3661ae83e027f7e5f05dad786e44   \n",
       "\n",
       "                      Certification.Contact unit_of_measurement  \\\n",
       "1  19fef5a731de2db57d16da10287413f5f99bc2dd                   m   \n",
       "2  19fef5a731de2db57d16da10287413f5f99bc2dd                   m   \n",
       "3  0878a7d4b9d35ddbf0fe2ce69a2062cceb45a660                   m   \n",
       "4  19fef5a731de2db57d16da10287413f5f99bc2dd                   m   \n",
       "5  19fef5a731de2db57d16da10287413f5f99bc2dd                   m   \n",
       "\n",
       "  altitude_low_meters altitude_high_meters  altitude_mean_meters  \n",
       "1              1950.0               2200.0                2075.0  \n",
       "2              1950.0               2200.0                2075.0  \n",
       "3              1600.0               1800.0                1700.0  \n",
       "4              1800.0               2200.0                2000.0  \n",
       "5              1950.0               2200.0                2075.0  \n",
       "\n",
       "[5 rows x 43 columns]"
      ]
     },
     "execution_count": 18,
     "metadata": {},
     "output_type": "execute_result"
    }
   ],
   "source": [
    "coffee_df = pd.read_csv(arabica_data_url, index_col = 0)\n",
    "coffee_df.head()"
   ]
  },
  {
   "cell_type": "markdown",
   "id": "5baaf9a3",
   "metadata": {},
   "source": [
    "Recall on Friday we computed the total number of bags per country."
   ]
  },
  {
   "cell_type": "code",
   "execution_count": 19,
   "id": "e3a2d607",
   "metadata": {},
   "outputs": [],
   "source": [
    "# compute total bags per country\n",
    "bag_total_df = coffee_df.groupby('Country.of.Origin')['Number.of.Bags'].sum()"
   ]
  },
  {
   "cell_type": "markdown",
   "id": "3c229e68",
   "metadata": {},
   "source": [
    "We can subset this to get only the countries with over 15000 using a boolean mask:"
   ]
  },
  {
   "cell_type": "code",
   "execution_count": 20,
   "id": "fe91b8b7",
   "metadata": {},
   "outputs": [
    {
     "data": {
      "text/plain": [
       "Country.of.Origin\n",
       "Brazil       30534\n",
       "Colombia     41204\n",
       "Guatemala    36868\n",
       "Mexico       24140\n",
       "Name: Number.of.Bags, dtype: int64"
      ]
     },
     "execution_count": 20,
     "metadata": {},
     "output_type": "execute_result"
    }
   ],
   "source": [
    "bag_total_df[bag_total_df>15000]"
   ]
  },
  {
   "cell_type": "markdown",
   "id": "49e80ec9",
   "metadata": {},
   "source": [
    "what we put in the `[]` has to be the same length and each element has to be boolean"
   ]
  },
  {
   "cell_type": "code",
   "execution_count": 21,
   "id": "16038e37",
   "metadata": {},
   "outputs": [
    {
     "data": {
      "text/plain": [
       "36"
      ]
     },
     "execution_count": 21,
     "metadata": {},
     "output_type": "execute_result"
    }
   ],
   "source": [
    "len(bag_total_df>15000)"
   ]
  },
  {
   "cell_type": "code",
   "execution_count": 22,
   "id": "36ad5981",
   "metadata": {},
   "outputs": [
    {
     "data": {
      "text/plain": [
       "numpy.bool_"
      ]
     },
     "execution_count": 22,
     "metadata": {},
     "output_type": "execute_result"
    }
   ],
   "source": [
    "mask = bag_total_df>15000\n",
    "type(mask[0])"
   ]
  },
  {
   "cell_type": "markdown",
   "id": "340e060e",
   "metadata": {},
   "source": [
    "## Augmenting a dataset\n",
    "\n",
    "We want the names of the countries as a list, so we extract the index of that series and then cast it to a list."
   ]
  },
  {
   "cell_type": "code",
   "execution_count": 23,
   "id": "a77c0dd5",
   "metadata": {},
   "outputs": [],
   "source": [
    "high_prod_countries =  list(bag_total_df[bag_total_df>15000].index)"
   ]
  },
  {
   "cell_type": "markdown",
   "id": "5a868e28",
   "metadata": {},
   "source": [
    "Next we want to be able to check if a country is in this list, so we'll make a lambda that can do that"
   ]
  },
  {
   "cell_type": "code",
   "execution_count": 24,
   "id": "9c0b47cd",
   "metadata": {},
   "outputs": [],
   "source": [
    "high_prod = lambda c: c in high_prod_countries"
   ]
  },
  {
   "cell_type": "markdown",
   "id": "e0f9e8b2",
   "metadata": {},
   "source": [
    "Recall, the `lambda` keyword makes a function"
   ]
  },
  {
   "cell_type": "code",
   "execution_count": 25,
   "id": "3bd10e22",
   "metadata": {},
   "outputs": [
    {
     "data": {
      "text/plain": [
       "function"
      ]
     },
     "execution_count": 25,
     "metadata": {},
     "output_type": "execute_result"
    }
   ],
   "source": [
    "type(high_prod)"
   ]
  },
  {
   "cell_type": "markdown",
   "id": "396ce1ec",
   "metadata": {},
   "source": [
    "We can test it"
   ]
  },
  {
   "cell_type": "code",
   "execution_count": 26,
   "id": "0a3136dc",
   "metadata": {},
   "outputs": [
    {
     "data": {
      "text/plain": [
       "(True, False)"
      ]
     },
     "execution_count": 26,
     "metadata": {},
     "output_type": "execute_result"
    }
   ],
   "source": [
    "high_prod('Mexico'), high_prod('Ethiopa')"
   ]
  },
  {
   "cell_type": "markdown",
   "id": "57f375af",
   "metadata": {},
   "source": [
    "Now, we can apply that lambda function to each country in our whole coffee data frame. and save that to a new DataFrame."
   ]
  },
  {
   "cell_type": "code",
   "execution_count": 27,
   "id": "9bb67b44",
   "metadata": {},
   "outputs": [],
   "source": [
    "coffee_df['high_production'] = coffee_df['Country.of.Origin'].apply(high_prod)"
   ]
  },
  {
   "cell_type": "code",
   "execution_count": 28,
   "id": "686e1d05",
   "metadata": {},
   "outputs": [
    {
     "data": {
      "text/html": [
       "<div>\n",
       "<style scoped>\n",
       "    .dataframe tbody tr th:only-of-type {\n",
       "        vertical-align: middle;\n",
       "    }\n",
       "\n",
       "    .dataframe tbody tr th {\n",
       "        vertical-align: top;\n",
       "    }\n",
       "\n",
       "    .dataframe thead th {\n",
       "        text-align: right;\n",
       "    }\n",
       "</style>\n",
       "<table border=\"1\" class=\"dataframe\">\n",
       "  <thead>\n",
       "    <tr style=\"text-align: right;\">\n",
       "      <th></th>\n",
       "      <th>Species</th>\n",
       "      <th>Owner</th>\n",
       "      <th>Country.of.Origin</th>\n",
       "      <th>Farm.Name</th>\n",
       "      <th>Lot.Number</th>\n",
       "      <th>Mill</th>\n",
       "      <th>ICO.Number</th>\n",
       "      <th>Company</th>\n",
       "      <th>Altitude</th>\n",
       "      <th>Region</th>\n",
       "      <th>...</th>\n",
       "      <th>Category.Two.Defects</th>\n",
       "      <th>Expiration</th>\n",
       "      <th>Certification.Body</th>\n",
       "      <th>Certification.Address</th>\n",
       "      <th>Certification.Contact</th>\n",
       "      <th>unit_of_measurement</th>\n",
       "      <th>altitude_low_meters</th>\n",
       "      <th>altitude_high_meters</th>\n",
       "      <th>altitude_mean_meters</th>\n",
       "      <th>high_production</th>\n",
       "    </tr>\n",
       "  </thead>\n",
       "  <tbody>\n",
       "    <tr>\n",
       "      <th>1</th>\n",
       "      <td>Arabica</td>\n",
       "      <td>metad plc</td>\n",
       "      <td>Ethiopia</td>\n",
       "      <td>metad plc</td>\n",
       "      <td>NaN</td>\n",
       "      <td>metad plc</td>\n",
       "      <td>2014/2015</td>\n",
       "      <td>metad agricultural developmet plc</td>\n",
       "      <td>1950-2200</td>\n",
       "      <td>guji-hambela</td>\n",
       "      <td>...</td>\n",
       "      <td>0</td>\n",
       "      <td>April 3rd, 2016</td>\n",
       "      <td>METAD Agricultural Development plc</td>\n",
       "      <td>309fcf77415a3661ae83e027f7e5f05dad786e44</td>\n",
       "      <td>19fef5a731de2db57d16da10287413f5f99bc2dd</td>\n",
       "      <td>m</td>\n",
       "      <td>1950.0</td>\n",
       "      <td>2200.0</td>\n",
       "      <td>2075.0</td>\n",
       "      <td>False</td>\n",
       "    </tr>\n",
       "    <tr>\n",
       "      <th>2</th>\n",
       "      <td>Arabica</td>\n",
       "      <td>metad plc</td>\n",
       "      <td>Ethiopia</td>\n",
       "      <td>metad plc</td>\n",
       "      <td>NaN</td>\n",
       "      <td>metad plc</td>\n",
       "      <td>2014/2015</td>\n",
       "      <td>metad agricultural developmet plc</td>\n",
       "      <td>1950-2200</td>\n",
       "      <td>guji-hambela</td>\n",
       "      <td>...</td>\n",
       "      <td>1</td>\n",
       "      <td>April 3rd, 2016</td>\n",
       "      <td>METAD Agricultural Development plc</td>\n",
       "      <td>309fcf77415a3661ae83e027f7e5f05dad786e44</td>\n",
       "      <td>19fef5a731de2db57d16da10287413f5f99bc2dd</td>\n",
       "      <td>m</td>\n",
       "      <td>1950.0</td>\n",
       "      <td>2200.0</td>\n",
       "      <td>2075.0</td>\n",
       "      <td>False</td>\n",
       "    </tr>\n",
       "    <tr>\n",
       "      <th>3</th>\n",
       "      <td>Arabica</td>\n",
       "      <td>grounds for health admin</td>\n",
       "      <td>Guatemala</td>\n",
       "      <td>san marcos barrancas \"san cristobal cuch</td>\n",
       "      <td>NaN</td>\n",
       "      <td>NaN</td>\n",
       "      <td>NaN</td>\n",
       "      <td>NaN</td>\n",
       "      <td>1600 - 1800 m</td>\n",
       "      <td>NaN</td>\n",
       "      <td>...</td>\n",
       "      <td>0</td>\n",
       "      <td>May 31st, 2011</td>\n",
       "      <td>Specialty Coffee Association</td>\n",
       "      <td>36d0d00a3724338ba7937c52a378d085f2172daa</td>\n",
       "      <td>0878a7d4b9d35ddbf0fe2ce69a2062cceb45a660</td>\n",
       "      <td>m</td>\n",
       "      <td>1600.0</td>\n",
       "      <td>1800.0</td>\n",
       "      <td>1700.0</td>\n",
       "      <td>True</td>\n",
       "    </tr>\n",
       "    <tr>\n",
       "      <th>4</th>\n",
       "      <td>Arabica</td>\n",
       "      <td>yidnekachew dabessa</td>\n",
       "      <td>Ethiopia</td>\n",
       "      <td>yidnekachew dabessa coffee plantation</td>\n",
       "      <td>NaN</td>\n",
       "      <td>wolensu</td>\n",
       "      <td>NaN</td>\n",
       "      <td>yidnekachew debessa coffee plantation</td>\n",
       "      <td>1800-2200</td>\n",
       "      <td>oromia</td>\n",
       "      <td>...</td>\n",
       "      <td>2</td>\n",
       "      <td>March 25th, 2016</td>\n",
       "      <td>METAD Agricultural Development plc</td>\n",
       "      <td>309fcf77415a3661ae83e027f7e5f05dad786e44</td>\n",
       "      <td>19fef5a731de2db57d16da10287413f5f99bc2dd</td>\n",
       "      <td>m</td>\n",
       "      <td>1800.0</td>\n",
       "      <td>2200.0</td>\n",
       "      <td>2000.0</td>\n",
       "      <td>False</td>\n",
       "    </tr>\n",
       "    <tr>\n",
       "      <th>5</th>\n",
       "      <td>Arabica</td>\n",
       "      <td>metad plc</td>\n",
       "      <td>Ethiopia</td>\n",
       "      <td>metad plc</td>\n",
       "      <td>NaN</td>\n",
       "      <td>metad plc</td>\n",
       "      <td>2014/2015</td>\n",
       "      <td>metad agricultural developmet plc</td>\n",
       "      <td>1950-2200</td>\n",
       "      <td>guji-hambela</td>\n",
       "      <td>...</td>\n",
       "      <td>2</td>\n",
       "      <td>April 3rd, 2016</td>\n",
       "      <td>METAD Agricultural Development plc</td>\n",
       "      <td>309fcf77415a3661ae83e027f7e5f05dad786e44</td>\n",
       "      <td>19fef5a731de2db57d16da10287413f5f99bc2dd</td>\n",
       "      <td>m</td>\n",
       "      <td>1950.0</td>\n",
       "      <td>2200.0</td>\n",
       "      <td>2075.0</td>\n",
       "      <td>False</td>\n",
       "    </tr>\n",
       "  </tbody>\n",
       "</table>\n",
       "<p>5 rows × 44 columns</p>\n",
       "</div>"
      ],
      "text/plain": [
       "   Species                     Owner Country.of.Origin  \\\n",
       "1  Arabica                 metad plc          Ethiopia   \n",
       "2  Arabica                 metad plc          Ethiopia   \n",
       "3  Arabica  grounds for health admin         Guatemala   \n",
       "4  Arabica       yidnekachew dabessa          Ethiopia   \n",
       "5  Arabica                 metad plc          Ethiopia   \n",
       "\n",
       "                                  Farm.Name Lot.Number       Mill ICO.Number  \\\n",
       "1                                 metad plc        NaN  metad plc  2014/2015   \n",
       "2                                 metad plc        NaN  metad plc  2014/2015   \n",
       "3  san marcos barrancas \"san cristobal cuch        NaN        NaN        NaN   \n",
       "4     yidnekachew dabessa coffee plantation        NaN    wolensu        NaN   \n",
       "5                                 metad plc        NaN  metad plc  2014/2015   \n",
       "\n",
       "                                 Company       Altitude        Region  ...  \\\n",
       "1      metad agricultural developmet plc      1950-2200  guji-hambela  ...   \n",
       "2      metad agricultural developmet plc      1950-2200  guji-hambela  ...   \n",
       "3                                    NaN  1600 - 1800 m           NaN  ...   \n",
       "4  yidnekachew debessa coffee plantation      1800-2200        oromia  ...   \n",
       "5      metad agricultural developmet plc      1950-2200  guji-hambela  ...   \n",
       "\n",
       "  Category.Two.Defects        Expiration                  Certification.Body  \\\n",
       "1                    0   April 3rd, 2016  METAD Agricultural Development plc   \n",
       "2                    1   April 3rd, 2016  METAD Agricultural Development plc   \n",
       "3                    0    May 31st, 2011        Specialty Coffee Association   \n",
       "4                    2  March 25th, 2016  METAD Agricultural Development plc   \n",
       "5                    2   April 3rd, 2016  METAD Agricultural Development plc   \n",
       "\n",
       "                      Certification.Address  \\\n",
       "1  309fcf77415a3661ae83e027f7e5f05dad786e44   \n",
       "2  309fcf77415a3661ae83e027f7e5f05dad786e44   \n",
       "3  36d0d00a3724338ba7937c52a378d085f2172daa   \n",
       "4  309fcf77415a3661ae83e027f7e5f05dad786e44   \n",
       "5  309fcf77415a3661ae83e027f7e5f05dad786e44   \n",
       "\n",
       "                      Certification.Contact unit_of_measurement  \\\n",
       "1  19fef5a731de2db57d16da10287413f5f99bc2dd                   m   \n",
       "2  19fef5a731de2db57d16da10287413f5f99bc2dd                   m   \n",
       "3  0878a7d4b9d35ddbf0fe2ce69a2062cceb45a660                   m   \n",
       "4  19fef5a731de2db57d16da10287413f5f99bc2dd                   m   \n",
       "5  19fef5a731de2db57d16da10287413f5f99bc2dd                   m   \n",
       "\n",
       "  altitude_low_meters altitude_high_meters altitude_mean_meters  \\\n",
       "1              1950.0               2200.0               2075.0   \n",
       "2              1950.0               2200.0               2075.0   \n",
       "3              1600.0               1800.0               1700.0   \n",
       "4              1800.0               2200.0               2000.0   \n",
       "5              1950.0               2200.0               2075.0   \n",
       "\n",
       "   high_production  \n",
       "1            False  \n",
       "2            False  \n",
       "3             True  \n",
       "4            False  \n",
       "5            False  \n",
       "\n",
       "[5 rows x 44 columns]"
      ]
     },
     "execution_count": 28,
     "metadata": {},
     "output_type": "execute_result"
    }
   ],
   "source": [
    "coffee_df.head()"
   ]
  },
  {
   "cell_type": "markdown",
   "id": "ca54bdad",
   "metadata": {},
   "source": [
    "Finally, we can filter the whole data frame using that new column."
   ]
  },
  {
   "cell_type": "code",
   "execution_count": 29,
   "id": "09c9a711",
   "metadata": {},
   "outputs": [],
   "source": [
    "high_prod_coffee_df = coffee_df[coffee_df['high_production']]"
   ]
  },
  {
   "cell_type": "markdown",
   "id": "66a5eb4a",
   "metadata": {},
   "source": [
    "```{admonition} Question from class\n",
    "How can we get the ones not on that list?\n",
    "```"
   ]
  },
  {
   "cell_type": "code",
   "execution_count": 30,
   "id": "932c383a",
   "metadata": {},
   "outputs": [],
   "source": [
    "low_prod_coffee_df = coffee_df[coffee_df['high_production']==False]"
   ]
  },
  {
   "cell_type": "markdown",
   "id": "5cce9359",
   "metadata": {},
   "source": [
    "````{admonition} Try it Yourself\n",
    "\n",
    "Replace the FIXMEs in the excerpt below to reshape the data to have a value column with the value of the score\n",
    "and a Score column that indicates which score is in that . Keep the color and country as values\n",
    "\n",
    "```\n",
    "scores_of_interest = ['Balance','Aroma','Body','Aftertaste']\n",
    "attrs_of_interest = ['Country.of.Origin','Color']\n",
    "high_prod_coffee_df_melted = high_prod_coffee_df.melt(\n",
    "        id_vars = FIXME,\n",
    "        value_vars = FIXME,\n",
    "        value_name = 'Value',\n",
    "        var_name = 'Score')\n",
    "```\n",
    "\n",
    "so that it looks like the following\n",
    "````"
   ]
  },
  {
   "cell_type": "code",
   "execution_count": 31,
   "id": "9bea2bc5",
   "metadata": {
    "tags": [
     "hide-input"
    ]
   },
   "outputs": [
    {
     "data": {
      "text/html": [
       "<div>\n",
       "<style scoped>\n",
       "    .dataframe tbody tr th:only-of-type {\n",
       "        vertical-align: middle;\n",
       "    }\n",
       "\n",
       "    .dataframe tbody tr th {\n",
       "        vertical-align: top;\n",
       "    }\n",
       "\n",
       "    .dataframe thead th {\n",
       "        text-align: right;\n",
       "    }\n",
       "</style>\n",
       "<table border=\"1\" class=\"dataframe\">\n",
       "  <thead>\n",
       "    <tr style=\"text-align: right;\">\n",
       "      <th></th>\n",
       "      <th>Country.of.Origin</th>\n",
       "      <th>Color</th>\n",
       "      <th>Score</th>\n",
       "      <th>Value</th>\n",
       "    </tr>\n",
       "  </thead>\n",
       "  <tbody>\n",
       "    <tr>\n",
       "      <th>0</th>\n",
       "      <td>Guatemala</td>\n",
       "      <td>NaN</td>\n",
       "      <td>Balance</td>\n",
       "      <td>8.42</td>\n",
       "    </tr>\n",
       "    <tr>\n",
       "      <th>1</th>\n",
       "      <td>Brazil</td>\n",
       "      <td>Bluish-Green</td>\n",
       "      <td>Balance</td>\n",
       "      <td>8.33</td>\n",
       "    </tr>\n",
       "    <tr>\n",
       "      <th>2</th>\n",
       "      <td>Mexico</td>\n",
       "      <td>Green</td>\n",
       "      <td>Balance</td>\n",
       "      <td>8.17</td>\n",
       "    </tr>\n",
       "    <tr>\n",
       "      <th>3</th>\n",
       "      <td>Brazil</td>\n",
       "      <td>Green</td>\n",
       "      <td>Balance</td>\n",
       "      <td>8.00</td>\n",
       "    </tr>\n",
       "    <tr>\n",
       "      <th>4</th>\n",
       "      <td>Brazil</td>\n",
       "      <td>Green</td>\n",
       "      <td>Balance</td>\n",
       "      <td>8.00</td>\n",
       "    </tr>\n",
       "  </tbody>\n",
       "</table>\n",
       "</div>"
      ],
      "text/plain": [
       "  Country.of.Origin         Color    Score  Value\n",
       "0         Guatemala           NaN  Balance   8.42\n",
       "1            Brazil  Bluish-Green  Balance   8.33\n",
       "2            Mexico         Green  Balance   8.17\n",
       "3            Brazil         Green  Balance   8.00\n",
       "4            Brazil         Green  Balance   8.00"
      ]
     },
     "execution_count": 31,
     "metadata": {},
     "output_type": "execute_result"
    }
   ],
   "source": [
    "high_prod_coffee_df_melted = high_prod_coffee_df.melt(\n",
    "        id_vars = ['Country.of.Origin','Color'],\n",
    "        value_vars = ['Balance','Aroma','Body','Aftertaste'],\n",
    "        value_name = 'Value',\n",
    "        var_name = 'Score')\n",
    "\n",
    "high_prod_coffee_df_melted.head()"
   ]
  },
  {
   "cell_type": "markdown",
   "id": "3a833e5d",
   "metadata": {},
   "source": [
    "```{admonition} Try it Yourself\n",
    "Plot the distribution of each score on a separate subplot and use a different color for each country. Use a kde for the distributions.\n",
    "```"
   ]
  },
  {
   "cell_type": "code",
   "execution_count": 32,
   "id": "dd24e903",
   "metadata": {
    "tags": [
     "hide-input"
    ]
   },
   "outputs": [
    {
     "data": {
      "text/plain": [
       "<seaborn.axisgrid.FacetGrid at 0x7faa287fb610>"
      ]
     },
     "execution_count": 32,
     "metadata": {},
     "output_type": "execute_result"
    },
    {
     "data": {
      "image/png": "[encoded data removed]",
      "text/plain": [
       "<Figure size 1298.97x720 with 4 Axes>"
      ]
     },
     "metadata": {
      "filenames": {
       "image/png": "/home/runner/work/BrownFall21/BrownFall21/_build/jupyter_execute/notes/2021-09-27_54_1.png"
      }
     },
     "output_type": "display_data"
    }
   ],
   "source": [
    "sns.displot(data = high_prod_coffee_df_melted, x ='Value', hue = 'Country.of.Origin',\n",
    "            col = 'Score',col_wrap =2, aspect=1.5, kind = 'kde')"
   ]
  }
 ],
 "metadata": {
  "jupytext": {
   "text_representation": {
    "extension": ".md",
    "format_name": "myst",
    "format_version": 0.13,
    "jupytext_version": "1.10.3"
   }
  },
  "kernelspec": {
   "display_name": "Python 3",
   "language": "python",
   "name": "python3"
  },
  "language_info": {
   "codemirror_mode": {
    "name": "ipython",
    "version": 3
   },
   "file_extension": ".py",
   "mimetype": "text/x-python",
   "name": "python",
   "nbconvert_exporter": "python",
   "pygments_lexer": "ipython3",
   "version": "3.7.12"
  },
  "source_map": [
   12,
   24,
   30,
   51,
   57,
   61,
   65,
   69,
   71,
   79,
   81,
   83,
   85,
   89,
   91,
   94,
   96,
   99,
   104,
   106,
   116,
   118,
   121,
   123,
   129,
   135,
   142,
   144,
   149,
   152,
   155,
   158,
   162,
   164,
   168,
   172,
   175,
   180,
   182,
   185,
   187,
   191,
   193,
   196,
   198,
   201,
   205,
   207,
   211,
   213,
   220,
   222,
   243,
   253,
   259
  ]
 },
 "nbformat": 4,
 "nbformat_minor": 5
}