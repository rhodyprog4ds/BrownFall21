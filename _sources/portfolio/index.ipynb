{
 "cells": [
  {
   "cell_type": "markdown",
   "id": "ce691d92",
   "metadata": {},
   "source": [
    "# Portfolio Dates and Key Facts"
   ]
  },
  {
   "cell_type": "code",
   "execution_count": 1,
   "id": "9fc8dc9b",
   "metadata": {
    "tags": [
     "remove-input"
    ]
   },
   "outputs": [],
   "source": [
    "import yaml as yml\n",
    "import pandas as pd\n",
    "import os\n",
    "pd.set_option('display.max_colwidth', None)\n",
    "\n",
    "\n",
    "def yml_df(file):\n",
    "    with open(file, 'r') as f:\n",
    "        file_unparsed = f.read()\n",
    "\n",
    "    file_dict = yml.safe_load(file_unparsed)\n",
    "    return pd.DataFrame(file_dict)\n",
    "\n",
    "outcomes_df = yml_df('../_data/learning_outcomes.yml')\n",
    "outcomes_df.set_index('keyword',inplace=True)\n",
    "schedule_df = yml_df('../_data/schedule.yml')\n",
    "schedule_df.set_index('week', inplace=True)\n",
    "# schedule_df = pd.merge(schedule_df,outcomes_df,right_on='keyword',  left_on= 'clo')\n",
    "rubric_df = yml_df('../_data/rubric.yml')\n",
    "rubric_df.set_index('keyword', inplace=True)\n",
    "rubric_df.replace({None:'TBD'},inplace=True)\n",
    "rubric_df.rename(columns={'mastery':'Level 3',\n",
    "              'compentent':'Level 2',\n",
    "              'aware':'Level 1'}, inplace=True)"
   ]
  },
  {
   "cell_type": "code",
   "execution_count": 2,
   "id": "12e7c3ae",
   "metadata": {
    "tags": [
     "remove-input"
    ]
   },
   "outputs": [],
   "source": [
    "\n",
    "\n",
    "portfolio_dummies  = pd.get_dummies(rubric_df['portfolios'].apply(pd.Series).stack()).groupby(level=0).sum()\n",
    "col_rename = {float(i):'P' + str(i) for i in range(1,5)}\n",
    "portfolio_dummies.rename(columns =col_rename,inplace=True)\n",
    "\n",
    "\n",
    "rubric_df = pd.concat([rubric_df,\n",
    "                      portfolio_dummies],axis=1)\n",
    "\n",
    "\n",
    "portfolio_cols = [ 'Level 3'] + ['P' + str(i) for i in range(1,5)]\n",
    "portfolio_df = rubric_df[portfolio_cols]"
   ]
  },
  {
   "cell_type": "markdown",
   "id": "0bb728f5",
   "metadata": {},
   "source": [
    "This section of the site has a set of portfolio prompts and this page has instructions for portfolio submissions.  \n",
    "\n",
    "\n",
    "Starting in week 3 it is recommended that you spend some time each week working on items for your portfolio, that way when it's time to submit you only have a little bit to add before submission.\n",
    "The portfolio is your only chance to earn Level 3 achievements, however, if you have not earned a level 2 for any of the skills in a given check, you could earn level 2 then instead.\n",
    "The prompts provide a starting point, but remember that to earn achievements, you'll be evaluated by the rubric.\n",
    "You can see the full rubric for all portfolios in the [syllabus](portfolioskills).\n",
    "Your portfolio is also an opportunity to be creative, explore things, and answer your own questions that we haven't answered in class to dig deeper on the topics we're covering.\n",
    "Use the feedback you get on assignments to inspire your portfolio.\n",
    "\n",
    "Each submission should include an introduction and a number of 'chapters'.  The grade will be based on both that you demonstrate skills through your chapters that are inspired by the prompts and that your [summary](intro_reflection) demonstrates that you *know* you learned the skills. See the [formatting tips](formatting) for advice on how to structure files.\n",
    "\n",
    "\n",
    "On each chapter(for a file) of your portfolio, you should identify which skills by their keyword, you are applying.\n",
    "\n",
    "You can view a (fake) example [in this repository](https://github.com/rhodyprog4ds/portfolio-example) as a [pdf](https://github.com/rhodyprog4ds/portfolio-example/blob/gh-pages/portfolio.pdf) or as a [rendered website](https://rhodyprog4ds.github.io/portfolio-example/intro.html)\n",
    "\n",
    "## Current: Check 1\n",
    "\n",
    "The first portfolio check will be due {{ p1due }} and will cover the following skills."
   ]
  },
  {
   "cell_type": "code",
   "execution_count": 3,
   "id": "0ff6bbeb",
   "metadata": {
    "tags": [
     "remove-input"
    ]
   },
   "outputs": [
    {
     "data": {
      "text/html": [
       "<div>\n",
       "<style scoped>\n",
       "    .dataframe tbody tr th:only-of-type {\n",
       "        vertical-align: middle;\n",
       "    }\n",
       "\n",
       "    .dataframe tbody tr th {\n",
       "        vertical-align: top;\n",
       "    }\n",
       "\n",
       "    .dataframe thead th {\n",
       "        text-align: right;\n",
       "    }\n",
       "</style>\n",
       "<table border=\"1\" class=\"dataframe\">\n",
       "  <thead>\n",
       "    <tr style=\"text-align: right;\">\n",
       "      <th></th>\n",
       "      <th>Level 3</th>\n",
       "      <th>P1</th>\n",
       "      <th>P2</th>\n",
       "      <th>P3</th>\n",
       "      <th>P4</th>\n",
       "    </tr>\n",
       "    <tr>\n",
       "      <th>keyword</th>\n",
       "      <th></th>\n",
       "      <th></th>\n",
       "      <th></th>\n",
       "      <th></th>\n",
       "      <th></th>\n",
       "    </tr>\n",
       "  </thead>\n",
       "  <tbody>\n",
       "    <tr>\n",
       "      <th>python</th>\n",
       "      <td>reliable, efficient, pythonic code that consistently adheres to pep8</td>\n",
       "      <td>1</td>\n",
       "      <td>1</td>\n",
       "      <td>0</td>\n",
       "      <td>0</td>\n",
       "    </tr>\n",
       "    <tr>\n",
       "      <th>access</th>\n",
       "      <td>access data from both common and uncommon formats and identify best practices for formats in different contexts</td>\n",
       "      <td>1</td>\n",
       "      <td>1</td>\n",
       "      <td>0</td>\n",
       "      <td>0</td>\n",
       "    </tr>\n",
       "    <tr>\n",
       "      <th>construct</th>\n",
       "      <td>merge data that is not automatically aligned</td>\n",
       "      <td>1</td>\n",
       "      <td>1</td>\n",
       "      <td>0</td>\n",
       "      <td>0</td>\n",
       "    </tr>\n",
       "    <tr>\n",
       "      <th>summarize</th>\n",
       "      <td>Compute and interpret various summary statistics of subsets of data</td>\n",
       "      <td>1</td>\n",
       "      <td>1</td>\n",
       "      <td>0</td>\n",
       "      <td>0</td>\n",
       "    </tr>\n",
       "    <tr>\n",
       "      <th>visualize</th>\n",
       "      <td>generate complex plots with pandas and plotting libraries and customize with matplotlib or additional parameters</td>\n",
       "      <td>1</td>\n",
       "      <td>1</td>\n",
       "      <td>0</td>\n",
       "      <td>0</td>\n",
       "    </tr>\n",
       "    <tr>\n",
       "      <th>prepare</th>\n",
       "      <td>apply data reshaping, cleaning, and filtering manipulations reliably and correctly by assessing data as received</td>\n",
       "      <td>1</td>\n",
       "      <td>1</td>\n",
       "      <td>0</td>\n",
       "      <td>0</td>\n",
       "    </tr>\n",
       "  </tbody>\n",
       "</table>\n",
       "</div>"
      ],
      "text/plain": [
       "                                                                                                                    Level 3  \\\n",
       "keyword                                                                                                                       \n",
       "python                                                 reliable, efficient, pythonic code that consistently adheres to pep8   \n",
       "access      access data from both common and uncommon formats and identify best practices for formats in different contexts   \n",
       "construct                                                                      merge data that is not automatically aligned   \n",
       "summarize                                               Compute and interpret various summary statistics of subsets of data   \n",
       "visualize  generate complex plots with pandas and plotting libraries and customize with matplotlib or additional parameters   \n",
       "prepare    apply data reshaping, cleaning, and filtering manipulations reliably and correctly by assessing data as received   \n",
       "\n",
       "           P1  P2  P3  P4  \n",
       "keyword                    \n",
       "python      1   1   0   0  \n",
       "access      1   1   0   0  \n",
       "construct   1   1   0   0  \n",
       "summarize   1   1   0   0  \n",
       "visualize   1   1   0   0  \n",
       "prepare     1   1   0   0  "
      ]
     },
     "execution_count": 3,
     "metadata": {},
     "output_type": "execute_result"
    }
   ],
   "source": [
    "portfolio_df[portfolio_df['P1']==1]"
   ]
  },
  {
   "cell_type": "markdown",
   "id": "84c7884c",
   "metadata": {},
   "source": [
    "- [ ] update your gh action or precommit hook\n",
    "- [ ] complete your KWL chart ({ref})\n",
    "\n",
    "## Upcoming Checks\n",
    "\n",
    "- Check 2: {{ p2due }}  \n",
    "- Check 3: {{ p3due }}  \n",
    "- Check 4: {{ p4due }}  \n",
    "\n",
    "\n",
    "<!--\n",
    "```{code-cell} ipython3\n",
    ":tags: [remove-input]\n",
    "\n",
    "portfolio_df['Level 3'][portfolio_df['P2']==1].reset_index().set_index('keyword')\n",
    "```\n",
    "\n",
    "\n",
    "\n",
    "\n",
    "The third submission will be graded on the following criteria and due on December 4:\n",
    "\n",
    "```{code-cell} ipython3\n",
    ":tags: [remove-input]\n",
    "\n",
    "portfolio_df['Level 3'][portfolio_df['P3']==1].reset_index().set_index('keyword')\n",
    "```\n",
    "\n",
    "\n",
    "```{code-cell} ipython3\n",
    ":tags: [remove-input]\n",
    "\n",
    "portfolio_df['Level 3'][portfolio_df['P4']==1].reset_index().set_index('keyword')\n",
    "```\n",
    " -->"
   ]
  }
 ],
 "metadata": {
  "jupytext": {
   "text_representation": {
    "extension": ".md",
    "format_name": "myst",
    "format_version": 0.13,
    "jupytext_version": "1.10.3"
   }
  },
  "kernelspec": {
   "display_name": "Python 3",
   "language": "python",
   "name": "python3"
  },
  "language_info": {
   "codemirror_mode": {
    "name": "ipython",
    "version": 3
   },
   "file_extension": ".py",
   "mimetype": "text/x-python",
   "name": "python",
   "nbconvert_exporter": "python",
   "pygments_lexer": "ipython3",
   "version": "3.7.12"
  },
  "source_map": [
   12,
   16,
   46,
   62,
   85,
   89
  ]
 },
 "nbformat": 4,
 "nbformat_minor": 5
}