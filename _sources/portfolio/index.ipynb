{
 "cells": [
  {
   "cell_type": "markdown",
   "id": "81e29efd",
   "metadata": {},
   "source": [
    "# Portfolio Dates and Key Facts"
   ]
  },
  {
   "cell_type": "code",
   "execution_count": 1,
   "id": "be14ddf1",
   "metadata": {
    "tags": [
     "remove-input"
    ]
   },
   "outputs": [],
   "source": [
    "import yaml as yml\n",
    "import pandas as pd\n",
    "import os\n",
    "pd.set_option('display.max_colwidth', None)\n",
    "\n",
    "\n",
    "def yml_df(file):\n",
    "    with open(file, 'r') as f:\n",
    "        file_unparsed = f.read()\n",
    "\n",
    "    file_dict = yml.safe_load(file_unparsed)\n",
    "    return pd.DataFrame(file_dict)\n",
    "\n",
    "outcomes_df = yml_df('../_data/learning_outcomes.yml')\n",
    "outcomes_df.set_index('keyword',inplace=True)\n",
    "schedule_df = yml_df('../_data/schedule.yml')\n",
    "schedule_df.set_index('week', inplace=True)\n",
    "# schedule_df = pd.merge(schedule_df,outcomes_df,right_on='keyword',  left_on= 'clo')\n",
    "rubric_df = yml_df('../_data/rubric.yml')\n",
    "rubric_df.set_index('keyword', inplace=True)\n",
    "rubric_df.replace({None:'TBD'},inplace=True)\n",
    "rubric_df.rename(columns={'mastery':'Level 3',\n",
    "              'compentent':'Level 2',\n",
    "              'aware':'Level 1'}, inplace=True)"
   ]
  },
  {
   "cell_type": "code",
   "execution_count": 2,
   "id": "f984cac9",
   "metadata": {
    "tags": [
     "remove-input"
    ]
   },
   "outputs": [
    {
     "ename": "NameError",
     "evalue": "name 'assignment_dummies' is not defined",
     "output_type": "error",
     "traceback": [
      "\u001b[0;31m---------------------------------------------------------------------------\u001b[0m",
      "\u001b[0;31mNameError\u001b[0m                                 Traceback (most recent call last)",
      "\u001b[0;32m/tmp/ipykernel_2002/311973014.py\u001b[0m in \u001b[0;36m<module>\u001b[0;34m\u001b[0m\n\u001b[1;32m      5\u001b[0m \u001b[0;34m\u001b[0m\u001b[0m\n\u001b[1;32m      6\u001b[0m rubric_df = pd.concat([rubric_df,\n\u001b[0;32m----> 7\u001b[0;31m                       \u001b[0massignment_dummies\u001b[0m\u001b[0;34m,\u001b[0m\u001b[0;34m\u001b[0m\u001b[0;34m\u001b[0m\u001b[0m\n\u001b[0m\u001b[1;32m      8\u001b[0m                       portfolio_dummies],axis=1)\n\u001b[1;32m      9\u001b[0m \u001b[0;34m\u001b[0m\u001b[0m\n",
      "\u001b[0;31mNameError\u001b[0m: name 'assignment_dummies' is not defined"
     ]
    }
   ],
   "source": [
    "\n",
    "\n",
    "portfolio_dummies  = pd.get_dummies(rubric_df['portfolios'].apply(pd.Series).stack()).groupby(level=0).sum()\n",
    "col_rename = {float(i):'P' + str(i) for i in range(1,5)}\n",
    "portfolio_dummies.rename(columns =col_rename,inplace=True)\n",
    "\n",
    "\n",
    "rubric_df = pd.concat([rubric_df,\n",
    "                      assignment_dummies,\n",
    "                      portfolio_dummies],axis=1)\n",
    "\n",
    "assignment_cols =  ['A'+ str(i) for i in range(1,14)] + ['# Assignments']\n",
    "\n",
    "portfolio_cols = [ 'Level 3'] + ['P' + str(i) for i in range(1,5)]\n",
    "portfolio_df = rubric_df[portfolio_cols]"
   ]
  },
  {
   "cell_type": "markdown",
   "id": "17c1fe41",
   "metadata": {},
   "source": [
    "This section of the site has a set of portfolio prompts and this page has instructions for portfolio submissions.  \n",
    "\n",
    "\n",
    "Starting in week 3 it is recommended that you spend some time each week working on items for your portfolio, that way when it's time to submit you only have a little bit to add before submission.\n",
    "The portfolio is your only chance to earn Level 3 achievements, however, if you have not earned a level 2 for any of the skills in a given check, you could earn level 2 then instead.\n",
    "The prompts provide a starting point, but remember that to earn achievements, you'll be evaluated by the rubric.\n",
    "You can see the full rubric for all portfolios in the [syllabus](portfolioskills).\n",
    "Your portfolio is also an opportunity to be creative, explore things, and answer your own questions that we haven't answered in class to dig deeper on the topics we're covering.\n",
    "Use the feedback you get on assignments to inspire your portfolio.\n",
    "\n",
    "Each submission should include an introduction and a number of 'chapters'.  The grade will be based on both that you demonstrate skills through your chapters that are inspired by the prompts and that your [summary](intro_reflection) demonstrates that you *know* you learned the skills. See the [formatting tips](formatting) for advice on how to structure files.\n",
    "\n",
    "\n",
    "On each chapter(for a file) of your portfolio, you should identify which skills by their keyword, you are applying.\n",
    "\n",
    "You can view a (fake) example [in this repository](https://github.com/rhodyprog4ds/portfolio-example) as a [pdf](https://github.com/rhodyprog4ds/portfolio-example/blob/gh-pages/portfolio.pdf) or as a [rendered website](https://rhodyprog4ds.github.io/portfolio-example/intro.html)\n",
    "\n",
    "## Current: Check 1\n",
    "\n",
    "The first portfolio check will be due {{ p1due }} and will cover the following skills."
   ]
  },
  {
   "cell_type": "code",
   "execution_count": 3,
   "id": "aea8fd95",
   "metadata": {
    "tags": [
     "remove-input"
    ]
   },
   "outputs": [
    {
     "ename": "NameError",
     "evalue": "name 'portfolio_df' is not defined",
     "output_type": "error",
     "traceback": [
      "\u001b[0;31m---------------------------------------------------------------------------\u001b[0m",
      "\u001b[0;31mNameError\u001b[0m                                 Traceback (most recent call last)",
      "\u001b[0;32m/tmp/ipykernel_2002/2819809228.py\u001b[0m in \u001b[0;36m<module>\u001b[0;34m\u001b[0m\n\u001b[0;32m----> 1\u001b[0;31m \u001b[0mportfolio_df\u001b[0m\u001b[0;34m[\u001b[0m\u001b[0mportfolio_df\u001b[0m\u001b[0;34m[\u001b[0m\u001b[0;34m'P1'\u001b[0m\u001b[0;34m]\u001b[0m\u001b[0;34m==\u001b[0m\u001b[0;36m1\u001b[0m\u001b[0;34m]\u001b[0m\u001b[0;34m\u001b[0m\u001b[0;34m\u001b[0m\u001b[0m\n\u001b[0m",
      "\u001b[0;31mNameError\u001b[0m: name 'portfolio_df' is not defined"
     ]
    }
   ],
   "source": [
    "portfolio_df[portfolio_df['P1']==1]"
   ]
  },
  {
   "cell_type": "markdown",
   "id": "04b9849a",
   "metadata": {},
   "source": [
    "- [ ] update your gh action or precommit hook\n",
    "- [ ] complete your KWL chart ({ref})\n",
    "\n",
    "## Upcoming Checks\n",
    "\n",
    "- Check 2: {{ p2due }}  \n",
    "- Check 3: {{ p3due }}  \n",
    "- Check 4: {{ p4due }}  \n",
    "\n",
    "\n",
    "<!--\n",
    "```{code-cell} ipython3\n",
    ":tags: [remove-input]\n",
    "\n",
    "portfolio_df['Level 3'][portfolio_df['P2']==1].reset_index().set_index('keyword')\n",
    "```\n",
    "\n",
    "\n",
    "\n",
    "\n",
    "The third submission will be graded on the following criteria and due on December 4:\n",
    "\n",
    "```{code-cell} ipython3\n",
    ":tags: [remove-input]\n",
    "\n",
    "portfolio_df['Level 3'][portfolio_df['P3']==1].reset_index().set_index('keyword')\n",
    "```\n",
    "\n",
    "\n",
    "```{code-cell} ipython3\n",
    ":tags: [remove-input]\n",
    "\n",
    "portfolio_df['Level 3'][portfolio_df['P4']==1].reset_index().set_index('keyword')\n",
    "```\n",
    " -->"
   ]
  }
 ],
 "metadata": {
  "jupytext": {
   "text_representation": {
    "extension": ".md",
    "format_name": "myst",
    "format_version": 0.13,
    "jupytext_version": "1.10.3"
   }
  },
  "kernelspec": {
   "display_name": "Python 3",
   "language": "python",
   "name": "python3"
  },
  "language_info": {
   "codemirror_mode": {
    "name": "ipython",
    "version": 3
   },
   "file_extension": ".py",
   "mimetype": "text/x-python",
   "name": "python",
   "nbconvert_exporter": "python",
   "pygments_lexer": "ipython3",
   "version": "3.7.12"
  },
  "source_map": [
   12,
   16,
   46,
   64,
   87,
   91
  ]
 },
 "nbformat": 4,
 "nbformat_minor": 5
}